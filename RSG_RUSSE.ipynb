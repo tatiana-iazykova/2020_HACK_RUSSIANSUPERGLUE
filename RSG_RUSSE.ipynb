{
  "nbformat": 4,
  "nbformat_minor": 0,
  "metadata": {
    "colab": {
      "name": "RSG_RUSSE .ipynb",
      "provenance": [],
      "collapsed_sections": [
        "RQCtN9CknDMH",
        "yUz8ovXonGUV",
        "9Wb3fB0LorSc",
        "hROuboI4O47_",
        "IDr9yTK6YHl-",
        "Lr75O558GsoL"
      ],
      "toc_visible": true
    },
    "kernelspec": {
      "name": "python3",
      "display_name": "Python 3"
    }
  },
  "cells": [
    {
      "cell_type": "markdown",
      "metadata": {
        "id": "xGZSqd8Rb6_D"
      },
      "source": [
        "**Результаты so far:**\r\n",
        "\r\n",
        "*   Баланс классов в train/valid почти не отличается (разница меньше 1%)\r\n",
        "*   SOTA Accuracy на лидерборде = 0.99 (mBART)\r\n",
        "*   Воспроизведен бейзлай RSG (Accuracy 0.66 на валидации)\r\n",
        "*   Тюнинг параметров Tf-idf (Accuracy 0.63 на валидации) \r\n",
        "\r\n",
        "\r\n",
        "**TODOS**\r\n",
        "*  Эвристики\r\n",
        "*  Ошибки в разметке\r\n"
      ]
    },
    {
      "cell_type": "markdown",
      "metadata": {
        "id": "RQCtN9CknDMH"
      },
      "source": [
        "# Data"
      ]
    },
    {
      "cell_type": "code",
      "metadata": {
        "id": "FpR1j_wefIYD"
      },
      "source": [
        "%%capture\n",
        "%%bash\n",
        "# change url if you want to work with a different RSG dataset\n",
        "wget -q --show-progress \"https://russiansuperglue.com/tasks/download/RUSSE\" -O temp.zip\n",
        "unzip temp.zip -d data\n",
        "\n",
        "# remove unnecessary directories and files\n",
        "rm temp.zip\n",
        "rm -r data/__MACOSX\n",
        "rm -r sample_data/"
      ],
      "execution_count": 1,
      "outputs": []
    },
    {
      "cell_type": "code",
      "metadata": {
        "id": "6B35hR1UfhM-"
      },
      "source": [
        "import pandas as pd\n",
        "pd.set_option('display.max_colwidth', 1000)\n",
        "pd.set_option('display.max_rows', 1000)\n",
        "\n",
        "class JSONL_handler():\n",
        "    \"\"\" opens a jsonl file and turns it into a necessary data structure \"\"\"\n",
        "    \n",
        "    def __init__(self, path):\n",
        "        self.path = path # path to jsonl file\n",
        "\n",
        "    def to_pandas(self):\n",
        "        \"\"\" get jsonl file content as a pandas DataFrame\"\"\"\n",
        "        return pd.read_json(path_or_buf=self.path, lines=True)"
      ],
      "execution_count": 2,
      "outputs": []
    },
    {
      "cell_type": "code",
      "metadata": {
        "id": "IvQYkbBoFb8y"
      },
      "source": [
        "train = JSONL_handler('data/RUSSE/train.jsonl')\r\n",
        "train = train.to_pandas()\r\n",
        "\r\n",
        "valid = JSONL_handler('data/RUSSE/val.jsonl')\r\n",
        "valid = valid.to_pandas()"
      ],
      "execution_count": 3,
      "outputs": []
    },
    {
      "cell_type": "code",
      "metadata": {
        "colab": {
          "base_uri": "https://localhost:8080/",
          "height": 435
        },
        "id": "sHG40xUs8-e_",
        "outputId": "7eccc0eb-c7a5-4d69-9ead-1aea7e1b1b3f"
      },
      "source": [
        "train.head(3)"
      ],
      "execution_count": 4,
      "outputs": [
        {
          "output_type": "execute_result",
          "data": {
            "text/html": [
              "<div>\n",
              "<style scoped>\n",
              "    .dataframe tbody tr th:only-of-type {\n",
              "        vertical-align: middle;\n",
              "    }\n",
              "\n",
              "    .dataframe tbody tr th {\n",
              "        vertical-align: top;\n",
              "    }\n",
              "\n",
              "    .dataframe thead th {\n",
              "        text-align: right;\n",
              "    }\n",
              "</style>\n",
              "<table border=\"1\" class=\"dataframe\">\n",
              "  <thead>\n",
              "    <tr style=\"text-align: right;\">\n",
              "      <th></th>\n",
              "      <th>idx</th>\n",
              "      <th>word</th>\n",
              "      <th>sentence1</th>\n",
              "      <th>sentence2</th>\n",
              "      <th>start1</th>\n",
              "      <th>end1</th>\n",
              "      <th>start2</th>\n",
              "      <th>end2</th>\n",
              "      <th>label</th>\n",
              "      <th>gold_sense1</th>\n",
              "      <th>gold_sense2</th>\n",
              "    </tr>\n",
              "  </thead>\n",
              "  <tbody>\n",
              "    <tr>\n",
              "      <th>0</th>\n",
              "      <td>0</td>\n",
              "      <td>двор</td>\n",
              "      <td>В нашей деревне осталось от силы двадцать дворов</td>\n",
              "      <td>Солнце стояло уже высоко, когда справа от дороги я увидел деревеньку дворов в пятнадцать</td>\n",
              "      <td>42</td>\n",
              "      <td>49</td>\n",
              "      <td>69</td>\n",
              "      <td>76</td>\n",
              "      <td>True</td>\n",
              "      <td>1</td>\n",
              "      <td>1</td>\n",
              "    </tr>\n",
              "    <tr>\n",
              "      <th>1</th>\n",
              "      <td>1</td>\n",
              "      <td>доклад</td>\n",
              "      <td>Табличка на дверях: «Без доклада не входить»</td>\n",
              "      <td>Вчера отбыл в столицу первый секретарь обкома […], вызванный то ли «на ковёр», то ли на сезонный доклад об урожае</td>\n",
              "      <td>25</td>\n",
              "      <td>33</td>\n",
              "      <td>97</td>\n",
              "      <td>104</td>\n",
              "      <td>False</td>\n",
              "      <td>4</td>\n",
              "      <td>2</td>\n",
              "    </tr>\n",
              "    <tr>\n",
              "      <th>2</th>\n",
              "      <td>2</td>\n",
              "      <td>засада</td>\n",
              "      <td>У нас вообще […] засада с героями, способными дотягивать в жизни до собственного творчества</td>\n",
              "      <td>Там в воскресенье все магазины закрыты – вот ведь засада!</td>\n",
              "      <td>17</td>\n",
              "      <td>24</td>\n",
              "      <td>50</td>\n",
              "      <td>57</td>\n",
              "      <td>True</td>\n",
              "      <td>2</td>\n",
              "      <td>2</td>\n",
              "    </tr>\n",
              "  </tbody>\n",
              "</table>\n",
              "</div>"
            ],
            "text/plain": [
              "   idx    word  ... gold_sense1 gold_sense2\n",
              "0    0    двор  ...           1           1\n",
              "1    1  доклад  ...           4           2\n",
              "2    2  засада  ...           2           2\n",
              "\n",
              "[3 rows x 11 columns]"
            ]
          },
          "metadata": {
            "tags": []
          },
          "execution_count": 4
        }
      ]
    },
    {
      "cell_type": "markdown",
      "metadata": {
        "id": "yUz8ovXonGUV"
      },
      "source": [
        "# Data Exploration"
      ]
    },
    {
      "cell_type": "code",
      "metadata": {
        "id": "dk3eArpSFGvK"
      },
      "source": [
        "import matplotlib.pyplot as plt"
      ],
      "execution_count": 5,
      "outputs": []
    },
    {
      "cell_type": "code",
      "metadata": {
        "colab": {
          "base_uri": "https://localhost:8080/",
          "height": 232
        },
        "id": "7GfXs-cBFFlk",
        "outputId": "911d765b-82e4-487a-b98d-77b588ad284b"
      },
      "source": [
        "# Train/Valid Label Distribution \r\n",
        "\r\n",
        "plt.subplot(1,2,1)\r\n",
        "plt.title('Label distribution\\n in Train dataset\\n', fontsize=14)\r\n",
        "plt.pie(train['label'].value_counts(), \r\n",
        "        autopct=\"%.1f%%\", \r\n",
        "        labels=train['label'].value_counts().keys(), pctdistance=0.5, \r\n",
        "        textprops = dict(fontsize = 12))\r\n",
        "\r\n",
        "plt.subplot(1,2,2)\r\n",
        "plt.title('Label distribution\\n in Validation dataset\\n', fontsize=14)\r\n",
        "plt.pie(valid['label'].value_counts(), \r\n",
        "        autopct=\"%.1f%%\", \r\n",
        "        labels=valid['label'].value_counts().keys(), pctdistance=0.5, \r\n",
        "        textprops = dict(fontsize = 12))\r\n",
        "plt.show()"
      ],
      "execution_count": 6,
      "outputs": [
        {
          "output_type": "display_data",
          "data": {
            "image/png": "[encoded data removed]",
            "text/plain": [
              "<Figure size 432x288 with 2 Axes>"
            ]
          },
          "metadata": {
            "tags": []
          }
        }
      ]
    },
    {
      "cell_type": "code",
      "metadata": {
        "colab": {
          "base_uri": "https://localhost:8080/"
        },
        "id": "HtgOkvybG-jo",
        "outputId": "7658a45c-411c-497d-92f1-4c5344537df8"
      },
      "source": [
        "print(f\"Train datasen contains {len(train)} samples.\")\r\n",
        "print(f\"Valid dataset contains {len(valid)} samples.\")"
      ],
      "execution_count": 7,
      "outputs": [
        {
          "output_type": "stream",
          "text": [
            "Train datasen contains 19845 samples.\n",
            "Valid dataset contains 8505 samples.\n"
          ],
          "name": "stdout"
        }
      ]
    },
    {
      "cell_type": "code",
      "metadata": {
        "colab": {
          "base_uri": "https://localhost:8080/"
        },
        "id": "wP3XKmPoQzZO",
        "outputId": "671c7546-c2a5-4f5d-eab2-7d7c3346d6cf"
      },
      "source": [
        "train.word.value_counts()[:10]"
      ],
      "execution_count": 8,
      "outputs": [
        {
          "output_type": "execute_result",
          "data": {
            "text/plain": [
              "дело        717\n",
              "дух         665\n",
              "единица     563\n",
              "защита      505\n",
              "знак        441\n",
              "диск        439\n",
              "действие    382\n",
              "закон       365\n",
              "задержка    353\n",
              "день        333\n",
              "Name: word, dtype: int64"
            ]
          },
          "metadata": {
            "tags": []
          },
          "execution_count": 8
        }
      ]
    },
    {
      "cell_type": "code",
      "metadata": {
        "colab": {
          "base_uri": "https://localhost:8080/"
        },
        "id": "Xuivwr68WRh1",
        "outputId": "d2a6a820-be82-43a3-a69e-26df2a6a641d"
      },
      "source": [
        "train.word.value_counts(normalize=True)[:10]"
      ],
      "execution_count": 9,
      "outputs": [
        {
          "output_type": "execute_result",
          "data": {
            "text/plain": [
              "дело        0.036130\n",
              "дух         0.033510\n",
              "единица     0.028370\n",
              "защита      0.025447\n",
              "знак        0.022222\n",
              "диск        0.022121\n",
              "действие    0.019249\n",
              "закон       0.018393\n",
              "задержка    0.017788\n",
              "день        0.016780\n",
              "Name: word, dtype: float64"
            ]
          },
          "metadata": {
            "tags": []
          },
          "execution_count": 9
        }
      ]
    },
    {
      "cell_type": "markdown",
      "metadata": {
        "id": "2X3ThEhLJ7H5"
      },
      "source": [
        "# Base Models"
      ]
    },
    {
      "cell_type": "markdown",
      "metadata": {
        "id": "hROuboI4O47_"
      },
      "source": [
        "## RSG Baseline"
      ]
    },
    {
      "cell_type": "code",
      "metadata": {
        "id": "eXVLSTWVO--P"
      },
      "source": [
        "%%capture\r\n",
        "%%bash\r\n",
        "wget -q --show-progress \"https://russiansuperglue.com/tasks/tf_idf\" -O temp.zip\r\n",
        "unzip temp.zip -d data"
      ],
      "execution_count": 10,
      "outputs": []
    },
    {
      "cell_type": "code",
      "metadata": {
        "id": "Y5_cYVlgO4O-"
      },
      "source": [
        "import joblib\r\n",
        "import codecs\r\n",
        "import json\r\n",
        "\r\n",
        "from sklearn.feature_extraction.text import CountVectorizer, TfidfVectorizer\r\n",
        "from sklearn.linear_model import LogisticRegression"
      ],
      "execution_count": 11,
      "outputs": []
    },
    {
      "cell_type": "code",
      "metadata": {
        "id": "Q-bg2zwGPAU1",
        "colab": {
          "base_uri": "https://localhost:8080/"
        },
        "outputId": "a09d33de-ba0a-4f99-e633-cb0df14f878a"
      },
      "source": [
        "vect = joblib.load(\"data/tfidf.pkl\")"
      ],
      "execution_count": 12,
      "outputs": [
        {
          "output_type": "stream",
          "text": [
            "/usr/local/lib/python3.6/dist-packages/sklearn/base.py:318: UserWarning: Trying to unpickle estimator TfidfTransformer from version 0.21.3 when using version 0.22.2.post1. This might lead to breaking code or invalid results. Use at your own risk.\n",
            "  UserWarning)\n",
            "/usr/local/lib/python3.6/dist-packages/sklearn/base.py:318: UserWarning: Trying to unpickle estimator TfidfVectorizer from version 0.21.3 when using version 0.22.2.post1. This might lead to breaking code or invalid results. Use at your own risk.\n",
            "  UserWarning)\n"
          ],
          "name": "stderr"
        }
      ]
    },
    {
      "cell_type": "code",
      "metadata": {
        "colab": {
          "base_uri": "https://localhost:8080/"
        },
        "id": "O0GHM2aoWPb5",
        "outputId": "4c42bd66-1f48-473b-9340-224cf985621d"
      },
      "source": [
        "# taken from https://github.com/RussianNLP/RussianSuperGLUE/blob/master/tfidf_baseline/RUSSE.py\r\n",
        "import codecs\r\n",
        "import json\r\n",
        "from sklearn.linear_model import LogisticRegression\r\n",
        "from sklearn.metrics import classification_report\r\n",
        "\r\n",
        "def build_feature_RUSSE(row):\r\n",
        "    sentence1 = row[\"sentence1\"].strip()\r\n",
        "    sentence2 = row[\"sentence2\"].strip()\r\n",
        "    word = row[\"word\"].strip()\r\n",
        "    label = row.get(\"label\")\r\n",
        "    res = f\"{sentence1} {sentence2} {word}\"\r\n",
        "    return res, label\r\n",
        "\r\n",
        "\r\n",
        "def build_features_RUSSE(path, vect):\r\n",
        "    with codecs.open(path, encoding='utf-8-sig') as reader:\r\n",
        "        lines = reader.read().split(\"\\n\")\r\n",
        "        lines = list(map(json.loads, filter(None, lines)))\r\n",
        "    res = list(map(build_feature_RUSSE, lines))\r\n",
        "    texts = list(map(lambda x: x[0], res))\r\n",
        "    labels = list(map(lambda x: x[1], res))\r\n",
        "    ids = [x[\"idx\"] for x in lines]\r\n",
        "    return (vect.transform(texts), labels), ids\r\n",
        "\r\n",
        "\r\n",
        "def fit_RUSSE(train, labels):\r\n",
        "    clf = LogisticRegression()\r\n",
        "    return clf.fit(train, labels)\r\n",
        "\r\n",
        "\r\n",
        "def eval_RUSSE(train_path, val_path, test_path, vect):\r\n",
        "    train, _ = build_features_RUSSE(train_path, vect)\r\n",
        "    val, _ = build_features_RUSSE(val_path, vect)\r\n",
        "    test, ids = build_features_RUSSE(test_path, vect)\r\n",
        "    clf = fit_RUSSE(*train)\r\n",
        "    try:\r\n",
        "        test_score = clf.score(*test)\r\n",
        "    except ValueError:\r\n",
        "        test_score = None\r\n",
        "    val_pred = clf.predict(val[0])\r\n",
        "    print(classification_report(val[1], val_pred))\r\n",
        "    return clf, {\r\n",
        "        \"train\": clf.score(*train),\r\n",
        "        \"val\": clf.score(*val),\r\n",
        "        \"test\": test_score,\r\n",
        "    }\r\n",
        "\r\n",
        "\r\n",
        "train_path = \"data/RUSSE/train.jsonl\"\r\n",
        "val_path = \"data/RUSSE/val.jsonl\"\r\n",
        "test_path = \"data/RUSSE/test.jsonl\"\r\n",
        "\r\n",
        "_, RUSSE_scores = eval_RUSSE(train_path, val_path, test_path, vect)\r\n",
        "train_scr = RUSSE_scores['train']\r\n",
        "valid_scr = RUSSE_scores['val']\r\n",
        "\r\n",
        "\r\n",
        "print(f\"Accuracy Score on Train: {train_scr}\") # should be around 0.71\r\n",
        "\r\n",
        "print(f\"Accuracy Score on Valid: {valid_scr}\") # should be around 0.66"
      ],
      "execution_count": 13,
      "outputs": [
        {
          "output_type": "stream",
          "text": [
            "              precision    recall  f1-score   support\n",
            "\n",
            "       False       0.68      0.90      0.77      5366\n",
            "        True       0.61      0.26      0.36      3139\n",
            "\n",
            "    accuracy                           0.67      8505\n",
            "   macro avg       0.64      0.58      0.57      8505\n",
            "weighted avg       0.65      0.67      0.62      8505\n",
            "\n",
            "Accuracy Score on Train: 0.7103552532123961\n",
            "Accuracy Score on Valid: 0.6654908877131099\n"
          ],
          "name": "stdout"
        }
      ]
    },
    {
      "cell_type": "markdown",
      "metadata": {
        "id": "IDr9yTK6YHl-"
      },
      "source": [
        "## Modified"
      ]
    },
    {
      "cell_type": "code",
      "metadata": {
        "id": "3pQ9rlJ9bQRw"
      },
      "source": [
        "from sklearn.feature_extraction.text import CountVectorizer, TfidfVectorizer\r\n",
        "from sklearn.linear_model import LogisticRegression\r\n",
        "\r\n",
        "import numpy as np\r\n",
        "\r\n",
        "from sklearn.model_selection import train_test_split\r\n",
        "from sklearn.metrics import classification_report, accuracy_score, f1_score\r\n",
        "\r\n",
        "from sklearn.metrics.pairwise import cosine_distances, cosine_similarity\r\n",
        "from sklearn.model_selection import GridSearchCV\r\n",
        "from sklearn.model_selection import cross_val_score"
      ],
      "execution_count": 14,
      "outputs": []
    },
    {
      "cell_type": "code",
      "metadata": {
        "id": "bTCo22HdYSKK"
      },
      "source": [
        "# concatenate columns \r\n",
        "\r\n",
        "def build_feature_RUSSE(row):\r\n",
        "    sentence1 = row[\"sentence1\"].strip()\r\n",
        "    sentence2 = row[\"sentence2\"].strip()\r\n",
        "    word = row[\"word\"].strip()\r\n",
        "    res = f\"{sentence1} {sentence2} {word}\"\r\n",
        "    return res\r\n",
        "\r\n",
        "train_concat = []\r\n",
        "for i, row in train.iterrows():\r\n",
        "    train_concat.append(build_feature_RUSSE(row))\r\n",
        "train['concatenated'] = train_concat\r\n",
        "\r\n",
        "valid_concat = []\r\n",
        "for i, row in valid.iterrows():\r\n",
        "    valid_concat.append(build_feature_RUSSE(row))\r\n",
        "valid['concatenated'] =  valid_concat"
      ],
      "execution_count": 15,
      "outputs": []
    },
    {
      "cell_type": "code",
      "metadata": {
        "colab": {
          "base_uri": "https://localhost:8080/",
          "height": 650
        },
        "id": "ckvqC7xPaA6z",
        "outputId": "fc746820-c5c3-4442-9cfa-20ca328dc803"
      },
      "source": [
        "train.head(2)"
      ],
      "execution_count": 16,
      "outputs": [
        {
          "output_type": "execute_result",
          "data": {
            "text/html": [
              "<div>\n",
              "<style scoped>\n",
              "    .dataframe tbody tr th:only-of-type {\n",
              "        vertical-align: middle;\n",
              "    }\n",
              "\n",
              "    .dataframe tbody tr th {\n",
              "        vertical-align: top;\n",
              "    }\n",
              "\n",
              "    .dataframe thead th {\n",
              "        text-align: right;\n",
              "    }\n",
              "</style>\n",
              "<table border=\"1\" class=\"dataframe\">\n",
              "  <thead>\n",
              "    <tr style=\"text-align: right;\">\n",
              "      <th></th>\n",
              "      <th>idx</th>\n",
              "      <th>word</th>\n",
              "      <th>sentence1</th>\n",
              "      <th>sentence2</th>\n",
              "      <th>start1</th>\n",
              "      <th>end1</th>\n",
              "      <th>start2</th>\n",
              "      <th>end2</th>\n",
              "      <th>label</th>\n",
              "      <th>gold_sense1</th>\n",
              "      <th>gold_sense2</th>\n",
              "      <th>concatenated</th>\n",
              "    </tr>\n",
              "  </thead>\n",
              "  <tbody>\n",
              "    <tr>\n",
              "      <th>0</th>\n",
              "      <td>0</td>\n",
              "      <td>двор</td>\n",
              "      <td>В нашей деревне осталось от силы двадцать дворов</td>\n",
              "      <td>Солнце стояло уже высоко, когда справа от дороги я увидел деревеньку дворов в пятнадцать</td>\n",
              "      <td>42</td>\n",
              "      <td>49</td>\n",
              "      <td>69</td>\n",
              "      <td>76</td>\n",
              "      <td>True</td>\n",
              "      <td>1</td>\n",
              "      <td>1</td>\n",
              "      <td>В нашей деревне осталось от силы двадцать дворов Солнце стояло уже высоко, когда справа от дороги я увидел деревеньку дворов в пятнадцать двор</td>\n",
              "    </tr>\n",
              "    <tr>\n",
              "      <th>1</th>\n",
              "      <td>1</td>\n",
              "      <td>доклад</td>\n",
              "      <td>Табличка на дверях: «Без доклада не входить»</td>\n",
              "      <td>Вчера отбыл в столицу первый секретарь обкома […], вызванный то ли «на ковёр», то ли на сезонный доклад об урожае</td>\n",
              "      <td>25</td>\n",
              "      <td>33</td>\n",
              "      <td>97</td>\n",
              "      <td>104</td>\n",
              "      <td>False</td>\n",
              "      <td>4</td>\n",
              "      <td>2</td>\n",
              "      <td>Табличка на дверях: «Без доклада не входить» Вчера отбыл в столицу первый секретарь обкома […], вызванный то ли «на ковёр», то ли на сезонный доклад об урожае доклад</td>\n",
              "    </tr>\n",
              "  </tbody>\n",
              "</table>\n",
              "</div>"
            ],
            "text/plain": [
              "   idx  ...                                                                                                                                                           concatenated\n",
              "0    0  ...                         В нашей деревне осталось от силы двадцать дворов Солнце стояло уже высоко, когда справа от дороги я увидел деревеньку дворов в пятнадцать двор\n",
              "1    1  ...  Табличка на дверях: «Без доклада не входить» Вчера отбыл в столицу первый секретарь обкома […], вызванный то ли «на ковёр», то ли на сезонный доклад об урожае доклад\n",
              "\n",
              "[2 rows x 12 columns]"
            ]
          },
          "metadata": {
            "tags": []
          },
          "execution_count": 16
        }
      ]
    },
    {
      "cell_type": "code",
      "metadata": {
        "colab": {
          "base_uri": "https://localhost:8080/"
        },
        "id": "FRopr_RkKApQ",
        "outputId": "9c9052a6-7e5e-476f-f997-c7554470922d"
      },
      "source": [
        "from sklearn.pipeline import Pipeline\r\n",
        "from sklearn.preprocessing import StandardScaler\r\n",
        "from sklearn.preprocessing import FunctionTransformer\r\n",
        "\r\n",
        "steps = [('tfidf', TfidfVectorizer()),\r\n",
        "         ('logreg', LogisticRegression(class_weight='balanced'))]\r\n",
        "\r\n",
        "parameters = {'logreg__C': np.arange(0.01, 1.9),\r\n",
        "              'tfidf__min_df': np.arange(0.001, 0.1, 0.03),\r\n",
        "              'tfidf__max_df': np.arange(0.6 , 1.0, 0.1),\r\n",
        "              'tfidf__ngram_range': [(1,2), (1,3)],\r\n",
        "              'tfidf__analyzer': ['char_wb', 'word']\r\n",
        "              }\r\n",
        "\r\n",
        "X_train = train.concatenated\r\n",
        "X_test = valid.concatenated\r\n",
        "\r\n",
        "y_train = train.label\r\n",
        "y_test = valid.label\r\n",
        "\r\n",
        "pipeline = Pipeline(steps)\r\n",
        "\r\n",
        "search = GridSearchCV(pipeline, cv=3, param_grid = parameters)\r\n",
        "\r\n",
        "search.fit(X_train, y_train)\r\n",
        "y_pred = search.predict(X_test)\r\n",
        "\r\n",
        "print(\"Accuracy: {}\".format(search.score(X_test, y_test)))\r\n",
        "print(classification_report(y_test, y_pred))\r\n",
        "print(\"Tuned Model Parameters: {}\".format(search.best_params_))"
      ],
      "execution_count": 17,
      "outputs": [
        {
          "output_type": "stream",
          "text": [
            "/usr/local/lib/python3.6/dist-packages/sklearn/linear_model/_logistic.py:940: ConvergenceWarning: lbfgs failed to converge (status=1):\n",
            "STOP: TOTAL NO. of ITERATIONS REACHED LIMIT.\n",
            "\n",
            "Increase the number of iterations (max_iter) or scale the data as shown in:\n",
            "    https://scikit-learn.org/stable/modules/preprocessing.html\n",
            "Please also refer to the documentation for alternative solver options:\n",
            "    https://scikit-learn.org/stable/modules/linear_model.html#logistic-regression\n",
            "  extra_warning_msg=_LOGISTIC_SOLVER_CONVERGENCE_MSG)\n"
          ],
          "name": "stderr"
        },
        {
          "output_type": "stream",
          "text": [
            "Accuracy: 0.6398589065255732\n",
            "              precision    recall  f1-score   support\n",
            "\n",
            "       False       0.74      0.66      0.70      5366\n",
            "        True       0.51      0.61      0.56      3139\n",
            "\n",
            "    accuracy                           0.64      8505\n",
            "   macro avg       0.63      0.63      0.63      8505\n",
            "weighted avg       0.66      0.64      0.64      8505\n",
            "\n",
            "Tuned Model Parameters: {'logreg__C': 1.01, 'tfidf__analyzer': 'word', 'tfidf__max_df': 0.6, 'tfidf__min_df': 0.001, 'tfidf__ngram_range': (1, 2)}\n"
          ],
          "name": "stdout"
        }
      ]
    },
    {
      "cell_type": "markdown",
      "metadata": {
        "id": "efXcXgyzJ-cy"
      },
      "source": [
        "# Heruistics"
      ]
    },
    {
      "cell_type": "code",
      "metadata": {
        "id": "sCIQ2EeqO92O"
      },
      "source": [
        "from base import BaseSolver\r\n",
        "\r\n",
        "class RusseSolver(BaseSolver):\r\n",
        "   \r\n",
        "    def __init__(self, path: str, path_valid=None):\r\n",
        "        super(RusseSolver, self).__init__(path, path_valid)\r\n",
        "\r\n",
        "    def heruistic_same_form(self, final_desicion=None):\r\n",
        "        y_true = self.valid.label\r\n",
        "        y_pred = []\r\n",
        "\r\n",
        "        c = 0\r\n",
        "        c_true = 0\r\n",
        "        for i, row in self.valid.iterrows():\r\n",
        "            word1 = row.sentence1[row.start1:row.end1].lower()\r\n",
        "            word2 = row.sentence2[row.start2:row.end2].lower()\r\n",
        "            if word1 == word2:\r\n",
        "                c += 1\r\n",
        "                if row.label is False:\r\n",
        "                    c_true += 1\r\n",
        "                y_pred.append(False)\r\n",
        "            else:\r\n",
        "                y_pred.append(final_desicion(test_size=1)[0])\r\n",
        "        print(f'Heruistic happend for {c} samples, {c_true} of them correct')\r\n",
        "        self.show_report(y_true, y_pred)"
      ],
      "execution_count": 78,
      "outputs": []
    },
    {
      "cell_type": "markdown",
      "metadata": {
        "id": "ZqdlztbAYJrV"
      },
      "source": [
        "## Same form (Not so good)"
      ]
    },
    {
      "cell_type": "code",
      "metadata": {
        "id": "LcvvUyEuKBEt",
        "colab": {
          "base_uri": "https://localhost:8080/"
        },
        "outputId": "a16305ee-11a6-4fa0-8694-bc1feb50c73a"
      },
      "source": [
        "# Совпадение словоформы (same_form) + Majority Vote\r\n",
        "\r\n",
        "solver = RusseSolver(path='data/RUSSE/train.jsonl',\r\n",
        "                     path_valid='data/RUSSE/val.jsonl')\r\n",
        "solver.heruistic_same_form(final_desicion=solver.majority_class)"
      ],
      "execution_count": 79,
      "outputs": [
        {
          "output_type": "stream",
          "text": [
            "Heruistic happend for 1265 samples, 747 of them correct\n",
            "              precision    recall  f1-score   support\n",
            "\n",
            "       False       0.63      1.00      0.77      5366\n",
            "        True       0.00      0.00      0.00      3139\n",
            "\n",
            "    accuracy                           0.63      8505\n",
            "   macro avg       0.32      0.50      0.39      8505\n",
            "weighted avg       0.40      0.63      0.49      8505\n",
            "\n"
          ],
          "name": "stdout"
        },
        {
          "output_type": "stream",
          "text": [
            "/usr/local/lib/python3.6/dist-packages/sklearn/metrics/_classification.py:1272: UndefinedMetricWarning: Precision and F-score are ill-defined and being set to 0.0 in labels with no predicted samples. Use `zero_division` parameter to control this behavior.\n",
            "  _warn_prf(average, modifier, msg_start, len(result))\n"
          ],
          "name": "stderr"
        }
      ]
    },
    {
      "cell_type": "code",
      "metadata": {
        "colab": {
          "base_uri": "https://localhost:8080/"
        },
        "id": "OIrNSMzUQHC5",
        "outputId": "f3887557-fe5f-4fbd-da22-eff446b2539b"
      },
      "source": [
        "# Совпадение словоформы (same_form) + Random Choice\r\n",
        "\r\n",
        "solver = RusseSolver(path='data/RUSSE/train.jsonl',\r\n",
        "                     path_valid='data/RUSSE/val.jsonl')\r\n",
        "solver.heruistic_same_form(final_desicion=solver.random_choice)"
      ],
      "execution_count": 80,
      "outputs": [
        {
          "output_type": "stream",
          "text": [
            "Heruistic happend for 1265 samples, 747 of them correct\n",
            "              precision    recall  f1-score   support\n",
            "\n",
            "       False       0.62      0.57      0.60      5366\n",
            "        True       0.36      0.40      0.38      3139\n",
            "\n",
            "    accuracy                           0.51      8505\n",
            "   macro avg       0.49      0.49      0.49      8505\n",
            "weighted avg       0.52      0.51      0.52      8505\n",
            "\n"
          ],
          "name": "stdout"
        }
      ]
    },
    {
      "cell_type": "code",
      "metadata": {
        "colab": {
          "base_uri": "https://localhost:8080/"
        },
        "id": "hhapQZFWQSC2",
        "outputId": "2bfe4c2f-e30e-4ada-c779-b8eb7c69ed1b"
      },
      "source": [
        "# Совпадение словоформы (same_form) + Rancom balanced Choice\r\n",
        "\r\n",
        "solver = RusseSolver(path='data/RUSSE/train.jsonl',\r\n",
        "                     path_valid='data/RUSSE/val.jsonl')\r\n",
        "solver.heruistic_same_form(final_desicion=solver.random_balanced_choice)"
      ],
      "execution_count": 81,
      "outputs": [
        {
          "output_type": "stream",
          "text": [
            "Heruistic happend for 1265 samples, 747 of them correct\n",
            "              precision    recall  f1-score   support\n",
            "\n",
            "       False       0.63      0.68      0.65      5366\n",
            "        True       0.37      0.32      0.34      3139\n",
            "\n",
            "    accuracy                           0.55      8505\n",
            "   macro avg       0.50      0.50      0.50      8505\n",
            "weighted avg       0.53      0.55      0.54      8505\n",
            "\n"
          ],
          "name": "stdout"
        }
      ]
    }
  ]
}