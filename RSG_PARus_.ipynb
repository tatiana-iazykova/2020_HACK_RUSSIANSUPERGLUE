{
  "nbformat": 4,
  "nbformat_minor": 0,
  "metadata": {
    "colab": {
      "name": "RSG_PARus .ipynb",
      "provenance": [],
      "collapsed_sections": [
        "hROuboI4O47_",
        "IDr9yTK6YHl-"
      ]
    },
    "kernelspec": {
      "name": "python3",
      "display_name": "Python 3"
    }
  },
  "cells": [
    {
      "cell_type": "markdown",
      "metadata": {
        "id": "xGZSqd8Rb6_D"
      },
      "source": [
        "**Результаты so far:**\r\n",
        "\r\n",
        "*   Баланс классов в train/valid отличается (около 3%)\r\n",
        "*   SOTA Accuracy на лидерборде = 0.61 (BERT)\r\n",
        "*   Воспроизведен бейзлай RSG (Accuracy 0.45 на валидации)\r\n",
        "*   Тюнинг параметров Tf-idf (Accuracy 0.49 на валидации) \r\n",
        "*   В конце ноутбука вынесены спорные вопросы о разметке \r\n",
        "*   Есть эвристика на сравнение количества общих лемм между ( choice1 и premise) VS (choice2 и premise) (Accuracy 0.54 на валидации)\r\n",
        "\r\n"
      ]
    },
    {
      "cell_type": "markdown",
      "metadata": {
        "id": "RQCtN9CknDMH"
      },
      "source": [
        "# Data"
      ]
    },
    {
      "cell_type": "code",
      "metadata": {
        "id": "FpR1j_wefIYD"
      },
      "source": [
        "%%capture\n",
        "%%bash\n",
        "# change url if you want to work with a different RSG dataset\n",
        "wget -q --show-progress \"https://russiansuperglue.com/tasks/download/PARus\" -O temp.zip\n",
        "unzip temp.zip -d data\n",
        "\n",
        "# remove unnecessary directories and files\n",
        "rm temp.zip\n",
        "rm -r data/__MACOSX\n",
        "rm -r sample_data/"
      ],
      "execution_count": 1,
      "outputs": []
    },
    {
      "cell_type": "code",
      "metadata": {
        "id": "6B35hR1UfhM-"
      },
      "source": [
        "import pandas as pd\n",
        "pd.set_option('display.max_colwidth', 1000)\n",
        "pd.set_option('display.max_rows', 1000)\n",
        "\n",
        "class JSONL_handler():\n",
        "    \"\"\" opens a jsonl file and turns it into a necessary data structure \"\"\"\n",
        "    \n",
        "    def __init__(self, path):\n",
        "        self.path = path # path to jsonl file\n",
        "\n",
        "    def to_pandas(self):\n",
        "        \"\"\" get jsonl file content as a pandas DataFrame\"\"\"\n",
        "        return pd.read_json(path_or_buf=self.path, lines=True)"
      ],
      "execution_count": 10,
      "outputs": []
    },
    {
      "cell_type": "code",
      "metadata": {
        "id": "IvQYkbBoFb8y"
      },
      "source": [
        "train = JSONL_handler('data/PARus/train.jsonl')\r\n",
        "train = train.to_pandas()\r\n",
        "\r\n",
        "valid = JSONL_handler('data/PARus/val.jsonl')\r\n",
        "valid = valid.to_pandas()"
      ],
      "execution_count": 11,
      "outputs": []
    },
    {
      "cell_type": "markdown",
      "metadata": {
        "id": "yUz8ovXonGUV"
      },
      "source": [
        "# Data Exploration"
      ]
    },
    {
      "cell_type": "code",
      "metadata": {
        "id": "dk3eArpSFGvK"
      },
      "source": [
        "import matplotlib.pyplot as plt"
      ],
      "execution_count": 9,
      "outputs": []
    },
    {
      "cell_type": "code",
      "metadata": {
        "colab": {
          "base_uri": "https://localhost:8080/",
          "height": 232
        },
        "id": "7GfXs-cBFFlk",
        "outputId": "8e2a315c-7d3b-4731-b8c9-aec9098bf117"
      },
      "source": [
        "# Train/Valid Label Distribution \r\n",
        "\r\n",
        "plt.subplot(1,2,1)\r\n",
        "plt.title('Label distribution\\n in Train dataset\\n', fontsize=14)\r\n",
        "plt.pie(train['label'].value_counts(), \r\n",
        "        autopct=\"%.1f%%\", \r\n",
        "        labels=train['label'].value_counts().keys(), pctdistance=0.5, \r\n",
        "        textprops = dict(fontsize = 12))\r\n",
        "\r\n",
        "plt.subplot(1,2,2)\r\n",
        "plt.title('Label distribution\\n in Validation dataset\\n', fontsize=14)\r\n",
        "plt.pie(valid['label'].value_counts(), \r\n",
        "        autopct=\"%.1f%%\", \r\n",
        "        labels=valid['label'].value_counts().keys(), pctdistance=0.5, \r\n",
        "        textprops = dict(fontsize = 12))\r\n",
        "plt.show()"
      ],
      "execution_count": 18,
      "outputs": [
        {
          "output_type": "display_data",
          "data": {
            "image/png": "[encoded data removed]",
            "text/plain": [
              "<Figure size 432x288 with 2 Axes>"
            ]
          },
          "metadata": {
            "tags": []
          }
        }
      ]
    },
    {
      "cell_type": "code",
      "metadata": {
        "colab": {
          "base_uri": "https://localhost:8080/"
        },
        "id": "HtgOkvybG-jo",
        "outputId": "65de6578-15f9-4219-e60f-f14ae0fcd038"
      },
      "source": [
        "print(f\"Train datasen contains {len(train)} samples.\")\r\n",
        "print(f\"Valid dataset contains {len(valid)} samples.\")"
      ],
      "execution_count": 6,
      "outputs": [
        {
          "output_type": "stream",
          "text": [
            "Train datasen contains 400 samples.\n",
            "Valid dataset contains 100 samples.\n"
          ],
          "name": "stdout"
        }
      ]
    },
    {
      "cell_type": "markdown",
      "metadata": {
        "id": "9Wb3fB0LorSc"
      },
      "source": [
        "# Preprocessing"
      ]
    },
    {
      "cell_type": "markdown",
      "metadata": {
        "id": "CJ5QEAXNIaSa"
      },
      "source": [
        "\r\n",
        "\r\n",
        "*   Lemmatization (natasha)\r\n",
        "\r\n"
      ]
    },
    {
      "cell_type": "code",
      "metadata": {
        "id": "_FvPTxb3ouYw"
      },
      "source": [
        "%%capture\r\n",
        "!pip install razdel\r\n",
        "!pip install natasha"
      ],
      "execution_count": 7,
      "outputs": []
    },
    {
      "cell_type": "code",
      "metadata": {
        "id": "vNr1_B-rojMP"
      },
      "source": [
        "from natasha import (\r\n",
        "    Segmenter,\r\n",
        "    MorphVocab,  \r\n",
        "    NewsEmbedding,\r\n",
        "    NewsMorphTagger,\r\n",
        "    Doc\r\n",
        ")\r\n",
        "\r\n",
        "segmenter = Segmenter()\r\n",
        "morph_vocab = MorphVocab()\r\n",
        "emb = NewsEmbedding()\r\n",
        "morph_tagger = NewsMorphTagger(emb)"
      ],
      "execution_count": 8,
      "outputs": []
    },
    {
      "cell_type": "code",
      "metadata": {
        "id": "2PgfxX1Wno-3"
      },
      "source": [
        "def lemmatize(text):\r\n",
        "    \"\"\"\r\n",
        "    param text: str\r\n",
        "    return: List of lemmas (strings)\r\n",
        "    \"\"\"\r\n",
        "    doc = Doc(text)\r\n",
        "    doc.segment(segmenter)\r\n",
        "    doc.tag_morph(morph_tagger)\r\n",
        "    \r\n",
        "    for token in doc.tokens:\r\n",
        "        token.lemmatize(morph_vocab)\r\n",
        "    lemmas = [token.lemma for token in doc.tokens]\r\n",
        "    return lemmas"
      ],
      "execution_count": 9,
      "outputs": []
    },
    {
      "cell_type": "code",
      "metadata": {
        "id": "m-tXmm65wBXZ"
      },
      "source": [
        "train['premise_lemmas'] = train.premise.apply(lemmatize)\r\n",
        "train['choice1_lemmas'] = train.choice1.apply(lemmatize)\r\n",
        "train['choice2_lemmas'] = train.choice2.apply(lemmatize)\r\n",
        "\r\n",
        "valid['premise_lemmas'] = valid.premise.apply(lemmatize)\r\n",
        "valid['choice1_lemmas'] = valid.choice1.apply(lemmatize)\r\n",
        "valid['choice2_lemmas'] = valid.choice2.apply(lemmatize)"
      ],
      "execution_count": 10,
      "outputs": []
    },
    {
      "cell_type": "code",
      "metadata": {
        "colab": {
          "base_uri": "https://localhost:8080/",
          "height": 517
        },
        "id": "To0wSunhwO-N",
        "outputId": "f1e09c49-8b80-453d-aaf3-50d18af448aa"
      },
      "source": [
        "train.head()"
      ],
      "execution_count": 11,
      "outputs": [
        {
          "output_type": "execute_result",
          "data": {
            "text/html": [
              "<div>\n",
              "<style scoped>\n",
              "    .dataframe tbody tr th:only-of-type {\n",
              "        vertical-align: middle;\n",
              "    }\n",
              "\n",
              "    .dataframe tbody tr th {\n",
              "        vertical-align: top;\n",
              "    }\n",
              "\n",
              "    .dataframe thead th {\n",
              "        text-align: right;\n",
              "    }\n",
              "</style>\n",
              "<table border=\"1\" class=\"dataframe\">\n",
              "  <thead>\n",
              "    <tr style=\"text-align: right;\">\n",
              "      <th></th>\n",
              "      <th>premise</th>\n",
              "      <th>choice1</th>\n",
              "      <th>choice2</th>\n",
              "      <th>question</th>\n",
              "      <th>label</th>\n",
              "      <th>idx</th>\n",
              "      <th>premise_lemmas</th>\n",
              "      <th>choice1_lemmas</th>\n",
              "      <th>choice2_lemmas</th>\n",
              "    </tr>\n",
              "  </thead>\n",
              "  <tbody>\n",
              "    <tr>\n",
              "      <th>0</th>\n",
              "      <td>Моё тело отбрасывает тень на траву.</td>\n",
              "      <td>Солнце уже поднялось.</td>\n",
              "      <td>Трава уже подстрижена.</td>\n",
              "      <td>cause</td>\n",
              "      <td>0</td>\n",
              "      <td>0</td>\n",
              "      <td>[мой, тело, отбрасывать, тень, на, трава, .]</td>\n",
              "      <td>[солнце, уже, подняться, .]</td>\n",
              "      <td>[трава, уже, подстричь, .]</td>\n",
              "    </tr>\n",
              "    <tr>\n",
              "      <th>1</th>\n",
              "      <td>Женщина снисходительно относилась к странному поведению подруги.</td>\n",
              "      <td>Женщина знала, что её подруга переживает трудные времена.</td>\n",
              "      <td>Женщина чувствовала, что подруга пользуется её добротой.</td>\n",
              "      <td>cause</td>\n",
              "      <td>0</td>\n",
              "      <td>1</td>\n",
              "      <td>[женщина, снисходительно, относиться, к, странный, поведение, подруга, .]</td>\n",
              "      <td>[женщина, знать, ,, что, ее, подруга, переживать, трудный, время, .]</td>\n",
              "      <td>[женщина, чувствовать, ,, что, подруга, пользоваться, она, доброта, .]</td>\n",
              "    </tr>\n",
              "    <tr>\n",
              "      <th>2</th>\n",
              "      <td>Женщины встретились попить кофе.</td>\n",
              "      <td>Их кафе открылось в новом месте.</td>\n",
              "      <td>Им хотелось пересечься друг с другом.</td>\n",
              "      <td>cause</td>\n",
              "      <td>1</td>\n",
              "      <td>2</td>\n",
              "      <td>[женщина, встретиться, попить, кофе, .]</td>\n",
              "      <td>[их, кафе, открыться, в, новый, место, .]</td>\n",
              "      <td>[они, хотеться, пересечься, друг, с, друг, .]</td>\n",
              "    </tr>\n",
              "    <tr>\n",
              "      <th>3</th>\n",
              "      <td>Бегунья была в шортах.</td>\n",
              "      <td>Прогноз обещал высокую температуру.</td>\n",
              "      <td>Она планировала бежать вдоль пляжа.</td>\n",
              "      <td>cause</td>\n",
              "      <td>0</td>\n",
              "      <td>3</td>\n",
              "      <td>[бегунья, быть, в, шорты, .]</td>\n",
              "      <td>[прогноз, обещать, высокий, температура, .]</td>\n",
              "      <td>[она, планировать, бежать, вдоль, пляж, .]</td>\n",
              "    </tr>\n",
              "    <tr>\n",
              "      <th>4</th>\n",
              "      <td>Гости вечеринки прятались за диваном.</td>\n",
              "      <td>Это была вечеринка-сюрприз.</td>\n",
              "      <td>Это был день рождения.</td>\n",
              "      <td>cause</td>\n",
              "      <td>0</td>\n",
              "      <td>4</td>\n",
              "      <td>[гость, вечеринка, прятаться, за, диван, .]</td>\n",
              "      <td>[это, быть, вечеринка-сюрприз, .]</td>\n",
              "      <td>[это, быть, день, рождение, .]</td>\n",
              "    </tr>\n",
              "  </tbody>\n",
              "</table>\n",
              "</div>"
            ],
            "text/plain": [
              "                                                            premise  ...                                                          choice2_lemmas\n",
              "0                               Моё тело отбрасывает тень на траву.  ...                                              [трава, уже, подстричь, .]\n",
              "1  Женщина снисходительно относилась к странному поведению подруги.  ...  [женщина, чувствовать, ,, что, подруга, пользоваться, она, доброта, .]\n",
              "2                                  Женщины встретились попить кофе.  ...                           [они, хотеться, пересечься, друг, с, друг, .]\n",
              "3                                            Бегунья была в шортах.  ...                              [она, планировать, бежать, вдоль, пляж, .]\n",
              "4                             Гости вечеринки прятались за диваном.  ...                                          [это, быть, день, рождение, .]\n",
              "\n",
              "[5 rows x 9 columns]"
            ]
          },
          "metadata": {
            "tags": []
          },
          "execution_count": 11
        }
      ]
    },
    {
      "cell_type": "code",
      "metadata": {
        "id": "DSf2KdFsr9Kz"
      },
      "source": [
        "train_first = train[train['label']==0]\r\n",
        "train_second = train[train['label']==1]"
      ],
      "execution_count": 12,
      "outputs": []
    },
    {
      "cell_type": "markdown",
      "metadata": {
        "id": "aQXG1bXAJr_q"
      },
      "source": [
        "\r\n",
        "\r\n",
        "*   train_first - Датасет с label = 0\r\n",
        "*   train_second - Датасет с label = 1\r\n",
        "\r\n"
      ]
    },
    {
      "cell_type": "markdown",
      "metadata": {
        "id": "2X3ThEhLJ7H5"
      },
      "source": [
        "# Base Models"
      ]
    },
    {
      "cell_type": "markdown",
      "metadata": {
        "id": "hROuboI4O47_"
      },
      "source": [
        "## RSG Baseline"
      ]
    },
    {
      "cell_type": "code",
      "metadata": {
        "id": "eXVLSTWVO--P"
      },
      "source": [
        "%%capture\r\n",
        "%%bash\r\n",
        "wget -q --show-progress \"https://russiansuperglue.com/tasks/tf_idf\" -O temp.zip\r\n",
        "unzip temp.zip -d data"
      ],
      "execution_count": 13,
      "outputs": []
    },
    {
      "cell_type": "code",
      "metadata": {
        "id": "Y5_cYVlgO4O-"
      },
      "source": [
        "import joblib\r\n",
        "import codecs\r\n",
        "import json\r\n",
        "\r\n",
        "from sklearn.feature_extraction.text import CountVectorizer, TfidfVectorizer\r\n",
        "from sklearn.linear_model import LogisticRegression\r\n",
        "from sklearn.metrics import classification_report"
      ],
      "execution_count": 21,
      "outputs": []
    },
    {
      "cell_type": "code",
      "metadata": {
        "colab": {
          "base_uri": "https://localhost:8080/"
        },
        "id": "Q-bg2zwGPAU1",
        "outputId": "a3479533-a575-44c0-8e5d-49c44a8f4677"
      },
      "source": [
        "vect = joblib.load(\"data/tfidf.pkl\")"
      ],
      "execution_count": 15,
      "outputs": [
        {
          "output_type": "stream",
          "text": [
            "/usr/local/lib/python3.6/dist-packages/sklearn/base.py:318: UserWarning: Trying to unpickle estimator TfidfTransformer from version 0.21.3 when using version 0.22.2.post1. This might lead to breaking code or invalid results. Use at your own risk.\n",
            "  UserWarning)\n",
            "/usr/local/lib/python3.6/dist-packages/sklearn/base.py:318: UserWarning: Trying to unpickle estimator TfidfVectorizer from version 0.21.3 when using version 0.22.2.post1. This might lead to breaking code or invalid results. Use at your own risk.\n",
            "  UserWarning)\n"
          ],
          "name": "stderr"
        }
      ]
    },
    {
      "cell_type": "code",
      "metadata": {
        "colab": {
          "base_uri": "https://localhost:8080/"
        },
        "id": "O0GHM2aoWPb5",
        "outputId": "2f4980fd-823a-4f97-ae06-1b5937518bed"
      },
      "source": [
        "# taken from https://github.com/RussianNLP/RussianSuperGLUE/blob/master/tfidf_baseline/PARus.py\r\n",
        "def build_feature_PARus(row):\r\n",
        "    premise = str(row[\"premise\"]).strip()\r\n",
        "    choice1 = row[\"choice1\"]\r\n",
        "    choice2 = row[\"choice2\"]\r\n",
        "    label = row.get(\"label\")\r\n",
        "    question = \"Что было ПРИЧИНОЙ этого?\" if row[\"question\"] == \"cause\" else \"Что случилось в РЕЗУЛЬТАТЕ?\"\r\n",
        "    res = f\"{premise} {question} {choice1} {choice2}\"\r\n",
        "    return res, label\r\n",
        "\r\n",
        "\r\n",
        "def build_features_PARus(path, vect):\r\n",
        "    with codecs.open(path, encoding='utf-8-sig') as reader:\r\n",
        "        lines = reader.read().split(\"\\n\")\r\n",
        "        lines = list(map(json.loads, filter(None, lines)))\r\n",
        "    res = list(map(build_feature_PARus, lines))\r\n",
        "    texts = list(map(lambda x: x[0], res))\r\n",
        "    labels = list(map(lambda x: x[1], res))\r\n",
        "    ids = [x[\"idx\"] for x in lines]\r\n",
        "    return (vect.transform(texts), labels), ids\r\n",
        "\r\n",
        "\r\n",
        "def fit_PARus(train, labels):\r\n",
        "    clf = LogisticRegression()\r\n",
        "    return clf.fit(train, labels)\r\n",
        "\r\n",
        "\r\n",
        "def eval_PARus(train_path, val_path, test_path, vect):\r\n",
        "    train, _ = build_features_PARus(train_path, vect)\r\n",
        "    val, _ = build_features_PARus(val_path, vect)\r\n",
        "    test, ids = build_features_PARus(test_path, vect)\r\n",
        "    clf = fit_PARus(*train)\r\n",
        "    try:\r\n",
        "        test_score = clf.score(*test)\r\n",
        "    except ValueError:\r\n",
        "        test_score = None\r\n",
        "    val_pred = clf.predict(val[0])\r\n",
        "    print(classification_report(val[1], val_pred))\r\n",
        "    return clf, {\r\n",
        "        \"train\": clf.score(*train),\r\n",
        "        \"val\": clf.score(*val),\r\n",
        "        \"test\": test_score,\r\n",
        "    }\r\n",
        "\r\n",
        "\r\n",
        "train_path = \"data/PARus/train.jsonl\"\r\n",
        "val_path = \"data/PARus/val.jsonl\"\r\n",
        "test_path = \"data/PARus/test.jsonl\"\r\n",
        "\r\n",
        "_, PARus_scores = eval_PARus(train_path, val_path, test_path, vect)\r\n",
        "train_scr = PARus_scores['train']\r\n",
        "valid_scr = PARus_scores['val']\r\n",
        "\r\n",
        "\r\n",
        "print(f\"Accuracy Score on Train: {train_scr}\") # should be around 0.775\r\n",
        "\r\n",
        "print(f\"Accuracy Score on Valid: {valid_scr}\") # should be around 0.45"
      ],
      "execution_count": 26,
      "outputs": [
        {
          "output_type": "stream",
          "text": [
            "              precision    recall  f1-score   support\n",
            "\n",
            "           0       0.49      0.40      0.44        55\n",
            "           1       0.40      0.49      0.44        45\n",
            "\n",
            "    accuracy                           0.44       100\n",
            "   macro avg       0.44      0.44      0.44       100\n",
            "weighted avg       0.45      0.44      0.44       100\n",
            "\n",
            "Accuracy Score on Train: 0.7725\n",
            "Accuracy Score on Valid: 0.44\n"
          ],
          "name": "stdout"
        }
      ]
    },
    {
      "cell_type": "markdown",
      "metadata": {
        "id": "IDr9yTK6YHl-"
      },
      "source": [
        "## Modified"
      ]
    },
    {
      "cell_type": "code",
      "metadata": {
        "id": "3pQ9rlJ9bQRw"
      },
      "source": [
        "from sklearn.feature_extraction.text import CountVectorizer, TfidfVectorizer\r\n",
        "from sklearn.linear_model import LogisticRegression\r\n",
        "\r\n",
        "import numpy as np\r\n",
        "\r\n",
        "from sklearn.model_selection import train_test_split\r\n",
        "from sklearn.metrics import classification_report, accuracy_score, f1_score\r\n",
        "\r\n",
        "from sklearn.metrics.pairwise import cosine_distances, cosine_similarity\r\n",
        "from sklearn.model_selection import GridSearchCV\r\n",
        "from sklearn.model_selection import cross_val_score"
      ],
      "execution_count": 9,
      "outputs": []
    },
    {
      "cell_type": "code",
      "metadata": {
        "id": "bTCo22HdYSKK"
      },
      "source": [
        "# concatenate columns \r\n",
        "\r\n",
        "def build_feature_PARus(row):\r\n",
        "    premise = str(row[\"premise\"]).strip()\r\n",
        "    choice1 = row[\"choice1\"]\r\n",
        "    choice2 = row[\"choice2\"]\r\n",
        "    label = row.get(\"label\")\r\n",
        "    question = \"Что было ПРИЧИНОЙ этого?\" if row[\"question\"] == \"cause\" else \"Что случилось в РЕЗУЛЬТАТЕ?\"\r\n",
        "    res = f\"{premise} {question} {choice1} {choice2}\"\r\n",
        "    return res\r\n",
        "\r\n",
        "\r\n",
        "train_concat = []\r\n",
        "for i, row in train.iterrows():\r\n",
        "    train_concat.append(build_feature_PARus(row))\r\n",
        "train['concatenated'] = train_concat\r\n",
        "\r\n",
        "valid_concat = []\r\n",
        "for i, row in valid.iterrows():\r\n",
        "    valid_concat.append(build_feature_PARus(row))\r\n",
        "valid['concatenated'] =  valid_concat"
      ],
      "execution_count": 28,
      "outputs": []
    },
    {
      "cell_type": "code",
      "metadata": {
        "colab": {
          "base_uri": "https://localhost:8080/",
          "height": 598
        },
        "id": "ckvqC7xPaA6z",
        "outputId": "44447c97-324f-4d3f-d971-5225a649c5cd"
      },
      "source": [
        "train.head(2)"
      ],
      "execution_count": 29,
      "outputs": [
        {
          "output_type": "execute_result",
          "data": {
            "text/html": [
              "<div>\n",
              "<style scoped>\n",
              "    .dataframe tbody tr th:only-of-type {\n",
              "        vertical-align: middle;\n",
              "    }\n",
              "\n",
              "    .dataframe tbody tr th {\n",
              "        vertical-align: top;\n",
              "    }\n",
              "\n",
              "    .dataframe thead th {\n",
              "        text-align: right;\n",
              "    }\n",
              "</style>\n",
              "<table border=\"1\" class=\"dataframe\">\n",
              "  <thead>\n",
              "    <tr style=\"text-align: right;\">\n",
              "      <th></th>\n",
              "      <th>premise</th>\n",
              "      <th>choice1</th>\n",
              "      <th>choice2</th>\n",
              "      <th>question</th>\n",
              "      <th>label</th>\n",
              "      <th>idx</th>\n",
              "      <th>premise_lemmas</th>\n",
              "      <th>choice1_lemmas</th>\n",
              "      <th>choice2_lemmas</th>\n",
              "      <th>concatenated</th>\n",
              "    </tr>\n",
              "  </thead>\n",
              "  <tbody>\n",
              "    <tr>\n",
              "      <th>0</th>\n",
              "      <td>Моё тело отбрасывает тень на траву.</td>\n",
              "      <td>Солнце уже поднялось.</td>\n",
              "      <td>Трава уже подстрижена.</td>\n",
              "      <td>cause</td>\n",
              "      <td>0</td>\n",
              "      <td>0</td>\n",
              "      <td>[мой, тело, отбрасывать, тень, на, трава, .]</td>\n",
              "      <td>[солнце, уже, подняться, .]</td>\n",
              "      <td>[трава, уже, подстричь, .]</td>\n",
              "      <td>Моё тело отбрасывает тень на траву. Что было ПРИЧИНОЙ этого? Солнце уже поднялось. Трава уже подстрижена.</td>\n",
              "    </tr>\n",
              "    <tr>\n",
              "      <th>1</th>\n",
              "      <td>Женщина снисходительно относилась к странному поведению подруги.</td>\n",
              "      <td>Женщина знала, что её подруга переживает трудные времена.</td>\n",
              "      <td>Женщина чувствовала, что подруга пользуется её добротой.</td>\n",
              "      <td>cause</td>\n",
              "      <td>0</td>\n",
              "      <td>1</td>\n",
              "      <td>[женщина, снисходительно, относиться, к, странный, поведение, подруга, .]</td>\n",
              "      <td>[женщина, знать, ,, что, ее, подруга, переживать, трудный, время, .]</td>\n",
              "      <td>[женщина, чувствовать, ,, что, подруга, пользоваться, она, доброта, .]</td>\n",
              "      <td>Женщина снисходительно относилась к странному поведению подруги. Что было ПРИЧИНОЙ этого? Женщина знала, что её подруга переживает трудные времена. Женщина чувствовала, что подруга пользуется её добротой.</td>\n",
              "    </tr>\n",
              "  </tbody>\n",
              "</table>\n",
              "</div>"
            ],
            "text/plain": [
              "                                                            premise  ...                                                                                                                                                                                                  concatenated\n",
              "0                               Моё тело отбрасывает тень на траву.  ...                                                                                                     Моё тело отбрасывает тень на траву. Что было ПРИЧИНОЙ этого? Солнце уже поднялось. Трава уже подстрижена.\n",
              "1  Женщина снисходительно относилась к странному поведению подруги.  ...  Женщина снисходительно относилась к странному поведению подруги. Что было ПРИЧИНОЙ этого? Женщина знала, что её подруга переживает трудные времена. Женщина чувствовала, что подруга пользуется её добротой.\n",
              "\n",
              "[2 rows x 10 columns]"
            ]
          },
          "metadata": {
            "tags": []
          },
          "execution_count": 29
        }
      ]
    },
    {
      "cell_type": "code",
      "metadata": {
        "colab": {
          "base_uri": "https://localhost:8080/"
        },
        "id": "FRopr_RkKApQ",
        "outputId": "e43bd1fe-1b9d-451c-e80f-d635dd08938e"
      },
      "source": [
        "from sklearn.pipeline import Pipeline\r\n",
        "from sklearn.preprocessing import StandardScaler\r\n",
        "from sklearn.preprocessing import FunctionTransformer\r\n",
        "\r\n",
        "steps = [('tfidf', TfidfVectorizer()),\r\n",
        "         ('logreg', LogisticRegression(class_weight='balanced'))]\r\n",
        "\r\n",
        "parameters = {'logreg__C': np.arange(0.0000000001, 1),\r\n",
        "              'tfidf__min_df': np.arange(0.01, 0.1, 0.01),\r\n",
        "              'tfidf__max_df': np.arange(0.6 , 1.0, 0.1),\r\n",
        "              'tfidf__ngram_range': [(1,2), (1,3)],\r\n",
        "              'tfidf__analyzer': ['char_wb', 'word']\r\n",
        "              }\r\n",
        "\r\n",
        "X_train = train.concatenated\r\n",
        "X_test = valid.concatenated\r\n",
        "\r\n",
        "y_train = train.label\r\n",
        "y_test = valid.label\r\n",
        "\r\n",
        "pipeline = Pipeline(steps)\r\n",
        "\r\n",
        "search = GridSearchCV(pipeline, cv=3, param_grid = parameters)\r\n",
        "\r\n",
        "search.fit(X_train, y_train)\r\n",
        "y_pred = search.predict(X_test)\r\n",
        "\r\n",
        "print(\"Accuracy: {}\".format(search.score(X_test, y_test)))\r\n",
        "print(classification_report(y_test, y_pred))\r\n",
        "print(\"Tuned Model Parameters: {}\".format(search.best_params_))"
      ],
      "execution_count": 30,
      "outputs": [
        {
          "output_type": "stream",
          "text": [
            "Accuracy: 0.49\n",
            "              precision    recall  f1-score   support\n",
            "\n",
            "           0       0.54      0.45      0.50        55\n",
            "           1       0.44      0.53      0.48        45\n",
            "\n",
            "    accuracy                           0.49       100\n",
            "   macro avg       0.49      0.49      0.49       100\n",
            "weighted avg       0.50      0.49      0.49       100\n",
            "\n",
            "Tuned Model Parameters: {'logreg__C': 1e-10, 'tfidf__analyzer': 'word', 'tfidf__max_df': 0.6, 'tfidf__min_df': 0.04, 'tfidf__ngram_range': (1, 2)}\n"
          ],
          "name": "stdout"
        }
      ]
    },
    {
      "cell_type": "markdown",
      "metadata": {
        "id": "efXcXgyzJ-cy"
      },
      "source": [
        "# Heruistics"
      ]
    },
    {
      "cell_type": "markdown",
      "metadata": {
        "id": "WX8JgjbH-qOo"
      },
      "source": [
        "## Vocab Overlap"
      ]
    },
    {
      "cell_type": "code",
      "metadata": {
        "id": "Rxn0Z6tPEUCk"
      },
      "source": [
        "import numpy as np\r\n",
        "from natasha import (\r\n",
        "    Segmenter,\r\n",
        "    MorphVocab,  \r\n",
        "    NewsEmbedding,\r\n",
        "    NewsMorphTagger,\r\n",
        "    Doc\r\n",
        ")\r\n",
        "\r\n",
        "segmenter = Segmenter()\r\n",
        "morph_vocab = MorphVocab()\r\n",
        "emb = NewsEmbedding()\r\n",
        "morph_tagger = NewsMorphTagger(emb)\r\n",
        "\r\n",
        "from base import BaseSolver\r\n",
        "\r\n",
        "class ParusSolver(BaseSolver):\r\n",
        "   \r\n",
        "    def __init__(self, path: str, path_valid=None):\r\n",
        "        super(ParusSolver, self).__init__(path, path_valid)\r\n",
        "   \r\n",
        "    def preprocess(self, columns):\r\n",
        "\r\n",
        "        for column in columns:\r\n",
        "            self.train[f\"{column}_lemmas\"] = self.train[column].apply(self.lemmatize)\r\n",
        "            self.valid[f\"{column}_lemmas\"] = self.valid[column].apply(self.lemmatize)\r\n",
        "\r\n",
        "    def lemmatize(self, text):\r\n",
        "        \"\"\"\r\n",
        "        param text: str\r\n",
        "        return: List of lemmas (strings)\r\n",
        "        \"\"\"\r\n",
        "\r\n",
        "        doc = Doc(text)\r\n",
        "        doc.segment(segmenter)\r\n",
        "        doc.tag_morph(morph_tagger)\r\n",
        "\r\n",
        "        for token in doc.tokens:\r\n",
        "            token.lemmatize(morph_vocab)\r\n",
        "        lemmas = [token.lemma for token in doc.tokens]\r\n",
        "        return lemmas\r\n",
        "\r\n",
        "    \r\n",
        "    def heruistic_vocab_overlap(self, final_desicion=None):\r\n",
        "        \"\"\"\r\n",
        "        This heruistic chooses the option that has more common lemmas with premise\r\n",
        "        If the amount of common words is equal for both choices, it uses {final_desicion}\r\n",
        "        function (one of BaseSolver functions) to predict\r\n",
        "        param: final_decision (function)\r\n",
        "        \"\"\"\r\n",
        "        y_true = self.valid.label\r\n",
        "        y_pred = []\r\n",
        "        self.preprocess(columns=['premise', 'choice1', 'choice2'])\r\n",
        "\r\n",
        "        for i, row in self.valid.iterrows():\r\n",
        "            words1 = set(row.choice1_lemmas)\r\n",
        "            words2 = set(row.choice2_lemmas)\r\n",
        "            premise = set(row.premise_lemmas)\r\n",
        "            overlap1 = len(premise & words1)\r\n",
        "            overlap2 = len(premise & words2)\r\n",
        "            if overlap1 > overlap2:\r\n",
        "                y_pred.append(0)\r\n",
        "            elif overlap2 > overlap1:\r\n",
        "                y_pred.append(1)\r\n",
        "            else:\r\n",
        "                y_pred.append(final_desicion(test_size=1)[0])\r\n",
        "        self.show_report(y_true, y_pred)"
      ],
      "execution_count": 4,
      "outputs": []
    },
    {
      "cell_type": "code",
      "metadata": {
        "colab": {
          "base_uri": "https://localhost:8080/"
        },
        "id": "98RxR1JUJCXB",
        "outputId": "d38134df-b596-4252-b16d-5bace855c495"
      },
      "source": [
        "# Vocab Overlap + Majority class\r\n",
        "solver = ParusSolver(path='data/PARus/train.jsonl',\r\n",
        "                     path_valid='data/PARus/val.jsonl')\r\n",
        "solver.heruistic_vocab_overlap(final_desicion=solver.majority_class)"
      ],
      "execution_count": 5,
      "outputs": [
        {
          "output_type": "stream",
          "text": [
            "              precision    recall  f1-score   support\n",
            "\n",
            "           0       0.60      0.16      0.26        55\n",
            "           1       0.46      0.87      0.60        45\n",
            "\n",
            "    accuracy                           0.48       100\n",
            "   macro avg       0.53      0.52      0.43       100\n",
            "weighted avg       0.54      0.48      0.41       100\n",
            "\n"
          ],
          "name": "stdout"
        }
      ]
    },
    {
      "cell_type": "code",
      "metadata": {
        "colab": {
          "base_uri": "https://localhost:8080/"
        },
        "id": "xZziuJqyJJND",
        "outputId": "c4eb5840-eb72-45c0-e278-33598feb89ec"
      },
      "source": [
        "# Vocab Overlap + Random Choice\r\n",
        "solver = ParusSolver(path='data/PARus/train.jsonl',\r\n",
        "                     path_valid='data/PARus/val.jsonl')\r\n",
        "solver.heruistic_vocab_overlap(final_desicion=solver.random_choice)"
      ],
      "execution_count": 6,
      "outputs": [
        {
          "output_type": "stream",
          "text": [
            "              precision    recall  f1-score   support\n",
            "\n",
            "           0       0.55      0.89      0.68        55\n",
            "           1       0.45      0.11      0.18        45\n",
            "\n",
            "    accuracy                           0.54       100\n",
            "   macro avg       0.50      0.50      0.43       100\n",
            "weighted avg       0.51      0.54      0.45       100\n",
            "\n"
          ],
          "name": "stdout"
        }
      ]
    },
    {
      "cell_type": "code",
      "metadata": {
        "colab": {
          "base_uri": "https://localhost:8080/"
        },
        "id": "vFJFKxgcJNTF",
        "outputId": "09a8eb47-059c-4c2b-8856-f5d0b4c5191e"
      },
      "source": [
        "# Vocab Overlap + Random (balanced) Choice\r\n",
        "solver = ParusSolver(path='data/PARus/train.jsonl',\r\n",
        "                     path_valid='data/PARus/val.jsonl')\r\n",
        "solver.heruistic_vocab_overlap(final_desicion=solver.random_balanced_choice)"
      ],
      "execution_count": 7,
      "outputs": [
        {
          "output_type": "stream",
          "text": [
            "              precision    recall  f1-score   support\n",
            "\n",
            "           0       0.60      0.16      0.26        55\n",
            "           1       0.46      0.87      0.60        45\n",
            "\n",
            "    accuracy                           0.48       100\n",
            "   macro avg       0.53      0.52      0.43       100\n",
            "weighted avg       0.54      0.48      0.41       100\n",
            "\n"
          ],
          "name": "stdout"
        }
      ]
    },
    {
      "cell_type": "markdown",
      "metadata": {
        "id": "Lr75O558GsoL"
      },
      "source": [
        "# Samples with questionable  markup"
      ]
    },
    {
      "cell_type": "code",
      "metadata": {
        "colab": {
          "base_uri": "https://localhost:8080/",
          "height": 538
        },
        "id": "hang8x6H12Uq",
        "outputId": "34d570ab-cfee-49d4-84cc-eb02e04af841"
      },
      "source": [
        "train.iloc[[3, 5, 15, 23, 30, 32, 35, 49, 54, 88, 119, 135]][['premise', 'choice1', 'choice2', 'question', 'label']]"
      ],
      "execution_count": 22,
      "outputs": [
        {
          "output_type": "execute_result",
          "data": {
            "text/html": [
              "<div>\n",
              "<style scoped>\n",
              "    .dataframe tbody tr th:only-of-type {\n",
              "        vertical-align: middle;\n",
              "    }\n",
              "\n",
              "    .dataframe tbody tr th {\n",
              "        vertical-align: top;\n",
              "    }\n",
              "\n",
              "    .dataframe thead th {\n",
              "        text-align: right;\n",
              "    }\n",
              "</style>\n",
              "<table border=\"1\" class=\"dataframe\">\n",
              "  <thead>\n",
              "    <tr style=\"text-align: right;\">\n",
              "      <th></th>\n",
              "      <th>premise</th>\n",
              "      <th>choice1</th>\n",
              "      <th>choice2</th>\n",
              "      <th>question</th>\n",
              "      <th>label</th>\n",
              "    </tr>\n",
              "  </thead>\n",
              "  <tbody>\n",
              "    <tr>\n",
              "      <th>3</th>\n",
              "      <td>Бегунья была в шортах.</td>\n",
              "      <td>Прогноз обещал высокую температуру.</td>\n",
              "      <td>Она планировала бежать вдоль пляжа.</td>\n",
              "      <td>cause</td>\n",
              "      <td>0</td>\n",
              "    </tr>\n",
              "    <tr>\n",
              "      <th>5</th>\n",
              "      <td>Политик проиграл выборы.</td>\n",
              "      <td>Он использовал плохие лозунги.</td>\n",
              "      <td>Никто не голосовал за него.</td>\n",
              "      <td>cause</td>\n",
              "      <td>1</td>\n",
              "    </tr>\n",
              "    <tr>\n",
              "      <th>15</th>\n",
              "      <td>Девушка ахнула.</td>\n",
              "      <td>Её друг пустил кубик льда вниз по её спине.</td>\n",
              "      <td>Её друг погладил её по спине.</td>\n",
              "      <td>cause</td>\n",
              "      <td>0</td>\n",
              "    </tr>\n",
              "    <tr>\n",
              "      <th>23</th>\n",
              "      <td>Хозяйка отменила праздник.</td>\n",
              "      <td>Ей показалось, что у неё грипп.</td>\n",
              "      <td>Она переживала, что может подхватить грипп.</td>\n",
              "      <td>cause</td>\n",
              "      <td>0</td>\n",
              "    </tr>\n",
              "    <tr>\n",
              "      <th>30</th>\n",
              "      <td>Женщина напевала про себя.</td>\n",
              "      <td>Она нервничала.</td>\n",
              "      <td>Она была в хорошем настроении.</td>\n",
              "      <td>cause</td>\n",
              "      <td>1</td>\n",
              "    </tr>\n",
              "    <tr>\n",
              "      <th>32</th>\n",
              "      <td>Полицейские направили оружие на беглеца.</td>\n",
              "      <td>Беглец упал на землю.</td>\n",
              "      <td>Беглец бросил ружьё.</td>\n",
              "      <td>effect</td>\n",
              "      <td>1</td>\n",
              "    </tr>\n",
              "    <tr>\n",
              "      <th>35</th>\n",
              "      <td>Человек сразу вскочил с постели.</td>\n",
              "      <td>Он хотел выключить будильник.</td>\n",
              "      <td>Он хотел погладить брюки перед работой.</td>\n",
              "      <td>cause</td>\n",
              "      <td>0</td>\n",
              "    </tr>\n",
              "    <tr>\n",
              "      <th>49</th>\n",
              "      <td>Дети опрокинули лампу.</td>\n",
              "      <td>У них был бой подушками.</td>\n",
              "      <td>Они прыгали на кровати.</td>\n",
              "      <td>cause</td>\n",
              "      <td>0</td>\n",
              "    </tr>\n",
              "    <tr>\n",
              "      <th>54</th>\n",
              "      <td>Человек подписал документ.</td>\n",
              "      <td>Сделка была аннулирована.</td>\n",
              "      <td>Сделка стала официальной.</td>\n",
              "      <td>effect</td>\n",
              "      <td>1</td>\n",
              "    </tr>\n",
              "    <tr>\n",
              "      <th>88</th>\n",
              "      <td>Мужчина закрыл книгу.</td>\n",
              "      <td>Он закончил её читать.</td>\n",
              "      <td>Она заставила его задуматься.</td>\n",
              "      <td>cause</td>\n",
              "      <td>0</td>\n",
              "    </tr>\n",
              "    <tr>\n",
              "      <th>119</th>\n",
              "      <td>Болельщики на стадионе ликовали.</td>\n",
              "      <td>Игра завершилась вничью.</td>\n",
              "      <td>Игрок забил гол.</td>\n",
              "      <td>cause</td>\n",
              "      <td>1</td>\n",
              "    </tr>\n",
              "    <tr>\n",
              "      <th>135</th>\n",
              "      <td>Фонарик не работал.</td>\n",
              "      <td>Я разобрал его.</td>\n",
              "      <td>Я заменил батарейки.</td>\n",
              "      <td>effect</td>\n",
              "      <td>1</td>\n",
              "    </tr>\n",
              "  </tbody>\n",
              "</table>\n",
              "</div>"
            ],
            "text/plain": [
              "                                      premise  ... label\n",
              "3                      Бегунья была в шортах.  ...     0\n",
              "5                    Политик проиграл выборы.  ...     1\n",
              "15                            Девушка ахнула.  ...     0\n",
              "23                 Хозяйка отменила праздник.  ...     0\n",
              "30                 Женщина напевала про себя.  ...     1\n",
              "32   Полицейские направили оружие на беглеца.  ...     1\n",
              "35           Человек сразу вскочил с постели.  ...     0\n",
              "49                     Дети опрокинули лампу.  ...     0\n",
              "54                 Человек подписал документ.  ...     1\n",
              "88                      Мужчина закрыл книгу.  ...     0\n",
              "119          Болельщики на стадионе ликовали.  ...     1\n",
              "135                       Фонарик не работал.  ...     1\n",
              "\n",
              "[12 rows x 5 columns]"
            ]
          },
          "metadata": {
            "tags": []
          },
          "execution_count": 22
        }
      ]
    }
  ]
}