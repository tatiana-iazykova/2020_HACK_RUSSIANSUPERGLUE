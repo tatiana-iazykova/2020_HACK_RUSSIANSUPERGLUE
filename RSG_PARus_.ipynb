{
  "nbformat": 4,
  "nbformat_minor": 0,
  "metadata": {
    "colab": {
      "name": "RSG_PARus .ipynb",
      "provenance": []
    },
    "kernelspec": {
      "name": "python3",
      "display_name": "Python 3"
    }
  },
  "cells": [
    {
      "cell_type": "markdown",
      "metadata": {
        "id": "RQCtN9CknDMH"
      },
      "source": [
        "# Data"
      ]
    },
    {
      "cell_type": "code",
      "metadata": {
        "id": "FpR1j_wefIYD"
      },
      "source": [
        "%%capture\n",
        "%%bash\n",
        "# change url if you want to work with a different RSG dataset\n",
        "wget -q --show-progress \"https://russiansuperglue.com/tasks/download/PARus\" -O temp.zip\n",
        "unzip temp.zip -d data\n",
        "\n",
        "# remove unnecessary directories and files\n",
        "rm temp.zip\n",
        "rm -r data/__MACOSX\n",
        "rm -r sample_data/"
      ],
      "execution_count": 16,
      "outputs": []
    },
    {
      "cell_type": "code",
      "metadata": {
        "id": "Qn87B3HVfTp9"
      },
      "source": [
        "%%capture\n",
        "%%bash\n",
        "# add tree package for fancy directory display\n",
        "apt-get install tree"
      ],
      "execution_count": 17,
      "outputs": []
    },
    {
      "cell_type": "code",
      "metadata": {
        "colab": {
          "base_uri": "https://localhost:8080/"
        },
        "id": "yWqWsNQ2fe2h",
        "outputId": "20a38b3e-bdf0-4e10-b92e-cdcaa095a686"
      },
      "source": [
        "# display the content of the folder\n",
        "!tree"
      ],
      "execution_count": 18,
      "outputs": [
        {
          "output_type": "stream",
          "text": [
            ".\n",
            "├── data\n",
            "│   ├── a\n",
            "│   │   └── __MACOSX\n",
            "│   ├── ip\n",
            "│   ├── __MACOSX\n",
            "│   │   └── PARus\n",
            "│   ├── ories and files\n",
            "│   ├── PARus\n",
            "│   │   ├── test.jsonl\n",
            "│   │   ├── train.jsonl\n",
            "│   │   └── val.jsonl\n",
            "│   └── ple_data\n",
            "└── temp.zip\n",
            "\n",
            "6 directories, 7 files\n"
          ],
          "name": "stdout"
        }
      ]
    },
    {
      "cell_type": "code",
      "metadata": {
        "id": "6B35hR1UfhM-"
      },
      "source": [
        "import pandas as pd\n",
        "pd.set_option('display.max_colwidth', 1000)\n",
        "pd.set_option('display.max_rows', 1000)\n",
        "\n",
        "class JSONL_handler():\n",
        "    \"\"\" opens a jsonl file and turns it into a necessary data structure \"\"\"\n",
        "    \n",
        "    def __init__(self, path):\n",
        "        self.path = path # path to jsonl file\n",
        "\n",
        "    def to_pandas(self):\n",
        "        \"\"\" get jsonl file content as a pandas DataFrame\"\"\"\n",
        "        return pd.read_json(path_or_buf=self.path, lines=True)"
      ],
      "execution_count": 19,
      "outputs": []
    },
    {
      "cell_type": "markdown",
      "metadata": {
        "id": "yUz8ovXonGUV"
      },
      "source": [
        "# Data Exploration"
      ]
    },
    {
      "cell_type": "code",
      "metadata": {
        "id": "Gchhlpb_flxK"
      },
      "source": [
        "handler = JSONL_handler('data/PARus/train.jsonl')\n",
        "df = handler.to_pandas()"
      ],
      "execution_count": 20,
      "outputs": []
    },
    {
      "cell_type": "code",
      "metadata": {
        "colab": {
          "base_uri": "https://localhost:8080/",
          "height": 317
        },
        "id": "dkd5RiMFISQw",
        "outputId": "555bfb87-f41f-45f7-9dcf-945102d51882"
      },
      "source": [
        "import matplotlib.pyplot as plt\n",
        "plt.title('Label distribution', fontsize=14)\n",
        "plt.pie(df['label'].value_counts(), autopct=\"%.1f%%\", explode=[0.05]*2, labels=df['label'].value_counts().keys(), pctdistance=0.5, textprops = dict(fontsize = 12))\n",
        "plt.show()\n",
        "\n",
        "df['label'].value_counts()"
      ],
      "execution_count": 72,
      "outputs": [
        {
          "output_type": "display_data",
          "data": {
            "image/png": "[encoded data removed]",
            "text/plain": [
              "<Figure size 432x288 with 1 Axes>"
            ]
          },
          "metadata": {
            "tags": []
          }
        },
        {
          "output_type": "execute_result",
          "data": {
            "text/plain": [
              "1    205\n",
              "0    195\n",
              "Name: label, dtype: int64"
            ]
          },
          "metadata": {
            "tags": []
          },
          "execution_count": 72
        }
      ]
    },
    {
      "cell_type": "code",
      "metadata": {
        "colab": {
          "base_uri": "https://localhost:8080/",
          "height": 317
        },
        "id": "Um3TIiyF3x6u",
        "outputId": "5ba97474-3d45-4e21-ca2f-ab3a22041ec1"
      },
      "source": [
        "plt.title('Question distribution', fontsize=14)\r\n",
        "plt.pie(df['question'].value_counts(), autopct=\"%.1f%%\", explode=[0.05]*2, labels=df['question'].value_counts().keys(), pctdistance=0.5, textprops = dict(fontsize = 12))\r\n",
        "plt.show()\r\n",
        "\r\n",
        "df['question'].value_counts()"
      ],
      "execution_count": 73,
      "outputs": [
        {
          "output_type": "display_data",
          "data": {
            "image/png": "[encoded data removed]",
            "text/plain": [
              "<Figure size 432x288 with 1 Axes>"
            ]
          },
          "metadata": {
            "tags": []
          }
        },
        {
          "output_type": "execute_result",
          "data": {
            "text/plain": [
              "effect    202\n",
              "cause     198\n",
              "Name: question, dtype: int64"
            ]
          },
          "metadata": {
            "tags": []
          },
          "execution_count": 73
        }
      ]
    },
    {
      "cell_type": "markdown",
      "metadata": {
        "id": "9Wb3fB0LorSc"
      },
      "source": [
        "## Short summary"
      ]
    },
    {
      "cell_type": "code",
      "metadata": {
        "id": "_FvPTxb3ouYw"
      },
      "source": [
        "!pip install razdel\r\n",
        "!pip install natasha"
      ],
      "execution_count": null,
      "outputs": []
    },
    {
      "cell_type": "code",
      "metadata": {
        "id": "vNr1_B-rojMP"
      },
      "source": [
        "from natasha import (\r\n",
        "    Segmenter,\r\n",
        "    MorphVocab,\r\n",
        "    \r\n",
        "    NewsEmbedding,\r\n",
        "    NewsMorphTagger,\r\n",
        "    NewsSyntaxParser,\r\n",
        "    NewsNERTagger,\r\n",
        "    \r\n",
        "    PER,\r\n",
        "    NamesExtractor,\r\n",
        "\r\n",
        "    Doc\r\n",
        ")\r\n",
        "\r\n",
        "segmenter = Segmenter()\r\n",
        "morph_vocab = MorphVocab()\r\n",
        "emb = NewsEmbedding()\r\n",
        "morph_tagger = NewsMorphTagger(emb)\r\n",
        "syntax_parser = NewsSyntaxParser(emb)\r\n",
        "ner_tagger = NewsNERTagger(emb)\r\n",
        "names_extractor = NamesExtractor(morph_vocab)\r\n",
        "\r\n",
        "\r\n"
      ],
      "execution_count": 35,
      "outputs": []
    },
    {
      "cell_type": "code",
      "metadata": {
        "colab": {
          "base_uri": "https://localhost:8080/"
        },
        "id": "O_JLRK0mrEl7",
        "outputId": "d06679f0-c929-42cc-de85-2363a8dc8ca6"
      },
      "source": [
        "tokenize('Яблоко вкусное было')"
      ],
      "execution_count": 42,
      "outputs": [
        {
          "output_type": "execute_result",
          "data": {
            "text/plain": [
              "(['Яблоко', 'вкусное', 'было'], ['яблоко', 'вкусный', 'быть'])"
            ]
          },
          "metadata": {
            "tags": []
          },
          "execution_count": 42
        }
      ]
    },
    {
      "cell_type": "code",
      "metadata": {
        "id": "2PgfxX1Wno-3"
      },
      "source": [
        "def lemmatize(text):\r\n",
        "    doc = Doc(text)\r\n",
        "    doc.segment(segmenter)\r\n",
        "    doc.tag_morph(morph_tagger)\r\n",
        "    \r\n",
        "    for token in doc.tokens:\r\n",
        "        token.lemmatize(morph_vocab)\r\n",
        "    lemmas = [token.lemma for token in doc.tokens]\r\n",
        "    return lemmas"
      ],
      "execution_count": 55,
      "outputs": []
    },
    {
      "cell_type": "code",
      "metadata": {
        "id": "m-tXmm65wBXZ"
      },
      "source": [
        "df['premise_lemmas'] = df.premise.apply(lemmatize)\r\n",
        "df['choice1_lemmas'] = df.choice1.apply(lemmatize)\r\n",
        "df['choice2_lemmas'] = df.choice2.apply(lemmatize)"
      ],
      "execution_count": 56,
      "outputs": []
    },
    {
      "cell_type": "code",
      "metadata": {
        "colab": {
          "base_uri": "https://localhost:8080/",
          "height": 423
        },
        "id": "To0wSunhwO-N",
        "outputId": "27e8f567-9636-4b90-90eb-d1a9d971c78c"
      },
      "source": [
        "df.head()"
      ],
      "execution_count": 57,
      "outputs": [
        {
          "output_type": "execute_result",
          "data": {
            "text/html": [
              "<div>\n",
              "<style scoped>\n",
              "    .dataframe tbody tr th:only-of-type {\n",
              "        vertical-align: middle;\n",
              "    }\n",
              "\n",
              "    .dataframe tbody tr th {\n",
              "        vertical-align: top;\n",
              "    }\n",
              "\n",
              "    .dataframe thead th {\n",
              "        text-align: right;\n",
              "    }\n",
              "</style>\n",
              "<table border=\"1\" class=\"dataframe\">\n",
              "  <thead>\n",
              "    <tr style=\"text-align: right;\">\n",
              "      <th></th>\n",
              "      <th>premise</th>\n",
              "      <th>choice1</th>\n",
              "      <th>choice2</th>\n",
              "      <th>question</th>\n",
              "      <th>label</th>\n",
              "      <th>idx</th>\n",
              "      <th>premise_lemmas</th>\n",
              "      <th>choice1_lemmas</th>\n",
              "      <th>choice2_lemmas</th>\n",
              "    </tr>\n",
              "  </thead>\n",
              "  <tbody>\n",
              "    <tr>\n",
              "      <th>0</th>\n",
              "      <td>Моё тело отбрасывает тень на траву.</td>\n",
              "      <td>Солнце уже поднялось.</td>\n",
              "      <td>Трава уже подстрижена.</td>\n",
              "      <td>cause</td>\n",
              "      <td>0</td>\n",
              "      <td>0</td>\n",
              "      <td>[мой, тело, отбрасывать, тень, на, трава, .]</td>\n",
              "      <td>[солнце, уже, подняться, .]</td>\n",
              "      <td>[трава, уже, подстричь, .]</td>\n",
              "    </tr>\n",
              "    <tr>\n",
              "      <th>1</th>\n",
              "      <td>Женщина снисходительно относилась к странному поведению подруги.</td>\n",
              "      <td>Женщина знала, что её подруга переживает трудные времена.</td>\n",
              "      <td>Женщина чувствовала, что подруга пользуется её добротой.</td>\n",
              "      <td>cause</td>\n",
              "      <td>0</td>\n",
              "      <td>1</td>\n",
              "      <td>[женщина, снисходительно, относиться, к, странный, поведение, подруга, .]</td>\n",
              "      <td>[женщина, знать, ,, что, ее, подруга, переживать, трудный, время, .]</td>\n",
              "      <td>[женщина, чувствовать, ,, что, подруга, пользоваться, она, доброта, .]</td>\n",
              "    </tr>\n",
              "    <tr>\n",
              "      <th>2</th>\n",
              "      <td>Женщины встретились попить кофе.</td>\n",
              "      <td>Их кафе открылось в новом месте.</td>\n",
              "      <td>Им хотелось пересечься друг с другом.</td>\n",
              "      <td>cause</td>\n",
              "      <td>1</td>\n",
              "      <td>2</td>\n",
              "      <td>[женщина, встретиться, попить, кофе, .]</td>\n",
              "      <td>[их, кафе, открыться, в, новый, место, .]</td>\n",
              "      <td>[они, хотеться, пересечься, друг, с, друг, .]</td>\n",
              "    </tr>\n",
              "    <tr>\n",
              "      <th>3</th>\n",
              "      <td>Бегунья была в шортах.</td>\n",
              "      <td>Прогноз обещал высокую температуру.</td>\n",
              "      <td>Она планировала бежать вдоль пляжа.</td>\n",
              "      <td>cause</td>\n",
              "      <td>0</td>\n",
              "      <td>3</td>\n",
              "      <td>[бегунья, быть, в, шорты, .]</td>\n",
              "      <td>[прогноз, обещать, высокий, температура, .]</td>\n",
              "      <td>[она, планировать, бежать, вдоль, пляж, .]</td>\n",
              "    </tr>\n",
              "    <tr>\n",
              "      <th>4</th>\n",
              "      <td>Гости вечеринки прятались за диваном.</td>\n",
              "      <td>Это была вечеринка-сюрприз.</td>\n",
              "      <td>Это был день рождения.</td>\n",
              "      <td>cause</td>\n",
              "      <td>0</td>\n",
              "      <td>4</td>\n",
              "      <td>[гость, вечеринка, прятаться, за, диван, .]</td>\n",
              "      <td>[это, быть, вечеринка-сюрприз, .]</td>\n",
              "      <td>[это, быть, день, рождение, .]</td>\n",
              "    </tr>\n",
              "  </tbody>\n",
              "</table>\n",
              "</div>"
            ],
            "text/plain": [
              "                                                            premise  ...                                                          choice2_lemmas\n",
              "0                               Моё тело отбрасывает тень на траву.  ...                                              [трава, уже, подстричь, .]\n",
              "1  Женщина снисходительно относилась к странному поведению подруги.  ...  [женщина, чувствовать, ,, что, подруга, пользоваться, она, доброта, .]\n",
              "2                                  Женщины встретились попить кофе.  ...                           [они, хотеться, пересечься, друг, с, друг, .]\n",
              "3                                            Бегунья была в шортах.  ...                              [она, планировать, бежать, вдоль, пляж, .]\n",
              "4                             Гости вечеринки прятались за диваном.  ...                                          [это, быть, день, рождение, .]\n",
              "\n",
              "[5 rows x 9 columns]"
            ]
          },
          "metadata": {
            "tags": []
          },
          "execution_count": 57
        }
      ]
    },
    {
      "cell_type": "code",
      "metadata": {
        "id": "DSf2KdFsr9Kz"
      },
      "source": [
        "df_first = df[df['label']==0]\r\n",
        "df_second = df[df['label']==1]"
      ],
      "execution_count": 58,
      "outputs": []
    },
    {
      "cell_type": "code",
      "metadata": {
        "colab": {
          "base_uri": "https://localhost:8080/",
          "height": 457
        },
        "id": "YDhd8sGmsUNI",
        "outputId": "baf81140-9e60-47bd-ee87-cacfa7717d02"
      },
      "source": [
        "df_first.head()"
      ],
      "execution_count": 59,
      "outputs": [
        {
          "output_type": "execute_result",
          "data": {
            "text/html": [
              "<div>\n",
              "<style scoped>\n",
              "    .dataframe tbody tr th:only-of-type {\n",
              "        vertical-align: middle;\n",
              "    }\n",
              "\n",
              "    .dataframe tbody tr th {\n",
              "        vertical-align: top;\n",
              "    }\n",
              "\n",
              "    .dataframe thead th {\n",
              "        text-align: right;\n",
              "    }\n",
              "</style>\n",
              "<table border=\"1\" class=\"dataframe\">\n",
              "  <thead>\n",
              "    <tr style=\"text-align: right;\">\n",
              "      <th></th>\n",
              "      <th>premise</th>\n",
              "      <th>choice1</th>\n",
              "      <th>choice2</th>\n",
              "      <th>question</th>\n",
              "      <th>label</th>\n",
              "      <th>idx</th>\n",
              "      <th>premise_lemmas</th>\n",
              "      <th>choice1_lemmas</th>\n",
              "      <th>choice2_lemmas</th>\n",
              "    </tr>\n",
              "  </thead>\n",
              "  <tbody>\n",
              "    <tr>\n",
              "      <th>0</th>\n",
              "      <td>Моё тело отбрасывает тень на траву.</td>\n",
              "      <td>Солнце уже поднялось.</td>\n",
              "      <td>Трава уже подстрижена.</td>\n",
              "      <td>cause</td>\n",
              "      <td>0</td>\n",
              "      <td>0</td>\n",
              "      <td>[мой, тело, отбрасывать, тень, на, трава, .]</td>\n",
              "      <td>[солнце, уже, подняться, .]</td>\n",
              "      <td>[трава, уже, подстричь, .]</td>\n",
              "    </tr>\n",
              "    <tr>\n",
              "      <th>1</th>\n",
              "      <td>Женщина снисходительно относилась к странному поведению подруги.</td>\n",
              "      <td>Женщина знала, что её подруга переживает трудные времена.</td>\n",
              "      <td>Женщина чувствовала, что подруга пользуется её добротой.</td>\n",
              "      <td>cause</td>\n",
              "      <td>0</td>\n",
              "      <td>1</td>\n",
              "      <td>[женщина, снисходительно, относиться, к, странный, поведение, подруга, .]</td>\n",
              "      <td>[женщина, знать, ,, что, ее, подруга, переживать, трудный, время, .]</td>\n",
              "      <td>[женщина, чувствовать, ,, что, подруга, пользоваться, она, доброта, .]</td>\n",
              "    </tr>\n",
              "    <tr>\n",
              "      <th>3</th>\n",
              "      <td>Бегунья была в шортах.</td>\n",
              "      <td>Прогноз обещал высокую температуру.</td>\n",
              "      <td>Она планировала бежать вдоль пляжа.</td>\n",
              "      <td>cause</td>\n",
              "      <td>0</td>\n",
              "      <td>3</td>\n",
              "      <td>[бегунья, быть, в, шорты, .]</td>\n",
              "      <td>[прогноз, обещать, высокий, температура, .]</td>\n",
              "      <td>[она, планировать, бежать, вдоль, пляж, .]</td>\n",
              "    </tr>\n",
              "    <tr>\n",
              "      <th>4</th>\n",
              "      <td>Гости вечеринки прятались за диваном.</td>\n",
              "      <td>Это была вечеринка-сюрприз.</td>\n",
              "      <td>Это был день рождения.</td>\n",
              "      <td>cause</td>\n",
              "      <td>0</td>\n",
              "      <td>4</td>\n",
              "      <td>[гость, вечеринка, прятаться, за, диван, .]</td>\n",
              "      <td>[это, быть, вечеринка-сюрприз, .]</td>\n",
              "      <td>[это, быть, день, рождение, .]</td>\n",
              "    </tr>\n",
              "    <tr>\n",
              "      <th>8</th>\n",
              "      <td>Врач поставил неверный диагноз пациенту.</td>\n",
              "      <td>Пациент подал в суд на врача за халатность.</td>\n",
              "      <td>Пациент поделился с врачом конфиденциальной информацией.</td>\n",
              "      <td>effect</td>\n",
              "      <td>0</td>\n",
              "      <td>8</td>\n",
              "      <td>[врач, поставить, неверный, диагноз, пациент, .]</td>\n",
              "      <td>[пациент, подать, в, суд, на, врач, за, халатность, .]</td>\n",
              "      <td>[пациент, поделиться, с, врач, конфиденциальный, информация, .]</td>\n",
              "    </tr>\n",
              "  </tbody>\n",
              "</table>\n",
              "</div>"
            ],
            "text/plain": [
              "                                                            premise  ...                                                          choice2_lemmas\n",
              "0                               Моё тело отбрасывает тень на траву.  ...                                              [трава, уже, подстричь, .]\n",
              "1  Женщина снисходительно относилась к странному поведению подруги.  ...  [женщина, чувствовать, ,, что, подруга, пользоваться, она, доброта, .]\n",
              "3                                            Бегунья была в шортах.  ...                              [она, планировать, бежать, вдоль, пляж, .]\n",
              "4                             Гости вечеринки прятались за диваном.  ...                                          [это, быть, день, рождение, .]\n",
              "8                          Врач поставил неверный диагноз пациенту.  ...         [пациент, поделиться, с, врач, конфиденциальный, информация, .]\n",
              "\n",
              "[5 rows x 9 columns]"
            ]
          },
          "metadata": {
            "tags": []
          },
          "execution_count": 59
        }
      ]
    },
    {
      "cell_type": "code",
      "metadata": {
        "id": "ytoHsSw6JECd"
      },
      "source": [
        "# [3, 5, 11, 15, 23, 26, 30, 32, 35, 49, 54, 88, 119, 135] # Посмотреть на после 150\r\n",
        "# Full df\r\n",
        "# df"
      ],
      "execution_count": 60,
      "outputs": []
    },
    {
      "cell_type": "code",
      "metadata": {
        "colab": {
          "base_uri": "https://localhost:8080/",
          "height": 521
        },
        "id": "hang8x6H12Uq",
        "outputId": "10dad653-d4ed-4bea-bee1-a140ec3fec94"
      },
      "source": [
        "df.iloc[[3, 5, 11, 15, 23, 26, 30, 32, 35, 49, 54, 88, 119, 135]][['premise', 'choice1', 'choice2', 'question', 'label']]"
      ],
      "execution_count": 63,
      "outputs": [
        {
          "output_type": "execute_result",
          "data": {
            "text/html": [
              "<div>\n",
              "<style scoped>\n",
              "    .dataframe tbody tr th:only-of-type {\n",
              "        vertical-align: middle;\n",
              "    }\n",
              "\n",
              "    .dataframe tbody tr th {\n",
              "        vertical-align: top;\n",
              "    }\n",
              "\n",
              "    .dataframe thead th {\n",
              "        text-align: right;\n",
              "    }\n",
              "</style>\n",
              "<table border=\"1\" class=\"dataframe\">\n",
              "  <thead>\n",
              "    <tr style=\"text-align: right;\">\n",
              "      <th></th>\n",
              "      <th>premise</th>\n",
              "      <th>choice1</th>\n",
              "      <th>choice2</th>\n",
              "      <th>question</th>\n",
              "      <th>label</th>\n",
              "    </tr>\n",
              "  </thead>\n",
              "  <tbody>\n",
              "    <tr>\n",
              "      <th>3</th>\n",
              "      <td>Бегунья была в шортах.</td>\n",
              "      <td>Прогноз обещал высокую температуру.</td>\n",
              "      <td>Она планировала бежать вдоль пляжа.</td>\n",
              "      <td>cause</td>\n",
              "      <td>0</td>\n",
              "    </tr>\n",
              "    <tr>\n",
              "      <th>5</th>\n",
              "      <td>Политик проиграл выборы.</td>\n",
              "      <td>Он использовал плохие лозунги.</td>\n",
              "      <td>Никто не голосовал за него.</td>\n",
              "      <td>cause</td>\n",
              "      <td>1</td>\n",
              "    </tr>\n",
              "    <tr>\n",
              "      <th>11</th>\n",
              "      <td>Пожилая женщина перенесла инсульт.</td>\n",
              "      <td>Её дочь пришла убираться в её доме.</td>\n",
              "      <td>Её дочь переехала в её дом, чтобы заботиться о ней.</td>\n",
              "      <td>effect</td>\n",
              "      <td>1</td>\n",
              "    </tr>\n",
              "    <tr>\n",
              "      <th>15</th>\n",
              "      <td>Девушка ахнула.</td>\n",
              "      <td>Её друг пустил кубик льда вниз по её спине.</td>\n",
              "      <td>Её друг погладил её по спине.</td>\n",
              "      <td>cause</td>\n",
              "      <td>0</td>\n",
              "    </tr>\n",
              "    <tr>\n",
              "      <th>23</th>\n",
              "      <td>Хозяйка отменила праздник.</td>\n",
              "      <td>Ей показалось, что у неё грипп.</td>\n",
              "      <td>Она переживала, что может подхватить грипп.</td>\n",
              "      <td>cause</td>\n",
              "      <td>0</td>\n",
              "    </tr>\n",
              "    <tr>\n",
              "      <th>26</th>\n",
              "      <td>Малышка стала капризничать.</td>\n",
              "      <td>Мать положила её спать.</td>\n",
              "      <td>Мать решила заплести ей косички.</td>\n",
              "      <td>effect</td>\n",
              "      <td>0</td>\n",
              "    </tr>\n",
              "    <tr>\n",
              "      <th>30</th>\n",
              "      <td>Женщина напевала про себя.</td>\n",
              "      <td>Она нервничала.</td>\n",
              "      <td>Она была в хорошем настроении.</td>\n",
              "      <td>cause</td>\n",
              "      <td>1</td>\n",
              "    </tr>\n",
              "    <tr>\n",
              "      <th>32</th>\n",
              "      <td>Полицейские направили оружие на беглеца.</td>\n",
              "      <td>Беглец упал на землю.</td>\n",
              "      <td>Беглец бросил ружьё.</td>\n",
              "      <td>effect</td>\n",
              "      <td>1</td>\n",
              "    </tr>\n",
              "    <tr>\n",
              "      <th>35</th>\n",
              "      <td>Человек сразу вскочил с постели.</td>\n",
              "      <td>Он хотел выключить будильник.</td>\n",
              "      <td>Он хотел погладить брюки перед работой.</td>\n",
              "      <td>cause</td>\n",
              "      <td>0</td>\n",
              "    </tr>\n",
              "    <tr>\n",
              "      <th>49</th>\n",
              "      <td>Дети опрокинули лампу.</td>\n",
              "      <td>У них был бой подушками.</td>\n",
              "      <td>Они прыгали на кровати.</td>\n",
              "      <td>cause</td>\n",
              "      <td>0</td>\n",
              "    </tr>\n",
              "    <tr>\n",
              "      <th>54</th>\n",
              "      <td>Человек подписал документ.</td>\n",
              "      <td>Сделка была аннулирована.</td>\n",
              "      <td>Сделка стала официальной.</td>\n",
              "      <td>effect</td>\n",
              "      <td>1</td>\n",
              "    </tr>\n",
              "    <tr>\n",
              "      <th>88</th>\n",
              "      <td>Мужчина закрыл книгу.</td>\n",
              "      <td>Он закончил её читать.</td>\n",
              "      <td>Она заставила его задуматься.</td>\n",
              "      <td>cause</td>\n",
              "      <td>0</td>\n",
              "    </tr>\n",
              "    <tr>\n",
              "      <th>119</th>\n",
              "      <td>Болельщики на стадионе ликовали.</td>\n",
              "      <td>Игра завершилась вничью.</td>\n",
              "      <td>Игрок забил гол.</td>\n",
              "      <td>cause</td>\n",
              "      <td>1</td>\n",
              "    </tr>\n",
              "    <tr>\n",
              "      <th>135</th>\n",
              "      <td>Фонарик не работал.</td>\n",
              "      <td>Я разобрал его.</td>\n",
              "      <td>Я заменил батарейки.</td>\n",
              "      <td>effect</td>\n",
              "      <td>1</td>\n",
              "    </tr>\n",
              "  </tbody>\n",
              "</table>\n",
              "</div>"
            ],
            "text/plain": [
              "                                      premise  ... label\n",
              "3                      Бегунья была в шортах.  ...     0\n",
              "5                    Политик проиграл выборы.  ...     1\n",
              "11         Пожилая женщина перенесла инсульт.  ...     1\n",
              "15                            Девушка ахнула.  ...     0\n",
              "23                 Хозяйка отменила праздник.  ...     0\n",
              "26                Малышка стала капризничать.  ...     0\n",
              "30                 Женщина напевала про себя.  ...     1\n",
              "32   Полицейские направили оружие на беглеца.  ...     1\n",
              "35           Человек сразу вскочил с постели.  ...     0\n",
              "49                     Дети опрокинули лампу.  ...     0\n",
              "54                 Человек подписал документ.  ...     1\n",
              "88                      Мужчина закрыл книгу.  ...     0\n",
              "119          Болельщики на стадионе ликовали.  ...     1\n",
              "135                       Фонарик не работал.  ...     1\n",
              "\n",
              "[14 rows x 5 columns]"
            ]
          },
          "metadata": {
            "tags": []
          },
          "execution_count": 63
        }
      ]
    },
    {
      "cell_type": "code",
      "metadata": {
        "colab": {
          "base_uri": "https://localhost:8080/"
        },
        "id": "tSj3mDoI39UZ",
        "outputId": "85d9205b-1e98-445f-cba7-40d75f172d06"
      },
      "source": [
        "df[df['question']=='effect'].label.value_counts()"
      ],
      "execution_count": 74,
      "outputs": [
        {
          "output_type": "execute_result",
          "data": {
            "text/plain": [
              "1    104\n",
              "0     98\n",
              "Name: label, dtype: int64"
            ]
          },
          "metadata": {
            "tags": []
          },
          "execution_count": 74
        }
      ]
    },
    {
      "cell_type": "code",
      "metadata": {
        "colab": {
          "base_uri": "https://localhost:8080/"
        },
        "id": "XMuo2UVA4EGZ",
        "outputId": "8db6e236-0982-44dc-bfb4-87e0f5cf9256"
      },
      "source": [
        "df[df['question']=='cause'].label.value_counts()"
      ],
      "execution_count": 75,
      "outputs": [
        {
          "output_type": "execute_result",
          "data": {
            "text/plain": [
              "1    101\n",
              "0     97\n",
              "Name: label, dtype: int64"
            ]
          },
          "metadata": {
            "tags": []
          },
          "execution_count": 75
        }
      ]
    }
  ]
}