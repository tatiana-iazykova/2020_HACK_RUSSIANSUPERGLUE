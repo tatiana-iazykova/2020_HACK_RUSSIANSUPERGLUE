{
  "nbformat": 4,
  "nbformat_minor": 0,
  "metadata": {
    "colab": {
      "name": "RSG_RuCoS .ipynb\"",
      "provenance": [],
      "collapsed_sections": [
        "RQCtN9CknDMH",
        "yUz8ovXonGUV",
        "9Wb3fB0LorSc",
        "hROuboI4O47_",
        "IDr9yTK6YHl-",
        "Lr75O558GsoL"
      ],
      "toc_visible": true
    },
    "kernelspec": {
      "name": "python3",
      "display_name": "Python 3"
    }
  },
  "cells": [
    {
      "cell_type": "markdown",
      "metadata": {
        "id": "xGZSqd8Rb6_D"
      },
      "source": [
        "**Результаты so far:**\r\n",
        "*  Воспроизведен бейзлайн RSG\r\n",
        "\r\n",
        "\r\n"
      ]
    },
    {
      "cell_type": "markdown",
      "metadata": {
        "id": "RQCtN9CknDMH"
      },
      "source": [
        "# Data"
      ]
    },
    {
      "cell_type": "code",
      "metadata": {
        "id": "FpR1j_wefIYD"
      },
      "source": [
        "%%capture\n",
        "%%bash\n",
        "# change url if you want to work with a different RSG dataset\n",
        "wget -q --show-progress \"https://russiansuperglue.com/tasks/download/RuCoS\" -O temp.zip\n",
        "unzip temp.zip -d data\n",
        "\n",
        "# remove unnecessary directories and files\n",
        "rm temp.zip\n",
        "rm -r data/__MACOSX\n",
        "rm -r sample_data/"
      ],
      "execution_count": 1,
      "outputs": []
    },
    {
      "cell_type": "code",
      "metadata": {
        "id": "_lO4NQ4Etd8w"
      },
      "source": [
        "# Load necessary code files and models from https://github.com/RussianNLP/RussianSuperGLUE \r\n",
        "# to recreate TfIdf baseline\r\n",
        "\r\n",
        "%%capture\r\n",
        "%%bash\r\n",
        "# load tfidf pickle created by RSG team\r\n",
        "wget -q --show-progress \"https://russiansuperglue.com/tasks/tf_idf\" -O temp.zip\r\n",
        "unzip temp.zip -d data\r\n",
        "rm temp.zip\r\n",
        "\r\n",
        "# Make sure you donwload with the raw file link\r\n",
        "# Keep the link relevant to your dataset\r\n",
        "wget -q --show-progress \"https://github.com/RussianNLP/RussianSuperGLUE/raw/master/tfidf_baseline/RuCoS.py\" -O RuCoS.py"
      ],
      "execution_count": 2,
      "outputs": []
    },
    {
      "cell_type": "code",
      "metadata": {
        "id": "6B35hR1UfhM-"
      },
      "source": [
        "import pandas as pd\n",
        "import json\n",
        "pd.set_option('display.max_colwidth', None)\n",
        "pd.set_option('display.max_rows', 80)\n",
        "\n",
        "class JSONL_handler():\n",
        "    \"\"\" opens a jsonl file and turns it into a necessary data structure \"\"\"\n",
        "    \n",
        "    def __init__(self, path):\n",
        "        self.path = path # path to jsonl file\n",
        "\n",
        "    def to_pandas(self):\n",
        "        \"\"\" get jsonl file content as a pandas DataFrame\"\"\"\n",
        "\n",
        "        text_df = pd.DataFrame(columns=['text', 'entities'])\n",
        "        questions_df = pd.DataFrame(columns=['text_id',\n",
        "                                             'question', 'answers'])\n",
        "\n",
        "        lines = self.yield_lines()\n",
        "\n",
        "        for passage_id, line in enumerate(lines):\n",
        "            text, entities, questions = self.split_text_and_questions(line)\n",
        "            text_df = text_df.append({'text':text, 'entities': entities}, \n",
        "                           ignore_index=True)\n",
        "            for i in range(len(questions)):\n",
        "                questions_df = questions_df.append({'text_id': passage_id,\n",
        "                                    'question': questions[i]['query'],\n",
        "                                     'answers': questions[i]['answers']},\n",
        "                                    ignore_index=True)\n",
        "        return text_df, questions_df\n",
        "\n",
        "    def yield_lines(self):\n",
        "        \"\"\" yields json lines one by one \"\"\"\n",
        "        with open(self.path) as f:\n",
        "            for line in f:\n",
        "                yield json.loads(line)\n",
        "\n",
        "\n",
        "    def split_text_and_questions(self, line):\n",
        "        \"\"\" transforms a complex json object into a single row dataframe\"\"\"\n",
        "        text = line['passage']['text']\n",
        "        entities = line['passage']['entities']\n",
        "        questions = line['qas']\n",
        "\n",
        "        return text, entities, questions"
      ],
      "execution_count": 51,
      "outputs": []
    },
    {
      "cell_type": "code",
      "metadata": {
        "id": "IvQYkbBoFb8y"
      },
      "source": [
        "train = JSONL_handler('data/RuCoS/train.jsonl')\r\n",
        "text, questions = train.to_pandas()\r\n",
        "\r\n",
        "# valid = JSONL_handler('data/RuCoS/val.jsonl')\r\n",
        "# valid = valid.to_pandas()"
      ],
      "execution_count": 52,
      "outputs": []
    },
    {
      "cell_type": "code",
      "metadata": {
        "colab": {
          "base_uri": "https://localhost:8080/"
        },
        "id": "sHG40xUs8-e_",
        "outputId": "fb4b1cbf-0b0c-4a33-c95a-4001fe5171dd"
      },
      "source": [
        "text.shape, questions.shape"
      ],
      "execution_count": 55,
      "outputs": [
        {
          "output_type": "execute_result",
          "data": {
            "text/plain": [
              "((72193, 2), (72193, 3))"
            ]
          },
          "metadata": {
            "tags": []
          },
          "execution_count": 55
        }
      ]
    },
    {
      "cell_type": "code",
      "metadata": {
        "colab": {
          "base_uri": "https://localhost:8080/",
          "height": 1000
        },
        "id": "j-_k91DyACBF",
        "outputId": "61bdf3be-db81-412d-f26b-988bc22dbf3d"
      },
      "source": [
        "text.head()"
      ],
      "execution_count": 56,
      "outputs": [
        {
          "output_type": "execute_result",
          "data": {
            "text/html": [
              "<div>\n",
              "<style scoped>\n",
              "    .dataframe tbody tr th:only-of-type {\n",
              "        vertical-align: middle;\n",
              "    }\n",
              "\n",
              "    .dataframe tbody tr th {\n",
              "        vertical-align: top;\n",
              "    }\n",
              "\n",
              "    .dataframe thead th {\n",
              "        text-align: right;\n",
              "    }\n",
              "</style>\n",
              "<table border=\"1\" class=\"dataframe\">\n",
              "  <thead>\n",
              "    <tr style=\"text-align: right;\">\n",
              "      <th></th>\n",
              "      <th>text</th>\n",
              "      <th>entities</th>\n",
              "    </tr>\n",
              "  </thead>\n",
              "  <tbody>\n",
              "    <tr>\n",
              "      <th>0</th>\n",
              "      <td>Наблюдатели полагают, что подоплекой теракта в Домодедово является провал кавказской политики российского правительства, указывает немецкая печать. Немецкая печать продолжает комментировать теракт в Домодедово. Так, газета Süddeutsche Zeitung пишет:\\nНу, конечно же, после взрыва в Домодедово вновь обнаруживается \"кавказский след\". Его обнаруживают почти всегда, когда в России взрывается бомба в метро, в поезде или на рынке. И неважно, что очевидцы нередко не в состоянии сказать, был ли преступник женщиной в чадре или же мужчиной, грозившим всех уничтожить.Среди жертв взрыва в Домодедово есть граждане Германии, Великобритании, Австрии. Ежедневно в Москве совершают посадку более 3 десятков самолетов из Германии.\\n@highlight\\nНемецкий менеджер аэропорта Домодедово отвергает обвинения Медведева\\n@highlight\\nТеракт в Домодедово: системные просчеты\\n@highlight\\nКомментарий: Провал российских спецслужб</td>\n",
              "      <td>[{'start': 47, 'end': 57}, {'start': 199, 'end': 209}, {'start': 223, 'end': 242}, {'start': 281, 'end': 291}, {'start': 371, 'end': 377}, {'start': 582, 'end': 592}, {'start': 607, 'end': 615}, {'start': 617, 'end': 631}, {'start': 633, 'end': 640}, {'start': 654, 'end': 660}, {'start': 709, 'end': 717}, {'start': 758, 'end': 768}, {'start': 789, 'end': 798}, {'start': 819, 'end': 829}]</td>\n",
              "    </tr>\n",
              "    <tr>\n",
              "      <th>1</th>\n",
              "      <td>О вторжении на Украину танковой колонны из РФ сообщил представитель СНБО Украины Лысенко. Москва опровергла эту информацию, назвав ее провокацией. На территорию восточной Украины из России вошла колонна из 32 танков, заявили власти в Киеве. Помимо этого, границу с Луганской областью пересекли 30 грузовиков с бойцами, 16 гаубиц и другая военная техника, сообщил представитель Совета национальной безопасности и обороны (СНБО) Украины Андрей Лысенко на брифинге в Киеве в пятницу, 7 ноября. По его словам, колонна движется в направлении города Красный луч. Переброска военного оборудования и российских наемников на линии фронта продолжается, резюмировал представитель СНБО.\\n@highlight\\nВ Германии за сутки выявлено более 100 новых заражений коронавирусом\\n@highlight\\nРыночные цены на нефть рухнули из-за провала переговоров ОПЕК+\\n@highlight\\nВ Италии за сутки произошел резкий скачок смертей от COVID-19</td>\n",
              "      <td>[{'start': 15, 'end': 22}, {'start': 43, 'end': 45}, {'start': 68, 'end': 72}, {'start': 73, 'end': 80}, {'start': 81, 'end': 88}, {'start': 90, 'end': 96}, {'start': 171, 'end': 178}, {'start': 182, 'end': 188}, {'start': 234, 'end': 239}, {'start': 265, 'end': 283}, {'start': 421, 'end': 425}, {'start': 427, 'end': 434}, {'start': 435, 'end': 449}, {'start': 464, 'end': 469}, {'start': 544, 'end': 555}, {'start': 669, 'end': 673}, {'start': 688, 'end': 696}, {'start': 823, 'end': 827}, {'start': 842, 'end': 848}]</td>\n",
              "    </tr>\n",
              "    <tr>\n",
              "      <th>2</th>\n",
              "      <td>Год назад Владимир Путин вновь стал президентом России. С тех пор протесты против его возвращения в Кремль поутихли. Но это внешнее спокойствие - обманчиво, считает Инго Маннтойфель. Настоящая стабильность возможна только при наличии правового государства и демократических институтов, которые способны поддерживать в равновесии различные общественные интересы. Ведь то, что может произойти в противном случае, не хочется даже себе представлять. @header Стабильность возможна только в правовом государстве Помня о русской традиции насильственных революционных переворотов, которые неизменно отбрасывали страну назад, хочется надеяться, что в Кремле осознают необходимость эволюционного развития и, следовательно, либеральных реформ.\\n@highlight\\nВ Германии за сутки выявлено более 100 новых заражений коронавирусом\\n@highlight\\nКомментарий: Россия накануне эпидемии - виноватые назначены заранее\\n@highlight\\nТуризм в эпоху коронавируса: куда поехать? И ехать ли вообще?</td>\n",
              "      <td>[{'start': 10, 'end': 24}, {'start': 48, 'end': 54}, {'start': 100, 'end': 106}, {'start': 165, 'end': 181}, {'start': 642, 'end': 648}, {'start': 746, 'end': 754}, {'start': 837, 'end': 843}]</td>\n",
              "    </tr>\n",
              "    <tr>\n",
              "      <th>3</th>\n",
              "      <td>Союз девяти ведущих технических университетов Германии TU9 не только \"наводит шороху\" в немецкой политике, но и обращает самое пристальное внимание на российских студентов. Совсем скоро ждите TU9 в стране ТУ-134. Когда в 2006 году в немецком образовании, словно ниоткуда, появился новый игрок - Союз технических университетов ТU9 - мало кто воспринял организацию всерьез. Мол, \"физики\" опять что-то придумали. Сегодня ТU9 на равных борется с \"Болонской реформой\" за сохранение традиционных дипломов специалистов-инженеров (Diplom-Ingenieur), и пока исход схватки не определен. За какие-то четыре года союз доказал, что он - сила.\\n@highlight\\nНа учебу в Германию: коротко о главном\\n@highlight\\n\"Приключения немецких вузов\" в России, или Приходите на ярмарку\\n@highlight\\nКак составляется рекомендательное письмо: советы потенциальным стипендиатам</td>\n",
              "      <td>[{'start': 46, 'end': 54}, {'start': 55, 'end': 58}, {'start': 192, 'end': 195}, {'start': 295, 'end': 329}, {'start': 418, 'end': 421}, {'start': 652, 'end': 660}, {'start': 722, 'end': 728}]</td>\n",
              "    </tr>\n",
              "    <tr>\n",
              "      <th>4</th>\n",
              "      <td>В столичной мэрии это решение мотивировали особыми мерами безопасности во время проведения ЧМ-2018. Организаторы акции намерены провести пикет у Госдумы. Московские власти не согласовали проведение в центре российской столицы митинга против изменения пенсионного законодательства. Об этом во вторник, 10 июля, рассказал агентству \"Интерфакс\" один из заявителей акции Сергей Митрохин. Митинг был намечен на 18 июля. Как пенсионная реформа повлияет на взаимоотношения поколений и почему отказ от планирования жизни - самая рациональная стратегия в России?\\n@highlight\\nРыночные цены на нефть рухнули из-за провала переговоров ОПЕК+\\n@highlight\\nОт COVID-19 впервые скончался гражданин Германии\\n@highlight\\nДоклад SIPRI: Кризисы стимулируют торговлю оружием в мире</td>\n",
              "      <td>[{'start': 145, 'end': 152}, {'start': 331, 'end': 340}, {'start': 367, 'end': 382}, {'start': 546, 'end': 552}, {'start': 622, 'end': 626}, {'start': 679, 'end': 687}, {'start': 706, 'end': 711}]</td>\n",
              "    </tr>\n",
              "  </tbody>\n",
              "</table>\n",
              "</div>"
            ],
            "text/plain": [
              "                                                                                                                                                                                                                                                                                                                                                                                                                                                                                                                                                                                                                                                                                                                                                                                                                                                                                                                                                                                                         text                                                                                                                                                                                                                                                                                                                                                                                                                                                                                                                                  entities\n",
              "0                                                                Наблюдатели полагают, что подоплекой теракта в Домодедово является провал кавказской политики российского правительства, указывает немецкая печать. Немецкая печать продолжает комментировать теракт в Домодедово. Так, газета Süddeutsche Zeitung пишет:\\nНу, конечно же, после взрыва в Домодедово вновь обнаруживается \"кавказский след\". Его обнаруживают почти всегда, когда в России взрывается бомба в метро, в поезде или на рынке. И неважно, что очевидцы нередко не в состоянии сказать, был ли преступник женщиной в чадре или же мужчиной, грозившим всех уничтожить.Среди жертв взрыва в Домодедово есть граждане Германии, Великобритании, Австрии. Ежедневно в Москве совершают посадку более 3 десятков самолетов из Германии.\\n@highlight\\nНемецкий менеджер аэропорта Домодедово отвергает обвинения Медведева\\n@highlight\\nТеракт в Домодедово: системные просчеты\\n@highlight\\nКомментарий: Провал российских спецслужб                                                                                                                                    [{'start': 47, 'end': 57}, {'start': 199, 'end': 209}, {'start': 223, 'end': 242}, {'start': 281, 'end': 291}, {'start': 371, 'end': 377}, {'start': 582, 'end': 592}, {'start': 607, 'end': 615}, {'start': 617, 'end': 631}, {'start': 633, 'end': 640}, {'start': 654, 'end': 660}, {'start': 709, 'end': 717}, {'start': 758, 'end': 768}, {'start': 789, 'end': 798}, {'start': 819, 'end': 829}]\n",
              "1                                                                 О вторжении на Украину танковой колонны из РФ сообщил представитель СНБО Украины Лысенко. Москва опровергла эту информацию, назвав ее провокацией. На территорию восточной Украины из России вошла колонна из 32 танков, заявили власти в Киеве. Помимо этого, границу с Луганской областью пересекли 30 грузовиков с бойцами, 16 гаубиц и другая военная техника, сообщил представитель Совета национальной безопасности и обороны (СНБО) Украины Андрей Лысенко на брифинге в Киеве в пятницу, 7 ноября. По его словам, колонна движется в направлении города Красный луч. Переброска военного оборудования и российских наемников на линии фронта продолжается, резюмировал представитель СНБО.\\n@highlight\\nВ Германии за сутки выявлено более 100 новых заражений коронавирусом\\n@highlight\\nРыночные цены на нефть рухнули из-за провала переговоров ОПЕК+\\n@highlight\\nВ Италии за сутки произошел резкий скачок смертей от COVID-19  [{'start': 15, 'end': 22}, {'start': 43, 'end': 45}, {'start': 68, 'end': 72}, {'start': 73, 'end': 80}, {'start': 81, 'end': 88}, {'start': 90, 'end': 96}, {'start': 171, 'end': 178}, {'start': 182, 'end': 188}, {'start': 234, 'end': 239}, {'start': 265, 'end': 283}, {'start': 421, 'end': 425}, {'start': 427, 'end': 434}, {'start': 435, 'end': 449}, {'start': 464, 'end': 469}, {'start': 544, 'end': 555}, {'start': 669, 'end': 673}, {'start': 688, 'end': 696}, {'start': 823, 'end': 827}, {'start': 842, 'end': 848}]\n",
              "2  Год назад Владимир Путин вновь стал президентом России. С тех пор протесты против его возвращения в Кремль поутихли. Но это внешнее спокойствие - обманчиво, считает Инго Маннтойфель. Настоящая стабильность возможна только при наличии правового государства и демократических институтов, которые способны поддерживать в равновесии различные общественные интересы. Ведь то, что может произойти в противном случае, не хочется даже себе представлять. @header Стабильность возможна только в правовом государстве Помня о русской традиции насильственных революционных переворотов, которые неизменно отбрасывали страну назад, хочется надеяться, что в Кремле осознают необходимость эволюционного развития и, следовательно, либеральных реформ.\\n@highlight\\nВ Германии за сутки выявлено более 100 новых заражений коронавирусом\\n@highlight\\nКомментарий: Россия накануне эпидемии - виноватые назначены заранее\\n@highlight\\nТуризм в эпоху коронавируса: куда поехать? И ехать ли вообще?                                                                                                                                                                                                                                                                                                                                          [{'start': 10, 'end': 24}, {'start': 48, 'end': 54}, {'start': 100, 'end': 106}, {'start': 165, 'end': 181}, {'start': 642, 'end': 648}, {'start': 746, 'end': 754}, {'start': 837, 'end': 843}]\n",
              "3                                                                                                                             Союз девяти ведущих технических университетов Германии TU9 не только \"наводит шороху\" в немецкой политике, но и обращает самое пристальное внимание на российских студентов. Совсем скоро ждите TU9 в стране ТУ-134. Когда в 2006 году в немецком образовании, словно ниоткуда, появился новый игрок - Союз технических университетов ТU9 - мало кто воспринял организацию всерьез. Мол, \"физики\" опять что-то придумали. Сегодня ТU9 на равных борется с \"Болонской реформой\" за сохранение традиционных дипломов специалистов-инженеров (Diplom-Ingenieur), и пока исход схватки не определен. За какие-то четыре года союз доказал, что он - сила.\\n@highlight\\nНа учебу в Германию: коротко о главном\\n@highlight\\n\"Приключения немецких вузов\" в России, или Приходите на ярмарку\\n@highlight\\nКак составляется рекомендательное письмо: советы потенциальным стипендиатам                                                                                                                                                                                                                                                                                                                                          [{'start': 46, 'end': 54}, {'start': 55, 'end': 58}, {'start': 192, 'end': 195}, {'start': 295, 'end': 329}, {'start': 418, 'end': 421}, {'start': 652, 'end': 660}, {'start': 722, 'end': 728}]\n",
              "4                                                                                                                                                                                                                  В столичной мэрии это решение мотивировали особыми мерами безопасности во время проведения ЧМ-2018. Организаторы акции намерены провести пикет у Госдумы. Московские власти не согласовали проведение в центре российской столицы митинга против изменения пенсионного законодательства. Об этом во вторник, 10 июля, рассказал агентству \"Интерфакс\" один из заявителей акции Сергей Митрохин. Митинг был намечен на 18 июля. Как пенсионная реформа повлияет на взаимоотношения поколений и почему отказ от планирования жизни - самая рациональная стратегия в России?\\n@highlight\\nРыночные цены на нефть рухнули из-за провала переговоров ОПЕК+\\n@highlight\\nОт COVID-19 впервые скончался гражданин Германии\\n@highlight\\nДоклад SIPRI: Кризисы стимулируют торговлю оружием в мире                                                                                                                                                                                                                                                                                                                                      [{'start': 145, 'end': 152}, {'start': 331, 'end': 340}, {'start': 367, 'end': 382}, {'start': 546, 'end': 552}, {'start': 622, 'end': 626}, {'start': 679, 'end': 687}, {'start': 706, 'end': 711}]"
            ]
          },
          "metadata": {
            "tags": []
          },
          "execution_count": 56
        }
      ]
    },
    {
      "cell_type": "code",
      "metadata": {
        "colab": {
          "base_uri": "https://localhost:8080/",
          "height": 375
        },
        "id": "wbbiCdWk9TQR",
        "outputId": "bd1f1137-40fa-476f-f24e-02a1866669d2"
      },
      "source": [
        "questions.head()"
      ],
      "execution_count": 57,
      "outputs": [
        {
          "output_type": "execute_result",
          "data": {
            "text/html": [
              "<div>\n",
              "<style scoped>\n",
              "    .dataframe tbody tr th:only-of-type {\n",
              "        vertical-align: middle;\n",
              "    }\n",
              "\n",
              "    .dataframe tbody tr th {\n",
              "        vertical-align: top;\n",
              "    }\n",
              "\n",
              "    .dataframe thead th {\n",
              "        text-align: right;\n",
              "    }\n",
              "</style>\n",
              "<table border=\"1\" class=\"dataframe\">\n",
              "  <thead>\n",
              "    <tr style=\"text-align: right;\">\n",
              "      <th></th>\n",
              "      <th>text_id</th>\n",
              "      <th>question</th>\n",
              "      <th>answers</th>\n",
              "    </tr>\n",
              "  </thead>\n",
              "  <tbody>\n",
              "    <tr>\n",
              "      <th>0</th>\n",
              "      <td>0</td>\n",
              "      <td>Кроме того, серьезным вызовом для России становится стремительно развивающийся Китай.Еще в понедельник @placeholder в рамках спора о системе противоракетной обороны пригрозил размещением дополнительных ракетных комплексов.</td>\n",
              "      <td>[{'start': 789, 'end': 798, 'text': 'Медведева'}]</td>\n",
              "    </tr>\n",
              "    <tr>\n",
              "      <th>1</th>\n",
              "      <td>1</td>\n",
              "      <td>Россия категорически опровергла сообщение @placeholder, назвав его провокацией.</td>\n",
              "      <td>[{'start': 81, 'end': 88, 'text': 'Лысенко'}, {'start': 435, 'end': 449, 'text': 'Андрей Лысенко'}]</td>\n",
              "    </tr>\n",
              "    <tr>\n",
              "      <th>2</th>\n",
              "      <td>2</td>\n",
              "      <td>@placeholder, руководитель отдела Восточной Европы и главный редактор русской редакции Deutsche Welle</td>\n",
              "      <td>[{'start': 165, 'end': 181, 'text': 'Инго Маннтойфель'}]</td>\n",
              "    </tr>\n",
              "    <tr>\n",
              "      <th>3</th>\n",
              "      <td>3</td>\n",
              "      <td>@placeholder позиционирует себя как союз независимых университетов, которые заинтересованы не столько в государственной поддержке, сколько в сотрудничестве с реальным сектором экономики, производством и бизнесом.</td>\n",
              "      <td>[{'start': 55, 'end': 58, 'text': 'TU9'}, {'start': 192, 'end': 195, 'text': 'TU9'}]</td>\n",
              "    </tr>\n",
              "    <tr>\n",
              "      <th>4</th>\n",
              "      <td>4</td>\n",
              "      <td>Согласно указу президента @placeholder особые меры безопасности в местах проведения турнира действуют с 25 мая по 25 июля.</td>\n",
              "      <td>[{'start': 546, 'end': 552, 'text': 'России'}]</td>\n",
              "    </tr>\n",
              "  </tbody>\n",
              "</table>\n",
              "</div>"
            ],
            "text/plain": [
              "  text_id  ...                                                                                              answers\n",
              "0       0  ...                                                    [{'start': 789, 'end': 798, 'text': 'Медведева'}]\n",
              "1       1  ...  [{'start': 81, 'end': 88, 'text': 'Лысенко'}, {'start': 435, 'end': 449, 'text': 'Андрей Лысенко'}]\n",
              "2       2  ...                                             [{'start': 165, 'end': 181, 'text': 'Инго Маннтойфель'}]\n",
              "3       3  ...                 [{'start': 55, 'end': 58, 'text': 'TU9'}, {'start': 192, 'end': 195, 'text': 'TU9'}]\n",
              "4       4  ...                                                       [{'start': 546, 'end': 552, 'text': 'России'}]\n",
              "\n",
              "[5 rows x 3 columns]"
            ]
          },
          "metadata": {
            "tags": []
          },
          "execution_count": 57
        }
      ]
    },
    {
      "cell_type": "markdown",
      "metadata": {
        "id": "2X3ThEhLJ7H5"
      },
      "source": [
        "# RSG Baseline"
      ]
    },
    {
      "cell_type": "code",
      "metadata": {
        "id": "v6gTHxV6tuxg"
      },
      "source": [
        "%%capture\r\n",
        "!pip install jsonlines"
      ],
      "execution_count": 3,
      "outputs": []
    },
    {
      "cell_type": "code",
      "metadata": {
        "id": "eXVLSTWVO--P"
      },
      "source": [
        "import pickle\r\n",
        "import codecs\r\n",
        "import joblib\r\n",
        "import RuCoS\r\n",
        "\r\n",
        "vect = joblib.load(\"data/tfidf.pkl\")"
      ],
      "execution_count": null,
      "outputs": []
    },
    {
      "cell_type": "code",
      "metadata": {
        "colab": {
          "base_uri": "https://localhost:8080/"
        },
        "id": "40sKfzbAvkiU",
        "outputId": "05d366ed-da2e-4162-cf21-370b377f1994"
      },
      "source": [
        "train_path = \"data/RuCoS/train.jsonl\"\r\n",
        "val_path = \"data/RuCoS/val.jsonl\"\r\n",
        "test_path = \"data/RuCoS/test.jsonl\"\r\n",
        "\r\n",
        "_, RuCoS_scores = RuCoS.eval_RuCoS(train_path, val_path, test_path, vect)\r\n",
        "\r\n",
        "\r\n",
        "val_em = RuCoS_scores['val'][0]\r\n",
        "val_f1 = RuCoS_scores['val'][1]\r\n",
        "\r\n",
        "print(f\"EM Score on Validation: {val_em}\") # should be around 0.22\r\n",
        "\r\n",
        "print(f\"F1 Score on Validation: {val_f1}\") # should be around 0.23"
      ],
      "execution_count": 10,
      "outputs": [
        {
          "output_type": "stream",
          "text": [
            "EM Score on Validation: 0.22964233865646033\n",
            "F1 Score on Validation: 0.235315208305838\n"
          ],
          "name": "stdout"
        }
      ]
    }
  ]
}