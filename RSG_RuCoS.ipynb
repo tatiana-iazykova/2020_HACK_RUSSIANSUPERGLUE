{
  "nbformat": 4,
  "nbformat_minor": 0,
  "metadata": {
    "colab": {
      "name": "RSG_RuCoS.ipynb",
      "provenance": [],
      "collapsed_sections": [
        "aLOrcPtfh7Ke"
      ],
      "authorship_tag": "ABX9TyN/lMHf+oPFXhZe3bVjwan7",
      "include_colab_link": true
    },
    "kernelspec": {
      "display_name": "Python 3",
      "name": "python3"
    }
  },
  "cells": [
    {
      "cell_type": "markdown",
      "metadata": {
        "id": "view-in-github",
        "colab_type": "text"
      },
      "source": [
        "<a href=\"https://colab.research.google.com/github/tatiana-iazykova/2020_HACK_RUSSIANSUPERGLUE/blob/main/RSG_RuCoS.ipynb\" target=\"_parent\"><img src=\"https://colab.research.google.com/assets/colab-badge.svg\" alt=\"Open In Colab\"/></a>"
      ]
    },
    {
      "cell_type": "markdown",
      "metadata": {
        "id": "RQCtN9CknDMH"
      },
      "source": [
        "# Data"
      ]
    },
    {
      "cell_type": "code",
      "metadata": {
        "id": "FpR1j_wefIYD"
      },
      "source": [
        "%%capture\n",
        "%%bash\n",
        "# change url if you want to work with a different RSG dataset\n",
        "wget -q --show-progress \"https://russiansuperglue.com/tasks/download/RuCoS\" -O temp.zip\n",
        "unzip temp.zip -d data\n",
        "\n",
        "# remove unnecessary directories and files\n",
        "rm temp.zip\n",
        "rm -r data/__MACOSX\n",
        "rm -r sample_data/"
      ],
      "execution_count": 1,
      "outputs": []
    },
    {
      "cell_type": "code",
      "metadata": {
        "id": "_lO4NQ4Etd8w"
      },
      "source": [
        "# Load necessary code files and models from https://github.com/RussianNLP/RussianSuperGLUE \r\n",
        "# to recreate TfIdf baseline\r\n",
        "\r\n",
        "%%capture\r\n",
        "%%bash\r\n",
        "# load tfidf pickle created by RSG team\r\n",
        "wget -q --show-progress \"https://russiansuperglue.com/tasks/tf_idf\" -O temp.zip\r\n",
        "unzip temp.zip -d data\r\n",
        "rm temp.zip\r\n",
        "\r\n",
        "# Make sure you donwload with the raw file link\r\n",
        "# Keep the link relevant to your dataset\r\n",
        "wget -q --show-progress \"https://github.com/RussianNLP/RussianSuperGLUE/raw/master/tfidf_baseline/RuCoS.py\" -O RuCoS.py"
      ],
      "execution_count": 2,
      "outputs": []
    },
    {
      "cell_type": "code",
      "metadata": {
        "id": "6B35hR1UfhM-"
      },
      "source": [
        "import pandas as pd\n",
        "import json\n",
        "pd.set_option('display.max_colwidth', None)\n",
        "pd.set_option('display.max_rows', 80)\n",
        "\n",
        "class JSONL_handler():\n",
        "    \"\"\" opens a jsonl file and turns it into a necessary data structure \"\"\"\n",
        "    \n",
        "    def __init__(self, path):\n",
        "        self.path = path # path to jsonl file\n",
        "\n",
        "    def to_pandas(self):\n",
        "        \"\"\" get jsonl file content as a pandas DataFrame\"\"\"\n",
        "\n",
        "        text_df = pd.DataFrame(columns=['text', 'entities'])\n",
        "        questions_df = pd.DataFrame(columns=['text_id',\n",
        "                                             'question', 'answers'])\n",
        "\n",
        "        lines = self.yield_lines()\n",
        "\n",
        "        for passage_id, line in enumerate(lines):\n",
        "            text, entities, questions = self.split_text_and_questions(line)\n",
        "            text_df = text_df.append({'text':text, 'entities': entities}, \n",
        "                           ignore_index=True)\n",
        "            for i in range(len(questions)):\n",
        "                questions_df = questions_df.append({'text_id': passage_id,\n",
        "                                    'question': questions[i]['query'],\n",
        "                                     'answers': questions[i]['answers']},\n",
        "                                    ignore_index=True)\n",
        "        return text_df, questions_df\n",
        "\n",
        "    def yield_lines(self):\n",
        "        \"\"\" yields json lines one by one \"\"\"\n",
        "        with open(self.path) as f:\n",
        "            for line in f:\n",
        "                yield json.loads(line)\n",
        "\n",
        "\n",
        "    def split_text_and_questions(self, line):\n",
        "        \"\"\" transforms a complex json object into a single row dataframe\"\"\"\n",
        "        text = line['passage']['text']\n",
        "        entities = line['passage']['entities']\n",
        "        questions = line['qas']\n",
        "\n",
        "        return text, entities, questions"
      ],
      "execution_count": 3,
      "outputs": []
    },
    {
      "cell_type": "code",
      "metadata": {
        "id": "IvQYkbBoFb8y"
      },
      "source": [
        "train = JSONL_handler('data/RuCoS/train.jsonl')\r\n",
        "texts_train, questions_train = train.to_pandas()\r\n",
        "\r\n",
        "valid = JSONL_handler('data/RuCoS/val.jsonl')\r\n",
        "texts_valid, questions_valid = valid.to_pandas()"
      ],
      "execution_count": 4,
      "outputs": []
    },
    {
      "cell_type": "code",
      "metadata": {
        "colab": {
          "base_uri": "https://localhost:8080/"
        },
        "id": "sHG40xUs8-e_",
        "outputId": "4cd273cd-8864-4d56-950a-71916ec28180"
      },
      "source": [
        "texts_train.shape, questions_train.shape, texts_valid.shape, questions_valid.shape"
      ],
      "execution_count": 5,
      "outputs": [
        {
          "output_type": "execute_result",
          "data": {
            "text/plain": [
              "((72193, 2), (72193, 3), (7577, 2), (7577, 3))"
            ]
          },
          "metadata": {
            "tags": []
          },
          "execution_count": 5
        }
      ]
    },
    {
      "cell_type": "code",
      "metadata": {
        "colab": {
          "base_uri": "https://localhost:8080/",
          "height": 779
        },
        "id": "j-_k91DyACBF",
        "outputId": "69b791d7-2c4e-4cd6-e66d-157a21f9069b"
      },
      "source": [
        "texts_train.head()"
      ],
      "execution_count": 6,
      "outputs": [
        {
          "output_type": "execute_result",
          "data": {
            "text/html": [
              "<div>\n",
              "<style scoped>\n",
              "    .dataframe tbody tr th:only-of-type {\n",
              "        vertical-align: middle;\n",
              "    }\n",
              "\n",
              "    .dataframe tbody tr th {\n",
              "        vertical-align: top;\n",
              "    }\n",
              "\n",
              "    .dataframe thead th {\n",
              "        text-align: right;\n",
              "    }\n",
              "</style>\n",
              "<table border=\"1\" class=\"dataframe\">\n",
              "  <thead>\n",
              "    <tr style=\"text-align: right;\">\n",
              "      <th></th>\n",
              "      <th>text</th>\n",
              "      <th>entities</th>\n",
              "    </tr>\n",
              "  </thead>\n",
              "  <tbody>\n",
              "    <tr>\n",
              "      <th>0</th>\n",
              "      <td>Наблюдатели полагают, что подоплекой теракта в Домодедово является провал кавказской политики российского правительства, указывает немецкая печать. Немецкая печать продолжает комментировать теракт в Домодедово. Так, газета Süddeutsche Zeitung пишет:\\nНу, конечно же, после взрыва в Домодедово вновь обнаруживается \"кавказский след\". Его обнаруживают почти всегда, когда в России взрывается бомба в метро, в поезде или на рынке. И неважно, что очевидцы нередко не в состоянии сказать, был ли преступник женщиной в чадре или же мужчиной, грозившим всех уничтожить.Среди жертв взрыва в Домодедово есть граждане Германии, Великобритании, Австрии. Ежедневно в Москве совершают посадку более 3 десятков самолетов из Германии.\\n@highlight\\nНемецкий менеджер аэропорта Домодедово отвергает обвинения Медведева\\n@highlight\\nТеракт в Домодедово: системные просчеты\\n@highlight\\nКомментарий: Провал российских спецслужб</td>\n",
              "      <td>[{'start': 47, 'end': 57}, {'start': 199, 'end': 209}, {'start': 223, 'end': 242}, {'start': 281, 'end': 291}, {'start': 371, 'end': 377}, {'start': 582, 'end': 592}, {'start': 607, 'end': 615}, {'start': 617, 'end': 631}, {'start': 633, 'end': 640}, {'start': 654, 'end': 660}, {'start': 709, 'end': 717}, {'start': 758, 'end': 768}, {'start': 789, 'end': 798}, {'start': 819, 'end': 829}]</td>\n",
              "    </tr>\n",
              "    <tr>\n",
              "      <th>1</th>\n",
              "      <td>О вторжении на Украину танковой колонны из РФ сообщил представитель СНБО Украины Лысенко. Москва опровергла эту информацию, назвав ее провокацией. На территорию восточной Украины из России вошла колонна из 32 танков, заявили власти в Киеве. Помимо этого, границу с Луганской областью пересекли 30 грузовиков с бойцами, 16 гаубиц и другая военная техника, сообщил представитель Совета национальной безопасности и обороны (СНБО) Украины Андрей Лысенко на брифинге в Киеве в пятницу, 7 ноября. По его словам, колонна движется в направлении города Красный луч. Переброска военного оборудования и российских наемников на линии фронта продолжается, резюмировал представитель СНБО.\\n@highlight\\nВ Германии за сутки выявлено более 100 новых заражений коронавирусом\\n@highlight\\nРыночные цены на нефть рухнули из-за провала переговоров ОПЕК+\\n@highlight\\nВ Италии за сутки произошел резкий скачок смертей от COVID-19</td>\n",
              "      <td>[{'start': 15, 'end': 22}, {'start': 43, 'end': 45}, {'start': 68, 'end': 72}, {'start': 73, 'end': 80}, {'start': 81, 'end': 88}, {'start': 90, 'end': 96}, {'start': 171, 'end': 178}, {'start': 182, 'end': 188}, {'start': 234, 'end': 239}, {'start': 265, 'end': 283}, {'start': 421, 'end': 425}, {'start': 427, 'end': 434}, {'start': 435, 'end': 449}, {'start': 464, 'end': 469}, {'start': 544, 'end': 555}, {'start': 669, 'end': 673}, {'start': 688, 'end': 696}, {'start': 823, 'end': 827}, {'start': 842, 'end': 848}]</td>\n",
              "    </tr>\n",
              "    <tr>\n",
              "      <th>2</th>\n",
              "      <td>Год назад Владимир Путин вновь стал президентом России. С тех пор протесты против его возвращения в Кремль поутихли. Но это внешнее спокойствие - обманчиво, считает Инго Маннтойфель. Настоящая стабильность возможна только при наличии правового государства и демократических институтов, которые способны поддерживать в равновесии различные общественные интересы. Ведь то, что может произойти в противном случае, не хочется даже себе представлять. @header Стабильность возможна только в правовом государстве Помня о русской традиции насильственных революционных переворотов, которые неизменно отбрасывали страну назад, хочется надеяться, что в Кремле осознают необходимость эволюционного развития и, следовательно, либеральных реформ.\\n@highlight\\nВ Германии за сутки выявлено более 100 новых заражений коронавирусом\\n@highlight\\nКомментарий: Россия накануне эпидемии - виноватые назначены заранее\\n@highlight\\nТуризм в эпоху коронавируса: куда поехать? И ехать ли вообще?</td>\n",
              "      <td>[{'start': 10, 'end': 24}, {'start': 48, 'end': 54}, {'start': 100, 'end': 106}, {'start': 165, 'end': 181}, {'start': 642, 'end': 648}, {'start': 746, 'end': 754}, {'start': 837, 'end': 843}]</td>\n",
              "    </tr>\n",
              "    <tr>\n",
              "      <th>3</th>\n",
              "      <td>Союз девяти ведущих технических университетов Германии TU9 не только \"наводит шороху\" в немецкой политике, но и обращает самое пристальное внимание на российских студентов. Совсем скоро ждите TU9 в стране ТУ-134. Когда в 2006 году в немецком образовании, словно ниоткуда, появился новый игрок - Союз технических университетов ТU9 - мало кто воспринял организацию всерьез. Мол, \"физики\" опять что-то придумали. Сегодня ТU9 на равных борется с \"Болонской реформой\" за сохранение традиционных дипломов специалистов-инженеров (Diplom-Ingenieur), и пока исход схватки не определен. За какие-то четыре года союз доказал, что он - сила.\\n@highlight\\nНа учебу в Германию: коротко о главном\\n@highlight\\n\"Приключения немецких вузов\" в России, или Приходите на ярмарку\\n@highlight\\nКак составляется рекомендательное письмо: советы потенциальным стипендиатам</td>\n",
              "      <td>[{'start': 46, 'end': 54}, {'start': 55, 'end': 58}, {'start': 192, 'end': 195}, {'start': 295, 'end': 329}, {'start': 418, 'end': 421}, {'start': 652, 'end': 660}, {'start': 722, 'end': 728}]</td>\n",
              "    </tr>\n",
              "    <tr>\n",
              "      <th>4</th>\n",
              "      <td>В столичной мэрии это решение мотивировали особыми мерами безопасности во время проведения ЧМ-2018. Организаторы акции намерены провести пикет у Госдумы. Московские власти не согласовали проведение в центре российской столицы митинга против изменения пенсионного законодательства. Об этом во вторник, 10 июля, рассказал агентству \"Интерфакс\" один из заявителей акции Сергей Митрохин. Митинг был намечен на 18 июля. Как пенсионная реформа повлияет на взаимоотношения поколений и почему отказ от планирования жизни - самая рациональная стратегия в России?\\n@highlight\\nРыночные цены на нефть рухнули из-за провала переговоров ОПЕК+\\n@highlight\\nОт COVID-19 впервые скончался гражданин Германии\\n@highlight\\nДоклад SIPRI: Кризисы стимулируют торговлю оружием в мире</td>\n",
              "      <td>[{'start': 145, 'end': 152}, {'start': 331, 'end': 340}, {'start': 367, 'end': 382}, {'start': 546, 'end': 552}, {'start': 622, 'end': 626}, {'start': 679, 'end': 687}, {'start': 706, 'end': 711}]</td>\n",
              "    </tr>\n",
              "  </tbody>\n",
              "</table>\n",
              "</div>"
            ],
            "text/plain": [
              "                                                                                                                                                                                                                                                                                                                                                                                                                                                                                                                                                                                                                                                                                                                                                                                                                                                                                                                                                                                                         text                                                                                                                                                                                                                                                                                                                                                                                                                                                                                                                                  entities\n",
              "0                                                                Наблюдатели полагают, что подоплекой теракта в Домодедово является провал кавказской политики российского правительства, указывает немецкая печать. Немецкая печать продолжает комментировать теракт в Домодедово. Так, газета Süddeutsche Zeitung пишет:\\nНу, конечно же, после взрыва в Домодедово вновь обнаруживается \"кавказский след\". Его обнаруживают почти всегда, когда в России взрывается бомба в метро, в поезде или на рынке. И неважно, что очевидцы нередко не в состоянии сказать, был ли преступник женщиной в чадре или же мужчиной, грозившим всех уничтожить.Среди жертв взрыва в Домодедово есть граждане Германии, Великобритании, Австрии. Ежедневно в Москве совершают посадку более 3 десятков самолетов из Германии.\\n@highlight\\nНемецкий менеджер аэропорта Домодедово отвергает обвинения Медведева\\n@highlight\\nТеракт в Домодедово: системные просчеты\\n@highlight\\nКомментарий: Провал российских спецслужб                                                                                                                                    [{'start': 47, 'end': 57}, {'start': 199, 'end': 209}, {'start': 223, 'end': 242}, {'start': 281, 'end': 291}, {'start': 371, 'end': 377}, {'start': 582, 'end': 592}, {'start': 607, 'end': 615}, {'start': 617, 'end': 631}, {'start': 633, 'end': 640}, {'start': 654, 'end': 660}, {'start': 709, 'end': 717}, {'start': 758, 'end': 768}, {'start': 789, 'end': 798}, {'start': 819, 'end': 829}]\n",
              "1                                                                 О вторжении на Украину танковой колонны из РФ сообщил представитель СНБО Украины Лысенко. Москва опровергла эту информацию, назвав ее провокацией. На территорию восточной Украины из России вошла колонна из 32 танков, заявили власти в Киеве. Помимо этого, границу с Луганской областью пересекли 30 грузовиков с бойцами, 16 гаубиц и другая военная техника, сообщил представитель Совета национальной безопасности и обороны (СНБО) Украины Андрей Лысенко на брифинге в Киеве в пятницу, 7 ноября. По его словам, колонна движется в направлении города Красный луч. Переброска военного оборудования и российских наемников на линии фронта продолжается, резюмировал представитель СНБО.\\n@highlight\\nВ Германии за сутки выявлено более 100 новых заражений коронавирусом\\n@highlight\\nРыночные цены на нефть рухнули из-за провала переговоров ОПЕК+\\n@highlight\\nВ Италии за сутки произошел резкий скачок смертей от COVID-19  [{'start': 15, 'end': 22}, {'start': 43, 'end': 45}, {'start': 68, 'end': 72}, {'start': 73, 'end': 80}, {'start': 81, 'end': 88}, {'start': 90, 'end': 96}, {'start': 171, 'end': 178}, {'start': 182, 'end': 188}, {'start': 234, 'end': 239}, {'start': 265, 'end': 283}, {'start': 421, 'end': 425}, {'start': 427, 'end': 434}, {'start': 435, 'end': 449}, {'start': 464, 'end': 469}, {'start': 544, 'end': 555}, {'start': 669, 'end': 673}, {'start': 688, 'end': 696}, {'start': 823, 'end': 827}, {'start': 842, 'end': 848}]\n",
              "2  Год назад Владимир Путин вновь стал президентом России. С тех пор протесты против его возвращения в Кремль поутихли. Но это внешнее спокойствие - обманчиво, считает Инго Маннтойфель. Настоящая стабильность возможна только при наличии правового государства и демократических институтов, которые способны поддерживать в равновесии различные общественные интересы. Ведь то, что может произойти в противном случае, не хочется даже себе представлять. @header Стабильность возможна только в правовом государстве Помня о русской традиции насильственных революционных переворотов, которые неизменно отбрасывали страну назад, хочется надеяться, что в Кремле осознают необходимость эволюционного развития и, следовательно, либеральных реформ.\\n@highlight\\nВ Германии за сутки выявлено более 100 новых заражений коронавирусом\\n@highlight\\nКомментарий: Россия накануне эпидемии - виноватые назначены заранее\\n@highlight\\nТуризм в эпоху коронавируса: куда поехать? И ехать ли вообще?                                                                                                                                                                                                                                                                                                                                          [{'start': 10, 'end': 24}, {'start': 48, 'end': 54}, {'start': 100, 'end': 106}, {'start': 165, 'end': 181}, {'start': 642, 'end': 648}, {'start': 746, 'end': 754}, {'start': 837, 'end': 843}]\n",
              "3                                                                                                                             Союз девяти ведущих технических университетов Германии TU9 не только \"наводит шороху\" в немецкой политике, но и обращает самое пристальное внимание на российских студентов. Совсем скоро ждите TU9 в стране ТУ-134. Когда в 2006 году в немецком образовании, словно ниоткуда, появился новый игрок - Союз технических университетов ТU9 - мало кто воспринял организацию всерьез. Мол, \"физики\" опять что-то придумали. Сегодня ТU9 на равных борется с \"Болонской реформой\" за сохранение традиционных дипломов специалистов-инженеров (Diplom-Ingenieur), и пока исход схватки не определен. За какие-то четыре года союз доказал, что он - сила.\\n@highlight\\nНа учебу в Германию: коротко о главном\\n@highlight\\n\"Приключения немецких вузов\" в России, или Приходите на ярмарку\\n@highlight\\nКак составляется рекомендательное письмо: советы потенциальным стипендиатам                                                                                                                                                                                                                                                                                                                                          [{'start': 46, 'end': 54}, {'start': 55, 'end': 58}, {'start': 192, 'end': 195}, {'start': 295, 'end': 329}, {'start': 418, 'end': 421}, {'start': 652, 'end': 660}, {'start': 722, 'end': 728}]\n",
              "4                                                                                                                                                                                                                  В столичной мэрии это решение мотивировали особыми мерами безопасности во время проведения ЧМ-2018. Организаторы акции намерены провести пикет у Госдумы. Московские власти не согласовали проведение в центре российской столицы митинга против изменения пенсионного законодательства. Об этом во вторник, 10 июля, рассказал агентству \"Интерфакс\" один из заявителей акции Сергей Митрохин. Митинг был намечен на 18 июля. Как пенсионная реформа повлияет на взаимоотношения поколений и почему отказ от планирования жизни - самая рациональная стратегия в России?\\n@highlight\\nРыночные цены на нефть рухнули из-за провала переговоров ОПЕК+\\n@highlight\\nОт COVID-19 впервые скончался гражданин Германии\\n@highlight\\nДоклад SIPRI: Кризисы стимулируют торговлю оружием в мире                                                                                                                                                                                                                                                                                                                                      [{'start': 145, 'end': 152}, {'start': 331, 'end': 340}, {'start': 367, 'end': 382}, {'start': 546, 'end': 552}, {'start': 622, 'end': 626}, {'start': 679, 'end': 687}, {'start': 706, 'end': 711}]"
            ]
          },
          "metadata": {
            "tags": []
          },
          "execution_count": 6
        }
      ]
    },
    {
      "cell_type": "code",
      "metadata": {
        "colab": {
          "base_uri": "https://localhost:8080/",
          "height": 268
        },
        "id": "wbbiCdWk9TQR",
        "outputId": "382fa911-d603-4d14-daa3-66f6a8d2e9fc"
      },
      "source": [
        "questions_train.head()"
      ],
      "execution_count": 7,
      "outputs": [
        {
          "output_type": "execute_result",
          "data": {
            "text/html": [
              "<div>\n",
              "<style scoped>\n",
              "    .dataframe tbody tr th:only-of-type {\n",
              "        vertical-align: middle;\n",
              "    }\n",
              "\n",
              "    .dataframe tbody tr th {\n",
              "        vertical-align: top;\n",
              "    }\n",
              "\n",
              "    .dataframe thead th {\n",
              "        text-align: right;\n",
              "    }\n",
              "</style>\n",
              "<table border=\"1\" class=\"dataframe\">\n",
              "  <thead>\n",
              "    <tr style=\"text-align: right;\">\n",
              "      <th></th>\n",
              "      <th>text_id</th>\n",
              "      <th>question</th>\n",
              "      <th>answers</th>\n",
              "    </tr>\n",
              "  </thead>\n",
              "  <tbody>\n",
              "    <tr>\n",
              "      <th>0</th>\n",
              "      <td>0</td>\n",
              "      <td>Кроме того, серьезным вызовом для России становится стремительно развивающийся Китай.Еще в понедельник @placeholder в рамках спора о системе противоракетной обороны пригрозил размещением дополнительных ракетных комплексов.</td>\n",
              "      <td>[{'start': 789, 'end': 798, 'text': 'Медведева'}]</td>\n",
              "    </tr>\n",
              "    <tr>\n",
              "      <th>1</th>\n",
              "      <td>1</td>\n",
              "      <td>Россия категорически опровергла сообщение @placeholder, назвав его провокацией.</td>\n",
              "      <td>[{'start': 81, 'end': 88, 'text': 'Лысенко'}, {'start': 435, 'end': 449, 'text': 'Андрей Лысенко'}]</td>\n",
              "    </tr>\n",
              "    <tr>\n",
              "      <th>2</th>\n",
              "      <td>2</td>\n",
              "      <td>@placeholder, руководитель отдела Восточной Европы и главный редактор русской редакции Deutsche Welle</td>\n",
              "      <td>[{'start': 165, 'end': 181, 'text': 'Инго Маннтойфель'}]</td>\n",
              "    </tr>\n",
              "    <tr>\n",
              "      <th>3</th>\n",
              "      <td>3</td>\n",
              "      <td>@placeholder позиционирует себя как союз независимых университетов, которые заинтересованы не столько в государственной поддержке, сколько в сотрудничестве с реальным сектором экономики, производством и бизнесом.</td>\n",
              "      <td>[{'start': 55, 'end': 58, 'text': 'TU9'}, {'start': 192, 'end': 195, 'text': 'TU9'}]</td>\n",
              "    </tr>\n",
              "    <tr>\n",
              "      <th>4</th>\n",
              "      <td>4</td>\n",
              "      <td>Согласно указу президента @placeholder особые меры безопасности в местах проведения турнира действуют с 25 мая по 25 июля.</td>\n",
              "      <td>[{'start': 546, 'end': 552, 'text': 'России'}]</td>\n",
              "    </tr>\n",
              "  </tbody>\n",
              "</table>\n",
              "</div>"
            ],
            "text/plain": [
              "  text_id  ...                                                                                              answers\n",
              "0       0  ...                                                    [{'start': 789, 'end': 798, 'text': 'Медведева'}]\n",
              "1       1  ...  [{'start': 81, 'end': 88, 'text': 'Лысенко'}, {'start': 435, 'end': 449, 'text': 'Андрей Лысенко'}]\n",
              "2       2  ...                                             [{'start': 165, 'end': 181, 'text': 'Инго Маннтойфель'}]\n",
              "3       3  ...                 [{'start': 55, 'end': 58, 'text': 'TU9'}, {'start': 192, 'end': 195, 'text': 'TU9'}]\n",
              "4       4  ...                                                       [{'start': 546, 'end': 552, 'text': 'России'}]\n",
              "\n",
              "[5 rows x 3 columns]"
            ]
          },
          "metadata": {
            "tags": []
          },
          "execution_count": 7
        }
      ]
    },
    {
      "cell_type": "code",
      "metadata": {
        "id": "3ZB6i6JFNiyl"
      },
      "source": [
        "def fill_entities(text, entities):\r\n",
        "    for entity in entities:\r\n",
        "        entity['text'] = text[entity['start']:entity['end']]\r\n",
        "\r\n",
        "for idx, row in texts_train.iterrows():\r\n",
        "    fill_entities(row.text, row.entities)\r\n",
        "\r\n",
        "for idx, row in texts_valid.iterrows():\r\n",
        "    fill_entities(row.text, row.entities)"
      ],
      "execution_count": null,
      "outputs": []
    },
    {
      "cell_type": "code",
      "metadata": {
        "colab": {
          "base_uri": "https://localhost:8080/"
        },
        "id": "uNVe8DdyYNkw",
        "outputId": "9a56a7e5-70af-4785-9230-7ba0d6496e7e"
      },
      "source": [
        "questions_train.iloc[0]"
      ],
      "execution_count": null,
      "outputs": [
        {
          "output_type": "execute_result",
          "data": {
            "text/plain": [
              "text_id                                                                                                                                                                                                                                  0\n",
              "question    Кроме того, серьезным вызовом для России становится стремительно развивающийся Китай.Еще в понедельник @placeholder в рамках спора о системе противоракетной обороны пригрозил размещением дополнительных ракетных комплексов.\n",
              "answers                                                                                                                                                                                  [{'start': 789, 'end': 798, 'text': 'Медведева'}]\n",
              "Name: 0, dtype: object"
            ]
          },
          "metadata": {
            "tags": []
          },
          "execution_count": 28
        }
      ]
    },
    {
      "cell_type": "code",
      "metadata": {
        "colab": {
          "base_uri": "https://localhost:8080/"
        },
        "id": "WutkVKATYSC6",
        "outputId": "134e1f9e-76ce-4f80-dafa-6ce01a45b229"
      },
      "source": [
        "texts_train.iloc[0]"
      ],
      "execution_count": null,
      "outputs": [
        {
          "output_type": "execute_result",
          "data": {
            "text/plain": [
              "text        Наблюдатели полагают, что подоплекой теракта в Домодедово является провал кавказской политики российского правительства, указывает немецкая печать. Немецкая печать продолжает комментировать теракт в Домодедово. Так, газета Süddeutsche Zeitung пишет:\\nНу, конечно же, после взрыва в Домодедово вновь обнаруживается \"кавказский след\". Его обнаруживают почти всегда, когда в России взрывается бомба в метро, в поезде или на рынке. И неважно, что очевидцы нередко не в состоянии сказать, был ли преступник женщиной в чадре или же мужчиной, грозившим всех уничтожить.Среди жертв взрыва в Домодедово есть граждане Германии, Великобритании, Австрии. Ежедневно в Москве совершают посадку более 3 десятков самолетов из Германии.\\n@highlight\\nНемецкий менеджер аэропорта Домодедово отвергает обвинения Медведева\\n@highlight\\nТеракт в Домодедово: системные просчеты\\n@highlight\\nКомментарий: Провал российских спецслужб\n",
              "entities                                                                                                                                                                                                                         [{'start': 47, 'end': 57, 'text': 'Домодедово'}, {'start': 199, 'end': 209, 'text': 'Домодедово'}, {'start': 223, 'end': 242, 'text': 'Süddeutsche Zeitung'}, {'start': 281, 'end': 291, 'text': 'Домодедово'}, {'start': 371, 'end': 377, 'text': 'России'}, {'start': 582, 'end': 592, 'text': 'Домодедово'}, {'start': 607, 'end': 615, 'text': 'Германии'}, {'start': 617, 'end': 631, 'text': 'Великобритании'}, {'start': 633, 'end': 640, 'text': 'Австрии'}, {'start': 654, 'end': 660, 'text': 'Москве'}, {'start': 709, 'end': 717, 'text': 'Германии'}, {'start': 758, 'end': 768, 'text': 'Домодедово'}, {'start': 789, 'end': 798, 'text': 'Медведева'}, {'start': 819, 'end': 829, 'text': 'Домодедово'}]\n",
              "Name: 0, dtype: object"
            ]
          },
          "metadata": {
            "tags": []
          },
          "execution_count": 29
        }
      ]
    },
    {
      "cell_type": "markdown",
      "metadata": {
        "id": "2X3ThEhLJ7H5"
      },
      "source": [
        "# RSG Baseline"
      ]
    },
    {
      "cell_type": "code",
      "metadata": {
        "id": "v6gTHxV6tuxg"
      },
      "source": [
        "%%capture\r\n",
        "!pip install jsonlines"
      ],
      "execution_count": null,
      "outputs": []
    },
    {
      "cell_type": "code",
      "metadata": {
        "id": "eXVLSTWVO--P",
        "colab": {
          "base_uri": "https://localhost:8080/"
        },
        "outputId": "c070e322-a4b1-43dd-dedc-ef69d9cad1ab"
      },
      "source": [
        "import pickle\r\n",
        "import codecs\r\n",
        "import joblib\r\n",
        "import RuCoS\r\n",
        "\r\n",
        "vect = joblib.load(\"data/tfidf.pkl\")"
      ],
      "execution_count": null,
      "outputs": [
        {
          "output_type": "stream",
          "text": [
            "/usr/local/lib/python3.6/dist-packages/sklearn/base.py:318: UserWarning: Trying to unpickle estimator TfidfTransformer from version 0.21.3 when using version 0.22.2.post1. This might lead to breaking code or invalid results. Use at your own risk.\n",
            "  UserWarning)\n",
            "/usr/local/lib/python3.6/dist-packages/sklearn/base.py:318: UserWarning: Trying to unpickle estimator TfidfVectorizer from version 0.21.3 when using version 0.22.2.post1. This might lead to breaking code or invalid results. Use at your own risk.\n",
            "  UserWarning)\n"
          ],
          "name": "stderr"
        }
      ]
    },
    {
      "cell_type": "code",
      "metadata": {
        "colab": {
          "base_uri": "https://localhost:8080/"
        },
        "id": "40sKfzbAvkiU",
        "outputId": "05d366ed-da2e-4162-cf21-370b377f1994"
      },
      "source": [
        "train_path = \"data/RuCoS/train.jsonl\"\r\n",
        "val_path = \"data/RuCoS/val.jsonl\"\r\n",
        "test_path = \"data/RuCoS/test.jsonl\"\r\n",
        "\r\n",
        "_, RuCoS_scores = RuCoS.eval_RuCoS(train_path, val_path, test_path, vect)\r\n",
        "\r\n",
        "\r\n",
        "val_em = RuCoS_scores['val'][0]\r\n",
        "val_f1 = RuCoS_scores['val'][1]\r\n",
        "\r\n",
        "print(f\"EM Score on Validation: {val_em}\") # should be around 0.22\r\n",
        "\r\n",
        "print(f\"F1 Score on Validation: {val_f1}\") # should be around 0.23"
      ],
      "execution_count": null,
      "outputs": [
        {
          "output_type": "stream",
          "text": [
            "EM Score on Validation: 0.22964233865646033\n",
            "F1 Score on Validation: 0.235315208305838\n"
          ],
          "name": "stdout"
        }
      ]
    },
    {
      "cell_type": "markdown",
      "metadata": {
        "id": "HvfxjrfQOlpe"
      },
      "source": [
        "# Heruistics"
      ]
    },
    {
      "cell_type": "markdown",
      "metadata": {
        "id": "aLOrcPtfh7Ke"
      },
      "source": [
        "## Удаление кандидатов + Random Choice"
      ]
    },
    {
      "cell_type": "code",
      "metadata": {
        "id": "Kq6a74jsm9uB"
      },
      "source": [
        "# Исключаем из кандидатов в ответы те сущности, которые встречаются в тексте вопроса."
      ],
      "execution_count": null,
      "outputs": []
    },
    {
      "cell_type": "code",
      "metadata": {
        "id": "QZc-IH05OmrJ"
      },
      "source": [
        "from sklearn.metrics.pairwise import cosine_similarity\r\n",
        "import jsonlines\r\n",
        "import numpy as np\r\n",
        "from collections import Counter\r\n",
        "import string\r\n",
        "import re\r\n",
        "import sys\r\n",
        "\r\n",
        "\r\n",
        "def normalize_answer(s):\r\n",
        "    \"\"\"Lower text and remove punctuation, articles and extra whitespace.\"\"\"\r\n",
        "    def white_space_fix(text):\r\n",
        "        return ' '.join(text.split())\r\n",
        "\r\n",
        "    def remove_punc(text):\r\n",
        "        exclude = set(string.punctuation)\r\n",
        "        return ''.join(ch for ch in text if ch not in exclude)\r\n",
        "\r\n",
        "    def lower(text):\r\n",
        "        return text.lower()\r\n",
        "\r\n",
        "    return white_space_fix(remove_punc(lower(s)))\r\n",
        "\r\n",
        "\r\n",
        "def f1_score(prediction, ground_truth):\r\n",
        "    prediction_tokens = normalize_answer(prediction).split()\r\n",
        "    ground_truth_tokens = normalize_answer(ground_truth).split()\r\n",
        "    common = Counter(prediction_tokens) & Counter(ground_truth_tokens)\r\n",
        "    num_same = sum(common.values())\r\n",
        "    if num_same == 0:\r\n",
        "        return 0\r\n",
        "    precision = 1.0 * num_same / len(prediction_tokens)\r\n",
        "    recall = 1.0 * num_same / len(ground_truth_tokens)\r\n",
        "    f1 = (2 * precision * recall) / (precision + recall)\r\n",
        "    return f1\r\n",
        "\r\n",
        "\r\n",
        "def exact_match_score(prediction, ground_truth):\r\n",
        "    return normalize_answer(prediction) == normalize_answer(ground_truth)\r\n",
        "\r\n",
        "\r\n",
        "def metric_max_over_ground_truths(metric_fn, prediction, ground_truths):\r\n",
        "    scores_for_ground_truths = [0]\r\n",
        "    for ground_truth in ground_truths:\r\n",
        "        score = metric_fn(prediction, ground_truth)\r\n",
        "        scores_for_ground_truths.append(score)\r\n",
        "    return max(scores_for_ground_truths)\r\n",
        "\r\n",
        "\r\n",
        "def evaluate(dataset, predictions):\r\n",
        "    f1 = exact_match = total = 0\r\n",
        "    correct_ids = []\r\n",
        "    for prediction, passage in zip(predictions, dataset):\r\n",
        "        prediction = prediction[\"label\"]\r\n",
        "        for qa in passage['qas']:\r\n",
        "            total += 1\r\n",
        "            ground_truths = list(map(lambda x: x['text'], qa.get(\"answers\", \"\")))\r\n",
        "\r\n",
        "            _exact_match = metric_max_over_ground_truths(exact_match_score, prediction, ground_truths)\r\n",
        "            if int(_exact_match) == 1:\r\n",
        "                correct_ids.append(qa['idx'])\r\n",
        "            exact_match += _exact_match\r\n",
        "\r\n",
        "            f1 += metric_max_over_ground_truths(f1_score, prediction, ground_truths)\r\n",
        "\r\n",
        "    exact_match = exact_match / total\r\n",
        "    f1 = f1 / total\r\n",
        "    return exact_match, f1\r\n",
        "\r\n",
        "\r\n",
        "def eval_RuCoS(train_path, val_path, test_path, vect):\r\n",
        "    test_score, test_pred = eval_part(test_path, vect)\r\n",
        "    return None, {\r\n",
        "        \"train\": eval_part(train_path, vect)[0],\r\n",
        "        \"val\": eval_part(val_path, vect)[0],\r\n",
        "        \"test\": test_score,\r\n",
        "        \"test_pred\": test_pred\r\n",
        "    }\r\n",
        "\r\n",
        "\r\n",
        "def eval_part(path, vect):\r\n",
        "    with jsonlines.open(path) as reader:\r\n",
        "        lines = list(reader)\r\n",
        "    preds = []\r\n",
        "    for row in lines:\r\n",
        "        pred = get_row_pred(row, vect)\r\n",
        "        preds.append({\r\n",
        "            \"idx\": row[\"idx\"],\r\n",
        "            \"label\": pred\r\n",
        "        })\r\n",
        "    return evaluate(lines, preds), preds\r\n",
        "\r\n",
        "\r\n",
        "def get_row_pred(row, vect):\r\n",
        "    res = []\r\n",
        "    words = [\r\n",
        "        row[\"passage\"][\"text\"][x[\"start\"]: x[\"end\"]]\r\n",
        "        for x in row[\"passage\"][\"entities\"]]\r\n",
        "\r\n",
        "    for line in row[\"qas\"]:\r\n",
        "        line_candidates = []\r\n",
        "        _words = []\r\n",
        "        for word in words:\r\n",
        "            if word[:-1]  not in line['query']:\r\n",
        "                _words.append(word)\r\n",
        "        if len(_words) == 0:\r\n",
        "            for word in words:\r\n",
        "                line_candidates.append(line[\"query\"].replace(\"@placeholder\", word))\r\n",
        "            pred_idx = np.random.choice(np.arange(1, len(line_candidates)),\r\n",
        "                                size=1)[0]\r\n",
        "            pred = np.array(words)[pred_idx]\r\n",
        "        elif len(_words) == 1:\r\n",
        "            pred = _words[0]\r\n",
        "        else:\r\n",
        "            for word in _words:\r\n",
        "                line_candidates.append(line[\"query\"].replace(\"@placeholder\", word))\r\n",
        "            pred_idx = np.random.choice(np.arange(1, len(line_candidates)),\r\n",
        "                                        size=1)[0]\r\n",
        "            pred = np.array(_words)[pred_idx]\r\n",
        "        res.append(pred)\r\n",
        "    return \" \".join(res)"
      ],
      "execution_count": null,
      "outputs": []
    },
    {
      "cell_type": "code",
      "metadata": {
        "colab": {
          "base_uri": "https://localhost:8080/"
        },
        "id": "7o6ouKNyZCxf",
        "outputId": "63096798-71ed-4fb5-ef33-a5ce237b76c6"
      },
      "source": [
        "em_metrics = []\r\n",
        "f1_metrics = []\r\n",
        "\r\n",
        "for i in range(3):\r\n",
        "    _, RuCoS_scores = eval_RuCoS(train_path, val_path, test_path, 'No vect')\r\n",
        "    em = RuCoS_scores['val'][0]\r\n",
        "    f1 = RuCoS_scores['val'][1]\r\n",
        "    em_metrics.append(em)\r\n",
        "    f1_metrics.append(f1)\r\n",
        "\r\n",
        "print(f\"Random Choice\")\r\n",
        "print(f\"Average EM score over 3 experiments: {np.array(em_metrics).mean()}\")\r\n",
        "print(f\"Average F1 score over 3 experiments: {np.array(f1_metrics).mean()}\")"
      ],
      "execution_count": null,
      "outputs": [
        {
          "output_type": "stream",
          "text": [
            "Random Choice\n",
            "Average EM score over 3 experiments: 0.24666754652237033\n",
            "Average F1 score over 3 experiments: 0.24893841219563806\n"
          ],
          "name": "stdout"
        }
      ]
    },
    {
      "cell_type": "markdown",
      "metadata": {
        "id": "CVtCdwWXmhOY"
      },
      "source": [
        "## Фильтрация + Count + Random Choice"
      ]
    },
    {
      "cell_type": "code",
      "metadata": {
        "id": "tZSibAa-nJO7"
      },
      "source": [
        "# Удаляем кандидатов  и  фильтруем в зависимости от того, сколько раз сущности встретились в тексте"
      ],
      "execution_count": null,
      "outputs": []
    },
    {
      "cell_type": "code",
      "metadata": {
        "id": "SMLDaTJEbzKi"
      },
      "source": [
        "from sklearn.metrics.pairwise import cosine_similarity\r\n",
        "import jsonlines\r\n",
        "import numpy as np\r\n",
        "from collections import Counter\r\n",
        "import string\r\n",
        "import re\r\n",
        "import sys\r\n",
        "\r\n",
        "\r\n",
        "def normalize_answer(s):\r\n",
        "    \"\"\"Lower text and remove punctuation, articles and extra whitespace.\"\"\"\r\n",
        "    def white_space_fix(text):\r\n",
        "        return ' '.join(text.split())\r\n",
        "\r\n",
        "    def remove_punc(text):\r\n",
        "        exclude = set(string.punctuation)\r\n",
        "        return ''.join(ch for ch in text if ch not in exclude)\r\n",
        "\r\n",
        "    def lower(text):\r\n",
        "        return text.lower()\r\n",
        "\r\n",
        "    return white_space_fix(remove_punc(lower(s)))\r\n",
        "\r\n",
        "\r\n",
        "def f1_score(prediction, ground_truth):\r\n",
        "    prediction_tokens = normalize_answer(prediction).split()\r\n",
        "    ground_truth_tokens = normalize_answer(ground_truth).split()\r\n",
        "    common = Counter(prediction_tokens) & Counter(ground_truth_tokens)\r\n",
        "    num_same = sum(common.values())\r\n",
        "    if num_same == 0:\r\n",
        "        return 0\r\n",
        "    precision = 1.0 * num_same / len(prediction_tokens)\r\n",
        "    recall = 1.0 * num_same / len(ground_truth_tokens)\r\n",
        "    f1 = (2 * precision * recall) / (precision + recall)\r\n",
        "    return f1\r\n",
        "\r\n",
        "\r\n",
        "def exact_match_score(prediction, ground_truth):\r\n",
        "    return normalize_answer(prediction) == normalize_answer(ground_truth)\r\n",
        "\r\n",
        "\r\n",
        "def metric_max_over_ground_truths(metric_fn, prediction, ground_truths):\r\n",
        "    scores_for_ground_truths = [0]\r\n",
        "    for ground_truth in ground_truths:\r\n",
        "        score = metric_fn(prediction, ground_truth)\r\n",
        "        scores_for_ground_truths.append(score)\r\n",
        "    return max(scores_for_ground_truths)\r\n",
        "\r\n",
        "\r\n",
        "def evaluate(dataset, predictions):\r\n",
        "    f1 = exact_match = total = 0\r\n",
        "    correct_ids = []\r\n",
        "    for prediction, passage in zip(predictions, dataset):\r\n",
        "        prediction = prediction[\"label\"]\r\n",
        "        for qa in passage['qas']:\r\n",
        "            total += 1\r\n",
        "            ground_truths = list(map(lambda x: x['text'], qa.get(\"answers\", \"\")))\r\n",
        "\r\n",
        "            _exact_match = metric_max_over_ground_truths(exact_match_score, prediction, ground_truths)\r\n",
        "            if int(_exact_match) == 1:\r\n",
        "                correct_ids.append(qa['idx'])\r\n",
        "            exact_match += _exact_match\r\n",
        "\r\n",
        "            f1 += metric_max_over_ground_truths(f1_score, prediction, ground_truths)\r\n",
        "\r\n",
        "    exact_match = exact_match / total\r\n",
        "    f1 = f1 / total\r\n",
        "    return exact_match, f1\r\n",
        "\r\n",
        "\r\n",
        "def eval_RuCoS(train_path, val_path, test_path, vect):\r\n",
        "    test_score, test_pred = eval_part(test_path, vect)\r\n",
        "    return None, {\r\n",
        "        \"train\": eval_part(train_path, vect)[0],\r\n",
        "        \"val\": eval_part(val_path, vect)[0],\r\n",
        "        \"test\": test_score,\r\n",
        "        \"test_pred\": test_pred\r\n",
        "    }\r\n",
        "\r\n",
        "\r\n",
        "def eval_part(path, vect):\r\n",
        "    with jsonlines.open(path) as reader:\r\n",
        "        lines = list(reader)\r\n",
        "    preds = []\r\n",
        "    for row in lines:\r\n",
        "        pred = get_row_pred(row, vect)\r\n",
        "        preds.append({\r\n",
        "            \"idx\": row[\"idx\"],\r\n",
        "            \"label\": pred\r\n",
        "        })\r\n",
        "    return evaluate(lines, preds), preds\r\n",
        "\r\n",
        "\r\n",
        "def get_row_pred(row, vect):\r\n",
        "    res = []\r\n",
        "    words = [\r\n",
        "        row[\"passage\"][\"text\"][x[\"start\"]: x[\"end\"]]\r\n",
        "        for x in row[\"passage\"][\"entities\"]]\r\n",
        "    text  = row['passage']['text'].split()\r\n",
        "    for line in row[\"qas\"]:\r\n",
        "        line_candidates = []\r\n",
        "        _words = []\r\n",
        "        for word in words:\r\n",
        "            if word[:-2]  not in line['query'] or text.count(words[:-2]) >= 2:\r\n",
        "                _words.append(word)\r\n",
        "        if len(_words) == 0:\r\n",
        "            for word in words:\r\n",
        "                line_candidates.append(line[\"query\"].replace(\"@placeholder\", word))\r\n",
        "            pred_idx = np.random.choice(np.arange(1, len(line_candidates)),\r\n",
        "                                size=1)[0]\r\n",
        "            pred = np.array(words)[pred_idx]\r\n",
        "        elif len(_words) == 1:\r\n",
        "            pred = _words[0]\r\n",
        "        else:\r\n",
        "            for word in _words:\r\n",
        "                line_candidates.append(line[\"query\"].replace(\"@placeholder\", word))\r\n",
        "            pred_idx = np.random.choice(np.arange(1, len(line_candidates)),\r\n",
        "                                        size=1)[0]\r\n",
        "            pred = np.array(_words)[pred_idx]\r\n",
        "        res.append(pred)\r\n",
        "    return \" \".join(res)"
      ],
      "execution_count": null,
      "outputs": []
    },
    {
      "cell_type": "code",
      "metadata": {
        "colab": {
          "base_uri": "https://localhost:8080/"
        },
        "id": "mvkK8_DDiH5G",
        "outputId": "ed6f1b66-739e-43ce-c117-3b05a53f4bde"
      },
      "source": [
        "em_metrics = []\r\n",
        "f1_metrics = []\r\n",
        "\r\n",
        "for i in range(3):\r\n",
        "    _, RuCoS_scores = eval_RuCoS(train_path, val_path, test_path, 'No vect')\r\n",
        "    em = RuCoS_scores['val'][0]\r\n",
        "    f1 = RuCoS_scores['val'][1]\r\n",
        "    em_metrics.append(em)\r\n",
        "    f1_metrics.append(f1)\r\n",
        "\r\n",
        "print(f\"Random Choice\")\r\n",
        "print(f\"Average EM score over 3 experiments: {np.array(em_metrics).mean()}\")\r\n",
        "print(f\"Average F1 score over 3 experiments: {np.array(f1_metrics).mean()}\")"
      ],
      "execution_count": null,
      "outputs": [
        {
          "output_type": "stream",
          "text": [
            "Random Choice\n",
            "Average EM score over 3 experiments: 0.24794333729268403\n",
            "Average F1 score over 3 experiments: 0.25025233004644387\n"
          ],
          "name": "stdout"
        }
      ]
    },
    {
      "cell_type": "markdown",
      "metadata": {
        "id": "FxG_XTbMnWTl"
      },
      "source": [
        "# Samples with questionable markup"
      ]
    },
    {
      "cell_type": "code",
      "metadata": {
        "colab": {
          "base_uri": "https://localhost:8080/"
        },
        "id": "H6bIT6NCnaBL",
        "outputId": "af590007-ce68-44fb-8666-a15979b4e92a"
      },
      "source": [
        "for i in [70, 80, 130, 350,  420, 780, 860, 910, 930, 980]:\r\n",
        "    text = texts_train.iloc[i].text\r\n",
        "    entities = texts_train.iloc[i].entities\r\n",
        "    for x in entities:\r\n",
        "        x['text'] = text[x['start']:x['end']]\r\n",
        "    print(f\"TEXT {i}: {text}\")\r\n",
        "    print(f\"ENTITIES: {entities}\")\r\n",
        "    print(f\"QUESTINOS: {questions_train.iloc[i].question}\")\r\n",
        "    print(f\"Answers: {questions_train.iloc[i].answers}\")\r\n",
        "    print('=================================================\\n')"
      ],
      "execution_count": 22,
      "outputs": [
        {
          "output_type": "stream",
          "text": [
            "TEXT 70: Глава МВФ Кристин Лагард добивается от еврозоны увеличения финансовой поддержки кризисных стран. Чтобы европейский кризис не распространился на весь мир, она призвала к созданию защитной стены. Финансисты разных стран мира усиливают давление на Германию с целью добиться от нее согласия на увеличение Европейского стабилизационного фонда. В ходе всемирного экономического форума в швейцарском Давосе представители США, Японии и Великобритании, а также глава Международного валютного фонда (МВФ) Кристин Лагард потребовали в субботу, 28 января, чтобы государства еврозоны предоставили больше денег для спасения кризисных стран, передает агентство Reuters. \"Крайне важно, чтобы страны еврозоны построили простую защитную стену, которая предотвратит заражение и создаст доверие\", - указала Кристин Лагард, заметив, что никто не обладает иммунитетом в условиях нынешнего кризиса.\n",
            "@highlight\n",
            "Глава Deutsche Bank: Европа находится на верном пути в борьбе с кризисом\n",
            "@highlight\n",
            "Форум в Давосе: Меркель предостерегает от чрезмерных требований к Германии\n",
            "@highlight\n",
            "Шойбле критикует Грецию за недостаточные усилия в сфере экономии\n",
            "ENTITIES: [{'start': 6, 'end': 9, 'text': 'МВФ'}, {'start': 10, 'end': 24, 'text': 'Кристин Лагард'}, {'start': 245, 'end': 253, 'text': 'Германию'}, {'start': 301, 'end': 337, 'text': 'Европейского стабилизационного фонда'}, {'start': 393, 'end': 399, 'text': 'Давосе'}, {'start': 414, 'end': 417, 'text': 'США'}, {'start': 419, 'end': 425, 'text': 'Японии'}, {'start': 428, 'end': 442, 'text': 'Великобритании'}, {'start': 490, 'end': 493, 'text': 'МВФ'}, {'start': 495, 'end': 509, 'text': 'Кристин Лагард'}, {'start': 646, 'end': 653, 'text': 'Reuters'}, {'start': 787, 'end': 801, 'text': 'Кристин Лагард'}, {'start': 893, 'end': 906, 'text': 'Deutsche Bank'}, {'start': 908, 'end': 914, 'text': 'Европа'}, {'start': 979, 'end': 985, 'text': 'Давосе'}, {'start': 987, 'end': 994, 'text': 'Меркель'}, {'start': 1037, 'end': 1045, 'text': 'Германии'}, {'start': 1057, 'end': 1063, 'text': 'Шойбле'}, {'start': 1074, 'end': 1080, 'text': 'Грецию'}]\n",
            "QUESTINOS: \"Больше не будет никаких новых взносов со стороны стран G20, включая @placeholder, пока мы не увидим этих денег (от еврозоны)\", - заявил Осборн.\n",
            "Answers: [{'start': 428, 'end': 442, 'text': 'Великобритании'}]\n",
            "=================================================\n",
            "\n",
            "TEXT 80: Главы МИД двух стран провели короткую встречу в Маниле. Северная Корея отклонила предложение о проведении переговоров. КНДР отклонила предложение Южной Кореи провести военные переговоры между Сеулом и Пхеньяном. Министры пожали друг другу руки, после чего глава МИД Южной Кореи Кан Гён Хва призвала своего коллегу Ли Ён Хо принять предложение Сеула о проведении военных переговоров между двумя странами. Южная Корея в середине июля 2017 года предложила КНДР возобновить переговоры по военной линии с целью снизить напряженность. Последние подобные переговоры прошли в 2015 году.\n",
            "@highlight\n",
            "Что может сделать Дональд Трамп с Северной Кореей\n",
            "@highlight\n",
            "Как живет самая закрытая страна мира\n",
            "@highlight\n",
            "Северокорейцы в Северной столице: как строятся объекты к ЧМ-2018\n",
            "ENTITIES: [{'start': 6, 'end': 9, 'text': 'МИД'}, {'start': 48, 'end': 54, 'text': 'Маниле'}, {'start': 56, 'end': 70, 'text': 'Северная Корея'}, {'start': 119, 'end': 123, 'text': 'КНДР'}, {'start': 146, 'end': 157, 'text': 'Южной Кореи'}, {'start': 192, 'end': 198, 'text': 'Сеулом'}, {'start': 201, 'end': 210, 'text': 'Пхеньяном'}, {'start': 262, 'end': 265, 'text': 'МИД'}, {'start': 266, 'end': 277, 'text': 'Южной Кореи'}, {'start': 278, 'end': 289, 'text': 'Кан Гён Хва'}, {'start': 314, 'end': 322, 'text': 'Ли Ён Хо'}, {'start': 343, 'end': 348, 'text': 'Сеула'}, {'start': 404, 'end': 415, 'text': 'Южная Корея'}, {'start': 453, 'end': 457, 'text': 'КНДР'}, {'start': 608, 'end': 621, 'text': 'Дональд Трамп'}, {'start': 624, 'end': 639, 'text': 'Северной Кореей'}, {'start': 715, 'end': 731, 'text': 'Северной столице'}]\n",
            "QUESTINOS: Однако министр иностранных дел @placeholder заявил, что этим предложениям \"не хватает искренности\".\n",
            "Answers: [{'start': 56, 'end': 70, 'text': 'Северная Корея'}, {'start': 119, 'end': 123, 'text': 'КНДР'}, {'start': 146, 'end': 157, 'text': 'Южной Кореи'}, {'start': 201, 'end': 208, 'text': 'Пхеньян'}, {'start': 266, 'end': 277, 'text': 'Южной Кореи'}, {'start': 453, 'end': 457, 'text': 'КНДР'}, {'start': 624, 'end': 639, 'text': 'Северной Кореей'}]\n",
            "=================================================\n",
            "\n",
            "TEXT 130: Президент США уверен, что Евросоюз преодолеет этот поворот, заявил Трамп в интервью Financial Times. Он рассчитывает, что переговоры по Brexit закончатся успешно для всех сторон. Президент США Дональд Трамп одобряет то, как ЕС отреагировал на Brexit. После того, как британцы на референдуме проголосовали за выход из ЕС, Трамп полагал, что их примеру последуют другие европейские страны, но теперь он \"действительно уверен, что Европейский Союз преодолеет этот поворот\", заявил американский президент в интервью изданию Financial Times, опубликованному в воскресенье, 2 апреля. Теперь в ЕС царит \"дух сплоченности\", и Трамп рассчитывает на то, что переговоры по Brexit закончатся успешно для всех сторон. В тогдашних интервью немецкому изданию Bild и британскому The Times Трамп называл Brexit \"великолепной вещью\" и предположил, что другие страны ЕС последуют за британцами.\n",
            "@highlight\n",
            "Выход из единого рынка ЕС такого важного торгового партнера и одновременно конкурента, как Великобритания, будет иметь для Германии разнообразные экономические последствия.\n",
            "@highlight\n",
            "Для деловых кругов Германии начавшийся выход Великобритании из ЕС обернется ограничением доступа к очень важному экспортному и инвестиционному рынку. Но найдутся и выигравшие.\n",
            "@highlight\n",
            "Комментарий: Великобритании не стоит ждать милости от ЕС\n",
            "ENTITIES: [{'start': 10, 'end': 13, 'text': 'США'}, {'start': 26, 'end': 34, 'text': 'Евросоюз'}, {'start': 67, 'end': 72, 'text': 'Трамп'}, {'start': 84, 'end': 99, 'text': 'Financial Times'}, {'start': 189, 'end': 192, 'text': 'США'}, {'start': 193, 'end': 206, 'text': 'Дональд Трамп'}, {'start': 224, 'end': 226, 'text': 'ЕС'}, {'start': 317, 'end': 319, 'text': 'ЕС'}, {'start': 321, 'end': 326, 'text': 'Трамп'}, {'start': 428, 'end': 444, 'text': 'Европейский Союз'}, {'start': 520, 'end': 535, 'text': 'Financial Times'}, {'start': 587, 'end': 589, 'text': 'ЕС'}, {'start': 618, 'end': 623, 'text': 'Трамп'}, {'start': 744, 'end': 748, 'text': 'Bild'}, {'start': 763, 'end': 772, 'text': 'The Times'}, {'start': 773, 'end': 778, 'text': 'Трамп'}, {'start': 848, 'end': 850, 'text': 'ЕС'}, {'start': 910, 'end': 912, 'text': 'ЕС'}, {'start': 978, 'end': 992, 'text': 'Великобритания'}, {'start': 1010, 'end': 1018, 'text': 'Германии'}, {'start': 1090, 'end': 1098, 'text': 'Германии'}, {'start': 1116, 'end': 1130, 'text': 'Великобритании'}, {'start': 1134, 'end': 1136, 'text': 'ЕС'}, {'start': 1271, 'end': 1285, 'text': 'Великобритании'}, {'start': 1312, 'end': 1314, 'text': 'ЕС'}]\n",
            "QUESTINOS: Ранее, в январе, незадолго до инаугурации, @placeholder выступал с противоположными заявлениями.\n",
            "Answers: [{'start': 10, 'end': 13, 'text': 'США'}, {'start': 67, 'end': 72, 'text': 'Трамп'}, {'start': 189, 'end': 192, 'text': 'США'}, {'start': 193, 'end': 206, 'text': 'Дональд Трамп'}, {'start': 321, 'end': 326, 'text': 'Трамп'}, {'start': 618, 'end': 623, 'text': 'Трамп'}, {'start': 773, 'end': 778, 'text': 'Трамп'}]\n",
            "=================================================\n",
            "\n",
            "TEXT 320: \"Зона евро\" представляется балтийским государствам спасительной гаванью, но вряд ли Эстонии, Латвии и Литве удастся бросить здесь якорь раньше 2011 года, пишет еженедельник. Вскоре после вступления в ЕС в мае 2004 года балтийские государства Эстония, Латвия и Литва слыли образцами удавшейся европейской интеграции. Двузначные показатели экономического роста вызывали удивление всей Европы. Деньги для усиленного потребления, гигантских государственных инвестиций и масштабных строительных проектов давали, в первую очередь, скандинавские банки. Теперь экономика \"балтийских тигров\" рушится быстрее, чем в других странах Европы. ВВП сократился почти в два раза, уровень безработицы к концу текущего года во всех трех странах буде не ниже десяти процентов.\n",
            "@highlight\n",
            "Кризис заставляет Восточную Европу нервничать\n",
            "@highlight\n",
            "Латвия получит крупный кредит для борьбы с финансовым кризисом\n",
            "@highlight\n",
            "Handelsblatt: Валюта балтийских стран под прессом кризиса\n",
            "ENTITIES: [{'start': 84, 'end': 91, 'text': 'Эстонии'}, {'start': 93, 'end': 99, 'text': 'Латвии'}, {'start': 102, 'end': 107, 'text': 'Литве'}, {'start': 200, 'end': 202, 'text': 'ЕС'}, {'start': 242, 'end': 249, 'text': 'Эстония'}, {'start': 251, 'end': 257, 'text': 'Латвия'}, {'start': 260, 'end': 265, 'text': 'Литва'}, {'start': 383, 'end': 389, 'text': 'Европы'}, {'start': 621, 'end': 627, 'text': 'Европы'}, {'start': 785, 'end': 801, 'text': 'Восточную Европу'}, {'start': 824, 'end': 830, 'text': 'Латвия'}, {'start': 898, 'end': 910, 'text': 'Handelsblatt'}]\n",
            "QUESTINOS: Оказавшаяся на грани банкротства @placeholder уже получила от Международного валютного фонда, Евросоюза и скандинавских стран помощь в размере семи с половиной миллиардов евро.\n",
            "Answers: [{'start': 93, 'end': 99, 'text': 'Латвии'}, {'start': 251, 'end': 257, 'text': 'Латвия'}, {'start': 824, 'end': 830, 'text': 'Латвия'}]\n",
            "=================================================\n",
            "\n",
            "TEXT 350: Турецкие власти заявили о подавлении путча. В результате попытки госпереворота погибли сотни человек, около 1,5 тысячи получили ранения. Что происходит в Турции сейчас - в хронике DW (время московское). @header Авиабаза \"Инджирлик\" заблокирована Власти Турции заблокировали военную авиабазу \"Инджирлик\", где расквартированы силы НАТО из антиисламистской коалиции, включая американских и немецких военных. Местные власти не пропускают никого на базу и не выпускают с ее территории. Президент США Барак Обама созывает Национальный совет безопасности на фоне событий в Турции.\n",
            "@highlight\n",
            "Комментарий: Эрдоган меняет курс?\n",
            "@highlight\n",
            "Комментарий: \"Свой\" Эрдоган\n",
            "@highlight\n",
            "FAZ: Плата Эрдогана за дружбу с Россией\n",
            "ENTITIES: [{'start': 154, 'end': 160, 'text': 'Турции'}, {'start': 180, 'end': 182, 'text': 'DW'}, {'start': 253, 'end': 259, 'text': 'Турции'}, {'start': 329, 'end': 333, 'text': 'НАТО'}, {'start': 491, 'end': 494, 'text': 'США'}, {'start': 495, 'end': 506, 'text': 'Барак Обама'}, {'start': 516, 'end': 547, 'text': 'Национальный совет безопасности'}, {'start': 566, 'end': 572, 'text': 'Турции'}, {'start': 598, 'end': 605, 'text': 'Эрдоган'}, {'start': 650, 'end': 657, 'text': 'Эрдоган'}, {'start': 680, 'end': 688, 'text': 'Эрдогана'}, {'start': 701, 'end': 708, 'text': 'Россией'}]\n",
            "QUESTINOS: Госсекретарь США Джон Керри заявил, что Вашингтон готов предоставить @placeholder помощь в расследовании попытки военного мятежа.\n",
            "Answers: [{'start': 154, 'end': 160, 'text': 'Турции'}, {'start': 253, 'end': 259, 'text': 'Турции'}, {'start': 491, 'end': 494, 'text': 'США'}, {'start': 566, 'end': 572, 'text': 'Турции'}, {'start': 598, 'end': 605, 'text': 'Эрдоган'}, {'start': 650, 'end': 657, 'text': 'Эрдоган'}, {'start': 680, 'end': 687, 'text': 'Эрдоган'}]\n",
            "=================================================\n",
            "\n",
            "TEXT 360: Немецкая полиция задержала при попытке вылететь в Катар журналиста телеканала \"Аль-Джазира\" Ахмеда Мансура по международному ордеру на арест, выданному властями Египта. Немецкая полиция в субботу, 20 июня, задержала в берлинском аэропорту Тегель известного в арабском мире журналиста телеканала \"Аль-Джазира\" Ахмеда Мансура. Как сообщило агентство dpa, мужчина был задержан по международному ордеру на арест, выданному властями Египта, при попытке вылететь в Катар. \"Аль-Джазира\" уже потребовала от властей ФРГ освободить задержанного журналиста, которого в Каире обвиняют среди прочего в изнасиловании и грабежах. В частности, Ахмед Мансур, имеющий египетский и британский паспорта, был в январе 2014 года заочно приговорен каирским судом к 15 годам лишения свободы за участие в \"пытках адвоката\" во время беспорядков на площади Тахрир в 2011 году. К смертной казни приговорил 14 лидеров исламистского движения \"Братья мусульмане\" суд в Каире.\n",
            "@highlight\n",
            "В Германии за сутки выявлено более 100 новых заражений коронавирусом\n",
            "@highlight\n",
            "Комментарий: Россия накануне эпидемии - виноватые назначены заранее\n",
            "@highlight\n",
            "Тысячи демонстрантов в Гамбурге выступили за прием беженцев\n",
            "ENTITIES: [{'start': 50, 'end': 55, 'text': 'Катар'}, {'start': 92, 'end': 106, 'text': 'Ахмеда Мансура'}, {'start': 161, 'end': 167, 'text': 'Египта'}, {'start': 239, 'end': 245, 'text': 'Тегель'}, {'start': 309, 'end': 323, 'text': 'Ахмеда Мансура'}, {'start': 348, 'end': 351, 'text': 'dpa'}, {'start': 428, 'end': 434, 'text': 'Египта'}, {'start': 459, 'end': 464, 'text': 'Катар'}, {'start': 507, 'end': 510, 'text': 'ФРГ'}, {'start': 558, 'end': 563, 'text': 'Каире'}, {'start': 628, 'end': 640, 'text': 'Ахмед Мансур'}, {'start': 830, 'end': 836, 'text': 'Тахрир'}, {'start': 913, 'end': 930, 'text': 'Братья мусульмане'}, {'start': 938, 'end': 943, 'text': 'Каире'}, {'start': 958, 'end': 966, 'text': 'Германии'}, {'start': 1049, 'end': 1055, 'text': 'Россия'}, {'start': 1138, 'end': 1146, 'text': 'Гамбурге'}]\n",
            "QUESTINOS: По данным катарского телеканала, египетские власти усиливают давление на сотрудников \"Аль-Джазиры\", которую обвиняют в пособничестве запрещенного в Египте исламского движения \"@placeholder\".\n",
            "Answers: [{'start': 913, 'end': 930, 'text': 'Братья мусульмане'}]\n",
            "=================================================\n",
            "\n",
            "TEXT 420: Как повлияет признание Беларусью независимости Южной Осетии и Абхазии на ее шансы стать полноценным участником программы Евросоюза \"Восточное партнерство\". Эксперты и политики расходятся во мнениях по этому вопросу. Высказывания европейских чиновников и политиков относительно того, как повлияет признание Минском независимости Южной Осетии и Абхазии на решение Брюсселя о включении Беларуси в программу \"Восточное партнерство\", звучат все чаще. Эксперты не уверены, что само признание состоится, и по-разному оценивают последствия такого шага для будущего отношений ЕС и Беларуси. \"Вне европейского контекста\"\n",
            "Сначала непризнание мятежных грузинских провинций с возможным участием Беларуси в \"Восточном партнерстве\" официально никак не связывалось. Гораздо более важным условием считалось дальнейшее продвижение Минска по пути демократизации.\n",
            "@highlight\n",
            "ЕС готовится к включению Беларуси в \"Восточное партнерство?\"\n",
            "@highlight\n",
            "Франк-Вальтер Штайнмайер: Реформы в Беларуси нужно продолжать\n",
            "@highlight\n",
            "Гюнтер Ноке: Беларусь - неотъемлемая часть Европы\n",
            "ENTITIES: [{'start': 23, 'end': 32, 'text': 'Беларусью'}, {'start': 47, 'end': 59, 'text': 'Южной Осетии'}, {'start': 62, 'end': 69, 'text': 'Абхазии'}, {'start': 121, 'end': 130, 'text': 'Евросоюза'}, {'start': 306, 'end': 313, 'text': 'Минском'}, {'start': 328, 'end': 340, 'text': 'Южной Осетии'}, {'start': 343, 'end': 350, 'text': 'Абхазии'}, {'start': 362, 'end': 370, 'text': 'Брюсселя'}, {'start': 383, 'end': 391, 'text': 'Беларуси'}, {'start': 567, 'end': 569, 'text': 'ЕС'}, {'start': 572, 'end': 580, 'text': 'Беларуси'}, {'start': 682, 'end': 690, 'text': 'Беларуси'}, {'start': 813, 'end': 819, 'text': 'Минска'}, {'start': 855, 'end': 857, 'text': 'ЕС'}, {'start': 880, 'end': 888, 'text': 'Беларуси'}, {'start': 963, 'end': 971, 'text': 'Беларуси'}, {'start': 1000, 'end': 1011, 'text': 'Гюнтер Ноке'}, {'start': 1013, 'end': 1021, 'text': 'Беларусь'}, {'start': 1043, 'end': 1049, 'text': 'Европы'}]\n",
            "QUESTINOS: При этом выбор, двигаться в направлении @placeholder, по словам Жоанэна, налагает на Минск определенные обязательства.\n",
            "Answers: [{'start': 121, 'end': 130, 'text': 'Евросоюза'}, {'start': 567, 'end': 569, 'text': 'ЕС'}, {'start': 855, 'end': 857, 'text': 'ЕС'}, {'start': 1043, 'end': 1049, 'text': 'Европы'}]\n",
            "=================================================\n",
            "\n",
            "TEXT 780: Официальный Киев не устает подчеркивать успех визита в Китай президента Украины Януковича. Независимые эксперты считают важными отношения с этой страной, но сомневаются в развитии стратегического партнерства. Одним из итогов визита в Китай президента Януковича может стать заключение до 2013 года договора о стратегическом партнерстве с этой страной, заявил директор департамента информационной политики МИДа Олег Волошин. Китай заинтересован использовать Украину как геостратегический плацдарм в Европе, считают независимые эксперты-международники. В то же время, они опасаются, что украинская коррупция не позволит китайцам внедрить обещанные инвестиционные проекты. Акцент на прагматизме\n",
            "Визит президента Украины в КНР раскрыл новые возможности для формирования новой восточной и евразийской политики Украины, уверен директор Национального института стратегических исследований Андрей Ермолаев.\n",
            "@highlight\n",
            "В диалоге с Киевом Берлин выбрал прагматичный подход\n",
            "@highlight\n",
            "Виктор Янукович подтвердил в Берлине европейский выбор Украины\n",
            "@highlight\n",
            "Украинская оборонка: финансовая диета может окончиться гибелью\n",
            "ENTITIES: [{'start': 12, 'end': 16, 'text': 'Киев'}, {'start': 55, 'end': 60, 'text': 'Китай'}, {'start': 72, 'end': 79, 'text': 'Украины'}, {'start': 80, 'end': 89, 'text': 'Януковича'}, {'start': 234, 'end': 239, 'text': 'Китай'}, {'start': 251, 'end': 260, 'text': 'Януковича'}, {'start': 404, 'end': 408, 'text': 'МИДа'}, {'start': 409, 'end': 421, 'text': 'Олег Волошин'}, {'start': 423, 'end': 428, 'text': 'Китай'}, {'start': 456, 'end': 463, 'text': 'Украину'}, {'start': 497, 'end': 503, 'text': 'Европе'}, {'start': 708, 'end': 715, 'text': 'Украины'}, {'start': 718, 'end': 721, 'text': 'КНР'}, {'start': 804, 'end': 811, 'text': 'Украины'}, {'start': 829, 'end': 880, 'text': 'Национального института стратегических исследований'}, {'start': 881, 'end': 896, 'text': 'Андрей Ермолаев'}, {'start': 921, 'end': 925, 'text': 'Киев'}, {'start': 973, 'end': 988, 'text': 'Виктор Янукович'}, {'start': 1002, 'end': 1009, 'text': 'Берлине'}, {'start': 1028, 'end': 1035, 'text': 'Украины'}]\n",
            "QUESTINOS: Китайская сторона называет визит Януковича историческим, подчеркнул представитель украинского @placeholder.\n",
            "Answers: [{'start': 404, 'end': 421, 'text': 'МИДа Олег Волошин'}]\n",
            "=================================================\n",
            "\n",
            "TEXT 860: На неформальной встрече в финской Лаппеэнранте, открывшейся 1 сентября, главам МИДов Евросоюза предстоят \"принципиальные дебаты\" о роли ЕС в международной политике. По мнению министра иностранных дел Финляндии Эркки Туомиойя, единой Европе уже давно следует заняться поиском ответа на вопрос, чего она может добиться совместными усилиями. \"Давайте вместе проанализируем наши методы работы при построении внешней политики, чтобы решить, как мы можем действовать эффективнее в будущем\", - говорится в тексте приглашения на неформальную встречу. Акцент на Ближний Восток\n",
            "В частности, Евросоюз стремится играть более активную роль в урегулировании ближневосточного конфликта. Первым сигналом стало участие государств ЕС в расширенной миротворческой миссии ООН в Иране. 15-тысячный контингент будет почти наполовину состоять из европейских \"голубых касок\".\n",
            "@highlight\n",
            "Финляндия научит ЕС прагматизму\n",
            "@highlight\n",
            "Опыт отношений с Россией пригодится Финляндии в ближайшие полгода\n",
            "@highlight\n",
            "Эльмар Брок: \"Россия должна ощутить свою политическую ответственность\"\n",
            "ENTITIES: [{'start': 34, 'end': 46, 'text': 'Лаппеэнранте'}, {'start': 79, 'end': 82, 'text': 'МИД'}, {'start': 85, 'end': 94, 'text': 'Евросоюза'}, {'start': 136, 'end': 138, 'text': 'ЕС'}, {'start': 200, 'end': 209, 'text': 'Финляндии'}, {'start': 210, 'end': 224, 'text': 'Эркки Туомиойя'}, {'start': 233, 'end': 239, 'text': 'Европе'}, {'start': 553, 'end': 567, 'text': 'Ближний Восток'}, {'start': 581, 'end': 589, 'text': 'Евросоюз'}, {'start': 713, 'end': 715, 'text': 'ЕС'}, {'start': 752, 'end': 755, 'text': 'ООН'}, {'start': 758, 'end': 763, 'text': 'Иране'}, {'start': 863, 'end': 872, 'text': 'Финляндия'}, {'start': 880, 'end': 882, 'text': 'ЕС'}, {'start': 923, 'end': 930, 'text': 'Россией'}, {'start': 942, 'end': 951, 'text': 'Финляндии'}, {'start': 983, 'end': 994, 'text': 'Эльмар Брок'}, {'start': 997, 'end': 1003, 'text': 'Россия'}]\n",
            "QUESTINOS: При этом центральным столпом двусторонних отношений финны считают энергетическую взаимозависимость @placeholder и Европы.\n",
            "Answers: [{'start': 79, 'end': 82, 'text': 'МИД'}, {'start': 923, 'end': 930, 'text': 'Россией'}, {'start': 997, 'end': 1003, 'text': 'Россия'}]\n",
            "=================================================\n",
            "\n",
            "TEXT 910: Провал референдума по приему беженцев показывает, что тактика Виктора Орбана постепенно перестает работать в самой Венгрии. Это может пойти на пользу ЕС, считает Макс Хофман. @header \"Источник любого зла - Брюссель\"\n",
            "Возможно, дело еще и в том, что венгры - в отличие от британцев - вполне довольны членством своей страны в ЕС, во всяком случае миллиардными платежами, которые поступают из Брюсселя. Поэтому Орбан вынужден показывать два лица. Когда он встречается с главами правительств других стран Евросоюза, то пытается, судя по сообщениям СМИ, внести небольшой вклад в совместную работу. Так, на саммите ЕС, проходившем в середине сентября в Братиславе, Орбан за кулисами принимал участие во всех обсуждениях и даже разработал собственную концепцию - \"гибкая солидарность в миграционной политике\".\n",
            "@highlight\n",
            "В Германии за сутки выявлено более 100 новых заражений коронавирусом\n",
            "@highlight\n",
            "Тысячи демонстрантов в Гамбурге выступили за прием беженцев\n",
            "@highlight\n",
            "Комментарий: Россия накануне эпидемии - виноватые назначены заранее\n",
            "ENTITIES: [{'start': 62, 'end': 76, 'text': 'Виктора Орбана'}, {'start': 115, 'end': 122, 'text': 'Венгрии'}, {'start': 150, 'end': 152, 'text': 'ЕС'}, {'start': 162, 'end': 173, 'text': 'Макс Хофман'}, {'start': 206, 'end': 214, 'text': 'Брюссель'}, {'start': 323, 'end': 325, 'text': 'ЕС'}, {'start': 389, 'end': 397, 'text': 'Брюсселя'}, {'start': 407, 'end': 412, 'text': 'Орбан'}, {'start': 500, 'end': 509, 'text': 'Евросоюза'}, {'start': 543, 'end': 546, 'text': 'СМИ'}, {'start': 608, 'end': 610, 'text': 'ЕС'}, {'start': 646, 'end': 656, 'text': 'Братиславе'}, {'start': 658, 'end': 663, 'text': 'Орбан'}, {'start': 815, 'end': 823, 'text': 'Германии'}, {'start': 916, 'end': 924, 'text': 'Гамбурге'}, {'start': 977, 'end': 983, 'text': 'Россия'}]\n",
            "QUESTINOS: Но после референдума по Brexit (выходу Великобритании из @placeholder.\n",
            "Answers: [{'start': 150, 'end': 152, 'text': 'ЕС'}, {'start': 206, 'end': 214, 'text': 'Брюссель'}, {'start': 323, 'end': 325, 'text': 'ЕС'}, {'start': 500, 'end': 509, 'text': 'Евросоюза'}, {'start': 608, 'end': 610, 'text': 'ЕС'}]\n",
            "=================================================\n",
            "\n",
            "TEXT 930: Синдзо Абэ первым из глав стран G7 приехал в Россию на встречу с Путиным. Япония рассчитывает возобновить переговоры о заключении мирного договора и урегулировании вопроса по Южным Курилам. Сам факт встречи японского премьер-министра Синдзо Абэ и президента России Владимира Путина в Сочи в пятницу, 6 мая, довольно пикантный - ведь встреча запланирована вопреки просьбе президента США Барака Обамы. Внешняя политика Японии традиционно ориентируется на интересы своего партнера по безопасности - США. Но заключение формального мирного договора с Россией и разрешение тянущегося уже 70 лет территориального спора для Абэ настолько важно, что он готов действовать, не считаясь с опасениями Вашингтона. Как сообщало издание The Japan Times, в феврале Обама якобы лично попросил Абэ отказаться от планов посещения России.\n",
            "@highlight\n",
            "В Швеции задержаны двое граждан РФ в связи с нападением на чеченского блогера\n",
            "@highlight\n",
            "Туризм в эпоху коронавируса: куда поехать? И ехать ли вообще?\n",
            "@highlight\n",
            "Комментарий: Россия накануне эпидемии - виноватые назначены заранее\n",
            "ENTITIES: [{'start': 0, 'end': 10, 'text': 'Синдзо Абэ'}, {'start': 32, 'end': 34, 'text': 'G7'}, {'start': 45, 'end': 51, 'text': 'Россию'}, {'start': 65, 'end': 72, 'text': 'Путиным'}, {'start': 74, 'end': 80, 'text': 'Япония'}, {'start': 175, 'end': 188, 'text': 'Южным Курилам'}, {'start': 234, 'end': 244, 'text': 'Синдзо Абэ'}, {'start': 258, 'end': 264, 'text': 'России'}, {'start': 265, 'end': 281, 'text': 'Владимира Путина'}, {'start': 284, 'end': 288, 'text': 'Сочи'}, {'start': 382, 'end': 385, 'text': 'США'}, {'start': 386, 'end': 398, 'text': 'Барака Обамы'}, {'start': 417, 'end': 423, 'text': 'Японии'}, {'start': 496, 'end': 499, 'text': 'США'}, {'start': 546, 'end': 553, 'text': 'Россией'}, {'start': 616, 'end': 619, 'text': 'Абэ'}, {'start': 688, 'end': 698, 'text': 'Вашингтона'}, {'start': 721, 'end': 736, 'text': 'The Japan Times'}, {'start': 748, 'end': 753, 'text': 'Обама'}, {'start': 775, 'end': 778, 'text': 'Абэ'}, {'start': 810, 'end': 816, 'text': 'России'}, {'start': 831, 'end': 837, 'text': 'Швеции'}, {'start': 861, 'end': 863, 'text': 'РФ'}, {'start': 1004, 'end': 1010, 'text': 'Россия'}]\n",
            "QUESTINOS: Осложняется текущее положение еще и тем, что с целью сдерживания Китая @placeholder пытается сблизиться со своими партнерами по безопасности - США и Европой.\n",
            "Answers: [{'start': 0, 'end': 10, 'text': 'Синдзо Абэ'}, {'start': 74, 'end': 80, 'text': 'Япония'}, {'start': 234, 'end': 244, 'text': 'Синдзо Абэ'}, {'start': 417, 'end': 423, 'text': 'Японии'}, {'start': 616, 'end': 619, 'text': 'Абэ'}, {'start': 775, 'end': 778, 'text': 'Абэ'}]\n",
            "=================================================\n",
            "\n",
            "TEXT 980: Генпрокуратура заявила, что не санкционировала блокировку IP-адресов в деле Telegram. Ведомство отказалось быть соответчиком по делу владельцев заблокированного сайта. Генпрокуратура РФ заявила, что Роскомнадзор в рамках борьбы с мессенджером Telegram действовал по собственной инициативе, блокируя миллионы IP-адресов. Как написало в понедельник, 6 августа, российское издание \"Ведомости\", Генпрокуратура не давала санкции на блокировку IP-адресов, дав лишь распоряжение ограничить доступ к семи аккаунтам в Telegram, \"пропагандирующим деятельность ряда запрещенных в России организаций на территории Сирии\", а также к некоторым сервисам, позволяющим обходить блокировки. Иск был подан к Роскомнадзору и Генпрокуратуре. Представители Генпрокуратуры считают, что ответчиком по данному иску ведомство быть не может.\n",
            "@highlight\n",
            "Обратный эффект: почему провалилась блокировка Telegram?\n",
            "@highlight\n",
            "Год закону об анонимайзерах и VPN: как им живется в России?\n",
            "@highlight\n",
            "ЕСПЧ рассмотрит жалобу на блокировку Telegram\n",
            "ENTITIES: [{'start': 0, 'end': 14, 'text': 'Генпрокуратура'}, {'start': 76, 'end': 84, 'text': 'Telegram'}, {'start': 168, 'end': 182, 'text': 'Генпрокуратура'}, {'start': 183, 'end': 185, 'text': 'РФ'}, {'start': 199, 'end': 211, 'text': 'Роскомнадзор'}, {'start': 243, 'end': 251, 'text': 'Telegram'}, {'start': 379, 'end': 388, 'text': 'Ведомости'}, {'start': 391, 'end': 405, 'text': 'Генпрокуратура'}, {'start': 509, 'end': 517, 'text': 'Telegram'}, {'start': 569, 'end': 575, 'text': 'России'}, {'start': 602, 'end': 607, 'text': 'Сирии'}, {'start': 689, 'end': 702, 'text': 'Роскомнадзору'}, {'start': 705, 'end': 719, 'text': 'Генпрокуратуре'}, {'start': 735, 'end': 749, 'text': 'Генпрокуратуры'}, {'start': 873, 'end': 881, 'text': 'Telegram'}, {'start': 946, 'end': 952, 'text': 'России'}, {'start': 965, 'end': 969, 'text': 'ЕСПЧ'}, {'start': 1002, 'end': 1010, 'text': 'Telegram'}]\n",
            "QUESTINOS: Как следует из дела, заявитель требует признать незаконными действия @placeholder и обязать его восстановить доступ к сайту.\n",
            "Answers: [{'start': 199, 'end': 211, 'text': 'Роскомнадзор'}, {'start': 689, 'end': 702, 'text': 'Роскомнадзору'}]\n",
            "=================================================\n",
            "\n"
          ],
          "name": "stdout"
        }
      ]
    }
  ]
}