{
  "nbformat": 4,
  "nbformat_minor": 0,
  "metadata": {
    "colab": {
      "name": "RSG_RuCoS.ipynb",
      "provenance": [],
      "collapsed_sections": [
        "aLOrcPtfh7Ke"
      ],
      "toc_visible": true
    },
    "kernelspec": {
      "display_name": "Python 3",
      "name": "python3"
    }
  },
  "cells": [
    {
      "cell_type": "markdown",
      "metadata": {
        "id": "xGZSqd8Rb6_D"
      },
      "source": [
        "**Результаты so far:**\r\n",
        "*  Воспроизведен бейзлайн RSG\r\n",
        "\r\n",
        "\r\n"
      ]
    },
    {
      "cell_type": "markdown",
      "metadata": {
        "id": "RQCtN9CknDMH"
      },
      "source": [
        "# Data"
      ]
    },
    {
      "cell_type": "code",
      "metadata": {
        "id": "FpR1j_wefIYD"
      },
      "source": [
        "%%capture\n",
        "%%bash\n",
        "# change url if you want to work with a different RSG dataset\n",
        "wget -q --show-progress \"https://russiansuperglue.com/tasks/download/RuCoS\" -O temp.zip\n",
        "unzip temp.zip -d data\n",
        "\n",
        "# remove unnecessary directories and files\n",
        "rm temp.zip\n",
        "rm -r data/__MACOSX\n",
        "rm -r sample_data/"
      ],
      "execution_count": 5,
      "outputs": []
    },
    {
      "cell_type": "code",
      "metadata": {
        "id": "_lO4NQ4Etd8w"
      },
      "source": [
        "# Load necessary code files and models from https://github.com/RussianNLP/RussianSuperGLUE \r\n",
        "# to recreate TfIdf baseline\r\n",
        "\r\n",
        "%%capture\r\n",
        "%%bash\r\n",
        "# load tfidf pickle created by RSG team\r\n",
        "wget -q --show-progress \"https://russiansuperglue.com/tasks/tf_idf\" -O temp.zip\r\n",
        "unzip temp.zip -d data\r\n",
        "rm temp.zip\r\n",
        "\r\n",
        "# Make sure you donwload with the raw file link\r\n",
        "# Keep the link relevant to your dataset\r\n",
        "wget -q --show-progress \"https://github.com/RussianNLP/RussianSuperGLUE/raw/master/tfidf_baseline/RuCoS.py\" -O RuCoS.py"
      ],
      "execution_count": 6,
      "outputs": []
    },
    {
      "cell_type": "code",
      "metadata": {
        "id": "6B35hR1UfhM-"
      },
      "source": [
        "import pandas as pd\n",
        "import json\n",
        "pd.set_option('display.max_colwidth', None)\n",
        "pd.set_option('display.max_rows', 80)\n",
        "\n",
        "class JSONL_handler():\n",
        "    \"\"\" opens a jsonl file and turns it into a necessary data structure \"\"\"\n",
        "    \n",
        "    def __init__(self, path):\n",
        "        self.path = path # path to jsonl file\n",
        "\n",
        "    def to_pandas(self):\n",
        "        \"\"\" get jsonl file content as a pandas DataFrame\"\"\"\n",
        "\n",
        "        text_df = pd.DataFrame(columns=['text', 'entities'])\n",
        "        questions_df = pd.DataFrame(columns=['text_id',\n",
        "                                             'question', 'answers'])\n",
        "\n",
        "        lines = self.yield_lines()\n",
        "\n",
        "        for passage_id, line in enumerate(lines):\n",
        "            text, entities, questions = self.split_text_and_questions(line)\n",
        "            text_df = text_df.append({'text':text, 'entities': entities}, \n",
        "                           ignore_index=True)\n",
        "            for i in range(len(questions)):\n",
        "                questions_df = questions_df.append({'text_id': passage_id,\n",
        "                                    'question': questions[i]['query'],\n",
        "                                     'answers': questions[i]['answers']},\n",
        "                                    ignore_index=True)\n",
        "        return text_df, questions_df\n",
        "\n",
        "    def yield_lines(self):\n",
        "        \"\"\" yields json lines one by one \"\"\"\n",
        "        with open(self.path) as f:\n",
        "            for line in f:\n",
        "                yield json.loads(line)\n",
        "\n",
        "\n",
        "    def split_text_and_questions(self, line):\n",
        "        \"\"\" transforms a complex json object into a single row dataframe\"\"\"\n",
        "        text = line['passage']['text']\n",
        "        entities = line['passage']['entities']\n",
        "        questions = line['qas']\n",
        "\n",
        "        return text, entities, questions"
      ],
      "execution_count": 7,
      "outputs": []
    },
    {
      "cell_type": "code",
      "metadata": {
        "id": "IvQYkbBoFb8y"
      },
      "source": [
        "train = JSONL_handler('data/RuCoS/train.jsonl')\r\n",
        "texts_train, questions_train = train.to_pandas()\r\n",
        "\r\n",
        "valid = JSONL_handler('data/RuCoS/val.jsonl')\r\n",
        "texts_valid, questions_valid = valid.to_pandas()"
      ],
      "execution_count": 21,
      "outputs": []
    },
    {
      "cell_type": "code",
      "metadata": {
        "colab": {
          "base_uri": "https://localhost:8080/"
        },
        "id": "sHG40xUs8-e_",
        "outputId": "3a4f3a2b-bd3a-43a2-b84d-dd7fc7f8e9d4"
      },
      "source": [
        "texts_train.shape, questions_train.shape, texts_valid.shape, questions_valid.shape"
      ],
      "execution_count": 23,
      "outputs": [
        {
          "output_type": "execute_result",
          "data": {
            "text/plain": [
              "((72193, 2), (72193, 3), (7577, 2), (7577, 3))"
            ]
          },
          "metadata": {
            "tags": []
          },
          "execution_count": 23
        }
      ]
    },
    {
      "cell_type": "code",
      "metadata": {
        "colab": {
          "base_uri": "https://localhost:8080/",
          "height": 1000
        },
        "id": "j-_k91DyACBF",
        "outputId": "60257f01-9209-46db-8207-a295028f228e"
      },
      "source": [
        "texts_train.head()"
      ],
      "execution_count": 25,
      "outputs": [
        {
          "output_type": "execute_result",
          "data": {
            "text/html": [
              "<div>\n",
              "<style scoped>\n",
              "    .dataframe tbody tr th:only-of-type {\n",
              "        vertical-align: middle;\n",
              "    }\n",
              "\n",
              "    .dataframe tbody tr th {\n",
              "        vertical-align: top;\n",
              "    }\n",
              "\n",
              "    .dataframe thead th {\n",
              "        text-align: right;\n",
              "    }\n",
              "</style>\n",
              "<table border=\"1\" class=\"dataframe\">\n",
              "  <thead>\n",
              "    <tr style=\"text-align: right;\">\n",
              "      <th></th>\n",
              "      <th>text</th>\n",
              "      <th>entities</th>\n",
              "    </tr>\n",
              "  </thead>\n",
              "  <tbody>\n",
              "    <tr>\n",
              "      <th>0</th>\n",
              "      <td>Наблюдатели полагают, что подоплекой теракта в Домодедово является провал кавказской политики российского правительства, указывает немецкая печать. Немецкая печать продолжает комментировать теракт в Домодедово. Так, газета Süddeutsche Zeitung пишет:\\nНу, конечно же, после взрыва в Домодедово вновь обнаруживается \"кавказский след\". Его обнаруживают почти всегда, когда в России взрывается бомба в метро, в поезде или на рынке. И неважно, что очевидцы нередко не в состоянии сказать, был ли преступник женщиной в чадре или же мужчиной, грозившим всех уничтожить.Среди жертв взрыва в Домодедово есть граждане Германии, Великобритании, Австрии. Ежедневно в Москве совершают посадку более 3 десятков самолетов из Германии.\\n@highlight\\nНемецкий менеджер аэропорта Домодедово отвергает обвинения Медведева\\n@highlight\\nТеракт в Домодедово: системные просчеты\\n@highlight\\nКомментарий: Провал российских спецслужб</td>\n",
              "      <td>[{'start': 47, 'end': 57}, {'start': 199, 'end': 209}, {'start': 223, 'end': 242}, {'start': 281, 'end': 291}, {'start': 371, 'end': 377}, {'start': 582, 'end': 592}, {'start': 607, 'end': 615}, {'start': 617, 'end': 631}, {'start': 633, 'end': 640}, {'start': 654, 'end': 660}, {'start': 709, 'end': 717}, {'start': 758, 'end': 768}, {'start': 789, 'end': 798}, {'start': 819, 'end': 829}]</td>\n",
              "    </tr>\n",
              "    <tr>\n",
              "      <th>1</th>\n",
              "      <td>О вторжении на Украину танковой колонны из РФ сообщил представитель СНБО Украины Лысенко. Москва опровергла эту информацию, назвав ее провокацией. На территорию восточной Украины из России вошла колонна из 32 танков, заявили власти в Киеве. Помимо этого, границу с Луганской областью пересекли 30 грузовиков с бойцами, 16 гаубиц и другая военная техника, сообщил представитель Совета национальной безопасности и обороны (СНБО) Украины Андрей Лысенко на брифинге в Киеве в пятницу, 7 ноября. По его словам, колонна движется в направлении города Красный луч. Переброска военного оборудования и российских наемников на линии фронта продолжается, резюмировал представитель СНБО.\\n@highlight\\nВ Германии за сутки выявлено более 100 новых заражений коронавирусом\\n@highlight\\nРыночные цены на нефть рухнули из-за провала переговоров ОПЕК+\\n@highlight\\nВ Италии за сутки произошел резкий скачок смертей от COVID-19</td>\n",
              "      <td>[{'start': 15, 'end': 22}, {'start': 43, 'end': 45}, {'start': 68, 'end': 72}, {'start': 73, 'end': 80}, {'start': 81, 'end': 88}, {'start': 90, 'end': 96}, {'start': 171, 'end': 178}, {'start': 182, 'end': 188}, {'start': 234, 'end': 239}, {'start': 265, 'end': 283}, {'start': 421, 'end': 425}, {'start': 427, 'end': 434}, {'start': 435, 'end': 449}, {'start': 464, 'end': 469}, {'start': 544, 'end': 555}, {'start': 669, 'end': 673}, {'start': 688, 'end': 696}, {'start': 823, 'end': 827}, {'start': 842, 'end': 848}]</td>\n",
              "    </tr>\n",
              "    <tr>\n",
              "      <th>2</th>\n",
              "      <td>Год назад Владимир Путин вновь стал президентом России. С тех пор протесты против его возвращения в Кремль поутихли. Но это внешнее спокойствие - обманчиво, считает Инго Маннтойфель. Настоящая стабильность возможна только при наличии правового государства и демократических институтов, которые способны поддерживать в равновесии различные общественные интересы. Ведь то, что может произойти в противном случае, не хочется даже себе представлять. @header Стабильность возможна только в правовом государстве Помня о русской традиции насильственных революционных переворотов, которые неизменно отбрасывали страну назад, хочется надеяться, что в Кремле осознают необходимость эволюционного развития и, следовательно, либеральных реформ.\\n@highlight\\nВ Германии за сутки выявлено более 100 новых заражений коронавирусом\\n@highlight\\nКомментарий: Россия накануне эпидемии - виноватые назначены заранее\\n@highlight\\nТуризм в эпоху коронавируса: куда поехать? И ехать ли вообще?</td>\n",
              "      <td>[{'start': 10, 'end': 24}, {'start': 48, 'end': 54}, {'start': 100, 'end': 106}, {'start': 165, 'end': 181}, {'start': 642, 'end': 648}, {'start': 746, 'end': 754}, {'start': 837, 'end': 843}]</td>\n",
              "    </tr>\n",
              "    <tr>\n",
              "      <th>3</th>\n",
              "      <td>Союз девяти ведущих технических университетов Германии TU9 не только \"наводит шороху\" в немецкой политике, но и обращает самое пристальное внимание на российских студентов. Совсем скоро ждите TU9 в стране ТУ-134. Когда в 2006 году в немецком образовании, словно ниоткуда, появился новый игрок - Союз технических университетов ТU9 - мало кто воспринял организацию всерьез. Мол, \"физики\" опять что-то придумали. Сегодня ТU9 на равных борется с \"Болонской реформой\" за сохранение традиционных дипломов специалистов-инженеров (Diplom-Ingenieur), и пока исход схватки не определен. За какие-то четыре года союз доказал, что он - сила.\\n@highlight\\nНа учебу в Германию: коротко о главном\\n@highlight\\n\"Приключения немецких вузов\" в России, или Приходите на ярмарку\\n@highlight\\nКак составляется рекомендательное письмо: советы потенциальным стипендиатам</td>\n",
              "      <td>[{'start': 46, 'end': 54}, {'start': 55, 'end': 58}, {'start': 192, 'end': 195}, {'start': 295, 'end': 329}, {'start': 418, 'end': 421}, {'start': 652, 'end': 660}, {'start': 722, 'end': 728}]</td>\n",
              "    </tr>\n",
              "    <tr>\n",
              "      <th>4</th>\n",
              "      <td>В столичной мэрии это решение мотивировали особыми мерами безопасности во время проведения ЧМ-2018. Организаторы акции намерены провести пикет у Госдумы. Московские власти не согласовали проведение в центре российской столицы митинга против изменения пенсионного законодательства. Об этом во вторник, 10 июля, рассказал агентству \"Интерфакс\" один из заявителей акции Сергей Митрохин. Митинг был намечен на 18 июля. Как пенсионная реформа повлияет на взаимоотношения поколений и почему отказ от планирования жизни - самая рациональная стратегия в России?\\n@highlight\\nРыночные цены на нефть рухнули из-за провала переговоров ОПЕК+\\n@highlight\\nОт COVID-19 впервые скончался гражданин Германии\\n@highlight\\nДоклад SIPRI: Кризисы стимулируют торговлю оружием в мире</td>\n",
              "      <td>[{'start': 145, 'end': 152}, {'start': 331, 'end': 340}, {'start': 367, 'end': 382}, {'start': 546, 'end': 552}, {'start': 622, 'end': 626}, {'start': 679, 'end': 687}, {'start': 706, 'end': 711}]</td>\n",
              "    </tr>\n",
              "  </tbody>\n",
              "</table>\n",
              "</div>"
            ],
            "text/plain": [
              "                                                                                                                                                                                                                                                                                                                                                                                                                                                                                                                                                                                                                                                                                                                                                                                                                                                                                                                                                                                                         text                                                                                                                                                                                                                                                                                                                                                                                                                                                                                                                                  entities\n",
              "0                                                                Наблюдатели полагают, что подоплекой теракта в Домодедово является провал кавказской политики российского правительства, указывает немецкая печать. Немецкая печать продолжает комментировать теракт в Домодедово. Так, газета Süddeutsche Zeitung пишет:\\nНу, конечно же, после взрыва в Домодедово вновь обнаруживается \"кавказский след\". Его обнаруживают почти всегда, когда в России взрывается бомба в метро, в поезде или на рынке. И неважно, что очевидцы нередко не в состоянии сказать, был ли преступник женщиной в чадре или же мужчиной, грозившим всех уничтожить.Среди жертв взрыва в Домодедово есть граждане Германии, Великобритании, Австрии. Ежедневно в Москве совершают посадку более 3 десятков самолетов из Германии.\\n@highlight\\nНемецкий менеджер аэропорта Домодедово отвергает обвинения Медведева\\n@highlight\\nТеракт в Домодедово: системные просчеты\\n@highlight\\nКомментарий: Провал российских спецслужб                                                                                                                                    [{'start': 47, 'end': 57}, {'start': 199, 'end': 209}, {'start': 223, 'end': 242}, {'start': 281, 'end': 291}, {'start': 371, 'end': 377}, {'start': 582, 'end': 592}, {'start': 607, 'end': 615}, {'start': 617, 'end': 631}, {'start': 633, 'end': 640}, {'start': 654, 'end': 660}, {'start': 709, 'end': 717}, {'start': 758, 'end': 768}, {'start': 789, 'end': 798}, {'start': 819, 'end': 829}]\n",
              "1                                                                 О вторжении на Украину танковой колонны из РФ сообщил представитель СНБО Украины Лысенко. Москва опровергла эту информацию, назвав ее провокацией. На территорию восточной Украины из России вошла колонна из 32 танков, заявили власти в Киеве. Помимо этого, границу с Луганской областью пересекли 30 грузовиков с бойцами, 16 гаубиц и другая военная техника, сообщил представитель Совета национальной безопасности и обороны (СНБО) Украины Андрей Лысенко на брифинге в Киеве в пятницу, 7 ноября. По его словам, колонна движется в направлении города Красный луч. Переброска военного оборудования и российских наемников на линии фронта продолжается, резюмировал представитель СНБО.\\n@highlight\\nВ Германии за сутки выявлено более 100 новых заражений коронавирусом\\n@highlight\\nРыночные цены на нефть рухнули из-за провала переговоров ОПЕК+\\n@highlight\\nВ Италии за сутки произошел резкий скачок смертей от COVID-19  [{'start': 15, 'end': 22}, {'start': 43, 'end': 45}, {'start': 68, 'end': 72}, {'start': 73, 'end': 80}, {'start': 81, 'end': 88}, {'start': 90, 'end': 96}, {'start': 171, 'end': 178}, {'start': 182, 'end': 188}, {'start': 234, 'end': 239}, {'start': 265, 'end': 283}, {'start': 421, 'end': 425}, {'start': 427, 'end': 434}, {'start': 435, 'end': 449}, {'start': 464, 'end': 469}, {'start': 544, 'end': 555}, {'start': 669, 'end': 673}, {'start': 688, 'end': 696}, {'start': 823, 'end': 827}, {'start': 842, 'end': 848}]\n",
              "2  Год назад Владимир Путин вновь стал президентом России. С тех пор протесты против его возвращения в Кремль поутихли. Но это внешнее спокойствие - обманчиво, считает Инго Маннтойфель. Настоящая стабильность возможна только при наличии правового государства и демократических институтов, которые способны поддерживать в равновесии различные общественные интересы. Ведь то, что может произойти в противном случае, не хочется даже себе представлять. @header Стабильность возможна только в правовом государстве Помня о русской традиции насильственных революционных переворотов, которые неизменно отбрасывали страну назад, хочется надеяться, что в Кремле осознают необходимость эволюционного развития и, следовательно, либеральных реформ.\\n@highlight\\nВ Германии за сутки выявлено более 100 новых заражений коронавирусом\\n@highlight\\nКомментарий: Россия накануне эпидемии - виноватые назначены заранее\\n@highlight\\nТуризм в эпоху коронавируса: куда поехать? И ехать ли вообще?                                                                                                                                                                                                                                                                                                                                          [{'start': 10, 'end': 24}, {'start': 48, 'end': 54}, {'start': 100, 'end': 106}, {'start': 165, 'end': 181}, {'start': 642, 'end': 648}, {'start': 746, 'end': 754}, {'start': 837, 'end': 843}]\n",
              "3                                                                                                                             Союз девяти ведущих технических университетов Германии TU9 не только \"наводит шороху\" в немецкой политике, но и обращает самое пристальное внимание на российских студентов. Совсем скоро ждите TU9 в стране ТУ-134. Когда в 2006 году в немецком образовании, словно ниоткуда, появился новый игрок - Союз технических университетов ТU9 - мало кто воспринял организацию всерьез. Мол, \"физики\" опять что-то придумали. Сегодня ТU9 на равных борется с \"Болонской реформой\" за сохранение традиционных дипломов специалистов-инженеров (Diplom-Ingenieur), и пока исход схватки не определен. За какие-то четыре года союз доказал, что он - сила.\\n@highlight\\nНа учебу в Германию: коротко о главном\\n@highlight\\n\"Приключения немецких вузов\" в России, или Приходите на ярмарку\\n@highlight\\nКак составляется рекомендательное письмо: советы потенциальным стипендиатам                                                                                                                                                                                                                                                                                                                                          [{'start': 46, 'end': 54}, {'start': 55, 'end': 58}, {'start': 192, 'end': 195}, {'start': 295, 'end': 329}, {'start': 418, 'end': 421}, {'start': 652, 'end': 660}, {'start': 722, 'end': 728}]\n",
              "4                                                                                                                                                                                                                  В столичной мэрии это решение мотивировали особыми мерами безопасности во время проведения ЧМ-2018. Организаторы акции намерены провести пикет у Госдумы. Московские власти не согласовали проведение в центре российской столицы митинга против изменения пенсионного законодательства. Об этом во вторник, 10 июля, рассказал агентству \"Интерфакс\" один из заявителей акции Сергей Митрохин. Митинг был намечен на 18 июля. Как пенсионная реформа повлияет на взаимоотношения поколений и почему отказ от планирования жизни - самая рациональная стратегия в России?\\n@highlight\\nРыночные цены на нефть рухнули из-за провала переговоров ОПЕК+\\n@highlight\\nОт COVID-19 впервые скончался гражданин Германии\\n@highlight\\nДоклад SIPRI: Кризисы стимулируют торговлю оружием в мире                                                                                                                                                                                                                                                                                                                                      [{'start': 145, 'end': 152}, {'start': 331, 'end': 340}, {'start': 367, 'end': 382}, {'start': 546, 'end': 552}, {'start': 622, 'end': 626}, {'start': 679, 'end': 687}, {'start': 706, 'end': 711}]"
            ]
          },
          "metadata": {
            "tags": []
          },
          "execution_count": 25
        }
      ]
    },
    {
      "cell_type": "code",
      "metadata": {
        "colab": {
          "base_uri": "https://localhost:8080/",
          "height": 497
        },
        "id": "wbbiCdWk9TQR",
        "outputId": "f66f8420-b17d-4ea4-dbd0-012fde092c66"
      },
      "source": [
        "questions_train.head()"
      ],
      "execution_count": 26,
      "outputs": [
        {
          "output_type": "execute_result",
          "data": {
            "text/html": [
              "<div>\n",
              "<style scoped>\n",
              "    .dataframe tbody tr th:only-of-type {\n",
              "        vertical-align: middle;\n",
              "    }\n",
              "\n",
              "    .dataframe tbody tr th {\n",
              "        vertical-align: top;\n",
              "    }\n",
              "\n",
              "    .dataframe thead th {\n",
              "        text-align: right;\n",
              "    }\n",
              "</style>\n",
              "<table border=\"1\" class=\"dataframe\">\n",
              "  <thead>\n",
              "    <tr style=\"text-align: right;\">\n",
              "      <th></th>\n",
              "      <th>text_id</th>\n",
              "      <th>question</th>\n",
              "      <th>answers</th>\n",
              "    </tr>\n",
              "  </thead>\n",
              "  <tbody>\n",
              "    <tr>\n",
              "      <th>0</th>\n",
              "      <td>0</td>\n",
              "      <td>Кроме того, серьезным вызовом для России становится стремительно развивающийся Китай.Еще в понедельник @placeholder в рамках спора о системе противоракетной обороны пригрозил размещением дополнительных ракетных комплексов.</td>\n",
              "      <td>[{'start': 789, 'end': 798, 'text': 'Медведева'}]</td>\n",
              "    </tr>\n",
              "    <tr>\n",
              "      <th>1</th>\n",
              "      <td>1</td>\n",
              "      <td>Россия категорически опровергла сообщение @placeholder, назвав его провокацией.</td>\n",
              "      <td>[{'start': 81, 'end': 88, 'text': 'Лысенко'}, {'start': 435, 'end': 449, 'text': 'Андрей Лысенко'}]</td>\n",
              "    </tr>\n",
              "    <tr>\n",
              "      <th>2</th>\n",
              "      <td>2</td>\n",
              "      <td>@placeholder, руководитель отдела Восточной Европы и главный редактор русской редакции Deutsche Welle</td>\n",
              "      <td>[{'start': 165, 'end': 181, 'text': 'Инго Маннтойфель'}]</td>\n",
              "    </tr>\n",
              "    <tr>\n",
              "      <th>3</th>\n",
              "      <td>3</td>\n",
              "      <td>@placeholder позиционирует себя как союз независимых университетов, которые заинтересованы не столько в государственной поддержке, сколько в сотрудничестве с реальным сектором экономики, производством и бизнесом.</td>\n",
              "      <td>[{'start': 55, 'end': 58, 'text': 'TU9'}, {'start': 192, 'end': 195, 'text': 'TU9'}]</td>\n",
              "    </tr>\n",
              "    <tr>\n",
              "      <th>4</th>\n",
              "      <td>4</td>\n",
              "      <td>Согласно указу президента @placeholder особые меры безопасности в местах проведения турнира действуют с 25 мая по 25 июля.</td>\n",
              "      <td>[{'start': 546, 'end': 552, 'text': 'России'}]</td>\n",
              "    </tr>\n",
              "  </tbody>\n",
              "</table>\n",
              "</div>"
            ],
            "text/plain": [
              "  text_id  ...                                                                                              answers\n",
              "0       0  ...                                                    [{'start': 789, 'end': 798, 'text': 'Медведева'}]\n",
              "1       1  ...  [{'start': 81, 'end': 88, 'text': 'Лысенко'}, {'start': 435, 'end': 449, 'text': 'Андрей Лысенко'}]\n",
              "2       2  ...                                             [{'start': 165, 'end': 181, 'text': 'Инго Маннтойфель'}]\n",
              "3       3  ...                 [{'start': 55, 'end': 58, 'text': 'TU9'}, {'start': 192, 'end': 195, 'text': 'TU9'}]\n",
              "4       4  ...                                                       [{'start': 546, 'end': 552, 'text': 'России'}]\n",
              "\n",
              "[5 rows x 3 columns]"
            ]
          },
          "metadata": {
            "tags": []
          },
          "execution_count": 26
        }
      ]
    },
    {
      "cell_type": "code",
      "metadata": {
        "id": "3ZB6i6JFNiyl"
      },
      "source": [
        "def fill_entities(text, entities):\r\n",
        "    for entity in entities:\r\n",
        "        entity['text'] = text[entity['start']:entity['end']]\r\n",
        "\r\n",
        "for idx, row in texts_train.iterrows():\r\n",
        "    fill_entities(row.text, row.entities)\r\n",
        "\r\n",
        "for idx, row in texts_valid.iterrows():\r\n",
        "    fill_entities(row.text, row.entities)"
      ],
      "execution_count": 27,
      "outputs": []
    },
    {
      "cell_type": "code",
      "metadata": {
        "colab": {
          "base_uri": "https://localhost:8080/"
        },
        "id": "uNVe8DdyYNkw",
        "outputId": "9a56a7e5-70af-4785-9230-7ba0d6496e7e"
      },
      "source": [
        "questions_train.iloc[0]"
      ],
      "execution_count": 28,
      "outputs": [
        {
          "output_type": "execute_result",
          "data": {
            "text/plain": [
              "text_id                                                                                                                                                                                                                                  0\n",
              "question    Кроме того, серьезным вызовом для России становится стремительно развивающийся Китай.Еще в понедельник @placeholder в рамках спора о системе противоракетной обороны пригрозил размещением дополнительных ракетных комплексов.\n",
              "answers                                                                                                                                                                                  [{'start': 789, 'end': 798, 'text': 'Медведева'}]\n",
              "Name: 0, dtype: object"
            ]
          },
          "metadata": {
            "tags": []
          },
          "execution_count": 28
        }
      ]
    },
    {
      "cell_type": "code",
      "metadata": {
        "colab": {
          "base_uri": "https://localhost:8080/"
        },
        "id": "WutkVKATYSC6",
        "outputId": "134e1f9e-76ce-4f80-dafa-6ce01a45b229"
      },
      "source": [
        "texts_train.iloc[0]"
      ],
      "execution_count": 29,
      "outputs": [
        {
          "output_type": "execute_result",
          "data": {
            "text/plain": [
              "text        Наблюдатели полагают, что подоплекой теракта в Домодедово является провал кавказской политики российского правительства, указывает немецкая печать. Немецкая печать продолжает комментировать теракт в Домодедово. Так, газета Süddeutsche Zeitung пишет:\\nНу, конечно же, после взрыва в Домодедово вновь обнаруживается \"кавказский след\". Его обнаруживают почти всегда, когда в России взрывается бомба в метро, в поезде или на рынке. И неважно, что очевидцы нередко не в состоянии сказать, был ли преступник женщиной в чадре или же мужчиной, грозившим всех уничтожить.Среди жертв взрыва в Домодедово есть граждане Германии, Великобритании, Австрии. Ежедневно в Москве совершают посадку более 3 десятков самолетов из Германии.\\n@highlight\\nНемецкий менеджер аэропорта Домодедово отвергает обвинения Медведева\\n@highlight\\nТеракт в Домодедово: системные просчеты\\n@highlight\\nКомментарий: Провал российских спецслужб\n",
              "entities                                                                                                                                                                                                                         [{'start': 47, 'end': 57, 'text': 'Домодедово'}, {'start': 199, 'end': 209, 'text': 'Домодедово'}, {'start': 223, 'end': 242, 'text': 'Süddeutsche Zeitung'}, {'start': 281, 'end': 291, 'text': 'Домодедово'}, {'start': 371, 'end': 377, 'text': 'России'}, {'start': 582, 'end': 592, 'text': 'Домодедово'}, {'start': 607, 'end': 615, 'text': 'Германии'}, {'start': 617, 'end': 631, 'text': 'Великобритании'}, {'start': 633, 'end': 640, 'text': 'Австрии'}, {'start': 654, 'end': 660, 'text': 'Москве'}, {'start': 709, 'end': 717, 'text': 'Германии'}, {'start': 758, 'end': 768, 'text': 'Домодедово'}, {'start': 789, 'end': 798, 'text': 'Медведева'}, {'start': 819, 'end': 829, 'text': 'Домодедово'}]\n",
              "Name: 0, dtype: object"
            ]
          },
          "metadata": {
            "tags": []
          },
          "execution_count": 29
        }
      ]
    },
    {
      "cell_type": "markdown",
      "metadata": {
        "id": "2X3ThEhLJ7H5"
      },
      "source": [
        "# RSG Baseline"
      ]
    },
    {
      "cell_type": "code",
      "metadata": {
        "id": "v6gTHxV6tuxg"
      },
      "source": [
        "%%capture\r\n",
        "!pip install jsonlines"
      ],
      "execution_count": 18,
      "outputs": []
    },
    {
      "cell_type": "code",
      "metadata": {
        "id": "eXVLSTWVO--P",
        "colab": {
          "base_uri": "https://localhost:8080/"
        },
        "outputId": "c070e322-a4b1-43dd-dedc-ef69d9cad1ab"
      },
      "source": [
        "import pickle\r\n",
        "import codecs\r\n",
        "import joblib\r\n",
        "import RuCoS\r\n",
        "\r\n",
        "vect = joblib.load(\"data/tfidf.pkl\")"
      ],
      "execution_count": 19,
      "outputs": [
        {
          "output_type": "stream",
          "text": [
            "/usr/local/lib/python3.6/dist-packages/sklearn/base.py:318: UserWarning: Trying to unpickle estimator TfidfTransformer from version 0.21.3 when using version 0.22.2.post1. This might lead to breaking code or invalid results. Use at your own risk.\n",
            "  UserWarning)\n",
            "/usr/local/lib/python3.6/dist-packages/sklearn/base.py:318: UserWarning: Trying to unpickle estimator TfidfVectorizer from version 0.21.3 when using version 0.22.2.post1. This might lead to breaking code or invalid results. Use at your own risk.\n",
            "  UserWarning)\n"
          ],
          "name": "stderr"
        }
      ]
    },
    {
      "cell_type": "code",
      "metadata": {
        "colab": {
          "base_uri": "https://localhost:8080/"
        },
        "id": "40sKfzbAvkiU",
        "outputId": "05d366ed-da2e-4162-cf21-370b377f1994"
      },
      "source": [
        "train_path = \"data/RuCoS/train.jsonl\"\r\n",
        "val_path = \"data/RuCoS/val.jsonl\"\r\n",
        "test_path = \"data/RuCoS/test.jsonl\"\r\n",
        "\r\n",
        "_, RuCoS_scores = RuCoS.eval_RuCoS(train_path, val_path, test_path, vect)\r\n",
        "\r\n",
        "\r\n",
        "val_em = RuCoS_scores['val'][0]\r\n",
        "val_f1 = RuCoS_scores['val'][1]\r\n",
        "\r\n",
        "print(f\"EM Score on Validation: {val_em}\") # should be around 0.22\r\n",
        "\r\n",
        "print(f\"F1 Score on Validation: {val_f1}\") # should be around 0.23"
      ],
      "execution_count": null,
      "outputs": [
        {
          "output_type": "stream",
          "text": [
            "EM Score on Validation: 0.22964233865646033\n",
            "F1 Score on Validation: 0.235315208305838\n"
          ],
          "name": "stdout"
        }
      ]
    },
    {
      "cell_type": "markdown",
      "metadata": {
        "id": "HvfxjrfQOlpe"
      },
      "source": [
        "# Heruistics"
      ]
    },
    {
      "cell_type": "markdown",
      "metadata": {
        "id": "aLOrcPtfh7Ke"
      },
      "source": [
        "## Удаление кандидатов + Random Choice"
      ]
    },
    {
      "cell_type": "code",
      "metadata": {
        "id": "QZc-IH05OmrJ"
      },
      "source": [
        "from sklearn.metrics.pairwise import cosine_similarity\r\n",
        "import jsonlines\r\n",
        "import numpy as np\r\n",
        "from collections import Counter\r\n",
        "import string\r\n",
        "import re\r\n",
        "import sys\r\n",
        "\r\n",
        "\r\n",
        "def normalize_answer(s):\r\n",
        "    \"\"\"Lower text and remove punctuation, articles and extra whitespace.\"\"\"\r\n",
        "    def white_space_fix(text):\r\n",
        "        return ' '.join(text.split())\r\n",
        "\r\n",
        "    def remove_punc(text):\r\n",
        "        exclude = set(string.punctuation)\r\n",
        "        return ''.join(ch for ch in text if ch not in exclude)\r\n",
        "\r\n",
        "    def lower(text):\r\n",
        "        return text.lower()\r\n",
        "\r\n",
        "    return white_space_fix(remove_punc(lower(s)))\r\n",
        "\r\n",
        "\r\n",
        "def f1_score(prediction, ground_truth):\r\n",
        "    prediction_tokens = normalize_answer(prediction).split()\r\n",
        "    ground_truth_tokens = normalize_answer(ground_truth).split()\r\n",
        "    common = Counter(prediction_tokens) & Counter(ground_truth_tokens)\r\n",
        "    num_same = sum(common.values())\r\n",
        "    if num_same == 0:\r\n",
        "        return 0\r\n",
        "    precision = 1.0 * num_same / len(prediction_tokens)\r\n",
        "    recall = 1.0 * num_same / len(ground_truth_tokens)\r\n",
        "    f1 = (2 * precision * recall) / (precision + recall)\r\n",
        "    return f1\r\n",
        "\r\n",
        "\r\n",
        "def exact_match_score(prediction, ground_truth):\r\n",
        "    return normalize_answer(prediction) == normalize_answer(ground_truth)\r\n",
        "\r\n",
        "\r\n",
        "def metric_max_over_ground_truths(metric_fn, prediction, ground_truths):\r\n",
        "    scores_for_ground_truths = [0]\r\n",
        "    for ground_truth in ground_truths:\r\n",
        "        score = metric_fn(prediction, ground_truth)\r\n",
        "        scores_for_ground_truths.append(score)\r\n",
        "    return max(scores_for_ground_truths)\r\n",
        "\r\n",
        "\r\n",
        "def evaluate(dataset, predictions):\r\n",
        "    f1 = exact_match = total = 0\r\n",
        "    correct_ids = []\r\n",
        "    for prediction, passage in zip(predictions, dataset):\r\n",
        "        prediction = prediction[\"label\"]\r\n",
        "        for qa in passage['qas']:\r\n",
        "            total += 1\r\n",
        "            ground_truths = list(map(lambda x: x['text'], qa.get(\"answers\", \"\")))\r\n",
        "\r\n",
        "            _exact_match = metric_max_over_ground_truths(exact_match_score, prediction, ground_truths)\r\n",
        "            if int(_exact_match) == 1:\r\n",
        "                correct_ids.append(qa['idx'])\r\n",
        "            exact_match += _exact_match\r\n",
        "\r\n",
        "            f1 += metric_max_over_ground_truths(f1_score, prediction, ground_truths)\r\n",
        "\r\n",
        "    exact_match = exact_match / total\r\n",
        "    f1 = f1 / total\r\n",
        "    return exact_match, f1\r\n",
        "\r\n",
        "\r\n",
        "def eval_RuCoS(train_path, val_path, test_path, vect):\r\n",
        "    test_score, test_pred = eval_part(test_path, vect)\r\n",
        "    return None, {\r\n",
        "        \"train\": eval_part(train_path, vect)[0],\r\n",
        "        \"val\": eval_part(val_path, vect)[0],\r\n",
        "        \"test\": test_score,\r\n",
        "        \"test_pred\": test_pred\r\n",
        "    }\r\n",
        "\r\n",
        "\r\n",
        "def eval_part(path, vect):\r\n",
        "    with jsonlines.open(path) as reader:\r\n",
        "        lines = list(reader)\r\n",
        "    preds = []\r\n",
        "    for row in lines:\r\n",
        "        pred = get_row_pred(row, vect)\r\n",
        "        # print(row)\r\n",
        "        # print('pred', pred)\r\n",
        "        preds.append({\r\n",
        "            \"idx\": row[\"idx\"],\r\n",
        "            \"label\": pred\r\n",
        "        })\r\n",
        "        # break\r\n",
        "    return evaluate(lines, preds), preds\r\n",
        "\r\n",
        "\r\n",
        "def get_row_pred(row, vect):\r\n",
        "    # text = vect.transform([row[\"passage\"][\"text\"].replace(\"\\n@highlight\\n\", \" \")])\r\n",
        "    res = []\r\n",
        "    words = [\r\n",
        "        row[\"passage\"][\"text\"][x[\"start\"]: x[\"end\"]]\r\n",
        "        for x in row[\"passage\"][\"entities\"]]\r\n",
        "    # if len(row['qas']) > 1:\r\n",
        "        # print(len(row['qas']))\r\n",
        "\r\n",
        "    for line in row[\"qas\"]:\r\n",
        "        line_candidates = []\r\n",
        "        _words = []\r\n",
        "        for word in words:\r\n",
        "            if word[:-1]  not in line['query']:\r\n",
        "                _words.append(word)\r\n",
        "        if len(_words) == 0:\r\n",
        "            for word in words:\r\n",
        "                line_candidates.append(line[\"query\"].replace(\"@placeholder\", word))\r\n",
        "            pred_idx = np.random.choice(np.arange(1, len(line_candidates)),\r\n",
        "                                size=1)[0]\r\n",
        "            pred = np.array(words)[pred_idx]\r\n",
        "        elif len(_words) == 1:\r\n",
        "            pred = _words[0]\r\n",
        "        else:\r\n",
        "            for word in _words:\r\n",
        "                line_candidates.append(line[\"query\"].replace(\"@placeholder\", word))\r\n",
        "            pred_idx = np.random.choice(np.arange(1, len(line_candidates)),\r\n",
        "                                        size=1)[0]\r\n",
        "            pred = np.array(_words)[pred_idx]\r\n",
        "        # cos = cosine_similarity(text, vect.transform(line_candidates))\r\n",
        "        # pred = np.array(words)[cos.argsort()[0][-1]]\r\n",
        "        res.append(pred)\r\n",
        "    return \" \".join(res)"
      ],
      "execution_count": 72,
      "outputs": []
    },
    {
      "cell_type": "code",
      "metadata": {
        "colab": {
          "base_uri": "https://localhost:8080/"
        },
        "id": "7o6ouKNyZCxf",
        "outputId": "63096798-71ed-4fb5-ef33-a5ce237b76c6"
      },
      "source": [
        "em_metrics = []\r\n",
        "f1_metrics = []\r\n",
        "\r\n",
        "for i in range(3):\r\n",
        "    _, RuCoS_scores = eval_RuCoS(train_path, val_path, test_path, 'No vect')\r\n",
        "    em = RuCoS_scores['val'][0]\r\n",
        "    f1 = RuCoS_scores['val'][1]\r\n",
        "    em_metrics.append(em)\r\n",
        "    f1_metrics.append(f1)\r\n",
        "\r\n",
        "print(f\"Random Choice\")\r\n",
        "print(f\"Average EM score over 3 experiments: {np.array(em_metrics).mean()}\")\r\n",
        "print(f\"Average F1 score over 3 experiments: {np.array(f1_metrics).mean()}\")"
      ],
      "execution_count": 73,
      "outputs": [
        {
          "output_type": "stream",
          "text": [
            "Random Choice\n",
            "Average EM score over 3 experiments: 0.24666754652237033\n",
            "Average F1 score over 3 experiments: 0.24893841219563806\n"
          ],
          "name": "stdout"
        }
      ]
    },
    {
      "cell_type": "markdown",
      "metadata": {
        "id": "CVtCdwWXmhOY"
      },
      "source": [
        "## Фильтрация + Count + Random Choice"
      ]
    },
    {
      "cell_type": "code",
      "metadata": {
        "id": "SMLDaTJEbzKi"
      },
      "source": [
        "from sklearn.metrics.pairwise import cosine_similarity\r\n",
        "import jsonlines\r\n",
        "import numpy as np\r\n",
        "from collections import Counter\r\n",
        "import string\r\n",
        "import re\r\n",
        "import sys\r\n",
        "\r\n",
        "\r\n",
        "def normalize_answer(s):\r\n",
        "    \"\"\"Lower text and remove punctuation, articles and extra whitespace.\"\"\"\r\n",
        "    def white_space_fix(text):\r\n",
        "        return ' '.join(text.split())\r\n",
        "\r\n",
        "    def remove_punc(text):\r\n",
        "        exclude = set(string.punctuation)\r\n",
        "        return ''.join(ch for ch in text if ch not in exclude)\r\n",
        "\r\n",
        "    def lower(text):\r\n",
        "        return text.lower()\r\n",
        "\r\n",
        "    return white_space_fix(remove_punc(lower(s)))\r\n",
        "\r\n",
        "\r\n",
        "def f1_score(prediction, ground_truth):\r\n",
        "    prediction_tokens = normalize_answer(prediction).split()\r\n",
        "    ground_truth_tokens = normalize_answer(ground_truth).split()\r\n",
        "    common = Counter(prediction_tokens) & Counter(ground_truth_tokens)\r\n",
        "    num_same = sum(common.values())\r\n",
        "    if num_same == 0:\r\n",
        "        return 0\r\n",
        "    precision = 1.0 * num_same / len(prediction_tokens)\r\n",
        "    recall = 1.0 * num_same / len(ground_truth_tokens)\r\n",
        "    f1 = (2 * precision * recall) / (precision + recall)\r\n",
        "    return f1\r\n",
        "\r\n",
        "\r\n",
        "def exact_match_score(prediction, ground_truth):\r\n",
        "    return normalize_answer(prediction) == normalize_answer(ground_truth)\r\n",
        "\r\n",
        "\r\n",
        "def metric_max_over_ground_truths(metric_fn, prediction, ground_truths):\r\n",
        "    scores_for_ground_truths = [0]\r\n",
        "    for ground_truth in ground_truths:\r\n",
        "        score = metric_fn(prediction, ground_truth)\r\n",
        "        scores_for_ground_truths.append(score)\r\n",
        "    return max(scores_for_ground_truths)\r\n",
        "\r\n",
        "\r\n",
        "def evaluate(dataset, predictions):\r\n",
        "    f1 = exact_match = total = 0\r\n",
        "    correct_ids = []\r\n",
        "    for prediction, passage in zip(predictions, dataset):\r\n",
        "        prediction = prediction[\"label\"]\r\n",
        "        for qa in passage['qas']:\r\n",
        "            total += 1\r\n",
        "            ground_truths = list(map(lambda x: x['text'], qa.get(\"answers\", \"\")))\r\n",
        "\r\n",
        "            _exact_match = metric_max_over_ground_truths(exact_match_score, prediction, ground_truths)\r\n",
        "            if int(_exact_match) == 1:\r\n",
        "                correct_ids.append(qa['idx'])\r\n",
        "            exact_match += _exact_match\r\n",
        "\r\n",
        "            f1 += metric_max_over_ground_truths(f1_score, prediction, ground_truths)\r\n",
        "\r\n",
        "    exact_match = exact_match / total\r\n",
        "    f1 = f1 / total\r\n",
        "    return exact_match, f1\r\n",
        "\r\n",
        "\r\n",
        "def eval_RuCoS(train_path, val_path, test_path, vect):\r\n",
        "    test_score, test_pred = eval_part(test_path, vect)\r\n",
        "    return None, {\r\n",
        "        \"train\": eval_part(train_path, vect)[0],\r\n",
        "        \"val\": eval_part(val_path, vect)[0],\r\n",
        "        \"test\": test_score,\r\n",
        "        \"test_pred\": test_pred\r\n",
        "    }\r\n",
        "\r\n",
        "\r\n",
        "def eval_part(path, vect):\r\n",
        "    with jsonlines.open(path) as reader:\r\n",
        "        lines = list(reader)\r\n",
        "    preds = []\r\n",
        "    for row in lines:\r\n",
        "        pred = get_row_pred(row, vect)\r\n",
        "        preds.append({\r\n",
        "            \"idx\": row[\"idx\"],\r\n",
        "            \"label\": pred\r\n",
        "        })\r\n",
        "    return evaluate(lines, preds), preds\r\n",
        "\r\n",
        "\r\n",
        "def get_row_pred(row, vect):\r\n",
        "    res = []\r\n",
        "    words = [\r\n",
        "        row[\"passage\"][\"text\"][x[\"start\"]: x[\"end\"]]\r\n",
        "        for x in row[\"passage\"][\"entities\"]]\r\n",
        "    text  = row['passage']['text'].split()\r\n",
        "    for line in row[\"qas\"]:\r\n",
        "        line_candidates = []\r\n",
        "        _words = []\r\n",
        "        for word in words:\r\n",
        "            if word[:-2]  not in line['query'] or text.count(words[:-2]) >= 2:\r\n",
        "                _words.append(word)\r\n",
        "        if len(_words) == 0:\r\n",
        "            for word in words:\r\n",
        "                line_candidates.append(line[\"query\"].replace(\"@placeholder\", word))\r\n",
        "            pred_idx = np.random.choice(np.arange(1, len(line_candidates)),\r\n",
        "                                size=1)[0]\r\n",
        "            pred = np.array(words)[pred_idx]\r\n",
        "        elif len(_words) == 1:\r\n",
        "            pred = _words[0]\r\n",
        "        else:\r\n",
        "            for word in _words:\r\n",
        "                line_candidates.append(line[\"query\"].replace(\"@placeholder\", word))\r\n",
        "            pred_idx = np.random.choice(np.arange(1, len(line_candidates)),\r\n",
        "                                        size=1)[0]\r\n",
        "            pred = np.array(_words)[pred_idx]\r\n",
        "        res.append(pred)\r\n",
        "    return \" \".join(res)"
      ],
      "execution_count": 101,
      "outputs": []
    },
    {
      "cell_type": "code",
      "metadata": {
        "colab": {
          "base_uri": "https://localhost:8080/"
        },
        "id": "mvkK8_DDiH5G",
        "outputId": "ed6f1b66-739e-43ce-c117-3b05a53f4bde"
      },
      "source": [
        "em_metrics = []\r\n",
        "f1_metrics = []\r\n",
        "\r\n",
        "for i in range(3):\r\n",
        "    _, RuCoS_scores = eval_RuCoS(train_path, val_path, test_path, 'No vect')\r\n",
        "    em = RuCoS_scores['val'][0]\r\n",
        "    f1 = RuCoS_scores['val'][1]\r\n",
        "    em_metrics.append(em)\r\n",
        "    f1_metrics.append(f1)\r\n",
        "\r\n",
        "print(f\"Random Choice\")\r\n",
        "print(f\"Average EM score over 3 experiments: {np.array(em_metrics).mean()}\")\r\n",
        "print(f\"Average F1 score over 3 experiments: {np.array(f1_metrics).mean()}\")"
      ],
      "execution_count": 102,
      "outputs": [
        {
          "output_type": "stream",
          "text": [
            "Random Choice\n",
            "Average EM score over 3 experiments: 0.24794333729268403\n",
            "Average F1 score over 3 experiments: 0.25025233004644387\n"
          ],
          "name": "stdout"
        }
      ]
    },
    {
      "cell_type": "code",
      "metadata": {
        "id": "NqQ7lEdfiKau"
      },
      "source": [
        ""
      ],
      "execution_count": null,
      "outputs": []
    }
  ]
}