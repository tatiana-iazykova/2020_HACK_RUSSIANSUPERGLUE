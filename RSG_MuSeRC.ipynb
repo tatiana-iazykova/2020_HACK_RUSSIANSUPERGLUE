{
  "nbformat": 4,
  "nbformat_minor": 0,
  "metadata": {
    "colab": {
      "name": "RSG_MuSeRC",
      "provenance": [],
      "collapsed_sections": [],
      "authorship_tag": "ABX9TyMhjweViHovwVbJHyTrFZYB",
      "include_colab_link": true
    },
    "kernelspec": {
      "name": "python3",
      "display_name": "Python 3"
    }
  },
  "cells": [
    {
      "cell_type": "markdown",
      "metadata": {
        "id": "view-in-github",
        "colab_type": "text"
      },
      "source": [
        "<a href=\"https://colab.research.google.com/github/tatiana-iazykova/2020_HACK_RUSSIANSUPERGLUE/blob/main/RSG_MuSeRC.ipynb\" target=\"_parent\"><img src=\"https://colab.research.google.com/assets/colab-badge.svg\" alt=\"Open In Colab\"/></a>"
      ]
    },
    {
      "cell_type": "markdown",
      "metadata": {
        "id": "d4JcE9Kd_sSa"
      },
      "source": [
        "# Load Data"
      ]
    },
    {
      "cell_type": "code",
      "metadata": {
        "id": "RsL57-5kTLgJ"
      },
      "source": [
        "%%capture\r\n",
        "%%bash\r\n",
        "# change url if you want to work with a different RSG dataset\r\n",
        "wget -q --show-progress \"https://russiansuperglue.com/tasks/download/MuSeRC\" -O temp.zip\r\n",
        "unzip temp.zip -d data\r\n",
        "\r\n",
        "# remove unnecessary directories and files\r\n",
        "rm temp.zip\r\n",
        "rm -r data/__MACOSX\r\n",
        "rm -r sample_data/"
      ],
      "execution_count": 1,
      "outputs": []
    },
    {
      "cell_type": "code",
      "metadata": {
        "id": "1JGekp4Jo0Vf"
      },
      "source": [
        "# Load necessary code files and models from https://github.com/RussianNLP/RussianSuperGLUE \r\n",
        "# to recreate TfIdf baseline\r\n",
        "\r\n",
        "%%capture\r\n",
        "%%bash\r\n",
        "# load tfidf pickle created by RSG team\r\n",
        "wget -q --show-progress \"https://russiansuperglue.com/tasks/tf_idf\" -O temp.zip\r\n",
        "unzip temp.zip -d data\r\n",
        "rm temp.zip\r\n",
        "\r\n",
        "# Make sure you donwload with the raw file link\r\n",
        "# Keep the link relevant to your dataset\r\n",
        "wget -q --show-progress \"https://github.com/RussianNLP/RussianSuperGLUE/raw/master/tfidf_baseline/MuSeRC.py\" -O MuSeRC.py\r\n",
        "\r\n",
        "# Load modules to solve this dataset tasks\r\n",
        "wget -q --show-progress \"https://github.com/tatiana-iazykova/2020_HACK_RUSSIANSUPERGLUE/raw/main/base.py\" -O base.py\r\n",
        "wget -q --show-progress \"https://github.com/tatiana-iazykova/2020_HACK_RUSSIANSUPERGLUE/raw/main/utils.py\" -O utils.py\r\n",
        "wget -q --show-progress \"https://github.com/tatiana-iazykova/2020_HACK_RUSSIANSUPERGLUE/raw/main/Solvers/MuSeRCSolver.py\" -O MuSeRCSolver.py"
      ],
      "execution_count": 2,
      "outputs": []
    },
    {
      "cell_type": "code",
      "metadata": {
        "id": "XAlP91w3_nBf"
      },
      "source": [
        "%%capture\r\n",
        "%%bash\r\n",
        "# add tree package for fancy directory display\r\n",
        "apt-get install tree"
      ],
      "execution_count": 3,
      "outputs": []
    },
    {
      "cell_type": "code",
      "metadata": {
        "colab": {
          "base_uri": "https://localhost:8080/"
        },
        "id": "avzmbfyO_q5G",
        "outputId": "2bcbfe36-8b64-4054-8cba-d422bc548c12"
      },
      "source": [
        "# display the content of the folder\r\n",
        "!tree"
      ],
      "execution_count": 4,
      "outputs": [
        {
          "output_type": "stream",
          "text": [
            ".\n",
            "├── base.py\n",
            "├── data\n",
            "│   ├── MuSeRC\n",
            "│   │   ├── test.jsonl\n",
            "│   │   ├── train.jsonl\n",
            "│   │   └── val.jsonl\n",
            "│   └── tfidf.pkl\n",
            "├── MuSeRC.py\n",
            "├── MuSeRCSolver.py\n",
            "└── utils.py\n",
            "\n",
            "2 directories, 8 files\n"
          ],
          "name": "stdout"
        }
      ]
    },
    {
      "cell_type": "markdown",
      "metadata": {
        "id": "Ip4SkaRSsA7b"
      },
      "source": [
        "# Solve MuSeRC with Heuristics"
      ]
    },
    {
      "cell_type": "code",
      "metadata": {
        "id": "scRZqIs26lks"
      },
      "source": [
        "%%capture\r\n",
        "# to lemmantize, install these two dependancies\r\n",
        "!pip3 install pyMorphy2[fast]\r\n",
        "!pip3 install razdel\r\n",
        "!pip3 install jsonlines"
      ],
      "execution_count": 5,
      "outputs": []
    },
    {
      "cell_type": "code",
      "metadata": {
        "id": "JRTQG45wrk71"
      },
      "source": [
        "import numpy as np\r\n",
        "from MuSeRCSolver import MuSeRCSolver\r\n",
        "from MuSeRC import MuSeRC_metrics\r\n",
        "\r\n",
        "solver = MuSeRCSolver(path='data/MuSeRC/train.jsonl') # pass a dataset to get stats\r\n",
        "solver.preprocess_valid('data/MuSeRC/val.jsonl') # pass a dataset to solve\r\n",
        "solver.get_stats_MuSeRC()\r\n",
        "\r\n",
        "SEEDS = [42, 23, 1234567]"
      ],
      "execution_count": 11,
      "outputs": []
    },
    {
      "cell_type": "markdown",
      "metadata": {
        "id": "rRii7DuCDMs0"
      },
      "source": [
        "## All Heuristics at once"
      ]
    },
    {
      "cell_type": "code",
      "metadata": {
        "id": "HO2MLLpw6b8o",
        "colab": {
          "base_uri": "https://localhost:8080/"
        },
        "outputId": "411c2354-a5a2-4049-b524-5fdd5444be8d"
      },
      "source": [
        "print('All heuristics + Majority Class')\r\n",
        "y_true, y_pred = solver.heuristics()\r\n",
        "em, f1a = MuSeRC_metrics(y_pred, y_true)\r\n",
        "\r\n",
        "print(f\"EM score is: {em}\")\r\n",
        "print(f\"F1-a score is: {f1a}\")"
      ],
      "execution_count": 33,
      "outputs": [
        {
          "output_type": "stream",
          "text": [
            "All heuristics + Majority Class\n",
            "Heuristics appears for 1722 samples, 1180 of them correct\n",
            "EM score is: 0.20226843100189035\n",
            "F1-a score is: 0.6642032332563511\n"
          ],
          "name": "stdout"
        }
      ]
    },
    {
      "cell_type": "code",
      "metadata": {
        "colab": {
          "base_uri": "https://localhost:8080/"
        },
        "id": "ZPkjHCLRQ1sY",
        "outputId": "8fe21fe7-3138-44fb-cb13-2137a33c7387"
      },
      "source": [
        "em_metrics = []\r\n",
        "f1a_metrics = []\r\n",
        "for seed in SEEDS:\r\n",
        "    y_true, y_pred = solver.heuristics('RANDOM')\r\n",
        "    em, f1a = MuSeRC_metrics(y_pred, y_true)\r\n",
        "    em_metrics.append(em)\r\n",
        "    f1a_metrics.append(f1a)\r\n",
        "\r\n",
        "print(f'All heuristics + Random choice')\r\n",
        "print(f\"Average EM score over 3 experiments: {np.array(em_metrics).mean()}\")\r\n",
        "print(f\"Average F1-a score over 3 experiments: {np.array(f1a_metrics).mean()}\")"
      ],
      "execution_count": 13,
      "outputs": [
        {
          "output_type": "stream",
          "text": [
            "Heuristics appears for 1722 samples, 1180 of them correct\n",
            "Heuristics appears for 1722 samples, 1180 of them correct\n",
            "Heuristics appears for 1722 samples, 1180 of them correct\n",
            "All heuristics + Random choice\n",
            "Average EM score over 3 experiments: 0.17076244486452427\n",
            "Average F1-a score over 3 experiments: 0.6685073442836286\n"
          ],
          "name": "stdout"
        }
      ]
    },
    {
      "cell_type": "code",
      "metadata": {
        "colab": {
          "base_uri": "https://localhost:8080/"
        },
        "id": "M0IxlldfSPvw",
        "outputId": "b5455918-4fd6-4477-a37e-d62af4c7626e"
      },
      "source": [
        "em_metrics = []\r\n",
        "f1a_metrics = []\r\n",
        "for seed in SEEDS:\r\n",
        "    y_true, y_pred = solver.heuristics('RB')\r\n",
        "    em, f1a = MuSeRC_metrics(y_pred, y_true)\r\n",
        "    em_metrics.append(em)\r\n",
        "    f1a_metrics.append(f1a)\r\n",
        "\r\n",
        "print(f'All heuristics + Random balanced choice')\r\n",
        "print(f\"Average EM score over 3 experiments: {np.array(em_metrics).mean()}\")\r\n",
        "print(f\"Average F1-a score over 3 experiments: {np.array(f1a_metrics).mean()}\")"
      ],
      "execution_count": 14,
      "outputs": [
        {
          "output_type": "stream",
          "text": [
            "Heuristics appears for 1722 samples, 1180 of them correct\n",
            "Heuristics appears for 1722 samples, 1180 of them correct\n",
            "Heuristics appears for 1722 samples, 1180 of them correct\n",
            "All heuristics + Random balanced choice\n",
            "Average EM score over 3 experiments: 0.18336483931947067\n",
            "Average F1-a score over 3 experiments: 0.6695506140200531\n"
          ],
          "name": "stdout"
        }
      ]
    },
    {
      "cell_type": "markdown",
      "metadata": {
        "id": "2wJCyUAYDSyr"
      },
      "source": [
        "## Answer is shorter than 3 words leads to False"
      ]
    },
    {
      "cell_type": "code",
      "metadata": {
        "id": "lpK1lWMBDXdM",
        "colab": {
          "base_uri": "https://localhost:8080/"
        },
        "outputId": "034eac08-7f9a-450e-a326-3731d54c2d93"
      },
      "source": [
        "print('Short answer + Majority Class')\r\n",
        "y_true, y_pred = solver.heuristics(heuristic={'0': 'short answer'})\r\n",
        "print(MuSeRC_metrics(y_pred, y_true))"
      ],
      "execution_count": 15,
      "outputs": [
        {
          "output_type": "stream",
          "text": [
            "Short answer + Majority Class\n",
            "Heuristics appears for 1037 samples, 673 of them correct\n",
            "(0.0, 0.0)\n"
          ],
          "name": "stdout"
        }
      ]
    },
    {
      "cell_type": "code",
      "metadata": {
        "colab": {
          "base_uri": "https://localhost:8080/"
        },
        "id": "447UEL54TKHh",
        "outputId": "c7944619-7705-44e0-8e12-3d7021be7a18"
      },
      "source": [
        "em_metrics = []\r\n",
        "f1a_metrics = []\r\n",
        "for seed in SEEDS:\r\n",
        "    y_true, y_pred = solver.heuristics('RANDOM',\r\n",
        "                                       heuristic={'0': 'short answer'})\r\n",
        "    em, f1a = MuSeRC_metrics(y_pred, y_true)\r\n",
        "    em_metrics.append(em)\r\n",
        "    f1a_metrics.append(f1a)\r\n",
        "\r\n",
        "print(f'Short + Random choice')\r\n",
        "print(f\"Average EM score over 3 experiments: {np.array(em_metrics).mean()}\")\r\n",
        "print(f\"Average F1-a score over 3 experiments: {np.array(f1a_metrics).mean()}\")"
      ],
      "execution_count": 16,
      "outputs": [
        {
          "output_type": "stream",
          "text": [
            "Heuristics appears for 1037 samples, 673 of them correct\n",
            "Heuristics appears for 1037 samples, 673 of them correct\n",
            "Heuristics appears for 1037 samples, 673 of them correct\n",
            "Short + Random choice\n",
            "Average EM score over 3 experiments: 0.06490233144297415\n",
            "Average F1-a score over 3 experiments: 0.40339502805751964\n"
          ],
          "name": "stdout"
        }
      ]
    },
    {
      "cell_type": "code",
      "metadata": {
        "colab": {
          "base_uri": "https://localhost:8080/"
        },
        "id": "J7HytPJyTRg3",
        "outputId": "80d5ddb2-d9e8-4f38-8f82-8e1ed9b8efa8"
      },
      "source": [
        "em_metrics = []\r\n",
        "f1a_metrics = []\r\n",
        "for seed in SEEDS:\r\n",
        "    y_true, y_pred = solver.heuristics('RB',\r\n",
        "                                       heuristic={'0': 'short answer'})\r\n",
        "    em, f1a = MuSeRC_metrics(y_pred, y_true)\r\n",
        "    em_metrics.append(em)\r\n",
        "    f1a_metrics.append(f1a)\r\n",
        "\r\n",
        "print(f'Short + Random balanced choice')\r\n",
        "print(f\"Average EM score over 3 experiments: {np.array(em_metrics).mean()}\")\r\n",
        "print(f\"Average F1-a score over 3 experiments: {np.array(f1a_metrics).mean()}\")"
      ],
      "execution_count": 17,
      "outputs": [
        {
          "output_type": "stream",
          "text": [
            "Heuristics appears for 1037 samples, 673 of them correct\n",
            "Heuristics appears for 1037 samples, 673 of them correct\n",
            "Heuristics appears for 1037 samples, 673 of them correct\n",
            "Short + Random balanced choice\n",
            "Average EM score over 3 experiments: 0.05356017643352237\n",
            "Average F1-a score over 3 experiments: 0.3575261727424522\n"
          ],
          "name": "stdout"
        }
      ]
    },
    {
      "cell_type": "markdown",
      "metadata": {
        "id": "izlJKpW1Dt6s"
      },
      "source": [
        "## Long Answer leads to True"
      ]
    },
    {
      "cell_type": "code",
      "metadata": {
        "id": "TzBrhviZD-mI",
        "colab": {
          "base_uri": "https://localhost:8080/"
        },
        "outputId": "e2ed6fa5-6d08-4b2e-eab4-25e4b74ba34c"
      },
      "source": [
        "print('Long answer + Majority class')\r\n",
        "y_true, y_pred = solver.heuristics(heuristic={'1': 'long answer'})\r\n",
        "print(MuSeRC_metrics(y_pred, y_true))"
      ],
      "execution_count": 18,
      "outputs": [
        {
          "output_type": "stream",
          "text": [
            "Long answer + Majority class\n",
            "Heuristics appears for 231 samples, 167 of them correct\n",
            "(0.07561436672967864, 0.272875816993464)\n"
          ],
          "name": "stdout"
        }
      ]
    },
    {
      "cell_type": "code",
      "metadata": {
        "colab": {
          "base_uri": "https://localhost:8080/"
        },
        "id": "k2-irjwiTZ2u",
        "outputId": "b326fcc3-8fcf-4c75-ce30-32ce7cff6fa7"
      },
      "source": [
        "em_metrics = []\r\n",
        "f1a_metrics = []\r\n",
        "for seed in SEEDS:\r\n",
        "    y_true, y_pred = solver.heuristics('RANDOM',\r\n",
        "                                       heuristic={'1': 'long answer'})\r\n",
        "    em, f1a = MuSeRC_metrics(y_pred, y_true)\r\n",
        "    em_metrics.append(em)\r\n",
        "    f1a_metrics.append(f1a)\r\n",
        "\r\n",
        "print(f'Long answer + Random choice')\r\n",
        "print(f\"Average EM score over 3 experiments: {np.array(em_metrics).mean()}\")\r\n",
        "print(f\"Average F1-a score over 3 experiments: {np.array(f1a_metrics).mean()}\")"
      ],
      "execution_count": 19,
      "outputs": [
        {
          "output_type": "stream",
          "text": [
            "Heuristics appears for 231 samples, 167 of them correct\n",
            "Heuristics appears for 231 samples, 167 of them correct\n",
            "Heuristics appears for 231 samples, 167 of them correct\n",
            "Long answer + Random choice\n",
            "Average EM score over 3 experiments: 0.08506616257088846\n",
            "Average F1-a score over 3 experiments: 0.5301813078883945\n"
          ],
          "name": "stdout"
        }
      ]
    },
    {
      "cell_type": "code",
      "metadata": {
        "colab": {
          "base_uri": "https://localhost:8080/"
        },
        "id": "yaDSjlWDTk4P",
        "outputId": "91b37e27-ea43-4a2f-ca02-3b3ee32c4b2d"
      },
      "source": [
        "em_metrics = []\r\n",
        "f1a_metrics = []\r\n",
        "for seed in SEEDS:\r\n",
        "    y_true, y_pred = solver.heuristics('RB',\r\n",
        "                                       heuristic={'1': 'long answer'})\r\n",
        "    em, f1a = MuSeRC_metrics(y_pred, y_true)\r\n",
        "    em_metrics.append(em)\r\n",
        "    f1a_metrics.append(f1a)\r\n",
        "\r\n",
        "print(f'Short + Random balanced choice')\r\n",
        "print(f\"Average EM score over 3 experiments: {np.array(em_metrics).mean()}\")\r\n",
        "print(f\"Average F1-a score over 3 experiments: {np.array(f1a_metrics).mean()}\")"
      ],
      "execution_count": 20,
      "outputs": [
        {
          "output_type": "stream",
          "text": [
            "Heuristics appears for 231 samples, 167 of them correct\n",
            "Heuristics appears for 231 samples, 167 of them correct\n",
            "Heuristics appears for 231 samples, 167 of them correct\n",
            "Short + Random balanced choice\n",
            "Average EM score over 3 experiments: 0.07750472589792061\n",
            "Average F1-a score over 3 experiments: 0.5086259901599686\n"
          ],
          "name": "stdout"
        }
      ]
    },
    {
      "cell_type": "markdown",
      "metadata": {
        "id": "QOTdY6eVPxAu"
      },
      "source": [
        "## Lemmas do not overlap in answer and passage -> False"
      ]
    },
    {
      "cell_type": "code",
      "metadata": {
        "colab": {
          "base_uri": "https://localhost:8080/"
        },
        "id": "2D4ahV5nPkO_",
        "outputId": "48de0dab-aa4b-4a93-c24c-f9641fdefb6c"
      },
      "source": [
        "print('No overlap + Majority Class')\r\n",
        "y_true, y_pred = solver.heuristics(heuristic={'0': 'no overlap'})\r\n",
        "print(MuSeRC_metrics(y_pred, y_true))"
      ],
      "execution_count": 21,
      "outputs": [
        {
          "output_type": "stream",
          "text": [
            "No overlap + Majority Class\n",
            "Heuristics appears for 221 samples, 197 of them correct\n",
            "(0.0, 0.0)\n"
          ],
          "name": "stdout"
        }
      ]
    },
    {
      "cell_type": "code",
      "metadata": {
        "colab": {
          "base_uri": "https://localhost:8080/"
        },
        "id": "KWTGJprYTwzE",
        "outputId": "3768e79b-d54d-4722-ea4e-2ad359bdc20e"
      },
      "source": [
        "em_metrics = []\r\n",
        "f1a_metrics = []\r\n",
        "for seed in SEEDS:\r\n",
        "    y_true, y_pred = solver.heuristics('RANDOM',\r\n",
        "                                       heuristic={'0': 'no overlap'})\r\n",
        "    em, f1a = MuSeRC_metrics(y_pred, y_true)\r\n",
        "    em_metrics.append(em)\r\n",
        "    f1a_metrics.append(f1a)\r\n",
        "\r\n",
        "print(f'No overlap + Random')\r\n",
        "print(f\"Average EM score over 3 experiments: {np.array(em_metrics).mean()}\")\r\n",
        "print(f\"Average F1-a score over 3 experiments: {np.array(f1a_metrics).mean()}\")"
      ],
      "execution_count": 22,
      "outputs": [
        {
          "output_type": "stream",
          "text": [
            "Heuristics appears for 221 samples, 197 of them correct\n",
            "Heuristics appears for 221 samples, 197 of them correct\n",
            "Heuristics appears for 221 samples, 197 of them correct\n",
            "No overlap + Random\n",
            "Average EM score over 3 experiments: 0.08506616257088846\n",
            "Average F1-a score over 3 experiments: 0.4788727533371928\n"
          ],
          "name": "stdout"
        }
      ]
    },
    {
      "cell_type": "code",
      "metadata": {
        "colab": {
          "base_uri": "https://localhost:8080/"
        },
        "id": "bjmtf119UMqq",
        "outputId": "fb37be94-70a5-4b11-c00b-3dcfa5912e60"
      },
      "source": [
        "em_metrics = []\r\n",
        "f1a_metrics = []\r\n",
        "for seed in SEEDS:\r\n",
        "    y_true, y_pred = solver.heuristics('RB',\r\n",
        "                                       heuristic={'0': 'no overlap'})\r\n",
        "    em, f1a = MuSeRC_metrics(y_pred, y_true)\r\n",
        "    em_metrics.append(em)\r\n",
        "    f1a_metrics.append(f1a)\r\n",
        "\r\n",
        "print(f'No overlap + Random Balanced')\r\n",
        "print(f\"Average EM score over 3 experiments: {np.array(em_metrics).mean()}\")\r\n",
        "print(f\"Average F1-a score over 3 experiments: {np.array(f1a_metrics).mean()}\")"
      ],
      "execution_count": 23,
      "outputs": [
        {
          "output_type": "stream",
          "text": [
            "Heuristics appears for 221 samples, 197 of them correct\n",
            "Heuristics appears for 221 samples, 197 of them correct\n",
            "Heuristics appears for 221 samples, 197 of them correct\n",
            "No overlap + Random Balanced\n",
            "Average EM score over 3 experiments: 0.07939508506616257\n",
            "Average F1-a score over 3 experiments: 0.4444426885284028\n"
          ],
          "name": "stdout"
        }
      ]
    },
    {
      "cell_type": "markdown",
      "metadata": {
        "id": "M0Zz6oRIot70"
      },
      "source": [
        "## N of overlaping lemmas in an answer and a passage is > a mean size of the answer -> True"
      ]
    },
    {
      "cell_type": "code",
      "metadata": {
        "colab": {
          "base_uri": "https://localhost:8080/"
        },
        "id": "IIjYMnizPvBm",
        "outputId": "4f7cd345-1813-4919-fb96-33baaaa96a34"
      },
      "source": [
        "print('much overlap + Majority class')\r\n",
        "y_true, y_pred = solver.heuristics(heuristic={'1': 'much overlap'})\r\n",
        "print(MuSeRC_metrics(y_pred, y_true))"
      ],
      "execution_count": 24,
      "outputs": [
        {
          "output_type": "stream",
          "text": [
            "much overlap + Majority class\n",
            "Heuristics appears for 422 samples, 312 of them correct\n",
            "(0.11720226843100189, 0.44098939929328623)\n"
          ],
          "name": "stdout"
        }
      ]
    },
    {
      "cell_type": "code",
      "metadata": {
        "colab": {
          "base_uri": "https://localhost:8080/"
        },
        "id": "dErZA41iUboz",
        "outputId": "82bbaff1-5f53-4dfd-ff3e-328114ef3690"
      },
      "source": [
        "em_metrics = []\r\n",
        "f1a_metrics = []\r\n",
        "for seed in SEEDS:\r\n",
        "    y_true, y_pred = solver.heuristics('RANDOM',\r\n",
        "                                       heuristic={'1': 'much overlap'})\r\n",
        "    em, f1a = MuSeRC_metrics(y_pred, y_true)\r\n",
        "    em_metrics.append(em)\r\n",
        "    f1a_metrics.append(f1a)\r\n",
        "\r\n",
        "print(f'much overlap + Random choise')\r\n",
        "print(f\"Average EM score over 3 experiments: {np.array(em_metrics).mean()}\")\r\n",
        "print(f\"Average F1-a score over 3 experiments: {np.array(f1a_metrics).mean()}\")"
      ],
      "execution_count": 25,
      "outputs": [
        {
          "output_type": "stream",
          "text": [
            "Heuristics appears for 422 samples, 312 of them correct\n",
            "Heuristics appears for 422 samples, 312 of them correct\n",
            "Heuristics appears for 422 samples, 312 of them correct\n",
            "much overlap + Random choise\n",
            "Average EM score over 3 experiments: 0.09073724007561436\n",
            "Average F1-a score over 3 experiments: 0.562247041938763\n"
          ],
          "name": "stdout"
        }
      ]
    },
    {
      "cell_type": "code",
      "metadata": {
        "colab": {
          "base_uri": "https://localhost:8080/"
        },
        "id": "vxAkUQx8UZxn",
        "outputId": "faaeb331-55f6-47d2-8fd8-042feabbfa68"
      },
      "source": [
        "em_metrics = []\r\n",
        "f1a_metrics = []\r\n",
        "for seed in SEEDS:\r\n",
        "    y_true, y_pred = solver.heuristics('RB',\r\n",
        "                                       heuristic={'1': 'much overlap'})\r\n",
        "    em, f1a = MuSeRC_metrics(y_pred, y_true)\r\n",
        "    em_metrics.append(em)\r\n",
        "    f1a_metrics.append(f1a)\r\n",
        "\r\n",
        "print(f'much overlap + Random Balanced choise')\r\n",
        "print(f\"Average EM score over 3 experiments: {np.array(em_metrics).mean()}\")\r\n",
        "print(f\"Average F1-a score over 3 experiments: {np.array(f1a_metrics).mean()}\")"
      ],
      "execution_count": 26,
      "outputs": [
        {
          "output_type": "stream",
          "text": [
            "Heuristics appears for 422 samples, 312 of them correct\n",
            "Heuristics appears for 422 samples, 312 of them correct\n",
            "Heuristics appears for 422 samples, 312 of them correct\n",
            "much overlap + Random Balanced choise\n",
            "Average EM score over 3 experiments: 0.0945179584120983\n",
            "Average F1-a score over 3 experiments: 0.5506375243495781\n"
          ],
          "name": "stdout"
        }
      ]
    },
    {
      "cell_type": "markdown",
      "metadata": {
        "id": "l6B28iDWpKi3"
      },
      "source": [
        "## All lemmas in an answer overlap a passage -> True"
      ]
    },
    {
      "cell_type": "code",
      "metadata": {
        "colab": {
          "base_uri": "https://localhost:8080/"
        },
        "id": "VsCUEItERIUv",
        "outputId": "438d0e8b-4f8f-4fda-bc93-b32dbf91ff12"
      },
      "source": [
        "print('total overlap + Majority class')\r\n",
        "y_true, y_pred = solver.heuristics(heuristic={'1': 'total overlap'})\r\n",
        "print(MuSeRC_metrics(y_pred, y_true))"
      ],
      "execution_count": 27,
      "outputs": [
        {
          "output_type": "stream",
          "text": [
            "total overlap + Majority class\n",
            "Heuristics appears for 877 samples, 516 of them correct\n",
            "(0.1285444234404537, 0.5518716577540107)\n"
          ],
          "name": "stdout"
        }
      ]
    },
    {
      "cell_type": "code",
      "metadata": {
        "colab": {
          "base_uri": "https://localhost:8080/"
        },
        "id": "Z-vCH51nU-OV",
        "outputId": "63d97549-f39e-4c77-f3e4-b0c4bc578d97"
      },
      "source": [
        "em_metrics = []\r\n",
        "f1a_metrics = []\r\n",
        "for seed in SEEDS:\r\n",
        "    y_true, y_pred = solver.heuristics('RANDOM',\r\n",
        "                                       heuristic={'1': 'total overlap'})\r\n",
        "    em, f1a = MuSeRC_metrics(y_pred, y_true)\r\n",
        "    em_metrics.append(em)\r\n",
        "    f1a_metrics.append(f1a)\r\n",
        "\r\n",
        "print(f'total overlap + Random choise')\r\n",
        "print(f\"Average EM score over 3 experiments: {np.array(em_metrics).mean()}\")\r\n",
        "print(f\"Average F1-a score over 3 experiments: {np.array(f1a_metrics).mean()}\")"
      ],
      "execution_count": 28,
      "outputs": [
        {
          "output_type": "stream",
          "text": [
            "Heuristics appears for 877 samples, 516 of them correct\n",
            "Heuristics appears for 877 samples, 516 of them correct\n",
            "Heuristics appears for 877 samples, 516 of them correct\n",
            "total overlap + Random choise\n",
            "Average EM score over 3 experiments: 0.06931316950220542\n",
            "Average F1-a score over 3 experiments: 0.593778805325113\n"
          ],
          "name": "stdout"
        }
      ]
    },
    {
      "cell_type": "code",
      "metadata": {
        "colab": {
          "base_uri": "https://localhost:8080/"
        },
        "id": "Kclqc9lOVJel",
        "outputId": "4b23a1c6-ca03-410f-c391-3e54688d20e3"
      },
      "source": [
        "em_metrics = []\r\n",
        "f1a_metrics = []\r\n",
        "for seed in SEEDS:\r\n",
        "    y_true, y_pred = solver.heuristics('RB',\r\n",
        "                                       heuristic={'1': 'total overlap'})\r\n",
        "    em, f1a = MuSeRC_metrics(y_pred, y_true)\r\n",
        "    em_metrics.append(em)\r\n",
        "    f1a_metrics.append(f1a)\r\n",
        "\r\n",
        "print(f'total overlap + Random balanced choise')\r\n",
        "print(f\"Average EM score over 3 experiments: {np.array(em_metrics).mean()}\")\r\n",
        "print(f\"Average F1-a score over 3 experiments: {np.array(f1a_metrics).mean()}\")"
      ],
      "execution_count": 29,
      "outputs": [
        {
          "output_type": "stream",
          "text": [
            "Heuristics appears for 877 samples, 516 of them correct\n",
            "Heuristics appears for 877 samples, 516 of them correct\n",
            "Heuristics appears for 877 samples, 516 of them correct\n",
            "total overlap + Random balanced choise\n",
            "Average EM score over 3 experiments: 0.07057340894770005\n",
            "Average F1-a score over 3 experiments: 0.5867010015441282\n"
          ],
          "name": "stdout"
        }
      ]
    },
    {
      "cell_type": "markdown",
      "metadata": {
        "id": "Dhl5xSRkpRYQ"
      },
      "source": [
        "## N of overlaping lemmas in an answer and a passage is 1 -> True"
      ]
    },
    {
      "cell_type": "code",
      "metadata": {
        "colab": {
          "base_uri": "https://localhost:8080/"
        },
        "id": "qwB5gE9BX455",
        "outputId": "6bda1b61-cea3-4627-a27f-ca0237f2f1ac"
      },
      "source": [
        "print('little overlap + Majority class')\r\n",
        "y_true, y_pred = solver.heuristics(heuristic={'0': 'little overlap'})\r\n",
        "print(MuSeRC_metrics(y_pred, y_true))"
      ],
      "execution_count": 30,
      "outputs": [
        {
          "output_type": "stream",
          "text": [
            "little overlap + Majority class\n",
            "Heuristics appears for 415 samples, 288 of them correct\n",
            "(0.0, 0.0)\n"
          ],
          "name": "stdout"
        }
      ]
    },
    {
      "cell_type": "code",
      "metadata": {
        "colab": {
          "base_uri": "https://localhost:8080/"
        },
        "id": "V_xPHJh0VUVK",
        "outputId": "2537541c-c278-4e54-a104-6304c3963ac1"
      },
      "source": [
        "em_metrics = []\r\n",
        "f1a_metrics = []\r\n",
        "for seed in SEEDS:\r\n",
        "    y_true, y_pred = solver.heuristics('RANDOM',\r\n",
        "                                       heuristic={'0': 'little overlap'})\r\n",
        "    em, f1a = MuSeRC_metrics(y_pred, y_true)\r\n",
        "    em_metrics.append(em)\r\n",
        "    f1a_metrics.append(f1a)\r\n",
        "\r\n",
        "print(f'little overlap + Random choise')\r\n",
        "print(f\"Average EM score over 3 experiments: {np.array(em_metrics).mean()}\")\r\n",
        "print(f\"Average F1-a score over 3 experiments: {np.array(f1a_metrics).mean()}\")"
      ],
      "execution_count": 31,
      "outputs": [
        {
          "output_type": "stream",
          "text": [
            "Heuristics appears for 415 samples, 288 of them correct\n",
            "Heuristics appears for 415 samples, 288 of them correct\n",
            "Heuristics appears for 415 samples, 288 of them correct\n",
            "little overlap + Random choise\n",
            "Average EM score over 3 experiments: 0.08380592312539382\n",
            "Average F1-a score over 3 experiments: 0.45571264822662033\n"
          ],
          "name": "stdout"
        }
      ]
    },
    {
      "cell_type": "code",
      "metadata": {
        "colab": {
          "base_uri": "https://localhost:8080/"
        },
        "id": "qDU0epqSVN4v",
        "outputId": "86d45ad1-74e8-44b5-cf17-c9592a073a2f"
      },
      "source": [
        "em_metrics = []\r\n",
        "f1a_metrics = []\r\n",
        "for seed in SEEDS:\r\n",
        "    y_true, y_pred = solver.heuristics('RB',\r\n",
        "                                       heuristic={'0': 'little overlap'})\r\n",
        "    em, f1a = MuSeRC_metrics(y_pred, y_true)\r\n",
        "    em_metrics.append(em)\r\n",
        "    f1a_metrics.append(f1a)\r\n",
        "\r\n",
        "print(f'little overlap + Random balanced choise')\r\n",
        "print(f\"Average EM score over 3 experiments: {np.array(em_metrics).mean()}\")\r\n",
        "print(f\"Average F1-a score over 3 experiments: {np.array(f1a_metrics).mean()}\")"
      ],
      "execution_count": 32,
      "outputs": [
        {
          "output_type": "stream",
          "text": [
            "Heuristics appears for 415 samples, 288 of them correct\n",
            "Heuristics appears for 415 samples, 288 of them correct\n",
            "Heuristics appears for 415 samples, 288 of them correct\n",
            "little overlap + Random balanced choise\n",
            "Average EM score over 3 experiments: 0.0856962822936358\n",
            "Average F1-a score over 3 experiments: 0.4326336248968797\n"
          ],
          "name": "stdout"
        }
      ]
    },
    {
      "cell_type": "markdown",
      "metadata": {
        "id": "GZnOdRN_p4Uj"
      },
      "source": [
        "# Reproduce TfIdf baseline"
      ]
    },
    {
      "cell_type": "markdown",
      "metadata": {
        "id": "CbiVQejPqR2D"
      },
      "source": [
        "1.   build text of passage and queries\r\n",
        "2.   get tfidf of passage and queries\r\n",
        "1.   calculate cosins between passage and queries\r\n",
        "2.   select best 2 by cosin metric"
      ]
    },
    {
      "cell_type": "code",
      "metadata": {
        "id": "GorSKv_7_xGB",
        "colab": {
          "base_uri": "https://localhost:8080/"
        },
        "outputId": "3a857b29-f00c-4364-efee-c89adee5439b"
      },
      "source": [
        "!pip install jsonlines # necessary to handle this dataset\r\n",
        "import pickle\r\n",
        "import codecs\r\n",
        "import joblib\r\n",
        "import MuSeRC\r\n",
        "\r\n",
        "vect = joblib.load(\"data/tfidf.pkl\")"
      ],
      "execution_count": null,
      "outputs": [
        {
          "output_type": "stream",
          "text": [
            "Requirement already satisfied: jsonlines in /usr/local/lib/python3.6/dist-packages (2.0.0)\n"
          ],
          "name": "stdout"
        },
        {
          "output_type": "stream",
          "text": [
            "/usr/local/lib/python3.6/dist-packages/sklearn/base.py:318: UserWarning: Trying to unpickle estimator TfidfTransformer from version 0.21.3 when using version 0.22.2.post1. This might lead to breaking code or invalid results. Use at your own risk.\n",
            "  UserWarning)\n",
            "/usr/local/lib/python3.6/dist-packages/sklearn/base.py:318: UserWarning: Trying to unpickle estimator TfidfVectorizer from version 0.21.3 when using version 0.22.2.post1. This might lead to breaking code or invalid results. Use at your own risk.\n",
            "  UserWarning)\n"
          ],
          "name": "stderr"
        }
      ]
    },
    {
      "cell_type": "code",
      "metadata": {
        "id": "Fq-I3421qPOw",
        "colab": {
          "base_uri": "https://localhost:8080/"
        },
        "outputId": "0b0028b5-2a86-47ce-c606-c20626185b52"
      },
      "source": [
        "train_path = \"data/MuSeRC/train.jsonl\"\r\n",
        "val_path = \"data/MuSeRC/val.jsonl\"\r\n",
        "test_path = \"data/MuSeRC/test.jsonl\"\r\n",
        "\r\n",
        "_, MuSeRC_scores = MuSeRC.eval_MuSeRC(train_path, val_path, test_path, vect)\r\n",
        "MuSeRC_scores[\"train\"], MuSeRC_scores[\"val\"]"
      ],
      "execution_count": null,
      "outputs": [
        {
          "output_type": "execute_result",
          "data": {
            "text/plain": [
              "((0.2564722126337591, 0.5966356478167503),\n",
              " (0.2495274102079395, 0.5841053144807411))"
            ]
          },
          "metadata": {
            "tags": []
          },
          "execution_count": 21
        }
      ]
    },
    {
      "cell_type": "markdown",
      "metadata": {
        "id": "o2-doB00_24h"
      },
      "source": [
        "# Explore Train and Val Data"
      ]
    },
    {
      "cell_type": "code",
      "metadata": {
        "id": "cBkF84d3pyAt"
      },
      "source": [
        "import pandas as pd\r\n",
        "import json\r\n",
        "pd.set_option('display.max_colwidth', None)\r\n",
        "pd.set_option('display.max_rows', 80)\r\n",
        "\r\n",
        "class JSONL_handler():\r\n",
        "    \"\"\" opens a jsonl file and turns it into a necessary data structure \"\"\"\r\n",
        "    \r\n",
        "    def __init__(self, path):\r\n",
        "        self.path = path # path to jsonl file\r\n",
        "\r\n",
        "    def to_pandas(self):\r\n",
        "        \"\"\" get jsonl file content as a pandas DataFrame\"\"\"\r\n",
        "\r\n",
        "        passages_df = []\r\n",
        "        questions_df = pd.DataFrame(columns=['question', 'text', \r\n",
        "                                             'label', 'passage_id'])\r\n",
        "\r\n",
        "        lines = self.yield_lines()\r\n",
        "\r\n",
        "        for passage_id, line in enumerate(lines):\r\n",
        "            passage, questions = self.split_texts_and_questions(line)\r\n",
        "            passages_df.append(passage)\r\n",
        "            questions = pd.json_normalize(\r\n",
        "                questions, 'answers', 'question'\r\n",
        "                )[['question', 'text', 'label']]\r\n",
        "\r\n",
        "            questions['passage_id'] = passage_id\r\n",
        "            \r\n",
        "            questions_df = pd.concat([questions_df, questions])\r\n",
        "\r\n",
        "        passages_df = pd.DataFrame({'passage': passages_df})\r\n",
        "        questions_df = questions_df.rename(columns={'text': 'answer'})\r\n",
        "\r\n",
        "        return passages_df, questions_df\r\n",
        "\r\n",
        "    \r\n",
        "    def yield_lines(self):\r\n",
        "        \"\"\" yields json lines one by one \"\"\"\r\n",
        "        with open(self.path) as f:\r\n",
        "            for line in f:\r\n",
        "                yield json.loads(line)\r\n",
        "\r\n",
        "\r\n",
        "    def split_texts_and_questions(self, line):\r\n",
        "        \"\"\" transforms a complex json object into a single row dataframe\"\"\"\r\n",
        "        text = line['passage']['text']\r\n",
        "        questions = line['passage']['questions']\r\n",
        "\r\n",
        "        return text, questions"
      ],
      "execution_count": null,
      "outputs": []
    },
    {
      "cell_type": "code",
      "metadata": {
        "id": "YzxJ2uJK_7Rn"
      },
      "source": [
        "handler = JSONL_handler('data/MuSeRC/train.jsonl')\r\n",
        "passages_df, questions_df = handler.to_pandas()\r\n",
        "\r\n",
        "val_handler = JSONL_handler('data/MuSeRC/val.jsonl')\r\n",
        "val_passages_df, val_questions_df = val_handler.to_pandas()"
      ],
      "execution_count": null,
      "outputs": []
    },
    {
      "cell_type": "code",
      "metadata": {
        "colab": {
          "base_uri": "https://localhost:8080/",
          "height": 278
        },
        "id": "h-cquA8dS39A",
        "outputId": "74b6499d-f8a1-4e63-f27a-88c5b8db3ee7"
      },
      "source": [
        "passages_df.iloc[[1]]"
      ],
      "execution_count": null,
      "outputs": [
        {
          "output_type": "execute_result",
          "data": {
            "text/html": [
              "<div>\n",
              "<style scoped>\n",
              "    .dataframe tbody tr th:only-of-type {\n",
              "        vertical-align: middle;\n",
              "    }\n",
              "\n",
              "    .dataframe tbody tr th {\n",
              "        vertical-align: top;\n",
              "    }\n",
              "\n",
              "    .dataframe thead th {\n",
              "        text-align: right;\n",
              "    }\n",
              "</style>\n",
              "<table border=\"1\" class=\"dataframe\">\n",
              "  <thead>\n",
              "    <tr style=\"text-align: right;\">\n",
              "      <th></th>\n",
              "      <th>passage</th>\n",
              "    </tr>\n",
              "  </thead>\n",
              "  <tbody>\n",
              "    <tr>\n",
              "      <th>1</th>\n",
              "      <td>(1)Образы природы сопровождают людей с самой глубокой древности. (2)Сцены охоты древние люди оставили нам в наследство на стенах пещер, на камнях в виде скупых царапин, изображающих лосей, кабанов, туров. (3)Нынешняя техника даёт возможность увидеть зверей и птиц в естественных красках и обстановке. (4)Мы видим эпизоды их жизни, и в душе появляется тёплое чувство. (5)Они где-то есть, эти звери, они ещё бегают, рычат, прячутся или проявляют, как и мы, люди, любопытство… (6)Желая испытать это тёплое чувство, на городских этажах мы держим кошек, собак, попугаев, белок, рыбок в аквариуме. (7)Врачи говорят, что поглаживание кошки или кормление синицы с ладони целительны для человеческой психики. (8)Заяц, встреченный в парке, исправил моё настроение. (9)А сколько случаев, когда человека с жизнью связывает только ниточка общения с собакой, с обыкновенными воробьями или воронами! (10)Бывшая работница нашей редакции время от времени по телефону докладывает мне о жизни ворон во дворе, о том, что они любят есть, как безошибочно узнают её в массе людей. (11)А старушка у нас во дворе каждое утро носит воробьям крошки. (12)И я вижу радость на лице женщины, наблюдающей, как суетливые птички подбирают рассыпанный корм. (13)Иногда мне кажется: не прилетят воробьи к её выходу из подъезда, и старушка умрёт от обрыва последней ниточки, соединяющей её с жизнью. (14)Как-то мы разговорились с ней, и она призналась, что ни разу не видела в жизни, как пролетают и кричат журавли. (15)Я рассказал ей, как журавли весною танцуют, разбившись на пары, и кричат так, что голоса их сливаются в один торжествующий звук любви. (16)Старушка слушала внимательно и, прощаясь, сказала три слова: «Какой вы счастливый…» (17)Яснополянский мудрец говорил то же самое в дневниках: «Счастье – это быть с природой, видеть её, говорить с ней». (По В.М. Пескову)</td>\n",
              "    </tr>\n",
              "  </tbody>\n",
              "</table>\n",
              "</div>"
            ],
            "text/plain": [
              "                                                                                                                                                                                                                                                                                                                                                                                                                                                                                                                                                                                                                                                                                                                                                                                                                                                                                                                                                                                                                                                                                                                                                                                                                                                                                                                                                                                                                                                                                                                                                                                                                                                                                                                                                                                                                                                                                                             passage\n",
              "1  (1)Образы природы сопровождают людей с самой глубокой древности. (2)Сцены охоты древние люди оставили нам в наследство на стенах пещер, на камнях в виде скупых царапин, изображающих лосей, кабанов, туров. (3)Нынешняя техника даёт возможность увидеть зверей и птиц в естественных красках и обстановке. (4)Мы видим эпизоды их жизни, и в душе появляется тёплое чувство. (5)Они где-то есть, эти звери, они ещё бегают, рычат, прячутся или проявляют, как и мы, люди, любопытство… (6)Желая испытать это тёплое чувство, на городских этажах мы держим кошек, собак, попугаев, белок, рыбок в аквариуме. (7)Врачи говорят, что поглаживание кошки или кормление синицы с ладони целительны для человеческой психики. (8)Заяц, встреченный в парке, исправил моё настроение. (9)А сколько случаев, когда человека с жизнью связывает только ниточка общения с собакой, с обыкновенными воробьями или воронами! (10)Бывшая работница нашей редакции время от времени по телефону докладывает мне о жизни ворон во дворе, о том, что они любят есть, как безошибочно узнают её в массе людей. (11)А старушка у нас во дворе каждое утро носит воробьям крошки. (12)И я вижу радость на лице женщины, наблюдающей, как суетливые птички подбирают рассыпанный корм. (13)Иногда мне кажется: не прилетят воробьи к её выходу из подъезда, и старушка умрёт от обрыва последней ниточки, соединяющей её с жизнью. (14)Как-то мы разговорились с ней, и она призналась, что ни разу не видела в жизни, как пролетают и кричат журавли. (15)Я рассказал ей, как журавли весною танцуют, разбившись на пары, и кричат так, что голоса их сливаются в один торжествующий звук любви. (16)Старушка слушала внимательно и, прощаясь, сказала три слова: «Какой вы счастливый…» (17)Яснополянский мудрец говорил то же самое в дневниках: «Счастье – это быть с природой, видеть её, говорить с ней». (По В.М. Пескову)"
            ]
          },
          "metadata": {
            "tags": []
          },
          "execution_count": 24
        }
      ]
    },
    {
      "cell_type": "code",
      "metadata": {
        "colab": {
          "base_uri": "https://localhost:8080/",
          "height": 817
        },
        "id": "z_f6dFoXudf1",
        "outputId": "8af5a7a1-4df2-4f65-c268-b6494307f243"
      },
      "source": [
        "questions_df[questions_df.passage_id == 1]"
      ],
      "execution_count": null,
      "outputs": [
        {
          "output_type": "execute_result",
          "data": {
            "text/html": [
              "<div>\n",
              "<style scoped>\n",
              "    .dataframe tbody tr th:only-of-type {\n",
              "        vertical-align: middle;\n",
              "    }\n",
              "\n",
              "    .dataframe tbody tr th {\n",
              "        vertical-align: top;\n",
              "    }\n",
              "\n",
              "    .dataframe thead th {\n",
              "        text-align: right;\n",
              "    }\n",
              "</style>\n",
              "<table border=\"1\" class=\"dataframe\">\n",
              "  <thead>\n",
              "    <tr style=\"text-align: right;\">\n",
              "      <th></th>\n",
              "      <th>question</th>\n",
              "      <th>answer</th>\n",
              "      <th>label</th>\n",
              "      <th>passage_id</th>\n",
              "    </tr>\n",
              "  </thead>\n",
              "  <tbody>\n",
              "    <tr>\n",
              "      <th>0</th>\n",
              "      <td>Что ни разу в жизни не видела старушка?</td>\n",
              "      <td>Как кричат журавли.</td>\n",
              "      <td>1</td>\n",
              "      <td>1</td>\n",
              "    </tr>\n",
              "    <tr>\n",
              "      <th>1</th>\n",
              "      <td>Что ни разу в жизни не видела старушка?</td>\n",
              "      <td>Счастье.</td>\n",
              "      <td>0</td>\n",
              "      <td>1</td>\n",
              "    </tr>\n",
              "    <tr>\n",
              "      <th>2</th>\n",
              "      <td>Что ни разу в жизни не видела старушка?</td>\n",
              "      <td>Воробьев.</td>\n",
              "      <td>0</td>\n",
              "      <td>1</td>\n",
              "    </tr>\n",
              "    <tr>\n",
              "      <th>3</th>\n",
              "      <td>Что ни разу в жизни не видела старушка?</td>\n",
              "      <td>Как журавли пролетают.</td>\n",
              "      <td>1</td>\n",
              "      <td>1</td>\n",
              "    </tr>\n",
              "    <tr>\n",
              "      <th>4</th>\n",
              "      <td>Что видит автор каждое утро?</td>\n",
              "      <td>Журавлей.</td>\n",
              "      <td>0</td>\n",
              "      <td>1</td>\n",
              "    </tr>\n",
              "    <tr>\n",
              "      <th>5</th>\n",
              "      <td>Что видит автор каждое утро?</td>\n",
              "      <td>Радость на лице женщины.</td>\n",
              "      <td>1</td>\n",
              "      <td>1</td>\n",
              "    </tr>\n",
              "    <tr>\n",
              "      <th>6</th>\n",
              "      <td>Что видит автор каждое утро?</td>\n",
              "      <td>Старушка носит воробьям крошки.</td>\n",
              "      <td>1</td>\n",
              "      <td>1</td>\n",
              "    </tr>\n",
              "    <tr>\n",
              "      <th>7</th>\n",
              "      <td>Что видит автор каждое утро?</td>\n",
              "      <td>Зайца.</td>\n",
              "      <td>0</td>\n",
              "      <td>1</td>\n",
              "    </tr>\n",
              "    <tr>\n",
              "      <th>8</th>\n",
              "      <td>Какие образы древние люди оставили нам в наследство на стенах пещер?</td>\n",
              "      <td>Сцены охоты, образы лосей, кабанов, туров.</td>\n",
              "      <td>1</td>\n",
              "      <td>1</td>\n",
              "    </tr>\n",
              "    <tr>\n",
              "      <th>9</th>\n",
              "      <td>Какие образы древние люди оставили нам в наследство на стенах пещер?</td>\n",
              "      <td>Нынешней техники.</td>\n",
              "      <td>0</td>\n",
              "      <td>1</td>\n",
              "    </tr>\n",
              "    <tr>\n",
              "      <th>10</th>\n",
              "      <td>Какие образы древние люди оставили нам в наследство на стенах пещер?</td>\n",
              "      <td>Образы животных, сцены охоты.</td>\n",
              "      <td>1</td>\n",
              "      <td>1</td>\n",
              "    </tr>\n",
              "    <tr>\n",
              "      <th>11</th>\n",
              "      <td>Какие образы древние люди оставили нам в наследство на стенах пещер?</td>\n",
              "      <td>Как пролетают и кричат журавли.</td>\n",
              "      <td>0</td>\n",
              "      <td>1</td>\n",
              "    </tr>\n",
              "    <tr>\n",
              "      <th>12</th>\n",
              "      <td>О каких птицах рассказывает автор?</td>\n",
              "      <td>О зайцах и рыбках.</td>\n",
              "      <td>0</td>\n",
              "      <td>1</td>\n",
              "    </tr>\n",
              "    <tr>\n",
              "      <th>13</th>\n",
              "      <td>О каких птицах рассказывает автор?</td>\n",
              "      <td>О воронах, воробьях, журавлях.</td>\n",
              "      <td>1</td>\n",
              "      <td>1</td>\n",
              "    </tr>\n",
              "    <tr>\n",
              "      <th>14</th>\n",
              "      <td>О каких птицах рассказывает автор?</td>\n",
              "      <td>О воронах, кошках и собаках.</td>\n",
              "      <td>0</td>\n",
              "      <td>1</td>\n",
              "    </tr>\n",
              "    <tr>\n",
              "      <th>15</th>\n",
              "      <td>О каких птицах рассказывает автор?</td>\n",
              "      <td>О воронах, журавлях, воробьях.</td>\n",
              "      <td>1</td>\n",
              "      <td>1</td>\n",
              "    </tr>\n",
              "    <tr>\n",
              "      <th>16</th>\n",
              "      <td>Эпизоды чьей жизни мы можем сейчас увидеть благодаря технике?</td>\n",
              "      <td>Древних людей.</td>\n",
              "      <td>0</td>\n",
              "      <td>1</td>\n",
              "    </tr>\n",
              "    <tr>\n",
              "      <th>17</th>\n",
              "      <td>Эпизоды чьей жизни мы можем сейчас увидеть благодаря технике?</td>\n",
              "      <td>Людей.</td>\n",
              "      <td>0</td>\n",
              "      <td>1</td>\n",
              "    </tr>\n",
              "    <tr>\n",
              "      <th>18</th>\n",
              "      <td>Эпизоды чьей жизни мы можем сейчас увидеть благодаря технике?</td>\n",
              "      <td>Животных.</td>\n",
              "      <td>1</td>\n",
              "      <td>1</td>\n",
              "    </tr>\n",
              "    <tr>\n",
              "      <th>19</th>\n",
              "      <td>Эпизоды чьей жизни мы можем сейчас увидеть благодаря технике?</td>\n",
              "      <td>Зверей и птиц.</td>\n",
              "      <td>1</td>\n",
              "      <td>1</td>\n",
              "    </tr>\n",
              "    <tr>\n",
              "      <th>20</th>\n",
              "      <td>Эпизоды чьей жизни мы можем сейчас увидеть благодаря технике?</td>\n",
              "      <td>Охотников.</td>\n",
              "      <td>0</td>\n",
              "      <td>1</td>\n",
              "    </tr>\n",
              "    <tr>\n",
              "      <th>21</th>\n",
              "      <td>Кому рассказали о том, как весной танцуют и кричат журавли?</td>\n",
              "      <td>Женщине.</td>\n",
              "      <td>1</td>\n",
              "      <td>1</td>\n",
              "    </tr>\n",
              "    <tr>\n",
              "      <th>22</th>\n",
              "      <td>Кому рассказали о том, как весной танцуют и кричат журавли?</td>\n",
              "      <td>Воробьям.</td>\n",
              "      <td>0</td>\n",
              "      <td>1</td>\n",
              "    </tr>\n",
              "    <tr>\n",
              "      <th>23</th>\n",
              "      <td>Кому рассказали о том, как весной танцуют и кричат журавли?</td>\n",
              "      <td>Бывшей работнице нашей редакции.</td>\n",
              "      <td>0</td>\n",
              "      <td>1</td>\n",
              "    </tr>\n",
              "    <tr>\n",
              "      <th>24</th>\n",
              "      <td>Кому рассказали о том, как весной танцуют и кричат журавли?</td>\n",
              "      <td>Старушке.</td>\n",
              "      <td>1</td>\n",
              "      <td>1</td>\n",
              "    </tr>\n",
              "    <tr>\n",
              "      <th>25</th>\n",
              "      <td>Кому рассказали о том, как весной танцуют и кричат журавли?</td>\n",
              "      <td>Мудрецу.</td>\n",
              "      <td>0</td>\n",
              "      <td>1</td>\n",
              "    </tr>\n",
              "  </tbody>\n",
              "</table>\n",
              "</div>"
            ],
            "text/plain": [
              "                                                                question  ... passage_id\n",
              "0                                Что ни разу в жизни не видела старушка?  ...          1\n",
              "1                                Что ни разу в жизни не видела старушка?  ...          1\n",
              "2                                Что ни разу в жизни не видела старушка?  ...          1\n",
              "3                                Что ни разу в жизни не видела старушка?  ...          1\n",
              "4                                           Что видит автор каждое утро?  ...          1\n",
              "5                                           Что видит автор каждое утро?  ...          1\n",
              "6                                           Что видит автор каждое утро?  ...          1\n",
              "7                                           Что видит автор каждое утро?  ...          1\n",
              "8   Какие образы древние люди оставили нам в наследство на стенах пещер?  ...          1\n",
              "9   Какие образы древние люди оставили нам в наследство на стенах пещер?  ...          1\n",
              "10  Какие образы древние люди оставили нам в наследство на стенах пещер?  ...          1\n",
              "11  Какие образы древние люди оставили нам в наследство на стенах пещер?  ...          1\n",
              "12                                    О каких птицах рассказывает автор?  ...          1\n",
              "13                                    О каких птицах рассказывает автор?  ...          1\n",
              "14                                    О каких птицах рассказывает автор?  ...          1\n",
              "15                                    О каких птицах рассказывает автор?  ...          1\n",
              "16         Эпизоды чьей жизни мы можем сейчас увидеть благодаря технике?  ...          1\n",
              "17         Эпизоды чьей жизни мы можем сейчас увидеть благодаря технике?  ...          1\n",
              "18         Эпизоды чьей жизни мы можем сейчас увидеть благодаря технике?  ...          1\n",
              "19         Эпизоды чьей жизни мы можем сейчас увидеть благодаря технике?  ...          1\n",
              "20         Эпизоды чьей жизни мы можем сейчас увидеть благодаря технике?  ...          1\n",
              "21           Кому рассказали о том, как весной танцуют и кричат журавли?  ...          1\n",
              "22           Кому рассказали о том, как весной танцуют и кричат журавли?  ...          1\n",
              "23           Кому рассказали о том, как весной танцуют и кричат журавли?  ...          1\n",
              "24           Кому рассказали о том, как весной танцуют и кричат журавли?  ...          1\n",
              "25           Кому рассказали о том, как весной танцуют и кричат журавли?  ...          1\n",
              "\n",
              "[26 rows x 4 columns]"
            ]
          },
          "metadata": {
            "tags": []
          },
          "execution_count": 25
        }
      ]
    },
    {
      "cell_type": "markdown",
      "metadata": {
        "id": "TkVQK2o-rMFz"
      },
      "source": [
        "## Number of questions per passage"
      ]
    },
    {
      "cell_type": "code",
      "metadata": {
        "id": "TlNc8eA1xDuz"
      },
      "source": [
        "import matplotlib.pyplot as plt\r\n",
        "from matplotlib import gridspec\r\n",
        "import numpy as np"
      ],
      "execution_count": null,
      "outputs": []
    },
    {
      "cell_type": "code",
      "metadata": {
        "id": "TgFGGcOI2_EW",
        "colab": {
          "base_uri": "https://localhost:8080/",
          "height": 280
        },
        "outputId": "0b0a68ef-547d-4521-fc6c-4790bdba7aa9"
      },
      "source": [
        "plt.subplot(1,2,1)\r\n",
        "colours = {'#9ddca6', '#f0afb6', '#eeb87c'}\r\n",
        "\r\n",
        "plt.title('Label distribution\\n in Train\\n', fontsize=14)\r\n",
        "plt.pie(questions_df['label'].value_counts(), autopct=\"%.1f%%\", explode=[0.05]*2, labels=questions_df['label'].value_counts().keys(), pctdistance=0.5, textprops = dict(fontsize = 12), colors=colours)\r\n",
        "\r\n",
        "plt.subplot(1,2,2)\r\n",
        "\r\n",
        "plt.title('Label distribution\\n in Val\\n', fontsize=14)\r\n",
        "plt.pie(val_questions_df['label'].value_counts(), autopct=\"%.1f%%\", explode=[0.05]*2, labels=val_questions_df['label'].value_counts().keys(), pctdistance=0.5, textprops = dict(fontsize = 12), colors=colours)\r\n",
        "\r\n",
        "plt.tight_layout()\r\n",
        "plt.show()"
      ],
      "execution_count": null,
      "outputs": [
        {
          "output_type": "display_data",
          "data": {
            "image/png": "[encoded data removed]",
            "text/plain": [
              "<Figure size 432x288 with 2 Axes>"
            ]
          },
          "metadata": {
            "tags": []
          }
        }
      ]
    },
    {
      "cell_type": "code",
      "metadata": {
        "id": "D7HWE31GwMo3",
        "colab": {
          "base_uri": "https://localhost:8080/",
          "height": 404
        },
        "outputId": "41bdea07-a02d-42b2-fd94-f5a22c026e39"
      },
      "source": [
        "datasets = ['Train', 'Validate']\r\n",
        "fig, ax = plt.subplots(figsize=(5, 5))\r\n",
        "ax.boxplot([\r\n",
        "            questions_df['passage_id'].value_counts(sort=False),\r\n",
        "            val_questions_df['passage_id'].value_counts(sort=False)\r\n",
        "            ],\r\n",
        "           labels=datasets,\r\n",
        "           patch_artist=True)\r\n",
        "ax.yaxis.grid(True)\r\n",
        "ax.set_title('Number of questions per text')\r\n",
        "ax.set_xlabel('Dataset')\r\n",
        "ax.set_ylabel('Quantity')\r\n",
        "plt.show()"
      ],
      "execution_count": null,
      "outputs": [
        {
          "output_type": "stream",
          "text": [
            "/usr/local/lib/python3.6/dist-packages/numpy/core/_asarray.py:83: VisibleDeprecationWarning: Creating an ndarray from ragged nested sequences (which is a list-or-tuple of lists-or-tuples-or ndarrays with different lengths or shapes) is deprecated. If you meant to do this, you must specify 'dtype=object' when creating the ndarray\n",
            "  return array(a, dtype, copy=False, order=order)\n"
          ],
          "name": "stderr"
        },
        {
          "output_type": "display_data",
          "data": {
            "image/png": "[encoded data removed]",
            "text/plain": [
              "<Figure size 360x360 with 1 Axes>"
            ]
          },
          "metadata": {
            "tags": [],
            "needs_background": "light"
          }
        }
      ]
    },
    {
      "cell_type": "markdown",
      "metadata": {
        "id": "74leAtbsrUQj"
      },
      "source": [
        "## Number of correct answers per passage"
      ]
    },
    {
      "cell_type": "code",
      "metadata": {
        "colab": {
          "base_uri": "https://localhost:8080/",
          "height": 317
        },
        "id": "B-hi0nuC5T1I",
        "outputId": "c8462280-708b-4a15-9cc4-d4d3b8e20150"
      },
      "source": [
        "label_distribution = []\r\n",
        "label_distribution.append(questions_df[['passage_id', 'label']].value_counts(sort=False).to_frame())\r\n",
        "label_distribution.append(val_questions_df[['passage_id', 'label']].value_counts(sort=False).to_frame())\r\n",
        "\r\n",
        "correct = []\r\n",
        "incorrect = []\r\n",
        "proportion = []\r\n",
        "\r\n",
        "for i, series in enumerate(label_distribution):\r\n",
        "    label_distribution[i] = label_distribution[i].rename(columns={0:'counter'})\r\n",
        "    label_distribution[i].reset_index(inplace=True)\r\n",
        "    correct.append(label_distribution[i][label_distribution[i].label==1].counter.to_numpy())\r\n",
        "    incorrect.append(label_distribution[i][label_distribution[i].label==0].counter.to_numpy())\r\n",
        "    proportion.append((correct[i] / (incorrect[i]+correct[i])) * 100)\r\n",
        "\r\n",
        "from matplotlib import ticker\r\n",
        "\r\n",
        "fig = plt.figure(constrained_layout=True, figsize=(20,5))\r\n",
        "gs = fig.add_gridspec(1, 5)\r\n",
        "f_ax1 = fig.add_subplot(gs[0, :3])\r\n",
        "f_ax1.set_title('Proportion of correct answers by passage in TRAIN', fontsize=14)\r\n",
        "# f_ax1.yaxis.set_major_locator(ticker.MaxNLocator(4))\r\n",
        "f_ax1.plot(proportion[0])\r\n",
        "f_ax2 = fig.add_subplot(gs[0, 3:])\r\n",
        "f_ax2.set_title('Proportion in VALIDATE', fontsize=14)\r\n",
        "f_ax2.plot(proportion[1])"
      ],
      "execution_count": null,
      "outputs": [
        {
          "output_type": "execute_result",
          "data": {
            "text/plain": [
              "[<matplotlib.lines.Line2D at 0x7face3f383c8>]"
            ]
          },
          "metadata": {
            "tags": []
          },
          "execution_count": 29
        },
        {
          "output_type": "display_data",
          "data": {
            "image/png": "[encoded data removed]",
            "text/plain": [
              "<Figure size 1440x360 with 2 Axes>"
            ]
          },
          "metadata": {
            "tags": [],
            "needs_background": "light"
          }
        }
      ]
    },
    {
      "cell_type": "code",
      "metadata": {
        "id": "PXYeIhizsI1C"
      },
      "source": [
        "import re\r\n",
        "pd.set_option('display.max_rows', 100)\r\n",
        "\r\n",
        "questions_df = questions_df.assign(answer_tokens=lambda x: x.answer.str.split())\r\n",
        "questions_df['answer_len'] = questions_df['answer_tokens'].apply(len)\r\n",
        "\r\n",
        "val_questions_df = val_questions_df.assign(answer_tokens=lambda x: x.answer.str.split())\r\n",
        "val_questions_df['answer_len'] = val_questions_df['answer_tokens'].apply(len)"
      ],
      "execution_count": null,
      "outputs": []
    },
    {
      "cell_type": "markdown",
      "metadata": {
        "id": "3N2vt66RxhZm"
      },
      "source": [
        "number of tokens is larger than 9"
      ]
    },
    {
      "cell_type": "code",
      "metadata": {
        "id": "KUR6jzrNy-6V",
        "colab": {
          "base_uri": "https://localhost:8080/"
        },
        "outputId": "255d2f91-8276-493d-a6df-fe95ec01c9cb"
      },
      "source": [
        "questions_df[['label','answer_len', 'answer_tokens']][questions_df.answer_len > 9].label.value_counts()"
      ],
      "execution_count": null,
      "outputs": [
        {
          "output_type": "execute_result",
          "data": {
            "text/plain": [
              "1    1284\n",
              "0     433\n",
              "Name: label, dtype: int64"
            ]
          },
          "metadata": {
            "tags": []
          },
          "execution_count": 31
        }
      ]
    },
    {
      "cell_type": "code",
      "metadata": {
        "id": "E5ifnKpc2T4O",
        "colab": {
          "base_uri": "https://localhost:8080/"
        },
        "outputId": "6d4f462a-576d-4889-a082-4e4b523b7cb7"
      },
      "source": [
        "val_questions_df[['label','answer_len', 'answer_tokens']][val_questions_df.answer_len > 9].label.value_counts()"
      ],
      "execution_count": null,
      "outputs": [
        {
          "output_type": "execute_result",
          "data": {
            "text/plain": [
              "1    240\n",
              "0    105\n",
              "Name: label, dtype: int64"
            ]
          },
          "metadata": {
            "tags": []
          },
          "execution_count": 32
        }
      ]
    },
    {
      "cell_type": "markdown",
      "metadata": {
        "id": "CAhlXGX5x0j1"
      },
      "source": [
        "number of tokens is fewer than 3"
      ]
    },
    {
      "cell_type": "code",
      "metadata": {
        "id": "kAoMaahXzcKr",
        "colab": {
          "base_uri": "https://localhost:8080/"
        },
        "outputId": "1078697e-c9f5-4dba-e9aa-2fd4500939e0"
      },
      "source": [
        "questions_df[['label','answer_len']][questions_df.answer_len < 3].label.value_counts()"
      ],
      "execution_count": null,
      "outputs": [
        {
          "output_type": "execute_result",
          "data": {
            "text/plain": [
              "0    2797\n",
              "1    1539\n",
              "Name: label, dtype: int64"
            ]
          },
          "metadata": {
            "tags": []
          },
          "execution_count": 33
        }
      ]
    },
    {
      "cell_type": "code",
      "metadata": {
        "id": "H43EKnBXzGlF",
        "colab": {
          "base_uri": "https://localhost:8080/"
        },
        "outputId": "3ca185c9-08e5-4670-d3da-6881dca3d05b"
      },
      "source": [
        "val_questions_df[['label','answer_len']][val_questions_df.answer_len < 3].label.value_counts()"
      ],
      "execution_count": null,
      "outputs": [
        {
          "output_type": "execute_result",
          "data": {
            "text/plain": [
              "0    484\n",
              "1    256\n",
              "Name: label, dtype: int64"
            ]
          },
          "metadata": {
            "tags": []
          },
          "execution_count": 34
        }
      ]
    },
    {
      "cell_type": "code",
      "metadata": {
        "colab": {
          "base_uri": "https://localhost:8080/"
        },
        "id": "ZurpYv-bx4U9",
        "outputId": "073f3153-f11b-4dcf-d618-5c77cd094be7"
      },
      "source": [
        "questions_df[['label','answer_len', 'answer_tokens']][questions_df.answer_len == 2].label.value_counts()"
      ],
      "execution_count": null,
      "outputs": [
        {
          "output_type": "execute_result",
          "data": {
            "text/plain": [
              "0    1541\n",
              "1     884\n",
              "Name: label, dtype: int64"
            ]
          },
          "metadata": {
            "tags": []
          },
          "execution_count": 35
        }
      ]
    },
    {
      "cell_type": "markdown",
      "metadata": {
        "id": "cxVhdsOB8ga1"
      },
      "source": [
        "## Check intersection of lemmas between answers and passages\r\n",
        "\r\n",
        "it seems that a complete intersection of an answer can be a trigger of its correctness"
      ]
    },
    {
      "cell_type": "code",
      "metadata": {
        "id": "rVFzGfa8yJVF"
      },
      "source": [
        "from utils import RSG_MorphAnalyzer\r\n",
        "morph = RSG_MorphAnalyzer()"
      ],
      "execution_count": null,
      "outputs": []
    },
    {
      "cell_type": "markdown",
      "metadata": {
        "id": "qneoxbGs8uq3"
      },
      "source": [
        "**Train**"
      ]
    },
    {
      "cell_type": "code",
      "metadata": {
        "id": "xUhANB9A8cGc"
      },
      "source": [
        "passages_df['lemmas'] = morph.lemmantize_sentences(passages_df.passage.to_list())\r\n",
        "questions_df['lemmas'] = morph.lemmantize_sentences(questions_df.answer.to_list())"
      ],
      "execution_count": null,
      "outputs": []
    },
    {
      "cell_type": "code",
      "metadata": {
        "id": "jQ5lGzZc1ywJ"
      },
      "source": [
        "def compare_lemmas(row):\r\n",
        "    passage_id = row['passage_id']\r\n",
        "    answer_lemmas = row['lemmas']\r\n",
        "\r\n",
        "    intersection = set(\r\n",
        "        answer_lemmas\r\n",
        "        ).intersection(\r\n",
        "            set(passages_df.iloc[passage_id].lemmas))\r\n",
        "        \r\n",
        "    length = len(intersection)\r\n",
        "\r\n",
        "    return (length == len(answer_lemmas),\r\n",
        "            length == 0,\r\n",
        "            length == 1,\r\n",
        "            length > 6 # larger than mean length of answers\r\n",
        "            )\r\n",
        "\r\n",
        "questions_df[[\r\n",
        "              'overlap',\r\n",
        "              'no_intersect',\r\n",
        "              'little overlap',\r\n",
        "              'much overlap'\r\n",
        "              ]] = questions_df[\r\n",
        "                                ['lemmas', 'passage_id']\r\n",
        "                                ].apply(\r\n",
        "                                    compare_lemmas,\r\n",
        "                                    axis=1,\r\n",
        "                                    result_type=\"expand\")"
      ],
      "execution_count": null,
      "outputs": []
    },
    {
      "cell_type": "markdown",
      "metadata": {
        "id": "GHgqMN4w9hYT"
      },
      "source": [
        "total overlap in train"
      ]
    },
    {
      "cell_type": "code",
      "metadata": {
        "colab": {
          "base_uri": "https://localhost:8080/"
        },
        "id": "421Xe4DN_oaz",
        "outputId": "a9823823-c6a8-4d43-f9f8-8c3af932d2a5"
      },
      "source": [
        "questions_df[['label','overlap']][questions_df.overlap == True].label.value_counts()"
      ],
      "execution_count": null,
      "outputs": [
        {
          "output_type": "execute_result",
          "data": {
            "text/plain": [
              "1    3003\n",
              "0    2366\n",
              "Name: label, dtype: int64"
            ]
          },
          "metadata": {
            "tags": []
          },
          "execution_count": 39
        }
      ]
    },
    {
      "cell_type": "markdown",
      "metadata": {
        "id": "nNiwuKgP_x0O"
      },
      "source": [
        "no intersecting lemmas in train"
      ]
    },
    {
      "cell_type": "code",
      "metadata": {
        "colab": {
          "base_uri": "https://localhost:8080/"
        },
        "id": "tfF-UJoo-Hb0",
        "outputId": "b683d88d-deca-4400-fd70-ecaa0f922ab2"
      },
      "source": [
        "questions_df[['label','no_intersect']][questions_df.no_intersect == True].label.value_counts()"
      ],
      "execution_count": null,
      "outputs": [
        {
          "output_type": "execute_result",
          "data": {
            "text/plain": [
              "0    966\n",
              "1    159\n",
              "Name: label, dtype: int64"
            ]
          },
          "metadata": {
            "tags": []
          },
          "execution_count": 40
        }
      ]
    },
    {
      "cell_type": "markdown",
      "metadata": {
        "id": "78HGmIFtBK_c"
      },
      "source": [
        "little overlap in train"
      ]
    },
    {
      "cell_type": "code",
      "metadata": {
        "colab": {
          "base_uri": "https://localhost:8080/"
        },
        "id": "Q1mSQeMMBN6z",
        "outputId": "30ff30c7-4471-4574-fd13-7168e0da856d"
      },
      "source": [
        "questions_df[['label','little overlap']][questions_df['little overlap'] == True].label.value_counts()"
      ],
      "execution_count": null,
      "outputs": [
        {
          "output_type": "execute_result",
          "data": {
            "text/plain": [
              "0    1534\n",
              "1     731\n",
              "Name: label, dtype: int64"
            ]
          },
          "metadata": {
            "tags": []
          },
          "execution_count": 41
        }
      ]
    },
    {
      "cell_type": "markdown",
      "metadata": {
        "id": "ykXCniqkDt2z"
      },
      "source": [
        "much overlap in train"
      ]
    },
    {
      "cell_type": "code",
      "metadata": {
        "colab": {
          "base_uri": "https://localhost:8080/"
        },
        "id": "DqKSf4RXDtD5",
        "outputId": "ed5d209a-ecfc-40da-e226-826b0453abc5"
      },
      "source": [
        "questions_df[['label','much overlap']][questions_df['much overlap'] == True].label.value_counts()"
      ],
      "execution_count": null,
      "outputs": [
        {
          "output_type": "execute_result",
          "data": {
            "text/plain": [
              "1    1672\n",
              "0     594\n",
              "Name: label, dtype: int64"
            ]
          },
          "metadata": {
            "tags": []
          },
          "execution_count": 42
        }
      ]
    },
    {
      "cell_type": "markdown",
      "metadata": {
        "id": "wyasi7Bx89BP"
      },
      "source": [
        "**Validate**"
      ]
    },
    {
      "cell_type": "code",
      "metadata": {
        "id": "irbqNHNz9LXU"
      },
      "source": [
        "val_passages_df['lemmas'] = morph.lemmantize_sentences(val_passages_df.passage.to_list())\r\n",
        "val_questions_df['lemmas'] = morph.lemmantize_sentences(val_questions_df.answer.to_list())"
      ],
      "execution_count": null,
      "outputs": []
    },
    {
      "cell_type": "markdown",
      "metadata": {
        "id": "GPMMY7zf9nqU"
      },
      "source": [
        "TOTAL OVERLAP"
      ]
    },
    {
      "cell_type": "code",
      "metadata": {
        "id": "MlpVb9QB8USc"
      },
      "source": [
        "def compare_lemmas(row):\r\n",
        "    passage_id = row['passage_id']\r\n",
        "    answer_lemmas = row['lemmas']\r\n",
        "\r\n",
        "    intersection = set(\r\n",
        "        answer_lemmas\r\n",
        "        ).intersection(\r\n",
        "            set(val_passages_df.iloc[passage_id].lemmas))\r\n",
        "\r\n",
        "    length = len(intersection)\r\n",
        "\r\n",
        "    return (length == len(answer_lemmas),\r\n",
        "            length == 0,\r\n",
        "            length == 1,\r\n",
        "            length > 6 # larger than mean length of answers\r\n",
        "            )\r\n",
        "\r\n",
        "val_questions_df[[\r\n",
        "              'overlap',\r\n",
        "              'no_intersect',\r\n",
        "              'little overlap',\r\n",
        "              'much overlap'\r\n",
        "              ]] = val_questions_df[\r\n",
        "                                ['lemmas', 'passage_id']\r\n",
        "                                ].apply(\r\n",
        "                                    compare_lemmas,\r\n",
        "                                    axis=1,\r\n",
        "                                    result_type=\"expand\")"
      ],
      "execution_count": null,
      "outputs": []
    },
    {
      "cell_type": "code",
      "metadata": {
        "colab": {
          "base_uri": "https://localhost:8080/"
        },
        "id": "-Kca6k6j8PT5",
        "outputId": "9e54f529-eab9-45be-879a-db65dddf2728"
      },
      "source": [
        "val_questions_df[['label','overlap']][val_questions_df.overlap == True].label.value_counts()"
      ],
      "execution_count": null,
      "outputs": [
        {
          "output_type": "execute_result",
          "data": {
            "text/plain": [
              "1    516\n",
              "0    361\n",
              "Name: label, dtype: int64"
            ]
          },
          "metadata": {
            "tags": []
          },
          "execution_count": 45
        }
      ]
    },
    {
      "cell_type": "code",
      "metadata": {
        "colab": {
          "base_uri": "https://localhost:8080/"
        },
        "id": "6UH7Xmix1KSn",
        "outputId": "9bd54760-1d69-4bb0-a7b0-cecac7a1c160"
      },
      "source": [
        "val_questions_df[['label','no_intersect']][val_questions_df.no_intersect == True].label.value_counts()"
      ],
      "execution_count": null,
      "outputs": [
        {
          "output_type": "execute_result",
          "data": {
            "text/plain": [
              "0    197\n",
              "1     24\n",
              "Name: label, dtype: int64"
            ]
          },
          "metadata": {
            "tags": []
          },
          "execution_count": 46
        }
      ]
    },
    {
      "cell_type": "code",
      "metadata": {
        "colab": {
          "base_uri": "https://localhost:8080/"
        },
        "id": "JLfkxeUGC2ST",
        "outputId": "060e6aa4-cd94-458b-9d0d-a416277873b0"
      },
      "source": [
        "val_questions_df[['label','little overlap']][val_questions_df['little overlap'] == True].label.value_counts()"
      ],
      "execution_count": null,
      "outputs": [
        {
          "output_type": "execute_result",
          "data": {
            "text/plain": [
              "0    288\n",
              "1    127\n",
              "Name: label, dtype: int64"
            ]
          },
          "metadata": {
            "tags": []
          },
          "execution_count": 47
        }
      ]
    },
    {
      "cell_type": "code",
      "metadata": {
        "colab": {
          "base_uri": "https://localhost:8080/"
        },
        "id": "HPNDVDuMC56n",
        "outputId": "15a51e87-16ee-459a-f7cd-5c747f5fda8e"
      },
      "source": [
        "val_questions_df[['label','much overlap']][val_questions_df['much overlap'] == True].label.value_counts()"
      ],
      "execution_count": null,
      "outputs": [
        {
          "output_type": "execute_result",
          "data": {
            "text/plain": [
              "1    312\n",
              "0    110\n",
              "Name: label, dtype: int64"
            ]
          },
          "metadata": {
            "tags": []
          },
          "execution_count": 48
        }
      ]
    }
  ]
}