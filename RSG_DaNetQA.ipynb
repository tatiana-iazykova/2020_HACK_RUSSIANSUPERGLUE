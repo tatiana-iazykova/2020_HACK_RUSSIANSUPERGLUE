{
  "nbformat": 4,
  "nbformat_minor": 0,
  "metadata": {
    "colab": {
      "name": "RSG_DaNetQA.ipynb",
      "provenance": [],
      "collapsed_sections": [],
      "include_colab_link": true
    },
    "kernelspec": {
      "name": "python3",
      "display_name": "Python 3"
    }
  },
  "cells": [
    {
      "cell_type": "markdown",
      "metadata": {
        "id": "view-in-github",
        "colab_type": "text"
      },
      "source": [
        "<a href=\"https://colab.research.google.com/github/tatiana-iazykova/2020_HACK_RUSSIANSUPERGLUE/blob/main/RSG_DaNetQA.ipynb\" target=\"_parent\"><img src=\"https://colab.research.google.com/assets/colab-badge.svg\" alt=\"Open In Colab\"/></a>"
      ]
    },
    {
      "cell_type": "markdown",
      "metadata": {
        "id": "0OUUSCWcudle"
      },
      "source": [
        "#Загрузка английского датасета для сравнения"
      ]
    },
    {
      "cell_type": "code",
      "metadata": {
        "colab": {
          "base_uri": "https://localhost:8080/"
        },
        "id": "bjHb_yglPu4w",
        "outputId": "90e32cea-22ce-4d8b-f094-dce566c3e9f8"
      },
      "source": [
        "%%bash\n",
        "# change url if you want to work with a different RSG dataset\n",
        "wget -q --show-progress \"https://dl.fbaipublicfiles.com/glue/superglue/data/v2/BoolQ.zip\" -O temp.zip\n",
        "unzip temp.zip -d data\n",
        "\n",
        "# remove unnecessary directories and files\n",
        "rm temp.zip\n",
        "rm -r data/__MACOSX\n",
        "rm -r sample_data/"
      ],
      "execution_count": 1,
      "outputs": [
        {
          "output_type": "stream",
          "text": [
            "Archive:  temp.zip\n",
            "   creating: data/BoolQ/\n",
            "  inflating: data/BoolQ/train.jsonl  \n",
            "  inflating: data/BoolQ/test.jsonl   \n",
            "  inflating: data/BoolQ/val.jsonl    \n"
          ],
          "name": "stdout"
        },
        {
          "output_type": "stream",
          "text": [
            "\n",
            "     0K .......... .......... .......... .......... ..........  1%  697K 6s\n",
            "    50K .......... .......... .......... .......... ..........  2%  592K 6s\n",
            "   100K .......... .......... .......... .......... ..........  3%  850K 6s\n",
            "   150K .......... .......... .......... .......... ..........  4% 63.2M 4s\n",
            "   200K .......... .......... .......... .......... ..........  6% 77.0M 3s\n",
            "   250K .......... .......... .......... .......... ..........  7%  716K 4s\n",
            "   300K .......... .......... .......... .......... ..........  8% 67.8M 3s\n",
            "   350K .......... .......... .......... .......... ..........  9% 63.5M 3s\n",
            "   400K .......... .......... .......... .......... .......... 11%  114M 2s\n",
            "   450K .......... .......... .......... .......... .......... 12%  711K 3s\n",
            "   500K .......... .......... .......... .......... .......... 13% 57.0M 2s\n",
            "   550K .......... .......... .......... .......... .......... 14% 32.9M 2s\n",
            "   600K .......... .......... .......... .......... .......... 16% 71.9M 2s\n",
            "   650K .......... .......... .......... .......... .......... 17% 77.8M 2s\n",
            "   700K .......... .......... .......... .......... .......... 18% 86.0M 2s\n",
            "   750K .......... .......... .......... .......... .......... 19% 76.7M 1s\n",
            "   800K .......... .......... .......... .......... .......... 21% 83.6M 1s\n",
            "   850K .......... .......... .......... .......... .......... 22% 8.93M 1s\n",
            "   900K .......... .......... .......... .......... .......... 23% 32.5M 1s\n",
            "   950K .......... .......... .......... .......... .......... 24% 56.3M 1s\n",
            "  1000K .......... .......... .......... .......... .......... 26%  884K 1s\n",
            "  1050K .......... .......... .......... .......... .......... 27% 65.9M 1s\n",
            "  1100K .......... .......... .......... .......... .......... 28%  168M 1s\n",
            "  1150K .......... .......... .......... .......... .......... 29%  113M 1s\n",
            "  1200K .......... .......... .......... .......... .......... 31%  207M 1s\n",
            "  1250K .......... .......... .......... .......... .......... 32% 91.5M 1s\n",
            "  1300K .......... .......... .......... .......... .......... 33%  116M 1s\n",
            "  1350K .......... .......... .......... .......... .......... 34%  176M 1s\n",
            "  1400K .......... .......... .......... .......... .......... 36%  197M 1s\n",
            "  1450K .......... .......... .......... .......... .......... 37%  156M 1s\n",
            "  1500K .......... .......... .......... .......... .......... 38%  121M 1s\n",
            "  1550K .......... .......... .......... .......... .......... 39% 63.0M 1s\n",
            "  1600K .......... .......... .......... .......... .......... 41%  147M 1s\n",
            "  1650K .......... .......... .......... .......... .......... 42%  149M 1s\n",
            "  1700K .......... .......... .......... .......... .......... 43%  179M 1s\n",
            "  1750K .......... .......... .......... .......... .......... 44%  105M 1s\n",
            "  1800K .......... .......... .......... .......... .......... 46% 74.9M 1s\n",
            "  1850K .......... .......... .......... .......... .......... 47% 8.35M 0s\n",
            "  1900K .......... .......... .......... .......... .......... 48% 75.3M 0s\n",
            "  1950K .......... .......... .......... .......... .......... 49% 70.1M 0s\n",
            "  2000K .......... .......... .......... .......... .......... 50% 58.7M 0s\n",
            "  2050K .......... .......... .......... .......... .......... 52%  869K 0s\n",
            "  2100K .......... .......... .......... .......... .......... 53%  155M 0s\n",
            "  2150K .......... .......... .......... .......... .......... 54% 39.1M 0s\n",
            "  2200K .......... .......... .......... .......... .......... 55%  144M 0s\n",
            "  2250K .......... .......... .......... .......... .......... 57%  144M 0s\n",
            "  2300K .......... .......... .......... .......... .......... 58%  158M 0s\n",
            "  2350K .......... .......... .......... .......... .......... 59%  150M 0s\n",
            "  2400K .......... .......... .......... .......... .......... 60%  120M 0s\n",
            "  2450K .......... .......... .......... .......... .......... 62%  137M 0s\n",
            "  2500K .......... .......... .......... .......... .......... 63% 63.8M 0s\n",
            "  2550K .......... .......... .......... .......... .......... 64% 97.1M 0s\n",
            "  2600K .......... .......... .......... .......... .......... 65%  156M 0s\n",
            "  2650K .......... .......... .......... .......... .......... 67%  128M 0s\n",
            "  2700K .......... .......... .......... .......... .......... 68%  170M 0s\n",
            "  2750K .......... .......... .......... .......... .......... 69%  143M 0s\n",
            "  2800K .......... .......... .......... .......... .......... 70%  162M 0s\n",
            "  2850K .......... .......... .......... .......... .......... 72%  155M 0s\n",
            "  2900K .......... .......... .......... .......... .......... 73%  176M 0s\n",
            "  2950K .......... .......... .......... .......... .......... 74%  139M 0s\n",
            "  3000K .......... .......... .......... .......... .......... 75%  161M 0s\n",
            "  3050K .......... .......... .......... .......... .......... 77%  147M 0s\n",
            "  3100K .......... .......... .......... .......... .......... 78%  145M 0s\n",
            "  3150K .......... .......... .......... .......... .......... 79%  157M 0s\n",
            "  3200K .......... .......... .......... .......... .......... 80%  142M 0s\n",
            "  3250K .......... .......... .......... .......... .......... 82%  114M 0s\n",
            "  3300K .......... .......... .......... .......... .......... 83%  213M 0s\n",
            "  3350K .......... .......... .......... .......... .......... 84%  171M 0s\n",
            "  3400K .......... .......... .......... .......... .......... 85%  210M 0s\n",
            "  3450K .......... .......... .......... .......... .......... 87%  192M 0s\n",
            "  3500K .......... .......... .......... .......... .......... 88%  179M 0s\n",
            "  3550K .......... .......... .......... .......... .......... 89%  213M 0s\n",
            "  3600K .......... .......... .......... .......... .......... 90%  203M 0s\n",
            "  3650K .......... .......... .......... .......... .......... 92%  189M 0s\n",
            "  3700K .......... .......... .......... .......... .......... 93%  223M 0s\n",
            "  3750K .......... .......... .......... .......... .......... 94%  180M 0s\n",
            "  3800K .......... .......... .......... .......... .......... 95%  217M 0s\n",
            "  3850K .......... .......... .......... .......... .......... 96%  134M 0s\n",
            "  3900K .......... .......... .......... .......... .......... 98% 46.3M 0s\n",
            "  3950K .......... .......... .......... .......... .......... 99%  167M 0s\n",
            "  4000K .......... .......... .                               100%  251M=0.5srm: cannot remove 'data/__MACOSX': No such file or directory\n"
          ],
          "name": "stderr"
        }
      ]
    },
    {
      "cell_type": "markdown",
      "metadata": {
        "id": "A4ZdyanPupV_"
      },
      "source": [
        "# Загрузка русскоязычного датасета"
      ]
    },
    {
      "cell_type": "code",
      "metadata": {
        "id": "RsL57-5kTLgJ",
        "colab": {
          "base_uri": "https://localhost:8080/"
        },
        "outputId": "f104f801-813e-405a-8dce-f3f62251e3f1"
      },
      "source": [
        "%%bash\n",
        "# change url if you want to work with a different RSG dataset\n",
        "wget -q --show-progress \"https://russiansuperglue.com/tasks/download/DaNetQA\" -O temp.zip\n",
        "unzip temp.zip -d data\n",
        "\n",
        "# remove unnecessary directories and files\n",
        "rm temp.zip\n",
        "rm -r data/__MACOSX\n",
        "rm -r sample_data/"
      ],
      "execution_count": 2,
      "outputs": [
        {
          "output_type": "stream",
          "text": [
            "Archive:  temp.zip\n",
            "   creating: data/DaNetQA/\n",
            "  inflating: data/DaNetQA/train.jsonl  \n",
            "   creating: data/__MACOSX/\n",
            "   creating: data/__MACOSX/DaNetQA/\n",
            "  inflating: data/__MACOSX/DaNetQA/._train.jsonl  \n",
            "  inflating: data/DaNetQA/.DS_Store  \n",
            "  inflating: data/__MACOSX/DaNetQA/._.DS_Store  \n",
            "  inflating: data/DaNetQA/test.jsonl  \n",
            "  inflating: data/__MACOSX/DaNetQA/._test.jsonl  \n",
            "  inflating: data/DaNetQA/val.jsonl  \n",
            "  inflating: data/__MACOSX/DaNetQA/._val.jsonl  \n",
            "  inflating: data/__MACOSX/._DaNetQA  \n"
          ],
          "name": "stdout"
        },
        {
          "output_type": "stream",
          "text": [
            "\n",
            "     0K .......... .......... .......... .......... ..........  3%  369K 3s\n",
            "    50K .......... .......... .......... .......... ..........  7%  372K 3s\n",
            "   100K .......... .......... .......... .......... .......... 11% 74.4M 2s\n",
            "   150K .......... .......... .......... .......... .......... 15%  374K 2s\n",
            "   200K .......... .......... .......... .......... .......... 19% 67.6M 2s\n",
            "   250K .......... .......... .......... .......... .......... 23% 79.0M 1s\n",
            "   300K .......... .......... .......... .......... .......... 27% 90.5M 1s\n",
            "   350K .......... .......... .......... .......... .......... 31%  375K 1s\n",
            "   400K .......... .......... .......... .......... .......... 35% 75.0M 1s\n",
            "   450K .......... .......... .......... .......... .......... 39% 87.6M 1s\n",
            "   500K .......... .......... .......... .......... .......... 43% 73.5M 1s\n",
            "   550K .......... .......... .......... .......... .......... 47% 77.3M 1s\n",
            "   600K .......... .......... .......... .......... .......... 51% 86.8M 1s\n",
            "   650K .......... .......... .......... .......... .......... 55% 89.4M 0s\n",
            "   700K .......... .......... .......... .......... .......... 59%  385K 0s\n",
            "   750K .......... .......... .......... .......... .......... 63% 50.3M 0s\n",
            "   800K .......... .......... .......... .......... .......... 67% 66.3M 0s\n",
            "   850K .......... .......... .......... .......... .......... 71% 74.8M 0s\n",
            "   900K .......... .......... .......... .......... .......... 75% 84.7M 0s\n",
            "   950K .......... .......... .......... .......... .......... 79% 82.4M 0s\n",
            "  1000K .......... .......... .......... .......... .......... 83% 85.1M 0s\n",
            "  1050K .......... .......... .......... .......... .......... 87% 85.5M 0s\n",
            "  1100K .......... .......... .......... .......... .......... 91%  114M 0s\n",
            "  1150K .......... .......... .......... .......... .......... 94% 82.2M 0s\n",
            "  1200K .......... .......... .......... .......... .......... 98% 92.3M 0s\n",
            "  1250K .......... ...                                        100% 95.1M=0.7srm: cannot remove 'sample_data/': No such file or directory\n"
          ],
          "name": "stderr"
        }
      ]
    },
    {
      "cell_type": "markdown",
      "metadata": {
        "id": "uD4auz_Nt9qR"
      },
      "source": [
        "Fancy way to display content of the dataset directory"
      ]
    },
    {
      "cell_type": "code",
      "metadata": {
        "id": "Wh_Pi5TXfVBI",
        "colab": {
          "base_uri": "https://localhost:8080/"
        },
        "outputId": "baaa289e-a21f-43d8-8976-5ae648cb7fdf"
      },
      "source": [
        "%%bash\n",
        "# add tree package for fancy directory display\n",
        "apt-get install tree"
      ],
      "execution_count": 3,
      "outputs": [
        {
          "output_type": "stream",
          "text": [
            "Reading package lists...\n",
            "Building dependency tree...\n",
            "Reading state information...\n",
            "The following NEW packages will be installed:\n",
            "  tree\n",
            "0 upgraded, 1 newly installed, 0 to remove and 14 not upgraded.\n",
            "Need to get 40.7 kB of archives.\n",
            "After this operation, 105 kB of additional disk space will be used.\n",
            "Get:1 http://archive.ubuntu.com/ubuntu bionic/universe amd64 tree amd64 1.7.0-5 [40.7 kB]\n",
            "Fetched 40.7 kB in 0s (149 kB/s)\n",
            "Selecting previously unselected package tree.\r\n",
            "(Reading database ... \r(Reading database ... 5%\r(Reading database ... 10%\r(Reading database ... 15%\r(Reading database ... 20%\r(Reading database ... 25%\r(Reading database ... 30%\r(Reading database ... 35%\r(Reading database ... 40%\r(Reading database ... 45%\r(Reading database ... 50%\r(Reading database ... 55%\r(Reading database ... 60%\r(Reading database ... 65%\r(Reading database ... 70%\r(Reading database ... 75%\r(Reading database ... 80%\r(Reading database ... 85%\r(Reading database ... 90%\r(Reading database ... 95%\r(Reading database ... 100%\r(Reading database ... 144865 files and directories currently installed.)\r\n",
            "Preparing to unpack .../tree_1.7.0-5_amd64.deb ...\r\n",
            "Unpacking tree (1.7.0-5) ...\r\n",
            "Setting up tree (1.7.0-5) ...\r\n",
            "Processing triggers for man-db (2.8.3-2ubuntu0.1) ...\r\n"
          ],
          "name": "stdout"
        }
      ]
    },
    {
      "cell_type": "code",
      "metadata": {
        "colab": {
          "base_uri": "https://localhost:8080/"
        },
        "id": "87zEZXR_xzmF",
        "outputId": "24feec5c-0418-4e85-aea7-81f0e601cac2"
      },
      "source": [
        "# display the content of the folder\n",
        "!tree"
      ],
      "execution_count": 4,
      "outputs": [
        {
          "output_type": "stream",
          "text": [
            ".\n",
            "└── data\n",
            "    ├── BoolQ\n",
            "    │   ├── test.jsonl\n",
            "    │   ├── train.jsonl\n",
            "    │   └── val.jsonl\n",
            "    └── DaNetQA\n",
            "        ├── test.jsonl\n",
            "        ├── train.jsonl\n",
            "        └── val.jsonl\n",
            "\n",
            "3 directories, 6 files\n"
          ],
          "name": "stdout"
        }
      ]
    },
    {
      "cell_type": "markdown",
      "metadata": {
        "id": "ZxDAiS8Ox8Py"
      },
      "source": [
        "# Загрузка в pandas"
      ]
    },
    {
      "cell_type": "code",
      "metadata": {
        "id": "C0cqhlXaXbwj"
      },
      "source": [
        "import pandas as pd\n",
        "pd.set_option('display.max_colwidth', 1000)\n",
        "\n",
        "class JSONL_handler():\n",
        "    \"\"\" opens a jsonl file and turns it into a necessary data structure \"\"\"\n",
        "    \n",
        "    def __init__(self, path):\n",
        "        self.path = path # path to jsonl file\n",
        "\n",
        "    def to_pandas(self):\n",
        "        \"\"\" get jsonl file content as a pandas DataFrame\"\"\"\n",
        "        return pd.read_json(path_or_buf=self.path, lines=True)"
      ],
      "execution_count": 5,
      "outputs": []
    },
    {
      "cell_type": "code",
      "metadata": {
        "id": "_NRSjltfYcjT"
      },
      "source": [
        "handler = JSONL_handler('data/DaNetQA/train.jsonl')\n",
        "df = handler.to_pandas()"
      ],
      "execution_count": 6,
      "outputs": []
    },
    {
      "cell_type": "markdown",
      "metadata": {
        "id": "sQU6l2URwmqZ"
      },
      "source": [
        "[Pandas cheat sheet](https://github.com/pandas-dev/pandas/blob/master/doc/cheatsheet/Pandas_Cheat_Sheet.pdf?platform=hootsuite) for reference\n"
      ]
    },
    {
      "cell_type": "code",
      "metadata": {
        "id": "yWGRRno7P5QS"
      },
      "source": [
        "handler_en = JSONL_handler('data/BoolQ/train.jsonl')\n",
        "df_en = handler_en.to_pandas()"
      ],
      "execution_count": 7,
      "outputs": []
    },
    {
      "cell_type": "markdown",
      "metadata": {
        "id": "c3x_pgvwNhjE"
      },
      "source": [
        "# Общая информация про train"
      ]
    },
    {
      "cell_type": "code",
      "metadata": {
        "id": "Q43c4vJZsN6v",
        "colab": {
          "base_uri": "https://localhost:8080/",
          "height": 265
        },
        "outputId": "4d038623-7d42-4b0f-8d4b-17e178e64298"
      },
      "source": [
        "import matplotlib.pyplot as plt\n",
        "plt.title('Label distribution in DaNetQA', fontsize=14)\n",
        "plt.pie(df['label'].value_counts(), autopct=\"%.1f%%\", explode=[0.05]*2, labels=df['label'].value_counts().keys(), pctdistance=0.5, textprops = dict(fontsize = 12))\n",
        "plt.show()"
      ],
      "execution_count": 8,
      "outputs": [
        {
          "output_type": "display_data",
          "data": {
            "image/png": "[encoded data removed]",
            "text/plain": [
              "<Figure size 432x288 with 1 Axes>"
            ]
          },
          "metadata": {
            "tags": []
          }
        }
      ]
    },
    {
      "cell_type": "code",
      "metadata": {
        "colab": {
          "base_uri": "https://localhost:8080/"
        },
        "id": "vACfnT5Jpgbl",
        "outputId": "04ebafab-5b37-470e-c8f8-c7fdaece1e05"
      },
      "source": [
        "df['label'].value_counts()"
      ],
      "execution_count": 9,
      "outputs": [
        {
          "output_type": "execute_result",
          "data": {
            "text/plain": [
              "True     1061\n",
              "False     688\n",
              "Name: label, dtype: int64"
            ]
          },
          "metadata": {
            "tags": []
          },
          "execution_count": 9
        }
      ]
    },
    {
      "cell_type": "code",
      "metadata": {
        "colab": {
          "base_uri": "https://localhost:8080/"
        },
        "id": "Bpko3iriQAff",
        "outputId": "efdb49b0-684a-4e19-e2ee-8dd86ccb62de"
      },
      "source": [
        "df_en['label'].value_counts()"
      ],
      "execution_count": 10,
      "outputs": [
        {
          "output_type": "execute_result",
          "data": {
            "text/plain": [
              "True     5874\n",
              "False    3553\n",
              "Name: label, dtype: int64"
            ]
          },
          "metadata": {
            "tags": []
          },
          "execution_count": 10
        }
      ]
    },
    {
      "cell_type": "code",
      "metadata": {
        "colab": {
          "base_uri": "https://localhost:8080/",
          "height": 674
        },
        "id": "MKuxdjKoUBVg",
        "outputId": "187b3a51-a704-4342-e50d-e5d98ad89c6f"
      },
      "source": [
        "plt.title('Relative label distribution in DaNetQA\\n and corresponding SG dataset', fontsize=14)\n",
        "plt.hist(x = [df['label'], df_en['label']], color=[\"#9ddadc\", \"#e99aee\"], label=['RSG','SG'], rwidth = 50) \n",
        "plt.legend(loc='best')\n",
        "plt.show()\n",
        "print()\n",
        "\n",
        "plt.subplot(1,2,1)\n",
        "colours = {'#9ddca6', '#f0afb6', '#eeb87c'}\n",
        "\n",
        "plt.title('Label distribution\\n in SG\\n', fontsize=14)\n",
        "plt.pie(df_en['label'].value_counts(), autopct=\"%.1f%%\", explode=[0.05]*2, labels=df_en['label'].value_counts().keys(), pctdistance=0.5, textprops = dict(fontsize = 12), colors=colours)\n",
        "\n",
        "plt.subplot(1,2,2)\n",
        "\n",
        "plt.title('Label distribution\\n in RSG\\n', fontsize=14)\n",
        "plt.pie(df['label'].value_counts(), autopct=\"%.1f%%\", explode=[0.05]*2, labels=df['label'].value_counts().keys(), pctdistance=0.5, textprops = dict(fontsize = 12), colors=colours)\n",
        "\n",
        "plt.tight_layout()\n",
        "plt.show()"
      ],
      "execution_count": 11,
      "outputs": [
        {
          "output_type": "stream",
          "text": [
            "/usr/local/lib/python3.6/dist-packages/numpy/core/_asarray.py:83: VisibleDeprecationWarning: Creating an ndarray from ragged nested sequences (which is a list-or-tuple of lists-or-tuples-or ndarrays with different lengths or shapes) is deprecated. If you meant to do this, you must specify 'dtype=object' when creating the ndarray\n",
            "  return array(a, dtype, copy=False, order=order)\n",
            "<string>:6: RuntimeWarning: Converting input from bool to <class 'numpy.uint8'> for compatibility.\n",
            "<string>:6: RuntimeWarning: Converting input from bool to <class 'numpy.uint8'> for compatibility.\n"
          ],
          "name": "stderr"
        },
        {
          "output_type": "display_data",
          "data": {
            "image/png": "[encoded data removed]",
            "text/plain": [
              "<Figure size 432x288 with 1 Axes>"
            ]
          },
          "metadata": {
            "tags": [],
            "needs_background": "light"
          }
        },
        {
          "output_type": "stream",
          "text": [
            "\n"
          ],
          "name": "stdout"
        },
        {
          "output_type": "display_data",
          "data": {
            "image/png": "[encoded data removed]",
            "text/plain": [
              "<Figure size 432x288 with 2 Axes>"
            ]
          },
          "metadata": {
            "tags": []
          }
        }
      ]
    },
    {
      "cell_type": "code",
      "metadata": {
        "colab": {
          "base_uri": "https://localhost:8080/",
          "height": 1000
        },
        "id": "U4cXPz50xbtp",
        "outputId": "95f4919b-4f82-4f62-e52f-842a03f7b5ca"
      },
      "source": [
        "df.head(6)"
      ],
      "execution_count": null,
      "outputs": [
        {
          "output_type": "execute_result",
          "data": {
            "text/html": [
              "<div>\n",
              "<style scoped>\n",
              "    .dataframe tbody tr th:only-of-type {\n",
              "        vertical-align: middle;\n",
              "    }\n",
              "\n",
              "    .dataframe tbody tr th {\n",
              "        vertical-align: top;\n",
              "    }\n",
              "\n",
              "    .dataframe thead th {\n",
              "        text-align: right;\n",
              "    }\n",
              "</style>\n",
              "<table border=\"1\" class=\"dataframe\">\n",
              "  <thead>\n",
              "    <tr style=\"text-align: right;\">\n",
              "      <th></th>\n",
              "      <th>question</th>\n",
              "      <th>passage</th>\n",
              "      <th>label</th>\n",
              "      <th>idx</th>\n",
              "    </tr>\n",
              "  </thead>\n",
              "  <tbody>\n",
              "    <tr>\n",
              "      <th>0</th>\n",
              "      <td>Вднх - это выставочный центр?</td>\n",
              "      <td>«Вы́ставочный центр» — станция Московского монорельса. Расположена между станциями «Улица Академика Королёва» и «Улица Сергея Эйзенштейна». Находится на территории Останкинского района Северо-Восточного административного округа города Москвы. Переход на станцию  ВДНХ Калужско-Рижской линии. Названа в честь Всероссийского выставочного центра — названия ВДНХ с 1992 по 2014 год. 20 ноября 2004 года линия монорельса начала работать в «экскурсионном режиме» и перевезла первых пассажиров .</td>\n",
              "      <td>True</td>\n",
              "      <td>0</td>\n",
              "    </tr>\n",
              "    <tr>\n",
              "      <th>1</th>\n",
              "      <td>Вднх - это выставочный центр?</td>\n",
              "      <td>Вы́ставка достиже́ний наро́дного хозя́йства  , в 1959—1991 годах — Вы́ставка достиже́ний наро́дного хозя́йства СССР , в 1992—2014 годах — Всеросси́йский вы́ставочный центр ) — выставочный комплекс в Останкинском районе Северо-Восточного административного округа города Москвы, второй по величине выставочный комплекс в городе. Входит в 50 крупнейших выставочных центров мира. Ежегодно ВДНХ посещают 30 млн гостей. 1 августа 2019 года выставка отпраздновала 80-летний юбилей. Территориально ВДНХ объединена с парком «Останкино» и Главным ботаническим садом , их общая площадь составляет почти 700 га: 240,2 га — площадь ВДНХ, 75,6 га — площадь парка «Останкино», 361 га — площадь ГБС, 9,5 га музейно-выставочный центр «Рабочий и колхозница» и площадь перед аркой Главного входа. На территории Выставки расположено множество шедевров архитектуры — 49 объектов ВДНХ признаны памятниками культурного наследия.</td>\n",
              "      <td>True</td>\n",
              "      <td>1</td>\n",
              "    </tr>\n",
              "    <tr>\n",
              "      <th>2</th>\n",
              "      <td>Был ли джиган в black star?</td>\n",
              "      <td>Вместе с этим треком они выступили на церемонии вручения наград MTV RMA — это был первый выход Джигана на большую сцену. В 2007 году Джиган стал официальным артистом лейбла Black Star Inc., выпустил первый песню и клип «Одноклассница» — совместная работа с Тимати. В марте 2011 года появилась совместная с Юлей Савичевой композиция «Отпусти». Песня поднялась в радиочарте «Tophit» до 8 места и заняла первое место чарта Weekly Audience Choice Top Hit . Количество просмотров клипа на YouTube превысило 17 миллионов.</td>\n",
              "      <td>True</td>\n",
              "      <td>2</td>\n",
              "    </tr>\n",
              "    <tr>\n",
              "      <th>3</th>\n",
              "      <td>Xiaomi конкурент apple?</td>\n",
              "      <td>Xiaomi — китайская компания, основанная в 2010 году и занимающаяся выпуском электроники и бытовой техники, а также разработкой программного обеспечения. Основной продукцией компании являются смартфоны, первый из которых был выпущен в 2011 году. В настоящее время Xiaomi производит широкий ассортимент смартфонов в разных ценовых сегментах и является одним из крупнейших производителей смартфонов в мире. Так, в третьем квартале 2014 года эта компания заняла наивысшее для себя третье место в мире по поставкам смартфонов, набрав 5,2 % в штучном выражении и уступив лишь Samsung и Apple . За весь 2017 год компания заняла по продажам первое место в Китае и второе место в Индии. В данном списке приводятся все смартфоны, когда-либо выпущенные компанией Xiaomi.</td>\n",
              "      <td>True</td>\n",
              "      <td>3</td>\n",
              "    </tr>\n",
              "    <tr>\n",
              "      <th>4</th>\n",
              "      <td>Был ли автомат калашникова в вов?</td>\n",
              "      <td>Отметив некоторые недостатки и в целом удачную конструкцию, специалисты ГАУ не рекомендовали принимать ПП Калашникова на вооружение по технологическим причинам. Заключение гласило: С 1942 года Калашников работал на Центральном научно-исследовательском полигоне стрелкового и миномётного вооружения ГАУ РККА. Здесь в 1944 году он создал опытный образец самозарядного карабина, который, хотя и не вышел в серийное производство, частично послужил прототипом для создания автомата. С 1945 года Михаил Калашников начал разработку автоматического оружия под промежуточный патрон 7,62×39 образца 1943 года. Автомат Калашникова победил в конкурсе 1947 года и был принят на вооружение.</td>\n",
              "      <td>False</td>\n",
              "      <td>4</td>\n",
              "    </tr>\n",
              "    <tr>\n",
              "      <th>5</th>\n",
              "      <td>Может ли автомобиль ездить на газу?</td>\n",
              "      <td>Автомобиль на природном газе — один из видов автомобилей на альтернативном топливе — они используют компримированный природный газ  или сжиженный природный газ . К этому классу не относятся автомобили, использующие в качестве топлива пропан-бутановую смесь, так как это принципиально другая технология. Мировыми лидерами по количеству автомобилей на природном газе являются: Иран — 3,3 миллиона автомобилей, Пакистан — 3,1 миллиона автомобилей, Аргентина — 2,17 миллиона автомобилей, Бразилия — 1,73 миллиона автомобилей, Индия — 1,50 миллиона автомобилей. Азиатско-Тихоокеанский регион лидирует по количеству автомобилей на природном газе с 8,45 миллионами автомобилей, за ним идет Латинская Америка с 4,43 миллионами автомобилей. 90 % автомобилей на природном газе в Латинской Америке двухтопливные — они могут использовать в качестве моторного топлива как компримированный природный газ , так и бензин. Большинство автомобилей с бензиновым двигателем могут быть переоборудованы на использовани...</td>\n",
              "      <td>True</td>\n",
              "      <td>5</td>\n",
              "    </tr>\n",
              "  </tbody>\n",
              "</table>\n",
              "</div>"
            ],
            "text/plain": [
              "                              question  ... idx\n",
              "0        Вднх - это выставочный центр?  ...   0\n",
              "1        Вднх - это выставочный центр?  ...   1\n",
              "2          Был ли джиган в black star?  ...   2\n",
              "3              Xiaomi конкурент apple?  ...   3\n",
              "4    Был ли автомат калашникова в вов?  ...   4\n",
              "5  Может ли автомобиль ездить на газу?  ...   5\n",
              "\n",
              "[6 rows x 4 columns]"
            ]
          },
          "metadata": {
            "tags": []
          },
          "execution_count": 18
        }
      ]
    },
    {
      "cell_type": "markdown",
      "metadata": {
        "id": "HEn2LQjZvBMv"
      },
      "source": [
        "# True"
      ]
    },
    {
      "cell_type": "code",
      "metadata": {
        "colab": {
          "base_uri": "https://localhost:8080/",
          "height": 936
        },
        "id": "sD5Xw3QYvKi6",
        "outputId": "b3bab546-1164-454e-8ee1-9a28fef73493"
      },
      "source": [
        "df_true = df[(df['label'] == True)]\n",
        "df_true.head()"
      ],
      "execution_count": null,
      "outputs": [
        {
          "output_type": "execute_result",
          "data": {
            "text/html": [
              "<div>\n",
              "<style scoped>\n",
              "    .dataframe tbody tr th:only-of-type {\n",
              "        vertical-align: middle;\n",
              "    }\n",
              "\n",
              "    .dataframe tbody tr th {\n",
              "        vertical-align: top;\n",
              "    }\n",
              "\n",
              "    .dataframe thead th {\n",
              "        text-align: right;\n",
              "    }\n",
              "</style>\n",
              "<table border=\"1\" class=\"dataframe\">\n",
              "  <thead>\n",
              "    <tr style=\"text-align: right;\">\n",
              "      <th></th>\n",
              "      <th>question</th>\n",
              "      <th>passage</th>\n",
              "      <th>label</th>\n",
              "      <th>idx</th>\n",
              "    </tr>\n",
              "  </thead>\n",
              "  <tbody>\n",
              "    <tr>\n",
              "      <th>0</th>\n",
              "      <td>Вднх - это выставочный центр?</td>\n",
              "      <td>«Вы́ставочный центр» — станция Московского монорельса. Расположена между станциями «Улица Академика Королёва» и «Улица Сергея Эйзенштейна». Находится на территории Останкинского района Северо-Восточного административного округа города Москвы. Переход на станцию  ВДНХ Калужско-Рижской линии. Названа в честь Всероссийского выставочного центра — названия ВДНХ с 1992 по 2014 год. 20 ноября 2004 года линия монорельса начала работать в «экскурсионном режиме» и перевезла первых пассажиров .</td>\n",
              "      <td>True</td>\n",
              "      <td>0</td>\n",
              "    </tr>\n",
              "    <tr>\n",
              "      <th>1</th>\n",
              "      <td>Вднх - это выставочный центр?</td>\n",
              "      <td>Вы́ставка достиже́ний наро́дного хозя́йства  , в 1959—1991 годах — Вы́ставка достиже́ний наро́дного хозя́йства СССР , в 1992—2014 годах — Всеросси́йский вы́ставочный центр ) — выставочный комплекс в Останкинском районе Северо-Восточного административного округа города Москвы, второй по величине выставочный комплекс в городе. Входит в 50 крупнейших выставочных центров мира. Ежегодно ВДНХ посещают 30 млн гостей. 1 августа 2019 года выставка отпраздновала 80-летний юбилей. Территориально ВДНХ объединена с парком «Останкино» и Главным ботаническим садом , их общая площадь составляет почти 700 га: 240,2 га — площадь ВДНХ, 75,6 га — площадь парка «Останкино», 361 га — площадь ГБС, 9,5 га музейно-выставочный центр «Рабочий и колхозница» и площадь перед аркой Главного входа. На территории Выставки расположено множество шедевров архитектуры — 49 объектов ВДНХ признаны памятниками культурного наследия.</td>\n",
              "      <td>True</td>\n",
              "      <td>1</td>\n",
              "    </tr>\n",
              "    <tr>\n",
              "      <th>2</th>\n",
              "      <td>Был ли джиган в black star?</td>\n",
              "      <td>Вместе с этим треком они выступили на церемонии вручения наград MTV RMA — это был первый выход Джигана на большую сцену. В 2007 году Джиган стал официальным артистом лейбла Black Star Inc., выпустил первый песню и клип «Одноклассница» — совместная работа с Тимати. В марте 2011 года появилась совместная с Юлей Савичевой композиция «Отпусти». Песня поднялась в радиочарте «Tophit» до 8 места и заняла первое место чарта Weekly Audience Choice Top Hit . Количество просмотров клипа на YouTube превысило 17 миллионов.</td>\n",
              "      <td>True</td>\n",
              "      <td>2</td>\n",
              "    </tr>\n",
              "    <tr>\n",
              "      <th>3</th>\n",
              "      <td>Xiaomi конкурент apple?</td>\n",
              "      <td>Xiaomi — китайская компания, основанная в 2010 году и занимающаяся выпуском электроники и бытовой техники, а также разработкой программного обеспечения. Основной продукцией компании являются смартфоны, первый из которых был выпущен в 2011 году. В настоящее время Xiaomi производит широкий ассортимент смартфонов в разных ценовых сегментах и является одним из крупнейших производителей смартфонов в мире. Так, в третьем квартале 2014 года эта компания заняла наивысшее для себя третье место в мире по поставкам смартфонов, набрав 5,2 % в штучном выражении и уступив лишь Samsung и Apple . За весь 2017 год компания заняла по продажам первое место в Китае и второе место в Индии. В данном списке приводятся все смартфоны, когда-либо выпущенные компанией Xiaomi.</td>\n",
              "      <td>True</td>\n",
              "      <td>3</td>\n",
              "    </tr>\n",
              "    <tr>\n",
              "      <th>5</th>\n",
              "      <td>Может ли автомобиль ездить на газу?</td>\n",
              "      <td>Автомобиль на природном газе — один из видов автомобилей на альтернативном топливе — они используют компримированный природный газ  или сжиженный природный газ . К этому классу не относятся автомобили, использующие в качестве топлива пропан-бутановую смесь, так как это принципиально другая технология. Мировыми лидерами по количеству автомобилей на природном газе являются: Иран — 3,3 миллиона автомобилей, Пакистан — 3,1 миллиона автомобилей, Аргентина — 2,17 миллиона автомобилей, Бразилия — 1,73 миллиона автомобилей, Индия — 1,50 миллиона автомобилей. Азиатско-Тихоокеанский регион лидирует по количеству автомобилей на природном газе с 8,45 миллионами автомобилей, за ним идет Латинская Америка с 4,43 миллионами автомобилей. 90 % автомобилей на природном газе в Латинской Америке двухтопливные — они могут использовать в качестве моторного топлива как компримированный природный газ , так и бензин. Большинство автомобилей с бензиновым двигателем могут быть переоборудованы на использовани...</td>\n",
              "      <td>True</td>\n",
              "      <td>5</td>\n",
              "    </tr>\n",
              "  </tbody>\n",
              "</table>\n",
              "</div>"
            ],
            "text/plain": [
              "                              question  ... idx\n",
              "0        Вднх - это выставочный центр?  ...   0\n",
              "1        Вднх - это выставочный центр?  ...   1\n",
              "2          Был ли джиган в black star?  ...   2\n",
              "3              Xiaomi конкурент apple?  ...   3\n",
              "5  Может ли автомобиль ездить на газу?  ...   5\n",
              "\n",
              "[5 rows x 4 columns]"
            ]
          },
          "metadata": {
            "tags": []
          },
          "execution_count": 21
        }
      ]
    },
    {
      "cell_type": "markdown",
      "metadata": {
        "id": "zC_KAI7zNSue"
      },
      "source": [
        "# False"
      ]
    },
    {
      "cell_type": "code",
      "metadata": {
        "id": "eD-K4mNHRZlC",
        "colab": {
          "base_uri": "https://localhost:8080/",
          "height": 901
        },
        "outputId": "57ce33ad-d6d8-4034-878a-260a6a045a9f"
      },
      "source": [
        "df_false = df[(df['label'] != True)]\n",
        "df_false.head()"
      ],
      "execution_count": null,
      "outputs": [
        {
          "output_type": "execute_result",
          "data": {
            "text/html": [
              "<div>\n",
              "<style scoped>\n",
              "    .dataframe tbody tr th:only-of-type {\n",
              "        vertical-align: middle;\n",
              "    }\n",
              "\n",
              "    .dataframe tbody tr th {\n",
              "        vertical-align: top;\n",
              "    }\n",
              "\n",
              "    .dataframe thead th {\n",
              "        text-align: right;\n",
              "    }\n",
              "</style>\n",
              "<table border=\"1\" class=\"dataframe\">\n",
              "  <thead>\n",
              "    <tr style=\"text-align: right;\">\n",
              "      <th></th>\n",
              "      <th>question</th>\n",
              "      <th>passage</th>\n",
              "      <th>label</th>\n",
              "      <th>idx</th>\n",
              "    </tr>\n",
              "  </thead>\n",
              "  <tbody>\n",
              "    <tr>\n",
              "      <th>4</th>\n",
              "      <td>Был ли автомат калашникова в вов?</td>\n",
              "      <td>Отметив некоторые недостатки и в целом удачную конструкцию, специалисты ГАУ не рекомендовали принимать ПП Калашникова на вооружение по технологическим причинам. Заключение гласило: С 1942 года Калашников работал на Центральном научно-исследовательском полигоне стрелкового и миномётного вооружения ГАУ РККА. Здесь в 1944 году он создал опытный образец самозарядного карабина, который, хотя и не вышел в серийное производство, частично послужил прототипом для создания автомата. С 1945 года Михаил Калашников начал разработку автоматического оружия под промежуточный патрон 7,62×39 образца 1943 года. Автомат Калашникова победил в конкурсе 1947 года и был принят на вооружение.</td>\n",
              "      <td>False</td>\n",
              "      <td>4</td>\n",
              "    </tr>\n",
              "    <tr>\n",
              "      <th>13</th>\n",
              "      <td>Был ли ссср участником бернской конвенции?</td>\n",
              "      <td>Бе́рнская конве́нция по охра́не литерату́рных и худо́жественных произведе́ний   — международное соглашение в области авторского права, принятое в Берне, Швейцария в 1886 году. Является ключевым международным соглашением в этой области. В настоящее время администрируется Всемирной организацией интеллектуальной собственности. Бернская конвенция была принята 9 сентября 1886 года в Берне, Швейцария. Первыми участниками конвенции были: Бельгия, Германия, Франция, Испания, Великобритания, Тунис и Швейцария.</td>\n",
              "      <td>False</td>\n",
              "      <td>13</td>\n",
              "    </tr>\n",
              "    <tr>\n",
              "      <th>14</th>\n",
              "      <td>Был ли ссср участником бернской конвенции?</td>\n",
              "      <td>Российская империя планировала присоединиться к Бернской конвенции в начале XX века, но, согласно Стояновичу, это не было реализовано из-за начала Первой мировой войны. После Октябрьской революции Советский Союз изначально вообще не имел международных обязательств в сфере авторского права. Во время проведения новой экономической политики  советское правительство неудачно пыталось заключить новые двусторонние соглашения с Великобританией, Германией и Италией. После этих провалившихся попыток СССР сохранял изоляционистскую политику в сфере авторского права до конца 1960-х годов. Первое двустороннее соглашение с Венгрией вступило в силу 17 ноября 1967 года, а 8 октября 1971 года последовало двустороннее соглашение с Болгарией.</td>\n",
              "      <td>False</td>\n",
              "      <td>14</td>\n",
              "    </tr>\n",
              "    <tr>\n",
              "      <th>16</th>\n",
              "      <td>Правда ли что слоны боятся мышей?</td>\n",
              "      <td>Слоновые хорошо слышат в области низких частот, вплоть до инфразвука, но наибольшая чувствительность их слуха на частоте около 1 кГц. Слоны обладают музыкальным слухом и музыкальной памятью, способны различать мелодии из трёх нот, музыку на скрипке и низкие звуки баса и рога предпочитают высоким флейтовым мелодиям. Также, вопреки распространённому заблуждению, слоны абсолютно не боятся мышей и других мелких животных.Слоны — социальные животные. Обычно они образуют группы из самок и детёнышей, возглавляемых старой и опытной самкой. Самцы образуют отдельные стада.</td>\n",
              "      <td>False</td>\n",
              "      <td>16</td>\n",
              "    </tr>\n",
              "    <tr>\n",
              "      <th>21</th>\n",
              "      <td>Был ли бриллиант на титанике?</td>\n",
              "      <td>5 апреля 2012 года, в год 100-летия легендарной катастрофы и 15-летия выпуска фильма состоялась премьера этого фильма в формате 3D и IMAX 3D. В 2017 году фильм был выбран для сохранения в Национальном реестре фильмов США. В 1996 году охотник за сокровищами Брок Лаветт и его команда на научно-исследовательском судне «Академик Мстислав Келдыш» на глубоководных батискафах «Мир-1» и «Мир-2» погружаются на дно Атлантического океана, где покоятся останки лайнера «Титаник», затонувшего 15 апреля 1912 года. Они обнаруживают сейф, в котором, по предположению Лаветта, должно находиться ожерелье с голубым бриллиантом, известное как «Сердце океана». В начале XX века один питтсбургский Ротшильд Натан Хокли приобрёл его для своего сына-промышленника Каледона, который подарил ожерелье в качестве свадебного подарка своей невесте — англичанке Розе Дьюитт Бьюкейтер, вместе с которой он плыл на «Титанике» в США, где они должны были пожениться.</td>\n",
              "      <td>False</td>\n",
              "      <td>21</td>\n",
              "    </tr>\n",
              "  </tbody>\n",
              "</table>\n",
              "</div>"
            ],
            "text/plain": [
              "                                      question  ... idx\n",
              "4            Был ли автомат калашникова в вов?  ...   4\n",
              "13  Был ли ссср участником бернской конвенции?  ...  13\n",
              "14  Был ли ссср участником бернской конвенции?  ...  14\n",
              "16           Правда ли что слоны боятся мышей?  ...  16\n",
              "21               Был ли бриллиант на титанике?  ...  21\n",
              "\n",
              "[5 rows x 4 columns]"
            ]
          },
          "metadata": {
            "tags": []
          },
          "execution_count": 22
        }
      ]
    },
    {
      "cell_type": "markdown",
      "metadata": {
        "id": "0JrR_-02pdsl"
      },
      "source": [
        "# Feature analysis"
      ]
    },
    {
      "cell_type": "code",
      "metadata": {
        "id": "qtY39BisphF0",
        "colab": {
          "base_uri": "https://localhost:8080/"
        },
        "outputId": "170f507c-8719-43ae-dd35-e62dc44b67ae"
      },
      "source": [
        "!pip install eli5\r\n",
        "import numpy as np\r\n",
        "import eli5\r\n",
        "from sklearn.feature_extraction.text import CountVectorizer, TfidfVectorizer\r\n",
        "from sklearn.linear_model import LogisticRegression\r\n",
        "from sklearn.naive_bayes import MultinomialNB\r\n",
        "from sklearn.model_selection import train_test_split\r\n",
        "from sklearn.metrics import classification_report, accuracy_score, f1_score\r\n",
        "from sklearn.metrics.pairwise import cosine_distances, cosine_similarity\r\n",
        "from sklearn.model_selection import GridSearchCV\r\n",
        "from sklearn.model_selection import cross_val_score"
      ],
      "execution_count": 14,
      "outputs": [
        {
          "output_type": "stream",
          "text": [
            "Collecting eli5\n",
            "\u001b[?25l  Downloading https://files.pythonhosted.org/packages/97/2f/c85c7d8f8548e460829971785347e14e45fa5c6617da374711dec8cb38cc/eli5-0.10.1-py2.py3-none-any.whl (105kB)\n",
            "\r\u001b[K     |███                             | 10kB 15.6MB/s eta 0:00:01\r\u001b[K     |██████▏                         | 20kB 8.2MB/s eta 0:00:01\r\u001b[K     |█████████▎                      | 30kB 7.6MB/s eta 0:00:01\r\u001b[K     |████████████▍                   | 40kB 7.3MB/s eta 0:00:01\r\u001b[K     |███████████████▌                | 51kB 4.2MB/s eta 0:00:01\r\u001b[K     |██████████████████▋             | 61kB 4.0MB/s eta 0:00:01\r\u001b[K     |█████████████████████▊          | 71kB 4.6MB/s eta 0:00:01\r\u001b[K     |████████████████████████▊       | 81kB 4.7MB/s eta 0:00:01\r\u001b[K     |███████████████████████████▉    | 92kB 5.1MB/s eta 0:00:01\r\u001b[K     |███████████████████████████████ | 102kB 4.2MB/s eta 0:00:01\r\u001b[K     |████████████████████████████████| 112kB 4.2MB/s \n",
            "\u001b[?25hRequirement already satisfied: six in /usr/local/lib/python3.6/dist-packages (from eli5) (1.15.0)\n",
            "Requirement already satisfied: scikit-learn>=0.18 in /usr/local/lib/python3.6/dist-packages (from eli5) (0.22.2.post1)\n",
            "Requirement already satisfied: tabulate>=0.7.7 in /usr/local/lib/python3.6/dist-packages (from eli5) (0.8.7)\n",
            "Requirement already satisfied: scipy in /usr/local/lib/python3.6/dist-packages (from eli5) (1.4.1)\n",
            "Requirement already satisfied: jinja2 in /usr/local/lib/python3.6/dist-packages (from eli5) (2.11.2)\n",
            "Requirement already satisfied: numpy>=1.9.0 in /usr/local/lib/python3.6/dist-packages (from eli5) (1.19.4)\n",
            "Requirement already satisfied: graphviz in /usr/local/lib/python3.6/dist-packages (from eli5) (0.10.1)\n",
            "Requirement already satisfied: attrs>16.0.0 in /usr/local/lib/python3.6/dist-packages (from eli5) (20.3.0)\n",
            "Requirement already satisfied: joblib>=0.11 in /usr/local/lib/python3.6/dist-packages (from scikit-learn>=0.18->eli5) (1.0.0)\n",
            "Requirement already satisfied: MarkupSafe>=0.23 in /usr/local/lib/python3.6/dist-packages (from jinja2->eli5) (1.1.1)\n",
            "Installing collected packages: eli5\n",
            "Successfully installed eli5-0.10.1\n"
          ],
          "name": "stdout"
        },
        {
          "output_type": "stream",
          "text": [
            "/usr/local/lib/python3.6/dist-packages/sklearn/utils/deprecation.py:144: FutureWarning: The sklearn.metrics.scorer module is  deprecated in version 0.22 and will be removed in version 0.24. The corresponding classes / functions should instead be imported from sklearn.metrics. Anything that cannot be imported from sklearn.metrics is now part of the private API.\n",
            "  warnings.warn(message, FutureWarning)\n",
            "/usr/local/lib/python3.6/dist-packages/sklearn/utils/deprecation.py:144: FutureWarning: The sklearn.feature_selection.base module is  deprecated in version 0.22 and will be removed in version 0.24. The corresponding classes / functions should instead be imported from sklearn.feature_selection. Anything that cannot be imported from sklearn.feature_selection is now part of the private API.\n",
            "  warnings.warn(message, FutureWarning)\n"
          ],
          "name": "stderr"
        }
      ]
    },
    {
      "cell_type": "code",
      "metadata": {
        "id": "W-7mePOZpkv-"
      },
      "source": [
        "data = pd.DataFrame({'passage': df.passage, 'label': df.label})"
      ],
      "execution_count": 13,
      "outputs": []
    },
    {
      "cell_type": "code",
      "metadata": {
        "id": "XiPikj9E2MhF"
      },
      "source": [
        "train, test = train_test_split(data, test_size = 0.2, random_state=21)"
      ],
      "execution_count": 16,
      "outputs": []
    },
    {
      "cell_type": "code",
      "metadata": {
        "id": "HvWANhqr2T4z"
      },
      "source": [
        "vectorizer = TfidfVectorizer()\r\n",
        "X_train = vectorizer.fit_transform(train.passage)\r\n",
        "X_test = vectorizer.transform(test.passage)\r\n",
        "\r\n",
        "y_train = train.label.values\r\n",
        "y_test = test.label.values\r\n",
        "\r\n",
        "X_train_da = X_train.toarray()\r\n",
        "X_test_da = X_test.toarray()\r\n",
        "\r\n",
        "handler = JSONL_handler('data/DaNetQA/val.jsonl')\r\n",
        "df1 = handler.to_pandas()\r\n",
        "data_val = pd.DataFrame({'passage': df1.passage, 'label': df1.label})\r\n",
        "\r\n",
        "X_val = vectorizer.transform(data_val.passage).toarray()\r\n",
        "y_val = data_val.label\r\n",
        "\r\n",
        "X = vectorizer.transform(data.passage).toarray()\r\n",
        "y = data.label"
      ],
      "execution_count": 17,
      "outputs": []
    },
    {
      "cell_type": "code",
      "metadata": {
        "colab": {
          "base_uri": "https://localhost:8080/"
        },
        "id": "IZA6vuth2hM4",
        "outputId": "f5d41188-0026-480d-a621-1ea16c96dc83"
      },
      "source": [
        "from sklearn.linear_model import LogisticRegression, SGDClassifier\r\n",
        "clf = SGDClassifier(loss=\"log\", n_jobs=-1, alpha=0.0001, class_weight='balanced', random_state=0)\r\n",
        "clf.fit(X_train, y_train)\r\n",
        "y_pred = clf.predict(X_test)\r\n",
        "\r\n",
        "# Compute and print metrics\r\n",
        "print(\"Accuracy: {}\".format(clf.score(X_test, y_test)))\r\n",
        "print(classification_report(y_test, y_pred))"
      ],
      "execution_count": 34,
      "outputs": [
        {
          "output_type": "stream",
          "text": [
            "Accuracy: 0.7085714285714285\n",
            "              precision    recall  f1-score   support\n",
            "\n",
            "       False       0.65      0.62      0.63       143\n",
            "        True       0.74      0.77      0.76       207\n",
            "\n",
            "    accuracy                           0.71       350\n",
            "   macro avg       0.70      0.69      0.70       350\n",
            "weighted avg       0.71      0.71      0.71       350\n",
            "\n"
          ],
          "name": "stdout"
        }
      ]
    },
    {
      "cell_type": "code",
      "metadata": {
        "colab": {
          "base_uri": "https://localhost:8080/"
        },
        "id": "sCcYejwO2kyX",
        "outputId": "f02bce24-67b0-48d1-92a4-300d5f30db99"
      },
      "source": [
        "clf.fit(X, y)\r\n",
        "y_pred = clf.predict(X_val)\r\n",
        "\r\n",
        "# Compute and print metrics\r\n",
        "print(\"Accuracy: {}\".format(clf.score(X_val, y_val)))\r\n",
        "print(classification_report(y_val, y_pred))"
      ],
      "execution_count": 35,
      "outputs": [
        {
          "output_type": "stream",
          "text": [
            "Accuracy: 0.561510353227771\n",
            "              precision    recall  f1-score   support\n",
            "\n",
            "       False       0.64      0.27      0.38       409\n",
            "        True       0.54      0.85      0.66       412\n",
            "\n",
            "    accuracy                           0.56       821\n",
            "   macro avg       0.59      0.56      0.52       821\n",
            "weighted avg       0.59      0.56      0.52       821\n",
            "\n"
          ],
          "name": "stdout"
        }
      ]
    },
    {
      "cell_type": "code",
      "metadata": {
        "colab": {
          "base_uri": "https://localhost:8080/",
          "height": 906
        },
        "id": "71I3HPos3AO7",
        "outputId": "ef983470-4c62-471d-b67d-0ed4216bc0f9"
      },
      "source": [
        "eli5.show_weights(clf, top=45, feature_names=vectorizer.get_feature_names())"
      ],
      "execution_count": 36,
      "outputs": [
        {
          "output_type": "execute_result",
          "data": {
            "text/html": [
              "\n",
              "    <style>\n",
              "    table.eli5-weights tr:hover {\n",
              "        filter: brightness(85%);\n",
              "    }\n",
              "</style>\n",
              "\n",
              "\n",
              "\n",
              "    \n",
              "\n",
              "    \n",
              "\n",
              "    \n",
              "\n",
              "    \n",
              "\n",
              "    \n",
              "\n",
              "    \n",
              "\n",
              "\n",
              "    \n",
              "\n",
              "    \n",
              "\n",
              "    \n",
              "\n",
              "    \n",
              "        \n",
              "\n",
              "    \n",
              "\n",
              "        \n",
              "            \n",
              "                \n",
              "                \n",
              "    \n",
              "        <p style=\"margin-bottom: 0.5em; margin-top: 0em\">\n",
              "            <b>\n",
              "    \n",
              "        y=True\n",
              "    \n",
              "</b>\n",
              "\n",
              "top features\n",
              "        </p>\n",
              "    \n",
              "    <table class=\"eli5-weights\"\n",
              "           style=\"border-collapse: collapse; border: none; margin-top: 0em; table-layout: auto; margin-bottom: 2em;\">\n",
              "        <thead>\n",
              "        <tr style=\"border: none;\">\n",
              "            \n",
              "                <th style=\"padding: 0 1em 0 0.5em; text-align: right; border: none;\" title=\"Feature weights. Note that weights do not account for feature value scales, so if feature values have different scales, features with highest weights might not be the most important.\">\n",
              "                    Weight<sup>?</sup>\n",
              "                </th>\n",
              "            \n",
              "            <th style=\"padding: 0 0.5em 0 0.5em; text-align: left; border: none;\">Feature</th>\n",
              "            \n",
              "        </tr>\n",
              "        </thead>\n",
              "        <tbody>\n",
              "        \n",
              "            <tr style=\"background-color: hsl(120, 100.00%, 92.20%); border: none;\">\n",
              "    <td style=\"padding: 0 1em 0 0.5em; text-align: right; border: none;\">\n",
              "        +2.477\n",
              "    </td>\n",
              "    <td style=\"padding: 0 0.5em 0 0.5em; text-align: left; border: none;\">\n",
              "        человек\n",
              "    </td>\n",
              "    \n",
              "</tr>\n",
              "        \n",
              "            <tr style=\"background-color: hsl(120, 100.00%, 92.97%); border: none;\">\n",
              "    <td style=\"padding: 0 1em 0 0.5em; text-align: right; border: none;\">\n",
              "        +2.138\n",
              "    </td>\n",
              "    <td style=\"padding: 0 0.5em 0 0.5em; text-align: left; border: none;\">\n",
              "        людей\n",
              "    </td>\n",
              "    \n",
              "</tr>\n",
              "        \n",
              "            <tr style=\"background-color: hsl(120, 100.00%, 92.98%); border: none;\">\n",
              "    <td style=\"padding: 0 1em 0 0.5em; text-align: right; border: none;\">\n",
              "        +2.131\n",
              "    </td>\n",
              "    <td style=\"padding: 0 0.5em 0 0.5em; text-align: left; border: none;\">\n",
              "        истории\n",
              "    </td>\n",
              "    \n",
              "</tr>\n",
              "        \n",
              "            <tr style=\"background-color: hsl(120, 100.00%, 93.47%); border: none;\">\n",
              "    <td style=\"padding: 0 1em 0 0.5em; text-align: right; border: none;\">\n",
              "        +1.924\n",
              "    </td>\n",
              "    <td style=\"padding: 0 0.5em 0 0.5em; text-align: left; border: none;\">\n",
              "        ссср\n",
              "    </td>\n",
              "    \n",
              "</tr>\n",
              "        \n",
              "            <tr style=\"background-color: hsl(120, 100.00%, 93.49%); border: none;\">\n",
              "    <td style=\"padding: 0 1em 0 0.5em; text-align: right; border: none;\">\n",
              "        +1.915\n",
              "    </td>\n",
              "    <td style=\"padding: 0 0.5em 0 0.5em; text-align: left; border: none;\">\n",
              "        войны\n",
              "    </td>\n",
              "    \n",
              "</tr>\n",
              "        \n",
              "            <tr style=\"background-color: hsl(120, 100.00%, 93.51%); border: none;\">\n",
              "    <td style=\"padding: 0 1em 0 0.5em; text-align: right; border: none;\">\n",
              "        +1.905\n",
              "    </td>\n",
              "    <td style=\"padding: 0 0.5em 0 0.5em; text-align: left; border: none;\">\n",
              "        17\n",
              "    </td>\n",
              "    \n",
              "</tr>\n",
              "        \n",
              "            <tr style=\"background-color: hsl(120, 100.00%, 93.55%); border: none;\">\n",
              "    <td style=\"padding: 0 1em 0 0.5em; text-align: right; border: none;\">\n",
              "        +1.892\n",
              "    </td>\n",
              "    <td style=\"padding: 0 0.5em 0 0.5em; text-align: left; border: none;\">\n",
              "        хвост\n",
              "    </td>\n",
              "    \n",
              "</tr>\n",
              "        \n",
              "            <tr style=\"background-color: hsl(120, 100.00%, 93.90%); border: none;\">\n",
              "    <td style=\"padding: 0 1em 0 0.5em; text-align: right; border: none;\">\n",
              "        +1.745\n",
              "    </td>\n",
              "    <td style=\"padding: 0 0.5em 0 0.5em; text-align: left; border: none;\">\n",
              "        великой\n",
              "    </td>\n",
              "    \n",
              "</tr>\n",
              "        \n",
              "            <tr style=\"background-color: hsl(120, 100.00%, 93.91%); border: none;\">\n",
              "    <td style=\"padding: 0 1em 0 0.5em; text-align: right; border: none;\">\n",
              "        +1.740\n",
              "    </td>\n",
              "    <td style=\"padding: 0 0.5em 0 0.5em; text-align: left; border: none;\">\n",
              "        город\n",
              "    </td>\n",
              "    \n",
              "</tr>\n",
              "        \n",
              "            <tr style=\"background-color: hsl(120, 100.00%, 93.99%); border: none;\">\n",
              "    <td style=\"padding: 0 1em 0 0.5em; text-align: right; border: none;\">\n",
              "        +1.710\n",
              "    </td>\n",
              "    <td style=\"padding: 0 0.5em 0 0.5em; text-align: left; border: none;\">\n",
              "        хорошо\n",
              "    </td>\n",
              "    \n",
              "</tr>\n",
              "        \n",
              "            <tr style=\"background-color: hsl(120, 100.00%, 93.99%); border: none;\">\n",
              "    <td style=\"padding: 0 1em 0 0.5em; text-align: right; border: none;\">\n",
              "        +1.707\n",
              "    </td>\n",
              "    <td style=\"padding: 0 0.5em 0 0.5em; text-align: left; border: none;\">\n",
              "        до\n",
              "    </td>\n",
              "    \n",
              "</tr>\n",
              "        \n",
              "            <tr style=\"background-color: hsl(120, 100.00%, 94.19%); border: none;\">\n",
              "    <td style=\"padding: 0 1em 0 0.5em; text-align: right; border: none;\">\n",
              "        +1.629\n",
              "    </td>\n",
              "    <td style=\"padding: 0 0.5em 0 0.5em; text-align: left; border: none;\">\n",
              "        человека\n",
              "    </td>\n",
              "    \n",
              "</tr>\n",
              "        \n",
              "            <tr style=\"background-color: hsl(120, 100.00%, 94.32%); border: none;\">\n",
              "    <td style=\"padding: 0 1em 0 0.5em; text-align: right; border: none;\">\n",
              "        +1.575\n",
              "    </td>\n",
              "    <td style=\"padding: 0 0.5em 0 0.5em; text-align: left; border: none;\">\n",
              "        россии\n",
              "    </td>\n",
              "    \n",
              "</tr>\n",
              "        \n",
              "            <tr style=\"background-color: hsl(120, 100.00%, 94.36%); border: none;\">\n",
              "    <td style=\"padding: 0 1em 0 0.5em; text-align: right; border: none;\">\n",
              "        +1.559\n",
              "    </td>\n",
              "    <td style=\"padding: 0 0.5em 0 0.5em; text-align: left; border: none;\">\n",
              "        европы\n",
              "    </td>\n",
              "    \n",
              "</tr>\n",
              "        \n",
              "            <tr style=\"background-color: hsl(120, 100.00%, 94.45%); border: none;\">\n",
              "    <td style=\"padding: 0 1em 0 0.5em; text-align: right; border: none;\">\n",
              "        +1.523\n",
              "    </td>\n",
              "    <td style=\"padding: 0 0.5em 0 0.5em; text-align: left; border: none;\">\n",
              "        мире\n",
              "    </td>\n",
              "    \n",
              "</tr>\n",
              "        \n",
              "            <tr style=\"background-color: hsl(120, 100.00%, 94.46%); border: none;\">\n",
              "    <td style=\"padding: 0 1em 0 0.5em; text-align: right; border: none;\">\n",
              "        +1.522\n",
              "    </td>\n",
              "    <td style=\"padding: 0 0.5em 0 0.5em; text-align: left; border: none;\">\n",
              "        первый\n",
              "    </td>\n",
              "    \n",
              "</tr>\n",
              "        \n",
              "            <tr style=\"background-color: hsl(120, 100.00%, 94.47%); border: none;\">\n",
              "    <td style=\"padding: 0 1em 0 0.5em; text-align: right; border: none;\">\n",
              "        +1.518\n",
              "    </td>\n",
              "    <td style=\"padding: 0 0.5em 0 0.5em; text-align: left; border: none;\">\n",
              "        дни\n",
              "    </td>\n",
              "    \n",
              "</tr>\n",
              "        \n",
              "            <tr style=\"background-color: hsl(120, 100.00%, 94.52%); border: none;\">\n",
              "    <td style=\"padding: 0 1em 0 0.5em; text-align: right; border: none;\">\n",
              "        +1.497\n",
              "    </td>\n",
              "    <td style=\"padding: 0 0.5em 0 0.5em; text-align: left; border: none;\">\n",
              "        северной\n",
              "    </td>\n",
              "    \n",
              "</tr>\n",
              "        \n",
              "        \n",
              "            <tr style=\"background-color: hsl(120, 100.00%, 94.52%); border: none;\">\n",
              "                <td colspan=\"2\" style=\"padding: 0 0.5em 0 0.5em; text-align: center; border: none; white-space: nowrap;\">\n",
              "                    <i>&hellip; 20313 more positive &hellip;</i>\n",
              "                </td>\n",
              "            </tr>\n",
              "        \n",
              "\n",
              "        \n",
              "            <tr style=\"background-color: hsl(0, 100.00%, 94.51%); border: none;\">\n",
              "                <td colspan=\"2\" style=\"padding: 0 0.5em 0 0.5em; text-align: center; border: none; white-space: nowrap;\">\n",
              "                    <i>&hellip; 15673 more negative &hellip;</i>\n",
              "                </td>\n",
              "            </tr>\n",
              "        \n",
              "        \n",
              "            <tr style=\"background-color: hsl(0, 100.00%, 94.51%); border: none;\">\n",
              "    <td style=\"padding: 0 1em 0 0.5em; text-align: right; border: none;\">\n",
              "        -1.503\n",
              "    </td>\n",
              "    <td style=\"padding: 0 0.5em 0 0.5em; text-align: left; border: none;\">\n",
              "        общества\n",
              "    </td>\n",
              "    \n",
              "</tr>\n",
              "        \n",
              "            <tr style=\"background-color: hsl(0, 100.00%, 94.46%); border: none;\">\n",
              "    <td style=\"padding: 0 1em 0 0.5em; text-align: right; border: none;\">\n",
              "        -1.519\n",
              "    </td>\n",
              "    <td style=\"padding: 0 0.5em 0 0.5em; text-align: left; border: none;\">\n",
              "        правила\n",
              "    </td>\n",
              "    \n",
              "</tr>\n",
              "        \n",
              "            <tr style=\"background-color: hsl(0, 100.00%, 94.46%); border: none;\">\n",
              "    <td style=\"padding: 0 1em 0 0.5em; text-align: right; border: none;\">\n",
              "        -1.520\n",
              "    </td>\n",
              "    <td style=\"padding: 0 0.5em 0 0.5em; text-align: left; border: none;\">\n",
              "        значение\n",
              "    </td>\n",
              "    \n",
              "</tr>\n",
              "        \n",
              "            <tr style=\"background-color: hsl(0, 100.00%, 94.44%); border: none;\">\n",
              "    <td style=\"padding: 0 1em 0 0.5em; text-align: right; border: none;\">\n",
              "        -1.528\n",
              "    </td>\n",
              "    <td style=\"padding: 0 0.5em 0 0.5em; text-align: left; border: none;\">\n",
              "        снг\n",
              "    </td>\n",
              "    \n",
              "</tr>\n",
              "        \n",
              "            <tr style=\"background-color: hsl(0, 100.00%, 94.38%); border: none;\">\n",
              "    <td style=\"padding: 0 1em 0 0.5em; text-align: right; border: none;\">\n",
              "        -1.552\n",
              "    </td>\n",
              "    <td style=\"padding: 0 0.5em 0 0.5em; text-align: left; border: none;\">\n",
              "        друг\n",
              "    </td>\n",
              "    \n",
              "</tr>\n",
              "        \n",
              "            <tr style=\"background-color: hsl(0, 100.00%, 94.37%); border: none;\">\n",
              "    <td style=\"padding: 0 1em 0 0.5em; text-align: right; border: none;\">\n",
              "        -1.556\n",
              "    </td>\n",
              "    <td style=\"padding: 0 0.5em 0 0.5em; text-align: left; border: none;\">\n",
              "        иванов\n",
              "    </td>\n",
              "    \n",
              "</tr>\n",
              "        \n",
              "            <tr style=\"background-color: hsl(0, 100.00%, 94.32%); border: none;\">\n",
              "    <td style=\"padding: 0 1em 0 0.5em; text-align: right; border: none;\">\n",
              "        -1.577\n",
              "    </td>\n",
              "    <td style=\"padding: 0 0.5em 0 0.5em; text-align: left; border: none;\">\n",
              "        роль\n",
              "    </td>\n",
              "    \n",
              "</tr>\n",
              "        \n",
              "            <tr style=\"background-color: hsl(0, 100.00%, 94.21%); border: none;\">\n",
              "    <td style=\"padding: 0 1em 0 0.5em; text-align: right; border: none;\">\n",
              "        -1.621\n",
              "    </td>\n",
              "    <td style=\"padding: 0 0.5em 0 0.5em; text-align: left; border: none;\">\n",
              "        плоды\n",
              "    </td>\n",
              "    \n",
              "</tr>\n",
              "        \n",
              "            <tr style=\"background-color: hsl(0, 100.00%, 94.05%); border: none;\">\n",
              "    <td style=\"padding: 0 1em 0 0.5em; text-align: right; border: none;\">\n",
              "        -1.686\n",
              "    </td>\n",
              "    <td style=\"padding: 0 0.5em 0 0.5em; text-align: left; border: none;\">\n",
              "        лишь\n",
              "    </td>\n",
              "    \n",
              "</tr>\n",
              "        \n",
              "            <tr style=\"background-color: hsl(0, 100.00%, 93.95%); border: none;\">\n",
              "    <td style=\"padding: 0 1em 0 0.5em; text-align: right; border: none;\">\n",
              "        -1.723\n",
              "    </td>\n",
              "    <td style=\"padding: 0 0.5em 0 0.5em; text-align: left; border: none;\">\n",
              "        нато\n",
              "    </td>\n",
              "    \n",
              "</tr>\n",
              "        \n",
              "            <tr style=\"background-color: hsl(0, 100.00%, 93.79%); border: none;\">\n",
              "    <td style=\"padding: 0 1em 0 0.5em; text-align: right; border: none;\">\n",
              "        -1.792\n",
              "    </td>\n",
              "    <td style=\"padding: 0 0.5em 0 0.5em; text-align: left; border: none;\">\n",
              "        но\n",
              "    </td>\n",
              "    \n",
              "</tr>\n",
              "        \n",
              "            <tr style=\"background-color: hsl(0, 100.00%, 93.72%); border: none;\">\n",
              "    <td style=\"padding: 0 1em 0 0.5em; text-align: right; border: none;\">\n",
              "        -1.821\n",
              "    </td>\n",
              "    <td style=\"padding: 0 0.5em 0 0.5em; text-align: left; border: none;\">\n",
              "        отсутствует\n",
              "    </td>\n",
              "    \n",
              "</tr>\n",
              "        \n",
              "            <tr style=\"background-color: hsl(0, 100.00%, 93.66%); border: none;\">\n",
              "    <td style=\"padding: 0 1em 0 0.5em; text-align: right; border: none;\">\n",
              "        -1.843\n",
              "    </td>\n",
              "    <td style=\"padding: 0 0.5em 0 0.5em; text-align: left; border: none;\">\n",
              "        карты\n",
              "    </td>\n",
              "    \n",
              "</tr>\n",
              "        \n",
              "            <tr style=\"background-color: hsl(0, 100.00%, 93.60%); border: none;\">\n",
              "    <td style=\"padding: 0 1em 0 0.5em; text-align: right; border: none;\">\n",
              "        -1.870\n",
              "    </td>\n",
              "    <td style=\"padding: 0 0.5em 0 0.5em; text-align: left; border: none;\">\n",
              "        правило\n",
              "    </td>\n",
              "    \n",
              "</tr>\n",
              "        \n",
              "            <tr style=\"background-color: hsl(0, 100.00%, 93.52%); border: none;\">\n",
              "    <td style=\"padding: 0 1em 0 0.5em; text-align: right; border: none;\">\n",
              "        -1.904\n",
              "    </td>\n",
              "    <td style=\"padding: 0 0.5em 0 0.5em; text-align: left; border: none;\">\n",
              "        зубы\n",
              "    </td>\n",
              "    \n",
              "</tr>\n",
              "        \n",
              "            <tr style=\"background-color: hsl(0, 100.00%, 93.48%); border: none;\">\n",
              "    <td style=\"padding: 0 1em 0 0.5em; text-align: right; border: none;\">\n",
              "        -1.918\n",
              "    </td>\n",
              "    <td style=\"padding: 0 0.5em 0 0.5em; text-align: left; border: none;\">\n",
              "        нет\n",
              "    </td>\n",
              "    \n",
              "</tr>\n",
              "        \n",
              "            <tr style=\"background-color: hsl(0, 100.00%, 93.38%); border: none;\">\n",
              "    <td style=\"padding: 0 1em 0 0.5em; text-align: right; border: none;\">\n",
              "        -1.963\n",
              "    </td>\n",
              "    <td style=\"padding: 0 0.5em 0 0.5em; text-align: left; border: none;\">\n",
              "        создание\n",
              "    </td>\n",
              "    \n",
              "</tr>\n",
              "        \n",
              "            <tr style=\"background-color: hsl(0, 100.00%, 93.37%); border: none;\">\n",
              "    <td style=\"padding: 0 1em 0 0.5em; text-align: right; border: none;\">\n",
              "        -1.964\n",
              "    </td>\n",
              "    <td style=\"padding: 0 0.5em 0 0.5em; text-align: left; border: none;\">\n",
              "        при\n",
              "    </td>\n",
              "    \n",
              "</tr>\n",
              "        \n",
              "            <tr style=\"background-color: hsl(0, 100.00%, 93.29%); border: none;\">\n",
              "    <td style=\"padding: 0 1em 0 0.5em; text-align: right; border: none;\">\n",
              "        -2.000\n",
              "    </td>\n",
              "    <td style=\"padding: 0 0.5em 0 0.5em; text-align: left; border: none;\">\n",
              "        окуня\n",
              "    </td>\n",
              "    \n",
              "</tr>\n",
              "        \n",
              "            <tr style=\"background-color: hsl(0, 100.00%, 93.24%); border: none;\">\n",
              "    <td style=\"padding: 0 1em 0 0.5em; text-align: right; border: none;\">\n",
              "        -2.019\n",
              "    </td>\n",
              "    <td style=\"padding: 0 0.5em 0 0.5em; text-align: left; border: none;\">\n",
              "        относительно\n",
              "    </td>\n",
              "    \n",
              "</tr>\n",
              "        \n",
              "            <tr style=\"background-color: hsl(0, 100.00%, 93.23%); border: none;\">\n",
              "    <td style=\"padding: 0 1em 0 0.5em; text-align: right; border: none;\">\n",
              "        -2.027\n",
              "    </td>\n",
              "    <td style=\"padding: 0 0.5em 0 0.5em; text-align: left; border: none;\">\n",
              "        соглашение\n",
              "    </td>\n",
              "    \n",
              "</tr>\n",
              "        \n",
              "            <tr style=\"background-color: hsl(0, 100.00%, 92.84%); border: none;\">\n",
              "    <td style=\"padding: 0 1em 0 0.5em; text-align: right; border: none;\">\n",
              "        -2.193\n",
              "    </td>\n",
              "    <td style=\"padding: 0 0.5em 0 0.5em; text-align: left; border: none;\">\n",
              "        англ\n",
              "    </td>\n",
              "    \n",
              "</tr>\n",
              "        \n",
              "            <tr style=\"background-color: hsl(0, 100.00%, 92.35%); border: none;\">\n",
              "    <td style=\"padding: 0 1em 0 0.5em; text-align: right; border: none;\">\n",
              "        -2.413\n",
              "    </td>\n",
              "    <td style=\"padding: 0 0.5em 0 0.5em; text-align: left; border: none;\">\n",
              "        ес\n",
              "    </td>\n",
              "    \n",
              "</tr>\n",
              "        \n",
              "            <tr style=\"background-color: hsl(0, 100.00%, 91.92%); border: none;\">\n",
              "    <td style=\"padding: 0 1em 0 0.5em; text-align: right; border: none;\">\n",
              "        -2.605\n",
              "    </td>\n",
              "    <td style=\"padding: 0 0.5em 0 0.5em; text-align: left; border: none;\">\n",
              "        сша\n",
              "    </td>\n",
              "    \n",
              "</tr>\n",
              "        \n",
              "            <tr style=\"background-color: hsl(0, 100.00%, 91.76%); border: none;\">\n",
              "    <td style=\"padding: 0 1em 0 0.5em; text-align: right; border: none;\">\n",
              "        -2.680\n",
              "    </td>\n",
              "    <td style=\"padding: 0 0.5em 0 0.5em; text-align: left; border: none;\">\n",
              "        ни\n",
              "    </td>\n",
              "    \n",
              "</tr>\n",
              "        \n",
              "            <tr style=\"background-color: hsl(0, 100.00%, 90.39%); border: none;\">\n",
              "    <td style=\"padding: 0 1em 0 0.5em; text-align: right; border: none;\">\n",
              "        -3.339\n",
              "    </td>\n",
              "    <td style=\"padding: 0 0.5em 0 0.5em; text-align: left; border: none;\">\n",
              "        которая\n",
              "    </td>\n",
              "    \n",
              "</tr>\n",
              "        \n",
              "            <tr style=\"background-color: hsl(0, 100.00%, 80.00%); border: none;\">\n",
              "    <td style=\"padding: 0 1em 0 0.5em; text-align: right; border: none;\">\n",
              "        -9.518\n",
              "    </td>\n",
              "    <td style=\"padding: 0 0.5em 0 0.5em; text-align: left; border: none;\">\n",
              "        не\n",
              "    </td>\n",
              "    \n",
              "</tr>\n",
              "        \n",
              "\n",
              "        </tbody>\n",
              "    </table>\n",
              "\n",
              "            \n",
              "        \n",
              "\n",
              "        \n",
              "\n",
              "\n",
              "\n",
              "    \n",
              "\n",
              "    \n",
              "\n",
              "    \n",
              "\n",
              "    \n",
              "\n",
              "\n",
              "    \n",
              "\n",
              "    \n",
              "\n",
              "    \n",
              "\n",
              "    \n",
              "\n",
              "    \n",
              "\n",
              "    \n",
              "\n",
              "\n",
              "    \n",
              "\n",
              "    \n",
              "\n",
              "    \n",
              "\n",
              "    \n",
              "\n",
              "    \n",
              "\n",
              "    \n",
              "\n",
              "\n",
              "\n"
            ],
            "text/plain": [
              "<IPython.core.display.HTML object>"
            ]
          },
          "metadata": {
            "tags": []
          },
          "execution_count": 36
        }
      ]
    }
  ]
}