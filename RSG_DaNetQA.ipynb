{
  "nbformat": 4,
  "nbformat_minor": 0,
  "metadata": {
    "colab": {
      "name": "RSG_DaNetQA.ipynb",
      "provenance": [],
      "collapsed_sections": [
        "0OUUSCWcudle",
        "A4ZdyanPupV_",
        "ZxDAiS8Ox8Py",
        "HEn2LQjZvBMv",
        "zC_KAI7zNSue",
        "0JrR_-02pdsl",
        "OL-9B_5EPLiA",
        "4YkyRIaBQmas"
      ],
      "include_colab_link": true
    },
    "kernelspec": {
      "name": "python3",
      "display_name": "Python 3"
    }
  },
  "cells": [
    {
      "cell_type": "markdown",
      "metadata": {
        "id": "view-in-github",
        "colab_type": "text"
      },
      "source": [
        "<a href=\"https://colab.research.google.com/github/tatiana-iazykova/2020_HACK_RUSSIANSUPERGLUE/blob/main/RSG_DaNetQA.ipynb\" target=\"_parent\"><img src=\"https://colab.research.google.com/assets/colab-badge.svg\" alt=\"Open In Colab\"/></a>"
      ]
    },
    {
      "cell_type": "markdown",
      "metadata": {
        "id": "0OUUSCWcudle"
      },
      "source": [
        "#Загрузка английского датасета для сравнения"
      ]
    },
    {
      "cell_type": "code",
      "metadata": {
        "colab": {
          "base_uri": "https://localhost:8080/"
        },
        "id": "bjHb_yglPu4w",
        "outputId": "c2e86f89-71f0-4d49-fc1e-7f860c0d1e33"
      },
      "source": [
        "%%bash\n",
        "# change url if you want to work with a different RSG dataset\n",
        "wget -q --show-progress \"https://dl.fbaipublicfiles.com/glue/superglue/data/v2/BoolQ.zip\" -O temp.zip\n",
        "unzip temp.zip -d data\n",
        "\n",
        "# remove unnecessary directories and files\n",
        "rm temp.zip\n",
        "rm -r data/__MACOSX\n",
        "rm -r sample_data/"
      ],
      "execution_count": 2,
      "outputs": [
        {
          "output_type": "stream",
          "text": [
            "Archive:  temp.zip\n",
            "   creating: data/BoolQ/\n",
            "  inflating: data/BoolQ/train.jsonl  \n",
            "  inflating: data/BoolQ/test.jsonl   \n",
            "  inflating: data/BoolQ/val.jsonl    \n"
          ],
          "name": "stdout"
        },
        {
          "output_type": "stream",
          "text": [
            "\n",
            "     0K .......... .......... .......... .......... ..........  1% 2.07M 2s\n",
            "    50K .......... .......... .......... .......... ..........  2% 2.02M 2s\n",
            "   100K .......... .......... .......... .......... ..........  3% 1.99M 2s\n",
            "   150K .......... .......... .......... .......... ..........  4% 18.6M 1s\n",
            "   200K .......... .......... .......... .......... ..........  6% 26.0M 1s\n",
            "   250K .......... .......... .......... .......... ..........  7% 2.56M 1s\n",
            "   300K .......... .......... .......... .......... ..........  8% 75.3M 1s\n",
            "   350K .......... .......... .......... .......... ..........  9% 27.8M 1s\n",
            "   400K .......... .......... .......... .......... .......... 11% 26.9M 1s\n",
            "   450K .......... .......... .......... .......... .......... 12% 47.5M 1s\n",
            "   500K .......... .......... .......... .......... .......... 13% 27.9M 1s\n",
            "   550K .......... .......... .......... .......... .......... 14% 3.48M 1s\n",
            "   600K .......... .......... .......... .......... .......... 16%  109M 1s\n",
            "   650K .......... .......... .......... .......... .......... 17% 39.3M 1s\n",
            "   700K .......... .......... .......... .......... .......... 18% 70.6M 1s\n",
            "   750K .......... .......... .......... .......... .......... 19% 41.1M 0s\n",
            "   800K .......... .......... .......... .......... .......... 21%  213M 0s\n",
            "   850K .......... .......... .......... .......... .......... 22% 27.5M 0s\n",
            "   900K .......... .......... .......... .......... .......... 23%  219M 0s\n",
            "   950K .......... .......... .......... .......... .......... 24% 27.8M 0s\n",
            "  1000K .......... .......... .......... .......... .......... 26%  235M 0s\n",
            "  1050K .......... .......... .......... .......... .......... 27% 60.1M 0s\n",
            "  1100K .......... .......... .......... .......... .......... 28% 46.5M 0s\n",
            "  1150K .......... .......... .......... .......... .......... 29% 3.42M 0s\n",
            "  1200K .......... .......... .......... .......... .......... 31% 10.0M 0s\n",
            "  1250K .......... .......... .......... .......... .......... 32%  146M 0s\n",
            "  1300K .......... .......... .......... .......... .......... 33% 6.54M 0s\n",
            "  1350K .......... .......... .......... .......... .......... 34%  192M 0s\n",
            "  1400K .......... .......... .......... .......... .......... 36%  135M 0s\n",
            "  1450K .......... .......... .......... .......... .......... 37%  194M 0s\n",
            "  1500K .......... .......... .......... .......... .......... 38%  172M 0s\n",
            "  1550K .......... .......... .......... .......... .......... 39% 9.77M 0s\n",
            "  1600K .......... .......... .......... .......... .......... 41%  119M 0s\n",
            "  1650K .......... .......... .......... .......... .......... 42%  197M 0s\n",
            "  1700K .......... .......... .......... .......... .......... 43%  149M 0s\n",
            "  1750K .......... .......... .......... .......... .......... 44%  163M 0s\n",
            "  1800K .......... .......... .......... .......... .......... 46%  177M 0s\n",
            "  1850K .......... .......... .......... .......... .......... 47%  219M 0s\n",
            "  1900K .......... .......... .......... .......... .......... 48%  191M 0s\n",
            "  1950K .......... .......... .......... .......... .......... 49%  146M 0s\n",
            "  2000K .......... .......... .......... .......... .......... 50%  167M 0s\n",
            "  2050K .......... .......... .......... .......... .......... 52%  225M 0s\n",
            "  2100K .......... .......... .......... .......... .......... 53%  126M 0s\n",
            "  2150K .......... .......... .......... .......... .......... 54% 58.3M 0s\n",
            "  2200K .......... .......... .......... .......... .......... 55%  136M 0s\n",
            "  2250K .......... .......... .......... .......... .......... 57%  202M 0s\n",
            "  2300K .......... .......... .......... .......... .......... 58%  225M 0s\n",
            "  2350K .......... .......... .......... .......... .......... 59%  219M 0s\n",
            "  2400K .......... .......... .......... .......... .......... 60% 9.23M 0s\n",
            "  2450K .......... .......... .......... .......... .......... 62%  201M 0s\n",
            "  2500K .......... .......... .......... .......... .......... 63%  194M 0s\n",
            "  2550K .......... .......... .......... .......... .......... 64%  181M 0s\n",
            "  2600K .......... .......... .......... .......... .......... 65%  179M 0s\n",
            "  2650K .......... .......... .......... .......... .......... 67%  223M 0s\n",
            "  2700K .......... .......... .......... .......... .......... 68%  163M 0s\n",
            "  2750K .......... .......... .......... .......... .......... 69%  120M 0s\n",
            "  2800K .......... .......... .......... .......... .......... 70%  190M 0s\n",
            "  2850K .......... .......... .......... .......... .......... 72%  197M 0s\n",
            "  2900K .......... .......... .......... .......... .......... 73% 38.7M 0s\n",
            "  2950K .......... .......... .......... .......... .......... 74%  225M 0s\n",
            "  3000K .......... .......... .......... .......... .......... 75%  200M 0s\n",
            "  3050K .......... .......... .......... .......... .......... 77%  184M 0s\n",
            "  3100K .......... .......... .......... .......... .......... 78%  176M 0s\n",
            "  3150K .......... .......... .......... .......... .......... 79%  181M 0s\n",
            "  3200K .......... .......... .......... .......... .......... 80%  183M 0s\n",
            "  3250K .......... .......... .......... .......... .......... 82%  201M 0s\n",
            "  3300K .......... .......... .......... .......... .......... 83%  151M 0s\n",
            "  3350K .......... .......... .......... .......... .......... 84%  213M 0s\n",
            "  3400K .......... .......... .......... .......... .......... 85%  203M 0s\n",
            "  3450K .......... .......... .......... .......... .......... 87%  225M 0s\n",
            "  3500K .......... .......... .......... .......... .......... 88%  222M 0s\n",
            "  3550K .......... .......... .......... .......... .......... 89%  221M 0s\n",
            "  3600K .......... .......... .......... .......... .......... 90%  204M 0s\n",
            "  3650K .......... .......... .......... .......... .......... 92% 3.49M 0s\n",
            "  3700K .......... .......... .......... .......... .......... 93%  132M 0s\n",
            "  3750K .......... .......... .......... .......... .......... 94%  183M 0s\n",
            "  3800K .......... .......... .......... .......... .......... 95%  207M 0s\n",
            "  3850K .......... .......... .......... .......... .......... 96%  252M 0s\n",
            "  3900K .......... .......... .......... .......... .......... 98%  182M 0s\n",
            "  3950K .......... .......... .......... .......... .......... 99%  201M 0s\n",
            "  4000K .......... .......... .                               100%  218M=0.2srm: cannot remove 'data/__MACOSX': No such file or directory\n"
          ],
          "name": "stderr"
        }
      ]
    },
    {
      "cell_type": "markdown",
      "metadata": {
        "id": "A4ZdyanPupV_"
      },
      "source": [
        "# Загрузка русскоязычного датасета"
      ]
    },
    {
      "cell_type": "code",
      "metadata": {
        "id": "RsL57-5kTLgJ",
        "colab": {
          "base_uri": "https://localhost:8080/"
        },
        "outputId": "f1c05d5d-290e-401c-b757-0a824146ddfc"
      },
      "source": [
        "%%bash\n",
        "# change url if you want to work with a different RSG dataset\n",
        "wget -q --show-progress \"https://russiansuperglue.com/tasks/download/DaNetQA\" -O temp.zip\n",
        "unzip temp.zip -d data\n",
        "\n",
        "# remove unnecessary directories and files\n",
        "rm temp.zip\n",
        "rm -r data/__MACOSX\n",
        "rm -r sample_data/"
      ],
      "execution_count": 3,
      "outputs": [
        {
          "output_type": "stream",
          "text": [
            "Archive:  temp.zip\n",
            "   creating: data/DaNetQA/\n",
            "  inflating: data/DaNetQA/train.jsonl  \n",
            "   creating: data/__MACOSX/\n",
            "   creating: data/__MACOSX/DaNetQA/\n",
            "  inflating: data/__MACOSX/DaNetQA/._train.jsonl  \n",
            "  inflating: data/DaNetQA/.DS_Store  \n",
            "  inflating: data/__MACOSX/DaNetQA/._.DS_Store  \n",
            "  inflating: data/DaNetQA/test.jsonl  \n",
            "  inflating: data/__MACOSX/DaNetQA/._test.jsonl  \n",
            "  inflating: data/DaNetQA/val.jsonl  \n",
            "  inflating: data/__MACOSX/DaNetQA/._val.jsonl  \n",
            "  inflating: data/__MACOSX/._DaNetQA  \n"
          ],
          "name": "stdout"
        },
        {
          "output_type": "stream",
          "text": [
            "\n",
            "     0K .......... .......... .......... .......... ..........  3%  271K 4s\n",
            "    50K .......... .......... .......... .......... ..........  7%  274K 4s\n",
            "   100K .......... .......... .......... .......... .......... 11%  275K 4s\n",
            "   150K .......... .......... .......... .......... .......... 15% 76.4M 3s\n",
            "   200K .......... .......... .......... .......... .......... 19%  146M 2s\n",
            "   250K .......... .......... .......... .......... .......... 23%  185M 2s\n",
            "   300K .......... .......... .......... .......... .......... 27%  276K 2s\n",
            "   350K .......... .......... .......... .......... .......... 31% 61.1M 2s\n",
            "   400K .......... .......... .......... .......... .......... 35% 81.1M 1s\n",
            "   450K .......... .......... .......... .......... .......... 39%  125M 1s\n",
            "   500K .......... .......... .......... .......... .......... 43%  111M 1s\n",
            "   550K .......... .......... .......... .......... .......... 47%  108M 1s\n",
            "   600K .......... .......... .......... .......... .......... 51%  108M 1s\n",
            "   650K .......... .......... .......... .......... .......... 55%  279K 1s\n",
            "   700K .......... .......... .......... .......... .......... 59%  123M 1s\n",
            "   750K .......... .......... .......... .......... .......... 63%  123M 1s\n",
            "   800K .......... .......... .......... .......... .......... 67%  123M 0s\n",
            "   850K .......... .......... .......... .......... .......... 71%  129M 0s\n",
            "   900K .......... .......... .......... .......... .......... 75%  129M 0s\n",
            "   950K .......... .......... .......... .......... .......... 79% 52.5M 0s\n",
            "  1000K .......... .......... .......... .......... .......... 83%  185M 0s\n",
            "  1050K .......... .......... .......... .......... .......... 87%  131M 0s\n",
            "  1100K .......... .......... .......... .......... .......... 91%  170M 0s\n",
            "  1150K .......... .......... .......... .......... .......... 94%  184M 0s\n",
            "  1200K .......... .......... .......... .......... .......... 98%  136M 0s\n",
            "  1250K .......... ...                                        100%  339M=0.9srm: cannot remove 'sample_data/': No such file or directory\n"
          ],
          "name": "stderr"
        }
      ]
    },
    {
      "cell_type": "markdown",
      "metadata": {
        "id": "uD4auz_Nt9qR"
      },
      "source": [
        "Fancy way to display content of the dataset directory"
      ]
    },
    {
      "cell_type": "code",
      "metadata": {
        "id": "Wh_Pi5TXfVBI",
        "colab": {
          "base_uri": "https://localhost:8080/"
        },
        "outputId": "70947d25-1519-4fb0-9130-dd1d2bf7ea2d"
      },
      "source": [
        "%%bash\n",
        "# add tree package for fancy directory display\n",
        "apt-get install tree"
      ],
      "execution_count": 4,
      "outputs": [
        {
          "output_type": "stream",
          "text": [
            "Reading package lists...\n",
            "Building dependency tree...\n",
            "Reading state information...\n",
            "The following NEW packages will be installed:\n",
            "  tree\n",
            "0 upgraded, 1 newly installed, 0 to remove and 15 not upgraded.\n",
            "Need to get 40.7 kB of archives.\n",
            "After this operation, 105 kB of additional disk space will be used.\n",
            "Get:1 http://archive.ubuntu.com/ubuntu bionic/universe amd64 tree amd64 1.7.0-5 [40.7 kB]\n",
            "Fetched 40.7 kB in 0s (83.3 kB/s)\n",
            "Selecting previously unselected package tree.\r\n",
            "(Reading database ... \r(Reading database ... 5%\r(Reading database ... 10%\r(Reading database ... 15%\r(Reading database ... 20%\r(Reading database ... 25%\r(Reading database ... 30%\r(Reading database ... 35%\r(Reading database ... 40%\r(Reading database ... 45%\r(Reading database ... 50%\r(Reading database ... 55%\r(Reading database ... 60%\r(Reading database ... 65%\r(Reading database ... 70%\r(Reading database ... 75%\r(Reading database ... 80%\r(Reading database ... 85%\r(Reading database ... 90%\r(Reading database ... 95%\r(Reading database ... 100%\r(Reading database ... 145480 files and directories currently installed.)\r\n",
            "Preparing to unpack .../tree_1.7.0-5_amd64.deb ...\r\n",
            "Unpacking tree (1.7.0-5) ...\r\n",
            "Setting up tree (1.7.0-5) ...\r\n",
            "Processing triggers for man-db (2.8.3-2ubuntu0.1) ...\r\n"
          ],
          "name": "stdout"
        }
      ]
    },
    {
      "cell_type": "code",
      "metadata": {
        "colab": {
          "base_uri": "https://localhost:8080/"
        },
        "id": "87zEZXR_xzmF",
        "outputId": "cdc00bbf-156f-403e-aed5-5df34bb97141"
      },
      "source": [
        "# display the content of the folder\n",
        "!tree"
      ],
      "execution_count": 5,
      "outputs": [
        {
          "output_type": "stream",
          "text": [
            ".\n",
            "└── data\n",
            "    ├── BoolQ\n",
            "    │   ├── test.jsonl\n",
            "    │   ├── train.jsonl\n",
            "    │   └── val.jsonl\n",
            "    └── DaNetQA\n",
            "        ├── test.jsonl\n",
            "        ├── train.jsonl\n",
            "        └── val.jsonl\n",
            "\n",
            "3 directories, 6 files\n"
          ],
          "name": "stdout"
        }
      ]
    },
    {
      "cell_type": "markdown",
      "metadata": {
        "id": "ZxDAiS8Ox8Py"
      },
      "source": [
        "# Загрузка в pandas"
      ]
    },
    {
      "cell_type": "code",
      "metadata": {
        "id": "C0cqhlXaXbwj"
      },
      "source": [
        "import pandas as pd\n",
        "pd.set_option('display.max_colwidth', 1000)\n",
        "\n",
        "class JSONL_handler():\n",
        "    \"\"\" opens a jsonl file and turns it into a necessary data structure \"\"\"\n",
        "    \n",
        "    def __init__(self, path):\n",
        "        self.path = path # path to jsonl file\n",
        "\n",
        "    def to_pandas(self):\n",
        "        \"\"\" get jsonl file content as a pandas DataFrame\"\"\"\n",
        "        return pd.read_json(path_or_buf=self.path, lines=True)"
      ],
      "execution_count": 6,
      "outputs": []
    },
    {
      "cell_type": "code",
      "metadata": {
        "id": "_NRSjltfYcjT"
      },
      "source": [
        "handler = JSONL_handler('data/DaNetQA/train.jsonl')\n",
        "df = handler.to_pandas()"
      ],
      "execution_count": 7,
      "outputs": []
    },
    {
      "cell_type": "markdown",
      "metadata": {
        "id": "sQU6l2URwmqZ"
      },
      "source": [
        "[Pandas cheat sheet](https://github.com/pandas-dev/pandas/blob/master/doc/cheatsheet/Pandas_Cheat_Sheet.pdf?platform=hootsuite) for reference\n"
      ]
    },
    {
      "cell_type": "code",
      "metadata": {
        "id": "yWGRRno7P5QS"
      },
      "source": [
        "handler_en = JSONL_handler('data/BoolQ/train.jsonl')\n",
        "df_en = handler_en.to_pandas()"
      ],
      "execution_count": 8,
      "outputs": []
    },
    {
      "cell_type": "markdown",
      "metadata": {
        "id": "c3x_pgvwNhjE"
      },
      "source": [
        "# Общая информация про train"
      ]
    },
    {
      "cell_type": "code",
      "metadata": {
        "id": "Q43c4vJZsN6v",
        "colab": {
          "base_uri": "https://localhost:8080/"
        },
        "outputId": "fc5e8e11-2faa-4759-cb06-5fbcb81c5bdd"
      },
      "source": [
        "import matplotlib.pyplot as plt\n",
        "plt.title('Label distribution in DaNetQA', fontsize=14)\n",
        "plt.pie(df['label'].value_counts(), autopct=\"%.1f%%\", explode=[0.05]*2, labels=df['label'].value_counts().keys(), pctdistance=0.5, textprops = dict(fontsize = 12))\n",
        "plt.show()"
      ],
      "execution_count": null,
      "outputs": [
        {
          "output_type": "display_data",
          "data": {
            "image/png": "[encoded data removed]",
            "text/plain": [
              "<Figure size 432x288 with 1 Axes>"
            ]
          },
          "metadata": {
            "tags": []
          }
        }
      ]
    },
    {
      "cell_type": "code",
      "metadata": {
        "colab": {
          "base_uri": "https://localhost:8080/"
        },
        "id": "vACfnT5Jpgbl",
        "outputId": "c529d488-818e-49db-bbbb-36e6c586ac68"
      },
      "source": [
        "df['label'].value_counts()"
      ],
      "execution_count": null,
      "outputs": [
        {
          "output_type": "execute_result",
          "data": {
            "text/plain": [
              "True     1061\n",
              "False     688\n",
              "Name: label, dtype: int64"
            ]
          },
          "metadata": {
            "tags": []
          },
          "execution_count": 9
        }
      ]
    },
    {
      "cell_type": "code",
      "metadata": {
        "colab": {
          "base_uri": "https://localhost:8080/"
        },
        "id": "Bpko3iriQAff",
        "outputId": "21c665e7-1721-4236-d13d-1bf994c153d1"
      },
      "source": [
        "df_en['label'].value_counts()"
      ],
      "execution_count": null,
      "outputs": [
        {
          "output_type": "execute_result",
          "data": {
            "text/plain": [
              "True     5874\n",
              "False    3553\n",
              "Name: label, dtype: int64"
            ]
          },
          "metadata": {
            "tags": []
          },
          "execution_count": 10
        }
      ]
    },
    {
      "cell_type": "code",
      "metadata": {
        "colab": {
          "base_uri": "https://localhost:8080/"
        },
        "id": "MKuxdjKoUBVg",
        "outputId": "04a5212d-59ff-4d2b-bc6e-5e4f792b670b"
      },
      "source": [
        "plt.title('Relative label distribution in DaNetQA\\n and corresponding SG dataset', fontsize=14)\n",
        "plt.hist(x = [df['label'], df_en['label']], color=[\"#9ddadc\", \"#e99aee\"], label=['RSG','SG'], rwidth = 50) \n",
        "plt.legend(loc='best')\n",
        "plt.show()\n",
        "print()\n",
        "\n",
        "plt.subplot(1,2,1)\n",
        "colours = {'#9ddca6', '#f0afb6', '#eeb87c'}\n",
        "\n",
        "plt.title('Label distribution\\n in SG\\n', fontsize=14)\n",
        "plt.pie(df_en['label'].value_counts(), autopct=\"%.1f%%\", explode=[0.05]*2, labels=df_en['label'].value_counts().keys(), pctdistance=0.5, textprops = dict(fontsize = 12), colors=colours)\n",
        "\n",
        "plt.subplot(1,2,2)\n",
        "\n",
        "plt.title('Label distribution\\n in RSG\\n', fontsize=14)\n",
        "plt.pie(df['label'].value_counts(), autopct=\"%.1f%%\", explode=[0.05]*2, labels=df['label'].value_counts().keys(), pctdistance=0.5, textprops = dict(fontsize = 12), colors=colours)\n",
        "\n",
        "plt.tight_layout()\n",
        "plt.show()"
      ],
      "execution_count": null,
      "outputs": [
        {
          "output_type": "stream",
          "text": [
            "/usr/local/lib/python3.6/dist-packages/numpy/core/_asarray.py:83: VisibleDeprecationWarning: Creating an ndarray from ragged nested sequences (which is a list-or-tuple of lists-or-tuples-or ndarrays with different lengths or shapes) is deprecated. If you meant to do this, you must specify 'dtype=object' when creating the ndarray\n",
            "  return array(a, dtype, copy=False, order=order)\n",
            "<string>:6: RuntimeWarning: Converting input from bool to <class 'numpy.uint8'> for compatibility.\n",
            "<string>:6: RuntimeWarning: Converting input from bool to <class 'numpy.uint8'> for compatibility.\n"
          ],
          "name": "stderr"
        },
        {
          "output_type": "display_data",
          "data": {
            "image/png": "[encoded data removed]",
            "text/plain": [
              "<Figure size 432x288 with 1 Axes>"
            ]
          },
          "metadata": {
            "tags": [],
            "needs_background": "light"
          }
        },
        {
          "output_type": "stream",
          "text": [
            "\n"
          ],
          "name": "stdout"
        },
        {
          "output_type": "display_data",
          "data": {
            "image/png": "[encoded data removed]",
            "text/plain": [
              "<Figure size 432x288 with 2 Axes>"
            ]
          },
          "metadata": {
            "tags": []
          }
        }
      ]
    },
    {
      "cell_type": "code",
      "metadata": {
        "colab": {
          "base_uri": "https://localhost:8080/",
          "height": 449
        },
        "id": "RRkFQZkPdBVa",
        "outputId": "bf9cb05b-6e79-4453-c57d-dffd5384cf5c"
      },
      "source": [
        "df.head()"
      ],
      "execution_count": 13,
      "outputs": [
        {
          "output_type": "execute_result",
          "data": {
            "text/html": [
              "<div>\n",
              "<style scoped>\n",
              "    .dataframe tbody tr th:only-of-type {\n",
              "        vertical-align: middle;\n",
              "    }\n",
              "\n",
              "    .dataframe tbody tr th {\n",
              "        vertical-align: top;\n",
              "    }\n",
              "\n",
              "    .dataframe thead th {\n",
              "        text-align: right;\n",
              "    }\n",
              "</style>\n",
              "<table border=\"1\" class=\"dataframe\">\n",
              "  <thead>\n",
              "    <tr style=\"text-align: right;\">\n",
              "      <th></th>\n",
              "      <th>question</th>\n",
              "      <th>passage</th>\n",
              "      <th>label</th>\n",
              "      <th>idx</th>\n",
              "    </tr>\n",
              "  </thead>\n",
              "  <tbody>\n",
              "    <tr>\n",
              "      <th>0</th>\n",
              "      <td>Вднх - это выставочный центр?</td>\n",
              "      <td>«Вы́ставочный центр» — станция Московского монорельса. Расположена между станциями «Улица Академика Королёва» и «Улица Сергея Эйзенштейна». Находится на территории Останкинского района Северо-Восточного административного округа города Москвы. Переход на станцию  ВДНХ Калужско-Рижской линии. Названа в честь Всероссийского выставочного центра — названия ВДНХ с 1992 по 2014 год. 20 ноября 2004 года линия монорельса начала работать в «экскурсионном режиме» и перевезла первых пассажиров .</td>\n",
              "      <td>True</td>\n",
              "      <td>0</td>\n",
              "    </tr>\n",
              "    <tr>\n",
              "      <th>1</th>\n",
              "      <td>Вднх - это выставочный центр?</td>\n",
              "      <td>Вы́ставка достиже́ний наро́дного хозя́йства  , в 1959—1991 годах — Вы́ставка достиже́ний наро́дного хозя́йства СССР , в 1992—2014 годах — Всеросси́йский вы́ставочный центр ) — выставочный комплекс в Останкинском районе Северо-Восточного административного округа города Москвы, второй по величине выставочный комплекс в городе. Входит в 50 крупнейших выставочных центров мира. Ежегодно ВДНХ посещают 30 млн гостей. 1 августа 2019 года выставка отпраздновала 80-летний юбилей. Территориально ВДНХ объединена с парком «Останкино» и Главным ботаническим садом , их общая площадь составляет почти 700 га: 240,2 га — площадь ВДНХ, 75,6 га — площадь парка «Останкино», 361 га — площадь ГБС, 9,5 га музейно-выставочный центр «Рабочий и колхозница» и площадь перед аркой Главного входа. На территории Выставки расположено множество шедевров архитектуры — 49 объектов ВДНХ признаны памятниками культурного наследия.</td>\n",
              "      <td>True</td>\n",
              "      <td>1</td>\n",
              "    </tr>\n",
              "    <tr>\n",
              "      <th>2</th>\n",
              "      <td>Был ли джиган в black star?</td>\n",
              "      <td>Вместе с этим треком они выступили на церемонии вручения наград MTV RMA — это был первый выход Джигана на большую сцену. В 2007 году Джиган стал официальным артистом лейбла Black Star Inc., выпустил первый песню и клип «Одноклассница» — совместная работа с Тимати. В марте 2011 года появилась совместная с Юлей Савичевой композиция «Отпусти». Песня поднялась в радиочарте «Tophit» до 8 места и заняла первое место чарта Weekly Audience Choice Top Hit . Количество просмотров клипа на YouTube превысило 17 миллионов.</td>\n",
              "      <td>True</td>\n",
              "      <td>2</td>\n",
              "    </tr>\n",
              "    <tr>\n",
              "      <th>3</th>\n",
              "      <td>Xiaomi конкурент apple?</td>\n",
              "      <td>Xiaomi — китайская компания, основанная в 2010 году и занимающаяся выпуском электроники и бытовой техники, а также разработкой программного обеспечения. Основной продукцией компании являются смартфоны, первый из которых был выпущен в 2011 году. В настоящее время Xiaomi производит широкий ассортимент смартфонов в разных ценовых сегментах и является одним из крупнейших производителей смартфонов в мире. Так, в третьем квартале 2014 года эта компания заняла наивысшее для себя третье место в мире по поставкам смартфонов, набрав 5,2 % в штучном выражении и уступив лишь Samsung и Apple . За весь 2017 год компания заняла по продажам первое место в Китае и второе место в Индии. В данном списке приводятся все смартфоны, когда-либо выпущенные компанией Xiaomi.</td>\n",
              "      <td>True</td>\n",
              "      <td>3</td>\n",
              "    </tr>\n",
              "    <tr>\n",
              "      <th>4</th>\n",
              "      <td>Был ли автомат калашникова в вов?</td>\n",
              "      <td>Отметив некоторые недостатки и в целом удачную конструкцию, специалисты ГАУ не рекомендовали принимать ПП Калашникова на вооружение по технологическим причинам. Заключение гласило: С 1942 года Калашников работал на Центральном научно-исследовательском полигоне стрелкового и миномётного вооружения ГАУ РККА. Здесь в 1944 году он создал опытный образец самозарядного карабина, который, хотя и не вышел в серийное производство, частично послужил прототипом для создания автомата. С 1945 года Михаил Калашников начал разработку автоматического оружия под промежуточный патрон 7,62×39 образца 1943 года. Автомат Калашникова победил в конкурсе 1947 года и был принят на вооружение.</td>\n",
              "      <td>False</td>\n",
              "      <td>4</td>\n",
              "    </tr>\n",
              "  </tbody>\n",
              "</table>\n",
              "</div>"
            ],
            "text/plain": [
              "                            question  ... idx\n",
              "0      Вднх - это выставочный центр?  ...   0\n",
              "1      Вднх - это выставочный центр?  ...   1\n",
              "2        Был ли джиган в black star?  ...   2\n",
              "3            Xiaomi конкурент apple?  ...   3\n",
              "4  Был ли автомат калашникова в вов?  ...   4\n",
              "\n",
              "[5 rows x 4 columns]"
            ]
          },
          "metadata": {
            "tags": []
          },
          "execution_count": 13
        }
      ]
    },
    {
      "cell_type": "markdown",
      "metadata": {
        "id": "7tdNiO_UdEVy"
      },
      "source": [
        "# Heuristics\r\n"
      ]
    },
    {
      "cell_type": "code",
      "metadata": {
        "id": "pm63lAK4ftvb"
      },
      "source": [
        "import re"
      ],
      "execution_count": 72,
      "outputs": []
    },
    {
      "cell_type": "markdown",
      "metadata": {
        "id": "rRPMuPIHeFFP"
      },
      "source": [
        "Fun fact: если вопрос начинается с \"есть\", то скорее всего ответ True "
      ]
    },
    {
      "cell_type": "code",
      "metadata": {
        "colab": {
          "base_uri": "https://localhost:8080/"
        },
        "id": "4o9SDgOcd74X",
        "outputId": "1552dcb9-bfe4-40dc-9860-927008f296ea"
      },
      "source": [
        "filter = df.question.str.contains('Есть')\r\n",
        "df[filter].label.value_counts()"
      ],
      "execution_count": 83,
      "outputs": [
        {
          "output_type": "execute_result",
          "data": {
            "text/plain": [
              "True     148\n",
              "False     39\n",
              "Name: label, dtype: int64"
            ]
          },
          "metadata": {
            "tags": []
          },
          "execution_count": 83
        }
      ]
    },
    {
      "cell_type": "markdown",
      "metadata": {
        "id": "1CRnXj6GfAnf"
      },
      "source": [
        "Или начинается с (в некоторых случаях просто содержит) \"был/была/были\" (для наглядности сделано тремя запросами)"
      ]
    },
    {
      "cell_type": "code",
      "metadata": {
        "colab": {
          "base_uri": "https://localhost:8080/"
        },
        "id": "Rgb8UycXe8Fx",
        "outputId": "67846235-19ae-4bcd-b55d-f737ac0ea0b8"
      },
      "source": [
        "filter = df.question.str.contains('Был', regex=True)\r\n",
        "df[filter].label.value_counts()"
      ],
      "execution_count": 84,
      "outputs": [
        {
          "output_type": "execute_result",
          "data": {
            "text/plain": [
              "True     439\n",
              "False    130\n",
              "Name: label, dtype: int64"
            ]
          },
          "metadata": {
            "tags": []
          },
          "execution_count": 84
        }
      ]
    },
    {
      "cell_type": "code",
      "metadata": {
        "colab": {
          "base_uri": "https://localhost:8080/"
        },
        "id": "W7kI22awghd4",
        "outputId": "86457a7d-8f9c-4bd5-836a-34c861145151"
      },
      "source": [
        "filter = df.question.str.contains('была', flags=re.IGNORECASE, regex=True)\r\n",
        "df[filter].label.value_counts()"
      ],
      "execution_count": 85,
      "outputs": [
        {
          "output_type": "execute_result",
          "data": {
            "text/plain": [
              "True     122\n",
              "False     34\n",
              "Name: label, dtype: int64"
            ]
          },
          "metadata": {
            "tags": []
          },
          "execution_count": 85
        }
      ]
    },
    {
      "cell_type": "code",
      "metadata": {
        "colab": {
          "base_uri": "https://localhost:8080/"
        },
        "id": "S3xd_iM9gnGq",
        "outputId": "a4584e2e-0d57-4a48-ef38-febf5388030b"
      },
      "source": [
        "filter = df.question.str.contains('были ли', flags=re.IGNORECASE, regex=True)\r\n",
        "df[filter].label.value_counts()"
      ],
      "execution_count": 87,
      "outputs": [
        {
          "output_type": "execute_result",
          "data": {
            "text/plain": [
              "True     92\n",
              "False    22\n",
              "Name: label, dtype: int64"
            ]
          },
          "metadata": {
            "tags": []
          },
          "execution_count": 87
        }
      ]
    },
    {
      "cell_type": "markdown",
      "metadata": {
        "id": "dcSxB-aIhgoW"
      },
      "source": [
        "А вопросы, начинающиеся с \"входит ли\" чаще всего False"
      ]
    },
    {
      "cell_type": "code",
      "metadata": {
        "colab": {
          "base_uri": "https://localhost:8080/"
        },
        "id": "uSjo5ruVgIAM",
        "outputId": "a2e02628-ee5f-444e-8b15-2105aef22d0d"
      },
      "source": [
        "filter = df.question.str.contains('Входит ли')\r\n",
        "df[filter].label.value_counts()"
      ],
      "execution_count": 68,
      "outputs": [
        {
          "output_type": "execute_result",
          "data": {
            "text/plain": [
              "False    50\n",
              "True     37\n",
              "Name: label, dtype: int64"
            ]
          },
          "metadata": {
            "tags": []
          },
          "execution_count": 68
        }
      ]
    },
    {
      "cell_type": "markdown",
      "metadata": {
        "id": "LkBhyKq0cx7v"
      },
      "source": [
        "Очень часто получается так, что если повторяются вопросы, но текстовые фрагменты разные, то ответы все равно одинаковые. То есть тема сильно коррелирует с ответом. "
      ]
    },
    {
      "cell_type": "code",
      "metadata": {
        "colab": {
          "base_uri": "https://localhost:8080/",
          "height": 481
        },
        "id": "OaJkCTsmdI2Q",
        "outputId": "07651e30-759d-4dff-a87d-aa02ffc85d5a"
      },
      "source": [
        "filter = df.question.str.contains('Были ли в австралии аборигены?')\r\n",
        "df[filter]"
      ],
      "execution_count": 17,
      "outputs": [
        {
          "output_type": "execute_result",
          "data": {
            "text/html": [
              "<div>\n",
              "<style scoped>\n",
              "    .dataframe tbody tr th:only-of-type {\n",
              "        vertical-align: middle;\n",
              "    }\n",
              "\n",
              "    .dataframe tbody tr th {\n",
              "        vertical-align: top;\n",
              "    }\n",
              "\n",
              "    .dataframe thead th {\n",
              "        text-align: right;\n",
              "    }\n",
              "</style>\n",
              "<table border=\"1\" class=\"dataframe\">\n",
              "  <thead>\n",
              "    <tr style=\"text-align: right;\">\n",
              "      <th></th>\n",
              "      <th>question</th>\n",
              "      <th>passage</th>\n",
              "      <th>label</th>\n",
              "      <th>idx</th>\n",
              "    </tr>\n",
              "  </thead>\n",
              "  <tbody>\n",
              "    <tr>\n",
              "      <th>37</th>\n",
              "      <td>Были ли в австралии аборигены?</td>\n",
              "      <td>2005 — «Предложение». На фоне борьбы колониальных властей с бандой ирландских мигрантов разворачиваются эпизоды геноцида аборигенов и насилия над ними. 2006 — «Десять лодок», из жизни австралийских аборигенов, пользовавшийся успехом в мировом кинопрокате и даже отмеченный специальной премией Каннского фестиваля. Всё актёры фильма были аборигенами и говорили на своём родном языке йолнгу-матха. 2006 — «Джиндабайн», сюжет фильма построен на «заговоре молчания» вокруг убийства аборигенной девушки.</td>\n",
              "      <td>True</td>\n",
              "      <td>37</td>\n",
              "    </tr>\n",
              "    <tr>\n",
              "      <th>38</th>\n",
              "      <td>Были ли в австралии аборигены?</td>\n",
              "      <td>Австралийские аборигены  — коренное население Австралии, также иногда называемые «австралийскими бушменами», в языковом и расовом отношениях обособлены от других народов мира. Говорят на австралийских языках, значительная часть — только по-английски и/или на различных вариантах пиджинов. Живут, в основном, в удалённых от городов районах Северной, Северо-Западной, Северо-Восточной и Центральной Австралии, часть — в городах. Австралийская цивилизация является одной из старейших непрерывных культур в мире. В расовом отношении аборигены Австралии образуют отдельную — собственно австралийскую ветвь австралоидной расы.</td>\n",
              "      <td>True</td>\n",
              "      <td>38</td>\n",
              "    </tr>\n",
              "    <tr>\n",
              "      <th>39</th>\n",
              "      <td>Были ли в австралии аборигены?</td>\n",
              "      <td>Австралия была заселена примерно 50 000 лет назад, остатками её коренного населения являются австралийские аборигены. Документированная история |Австралии]] начинается с её открытия европейцами в начале XVI века. Первая документированная высадка европейца на берегах Австралии произошла в 1606 году — им был голландец Виллем Янсзон. Помимо него в течение XVII века ещё 29 голландских мореплавателей исследовали западное и южное побережье континента, дав ему название «Новая Голландия». Первый флот британских кораблей высадился в заливе Ботани в январе 1788 года и основал там колонию для осуждённых.</td>\n",
              "      <td>True</td>\n",
              "      <td>39</td>\n",
              "    </tr>\n",
              "    <tr>\n",
              "      <th>40</th>\n",
              "      <td>Были ли в австралии аборигены?</td>\n",
              "      <td>Доисторическая эпоха Австралии — временной отрезок с момента прибытия в Австралию первых людей и до их первой встречи с европейцами в 1606 году, когда начинается письменная история Австралии. По различным оценкам, праистория Австралии продолжалась от 40 до 70 тысяч лет. Первые грацильные сапиенсы переправились в Сахул там, где сейчас находится Арафурское море и архипелаг Ару. По мнению антропологов, человек разумный прибыл в Австралию не позднее 40 тысяч лет назад. К этому времени относятся следы обитания человека, обнаруженные в верховьях реки Суон в Западной Австралии.</td>\n",
              "      <td>True</td>\n",
              "      <td>40</td>\n",
              "    </tr>\n",
              "    <tr>\n",
              "      <th>41</th>\n",
              "      <td>Были ли в австралии аборигены?</td>\n",
              "      <td>О культурном и технологическом обмене между макасарами и коренным австралийским населением свидетельствуют ряд мотивов в аборигенном искусстве, появление таких предметов, как каноэ-долблёнки, табак и трубки для курения, наличие отдельных макассарских слов в аборигенных языках . Большинство историков считает, что тамаринд в Австралию завезли макасары. Доказано также наличие потомков малайской субрасы среди австралийских аборигенов в результате смешанных браков и миграций. Через Индонезию редкие сведения о существовании австралийского континента доходили даже до Китая. На карте мира 1603 года, составленной Маттео Риччи, основателем иезуитской миссии в Пекине, на месте, где должна находиться Австралия, написано: «Никто никогда не бывал на этой южной земле, поэтому мы ничего не знаем о ней».</td>\n",
              "      <td>True</td>\n",
              "      <td>41</td>\n",
              "    </tr>\n",
              "    <tr>\n",
              "      <th>42</th>\n",
              "      <td>Были ли в австралии аборигены?</td>\n",
              "      <td>Описывая культуру австралийских аборигенов в своей Бойеровской лекции в 1999 г., историк и антрополог Инга Клендиннен говорила: Они […] разработали настолько сложную систему представлений о мире, что в ней находится место для любого существа, для любого растения. Они путешествовали налегке, но сами по себе были ходячими атласами, ходячими энциклопедиями естественной истории. […] Подробные наблюдения за природой возвышались до уровня драмы путём создания множественных, многоуровневых сказаний, которые делали легко запоминаемыми сложные отношения между наблюдаемыми феноменами.Политическая власть находилась в руках скорее старейшин общин, чем наследственных вождей. Споры разрешались на общинном собрании в соответствии со сложной системой племенных законов . Нередкими были кровная месть и межплеменная вражда.</td>\n",
              "      <td>True</td>\n",
              "      <td>42</td>\n",
              "    </tr>\n",
              "  </tbody>\n",
              "</table>\n",
              "</div>"
            ],
            "text/plain": [
              "                          question  ... idx\n",
              "37  Были ли в австралии аборигены?  ...  37\n",
              "38  Были ли в австралии аборигены?  ...  38\n",
              "39  Были ли в австралии аборигены?  ...  39\n",
              "40  Были ли в австралии аборигены?  ...  40\n",
              "41  Были ли в австралии аборигены?  ...  41\n",
              "42  Были ли в австралии аборигены?  ...  42\n",
              "\n",
              "[6 rows x 4 columns]"
            ]
          },
          "metadata": {
            "tags": []
          },
          "execution_count": 17
        }
      ]
    },
    {
      "cell_type": "code",
      "metadata": {
        "colab": {
          "base_uri": "https://localhost:8080/",
          "height": 331
        },
        "id": "Q3DZcMj5diy5",
        "outputId": "4273555e-8aae-43ff-8ffe-9b6857e444ca"
      },
      "source": [
        "filter = df.question.str.contains('Были ли викинги в')\r\n",
        "df[filter]"
      ],
      "execution_count": 21,
      "outputs": [
        {
          "output_type": "execute_result",
          "data": {
            "text/html": [
              "<div>\n",
              "<style scoped>\n",
              "    .dataframe tbody tr th:only-of-type {\n",
              "        vertical-align: middle;\n",
              "    }\n",
              "\n",
              "    .dataframe tbody tr th {\n",
              "        vertical-align: top;\n",
              "    }\n",
              "\n",
              "    .dataframe thead th {\n",
              "        text-align: right;\n",
              "    }\n",
              "</style>\n",
              "<table border=\"1\" class=\"dataframe\">\n",
              "  <thead>\n",
              "    <tr style=\"text-align: right;\">\n",
              "      <th></th>\n",
              "      <th>question</th>\n",
              "      <th>passage</th>\n",
              "      <th>label</th>\n",
              "      <th>idx</th>\n",
              "    </tr>\n",
              "  </thead>\n",
              "  <tbody>\n",
              "    <tr>\n",
              "      <th>57</th>\n",
              "      <td>Были ли викинги в ирландии?</td>\n",
              "      <td>Королевство Дублин  — средневековое королевство, образованное норвежскими викингами в Ирландии. Территория королевства в основном совпадает с территорией, занимаемой историческим графством Дублин. Столица королевства находилась в городе Дублин. Викинги нападали на Ирландию начиная с 795 года. В 837 году норвежский викинг Тургейс вторгся на север Ирландии и, воспользовавшись междоусобицами, покорил Ульстер, а также захватил Армаг, важнейший религиозный центр Ирландии.</td>\n",
              "      <td>True</td>\n",
              "      <td>57</td>\n",
              "    </tr>\n",
              "    <tr>\n",
              "      <th>58</th>\n",
              "      <td>Были ли викинги в ирландии?</td>\n",
              "      <td>Отметим, что в старофранцузском языке слова «норманн» и «викинг» — не вполне являются синонимами. Норманнами франки называли всех «северян», в том числе славян, русов, финнов и т. д., а не только скандинавов. В Германии X—XI веков викингов называли аскеманнами — «ясеневыми людьми», то есть «плывущими на ясенях» , так как верхняя обшивка и мачты военных судов викингов выполнялись из этого дерева. Англосаксы называли их данами, независимо от того, приплыли ли они именно из Дании, или из Норвегии, Швеции, Исландии, Финляндии, Руси. В Ирландии их всех различали по цвету волос и называли финнгаллами, то есть «светлыми чужеземцами»  или же дубгаллами — «тёмными чужеземцами» .</td>\n",
              "      <td>True</td>\n",
              "      <td>58</td>\n",
              "    </tr>\n",
              "    <tr>\n",
              "      <th>59</th>\n",
              "      <td>Были ли викинги в исландии?</td>\n",
              "      <td>В эпоху викингов  скандинавы-викинги путешествовали от Ирландии и до Руси, занимаясь торговлей, охотой и грабежом. Около 860 года викинги открыли остров, назвав его «Исландией» , и основали там ряд колоний. Совершая частые плавания на Запад, викинги, как ныне считается, первыми из европейцев посетили Америку, кроме того, в эпоху викингов произошел также первый генетический контакт между европейцами и жителями Северной Америки. Около 900 года из Норвегии отправился корабль под командой Гуннбьёрна. Он сбился с курса, и викинги увидели остров .</td>\n",
              "      <td>True</td>\n",
              "      <td>59</td>\n",
              "    </tr>\n",
              "    <tr>\n",
              "      <th>60</th>\n",
              "      <td>Были ли викинги в исландии?</td>\n",
              "      <td>История Исландии хорошо известна благодаря большому количеству саг, дошедших до нас. Обычная исландская сага — это описание жизни одного человека  на протяжении многих лет, с подробным описанием важнейших событий. Население Исландии было небольшим, а потому и её история — это история меньших или больших частных дел и конфликтов. Древние исландцы были искусными мореходами и викингами. Если верить «Саге о Гренландцах», сын Эрика Рыжего Лейф Счастливый в 1000 году достиг берегов Америки и попытался основать колонию в «Виноградной стране» — Винланде .</td>\n",
              "      <td>True</td>\n",
              "      <td>60</td>\n",
              "    </tr>\n",
              "  </tbody>\n",
              "</table>\n",
              "</div>"
            ],
            "text/plain": [
              "                       question  ... idx\n",
              "57  Были ли викинги в ирландии?  ...  57\n",
              "58  Были ли викинги в ирландии?  ...  58\n",
              "59  Были ли викинги в исландии?  ...  59\n",
              "60  Были ли викинги в исландии?  ...  60\n",
              "\n",
              "[4 rows x 4 columns]"
            ]
          },
          "metadata": {
            "tags": []
          },
          "execution_count": 21
        }
      ]
    },
    {
      "cell_type": "code",
      "metadata": {
        "colab": {
          "base_uri": "https://localhost:8080/",
          "height": 349
        },
        "id": "2oG1N-yZd4J_",
        "outputId": "b33bf0ea-7637-4580-9397-1c6228d33344"
      },
      "source": [
        "filter = df.question.str.contains('Были ли у цезаря враги?')\r\n",
        "df[filter]"
      ],
      "execution_count": 24,
      "outputs": [
        {
          "output_type": "execute_result",
          "data": {
            "text/html": [
              "<div>\n",
              "<style scoped>\n",
              "    .dataframe tbody tr th:only-of-type {\n",
              "        vertical-align: middle;\n",
              "    }\n",
              "\n",
              "    .dataframe tbody tr th {\n",
              "        vertical-align: top;\n",
              "    }\n",
              "\n",
              "    .dataframe thead th {\n",
              "        text-align: right;\n",
              "    }\n",
              "</style>\n",
              "<table border=\"1\" class=\"dataframe\">\n",
              "  <thead>\n",
              "    <tr style=\"text-align: right;\">\n",
              "      <th></th>\n",
              "      <th>question</th>\n",
              "      <th>passage</th>\n",
              "      <th>label</th>\n",
              "      <th>idx</th>\n",
              "    </tr>\n",
              "  </thead>\n",
              "  <tbody>\n",
              "    <tr>\n",
              "      <th>76</th>\n",
              "      <td>Были ли у цезаря враги?</td>\n",
              "      <td>В течение четырёх лет сторонники сената, сгруппировавшиеся вокруг Помпея, были разбиты Цезарем в Италии, Испании , Греции и Африке, также им были разбиты войска правителей Египта и Понта. Придерживался политики милосердия, но в то же время казнил ряд своих ключевых оппонентов. Добившись полной победы над противниками, сконцентрировал в своих руках власть консула и чрезвычайные полномочия диктатора , провёл ряд реформ во всех сферах жизни общества. При жизни Цезаря началось его обожествление, почётный титул полководца-победителя «император» стал частью его имени, однако он отказывался от власти древних римских царей. После убийства Цезаря группой сенаторов во главе с Марком Юнием Брутом внучатый племянник Цезаря Гай Октавий принял его имя и получил большую часть наследства по завещанию, став впоследствии первым императором.</td>\n",
              "      <td>True</td>\n",
              "      <td>76</td>\n",
              "    </tr>\n",
              "    <tr>\n",
              "      <th>77</th>\n",
              "      <td>Были ли у цезаря враги?</td>\n",
              "      <td>Гражда́нская война́ в Дре́внем Ри́ме продолжалась с 49 по 45 года до н. э. и была одним из последних крупных внутренних конфликтов в Римской республике перед установлением империи. Она началась со столкновений Гая Юлия Цезаря , его политических сторонников  и верных ему легионов против оптиматов, которых возглавлял Гней Помпей Великий. Боевые действия длились четыре года на территории многих римских провинций: Италии, Африки, Иллирии, Египта, Испании, Ахеи. Победу одержал Цезарь, что позволило получить ему статус пожизненного диктатора. Несмотря на то, что через год он был убит, эти события впоследствии привели к падению республиканского строя и установлению монархической власти Октавиана Августа, приёмного сына Цезаря.</td>\n",
              "      <td>True</td>\n",
              "      <td>77</td>\n",
              "    </tr>\n",
              "    <tr>\n",
              "      <th>78</th>\n",
              "      <td>Были ли у цезаря враги?</td>\n",
              "      <td>Они не получили ожидаемой поддержки; в день похорон Цезаря народ окончательно встал на сторону его «партии», которую возглавлял Марк Антоний. Летом 44 года до н. э. заговорщики разъехались по провинциям. Постепенно разгорелась гражданская война, в которой они к концу 42 года до н. э. потерпели поражение и погибли один за другим. Убийство Цезаря изображено во множестве произведений живописи и литературы. Римская республика в 50-е годы до н. э. переживала глубокий политический кризис, который позже перерос в гражданскую войну.</td>\n",
              "      <td>True</td>\n",
              "      <td>78</td>\n",
              "    </tr>\n",
              "    <tr>\n",
              "      <th>79</th>\n",
              "      <td>Были ли у цезаря враги?</td>\n",
              "      <td>Убийство Гая Юлия Цезаря произошло 15 марта 44 года до н. э. в Риме. Выдающийся полководец Гай Юлий Цезарь в ходе гражданской войны 49—45 годов до н. э. разгромил своих политических врагов и установил единоличную власть над Римской державой. Группа сенаторов во главе с Гаем Кассием Лонгином и Марком Юнием Брутом организовала заговор, чтобы убить Цезаря и восстановить Республику. На заседании сената в иды марта заговорщики набросились на диктатора с кинжалами и нанесли ему 23 раны, от которых он умер на месте. После этого убийцы заняли Капитолий.</td>\n",
              "      <td>True</td>\n",
              "      <td>79</td>\n",
              "    </tr>\n",
              "  </tbody>\n",
              "</table>\n",
              "</div>"
            ],
            "text/plain": [
              "                   question  ... idx\n",
              "76  Были ли у цезаря враги?  ...  76\n",
              "77  Были ли у цезаря враги?  ...  77\n",
              "78  Были ли у цезаря враги?  ...  78\n",
              "79  Были ли у цезаря враги?  ...  79\n",
              "\n",
              "[4 rows x 4 columns]"
            ]
          },
          "metadata": {
            "tags": []
          },
          "execution_count": 24
        }
      ]
    },
    {
      "cell_type": "code",
      "metadata": {
        "colab": {
          "base_uri": "https://localhost:8080/",
          "height": 1000
        },
        "id": "U4cXPz50xbtp",
        "outputId": "99cef369-298b-45af-93dc-a904825da124"
      },
      "source": [
        "df.iloc[250:300]"
      ],
      "execution_count": 80,
      "outputs": [
        {
          "output_type": "execute_result",
          "data": {
            "text/html": [
              "<div>\n",
              "<style scoped>\n",
              "    .dataframe tbody tr th:only-of-type {\n",
              "        vertical-align: middle;\n",
              "    }\n",
              "\n",
              "    .dataframe tbody tr th {\n",
              "        vertical-align: top;\n",
              "    }\n",
              "\n",
              "    .dataframe thead th {\n",
              "        text-align: right;\n",
              "    }\n",
              "</style>\n",
              "<table border=\"1\" class=\"dataframe\">\n",
              "  <thead>\n",
              "    <tr style=\"text-align: right;\">\n",
              "      <th></th>\n",
              "      <th>question</th>\n",
              "      <th>passage</th>\n",
              "      <th>label</th>\n",
              "      <th>idx</th>\n",
              "    </tr>\n",
              "  </thead>\n",
              "  <tbody>\n",
              "    <tr>\n",
              "      <th>250</th>\n",
              "      <td>Есть ли в домашнем квасе алкоголь?</td>\n",
              "      <td>Квас  — традиционный славянский и балтский кислый напиток, который готовят на основе брожения из муки и солода  или из сухого ржаного хлеба, иногда с добавлением пахучих трав, мёда, пчелиных сотов; также готовится из свёклы, фруктов, ягод. Квас используется не только как напиток, но и является основой для классических холодных похлёбок русской кухни . До XII века квас на Руси был крепче и гуще современного пива. Квас считался алкогольным напитком, и аналогом слова «пьяница» на языке того времени было слово «квасник» . С XII века стали различать квас как кислый слабоалкогольный напиток и квас как сильно опьяняющий напиток.</td>\n",
              "      <td>True</td>\n",
              "      <td>250</td>\n",
              "    </tr>\n",
              "    <tr>\n",
              "      <th>251</th>\n",
              "      <td>Вредны ли дрожжи в хлебе?</td>\n",
              "      <td>Дрожжефобия, дрожжи-убийцы — распространённая в России с начала 2000-х годов теория заговора о вреде для здоровья дрожжей, являющаяся частью движения Нью-Эйдж и опровергаемая многими экспертами. Первые упоминания дрожжефобии можно найти в книге американских пропагандистов сыроедения Юджина и Молли Грисволд Кристиан, вышедшей в 1904 году, где авторы пишут о процессе подъёма теста в результате «инфицирования» дрожжами и сравнивают дрожжи с червями. Дрожжефобия получила распространение в России в начале 2000-х годов. Вероятно, первый текст на эту тему появился в 2000 году в газете «АиФ — здоровье»: это была статья журналиста В. Волкова «Дрожжи-киллеры», в которой со ссылкой на «американских учёных» утверждалось, что дрожжи вызывают рак. Теорию заговора поддерживают православные фундаменталисты, считающие, что «термофильные дрожжи» выращиваются на костях людей и животных и что они изобретены «гитлеровцами» как биологическое оружие для уничтожения русского народа.</td>\n",
              "      <td>False</td>\n",
              "      <td>251</td>\n",
              "    </tr>\n",
              "    <tr>\n",
              "      <th>252</th>\n",
              "      <td>Вреден ли дуст для растений?</td>\n",
              "      <td>Можно ожидать, что использование широко распространённых фильтрующих СИЗОД в сочетании с «заменой фильтров по появлении запаха под маской»  приведёт к чрезмерному воздействию гексахлорана на, по крайней мере, часть работников — из-за запоздалой замены противогазных фильтров. Для защиты от этого вещества следует использовать значительно более эффективные изменение технологии и средства коллективной защиты. ГХЦГ и его изомеры  представляет большую угрозу животному и растительному миру. Обладает ярко выраженным кумулятивным свойством. Накапливается в организмах животных , в растениях .</td>\n",
              "      <td>True</td>\n",
              "      <td>252</td>\n",
              "    </tr>\n",
              "    <tr>\n",
              "      <th>253</th>\n",
              "      <td>Передается ли еврейство по отцу?</td>\n",
              "      <td>Негалахические евреи — граждане Израиля еврейского происхождения, не признаваемые государством как евреи на основе религиозного закона Галаха. В Израиле, в соответствии с Галахой, принадлежность к еврейству определяется по матери. Начиная с 2010 года, любой, кто иммигрировал в Израиль после 1990 года и желает вступить в брак или развестись по еврейской традиции, должен пройти «тест на еврейство» в еврейском религиозном суде. Во многих других государствах молодые люди, имеющие родителей разных национальностей, имеют возможность выбрать национальность любого из родителей исходя из личных предпочтений. Вследствие этого множество граждан других государств, считающих себя или числящихся по личным документам евреями в странах исхода, в Израиле таковыми не считаются.</td>\n",
              "      <td>False</td>\n",
              "      <td>253</td>\n",
              "    </tr>\n",
              "    <tr>\n",
              "      <th>254</th>\n",
              "      <td>Передается ли еврейство по отцу?</td>\n",
              "      <td>Политическое объяснение: в ходе войн евреев с римлянами немало еврейских женщин были изнасилованы неевреями, и закон был изменён таким образом, чтобы включить их детей в еврейский народ. Демографическое объяснение: многие еврейские мужчины погибали в войнах, поэтому пришлось принять в нацию тех детей, которые были рождены от нееврейских мужчин. Юридическое объяснение: римское право придаёт особое значение законности брака. Дети, родившиеся у отцов, имевших римское гражданство, но не заключавших законного брака, получали происхождение матери и не получали гражданских прав отца. Тем самым, еврейский обычай является зеркальным отображением этого закона.</td>\n",
              "      <td>False</td>\n",
              "      <td>254</td>\n",
              "    </tr>\n",
              "    <tr>\n",
              "      <th>255</th>\n",
              "      <td>Едят ли в греции греческий салат?</td>\n",
              "      <td>Гре́ческий сала́т  — греческий салат из помидоров, огурцов, феты, шалота и маслин, заправленный оливковым маслом с солью, чёрным перцем, орегано. Ключевым компонентом салата является фета — традиционный греческий сыр из овечьего или козьего молока. Часто в салат добавляют сладкий перец , реже — каперсы или анчоусы. В англоязычных странах в рецепт всегда включают листовой салат, обычно — лук или сладкий перец; иногда добавляют и другие ингредиенты . В самой Греции такие варианты почти не встречаются.</td>\n",
              "      <td>False</td>\n",
              "      <td>255</td>\n",
              "    </tr>\n",
              "    <tr>\n",
              "      <th>256</th>\n",
              "      <td>Едят ли кроликов в австралии?</td>\n",
              "      <td>В 1907 году в попытке сдержать кроликов на территории западной Австралии был возведён защитный забор. В 1950-х годах среди популяции кроликов был распространён вирус, вызывающий миксоматоз, что привело к серьёзному сокращению поголовья кроликов, однако через некоторое время эффективность этого метода борьбы упала в связи с адаптацией кроликов к вирусу. Кроликов завезли в Австралию на кораблях Первого флота в 1788 году. Их содержали  для забоя на мясо. В первые десятилетия кролики были немногочисленны, судя по отсутствию их останков в археологических следах трапез первых колонистов.</td>\n",
              "      <td>True</td>\n",
              "      <td>256</td>\n",
              "    </tr>\n",
              "    <tr>\n",
              "      <th>257</th>\n",
              "      <td>Едят ли кроликов в австралии?</td>\n",
              "      <td>Дикий кролик, или европейский кролик  — вид кролика родом из южной Европы. Единственный вид кроликов, который был одомашнен и дал всё современное разнообразие пород. В течение истории кролики были случайно или нарочно завезены во многие изолированные экосистемы, включая Австралию, в которых они нарушали баланс, что часто приводило к экологическому бедствию. Европейский кролик был одомашнен во времена римлян, и кролики до сих пор выращиваются как на мясо и на мех, так и в качестве домашних питомцев. Дикий кролик является важным охотничье-промысловым объектом, а также играет важнейшую роль в пищевой цепи.</td>\n",
              "      <td>True</td>\n",
              "      <td>257</td>\n",
              "    </tr>\n",
              "    <tr>\n",
              "      <th>258</th>\n",
              "      <td>Едят ли в европе супы?</td>\n",
              "      <td>Часто используют и различные добавки: крахмал, рис, манную крупу, макароны или клёцки. Рецепты приготовления и география распространения подобных супов  от региона к региону различаются. Украинцы исконно почитают свекольник. В Прибалтике и Центральной Европе  основным является холодник, холодный суп на зелени  крапивы, ревеня, лебеды, огуречника, молодой ботвы свёклы, с обязательным добавлением варёного яйца. Вильям Похлёбкин выделял в русской и белорусской кухне три холодных шедевра на первое: тюря, окрошка и холодник.</td>\n",
              "      <td>True</td>\n",
              "      <td>258</td>\n",
              "    </tr>\n",
              "    <tr>\n",
              "      <th>259</th>\n",
              "      <td>Едят ли творог в европе?</td>\n",
              "      <td>В небольшой мере творог употребляется в Великобритании, Северной Америке, Японии и практически полностью отсутствует в Южной Европе и других местах мира. Слова «творог» и «сыр» в современном русском языке разделяются. В древнерусском, украинском, сербском и некоторых других славянских языках слово «сир» означает как собственно сыр, так и творог, поэтому продукты из творога до сих пор часто называют «сырными» . В англоязычной культуре творог считается сортом молодого мягкого сыра, тогда как в современной русскоязычной среде творог обычно сортом сыра не считается. по способу приготовления  Существует два способа производства творога — традиционный  и раздельный.По способу свёртывания белков молока при традиционном  способе творог разделяют на кислотный и кислотно-сычужный.</td>\n",
              "      <td>True</td>\n",
              "      <td>259</td>\n",
              "    </tr>\n",
              "    <tr>\n",
              "      <th>260</th>\n",
              "      <td>Едят ли творог в европе?</td>\n",
              "      <td>Творо́г или тво́рог  — нежидкий кисломолочный продукт белого цвета, традиционный для Восточной, Северной и  Центральной Европы, получаемый сквашиванием молока с последующим удалением сыворотки. Официально принято классифицировать творог, выработанный традиционным способом, по содержанию в нём жира. В соответствии с ГОСТом РФ, по физико-химическим показателям творог должен соответствовать следующим категориям: обезжиренный, нежирный, классический и жирный. Также по способу изготовления видами творога являются простой, зерненый, мягкий. В странах бывшего СССР творог изготовляется и непосредственно употребляется пресным или сладким, в остальных странах Восточной и Центральной Европы — пресным или солоноватым, в Северной Европе — солоноватым.</td>\n",
              "      <td>True</td>\n",
              "      <td>260</td>\n",
              "    </tr>\n",
              "    <tr>\n",
              "      <th>261</th>\n",
              "      <td>Едят ли в китае имбирь?</td>\n",
              "      <td>Маринованный в сладком уксусе молодой имбирь — гари  используют как приправу к суши и роллам, а также для их заедания с целью подготовки вкусовых рецепторов к другому виду суши. Для более привлекательного цвета гари подкрашивают в розовый цвет листьями красной периллы: натуральный цвет гари желтовато-серый. Кроме того, нарезанный мелкой соломкой и маринованный в рассоле от умэбоси имбирь носит название бэни сёга  , и применяется в качестве гарнира к таким блюдам как гюдон, якисоба, тонкацу и т.п. Имбирь употребляют и как самостоятельный продукт. В Юго-Восточной Азии свежий имбирь засахаривают и делают из него варенье, в Китае, Индокитае, Бирме и в Англии в состав варенья из имбиря добавляют апельсиновую корку — варенье известно под названием чоу-чоу.</td>\n",
              "      <td>True</td>\n",
              "      <td>261</td>\n",
              "    </tr>\n",
              "    <tr>\n",
              "      <th>262</th>\n",
              "      <td>Едят ли тараканов в китае?</td>\n",
              "      <td>Таракановодство — отрасль насекомоводства, занимающаяся разведением тараканов. Весьма развита в Китае. Выращенные тараканы используются в качестве еды для людей и корма для домашних животных, а также идут в фармацевтическую промышленность для производства лекарств. Тараканов обычно умерщвляют в баках с кипящей водой, высушивают и перемалывают. Фермеры описывают тараканов как «легко выращиваемых и окупаемых».</td>\n",
              "      <td>True</td>\n",
              "      <td>262</td>\n",
              "    </tr>\n",
              "    <tr>\n",
              "      <th>263</th>\n",
              "      <td>Едят ли у манго кожуру?</td>\n",
              "      <td>Плоды округлой формы, без клювика, длиной около 10 см. Кожура от зелёной до коричневатой окраски, часто бывает покрыта пятнами и крапинками, содержит едкий сок, который может вызвать раздражение кожи. Мякоть сочная, жёлтая, мягковолокнистая, приятного кисло-сладкого вкуса с лёгким смолистым привкусом, но очень неприятным запахом скипидара и гнили. Косточка толстая, длиной до 8 см, прикреплена к мякоти плода. Спелые плоды едят в сыром виде, но их нужно тщательно очищать от едкой кожицы.</td>\n",
              "      <td>False</td>\n",
              "      <td>263</td>\n",
              "    </tr>\n",
              "    <tr>\n",
              "      <th>264</th>\n",
              "      <td>Едят ли коров в индии?</td>\n",
              "      <td>Корова почитается как свяще́нное животное в индуизме, джайнизме, зороастризме, также почиталась ранее в Древнем Египте, Древней Греции и Древнем Риме. Употребление говядины и даже забой коров в индуизме является табу. Из-за этого табу возник фразеологизм «священная корова» — тот, кто обладает правовым иммунитетом. Корова почитается в индуизме как священное животное. Она олицетворяет изобилие, чистоту, святость и рассматривается как благостное животное.</td>\n",
              "      <td>False</td>\n",
              "      <td>264</td>\n",
              "    </tr>\n",
              "    <tr>\n",
              "      <th>265</th>\n",
              "      <td>Едят ли коров в индии?</td>\n",
              "      <td>Появившаяся незадолго перед этим винтовка Энфилда с капсюльным замком снабжалась патронами, сделанными из пропитанной салом бумаги. Во время зарядки патрон надлежало скусывать, в то время как в индуизме запрещено питаться мясом коров, а в исламе свинья — нечистое животное. Хотя подразделения сипаев специально комплектовались по смешанному признаку, это не помешало сговору мусульман и индусов. Как оказалось позднее, пули пропитывались растительным маслом. В конце XIX века в Северной Индии появилось движение, которое выступало в защиту коров, за объединение всех индусов и проведения границы между индусами и мусульманами путём введения запрета на убийство коров.</td>\n",
              "      <td>False</td>\n",
              "      <td>265</td>\n",
              "    </tr>\n",
              "    <tr>\n",
              "      <th>266</th>\n",
              "      <td>Едят ли в пост морепродукты?</td>\n",
              "      <td>Различные религиозные конфессии и течения предписывают собственные правила питания, включающие ограничения на употребление тех или иных пищевых продуктов и напитков. В христианстве употребление идоложертвенного категорически возбраняется, а нарушение этого запрета влечет за собой суровые канонические наказания. Например, правила Поместного Анкирского Собора  накладывают на христиан, употреблявших в пищу идоложертвенное, наказание в форме отлучения от церковного общения сроком от одного года до семи лет, в зависимости от тяжести их вины и многократности преступления. Во время поста , в зависимости от его степени строгости, воспрещается употребление: мяса и молочных продуктов, рыбы, яиц. В христианстве запрещены к употреблению в пищу кровь животных; мертвечина, удавленина и звероядина.</td>\n",
              "      <td>False</td>\n",
              "      <td>266</td>\n",
              "    </tr>\n",
              "    <tr>\n",
              "      <th>267</th>\n",
              "      <td>Едят ли вегетарианцы рыбу и морепродукты?</td>\n",
              "      <td>Вегетарианцы не употребляют в пищу мясо, птицу, рыбу и морепродукты. Молочные продукты и яйца не употребляются лишь частью вегетарианцев. Неоднозначно отношение строгих вегетарианцев  к мёду. Грибы традиционно относят к растительной пище, хотя современная наука выделяет их в отдельное царство. Некоторые вегетарианцы, кроме определённой пищи, также исключают и: одежду и другую продукцию, части которой изготовлены из меха, кожи и т. д.; продукцию, в состав которой входят компоненты животного происхождения ; продукцию, прошедшую испытание на животных.Праздники: 1 октября — Всемирный день вегетарианства.</td>\n",
              "      <td>False</td>\n",
              "      <td>267</td>\n",
              "    </tr>\n",
              "    <tr>\n",
              "      <th>268</th>\n",
              "      <td>Едят ли вегетарианцы рыбу и морепродукты?</td>\n",
              "      <td>Впервые употребление слова «флекситарианство» зафиксировано в октябре 1992 года в выпуске Austin American-Statesman. В этом выпуске репортёр Линда Антони написала статью «Acorn serves up 'flexitarian fare'». Эта статья описывала недавнее открытие «Желудёвого кафетерия», хозяйка которого, Хэльга Морас, называла своё питание «флекситарианским». Флекситарианство часто критикуется вегетарианцами или веганами, которые утверждают, что это направление не может считаться вегетарианством. Согласно этой критике, вегетарианцы — это те, кто полностью исключил мясо, рыбу и морепродукты из своего рациона.</td>\n",
              "      <td>False</td>\n",
              "      <td>268</td>\n",
              "    </tr>\n",
              "    <tr>\n",
              "      <th>269</th>\n",
              "      <td>Едят ли в индии мясо?</td>\n",
              "      <td>Во времена движения Срамана часть населения Индии стала вегетарианцами, климат Индии позволяет выращивать фрукты, овощи и зерно в течение всего года. Йога разделяет пищу на саатвик и раажсик или таамсик. Бхагавад Гита тоже предписывает нормы питания . Употребление в пищу говядины строго запрещено, так как корова является священным животным в индуизме. Говядину в Индии не едят, кроме района Керала и северо-восточной части Индии.</td>\n",
              "      <td>True</td>\n",
              "      <td>269</td>\n",
              "    </tr>\n",
              "    <tr>\n",
              "      <th>270</th>\n",
              "      <td>Едят ли ножки у опят?</td>\n",
              "      <td>Более опасно спутать опёнок луговой с ядовитой говорушкой выбеленной  Gillet), которая растёт примерно в тех же условиях, образуя «ведьмины круги», но отличается беловатой шляпкой без центрального бугорка, частыми низбегающими пластинками и мучным запахом мякоти. Съедобный гриб IV категории. Используются только шляпки, так как ножки, особенно у старых грибов, очень жёсткие. Пригоден для всех видов переработки. Опёнок луговой содержит маразмовую кислоту, активную против золотистого стафилококка и других болезнетворных бактерий.</td>\n",
              "      <td>False</td>\n",
              "      <td>270</td>\n",
              "    </tr>\n",
              "    <tr>\n",
              "      <th>271</th>\n",
              "      <td>Едят ли имбирь с роллами?</td>\n",
              "      <td>Маринованный в сладком уксусе молодой имбирь — гари  используют как приправу к суши и роллам, а также для их заедания с целью подготовки вкусовых рецепторов к другому виду суши. Для более привлекательного цвета гари подкрашивают в розовый цвет листьями красной периллы: натуральный цвет гари желтовато-серый. Кроме того, нарезанный мелкой соломкой и маринованный в рассоле от умэбоси имбирь носит название бэни сёга  , и применяется в качестве гарнира к таким блюдам как гюдон, якисоба, тонкацу и т.п. Имбирь употребляют и как самостоятельный продукт. В Юго-Восточной Азии свежий имбирь засахаривают и делают из него варенье, в Китае, Индокитае, Бирме и в Англии в состав варенья из имбиря добавляют апельсиновую корку — варенье известно под названием чоу-чоу.</td>\n",
              "      <td>True</td>\n",
              "      <td>271</td>\n",
              "    </tr>\n",
              "    <tr>\n",
              "      <th>272</th>\n",
              "      <td>Едят ли сельдерей в сыром виде?</td>\n",
              "      <td>Биологическая активность растений, содержащих витамин С, витамин B6, каротин, фолацин — это тот комплекс витаминов, которые необходимы для нормальной жизнедеятельности человека, она проявляется и обнаруживает свои полезные свойства даже при сравнительно небольшом количестве пряных трав в рационе. Энергетическая ценность свежей зелени : белки: 1,78 г ; жиры: 0,55 г ; углеводы: 4,15 г .Энергетическое соотношение : 28 %|19 %|65 %. Особую ценность растительная пища, в том числе, зелень, приобретает в последнее время в связи с распространением вегетарианства, увеличения в ежедневном рационе количество сложных по строению углеводов — пищевых волокон, или растительной клетчатки. В пищу употребляют свежие молодые нежные части зелёных растений. В пищу зелень, особенно листья салата, употребляют в свежем виде, отдельно или вместе с редисом, огурцами; из них можно делать бутерброды.</td>\n",
              "      <td>True</td>\n",
              "      <td>272</td>\n",
              "    </tr>\n",
              "    <tr>\n",
              "      <th>273</th>\n",
              "      <td>Едят ли сельдерей в сыром виде?</td>\n",
              "      <td>Зелень — свежие молодые побеги растений, растущих в культивированном или свободном виде, употребляемые как в виде самостоятельного блюда, так и как приправа для различных блюд. Зелень кладут в салаты, добавляют в супы, используют как приправу при тушении мяса, с ними готовят соусы, делают пюре, едят в сыром виде. В современных русском языке и в русской кухне чаще всего под зеленью подразумеваются те зелёные травы, дикорастущие и огородные , которые являются пряностями и служат источником полезных веществ. В русской кухне есть свои приправы, например, щавель, кориандр, крапива, листья сельдерея, побеги чеснока, черемша. Народы других стран используют в качестве зелени другие травы и растения, произрастающие в данном регионе.</td>\n",
              "      <td>True</td>\n",
              "      <td>273</td>\n",
              "    </tr>\n",
              "    <tr>\n",
              "      <th>274</th>\n",
              "      <td>Едят ли сельдерей в сыром виде?</td>\n",
              "      <td>Тофу, также нарезанный, обжаривается в растительном масле, иногда в мучной панировке. Соевые проростки обычно ошпариваются кипятком, овощи идут в ход в сыром виде. Огурец и стебель сельдерея нарезаются ломтиками, капуста шинкуется. Яйцо — как правило, не более одного на порцию — традиционно принято разрезать на половинки или четвертушки. Существует также достаточно редкий вариант кетопрака, в котором вместо вареного яйца используется яичница или омлет из одного яйца — подобное практикуется, в частности, в западнояванском городе Чиребон.</td>\n",
              "      <td>True</td>\n",
              "      <td>274</td>\n",
              "    </tr>\n",
              "    <tr>\n",
              "      <th>275</th>\n",
              "      <td>Едят ли хинкали с соусом?</td>\n",
              "      <td>Хинка́л — традиционное блюдо кавказской кухни, одно из наиболее популярных и в наши дни. Представляет собой вареные в мясном бульоне кусочки теста , подаваемые с бульоном, варёным мясом и соусом. Хинкал не следует путать с грузинским хинкали, представляющим собой существенно иной тип блюда. Варят мясо . Готовят тесто для «хинкалин».</td>\n",
              "      <td>True</td>\n",
              "      <td>275</td>\n",
              "    </tr>\n",
              "    <tr>\n",
              "      <th>276</th>\n",
              "      <td>Едят ли айву в сыром виде?</td>\n",
              "      <td>Айва в Средиземноморье считалась в древности символом любви и плодородия и была посвящена богине Венере. Айва разводится как плодовое дерево, дающее красивые и душистые плоды, и как подвой для прививки груш в формовой культуре. Плоды в сыром виде малосъедобны, их чаще всего используют для приготовления прохладительных напитков, компотов, желе, варенья, мармелада и как приправу к мясу. В народной медицине семена применяются при запоре, колитах, метеоризме, заболеваниях дыхательных путей, маточных кровотечениях, при кашле. Зрелые плоды применяют при туберкулёзе, бронхиальной астме, желудочно-кишечных заболеваниях.</td>\n",
              "      <td>False</td>\n",
              "      <td>276</td>\n",
              "    </tr>\n",
              "    <tr>\n",
              "      <th>277</th>\n",
              "      <td>Едят ли брокколи в сыром виде?</td>\n",
              "      <td>Плоды горькие, богатые витаминами и железом, их собирают незрелыми, для удаления горечи на несколько часов замачивают в солёной воде, после вымачивания тушат или варят. Молодые плоды консервируют в маринаде. Молодые листья, побеги и цветки употребляют в тушёном виде. Сок растения в сыром виде ядовит, используется для лечения артрита, ревматизма, астмы, некоторых кожных заболеваний, диабета и как детское глистогонное средство. У недозрелых плодов семена перед кулинарным использованием вытаскивают, а у созревших семена становятся сладкими и могут быть употреблены в пищу.</td>\n",
              "      <td>False</td>\n",
              "      <td>277</td>\n",
              "    </tr>\n",
              "    <tr>\n",
              "      <th>278</th>\n",
              "      <td>Едят ли кожуру у личи?</td>\n",
              "      <td>Однако из этих многочисленных цветков соцветия развивается лишь 3‒15 плодов, остальные осыпаются. Плоды овальные, длиной 2,5‒4 см, весом около 20 г. Кожура их розово-красного цвета, покрыта многочисленными остроконечными бугорками, легко отделяется от мякоти, несъедобна. Светлая желеобразная водянистая мякоть обладает сладким вкусом с небольшим винным оттенком. По вкусу личи напоминает смесь винограда с клубникой луговой, недоспелые немного вяжущие. В центре плода располагается тёмно-коричневая косточка овальной формы.</td>\n",
              "      <td>False</td>\n",
              "      <td>278</td>\n",
              "    </tr>\n",
              "    <tr>\n",
              "      <th>279</th>\n",
              "      <td>Едят ли в шашках назад?</td>\n",
              "      <td>Правила аналогичны международным шашкам, но игра ведётся на доске 8×8, по 12 шашек с каждой стороны. Распространены в Испании, Португалии, во многих странах Латинской Америки, на Филиппинах, в Скандинавии и в некоторых районах Германии. Игра ведётся 12 шашками на стандартной доске по белым полям. Дамка ходит на любое количество клеток вперёд и назад; Простая шашка не может бить назад; Бить нужно максимально возможное количество шашек соперника, а при равных вариантах боя нужно бить максимальное количество дамок. Если шашка во время боя достигает дамочного поля, то она превращается в дамку и останавливается даже при возможности боя.</td>\n",
              "      <td>False</td>\n",
              "      <td>279</td>\n",
              "    </tr>\n",
              "    <tr>\n",
              "      <th>280</th>\n",
              "      <td>Едят ли в шашках назад?</td>\n",
              "      <td>Ру́сские ша́шки — традиционный и наиболее популярный вид шашек в России, странах бывшего СССР и в Израиле. Цель игры — лишить противника возможности хода путём взятия или запирания всех его шашек . Отличительные особенности: Шашки ходят только по клеткам тёмного цвета. Доска расположена так, чтобы угловое поле внизу слева со стороны игрока было тёмным. Простая шашка бьёт вперёд и назад, дамка ходит и бьёт на любое поле диагонали.</td>\n",
              "      <td>True</td>\n",
              "      <td>280</td>\n",
              "    </tr>\n",
              "    <tr>\n",
              "      <th>281</th>\n",
              "      <td>А едят ли вегетарианцы яйца?</td>\n",
              "      <td>Вегетариа́нство — питание растительной и молочной пищей, а также яйцами, с отказом от мясной пищи животного происхождения . Некоторые варианты вегетарианской диеты могут исключать молочные продукты. Люди становятся вегетарианцами по различным причинам: этическим, экологическим, экономическим, медицинским, религиозным. Существуют различные виды вегетарианства. Наиболее строгой его разновидностью является веганство.</td>\n",
              "      <td>True</td>\n",
              "      <td>281</td>\n",
              "    </tr>\n",
              "    <tr>\n",
              "      <th>282</th>\n",
              "      <td>Едят ли в северной корее собак?</td>\n",
              "      <td>Суп из собаки , или кэджангук ) — блюдо национальной кухни Кореи, основным компонентом которого является мясо собаки. Утверждается, что этот суп увеличивает мужскую силу. Название «посинтхан» буквально означает «суп, укрепляющий организм» и появилось, видимо, в середине XX века, тогда как «кэджангук» — более древнее название, означающее «суп из собаки с соевой пастой». Для приготовления блюда собачатину варят с зелёным луком, листьями периллы и одуванчика, специями . Блюдо является одним из наиболее распространенных корейских продуктов, сделанных из собачатины, имеет долгую историю в корейской культуре, однако в XX веке отношение к нему стало достаточно критичным как внутри страны, так и за её пределами, в том числе в связи с нарушением прав животных.</td>\n",
              "      <td>True</td>\n",
              "      <td>282</td>\n",
              "    </tr>\n",
              "    <tr>\n",
              "      <th>283</th>\n",
              "      <td>Была ли екатерина 2 замужем за потемкиным?</td>\n",
              "      <td>Ему удалось опубликовать свои записи в 1906 г., после отмены цензурных ограничений на такую щекотливую касающуюся царской фамилии тему. В своих заметках  Бартенев поведал о своей давней беседе с министром графом Дмитрием Николаевичем Блудовым, к внукам которого он был приглашен в качестве домашнего учителя. Именно Блудову Николай I поручил разобрать бумаги Екатерины II, среди которых находились и её «Записки», и многочисленные письма к Потемкину. «В один из вечеров [осенью 1863 г. ], когда я уже начинал утомляться слушанием, вдруг старик-граф как бы мимоходом сказал, что Екатерина II была замужем за Потемкиным.</td>\n",
              "      <td>True</td>\n",
              "      <td>283</td>\n",
              "    </tr>\n",
              "    <tr>\n",
              "      <th>284</th>\n",
              "      <td>Была ли екатерина 2 замужем за потемкиным?</td>\n",
              "      <td>Свадьба Екатерины II и Потёмкина — морганатический брак, тайное венчание императрицы Екатерины II и её фаворита Григория Потёмкина, судя по сохранившимся свидетельствам действительно имевшее место и состоявшееся летом, осенью 1774 или же в начале января 1775 года. 30 мая 1774  8 июня 1774  осень 1774 в начале января 1775 года  1784 год  Существует несколько версий о месте венчания. Кроме того, неизвестно, почему духовник императрицы не мог совершить таинство в любом неосвящённом помещении её дворца, и неясно, для чего — может быть, для сохранения секрета, им пришлось покинуть здание. Сампсониевский собор  Храм Вознесения Господня в Сторожах, у Никитских ворот   — согласно устойчивой московской легенде, венчание состоялось не в Петербурге, а в этой московской церкви . Храм находился на территории московских владений Потёмкина Имение Екатерины Пелла под Санкт-Петербургом .</td>\n",
              "      <td>True</td>\n",
              "      <td>284</td>\n",
              "    </tr>\n",
              "    <tr>\n",
              "      <th>285</th>\n",
              "      <td>Была ли екатерина 2 замужем за потемкиным?</td>\n",
              "      <td>Список мужчин Екатерины II включает мужчин, фигурировавших в интимной жизни императрицы Екатерины Великой , в том числе её супругов , официальных фаворитов и возлюбленных. О Екатерине слыла слава из-за ее связей с многочисленными любовниками, впрочем, число имён, реально известных из воспоминаний современников, достигает лишь 23 . Только 10 из них занимали официально пост фаворита со всеми его привилегиями и обязанностями, и поэтому сведения о прочих довольно смутные; в частности, не всегда ясно, до какой стадии доходили их отношения с императрицей и как долго они длились, а в отношении нескольких не известны точные фамилии . Самыми известными из её фаворитов были Григорий Орлов, Григорий Потёмкин и Платон Зубов. После смерти мужа Петра III в 1762 году она планировала брак с Орловым, однако по советам приближённых отказалась от этой идеи, а с Потёмкиным, вероятней всего, Екатерина была тайно обвенчана в 1775 году  — с этими двумя мужчинами, а также с рано умершим Александром Лански...</td>\n",
              "      <td>True</td>\n",
              "      <td>285</td>\n",
              "    </tr>\n",
              "    <tr>\n",
              "      <th>286</th>\n",
              "      <td>Есть у марса спутник фобос?</td>\n",
              "      <td>В 1862 и 1864 гг. их искал директор обсерватории Копенгагенского университета Генрих  Луи Д’Арре с помощью 10-дюймового  телескопа-рефрактора, но также не смог их найти. Фобос — внутренний спутник — был открыт в серии наблюдений американского астронома Асафа Холла ночью 17 августа. Наблюдения проводились в военно-морской обсерватории в Вашингтоне, и поэтому, если перевести местное солнечное время к гринвичскому, то официальная дата открытия — это 18 августа 1877 года. В письме Глейшеру от 28 декабря 1877 года Холл пишет: Из различных имен, которые были предложены для этих спутников, мне больше всего нравятся имена из Гомера, предложенные мистером Маданом из Итона, а именно: Деймос для внешнего спутника и Фобос для внутреннего. Таким образом, имена для спутников Марса предложил Генри Джордж Мадан в 1877 году, и взял он их из «Илиады» Гомера.</td>\n",
              "      <td>True</td>\n",
              "      <td>286</td>\n",
              "    </tr>\n",
              "    <tr>\n",
              "      <th>287</th>\n",
              "      <td>Есть у марса спутник фобос?</td>\n",
              "      <td>Марс — четвёртая по удалённости от Солнца и седьмая по размерам планета Солнечной системы; масса планеты составляет 10,7 % массы Земли. Названа в честь Марса — древнеримского бога войны, соответствующего древнегреческому Аресу. Иногда Марс называют «красной планетой» из-за красноватого оттенка поверхности, придаваемого ей минералом маггемитом — γ-оксидом железа. Марс — планета земной группы с разреженной атмосферой . Особенностями поверхностного рельефа Марса можно считать ударные кратеры наподобие лунных, а также вулканы, долины, пустыни и полярные ледниковые шапки наподобие земных. У Марса есть два естественных спутника — Фобос и Деймос , которые относительно малы  и имеют неправильную форму.</td>\n",
              "      <td>True</td>\n",
              "      <td>287</td>\n",
              "    </tr>\n",
              "    <tr>\n",
              "      <th>288</th>\n",
              "      <td>Есть у марса спутник фобос?</td>\n",
              "      <td>У планеты Марс есть два спутника: Фобос  и Деймос . Оба спутника вращаются вокруг своих осей с тем же периодом, что и вокруг Марса, поэтому всегда повёрнуты к планете одной и той же стороной. Оба спутника имеют форму, приближающуюся к трёхосному эллипсоиду. Фобос  несколько больше Деймоса . Приливное воздействие Марса постепенно замедляет движение Фобоса, снижая его орбиту, что, в конце концов, приведёт к его падению на Марс. Деймос же, напротив, удаляется от Марса.</td>\n",
              "      <td>True</td>\n",
              "      <td>288</td>\n",
              "    </tr>\n",
              "    <tr>\n",
              "      <th>289</th>\n",
              "      <td>Есть у марса спутник фобос?</td>\n",
              "      <td>Фо́бос  — один из двух спутников Марса . Был открыт американским астрономом Асафом Холлом в 1877 году и назван в честь древнегреческого бога Фобоса , сына бога войны Ареса. Фобос вращается на среднем расстоянии 2,77 радиуса Марса от центра планеты , что в 41 раз меньше расстояния между центрами Земли и Луны ; перицентр составляет 9235,6 км, апоцентр — 9518,8 км. Фобос делает оборот за 7 ч 39 мин 14 с, что примерно в три раза быстрее вращения Марса вокруг собственной оси. В результате на марсианском небе Фобос восходит на западе и заходит на востоке. Фобос имеет форму, близкую к трёхосному эллипсоиду, большая ось которого направлена на Марс.</td>\n",
              "      <td>True</td>\n",
              "      <td>289</td>\n",
              "    </tr>\n",
              "    <tr>\n",
              "      <th>290</th>\n",
              "      <td>Правда ли что желудок растягивается?</td>\n",
              "      <td>Обычно свечение происходит в виде серии последовательных вспышек, индивидуальных для каждого вида. У придонной галатеатаумы , с глубины около 3600 м, светящаяся «приманка» расположена во рту. В отличие от остальных глубоководных удильщиков, она охотится, по-видимому, лёжа на дне. Взрослые самки удильщиков питаются глубоководными рыбами , ракообразными и реже головоногими моллюсками; самцы — веслоногими рачками и щетинкочелюстными. Желудок самок способен очень сильно растягиваться, благодаря чему они могут заглатывать добычу, нередко превосходящую их собственные размеры.</td>\n",
              "      <td>True</td>\n",
              "      <td>290</td>\n",
              "    </tr>\n",
              "    <tr>\n",
              "      <th>291</th>\n",
              "      <td>Существует ли жанр эклектика в живописи?</td>\n",
              "      <td>Эклектика  — художественное направление в архитектуре, ориентированное на использование в одном сооружении различных форм искусства прошлого в любых сочетаниях; обычно проявляется в периоды смены больших художественных систем. В русской/советской историографии термин «эклектика» долгое время употребляли в качестве синонима термину «историзм». Для разграничения этих понятий и устранения в термине «эклектика» негативных смысловых коннотаций, появившихся на рубеже XIX—XX веков, историки искусства приняли термин «историзм». Эклектика в архитектуре, изобразительном и декоративно-прикладном искусстве представляет собой сочетание разнородных стилевых элементов или произвольный выбор стилистического оформления зданий или художественных изделий, имеющих иной смысл и назначение. Эклектика в искусстве обычно служит эффектной декорацией для произведения культуры, ещё не выработавшей собственного стиля. Поэтому эклектика в большинстве случаев означает отсутствие стилевой целостности.</td>\n",
              "      <td>True</td>\n",
              "      <td>291</td>\n",
              "    </tr>\n",
              "    <tr>\n",
              "      <th>292</th>\n",
              "      <td>Вредна ли жидкость для вейпа?</td>\n",
              "      <td>По всей группе в среднем потребление сигарет сократилось на 88 %. Согласно докладу Национальной академии науки, инженерии и медицины США, использование электронных сигарет может вызвать начало табакокурения у не куривших до этого. Правовая неурегулированность в ряде стран в отношении электронных сигарет , а также вследствие ароматических добавок отмечается повышенное увлечение вейпингом несовершеннолетних, согласно данным Управления по санитарному надзору за качеством пищевых продуктов и медикаментов США. В обзоре Zachary Cahn и Michael Siegel рассмотрены результаты 16 лабораторных исследований, в ходе которых исследовались компоненты жидкости для электронных сигарет. Сделаны выводы, что абсолютная безопасность электронных сигарет не доказана, а заявления FDA о том, что мы пока ничего не знаем о составе жидкости, несостоятельны — на самом деле, он изучен гораздо лучше, чем состав обычных сигарет.</td>\n",
              "      <td>True</td>\n",
              "      <td>292</td>\n",
              "    </tr>\n",
              "    <tr>\n",
              "      <th>293</th>\n",
              "      <td>Был ли у жукова сын?</td>\n",
              "      <td>«Я хорошо знаю Петра,— заявил Ъ помощник Александра Жукова Константин Войцеховский.— Он абсолютно спокойный, выдержанный и уравновешенный человек, весь в отца». По данным чиновника, разговор, скорее всего, идет о тезке сына вице-премьера. «Мало ли Жуковых в Лондоне? — спросил он.— Я лично знаю несколько человек». Господин Войцеховский сказал Ъ, что опорочить Петра Жукова, скорее всего, хотят некие политические враги его отца, которые и подбрасывают в СМИ «лондонскую сплетню».</td>\n",
              "      <td>True</td>\n",
              "      <td>293</td>\n",
              "    </tr>\n",
              "    <tr>\n",
              "      <th>294</th>\n",
              "      <td>Правда ли что гоголя похоронили заживо?</td>\n",
              "      <td>«В 1841 г. у Гоголя окончательно сформировались бредовые идеи величия, зачатки которых были уже в юности и которые в течение всей жизни постепенно кристаллизовались и уяснялись, пока, наконец, под влиянием обострения болезни в 1840 г. не достигли полноты и законченности». Фактором психического расстройства Чиж объясняет религиозную экзальтацию, написание книги «Выбранные места из переписки с друзьями», угасание литературного таланта и другие явления. Прямолинейный подход В. Ф. Чижа оспаривают доктор философских наук, профессор В. М. Розин, доктор культурологии А. П. Давыдов и многие другие учёные. По одной из версий Гоголь заснул летаргическим сном, так как после эксгумации его останков некоторые очевидцы полагали, что скелет писателя принял в гробу неестественное положение. Версию о летаргическом сне опровергают воспоминания скульптора Николая Рамазанова, делавшего посмертную маску Гоголя.По другой версии смерть Гоголя связана с покаянным отвержением им всего плотского , вследстви...</td>\n",
              "      <td>False</td>\n",
              "      <td>294</td>\n",
              "    </tr>\n",
              "    <tr>\n",
              "      <th>295</th>\n",
              "      <td>Правда ли что тараканы заползают в уши?</td>\n",
              "      <td>Живые инородные тела — живые организмы , заползающие в уши или в нос. В уши могут вползать тараканы, мухи, мошки , клопы , жуки  и другие насекомые, а также клещи , и даже улитки. Живые инородные тела помимо чувства заложенности уха и понижения слуха сопровождаются болевыми ощущениями и грохотом в ухе от движений какого-то насекомого по барабанной перепонке. Лечение осуществляет оториноларинголог. Показано вливание в ухо тёплого глицерина или любого жидкого масла, что приводит к гибели насекомого и прекращению неприятных для больного ощущений при его движении.</td>\n",
              "      <td>True</td>\n",
              "      <td>295</td>\n",
              "    </tr>\n",
              "    <tr>\n",
              "      <th>296</th>\n",
              "      <td>Существуют ли атомы с зарядом?</td>\n",
              "      <td>Атомы — самые маленькие частицы, на которые материя может быть разделена с помощью химических реакций. Атом состоит из маленького тяжёлого положительно заряженного ядра, окружённого относительно большим лёгким облаком электронов. Каждый тип атома соответствует определённому химическому элементу, 118 из которых имеют официальное название . Существуют также короткоживущие экзотические атомы, в которых роль ядра  выполняет позитрон  или положительный мюон . Имеются также атомы с отрицательным мюоном вместо одного из электронов .</td>\n",
              "      <td>True</td>\n",
              "      <td>296</td>\n",
              "    </tr>\n",
              "    <tr>\n",
              "      <th>297</th>\n",
              "      <td>Правда ли что титаник затонул?</td>\n",
              "      <td>14 апреля радиостанция «Титаника» приняла семь ледовых предупреждений, однако лайнер продолжал двигаться почти на предельной скорости. Чтобы избежать встречи с плавучими льдами, капитан приказал идти чуть южнее привычного маршрута. 14 апреля в 23:39 вперёдсмотрящий доложил на капитанский мостик об айсберге прямо по курсу. Меньше чем через минуту произошло столкновение. Получив несколько пробоин, пароход начал тонуть.</td>\n",
              "      <td>True</td>\n",
              "      <td>297</td>\n",
              "    </tr>\n",
              "    <tr>\n",
              "      <th>298</th>\n",
              "      <td>Правда ли что титаник затонул?</td>\n",
              "      <td>«Тита́ник»  — британский трансатлантический пароход, второй лайнер класса «Олимпик». Строился в Белфасте на верфи «Harland &amp; Wolff» с 1909 по 1912 год по заказу судоходной компании «White Star Line». На момент ввода в эксплуатацию являлся самым большим судном в мире. В ночь с 14 на 15 апреля 1912 года во время первого рейса потерпел крушение в северной Атлантике, столкнувшись с айсбергом. «Титаник» был оборудован двумя четырёхцилиндровыми паровыми машинами и паровой турбиной.</td>\n",
              "      <td>True</td>\n",
              "      <td>298</td>\n",
              "    </tr>\n",
              "    <tr>\n",
              "      <th>299</th>\n",
              "      <td>Правда ли что титаник затонул?</td>\n",
              "      <td>Крушение парохода «Титаник» — морская катастрофа, произошедшая в ночь с 14 на 15 апреля 1912 года в северной части Атлантического океана, более чем в 600 км к юго-востоку от канадского острова Ньюфаундленд. Трагедия случилась под конец пятого дня следования «Титаника» по трансатлантическому маршруту Саутгемптон — Нью-Йорк. В 23:40 14 апреля во время первого рейса самый большой на тот момент океанский лайнер с 2208 людьми на борту по касательной столкнулся с айсбергом и получил серьёзные повреждения обшивки корпуса. Спустя 2 часа 40 минут — в 2:20 15 апреля — полностью ушёл под воду. Катастрофа унесла жизни, по разным данным, от 1495 до 1635 человек.</td>\n",
              "      <td>True</td>\n",
              "      <td>299</td>\n",
              "    </tr>\n",
              "  </tbody>\n",
              "</table>\n",
              "</div>"
            ],
            "text/plain": [
              "                                       question  ...  idx\n",
              "250          Есть ли в домашнем квасе алкоголь?  ...  250\n",
              "251                   Вредны ли дрожжи в хлебе?  ...  251\n",
              "252                Вреден ли дуст для растений?  ...  252\n",
              "253            Передается ли еврейство по отцу?  ...  253\n",
              "254            Передается ли еврейство по отцу?  ...  254\n",
              "255           Едят ли в греции греческий салат?  ...  255\n",
              "256               Едят ли кроликов в австралии?  ...  256\n",
              "257               Едят ли кроликов в австралии?  ...  257\n",
              "258                      Едят ли в европе супы?  ...  258\n",
              "259                    Едят ли творог в европе?  ...  259\n",
              "260                    Едят ли творог в европе?  ...  260\n",
              "261                     Едят ли в китае имбирь?  ...  261\n",
              "262                  Едят ли тараканов в китае?  ...  262\n",
              "263                     Едят ли у манго кожуру?  ...  263\n",
              "264                      Едят ли коров в индии?  ...  264\n",
              "265                      Едят ли коров в индии?  ...  265\n",
              "266                Едят ли в пост морепродукты?  ...  266\n",
              "267   Едят ли вегетарианцы рыбу и морепродукты?  ...  267\n",
              "268   Едят ли вегетарианцы рыбу и морепродукты?  ...  268\n",
              "269                       Едят ли в индии мясо?  ...  269\n",
              "270                       Едят ли ножки у опят?  ...  270\n",
              "271                   Едят ли имбирь с роллами?  ...  271\n",
              "272             Едят ли сельдерей в сыром виде?  ...  272\n",
              "273             Едят ли сельдерей в сыром виде?  ...  273\n",
              "274             Едят ли сельдерей в сыром виде?  ...  274\n",
              "275                   Едят ли хинкали с соусом?  ...  275\n",
              "276                  Едят ли айву в сыром виде?  ...  276\n",
              "277              Едят ли брокколи в сыром виде?  ...  277\n",
              "278                      Едят ли кожуру у личи?  ...  278\n",
              "279                     Едят ли в шашках назад?  ...  279\n",
              "280                     Едят ли в шашках назад?  ...  280\n",
              "281                А едят ли вегетарианцы яйца?  ...  281\n",
              "282             Едят ли в северной корее собак?  ...  282\n",
              "283  Была ли екатерина 2 замужем за потемкиным?  ...  283\n",
              "284  Была ли екатерина 2 замужем за потемкиным?  ...  284\n",
              "285  Была ли екатерина 2 замужем за потемкиным?  ...  285\n",
              "286                 Есть у марса спутник фобос?  ...  286\n",
              "287                 Есть у марса спутник фобос?  ...  287\n",
              "288                 Есть у марса спутник фобос?  ...  288\n",
              "289                 Есть у марса спутник фобос?  ...  289\n",
              "290        Правда ли что желудок растягивается?  ...  290\n",
              "291    Существует ли жанр эклектика в живописи?  ...  291\n",
              "292               Вредна ли жидкость для вейпа?  ...  292\n",
              "293                        Был ли у жукова сын?  ...  293\n",
              "294     Правда ли что гоголя похоронили заживо?  ...  294\n",
              "295     Правда ли что тараканы заползают в уши?  ...  295\n",
              "296              Существуют ли атомы с зарядом?  ...  296\n",
              "297              Правда ли что титаник затонул?  ...  297\n",
              "298              Правда ли что титаник затонул?  ...  298\n",
              "299              Правда ли что титаник затонул?  ...  299\n",
              "\n",
              "[50 rows x 4 columns]"
            ]
          },
          "metadata": {
            "tags": []
          },
          "execution_count": 80
        }
      ]
    },
    {
      "cell_type": "markdown",
      "metadata": {
        "id": "HEn2LQjZvBMv"
      },
      "source": [
        "# True (ошибки и странности разметки)"
      ]
    },
    {
      "cell_type": "code",
      "metadata": {
        "colab": {
          "base_uri": "https://localhost:8080/",
          "height": 815
        },
        "id": "sD5Xw3QYvKi6",
        "outputId": "e8edb040-ff85-46b7-9931-682862ed75df"
      },
      "source": [
        "df_true = df[(df['label'] == True)]\n",
        "df_true.reset_index\n",
        "df_true.iloc[50:60]"
      ],
      "execution_count": null,
      "outputs": [
        {
          "output_type": "execute_result",
          "data": {
            "text/html": [
              "<div>\n",
              "<style scoped>\n",
              "    .dataframe tbody tr th:only-of-type {\n",
              "        vertical-align: middle;\n",
              "    }\n",
              "\n",
              "    .dataframe tbody tr th {\n",
              "        vertical-align: top;\n",
              "    }\n",
              "\n",
              "    .dataframe thead th {\n",
              "        text-align: right;\n",
              "    }\n",
              "</style>\n",
              "<table border=\"1\" class=\"dataframe\">\n",
              "  <thead>\n",
              "    <tr style=\"text-align: right;\">\n",
              "      <th></th>\n",
              "      <th>question</th>\n",
              "      <th>passage</th>\n",
              "      <th>label</th>\n",
              "      <th>idx</th>\n",
              "    </tr>\n",
              "  </thead>\n",
              "  <tbody>\n",
              "    <tr>\n",
              "      <th>59</th>\n",
              "      <td>Были ли викинги в исландии?</td>\n",
              "      <td>В эпоху викингов  скандинавы-викинги путешествовали от Ирландии и до Руси, занимаясь торговлей, охотой и грабежом. Около 860 года викинги открыли остров, назвав его «Исландией» , и основали там ряд колоний. Совершая частые плавания на Запад, викинги, как ныне считается, первыми из европейцев посетили Америку, кроме того, в эпоху викингов произошел также первый генетический контакт между европейцами и жителями Северной Америки. Около 900 года из Норвегии отправился корабль под командой Гуннбьёрна. Он сбился с курса, и викинги увидели остров .</td>\n",
              "      <td>True</td>\n",
              "      <td>59</td>\n",
              "    </tr>\n",
              "    <tr>\n",
              "      <th>60</th>\n",
              "      <td>Были ли викинги в исландии?</td>\n",
              "      <td>История Исландии хорошо известна благодаря большому количеству саг, дошедших до нас. Обычная исландская сага — это описание жизни одного человека  на протяжении многих лет, с подробным описанием важнейших событий. Население Исландии было небольшим, а потому и её история — это история меньших или больших частных дел и конфликтов. Древние исландцы были искусными мореходами и викингами. Если верить «Саге о Гренландцах», сын Эрика Рыжего Лейф Счастливый в 1000 году достиг берегов Америки и попытался основать колонию в «Виноградной стране» — Винланде .</td>\n",
              "      <td>True</td>\n",
              "      <td>60</td>\n",
              "    </tr>\n",
              "    <tr>\n",
              "      <th>63</th>\n",
              "      <td>Были ли сестринские авиакомпании у s7?</td>\n",
              "      <td>Переломным для «Сибири» стал 2005 год: на базе авиакомпании и её структурных подразделений была создана группа компаний «S7 Group», проведён ребрендинг и смена раскраски фюзеляжей самолётов. 15 ноября 2010 года S7 Airlines вместе со своей сестринской авиакомпанией Глобус вступила в международный авиационный альянс Oneworld, что позволило авиакомпании продавать билеты по код-шеринговому партнёрству с ведущими авиакомпаниями мира. В 2011 году государство вновь трижды выставляло свой пакет акций S7 Airlines на аукционы, но все они не состоялись в связи с отсутствием претендентов на покупку. Эксперты объясняли неудачи в приватизации пакета тем, что для портфельных инвесторов он не интересен вследствие высокой стартовой цены , а для стратегических — из-за размера пакета, не дающего права реального влияния на управление авиакомпанией. В мае 2013 года S7 Group одержало победу в тендере по покупке госпакета акций авиакомпании «Сибирь», предложив за 25,5 % акций перевозчика 1 млрд 133 млн руб.</td>\n",
              "      <td>True</td>\n",
              "      <td>63</td>\n",
              "    </tr>\n",
              "    <tr>\n",
              "      <th>64</th>\n",
              "      <td>Были ли немцы в крыму?</td>\n",
              "      <td>Крымские немцы — этнические немцы, проживавшие в бывшей Таврической губернии. Первые немецкие поселения появились в начале XIX века. В августе 1941 года в связи с началом Великой Отечественной войны все крымские немцы в количестве 52 тыс. человек были депортированы из Крыма. Немцы появились в Крыму в 1805 году.</td>\n",
              "      <td>True</td>\n",
              "      <td>64</td>\n",
              "    </tr>\n",
              "    <tr>\n",
              "      <th>65</th>\n",
              "      <td>Были ли немцы в крыму?</td>\n",
              "      <td>По итогам переписи 1897 года в Крыму жили почти 32 тысячи немцев — 5,8% от тогдашнего населения Крыма. В апреле 1918 года Крым был оккупирован кайзеровскими войсками 15-й ландверной дивизии под командованием генерала фон Коша. 5 мая Р. фон Кош назначает военным губернатором Крыма генерал-майора барона Вильгельма фон Эглофштейна, командира 4-й Баварской кавалерийской дивизии. Германское командование решило сделать ставку на местных немцев-колонистов. В Крым прибыл Фридрих фон Линдеквист, бывший германский министр колоний , развернувший вместе с протестантским пастором И. Винклером из Бессарабии среди них активную деятельность.</td>\n",
              "      <td>True</td>\n",
              "      <td>65</td>\n",
              "    </tr>\n",
              "    <tr>\n",
              "      <th>66</th>\n",
              "      <td>Были ли у александра македонского дети?</td>\n",
              "      <td>Геракл  — сын македонского царя Александра Македонского  от его любовницы Барсины. Дед Геракла, Артабаз, правил сатрапией в Малой Азии. Мать Геракла, Барсина, происходила из знатного персидского рода. Её выдали замуж за грека Ментора, ставшего командующим персидскими войсками на Западе, а после его смерти она повторно вышла замуж за брата покойного мужа, Мемнона. Мемнон воевал с Александром Великим, когда тот вторгся в Азию в 334 году до н. э., а чтобы он не перешёл на сторону македонского царя, его жену Барсину держали при дворе персидского царя Дария III.</td>\n",
              "      <td>True</td>\n",
              "      <td>66</td>\n",
              "    </tr>\n",
              "    <tr>\n",
              "      <th>67</th>\n",
              "      <td>Были ли немцы в ялте?</td>\n",
              "      <td>В 1937-ом году, после окончания установления советской власти в Крыму, храм был закрыт, из него сделали продуктовый склад. В Ялте до войны проживали немецкие колонисты, которых выселили после объявления войны. Когда пришли немцы в 1941 году, они заняли квартиры выселенных, а их имущество свезли в собор с намерением вернуть его владельцам.В 1942 году, неизвестными склад церкви был ограблен и подожжен. Церковь горела всю ночь и была полностью уничтожена. Обуглившиеся стены стояли до середины 1950-х годов.</td>\n",
              "      <td>True</td>\n",
              "      <td>67</td>\n",
              "    </tr>\n",
              "    <tr>\n",
              "      <th>69</th>\n",
              "      <td>А были ли 28 панфиловцев?</td>\n",
              "      <td>Мемориа́л «Геро́ям-панфи́ловцам»  — мемориальный комплекс, посвящённый 28 воинам Красной армии из состава группы истребителей танков 4-й роты 2-го батальона 1075-го стрелкового полка 316-й стрелковой дивизии генерал-майора И. В. Панфилова. Комплекс был торжественно открыт к 30-летию Победы в Великой Отечественной войне, 6 мая 1975 года. На церемонии открытия присутствовали участники событий И. Д. Шадрин и Д. А. Кожубергенов. Фигуры мемориала были размещены в поле, на обширной возвышенности. Скульпторами проекта выступили: Н. С. Любимов, А. Г. Постол, В. А. Фёдоров; архитекторами В. Н. Датюк, Ю. Г. Кривущенко, И. И. Степанов; главным инженером С. П. Хаджибаронов.</td>\n",
              "      <td>True</td>\n",
              "      <td>69</td>\n",
              "    </tr>\n",
              "    <tr>\n",
              "      <th>70</th>\n",
              "      <td>А были ли 28 панфиловцев?</td>\n",
              "      <td>Панфи́ловцы — военнослужащие сформированной в городах Алма-Ате Казахской ССР и Фрунзе Киргизской ССР 316-й стрелковой дивизии  под командованием генерал-майора И. В. Панфилова , участвовавшие в 1941 году в обороне Москвы. Наибольшую известность из воинов дивизии получили 28 человек  из числа личного состава 4-й роты 2-го батальона 1075-го стрелкового полка. Согласно широко распространённой в СССР версии события, 16 ноября, когда началось новое наступление немцев на Москву, бойцы 4-й роты во главе с политруком Василием Клочковым, осуществляя оборону в районе разъезда Дубосеково в 7 км к юго-востоку от Волоколамска, совершили подвиг, в ходе 4-часового боя уничтожив 18 вражеских танков. Эти 28 человек в советской историографии называются героями. Фраза «Велика Россия, а отступать некуда — позади Москва!», приписываемая политруку Клочкову, была включена в советские школьные и вузовские учебники по истории.</td>\n",
              "      <td>True</td>\n",
              "      <td>70</td>\n",
              "    </tr>\n",
              "    <tr>\n",
              "      <th>71</th>\n",
              "      <td>Были ли в ссср настоящие рубины?</td>\n",
              "      <td>Кремлёвские звёзды — навершия шпилей башен Московского Кремля в форме пятиконечных звёзд, изготовленные из рубинового стекла и установленные взамен гербовых орлов Российской империи в 1930-х годах на пяти башнях Московского Кремля — Боровицкой, Троицкой, Спасской, Никольской и Водовзводной. С 1935 по 1937 годы звёзды были установлены только на четыре башни  и были инкрустированы самоцветами. В 1937 году они были заменены на рубиновые. Современные звёзды выполнены по эскизам народного художника СССР Фёдора Федоро́вского. Пятиконечная звезда — один из древнейших символов человечества, её изображение найдено археологами в наскальных рисунках Ближнего Востока, Греции, Японии и доколумбовой Америки.</td>\n",
              "      <td>True</td>\n",
              "      <td>71</td>\n",
              "    </tr>\n",
              "  </tbody>\n",
              "</table>\n",
              "</div>"
            ],
            "text/plain": [
              "                                   question  ... idx\n",
              "59              Были ли викинги в исландии?  ...  59\n",
              "60              Были ли викинги в исландии?  ...  60\n",
              "63   Были ли сестринские авиакомпании у s7?  ...  63\n",
              "64                   Были ли немцы в крыму?  ...  64\n",
              "65                   Были ли немцы в крыму?  ...  65\n",
              "66  Были ли у александра македонского дети?  ...  66\n",
              "67                    Были ли немцы в ялте?  ...  67\n",
              "69                А были ли 28 панфиловцев?  ...  69\n",
              "70                А были ли 28 панфиловцев?  ...  70\n",
              "71         Были ли в ссср настоящие рубины?  ...  71\n",
              "\n",
              "[10 rows x 4 columns]"
            ]
          },
          "metadata": {
            "tags": []
          },
          "execution_count": 17
        }
      ]
    },
    {
      "cell_type": "code",
      "metadata": {
        "id": "JwDD_3ERsotR",
        "colab": {
          "base_uri": "https://localhost:8080/",
          "height": 700
        },
        "outputId": "cf11297a-c5b4-47d0-d0bb-0242940e3964"
      },
      "source": [
        "#ошибки\r\n",
        "df.iloc[[24, 27, 40, 55]]"
      ],
      "execution_count": null,
      "outputs": [
        {
          "output_type": "execute_result",
          "data": {
            "text/html": [
              "<div>\n",
              "<style scoped>\n",
              "    .dataframe tbody tr th:only-of-type {\n",
              "        vertical-align: middle;\n",
              "    }\n",
              "\n",
              "    .dataframe tbody tr th {\n",
              "        vertical-align: top;\n",
              "    }\n",
              "\n",
              "    .dataframe thead th {\n",
              "        text-align: right;\n",
              "    }\n",
              "</style>\n",
              "<table border=\"1\" class=\"dataframe\">\n",
              "  <thead>\n",
              "    <tr style=\"text-align: right;\">\n",
              "      <th></th>\n",
              "      <th>question</th>\n",
              "      <th>passage</th>\n",
              "      <th>label</th>\n",
              "      <th>idx</th>\n",
              "    </tr>\n",
              "  </thead>\n",
              "  <tbody>\n",
              "    <tr>\n",
              "      <th>24</th>\n",
              "      <td>Был на зоне бунт в 1990 году?</td>\n",
              "      <td>Восстание в тюрьме Спач  — восстание заключённых албанской тюрьмы Спач 21-23 мая 1973 года. Тюремный бунт, спровоцированный жестокостью порядков содержания, перерос в политический протест под антикоммунистическими лозунгами. Около двух суток тюрьма контролировалась заключёнными и была провозглашена освобождённой территорией Албании. Выступление подавлено силами Сигурими и полиции при армейской поддержке. Лидеры казнены или получили дополнительные сроки заключения.</td>\n",
              "      <td>True</td>\n",
              "      <td>24</td>\n",
              "    </tr>\n",
              "    <tr>\n",
              "      <th>27</th>\n",
              "      <td>Были ли у андрея болконского прототип?</td>\n",
              "      <td>Андре́й Никола́евич Болко́нский  — один из центральных персонажей романа Л. Н. Толстого «Война и мир». Сын князя Николая Андреевича Болконского. Не имеет точных прототипов из реальной жизни. Некоторые элементы военной карьеры князя Андрея могли быть списаны с биографий Н. А. Тучкова, Ф. И. Тизенгаузена и Петра Михайловича Волконского. Сюжет помолвки Наташи и Андрея частично срисован с неудачной женитьбы Т. А. Кузьминской и старшего брата писателя — С. Н. Толстого.</td>\n",
              "      <td>True</td>\n",
              "      <td>27</td>\n",
              "    </tr>\n",
              "    <tr>\n",
              "      <th>40</th>\n",
              "      <td>Были ли в австралии аборигены?</td>\n",
              "      <td>Доисторическая эпоха Австралии — временной отрезок с момента прибытия в Австралию первых людей и до их первой встречи с европейцами в 1606 году, когда начинается письменная история Австралии. По различным оценкам, праистория Австралии продолжалась от 40 до 70 тысяч лет. Первые грацильные сапиенсы переправились в Сахул там, где сейчас находится Арафурское море и архипелаг Ару. По мнению антропологов, человек разумный прибыл в Австралию не позднее 40 тысяч лет назад. К этому времени относятся следы обитания человека, обнаруженные в верховьях реки Суон в Западной Австралии.</td>\n",
              "      <td>True</td>\n",
              "      <td>40</td>\n",
              "    </tr>\n",
              "    <tr>\n",
              "      <th>55</th>\n",
              "      <td>Были ли олеся и ее бабка колдуньями?</td>\n",
              "      <td>Через месяц Ивану Тимофеевичу приходит время возвращаться в город. Он предлагает Олесе выйти за него и уехать вместе, но Олеся отказывается, объясняя это тем, что не может венчаться в церкви, так как она колдунья, а значит, принадлежит дьяволу. На следующий день молодой барин уезжает в соседнее село. Вернувшись после обеда, он встречает приказчика Никиту Назарыча Мищенку, который рассказывает, что у церкви крестьяне поймали и избили ведьму. Она выскользнула из толпы и убежала в лес, крича проклятья.</td>\n",
              "      <td>True</td>\n",
              "      <td>55</td>\n",
              "    </tr>\n",
              "  </tbody>\n",
              "</table>\n",
              "</div>"
            ],
            "text/plain": [
              "                                  question  ... idx\n",
              "24           Был на зоне бунт в 1990 году?  ...  24\n",
              "27  Были ли у андрея болконского прототип?  ...  27\n",
              "40          Были ли в австралии аборигены?  ...  40\n",
              "55    Были ли олеся и ее бабка колдуньями?  ...  55\n",
              "\n",
              "[4 rows x 4 columns]"
            ]
          },
          "metadata": {
            "tags": []
          },
          "execution_count": 16
        }
      ]
    },
    {
      "cell_type": "code",
      "metadata": {
        "id": "0GpmbugSs3nA",
        "colab": {
          "base_uri": "https://localhost:8080/",
          "height": 1000
        },
        "outputId": "f16ad744-3e3a-4156-e3f5-4fd1af82ce8f"
      },
      "source": [
        "#странности\r\n",
        "df.iloc[[25, 28, 37, 52, 53, 56, 63]]"
      ],
      "execution_count": null,
      "outputs": [
        {
          "output_type": "execute_result",
          "data": {
            "text/html": [
              "<div>\n",
              "<style scoped>\n",
              "    .dataframe tbody tr th:only-of-type {\n",
              "        vertical-align: middle;\n",
              "    }\n",
              "\n",
              "    .dataframe tbody tr th {\n",
              "        vertical-align: top;\n",
              "    }\n",
              "\n",
              "    .dataframe thead th {\n",
              "        text-align: right;\n",
              "    }\n",
              "</style>\n",
              "<table border=\"1\" class=\"dataframe\">\n",
              "  <thead>\n",
              "    <tr style=\"text-align: right;\">\n",
              "      <th></th>\n",
              "      <th>question</th>\n",
              "      <th>passage</th>\n",
              "      <th>label</th>\n",
              "      <th>idx</th>\n",
              "    </tr>\n",
              "  </thead>\n",
              "  <tbody>\n",
              "    <tr>\n",
              "      <th>25</th>\n",
              "      <td>Был ли бурито в группе бандерос?</td>\n",
              "      <td>Игорь Юрьевич Бурнышев  — российский автор-исполнитель, солист группы Burito, бывший участник группы «Банд’Эрос», режиссёр-постановщик, телеведущий, клипмейкер, актёр, диджей. В 1994 году окончил школу № 49 в Ижевске и поступил в Удмуртское училище культуры  на специальность «РТП». До 1996 года параллельно с учёбой работал на радиостанции «Радуга» ведущим прямого эфира. В училище окончил два курса, после чего переехал в Москву. В 1996 году поступил в Московский государственный университет культуры и искусств на специальность «Режиссёр театрализованных представлений и шоу-программ» на курс Владимира Соломоновича Маганета, где обучался в период с 1996 по 2001 годы.</td>\n",
              "      <td>True</td>\n",
              "      <td>25</td>\n",
              "    </tr>\n",
              "    <tr>\n",
              "      <th>28</th>\n",
              "      <td>Были ли гладиаторы в древней италии?</td>\n",
              "      <td>Гладиа́тор  — боец в Древнем Риме, который сражался с подобными себе на забаву публике на специальных аренах за право быть освобожденным от рабства. Основной причиной возникновения гладиаторских игр являлся заимствованный у этрусков погребальный обряд, подобный древней борьбе сумо в Японии. Потенциальные жертвы человеческих жертвоприношений — не только рабы, но и свободные — должны были с мечами в руках сражаться около могилы, и, таким образом, погибал слабый, а сильный оставался в живых, вызывая восторг присутствующих. Многие рабы добровольно старались попасть в школу гладиаторов, так как сражаясь на арене и завоевывая любовь публики, они могли завоевать себе свободу. Нередко рабы затевали драки между собой, чтобы таким образом показать свою силу перед хозяевами.</td>\n",
              "      <td>True</td>\n",
              "      <td>28</td>\n",
              "    </tr>\n",
              "    <tr>\n",
              "      <th>37</th>\n",
              "      <td>Были ли в австралии аборигены?</td>\n",
              "      <td>2005 — «Предложение». На фоне борьбы колониальных властей с бандой ирландских мигрантов разворачиваются эпизоды геноцида аборигенов и насилия над ними. 2006 — «Десять лодок», из жизни австралийских аборигенов, пользовавшийся успехом в мировом кинопрокате и даже отмеченный специальной премией Каннского фестиваля. Всё актёры фильма были аборигенами и говорили на своём родном языке йолнгу-матха. 2006 — «Джиндабайн», сюжет фильма построен на «заговоре молчания» вокруг убийства аборигенной девушки.</td>\n",
              "      <td>True</td>\n",
              "      <td>37</td>\n",
              "    </tr>\n",
              "    <tr>\n",
              "      <th>52</th>\n",
              "      <td>Были ли у сократа дети?</td>\n",
              "      <td>От неё он имел троих сыновей: Лампрокла, Софрониска и Менексена. В Греции существовал обычай называть первенца в честь более известного деда. Отца Сократа звали Софрониск , что позволяет предположить, что Лампрокл был назван в честь отца Ксантиппы, и положение её семьи в афинском обществе было более прочное и выдающееся, чем семьи Сократа. На хорошее происхождение Ксантиппы указывает и её имя, восходящее к греческим корням ξανθός «xanthos»  и ἵππος «hippos» . Корень ἵππος часто встречается в греческих именах и зачастую указывает на аристократическое происхождение.</td>\n",
              "      <td>True</td>\n",
              "      <td>52</td>\n",
              "    </tr>\n",
              "    <tr>\n",
              "      <th>53</th>\n",
              "      <td>Были ли у синявской дети?</td>\n",
              "      <td>М. Магомаева в Баку, после чего он был похоронен по мусульманским канонам на Аллее почётного захоронения рядом со своим дедом — известным советским композитором, дирижёром Муслимом Магометовичем Магомаевым. Проститься с Магомаевым пришли тысячи людей. Гроб с телом покойного вынесли под звуки написанной и исполненной им песни «Азербайджан». В траурной процессии принимали участие президент страны Ильхам Алиев, вдова певца Тамара Синявская и его дочь Марина, прилетевшая из США. Родители: Магомет Магомаев , Айшет Магомаева .</td>\n",
              "      <td>True</td>\n",
              "      <td>53</td>\n",
              "    </tr>\n",
              "    <tr>\n",
              "      <th>56</th>\n",
              "      <td>Были ли немцы в ельце?</td>\n",
              "      <td>Еле́цкая наступательная опера́ция — фронтовая наступательная операция РККА в ходе Великой Отечественной войны, предпринятая в период с 6 по 16 декабря 1941 года войсками правого крыла Юго-Западного фронта в ходе контрнаступления под Москвой. Цель операции — окружить и уничтожить группировку противника в районе города Ельца, в дальнейшем нанести удар в тыл войскам 2-й немецкой танковой армии. В результате Елецкой операции войска правого крыла Юго-Западного фронта, продвинувшись на 80-100 км, ликвидировали елецкий выступ, окружили и уничтожили более 2 дивизий, нанесли серьёзное поражение 2-й немецкой армии. Они отвлекли на себя часть сил 2-й ТА, оказав этим существенную помощь войскам левого крыла Западного фронта, выполнявшим главную задачу. Характерная особенность Елецкой операции — подготовка её в ограниченные сроки.</td>\n",
              "      <td>True</td>\n",
              "      <td>56</td>\n",
              "    </tr>\n",
              "    <tr>\n",
              "      <th>63</th>\n",
              "      <td>Были ли сестринские авиакомпании у s7?</td>\n",
              "      <td>Переломным для «Сибири» стал 2005 год: на базе авиакомпании и её структурных подразделений была создана группа компаний «S7 Group», проведён ребрендинг и смена раскраски фюзеляжей самолётов. 15 ноября 2010 года S7 Airlines вместе со своей сестринской авиакомпанией Глобус вступила в международный авиационный альянс Oneworld, что позволило авиакомпании продавать билеты по код-шеринговому партнёрству с ведущими авиакомпаниями мира. В 2011 году государство вновь трижды выставляло свой пакет акций S7 Airlines на аукционы, но все они не состоялись в связи с отсутствием претендентов на покупку. Эксперты объясняли неудачи в приватизации пакета тем, что для портфельных инвесторов он не интересен вследствие высокой стартовой цены , а для стратегических — из-за размера пакета, не дающего права реального влияния на управление авиакомпанией. В мае 2013 года S7 Group одержало победу в тендере по покупке госпакета акций авиакомпании «Сибирь», предложив за 25,5 % акций перевозчика 1 млрд 133 млн руб.</td>\n",
              "      <td>True</td>\n",
              "      <td>63</td>\n",
              "    </tr>\n",
              "  </tbody>\n",
              "</table>\n",
              "</div>"
            ],
            "text/plain": [
              "                                  question  ... idx\n",
              "25        Был ли бурито в группе бандерос?  ...  25\n",
              "28    Были ли гладиаторы в древней италии?  ...  28\n",
              "37          Были ли в австралии аборигены?  ...  37\n",
              "52                 Были ли у сократа дети?  ...  52\n",
              "53               Были ли у синявской дети?  ...  53\n",
              "56                  Были ли немцы в ельце?  ...  56\n",
              "63  Были ли сестринские авиакомпании у s7?  ...  63\n",
              "\n",
              "[7 rows x 4 columns]"
            ]
          },
          "metadata": {
            "tags": []
          },
          "execution_count": 27
        }
      ]
    },
    {
      "cell_type": "markdown",
      "metadata": {
        "id": "zC_KAI7zNSue"
      },
      "source": [
        "# False"
      ]
    },
    {
      "cell_type": "code",
      "metadata": {
        "id": "eD-K4mNHRZlC",
        "colab": {
          "base_uri": "https://localhost:8080/",
          "height": 901
        },
        "outputId": "57ce33ad-d6d8-4034-878a-260a6a045a9f"
      },
      "source": [
        "df_false = df[(df['label'] != True)]\n",
        "df_false.head()"
      ],
      "execution_count": null,
      "outputs": [
        {
          "output_type": "execute_result",
          "data": {
            "text/html": [
              "<div>\n",
              "<style scoped>\n",
              "    .dataframe tbody tr th:only-of-type {\n",
              "        vertical-align: middle;\n",
              "    }\n",
              "\n",
              "    .dataframe tbody tr th {\n",
              "        vertical-align: top;\n",
              "    }\n",
              "\n",
              "    .dataframe thead th {\n",
              "        text-align: right;\n",
              "    }\n",
              "</style>\n",
              "<table border=\"1\" class=\"dataframe\">\n",
              "  <thead>\n",
              "    <tr style=\"text-align: right;\">\n",
              "      <th></th>\n",
              "      <th>question</th>\n",
              "      <th>passage</th>\n",
              "      <th>label</th>\n",
              "      <th>idx</th>\n",
              "    </tr>\n",
              "  </thead>\n",
              "  <tbody>\n",
              "    <tr>\n",
              "      <th>4</th>\n",
              "      <td>Был ли автомат калашникова в вов?</td>\n",
              "      <td>Отметив некоторые недостатки и в целом удачную конструкцию, специалисты ГАУ не рекомендовали принимать ПП Калашникова на вооружение по технологическим причинам. Заключение гласило: С 1942 года Калашников работал на Центральном научно-исследовательском полигоне стрелкового и миномётного вооружения ГАУ РККА. Здесь в 1944 году он создал опытный образец самозарядного карабина, который, хотя и не вышел в серийное производство, частично послужил прототипом для создания автомата. С 1945 года Михаил Калашников начал разработку автоматического оружия под промежуточный патрон 7,62×39 образца 1943 года. Автомат Калашникова победил в конкурсе 1947 года и был принят на вооружение.</td>\n",
              "      <td>False</td>\n",
              "      <td>4</td>\n",
              "    </tr>\n",
              "    <tr>\n",
              "      <th>13</th>\n",
              "      <td>Был ли ссср участником бернской конвенции?</td>\n",
              "      <td>Бе́рнская конве́нция по охра́не литерату́рных и худо́жественных произведе́ний   — международное соглашение в области авторского права, принятое в Берне, Швейцария в 1886 году. Является ключевым международным соглашением в этой области. В настоящее время администрируется Всемирной организацией интеллектуальной собственности. Бернская конвенция была принята 9 сентября 1886 года в Берне, Швейцария. Первыми участниками конвенции были: Бельгия, Германия, Франция, Испания, Великобритания, Тунис и Швейцария.</td>\n",
              "      <td>False</td>\n",
              "      <td>13</td>\n",
              "    </tr>\n",
              "    <tr>\n",
              "      <th>14</th>\n",
              "      <td>Был ли ссср участником бернской конвенции?</td>\n",
              "      <td>Российская империя планировала присоединиться к Бернской конвенции в начале XX века, но, согласно Стояновичу, это не было реализовано из-за начала Первой мировой войны. После Октябрьской революции Советский Союз изначально вообще не имел международных обязательств в сфере авторского права. Во время проведения новой экономической политики  советское правительство неудачно пыталось заключить новые двусторонние соглашения с Великобританией, Германией и Италией. После этих провалившихся попыток СССР сохранял изоляционистскую политику в сфере авторского права до конца 1960-х годов. Первое двустороннее соглашение с Венгрией вступило в силу 17 ноября 1967 года, а 8 октября 1971 года последовало двустороннее соглашение с Болгарией.</td>\n",
              "      <td>False</td>\n",
              "      <td>14</td>\n",
              "    </tr>\n",
              "    <tr>\n",
              "      <th>16</th>\n",
              "      <td>Правда ли что слоны боятся мышей?</td>\n",
              "      <td>Слоновые хорошо слышат в области низких частот, вплоть до инфразвука, но наибольшая чувствительность их слуха на частоте около 1 кГц. Слоны обладают музыкальным слухом и музыкальной памятью, способны различать мелодии из трёх нот, музыку на скрипке и низкие звуки баса и рога предпочитают высоким флейтовым мелодиям. Также, вопреки распространённому заблуждению, слоны абсолютно не боятся мышей и других мелких животных.Слоны — социальные животные. Обычно они образуют группы из самок и детёнышей, возглавляемых старой и опытной самкой. Самцы образуют отдельные стада.</td>\n",
              "      <td>False</td>\n",
              "      <td>16</td>\n",
              "    </tr>\n",
              "    <tr>\n",
              "      <th>21</th>\n",
              "      <td>Был ли бриллиант на титанике?</td>\n",
              "      <td>5 апреля 2012 года, в год 100-летия легендарной катастрофы и 15-летия выпуска фильма состоялась премьера этого фильма в формате 3D и IMAX 3D. В 2017 году фильм был выбран для сохранения в Национальном реестре фильмов США. В 1996 году охотник за сокровищами Брок Лаветт и его команда на научно-исследовательском судне «Академик Мстислав Келдыш» на глубоководных батискафах «Мир-1» и «Мир-2» погружаются на дно Атлантического океана, где покоятся останки лайнера «Титаник», затонувшего 15 апреля 1912 года. Они обнаруживают сейф, в котором, по предположению Лаветта, должно находиться ожерелье с голубым бриллиантом, известное как «Сердце океана». В начале XX века один питтсбургский Ротшильд Натан Хокли приобрёл его для своего сына-промышленника Каледона, который подарил ожерелье в качестве свадебного подарка своей невесте — англичанке Розе Дьюитт Бьюкейтер, вместе с которой он плыл на «Титанике» в США, где они должны были пожениться.</td>\n",
              "      <td>False</td>\n",
              "      <td>21</td>\n",
              "    </tr>\n",
              "  </tbody>\n",
              "</table>\n",
              "</div>"
            ],
            "text/plain": [
              "                                      question  ... idx\n",
              "4            Был ли автомат калашникова в вов?  ...   4\n",
              "13  Был ли ссср участником бернской конвенции?  ...  13\n",
              "14  Был ли ссср участником бернской конвенции?  ...  14\n",
              "16           Правда ли что слоны боятся мышей?  ...  16\n",
              "21               Был ли бриллиант на титанике?  ...  21\n",
              "\n",
              "[5 rows x 4 columns]"
            ]
          },
          "metadata": {
            "tags": []
          },
          "execution_count": 22
        }
      ]
    },
    {
      "cell_type": "markdown",
      "metadata": {
        "id": "0JrR_-02pdsl"
      },
      "source": [
        "# Feature analysis"
      ]
    },
    {
      "cell_type": "code",
      "metadata": {
        "id": "qtY39BisphF0",
        "colab": {
          "base_uri": "https://localhost:8080/"
        },
        "outputId": "21e906e2-9fab-4bae-c8c1-24f45496487f"
      },
      "source": [
        "!pip install eli5\r\n",
        "import numpy as np\r\n",
        "import eli5\r\n",
        "from sklearn.feature_extraction.text import CountVectorizer, TfidfVectorizer\r\n",
        "from sklearn.linear_model import LogisticRegression\r\n",
        "from sklearn.naive_bayes import MultinomialNB\r\n",
        "from sklearn.model_selection import train_test_split\r\n",
        "from sklearn.metrics import classification_report, accuracy_score, f1_score\r\n",
        "from sklearn.metrics.pairwise import cosine_distances, cosine_similarity\r\n",
        "from sklearn.model_selection import GridSearchCV\r\n",
        "from sklearn.model_selection import cross_val_score"
      ],
      "execution_count": null,
      "outputs": [
        {
          "output_type": "stream",
          "text": [
            "Collecting eli5\n",
            "\u001b[?25l  Downloading https://files.pythonhosted.org/packages/97/2f/c85c7d8f8548e460829971785347e14e45fa5c6617da374711dec8cb38cc/eli5-0.10.1-py2.py3-none-any.whl (105kB)\n",
            "\r\u001b[K     |███                             | 10kB 17.8MB/s eta 0:00:01\r\u001b[K     |██████▏                         | 20kB 18.7MB/s eta 0:00:01\r\u001b[K     |█████████▎                      | 30kB 7.1MB/s eta 0:00:01\r\u001b[K     |████████████▍                   | 40kB 6.2MB/s eta 0:00:01\r\u001b[K     |███████████████▌                | 51kB 4.5MB/s eta 0:00:01\r\u001b[K     |██████████████████▋             | 61kB 4.7MB/s eta 0:00:01\r\u001b[K     |█████████████████████▊          | 71kB 5.0MB/s eta 0:00:01\r\u001b[K     |████████████████████████▊       | 81kB 5.2MB/s eta 0:00:01\r\u001b[K     |███████████████████████████▉    | 92kB 5.0MB/s eta 0:00:01\r\u001b[K     |███████████████████████████████ | 102kB 5.3MB/s eta 0:00:01\r\u001b[K     |████████████████████████████████| 112kB 5.3MB/s \n",
            "\u001b[?25hRequirement already satisfied: graphviz in /usr/local/lib/python3.6/dist-packages (from eli5) (0.10.1)\n",
            "Requirement already satisfied: jinja2 in /usr/local/lib/python3.6/dist-packages (from eli5) (2.11.2)\n",
            "Requirement already satisfied: scikit-learn>=0.18 in /usr/local/lib/python3.6/dist-packages (from eli5) (0.22.2.post1)\n",
            "Requirement already satisfied: six in /usr/local/lib/python3.6/dist-packages (from eli5) (1.15.0)\n",
            "Requirement already satisfied: numpy>=1.9.0 in /usr/local/lib/python3.6/dist-packages (from eli5) (1.19.4)\n",
            "Requirement already satisfied: attrs>16.0.0 in /usr/local/lib/python3.6/dist-packages (from eli5) (20.3.0)\n",
            "Requirement already satisfied: tabulate>=0.7.7 in /usr/local/lib/python3.6/dist-packages (from eli5) (0.8.7)\n",
            "Requirement already satisfied: scipy in /usr/local/lib/python3.6/dist-packages (from eli5) (1.4.1)\n",
            "Requirement already satisfied: MarkupSafe>=0.23 in /usr/local/lib/python3.6/dist-packages (from jinja2->eli5) (1.1.1)\n",
            "Requirement already satisfied: joblib>=0.11 in /usr/local/lib/python3.6/dist-packages (from scikit-learn>=0.18->eli5) (1.0.0)\n",
            "Installing collected packages: eli5\n",
            "Successfully installed eli5-0.10.1\n"
          ],
          "name": "stdout"
        },
        {
          "output_type": "stream",
          "text": [
            "/usr/local/lib/python3.6/dist-packages/sklearn/utils/deprecation.py:144: FutureWarning: The sklearn.metrics.scorer module is  deprecated in version 0.22 and will be removed in version 0.24. The corresponding classes / functions should instead be imported from sklearn.metrics. Anything that cannot be imported from sklearn.metrics is now part of the private API.\n",
            "  warnings.warn(message, FutureWarning)\n",
            "/usr/local/lib/python3.6/dist-packages/sklearn/utils/deprecation.py:144: FutureWarning: The sklearn.feature_selection.base module is  deprecated in version 0.22 and will be removed in version 0.24. The corresponding classes / functions should instead be imported from sklearn.feature_selection. Anything that cannot be imported from sklearn.feature_selection is now part of the private API.\n",
            "  warnings.warn(message, FutureWarning)\n"
          ],
          "name": "stderr"
        }
      ]
    },
    {
      "cell_type": "code",
      "metadata": {
        "id": "W-7mePOZpkv-"
      },
      "source": [
        "handler = JSONL_handler('data/DaNetQA/val.jsonl')\n",
        "df1 = handler.to_pandas()\n",
        " \n",
        "data = pd.DataFrame({'passage': df.passage, 'label': df.label})\n",
        "data_val = pd.DataFrame({'passage': df1.passage, 'label': df1.label})\n",
        "\n",
        "data['meta'] = df.passage + ' ' + df.question\n",
        "data_val['meta'] = df1.passage + ' ' + df1.question\n",
        " \n",
        "data['q'] = df.question\n",
        "data_val['q'] = df1.question"
      ],
      "execution_count": null,
      "outputs": []
    },
    {
      "cell_type": "markdown",
      "metadata": {
        "id": "b7_vh3cLhU-i"
      },
      "source": [
        "Только вопросы с теми же параметрами, что в baseline. Из-за специальной предобработки мои результаты хуже"
      ]
    },
    {
      "cell_type": "code",
      "metadata": {
        "colab": {
          "base_uri": "https://localhost:8080/"
        },
        "id": "vvJQQZ9MhHN7",
        "outputId": "0590038e-793a-411f-a70a-8f00f7f1afe9"
      },
      "source": [
        "steps = [('tfidf', TfidfVectorizer(analyzer='word', max_features=10000)),\r\n",
        "         ('logreg', LogisticRegression())]\r\n",
        "\r\n",
        "X_train = data.q\r\n",
        "y_train = data.label\r\n",
        "X_test = data_val.q\r\n",
        "y_test = data_val.label\r\n",
        " \r\n",
        "pipeline = Pipeline(steps)\r\n",
        " \r\n",
        "pipeline.fit(X_train, y_train)\r\n",
        "y_pred = pipeline.predict(X_test)\r\n",
        " \r\n",
        "print(\"Accuracy: {}\".format(pipeline.score(X_test, y_test)))\r\n",
        "print(classification_report(y_test, y_pred))"
      ],
      "execution_count": null,
      "outputs": [
        {
          "output_type": "stream",
          "text": [
            "Accuracy: 0.5651644336175395\n",
            "              precision    recall  f1-score   support\n",
            "\n",
            "       False       0.74      0.20      0.31       409\n",
            "        True       0.54      0.93      0.68       412\n",
            "\n",
            "    accuracy                           0.57       821\n",
            "   macro avg       0.64      0.56      0.50       821\n",
            "weighted avg       0.64      0.57      0.50       821\n",
            "\n"
          ],
          "name": "stdout"
        }
      ]
    },
    {
      "cell_type": "markdown",
      "metadata": {
        "id": "-yBlmhKojNty"
      },
      "source": [
        "Если с теми же параметрами, но на всех данных, то еще немного хуже"
      ]
    },
    {
      "cell_type": "code",
      "metadata": {
        "colab": {
          "base_uri": "https://localhost:8080/"
        },
        "id": "oZC5JX4xjIXx",
        "outputId": "34d502c1-c1d4-4c5b-f43a-e7ddc96b98d9"
      },
      "source": [
        "steps = [('tfidf', TfidfVectorizer(analyzer='word', max_features=10000)),\r\n",
        "         ('logreg', LogisticRegression())]\r\n",
        "\r\n",
        "X_train = data.meta\r\n",
        "y_train = data.label\r\n",
        "X_test = data_val.meta\r\n",
        "y_test = data_val.label\r\n",
        " \r\n",
        "pipeline = Pipeline(steps)\r\n",
        " \r\n",
        "pipeline.fit(X_train, y_train)\r\n",
        "y_pred = pipeline.predict(X_test)\r\n",
        " \r\n",
        "print(\"Accuracy: {}\".format(pipeline.score(X_test, y_test)))\r\n",
        "print(classification_report(y_test, y_pred))"
      ],
      "execution_count": null,
      "outputs": [
        {
          "output_type": "stream",
          "text": [
            "Accuracy: 0.5578562728380024\n",
            "              precision    recall  f1-score   support\n",
            "\n",
            "       False       0.79      0.15      0.25       409\n",
            "        True       0.53      0.96      0.69       412\n",
            "\n",
            "    accuracy                           0.56       821\n",
            "   macro avg       0.66      0.56      0.47       821\n",
            "weighted avg       0.66      0.56      0.47       821\n",
            "\n"
          ],
          "name": "stdout"
        }
      ]
    },
    {
      "cell_type": "markdown",
      "metadata": {
        "id": "7WMnH5bQl3rI"
      },
      "source": [
        "Та же история, но с fine-tuning'ом параметров. Результат даже превосходит baseline"
      ]
    },
    {
      "cell_type": "code",
      "metadata": {
        "colab": {
          "base_uri": "https://localhost:8080/"
        },
        "id": "P5VUpdqBlyt6",
        "outputId": "b03284a4-3723-49be-dba2-ce02e985df69"
      },
      "source": [
        "from sklearn.pipeline import Pipeline\r\n",
        "from sklearn.preprocessing import StandardScaler\r\n",
        "from sklearn.preprocessing import FunctionTransformer\r\n",
        " \r\n",
        "steps = [('tfidf', TfidfVectorizer(analyzer='word', max_features=10000)),\r\n",
        "         ('logreg', LogisticRegression(class_weight='balanced', n_jobs=-1, max_iter=500))]\r\n",
        " \r\n",
        "parameters = {'logreg__C': np.logspace(-10, 8, 30)}\r\n",
        " \r\n",
        "X_train = data.q\r\n",
        "y_train = data.label\r\n",
        "X_test = data_val.q\r\n",
        "y_test = data_val.label\r\n",
        " \r\n",
        "pipeline = Pipeline(steps)\r\n",
        " \r\n",
        "search = GridSearchCV(pipeline, cv=5, param_grid = parameters, scoring='accuracy')\r\n",
        " \r\n",
        "search.fit(X_train, y_train)\r\n",
        "y_pred = search.predict(X_test)\r\n",
        " \r\n",
        "print(\"Accuracy: {}\".format(search.score(X_test, y_test)))\r\n",
        "print(classification_report(y_test, y_pred))\r\n",
        "print(\"Tuned Model Parameters: {}\".format(search.best_params_))"
      ],
      "execution_count": null,
      "outputs": [
        {
          "output_type": "stream",
          "text": [
            "Accuracy: 0.6175395858708892\n",
            "              precision    recall  f1-score   support\n",
            "\n",
            "       False       0.74      0.36      0.49       409\n",
            "        True       0.58      0.87      0.70       412\n",
            "\n",
            "    accuracy                           0.62       821\n",
            "   macro avg       0.66      0.62      0.59       821\n",
            "weighted avg       0.66      0.62      0.59       821\n",
            "\n",
            "Tuned Model Parameters: {'logreg__C': 0.20433597178569396}\n"
          ],
          "name": "stdout"
        }
      ]
    },
    {
      "cell_type": "markdown",
      "metadata": {
        "id": "ObAq6r43je4a"
      },
      "source": [
        "Если без вопроса, то еще немного хуже"
      ]
    },
    {
      "cell_type": "code",
      "metadata": {
        "colab": {
          "base_uri": "https://localhost:8080/"
        },
        "id": "zWTtt6vCjWzk",
        "outputId": "ea573ba6-ba80-49f2-bc6f-623583dc3c43"
      },
      "source": [
        "steps = [('tfidf', TfidfVectorizer(analyzer='word', max_features=10000)),\r\n",
        "         ('logreg', LogisticRegression())]\r\n",
        "\r\n",
        "X_train = data.passage\r\n",
        "y_train = data.label\r\n",
        "X_test = data_val.passage\r\n",
        "y_test = data_val.label\r\n",
        " \r\n",
        "pipeline = Pipeline(steps)\r\n",
        " \r\n",
        "pipeline.fit(X_train, y_train)\r\n",
        "y_pred = pipeline.predict(X_test)\r\n",
        " \r\n",
        "print(\"Accuracy: {}\".format(pipeline.score(X_test, y_test)))\r\n",
        "print(classification_report(y_test, y_pred))"
      ],
      "execution_count": null,
      "outputs": [
        {
          "output_type": "stream",
          "text": [
            "Accuracy: 0.5493300852618758\n",
            "              precision    recall  f1-score   support\n",
            "\n",
            "       False       0.75      0.14      0.24       409\n",
            "        True       0.53      0.95      0.68       412\n",
            "\n",
            "    accuracy                           0.55       821\n",
            "   macro avg       0.64      0.55      0.46       821\n",
            "weighted avg       0.64      0.55      0.46       821\n",
            "\n"
          ],
          "name": "stdout"
        }
      ]
    },
    {
      "cell_type": "markdown",
      "metadata": {
        "id": "1ldmqBpGjusm"
      },
      "source": [
        "Другой способ векторизации только вопросы"
      ]
    },
    {
      "cell_type": "code",
      "metadata": {
        "colab": {
          "base_uri": "https://localhost:8080/"
        },
        "id": "QwRyOeJlUmQB",
        "outputId": "40c3fc75-3d82-41bc-abf4-fd335a42e9bc"
      },
      "source": [
        "from sklearn.pipeline import Pipeline\n",
        "from sklearn.preprocessing import StandardScaler\n",
        "from sklearn.preprocessing import FunctionTransformer\n",
        " \n",
        "steps = [('tfidf', TfidfVectorizer(analyzer='char_wb', ngram_range= (3,3))),\n",
        "         ('logreg', LogisticRegression(class_weight='balanced', n_jobs=-1, max_iter=500))]\n",
        " \n",
        "parameters = {'logreg__C': np.logspace(-5, 8, 15)}\n",
        " \n",
        "X_train = data.q\n",
        "y_train = data.label\n",
        "X_test = data_val.q\n",
        "y_test = data_val.label\n",
        " \n",
        "pipeline = Pipeline(steps)\n",
        " \n",
        "search = GridSearchCV(pipeline, cv=5, param_grid = parameters, scoring='accuracy')\n",
        " \n",
        "search.fit(X_train, y_train)\n",
        "y_pred = search.predict(X_test)\n",
        " \n",
        "print(\"Accuracy: {}\".format(search.score(X_test, y_test)))\n",
        "print(classification_report(y_test, y_pred))\n",
        "print(\"Tuned Model Parameters: {}\".format(search.best_params_))"
      ],
      "execution_count": null,
      "outputs": [
        {
          "output_type": "stream",
          "text": [
            "Accuracy: 0.6370280146163215\n",
            "              precision    recall  f1-score   support\n",
            "\n",
            "       False       0.69      0.50      0.58       409\n",
            "        True       0.61      0.77      0.68       412\n",
            "\n",
            "    accuracy                           0.64       821\n",
            "   macro avg       0.65      0.64      0.63       821\n",
            "weighted avg       0.65      0.64      0.63       821\n",
            "\n",
            "Tuned Model Parameters: {'logreg__C': 1e-05}\n"
          ],
          "name": "stdout"
        }
      ]
    },
    {
      "cell_type": "markdown",
      "metadata": {
        "id": "Aa-Rz74vj25b"
      },
      "source": [
        "Все данные "
      ]
    },
    {
      "cell_type": "code",
      "metadata": {
        "id": "VIg2wwNMXncd",
        "colab": {
          "base_uri": "https://localhost:8080/"
        },
        "outputId": "399eca8a-1138-4213-b4b9-907664fcc803"
      },
      "source": [
        "from sklearn.pipeline import Pipeline\r\n",
        "from sklearn.preprocessing import StandardScaler\r\n",
        "from sklearn.preprocessing import FunctionTransformer\r\n",
        " \r\n",
        "steps = [('tfidf', TfidfVectorizer(analyzer='char_wb')),\r\n",
        "         ('logreg', LogisticRegression(class_weight='balanced', n_jobs=-1, max_iter=500))]\r\n",
        " \r\n",
        "parameters = {'logreg__C': np.logspace(-10, 8, 30),\r\n",
        "              'tfidf__ngram_range' : [(1,1), (2,2), (3,3), (4,4), (5,5), (1,5), (2,6)]}\r\n",
        " \r\n",
        "X_train = data.meta\r\n",
        "y_train = data.label\r\n",
        "X_test = data_val.meta\r\n",
        "y_test = data_val.label\r\n",
        " \r\n",
        "pipeline = Pipeline(steps)\r\n",
        " \r\n",
        "search = GridSearchCV(pipeline, cv=5, param_grid = parameters, scoring='accuracy')\r\n",
        " \r\n",
        "search.fit(X_train, y_train)\r\n",
        "y_pred = search.predict(X_test)\r\n",
        " \r\n",
        "print(\"Accuracy: {}\".format(search.score(X_test, y_test)))\r\n",
        "print(classification_report(y_test, y_pred))\r\n",
        "print(\"Tuned Model Parameters: {}\".format(search.best_params_))"
      ],
      "execution_count": null,
      "outputs": [
        {
          "output_type": "stream",
          "text": [
            "Accuracy: 0.5712545676004872\n",
            "              precision    recall  f1-score   support\n",
            "\n",
            "       False       0.65      0.30      0.41       409\n",
            "        True       0.55      0.84      0.66       412\n",
            "\n",
            "    accuracy                           0.57       821\n",
            "   macro avg       0.60      0.57      0.54       821\n",
            "weighted avg       0.60      0.57      0.54       821\n",
            "\n",
            "Tuned Model Parameters: {'logreg__C': 3.5622478902624515, 'tfidf__ngram_range': (1, 5)}\n"
          ],
          "name": "stdout"
        }
      ]
    },
    {
      "cell_type": "code",
      "metadata": {
        "id": "8hIYtNvPhBTG",
        "colab": {
          "base_uri": "https://localhost:8080/"
        },
        "outputId": "18f41d3c-5681-4f7f-aca5-1885ff90c425"
      },
      "source": [
        "from sklearn.linear_model import LogisticRegression, SGDClassifier\r\n",
        "vectorizer = TfidfVectorizer()\r\n",
        "clf = SGDClassifier(loss=\"log\", n_jobs=-1, alpha=0.0001, class_weight='balanced', random_state=42)\r\n",
        "\r\n",
        "X_train = vectorizer.fit_transform(data.passage)\r\n",
        "X_test = vectorizer.transform(data_val.passage)\r\n",
        "y_train = data.label\r\n",
        "y_test = data_val.label\r\n",
        "\r\n",
        "clf.fit(X_train, y_train)\r\n",
        "y_pred = clf.predict(X_test)\r\n",
        " \r\n",
        "# Compute and print metrics\r\n",
        "print(\"Accuracy: {}\".format(clf.score(X_test, y_test)))\r\n",
        "print(classification_report(y_test, y_pred))"
      ],
      "execution_count": null,
      "outputs": [
        {
          "output_type": "stream",
          "text": [
            "Accuracy: 0.5602923264311814\n",
            "              precision    recall  f1-score   support\n",
            "\n",
            "       False       0.63      0.28      0.39       409\n",
            "        True       0.54      0.84      0.66       412\n",
            "\n",
            "    accuracy                           0.56       821\n",
            "   macro avg       0.59      0.56      0.52       821\n",
            "weighted avg       0.59      0.56      0.52       821\n",
            "\n"
          ],
          "name": "stdout"
        }
      ]
    },
    {
      "cell_type": "code",
      "metadata": {
        "id": "ggoEjKO4WaTa",
        "colab": {
          "base_uri": "https://localhost:8080/",
          "height": 888
        },
        "outputId": "9afb8e26-1a3d-4db6-ae81-0f1f5f76b1e9"
      },
      "source": [
        "eli5.show_weights(clf, top=45, feature_names = vectorizer.get_feature_names())"
      ],
      "execution_count": null,
      "outputs": [
        {
          "output_type": "execute_result",
          "data": {
            "text/html": [
              "\n",
              "    <style>\n",
              "    table.eli5-weights tr:hover {\n",
              "        filter: brightness(85%);\n",
              "    }\n",
              "</style>\n",
              "\n",
              "\n",
              "\n",
              "    \n",
              "\n",
              "    \n",
              "\n",
              "    \n",
              "\n",
              "    \n",
              "\n",
              "    \n",
              "\n",
              "    \n",
              "\n",
              "\n",
              "    \n",
              "\n",
              "    \n",
              "\n",
              "    \n",
              "\n",
              "    \n",
              "        \n",
              "\n",
              "    \n",
              "\n",
              "        \n",
              "            \n",
              "                \n",
              "                \n",
              "    \n",
              "        <p style=\"margin-bottom: 0.5em; margin-top: 0em\">\n",
              "            <b>\n",
              "    \n",
              "        y=True\n",
              "    \n",
              "</b>\n",
              "\n",
              "top features\n",
              "        </p>\n",
              "    \n",
              "    <table class=\"eli5-weights\"\n",
              "           style=\"border-collapse: collapse; border: none; margin-top: 0em; table-layout: auto; margin-bottom: 2em;\">\n",
              "        <thead>\n",
              "        <tr style=\"border: none;\">\n",
              "            \n",
              "                <th style=\"padding: 0 1em 0 0.5em; text-align: right; border: none;\" title=\"Feature weights. Note that weights do not account for feature value scales, so if feature values have different scales, features with highest weights might not be the most important.\">\n",
              "                    Weight<sup>?</sup>\n",
              "                </th>\n",
              "            \n",
              "            <th style=\"padding: 0 0.5em 0 0.5em; text-align: left; border: none;\">Feature</th>\n",
              "            \n",
              "        </tr>\n",
              "        </thead>\n",
              "        <tbody>\n",
              "        \n",
              "            <tr style=\"background-color: hsl(120, 100.00%, 92.47%); border: none;\">\n",
              "    <td style=\"padding: 0 1em 0 0.5em; text-align: right; border: none;\">\n",
              "        +2.353\n",
              "    </td>\n",
              "    <td style=\"padding: 0 0.5em 0 0.5em; text-align: left; border: none;\">\n",
              "        человек\n",
              "    </td>\n",
              "    \n",
              "</tr>\n",
              "        \n",
              "            <tr style=\"background-color: hsl(120, 100.00%, 93.13%); border: none;\">\n",
              "    <td style=\"padding: 0 1em 0 0.5em; text-align: right; border: none;\">\n",
              "        +2.064\n",
              "    </td>\n",
              "    <td style=\"padding: 0 0.5em 0 0.5em; text-align: left; border: none;\">\n",
              "        истории\n",
              "    </td>\n",
              "    \n",
              "</tr>\n",
              "        \n",
              "            <tr style=\"background-color: hsl(120, 100.00%, 93.20%); border: none;\">\n",
              "    <td style=\"padding: 0 1em 0 0.5em; text-align: right; border: none;\">\n",
              "        +2.032\n",
              "    </td>\n",
              "    <td style=\"padding: 0 0.5em 0 0.5em; text-align: left; border: none;\">\n",
              "        людей\n",
              "    </td>\n",
              "    \n",
              "</tr>\n",
              "        \n",
              "            <tr style=\"background-color: hsl(120, 100.00%, 93.57%); border: none;\">\n",
              "    <td style=\"padding: 0 1em 0 0.5em; text-align: right; border: none;\">\n",
              "        +1.874\n",
              "    </td>\n",
              "    <td style=\"padding: 0 0.5em 0 0.5em; text-align: left; border: none;\">\n",
              "        ссср\n",
              "    </td>\n",
              "    \n",
              "</tr>\n",
              "        \n",
              "            <tr style=\"background-color: hsl(120, 100.00%, 93.58%); border: none;\">\n",
              "    <td style=\"padding: 0 1em 0 0.5em; text-align: right; border: none;\">\n",
              "        +1.871\n",
              "    </td>\n",
              "    <td style=\"padding: 0 0.5em 0 0.5em; text-align: left; border: none;\">\n",
              "        17\n",
              "    </td>\n",
              "    \n",
              "</tr>\n",
              "        \n",
              "            <tr style=\"background-color: hsl(120, 100.00%, 93.74%); border: none;\">\n",
              "    <td style=\"padding: 0 1em 0 0.5em; text-align: right; border: none;\">\n",
              "        +1.805\n",
              "    </td>\n",
              "    <td style=\"padding: 0 0.5em 0 0.5em; text-align: left; border: none;\">\n",
              "        хвост\n",
              "    </td>\n",
              "    \n",
              "</tr>\n",
              "        \n",
              "            <tr style=\"background-color: hsl(120, 100.00%, 93.83%); border: none;\">\n",
              "    <td style=\"padding: 0 1em 0 0.5em; text-align: right; border: none;\">\n",
              "        +1.770\n",
              "    </td>\n",
              "    <td style=\"padding: 0 0.5em 0 0.5em; text-align: left; border: none;\">\n",
              "        войны\n",
              "    </td>\n",
              "    \n",
              "</tr>\n",
              "        \n",
              "            <tr style=\"background-color: hsl(120, 100.00%, 94.09%); border: none;\">\n",
              "    <td style=\"padding: 0 1em 0 0.5em; text-align: right; border: none;\">\n",
              "        +1.664\n",
              "    </td>\n",
              "    <td style=\"padding: 0 0.5em 0 0.5em; text-align: left; border: none;\">\n",
              "        до\n",
              "    </td>\n",
              "    \n",
              "</tr>\n",
              "        \n",
              "            <tr style=\"background-color: hsl(120, 100.00%, 94.17%); border: none;\">\n",
              "    <td style=\"padding: 0 1em 0 0.5em; text-align: right; border: none;\">\n",
              "        +1.631\n",
              "    </td>\n",
              "    <td style=\"padding: 0 0.5em 0 0.5em; text-align: left; border: none;\">\n",
              "        великой\n",
              "    </td>\n",
              "    \n",
              "</tr>\n",
              "        \n",
              "            <tr style=\"background-color: hsl(120, 100.00%, 94.31%); border: none;\">\n",
              "    <td style=\"padding: 0 1em 0 0.5em; text-align: right; border: none;\">\n",
              "        +1.577\n",
              "    </td>\n",
              "    <td style=\"padding: 0 0.5em 0 0.5em; text-align: left; border: none;\">\n",
              "        россии\n",
              "    </td>\n",
              "    \n",
              "</tr>\n",
              "        \n",
              "            <tr style=\"background-color: hsl(120, 100.00%, 94.48%); border: none;\">\n",
              "    <td style=\"padding: 0 1em 0 0.5em; text-align: right; border: none;\">\n",
              "        +1.509\n",
              "    </td>\n",
              "    <td style=\"padding: 0 0.5em 0 0.5em; text-align: left; border: none;\">\n",
              "        город\n",
              "    </td>\n",
              "    \n",
              "</tr>\n",
              "        \n",
              "            <tr style=\"background-color: hsl(120, 100.00%, 94.50%); border: none;\">\n",
              "    <td style=\"padding: 0 1em 0 0.5em; text-align: right; border: none;\">\n",
              "        +1.503\n",
              "    </td>\n",
              "    <td style=\"padding: 0 0.5em 0 0.5em; text-align: left; border: none;\">\n",
              "        северной\n",
              "    </td>\n",
              "    \n",
              "</tr>\n",
              "        \n",
              "            <tr style=\"background-color: hsl(120, 100.00%, 94.59%); border: none;\">\n",
              "    <td style=\"padding: 0 1em 0 0.5em; text-align: right; border: none;\">\n",
              "        +1.467\n",
              "    </td>\n",
              "    <td style=\"padding: 0 0.5em 0 0.5em; text-align: left; border: none;\">\n",
              "        кипр\n",
              "    </td>\n",
              "    \n",
              "</tr>\n",
              "        \n",
              "            <tr style=\"background-color: hsl(120, 100.00%, 94.62%); border: none;\">\n",
              "    <td style=\"padding: 0 1em 0 0.5em; text-align: right; border: none;\">\n",
              "        +1.452\n",
              "    </td>\n",
              "    <td style=\"padding: 0 0.5em 0 0.5em; text-align: left; border: none;\">\n",
              "        хорошо\n",
              "    </td>\n",
              "    \n",
              "</tr>\n",
              "        \n",
              "            <tr style=\"background-color: hsl(120, 100.00%, 94.63%); border: none;\">\n",
              "    <td style=\"padding: 0 1em 0 0.5em; text-align: right; border: none;\">\n",
              "        +1.449\n",
              "    </td>\n",
              "    <td style=\"padding: 0 0.5em 0 0.5em; text-align: left; border: none;\">\n",
              "        человека\n",
              "    </td>\n",
              "    \n",
              "</tr>\n",
              "        \n",
              "            <tr style=\"background-color: hsl(120, 100.00%, 94.65%); border: none;\">\n",
              "    <td style=\"padding: 0 1em 0 0.5em; text-align: right; border: none;\">\n",
              "        +1.444\n",
              "    </td>\n",
              "    <td style=\"padding: 0 0.5em 0 0.5em; text-align: left; border: none;\">\n",
              "        европы\n",
              "    </td>\n",
              "    \n",
              "</tr>\n",
              "        \n",
              "            <tr style=\"background-color: hsl(120, 100.00%, 94.67%); border: none;\">\n",
              "    <td style=\"padding: 0 1em 0 0.5em; text-align: right; border: none;\">\n",
              "        +1.437\n",
              "    </td>\n",
              "    <td style=\"padding: 0 0.5em 0 0.5em; text-align: left; border: none;\">\n",
              "        марса\n",
              "    </td>\n",
              "    \n",
              "</tr>\n",
              "        \n",
              "            <tr style=\"background-color: hsl(120, 100.00%, 94.69%); border: none;\">\n",
              "    <td style=\"padding: 0 1em 0 0.5em; text-align: right; border: none;\">\n",
              "        +1.428\n",
              "    </td>\n",
              "    <td style=\"padding: 0 0.5em 0 0.5em; text-align: left; border: none;\">\n",
              "        иисуса\n",
              "    </td>\n",
              "    \n",
              "</tr>\n",
              "        \n",
              "            <tr style=\"background-color: hsl(120, 100.00%, 94.69%); border: none;\">\n",
              "    <td style=\"padding: 0 1em 0 0.5em; text-align: right; border: none;\">\n",
              "        +1.427\n",
              "    </td>\n",
              "    <td style=\"padding: 0 0.5em 0 0.5em; text-align: left; border: none;\">\n",
              "        мире\n",
              "    </td>\n",
              "    \n",
              "</tr>\n",
              "        \n",
              "            <tr style=\"background-color: hsl(120, 100.00%, 94.69%); border: none;\">\n",
              "    <td style=\"padding: 0 1em 0 0.5em; text-align: right; border: none;\">\n",
              "        +1.426\n",
              "    </td>\n",
              "    <td style=\"padding: 0 0.5em 0 0.5em; text-align: left; border: none;\">\n",
              "        сын\n",
              "    </td>\n",
              "    \n",
              "</tr>\n",
              "        \n",
              "            <tr style=\"background-color: hsl(120, 100.00%, 94.72%); border: none;\">\n",
              "    <td style=\"padding: 0 1em 0 0.5em; text-align: right; border: none;\">\n",
              "        +1.416\n",
              "    </td>\n",
              "    <td style=\"padding: 0 0.5em 0 0.5em; text-align: left; border: none;\">\n",
              "        был\n",
              "    </td>\n",
              "    \n",
              "</tr>\n",
              "        \n",
              "            <tr style=\"background-color: hsl(120, 100.00%, 94.72%); border: none;\">\n",
              "    <td style=\"padding: 0 1em 0 0.5em; text-align: right; border: none;\">\n",
              "        +1.415\n",
              "    </td>\n",
              "    <td style=\"padding: 0 0.5em 0 0.5em; text-align: left; border: none;\">\n",
              "        первый\n",
              "    </td>\n",
              "    \n",
              "</tr>\n",
              "        \n",
              "            <tr style=\"background-color: hsl(120, 100.00%, 94.73%); border: none;\">\n",
              "    <td style=\"padding: 0 1em 0 0.5em; text-align: right; border: none;\">\n",
              "        +1.412\n",
              "    </td>\n",
              "    <td style=\"padding: 0 0.5em 0 0.5em; text-align: left; border: none;\">\n",
              "        дни\n",
              "    </td>\n",
              "    \n",
              "</tr>\n",
              "        \n",
              "        \n",
              "            <tr style=\"background-color: hsl(120, 100.00%, 94.73%); border: none;\">\n",
              "                <td colspan=\"2\" style=\"padding: 0 0.5em 0 0.5em; text-align: center; border: none; white-space: nowrap;\">\n",
              "                    <i>&hellip; 23449 more positive &hellip;</i>\n",
              "                </td>\n",
              "            </tr>\n",
              "        \n",
              "\n",
              "        \n",
              "            <tr style=\"background-color: hsl(0, 100.00%, 94.65%); border: none;\">\n",
              "                <td colspan=\"2\" style=\"padding: 0 0.5em 0 0.5em; text-align: center; border: none; white-space: nowrap;\">\n",
              "                    <i>&hellip; 17960 more negative &hellip;</i>\n",
              "                </td>\n",
              "            </tr>\n",
              "        \n",
              "        \n",
              "            <tr style=\"background-color: hsl(0, 100.00%, 94.65%); border: none;\">\n",
              "    <td style=\"padding: 0 1em 0 0.5em; text-align: right; border: none;\">\n",
              "        -1.442\n",
              "    </td>\n",
              "    <td style=\"padding: 0 0.5em 0 0.5em; text-align: left; border: none;\">\n",
              "        друг\n",
              "    </td>\n",
              "    \n",
              "</tr>\n",
              "        \n",
              "            <tr style=\"background-color: hsl(0, 100.00%, 94.62%); border: none;\">\n",
              "    <td style=\"padding: 0 1em 0 0.5em; text-align: right; border: none;\">\n",
              "        -1.456\n",
              "    </td>\n",
              "    <td style=\"padding: 0 0.5em 0 0.5em; text-align: left; border: none;\">\n",
              "        снг\n",
              "    </td>\n",
              "    \n",
              "</tr>\n",
              "        \n",
              "            <tr style=\"background-color: hsl(0, 100.00%, 94.51%); border: none;\">\n",
              "    <td style=\"padding: 0 1em 0 0.5em; text-align: right; border: none;\">\n",
              "        -1.495\n",
              "    </td>\n",
              "    <td style=\"padding: 0 0.5em 0 0.5em; text-align: left; border: none;\">\n",
              "        общества\n",
              "    </td>\n",
              "    \n",
              "</tr>\n",
              "        \n",
              "            <tr style=\"background-color: hsl(0, 100.00%, 94.46%); border: none;\">\n",
              "    <td style=\"padding: 0 1em 0 0.5em; text-align: right; border: none;\">\n",
              "        -1.515\n",
              "    </td>\n",
              "    <td style=\"padding: 0 0.5em 0 0.5em; text-align: left; border: none;\">\n",
              "        лишь\n",
              "    </td>\n",
              "    \n",
              "</tr>\n",
              "        \n",
              "            <tr style=\"background-color: hsl(0, 100.00%, 94.27%); border: none;\">\n",
              "    <td style=\"padding: 0 1em 0 0.5em; text-align: right; border: none;\">\n",
              "        -1.592\n",
              "    </td>\n",
              "    <td style=\"padding: 0 0.5em 0 0.5em; text-align: left; border: none;\">\n",
              "        отсутствует\n",
              "    </td>\n",
              "    \n",
              "</tr>\n",
              "        \n",
              "            <tr style=\"background-color: hsl(0, 100.00%, 94.17%); border: none;\">\n",
              "    <td style=\"padding: 0 1em 0 0.5em; text-align: right; border: none;\">\n",
              "        -1.630\n",
              "    </td>\n",
              "    <td style=\"padding: 0 0.5em 0 0.5em; text-align: left; border: none;\">\n",
              "        нато\n",
              "    </td>\n",
              "    \n",
              "</tr>\n",
              "        \n",
              "            <tr style=\"background-color: hsl(0, 100.00%, 94.16%); border: none;\">\n",
              "    <td style=\"padding: 0 1em 0 0.5em; text-align: right; border: none;\">\n",
              "        -1.634\n",
              "    </td>\n",
              "    <td style=\"padding: 0 0.5em 0 0.5em; text-align: left; border: none;\">\n",
              "        зубы\n",
              "    </td>\n",
              "    \n",
              "</tr>\n",
              "        \n",
              "            <tr style=\"background-color: hsl(0, 100.00%, 93.96%); border: none;\">\n",
              "    <td style=\"padding: 0 1em 0 0.5em; text-align: right; border: none;\">\n",
              "        -1.715\n",
              "    </td>\n",
              "    <td style=\"padding: 0 0.5em 0 0.5em; text-align: left; border: none;\">\n",
              "        правило\n",
              "    </td>\n",
              "    \n",
              "</tr>\n",
              "        \n",
              "            <tr style=\"background-color: hsl(0, 100.00%, 93.69%); border: none;\">\n",
              "    <td style=\"padding: 0 1em 0 0.5em; text-align: right; border: none;\">\n",
              "        -1.826\n",
              "    </td>\n",
              "    <td style=\"padding: 0 0.5em 0 0.5em; text-align: left; border: none;\">\n",
              "        нет\n",
              "    </td>\n",
              "    \n",
              "</tr>\n",
              "        \n",
              "            <tr style=\"background-color: hsl(0, 100.00%, 93.63%); border: none;\">\n",
              "    <td style=\"padding: 0 1em 0 0.5em; text-align: right; border: none;\">\n",
              "        -1.849\n",
              "    </td>\n",
              "    <td style=\"padding: 0 0.5em 0 0.5em; text-align: left; border: none;\">\n",
              "        создание\n",
              "    </td>\n",
              "    \n",
              "</tr>\n",
              "        \n",
              "            <tr style=\"background-color: hsl(0, 100.00%, 93.61%); border: none;\">\n",
              "    <td style=\"padding: 0 1em 0 0.5em; text-align: right; border: none;\">\n",
              "        -1.858\n",
              "    </td>\n",
              "    <td style=\"padding: 0 0.5em 0 0.5em; text-align: left; border: none;\">\n",
              "        карты\n",
              "    </td>\n",
              "    \n",
              "</tr>\n",
              "        \n",
              "            <tr style=\"background-color: hsl(0, 100.00%, 93.60%); border: none;\">\n",
              "    <td style=\"padding: 0 1em 0 0.5em; text-align: right; border: none;\">\n",
              "        -1.865\n",
              "    </td>\n",
              "    <td style=\"padding: 0 0.5em 0 0.5em; text-align: left; border: none;\">\n",
              "        но\n",
              "    </td>\n",
              "    \n",
              "</tr>\n",
              "        \n",
              "            <tr style=\"background-color: hsl(0, 100.00%, 93.51%); border: none;\">\n",
              "    <td style=\"padding: 0 1em 0 0.5em; text-align: right; border: none;\">\n",
              "        -1.903\n",
              "    </td>\n",
              "    <td style=\"padding: 0 0.5em 0 0.5em; text-align: left; border: none;\">\n",
              "        окуня\n",
              "    </td>\n",
              "    \n",
              "</tr>\n",
              "        \n",
              "            <tr style=\"background-color: hsl(0, 100.00%, 93.42%); border: none;\">\n",
              "    <td style=\"padding: 0 1em 0 0.5em; text-align: right; border: none;\">\n",
              "        -1.938\n",
              "    </td>\n",
              "    <td style=\"padding: 0 0.5em 0 0.5em; text-align: left; border: none;\">\n",
              "        относительно\n",
              "    </td>\n",
              "    \n",
              "</tr>\n",
              "        \n",
              "            <tr style=\"background-color: hsl(0, 100.00%, 93.42%); border: none;\">\n",
              "    <td style=\"padding: 0 1em 0 0.5em; text-align: right; border: none;\">\n",
              "        -1.938\n",
              "    </td>\n",
              "    <td style=\"padding: 0 0.5em 0 0.5em; text-align: left; border: none;\">\n",
              "        при\n",
              "    </td>\n",
              "    \n",
              "</tr>\n",
              "        \n",
              "            <tr style=\"background-color: hsl(0, 100.00%, 93.31%); border: none;\">\n",
              "    <td style=\"padding: 0 1em 0 0.5em; text-align: right; border: none;\">\n",
              "        -1.984\n",
              "    </td>\n",
              "    <td style=\"padding: 0 0.5em 0 0.5em; text-align: left; border: none;\">\n",
              "        соглашение\n",
              "    </td>\n",
              "    \n",
              "</tr>\n",
              "        \n",
              "            <tr style=\"background-color: hsl(0, 100.00%, 93.18%); border: none;\">\n",
              "    <td style=\"padding: 0 1em 0 0.5em; text-align: right; border: none;\">\n",
              "        -2.042\n",
              "    </td>\n",
              "    <td style=\"padding: 0 0.5em 0 0.5em; text-align: left; border: none;\">\n",
              "        англ\n",
              "    </td>\n",
              "    \n",
              "</tr>\n",
              "        \n",
              "            <tr style=\"background-color: hsl(0, 100.00%, 92.35%); border: none;\">\n",
              "    <td style=\"padding: 0 1em 0 0.5em; text-align: right; border: none;\">\n",
              "        -2.406\n",
              "    </td>\n",
              "    <td style=\"padding: 0 0.5em 0 0.5em; text-align: left; border: none;\">\n",
              "        ес\n",
              "    </td>\n",
              "    \n",
              "</tr>\n",
              "        \n",
              "            <tr style=\"background-color: hsl(0, 100.00%, 92.23%); border: none;\">\n",
              "    <td style=\"padding: 0 1em 0 0.5em; text-align: right; border: none;\">\n",
              "        -2.460\n",
              "    </td>\n",
              "    <td style=\"padding: 0 0.5em 0 0.5em; text-align: left; border: none;\">\n",
              "        сша\n",
              "    </td>\n",
              "    \n",
              "</tr>\n",
              "        \n",
              "            <tr style=\"background-color: hsl(0, 100.00%, 92.05%); border: none;\">\n",
              "    <td style=\"padding: 0 1em 0 0.5em; text-align: right; border: none;\">\n",
              "        -2.540\n",
              "    </td>\n",
              "    <td style=\"padding: 0 0.5em 0 0.5em; text-align: left; border: none;\">\n",
              "        ни\n",
              "    </td>\n",
              "    \n",
              "</tr>\n",
              "        \n",
              "            <tr style=\"background-color: hsl(0, 100.00%, 91.18%); border: none;\">\n",
              "    <td style=\"padding: 0 1em 0 0.5em; text-align: right; border: none;\">\n",
              "        -2.946\n",
              "    </td>\n",
              "    <td style=\"padding: 0 0.5em 0 0.5em; text-align: left; border: none;\">\n",
              "        которая\n",
              "    </td>\n",
              "    \n",
              "</tr>\n",
              "        \n",
              "            <tr style=\"background-color: hsl(0, 100.00%, 80.00%); border: none;\">\n",
              "    <td style=\"padding: 0 1em 0 0.5em; text-align: right; border: none;\">\n",
              "        -9.490\n",
              "    </td>\n",
              "    <td style=\"padding: 0 0.5em 0 0.5em; text-align: left; border: none;\">\n",
              "        не\n",
              "    </td>\n",
              "    \n",
              "</tr>\n",
              "        \n",
              "\n",
              "        </tbody>\n",
              "    </table>\n",
              "\n",
              "            \n",
              "        \n",
              "\n",
              "        \n",
              "\n",
              "\n",
              "\n",
              "    \n",
              "\n",
              "    \n",
              "\n",
              "    \n",
              "\n",
              "    \n",
              "\n",
              "\n",
              "    \n",
              "\n",
              "    \n",
              "\n",
              "    \n",
              "\n",
              "    \n",
              "\n",
              "    \n",
              "\n",
              "    \n",
              "\n",
              "\n",
              "    \n",
              "\n",
              "    \n",
              "\n",
              "    \n",
              "\n",
              "    \n",
              "\n",
              "    \n",
              "\n",
              "    \n",
              "\n",
              "\n",
              "\n"
            ],
            "text/plain": [
              "<IPython.core.display.HTML object>"
            ]
          },
          "metadata": {
            "tags": []
          },
          "execution_count": 35
        }
      ]
    },
    {
      "cell_type": "markdown",
      "metadata": {
        "id": "OL-9B_5EPLiA"
      },
      "source": [
        "# Step-by-step recreation with the help of the OG code"
      ]
    },
    {
      "cell_type": "code",
      "metadata": {
        "id": "w4cegY357nlc"
      },
      "source": [
        "%%bash\r\n",
        "wget -q --show-progress \"https://russiansuperglue.com/tasks/tf_idf\" -O temp.zip\r\n",
        "unzip temp.zip -d data\r\n",
        "rm temp.zip"
      ],
      "execution_count": null,
      "outputs": []
    },
    {
      "cell_type": "code",
      "metadata": {
        "colab": {
          "base_uri": "https://localhost:8080/"
        },
        "id": "hAqpFOvx1wF1",
        "outputId": "ed3302f2-93ae-40f9-8912-6ac56c549b14"
      },
      "source": [
        "import codecs\r\n",
        "import json\r\n",
        "from sklearn.linear_model import LogisticRegression\r\n",
        "import pickle\r\n",
        "import joblib\r\n",
        "\r\n",
        "vect = joblib.load(\"data/tfidf.pkl\")\r\n",
        "#  добавила еще и passage (надо посмотреть, что там происходит)\r\n",
        "def build_feature_DaNetQA(row):\r\n",
        "    # passage = str(row[\"passage\"]).strip()\r\n",
        "    question = str(row[\"question\"]).strip()\r\n",
        "    label = row.get(\"label\")\r\n",
        "    # res = f\"{passage} {question}\"\r\n",
        "    res = question\r\n",
        "    return res, label\r\n",
        "\r\n",
        "\r\n",
        "def build_features_DaNetQA(path, vect):\r\n",
        "    with codecs.open(path, encoding='utf-8-sig') as reader:\r\n",
        "        lines = reader.read().split(\"\\n\")\r\n",
        "        lines = list(map(json.loads, filter(None, lines)))\r\n",
        "    res = list(map(build_feature_DaNetQA, lines))\r\n",
        "    texts = list(map(lambda x: x[0], res))\r\n",
        "    labels = list(map(lambda x: x[1], res))\r\n",
        "    ids = [x[\"idx\"] for x in lines]\r\n",
        "    return (vect.transform(texts), labels), ids\r\n",
        "\r\n",
        "\r\n",
        "def fit_DaNetQA(train, labels):\r\n",
        "    clf = LogisticRegression()\r\n",
        "    return clf.fit(train, labels)\r\n",
        "\r\n",
        "\r\n",
        "def eval_DaNetQA(train_path, val_path, test_path, vect):\r\n",
        "    train, _ = build_features_DaNetQA(train_path, vect)\r\n",
        "    val, _ = build_features_DaNetQA(val_path, vect)\r\n",
        "    test, ids = build_features_DaNetQA(test_path, vect)\r\n",
        "    clf = fit_DaNetQA(*train)\r\n",
        "    try:\r\n",
        "        test_score = clf.score(*test)\r\n",
        "    except ValueError:\r\n",
        "        test_score = None\r\n",
        "    test_pred = clf.predict(test[0])\r\n",
        "    return clf, {\r\n",
        "        \"train\": clf.score(*train),\r\n",
        "        \"val\": clf.score(*val),\r\n",
        "        \"test\": test_score,\r\n",
        "        \"test_pred\": [{\"idx\": idx, \"label\": str(label).lower()} for idx, label in zip(ids, test_pred)]\r\n",
        "    }"
      ],
      "execution_count": null,
      "outputs": [
        {
          "output_type": "stream",
          "text": [
            "/usr/local/lib/python3.6/dist-packages/sklearn/base.py:318: UserWarning: Trying to unpickle estimator TfidfTransformer from version 0.21.3 when using version 0.22.2.post1. This might lead to breaking code or invalid results. Use at your own risk.\n",
            "  UserWarning)\n",
            "/usr/local/lib/python3.6/dist-packages/sklearn/base.py:318: UserWarning: Trying to unpickle estimator TfidfVectorizer from version 0.21.3 when using version 0.22.2.post1. This might lead to breaking code or invalid results. Use at your own risk.\n",
            "  UserWarning)\n"
          ],
          "name": "stderr"
        }
      ]
    },
    {
      "cell_type": "code",
      "metadata": {
        "id": "D20ZJ2X58R2c"
      },
      "source": [
        "train_path = \"data/DaNetQA/train.jsonl\"\r\n",
        "val_path = \"data/DaNetQA/val.jsonl\"\r\n",
        "test_path = \"data/DaNetQA/test.jsonl\"\r\n",
        "\r\n",
        "_, DaNetQA_scores = eval_DaNetQA(train_path, val_path, test_path, vect)"
      ],
      "execution_count": null,
      "outputs": []
    },
    {
      "cell_type": "code",
      "metadata": {
        "colab": {
          "base_uri": "https://localhost:8080/"
        },
        "id": "y_fV9hjC80qi",
        "outputId": "e29de9b0-493b-4156-8354-b93609630fd5"
      },
      "source": [
        "DaNetQA_scores[\"train\"], DaNetQA_scores[\"val\"]"
      ],
      "execution_count": null,
      "outputs": [
        {
          "output_type": "execute_result",
          "data": {
            "text/plain": [
              "(0.8010291595197255, 0.5907429963459196)"
            ]
          },
          "metadata": {
            "tags": []
          },
          "execution_count": 28
        }
      ]
    },
    {
      "cell_type": "code",
      "metadata": {
        "id": "0C3nuLF9Qt3W"
      },
      "source": [
        "train, _ = build_features_DaNetQA(train_path, vect)\r\n",
        "val, _ = build_features_DaNetQA(val_path, vect)"
      ],
      "execution_count": null,
      "outputs": []
    },
    {
      "cell_type": "code",
      "metadata": {
        "colab": {
          "base_uri": "https://localhost:8080/"
        },
        "id": "_DJoiwjuQ5G3",
        "outputId": "74a9d15c-7f0a-4a5f-e1c9-c03e8471d829"
      },
      "source": [
        "clf = fit_DaNetQA(*train)\r\n",
        "y_din = clf.predict(val[0])\r\n",
        "print(\"Accuracy: {}\".format(clf.score(*val)))\r\n",
        "print(classification_report(val[1], y_din))"
      ],
      "execution_count": null,
      "outputs": [
        {
          "output_type": "stream",
          "text": [
            "Accuracy: 0.5907429963459196\n",
            "              precision    recall  f1-score   support\n",
            "\n",
            "       False       0.81      0.23      0.36       409\n",
            "        True       0.55      0.95      0.70       412\n",
            "\n",
            "    accuracy                           0.59       821\n",
            "   macro avg       0.68      0.59      0.53       821\n",
            "weighted avg       0.68      0.59      0.53       821\n",
            "\n"
          ],
          "name": "stdout"
        }
      ]
    },
    {
      "cell_type": "markdown",
      "metadata": {
        "id": "4YkyRIaBQmas"
      },
      "source": [
        "# Preprocessing\r\n"
      ]
    },
    {
      "cell_type": "code",
      "metadata": {
        "colab": {
          "base_uri": "https://localhost:8080/"
        },
        "id": "gcoN81U3QsA5",
        "outputId": "397e213a-963c-4d94-d9dc-619a956b37d6"
      },
      "source": [
        "!pip install pymorphy2 \r\n",
        "import pymorphy2\r\n",
        "import re\r\n",
        "from pymorphy2 import MorphAnalyzer\r\n",
        "from functools import lru_cache\r\n",
        "import nltk\r\n",
        "\r\n",
        "m = MorphAnalyzer()\r\n",
        "\r\n",
        "rg = re.compile(\"[А-Яа-яA-z]+\")\r\n",
        "\r\n",
        "def words_only(text, rg=rg):\r\n",
        "    try:\r\n",
        "        return rg.findall(text.lower())\r\n",
        "    except:\r\n",
        "        return []\r\n",
        "\r\n",
        "@lru_cache(maxsize=128)\r\n",
        "def lemmatize_word(token, pymorphy=m):\r\n",
        "    return pymorphy.parse(token)[0].normal_form\r\n",
        "\r\n",
        "def lemmatize_text(text):\r\n",
        "    return [lemmatize_word(w) for w in text]\r\n",
        "\r\n",
        "def clean_text(text):\r\n",
        "    tokens = words_only(text)\r\n",
        "    lemmas = lemmatize_text(tokens)  \r\n",
        "    return lemmas\r\n",
        "\r\n",
        "def lemmas(data, column):\r\n",
        "  new_words = []\r\n",
        "  for i in range(len(data[column])):\r\n",
        "    nw = clean_text(data[column][i])\r\n",
        "    nw = ' '.join(nw)\r\n",
        "    new_words.append(nw)\r\n",
        "  data[column] = new_words\r\n",
        "  return data"
      ],
      "execution_count": null,
      "outputs": [
        {
          "output_type": "stream",
          "text": [
            "Requirement already satisfied: pymorphy2 in /usr/local/lib/python3.6/dist-packages (0.9.1)\n",
            "Requirement already satisfied: pymorphy2-dicts-ru<3.0,>=2.4 in /usr/local/lib/python3.6/dist-packages (from pymorphy2) (2.4.417127.4579844)\n",
            "Requirement already satisfied: docopt>=0.6 in /usr/local/lib/python3.6/dist-packages (from pymorphy2) (0.6.2)\n",
            "Requirement already satisfied: dawg-python>=0.7.1 in /usr/local/lib/python3.6/dist-packages (from pymorphy2) (0.7.2)\n"
          ],
          "name": "stdout"
        }
      ]
    },
    {
      "cell_type": "code",
      "metadata": {
        "id": "xMpIl47vQ9cg"
      },
      "source": [
        "handler = JSONL_handler('data/DaNetQA/val.jsonl')\r\n",
        "df1 = handler.to_pandas()\r\n",
        "\r\n",
        "df = lemmas(df, 'passage')\r\n",
        "df1 = lemmas(df, 'passage')\r\n",
        "\r\n",
        "data = pd.DataFrame({'passage': df.passage, 'label': df.label})\r\n",
        "data_val = pd.DataFrame({'passage': df1.passage, 'label': df1.label})\r\n",
        "\r\n",
        "data['meta'] = df.passage + ' ' + df.question\r\n",
        "data_val['meta'] = df1.passage + ' ' + df1.question\r\n",
        " \r\n",
        "data['q'] = df.question\r\n",
        "data_val['q'] = df1.question"
      ],
      "execution_count": null,
      "outputs": []
    },
    {
      "cell_type": "code",
      "metadata": {
        "colab": {
          "base_uri": "https://localhost:8080/"
        },
        "id": "N7rI5Ie5QxC5",
        "outputId": "b887d00f-faec-4516-ef33-79a5d7b11821"
      },
      "source": [
        "from sklearn.linear_model import LogisticRegression, SGDClassifier\r\n",
        "vectorizer = TfidfVectorizer()\r\n",
        "clf = SGDClassifier(loss=\"log\", n_jobs=-1, alpha=0.0001, class_weight='balanced', random_state=42)\r\n",
        "\r\n",
        "X_train = vectorizer.fit_transform(data.passage)\r\n",
        "X_test = vectorizer.transform(data_val.passage)\r\n",
        "y_train = data.label\r\n",
        "y_test = data_val.label\r\n",
        "\r\n",
        "clf.fit(X_train, y_train)\r\n",
        "y_pred = clf.predict(X_test)\r\n",
        " \r\n",
        "# Compute and print metrics\r\n",
        "print(\"Accuracy: {}\".format(clf.score(X_test, y_test)))\r\n",
        "print(classification_report(y_test, y_pred))"
      ],
      "execution_count": null,
      "outputs": [
        {
          "output_type": "stream",
          "text": [
            "Accuracy: 0.9765580331618068\n",
            "              precision    recall  f1-score   support\n",
            "\n",
            "       False       0.95      0.99      0.97       688\n",
            "        True       1.00      0.97      0.98      1061\n",
            "\n",
            "    accuracy                           0.98      1749\n",
            "   macro avg       0.97      0.98      0.98      1749\n",
            "weighted avg       0.98      0.98      0.98      1749\n",
            "\n"
          ],
          "name": "stdout"
        }
      ]
    },
    {
      "cell_type": "code",
      "metadata": {
        "id": "0EBzAkTiTsto",
        "colab": {
          "base_uri": "https://localhost:8080/",
          "height": 906
        },
        "outputId": "e3a2de93-f506-4bac-8031-2d04fb4eeda3"
      },
      "source": [
        "eli5.show_weights(clf, top=45, feature_names = vectorizer.get_feature_names())"
      ],
      "execution_count": null,
      "outputs": [
        {
          "output_type": "execute_result",
          "data": {
            "text/html": [
              "\n",
              "    <style>\n",
              "    table.eli5-weights tr:hover {\n",
              "        filter: brightness(85%);\n",
              "    }\n",
              "</style>\n",
              "\n",
              "\n",
              "\n",
              "    \n",
              "\n",
              "    \n",
              "\n",
              "    \n",
              "\n",
              "    \n",
              "\n",
              "    \n",
              "\n",
              "    \n",
              "\n",
              "\n",
              "    \n",
              "\n",
              "    \n",
              "\n",
              "    \n",
              "\n",
              "    \n",
              "        \n",
              "\n",
              "    \n",
              "\n",
              "        \n",
              "            \n",
              "                \n",
              "                \n",
              "    \n",
              "        <p style=\"margin-bottom: 0.5em; margin-top: 0em\">\n",
              "            <b>\n",
              "    \n",
              "        y=True\n",
              "    \n",
              "</b>\n",
              "\n",
              "top features\n",
              "        </p>\n",
              "    \n",
              "    <table class=\"eli5-weights\"\n",
              "           style=\"border-collapse: collapse; border: none; margin-top: 0em; table-layout: auto; margin-bottom: 2em;\">\n",
              "        <thead>\n",
              "        <tr style=\"border: none;\">\n",
              "            \n",
              "                <th style=\"padding: 0 1em 0 0.5em; text-align: right; border: none;\" title=\"Feature weights. Note that weights do not account for feature value scales, so if feature values have different scales, features with highest weights might not be the most important.\">\n",
              "                    Weight<sup>?</sup>\n",
              "                </th>\n",
              "            \n",
              "            <th style=\"padding: 0 0.5em 0 0.5em; text-align: left; border: none;\">Feature</th>\n",
              "            \n",
              "        </tr>\n",
              "        </thead>\n",
              "        <tbody>\n",
              "        \n",
              "            <tr style=\"background-color: hsl(120, 100.00%, 88.31%); border: none;\">\n",
              "    <td style=\"padding: 0 1em 0 0.5em; text-align: right; border: none;\">\n",
              "        +4.238\n",
              "    </td>\n",
              "    <td style=\"padding: 0 0.5em 0 0.5em; text-align: left; border: none;\">\n",
              "        человек\n",
              "    </td>\n",
              "    \n",
              "</tr>\n",
              "        \n",
              "            <tr style=\"background-color: hsl(120, 100.00%, 91.75%); border: none;\">\n",
              "    <td style=\"padding: 0 1em 0 0.5em; text-align: right; border: none;\">\n",
              "        +2.573\n",
              "    </td>\n",
              "    <td style=\"padding: 0 0.5em 0 0.5em; text-align: left; border: none;\">\n",
              "        великий\n",
              "    </td>\n",
              "    \n",
              "</tr>\n",
              "        \n",
              "            <tr style=\"background-color: hsl(120, 100.00%, 92.02%); border: none;\">\n",
              "    <td style=\"padding: 0 1em 0 0.5em; text-align: right; border: none;\">\n",
              "        +2.456\n",
              "    </td>\n",
              "    <td style=\"padding: 0 0.5em 0 0.5em; text-align: left; border: none;\">\n",
              "        марс\n",
              "    </td>\n",
              "    \n",
              "</tr>\n",
              "        \n",
              "            <tr style=\"background-color: hsl(120, 100.00%, 92.28%); border: none;\">\n",
              "    <td style=\"padding: 0 1em 0 0.5em; text-align: right; border: none;\">\n",
              "        +2.343\n",
              "    </td>\n",
              "    <td style=\"padding: 0 0.5em 0 0.5em; text-align: left; border: none;\">\n",
              "        северный\n",
              "    </td>\n",
              "    \n",
              "</tr>\n",
              "        \n",
              "            <tr style=\"background-color: hsl(120, 100.00%, 92.39%); border: none;\">\n",
              "    <td style=\"padding: 0 1em 0 0.5em; text-align: right; border: none;\">\n",
              "        +2.292\n",
              "    </td>\n",
              "    <td style=\"padding: 0 0.5em 0 0.5em; text-align: left; border: none;\">\n",
              "        лишайник\n",
              "    </td>\n",
              "    \n",
              "</tr>\n",
              "        \n",
              "            <tr style=\"background-color: hsl(120, 100.00%, 92.40%); border: none;\">\n",
              "    <td style=\"padding: 0 1em 0 0.5em; text-align: right; border: none;\">\n",
              "        +2.292\n",
              "    </td>\n",
              "    <td style=\"padding: 0 0.5em 0 0.5em; text-align: left; border: none;\">\n",
              "        европа\n",
              "    </td>\n",
              "    \n",
              "</tr>\n",
              "        \n",
              "            <tr style=\"background-color: hsl(120, 100.00%, 92.75%); border: none;\">\n",
              "    <td style=\"padding: 0 1em 0 0.5em; text-align: right; border: none;\">\n",
              "        +2.139\n",
              "    </td>\n",
              "    <td style=\"padding: 0 0.5em 0 0.5em; text-align: left; border: none;\">\n",
              "        ссср\n",
              "    </td>\n",
              "    \n",
              "</tr>\n",
              "        \n",
              "            <tr style=\"background-color: hsl(120, 100.00%, 93.02%); border: none;\">\n",
              "    <td style=\"padding: 0 1em 0 0.5em; text-align: right; border: none;\">\n",
              "        +2.027\n",
              "    </td>\n",
              "    <td style=\"padding: 0 0.5em 0 0.5em; text-align: left; border: none;\">\n",
              "        гражданский\n",
              "    </td>\n",
              "    \n",
              "</tr>\n",
              "        \n",
              "            <tr style=\"background-color: hsl(120, 100.00%, 93.08%); border: none;\">\n",
              "    <td style=\"padding: 0 1em 0 0.5em; text-align: right; border: none;\">\n",
              "        +2.004\n",
              "    </td>\n",
              "    <td style=\"padding: 0 0.5em 0 0.5em; text-align: left; border: none;\">\n",
              "        хвост\n",
              "    </td>\n",
              "    \n",
              "</tr>\n",
              "        \n",
              "            <tr style=\"background-color: hsl(120, 100.00%, 93.41%); border: none;\">\n",
              "    <td style=\"padding: 0 1em 0 0.5em; text-align: right; border: none;\">\n",
              "        +1.869\n",
              "    </td>\n",
              "    <td style=\"padding: 0 0.5em 0 0.5em; text-align: left; border: none;\">\n",
              "        голова\n",
              "    </td>\n",
              "    \n",
              "</tr>\n",
              "        \n",
              "            <tr style=\"background-color: hsl(120, 100.00%, 93.43%); border: none;\">\n",
              "    <td style=\"padding: 0 1em 0 0.5em; text-align: right; border: none;\">\n",
              "        +1.858\n",
              "    </td>\n",
              "    <td style=\"padding: 0 0.5em 0 0.5em; text-align: left; border: none;\">\n",
              "        аллергия\n",
              "    </td>\n",
              "    \n",
              "</tr>\n",
              "        \n",
              "            <tr style=\"background-color: hsl(120, 100.00%, 93.46%); border: none;\">\n",
              "    <td style=\"padding: 0 1em 0 0.5em; text-align: right; border: none;\">\n",
              "        +1.847\n",
              "    </td>\n",
              "    <td style=\"padding: 0 0.5em 0 0.5em; text-align: left; border: none;\">\n",
              "        год\n",
              "    </td>\n",
              "    \n",
              "</tr>\n",
              "        \n",
              "            <tr style=\"background-color: hsl(120, 100.00%, 93.48%); border: none;\">\n",
              "    <td style=\"padding: 0 1em 0 0.5em; text-align: right; border: none;\">\n",
              "        +1.838\n",
              "    </td>\n",
              "    <td style=\"padding: 0 0.5em 0 0.5em; text-align: left; border: none;\">\n",
              "        иисус\n",
              "    </td>\n",
              "    \n",
              "</tr>\n",
              "        \n",
              "            <tr style=\"background-color: hsl(120, 100.00%, 93.49%); border: none;\">\n",
              "    <td style=\"padding: 0 1em 0 0.5em; text-align: right; border: none;\">\n",
              "        +1.835\n",
              "    </td>\n",
              "    <td style=\"padding: 0 0.5em 0 0.5em; text-align: left; border: none;\">\n",
              "        стадия\n",
              "    </td>\n",
              "    \n",
              "</tr>\n",
              "        \n",
              "            <tr style=\"background-color: hsl(120, 100.00%, 93.50%); border: none;\">\n",
              "    <td style=\"padding: 0 1em 0 0.5em; text-align: right; border: none;\">\n",
              "        +1.833\n",
              "    </td>\n",
              "    <td style=\"padding: 0 0.5em 0 0.5em; text-align: left; border: none;\">\n",
              "        пушкин\n",
              "    </td>\n",
              "    \n",
              "</tr>\n",
              "        \n",
              "            <tr style=\"background-color: hsl(120, 100.00%, 93.68%); border: none;\">\n",
              "    <td style=\"padding: 0 1em 0 0.5em; text-align: right; border: none;\">\n",
              "        +1.760\n",
              "    </td>\n",
              "    <td style=\"padding: 0 0.5em 0 0.5em; text-align: left; border: none;\">\n",
              "        родиться\n",
              "    </td>\n",
              "    \n",
              "</tr>\n",
              "        \n",
              "        \n",
              "            <tr style=\"background-color: hsl(120, 100.00%, 93.68%); border: none;\">\n",
              "                <td colspan=\"2\" style=\"padding: 0 0.5em 0 0.5em; text-align: center; border: none; white-space: nowrap;\">\n",
              "                    <i>&hellip; 11673 more positive &hellip;</i>\n",
              "                </td>\n",
              "            </tr>\n",
              "        \n",
              "\n",
              "        \n",
              "            <tr style=\"background-color: hsl(0, 100.00%, 93.69%); border: none;\">\n",
              "                <td colspan=\"2\" style=\"padding: 0 0.5em 0 0.5em; text-align: center; border: none; white-space: nowrap;\">\n",
              "                    <i>&hellip; 8787 more negative &hellip;</i>\n",
              "                </td>\n",
              "            </tr>\n",
              "        \n",
              "        \n",
              "            <tr style=\"background-color: hsl(0, 100.00%, 93.69%); border: none;\">\n",
              "    <td style=\"padding: 0 1em 0 0.5em; text-align: right; border: none;\">\n",
              "        -1.754\n",
              "    </td>\n",
              "    <td style=\"padding: 0 0.5em 0 0.5em; text-align: left; border: none;\">\n",
              "        иблис\n",
              "    </td>\n",
              "    \n",
              "</tr>\n",
              "        \n",
              "            <tr style=\"background-color: hsl(0, 100.00%, 93.67%); border: none;\">\n",
              "    <td style=\"padding: 0 1em 0 0.5em; text-align: right; border: none;\">\n",
              "        -1.762\n",
              "    </td>\n",
              "    <td style=\"padding: 0 0.5em 0 0.5em; text-align: left; border: none;\">\n",
              "        теория\n",
              "    </td>\n",
              "    \n",
              "</tr>\n",
              "        \n",
              "            <tr style=\"background-color: hsl(0, 100.00%, 93.66%); border: none;\">\n",
              "    <td style=\"padding: 0 1em 0 0.5em; text-align: right; border: none;\">\n",
              "        -1.766\n",
              "    </td>\n",
              "    <td style=\"padding: 0 0.5em 0 0.5em; text-align: left; border: none;\">\n",
              "        связать\n",
              "    </td>\n",
              "    \n",
              "</tr>\n",
              "        \n",
              "            <tr style=\"background-color: hsl(0, 100.00%, 93.61%); border: none;\">\n",
              "    <td style=\"padding: 0 1em 0 0.5em; text-align: right; border: none;\">\n",
              "        -1.788\n",
              "    </td>\n",
              "    <td style=\"padding: 0 0.5em 0 0.5em; text-align: left; border: none;\">\n",
              "        плод\n",
              "    </td>\n",
              "    \n",
              "</tr>\n",
              "        \n",
              "            <tr style=\"background-color: hsl(0, 100.00%, 93.50%); border: none;\">\n",
              "    <td style=\"padding: 0 1em 0 0.5em; text-align: right; border: none;\">\n",
              "        -1.830\n",
              "    </td>\n",
              "    <td style=\"padding: 0 0.5em 0 0.5em; text-align: left; border: none;\">\n",
              "        швейцария\n",
              "    </td>\n",
              "    \n",
              "</tr>\n",
              "        \n",
              "            <tr style=\"background-color: hsl(0, 100.00%, 93.48%); border: none;\">\n",
              "    <td style=\"padding: 0 1em 0 0.5em; text-align: right; border: none;\">\n",
              "        -1.839\n",
              "    </td>\n",
              "    <td style=\"padding: 0 0.5em 0 0.5em; text-align: left; border: none;\">\n",
              "        отношение\n",
              "    </td>\n",
              "    \n",
              "</tr>\n",
              "        \n",
              "            <tr style=\"background-color: hsl(0, 100.00%, 93.47%); border: none;\">\n",
              "    <td style=\"padding: 0 1em 0 0.5em; text-align: right; border: none;\">\n",
              "        -1.844\n",
              "    </td>\n",
              "    <td style=\"padding: 0 0.5em 0 0.5em; text-align: left; border: none;\">\n",
              "        но\n",
              "    </td>\n",
              "    \n",
              "</tr>\n",
              "        \n",
              "            <tr style=\"background-color: hsl(0, 100.00%, 93.44%); border: none;\">\n",
              "    <td style=\"padding: 0 1em 0 0.5em; text-align: right; border: none;\">\n",
              "        -1.854\n",
              "    </td>\n",
              "    <td style=\"padding: 0 0.5em 0 0.5em; text-align: left; border: none;\">\n",
              "        лев\n",
              "    </td>\n",
              "    \n",
              "</tr>\n",
              "        \n",
              "            <tr style=\"background-color: hsl(0, 100.00%, 93.39%); border: none;\">\n",
              "    <td style=\"padding: 0 1em 0 0.5em; text-align: right; border: none;\">\n",
              "        -1.875\n",
              "    </td>\n",
              "    <td style=\"padding: 0 0.5em 0 0.5em; text-align: left; border: none;\">\n",
              "        запретить\n",
              "    </td>\n",
              "    \n",
              "</tr>\n",
              "        \n",
              "            <tr style=\"background-color: hsl(0, 100.00%, 93.38%); border: none;\">\n",
              "    <td style=\"padding: 0 1em 0 0.5em; text-align: right; border: none;\">\n",
              "        -1.881\n",
              "    </td>\n",
              "    <td style=\"padding: 0 0.5em 0 0.5em; text-align: left; border: none;\">\n",
              "        нет\n",
              "    </td>\n",
              "    \n",
              "</tr>\n",
              "        \n",
              "            <tr style=\"background-color: hsl(0, 100.00%, 93.35%); border: none;\">\n",
              "    <td style=\"padding: 0 1em 0 0.5em; text-align: right; border: none;\">\n",
              "        -1.893\n",
              "    </td>\n",
              "    <td style=\"padding: 0 0.5em 0 0.5em; text-align: left; border: none;\">\n",
              "        карта\n",
              "    </td>\n",
              "    \n",
              "</tr>\n",
              "        \n",
              "            <tr style=\"background-color: hsl(0, 100.00%, 93.31%); border: none;\">\n",
              "    <td style=\"padding: 0 1em 0 0.5em; text-align: right; border: none;\">\n",
              "        -1.907\n",
              "    </td>\n",
              "    <td style=\"padding: 0 0.5em 0 0.5em; text-align: left; border: none;\">\n",
              "        грузия\n",
              "    </td>\n",
              "    \n",
              "</tr>\n",
              "        \n",
              "            <tr style=\"background-color: hsl(0, 100.00%, 93.30%); border: none;\">\n",
              "    <td style=\"padding: 0 1em 0 0.5em; text-align: right; border: none;\">\n",
              "        -1.911\n",
              "    </td>\n",
              "    <td style=\"padding: 0 0.5em 0 0.5em; text-align: left; border: none;\">\n",
              "        англ\n",
              "    </td>\n",
              "    \n",
              "</tr>\n",
              "        \n",
              "            <tr style=\"background-color: hsl(0, 100.00%, 93.29%); border: none;\">\n",
              "    <td style=\"padding: 0 1em 0 0.5em; text-align: right; border: none;\">\n",
              "        -1.914\n",
              "    </td>\n",
              "    <td style=\"padding: 0 0.5em 0 0.5em; text-align: left; border: none;\">\n",
              "        относительно\n",
              "    </td>\n",
              "    \n",
              "</tr>\n",
              "        \n",
              "            <tr style=\"background-color: hsl(0, 100.00%, 93.24%); border: none;\">\n",
              "    <td style=\"padding: 0 1em 0 0.5em; text-align: right; border: none;\">\n",
              "        -1.939\n",
              "    </td>\n",
              "    <td style=\"padding: 0 0.5em 0 0.5em; text-align: left; border: none;\">\n",
              "        сша\n",
              "    </td>\n",
              "    \n",
              "</tr>\n",
              "        \n",
              "            <tr style=\"background-color: hsl(0, 100.00%, 93.14%); border: none;\">\n",
              "    <td style=\"padding: 0 1em 0 0.5em; text-align: right; border: none;\">\n",
              "        -1.979\n",
              "    </td>\n",
              "    <td style=\"padding: 0 0.5em 0 0.5em; text-align: left; border: none;\">\n",
              "        ес\n",
              "    </td>\n",
              "    \n",
              "</tr>\n",
              "        \n",
              "            <tr style=\"background-color: hsl(0, 100.00%, 93.13%); border: none;\">\n",
              "    <td style=\"padding: 0 1em 0 0.5em; text-align: right; border: none;\">\n",
              "        -1.980\n",
              "    </td>\n",
              "    <td style=\"padding: 0 0.5em 0 0.5em; text-align: left; border: none;\">\n",
              "        общество\n",
              "    </td>\n",
              "    \n",
              "</tr>\n",
              "        \n",
              "            <tr style=\"background-color: hsl(0, 100.00%, 93.07%); border: none;\">\n",
              "    <td style=\"padding: 0 1em 0 0.5em; text-align: right; border: none;\">\n",
              "        -2.006\n",
              "    </td>\n",
              "    <td style=\"padding: 0 0.5em 0 0.5em; text-align: left; border: none;\">\n",
              "        евросоюз\n",
              "    </td>\n",
              "    \n",
              "</tr>\n",
              "        \n",
              "            <tr style=\"background-color: hsl(0, 100.00%, 93.02%); border: none;\">\n",
              "    <td style=\"padding: 0 1em 0 0.5em; text-align: right; border: none;\">\n",
              "        -2.026\n",
              "    </td>\n",
              "    <td style=\"padding: 0 0.5em 0 0.5em; text-align: left; border: none;\">\n",
              "        эмбрион\n",
              "    </td>\n",
              "    \n",
              "</tr>\n",
              "        \n",
              "            <tr style=\"background-color: hsl(0, 100.00%, 92.67%); border: none;\">\n",
              "    <td style=\"padding: 0 1em 0 0.5em; text-align: right; border: none;\">\n",
              "        -2.175\n",
              "    </td>\n",
              "    <td style=\"padding: 0 0.5em 0 0.5em; text-align: left; border: none;\">\n",
              "        кровь\n",
              "    </td>\n",
              "    \n",
              "</tr>\n",
              "        \n",
              "            <tr style=\"background-color: hsl(0, 100.00%, 92.66%); border: none;\">\n",
              "    <td style=\"padding: 0 1em 0 0.5em; text-align: right; border: none;\">\n",
              "        -2.178\n",
              "    </td>\n",
              "    <td style=\"padding: 0 0.5em 0 0.5em; text-align: left; border: none;\">\n",
              "        создание\n",
              "    </td>\n",
              "    \n",
              "</tr>\n",
              "        \n",
              "            <tr style=\"background-color: hsl(0, 100.00%, 92.56%); border: none;\">\n",
              "    <td style=\"padding: 0 1em 0 0.5em; text-align: right; border: none;\">\n",
              "        -2.223\n",
              "    </td>\n",
              "    <td style=\"padding: 0 0.5em 0 0.5em; text-align: left; border: none;\">\n",
              "        правило\n",
              "    </td>\n",
              "    \n",
              "</tr>\n",
              "        \n",
              "            <tr style=\"background-color: hsl(0, 100.00%, 92.36%); border: none;\">\n",
              "    <td style=\"padding: 0 1em 0 0.5em; text-align: right; border: none;\">\n",
              "        -2.307\n",
              "    </td>\n",
              "    <td style=\"padding: 0 0.5em 0 0.5em; text-align: left; border: none;\">\n",
              "        врач\n",
              "    </td>\n",
              "    \n",
              "</tr>\n",
              "        \n",
              "            <tr style=\"background-color: hsl(0, 100.00%, 92.25%); border: none;\">\n",
              "    <td style=\"padding: 0 1em 0 0.5em; text-align: right; border: none;\">\n",
              "        -2.356\n",
              "    </td>\n",
              "    <td style=\"padding: 0 0.5em 0 0.5em; text-align: left; border: none;\">\n",
              "        политика\n",
              "    </td>\n",
              "    \n",
              "</tr>\n",
              "        \n",
              "            <tr style=\"background-color: hsl(0, 100.00%, 91.89%); border: none;\">\n",
              "    <td style=\"padding: 0 1em 0 0.5em; text-align: right; border: none;\">\n",
              "        -2.513\n",
              "    </td>\n",
              "    <td style=\"padding: 0 0.5em 0 0.5em; text-align: left; border: none;\">\n",
              "        соглашение\n",
              "    </td>\n",
              "    \n",
              "</tr>\n",
              "        \n",
              "            <tr style=\"background-color: hsl(0, 100.00%, 91.83%); border: none;\">\n",
              "    <td style=\"padding: 0 1em 0 0.5em; text-align: right; border: none;\">\n",
              "        -2.539\n",
              "    </td>\n",
              "    <td style=\"padding: 0 0.5em 0 0.5em; text-align: left; border: none;\">\n",
              "        отсутствовать\n",
              "    </td>\n",
              "    \n",
              "</tr>\n",
              "        \n",
              "            <tr style=\"background-color: hsl(0, 100.00%, 91.81%); border: none;\">\n",
              "    <td style=\"padding: 0 1em 0 0.5em; text-align: right; border: none;\">\n",
              "        -2.548\n",
              "    </td>\n",
              "    <td style=\"padding: 0 0.5em 0 0.5em; text-align: left; border: none;\">\n",
              "        ни\n",
              "    </td>\n",
              "    \n",
              "</tr>\n",
              "        \n",
              "            <tr style=\"background-color: hsl(0, 100.00%, 91.70%); border: none;\">\n",
              "    <td style=\"padding: 0 1em 0 0.5em; text-align: right; border: none;\">\n",
              "        -2.598\n",
              "    </td>\n",
              "    <td style=\"padding: 0 0.5em 0 0.5em; text-align: left; border: none;\">\n",
              "        окунь\n",
              "    </td>\n",
              "    \n",
              "</tr>\n",
              "        \n",
              "            <tr style=\"background-color: hsl(0, 100.00%, 80.00%); border: none;\">\n",
              "    <td style=\"padding: 0 1em 0 0.5em; text-align: right; border: none;\">\n",
              "        -9.122\n",
              "    </td>\n",
              "    <td style=\"padding: 0 0.5em 0 0.5em; text-align: left; border: none;\">\n",
              "        не\n",
              "    </td>\n",
              "    \n",
              "</tr>\n",
              "        \n",
              "\n",
              "        </tbody>\n",
              "    </table>\n",
              "\n",
              "            \n",
              "        \n",
              "\n",
              "        \n",
              "\n",
              "\n",
              "\n",
              "    \n",
              "\n",
              "    \n",
              "\n",
              "    \n",
              "\n",
              "    \n",
              "\n",
              "\n",
              "    \n",
              "\n",
              "    \n",
              "\n",
              "    \n",
              "\n",
              "    \n",
              "\n",
              "    \n",
              "\n",
              "    \n",
              "\n",
              "\n",
              "    \n",
              "\n",
              "    \n",
              "\n",
              "    \n",
              "\n",
              "    \n",
              "\n",
              "    \n",
              "\n",
              "    \n",
              "\n",
              "\n",
              "\n"
            ],
            "text/plain": [
              "<IPython.core.display.HTML object>"
            ]
          },
          "metadata": {
            "tags": []
          },
          "execution_count": 13
        }
      ]
    }
  ]
}