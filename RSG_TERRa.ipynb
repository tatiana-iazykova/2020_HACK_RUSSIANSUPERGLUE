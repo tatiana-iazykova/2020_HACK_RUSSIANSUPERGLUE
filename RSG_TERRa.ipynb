{
  "nbformat": 4,
  "nbformat_minor": 0,
  "metadata": {
    "colab": {
      "name": "RSG_TERRa.ipynb",
      "provenance": [],
      "collapsed_sections": [
        "0OUUSCWcudle",
        "A4ZdyanPupV_",
        "ZxDAiS8Ox8Py",
        "HEn2LQjZvBMv",
        "zC_KAI7zNSue",
        "0JrR_-02pdsl",
        "OL-9B_5EPLiA",
        "4YkyRIaBQmas"
      ],
      "include_colab_link": true
    },
    "kernelspec": {
      "name": "python3",
      "display_name": "Python 3"
    }
  },
  "cells": [
    {
      "cell_type": "markdown",
      "metadata": {
        "id": "view-in-github",
        "colab_type": "text"
      },
      "source": [
        "<a href=\"https://colab.research.google.com/github/tatiana-iazykova/2020_HACK_RUSSIANSUPERGLUE/blob/main/RSG_TERRa.ipynb\" target=\"_parent\"><img src=\"https://colab.research.google.com/assets/colab-badge.svg\" alt=\"Open In Colab\"/></a>"
      ]
    },
    {
      "cell_type": "markdown",
      "metadata": {
        "id": "0OUUSCWcudle"
      },
      "source": [
        "#Загрузка английского датасета для сравнения"
      ]
    },
    {
      "cell_type": "code",
      "metadata": {
        "id": "bjHb_yglPu4w"
      },
      "source": [
        "%%bash\n",
        "# change url if you want to work with a different RSG dataset\n",
        "wget -q --show-progress \"https://dl.fbaipublicfiles.com/glue/superglue/data/v2/RTE.zip\" -O temp.zip\n",
        "unzip temp.zip -d data\n",
        "\n",
        "# remove unnecessary directories and files\n",
        "rm temp.zip\n",
        "rm -r data/__MACOSX\n",
        "rm -r sample_data/"
      ],
      "execution_count": null,
      "outputs": []
    },
    {
      "cell_type": "markdown",
      "metadata": {
        "id": "A4ZdyanPupV_"
      },
      "source": [
        "# Загрузка русскоязычного датасета"
      ]
    },
    {
      "cell_type": "code",
      "metadata": {
        "id": "RsL57-5kTLgJ",
        "colab": {
          "base_uri": "https://localhost:8080/"
        },
        "outputId": "4ec9bb40-1f32-44d2-b814-a6b762c410c0"
      },
      "source": [
        "%%bash\n",
        "# change url if you want to work with a different RSG dataset\n",
        "wget -q --show-progress \"https://russiansuperglue.com/tasks/download/TERRa\" -O temp.zip\n",
        "unzip temp.zip -d data\n",
        "\n",
        "# remove unnecessary directories and files\n",
        "rm temp.zip\n",
        "rm -r data/__MACOSX\n",
        "rm -r sample_data/"
      ],
      "execution_count": 4,
      "outputs": [
        {
          "output_type": "stream",
          "text": [
            "Archive:  temp.zip\n",
            "   creating: data/TERRa/\n",
            "  inflating: data/TERRa/train.jsonl  \n",
            "   creating: data/__MACOSX/\n",
            "   creating: data/__MACOSX/TERRa/\n",
            "  inflating: data/__MACOSX/TERRa/._train.jsonl  \n",
            "  inflating: data/TERRa/.DS_Store    \n",
            "  inflating: data/__MACOSX/TERRa/._.DS_Store  \n",
            "  inflating: data/TERRa/test.jsonl   \n",
            "  inflating: data/__MACOSX/TERRa/._test.jsonl  \n",
            "  inflating: data/TERRa/val.jsonl    \n",
            "  inflating: data/__MACOSX/TERRa/._val.jsonl  \n",
            "  inflating: data/__MACOSX/._TERRa   \n"
          ],
          "name": "stdout"
        },
        {
          "output_type": "stream",
          "text": [
            "\n",
            "     0K .......... .......... .......... .......... ..........  5% 1.06M 1s\n",
            "    50K .......... .......... .......... .......... .......... 11%  647K 1s\n",
            "   100K .......... .......... .......... .......... .......... 16% 11.1M 1s\n",
            "   150K .......... .......... .......... .......... .......... 22% 50.9M 0s\n",
            "   200K .......... .......... .......... .......... .......... 28%  131M 0s\n",
            "   250K .......... .......... .......... .......... .......... 33% 1.38M 0s\n",
            "   300K .......... .......... .......... .......... .......... 39% 1.07M 0s\n",
            "   350K .......... .......... .......... .......... .......... 45%  154M 0s\n",
            "   400K .......... .......... .......... .......... .......... 50% 1.22M 0s\n",
            "   450K .......... .......... .......... .......... .......... 56% 1.27M 0s\n",
            "   500K .......... .......... .......... .......... .......... 62% 1.13M 0s\n",
            "   550K .......... .......... .......... .......... .......... 67% 1.20M 0s\n",
            "   600K .......... .......... .......... .......... .......... 73% 1.34M 0s\n",
            "   650K .......... .......... .......... .......... .......... 78% 1.09M 0s\n",
            "   700K .......... .......... .......... .......... .......... 84%  624K 0s\n",
            "   750K .......... .......... .......... .......... .......... 90%  613K 0s\n",
            "   800K .......... .......... .......... .......... .......... 95%  623K 0s\n",
            "   850K .......... .......... .......... ......               100%  900K=0.7srm: cannot remove 'sample_data/': No such file or directory\n"
          ],
          "name": "stderr"
        }
      ]
    },
    {
      "cell_type": "markdown",
      "metadata": {
        "id": "uD4auz_Nt9qR"
      },
      "source": [
        "Fancy way to display content of the dataset directory"
      ]
    },
    {
      "cell_type": "code",
      "metadata": {
        "id": "Wh_Pi5TXfVBI",
        "colab": {
          "base_uri": "https://localhost:8080/"
        },
        "outputId": "b5456b41-90d8-495e-c57a-f806a1deddbe"
      },
      "source": [
        "%%bash\n",
        "# add tree package for fancy directory display\n",
        "apt-get install tree"
      ],
      "execution_count": 5,
      "outputs": [
        {
          "output_type": "stream",
          "text": [
            "Reading package lists...\n",
            "Building dependency tree...\n",
            "Reading state information...\n",
            "The following NEW packages will be installed:\n",
            "  tree\n",
            "0 upgraded, 1 newly installed, 0 to remove and 16 not upgraded.\n",
            "Need to get 40.7 kB of archives.\n",
            "After this operation, 105 kB of additional disk space will be used.\n",
            "Get:1 http://archive.ubuntu.com/ubuntu bionic/universe amd64 tree amd64 1.7.0-5 [40.7 kB]\n",
            "Fetched 40.7 kB in 0s (586 kB/s)\n",
            "Selecting previously unselected package tree.\r\n",
            "(Reading database ... \r(Reading database ... 5%\r(Reading database ... 10%\r(Reading database ... 15%\r(Reading database ... 20%\r(Reading database ... 25%\r(Reading database ... 30%\r(Reading database ... 35%\r(Reading database ... 40%\r(Reading database ... 45%\r(Reading database ... 50%\r(Reading database ... 55%\r(Reading database ... 60%\r(Reading database ... 65%\r(Reading database ... 70%\r(Reading database ... 75%\r(Reading database ... 80%\r(Reading database ... 85%\r(Reading database ... 90%\r(Reading database ... 95%\r(Reading database ... 100%\r(Reading database ... 145483 files and directories currently installed.)\r\n",
            "Preparing to unpack .../tree_1.7.0-5_amd64.deb ...\r\n",
            "Unpacking tree (1.7.0-5) ...\r\n",
            "Setting up tree (1.7.0-5) ...\r\n",
            "Processing triggers for man-db (2.8.3-2ubuntu0.1) ...\r\n"
          ],
          "name": "stdout"
        }
      ]
    },
    {
      "cell_type": "code",
      "metadata": {
        "colab": {
          "base_uri": "https://localhost:8080/"
        },
        "id": "87zEZXR_xzmF",
        "outputId": "cbc1bc52-a529-4cac-a7d4-005979fce8a5"
      },
      "source": [
        "# display the content of the folder\n",
        "!tree"
      ],
      "execution_count": 6,
      "outputs": [
        {
          "output_type": "stream",
          "text": [
            ".\n",
            "└── data\n",
            "    ├── RTE\n",
            "    │   ├── test.jsonl\n",
            "    │   ├── train.jsonl\n",
            "    │   └── val.jsonl\n",
            "    └── TERRa\n",
            "        ├── test.jsonl\n",
            "        ├── train.jsonl\n",
            "        └── val.jsonl\n",
            "\n",
            "3 directories, 6 files\n"
          ],
          "name": "stdout"
        }
      ]
    },
    {
      "cell_type": "markdown",
      "metadata": {
        "id": "ZxDAiS8Ox8Py"
      },
      "source": [
        "# Загрузка в pandas"
      ]
    },
    {
      "cell_type": "code",
      "metadata": {
        "id": "C0cqhlXaXbwj"
      },
      "source": [
        "import pandas as pd\n",
        "pd.set_option('display.max_colwidth', 1000)\n",
        "\n",
        "class JSONL_handler():\n",
        "    \"\"\" opens a jsonl file and turns it into a necessary data structure \"\"\"\n",
        "    \n",
        "    def __init__(self, path):\n",
        "        self.path = path # path to jsonl file\n",
        "\n",
        "    def to_pandas(self):\n",
        "        \"\"\" get jsonl file content as a pandas DataFrame\"\"\"\n",
        "        return pd.read_json(path_or_buf=self.path, lines=True)"
      ],
      "execution_count": 7,
      "outputs": []
    },
    {
      "cell_type": "code",
      "metadata": {
        "id": "_NRSjltfYcjT"
      },
      "source": [
        "handler = JSONL_handler('data/TERRa/train.jsonl')\n",
        "df = handler.to_pandas()"
      ],
      "execution_count": 8,
      "outputs": []
    },
    {
      "cell_type": "code",
      "metadata": {
        "id": "GTguSJEc1Ans"
      },
      "source": [
        "handler_val = JSONL_handler('data/TERRa/val.jsonl')\r\n",
        "df1 = handler_val.to_pandas()"
      ],
      "execution_count": 10,
      "outputs": []
    },
    {
      "cell_type": "code",
      "metadata": {
        "id": "yWGRRno7P5QS"
      },
      "source": [
        "handler_en = JSONL_handler('data/RTE/train.jsonl')\n",
        "df_en = handler_en.to_pandas()"
      ],
      "execution_count": 9,
      "outputs": []
    },
    {
      "cell_type": "markdown",
      "metadata": {
        "id": "c3x_pgvwNhjE"
      },
      "source": [
        "# Общая информация про train"
      ]
    },
    {
      "cell_type": "code",
      "metadata": {
        "id": "Q43c4vJZsN6v",
        "colab": {
          "base_uri": "https://localhost:8080/",
          "height": 265
        },
        "outputId": "316f03a1-d3c1-47ae-ef87-6571886ba7f5"
      },
      "source": [
        "import matplotlib.pyplot as plt\n",
        "plt.title('Label distribution in TERRa', fontsize=14)\n",
        "plt.pie(df['label'].value_counts(), autopct=\"%.1f%%\", explode=[0.05]*2, labels=df['label'].value_counts().keys(), pctdistance=0.5, textprops = dict(fontsize = 12))\n",
        "plt.show()"
      ],
      "execution_count": 11,
      "outputs": [
        {
          "output_type": "display_data",
          "data": {
            "image/png": "[encoded data removed]",
            "text/plain": [
              "<Figure size 432x288 with 1 Axes>"
            ]
          },
          "metadata": {
            "tags": []
          }
        }
      ]
    },
    {
      "cell_type": "code",
      "metadata": {
        "id": "rj9wTgqyzWIB",
        "colab": {
          "base_uri": "https://localhost:8080/",
          "height": 265
        },
        "outputId": "added858-1b5b-40af-de1c-6f551dcd0041"
      },
      "source": [
        "import matplotlib.pyplot as plt\r\n",
        "plt.title('Label distribution in TERRa-val', fontsize=14)\r\n",
        "plt.pie(df1['label'].value_counts(), autopct=\"%.1f%%\", explode=[0.05]*2, labels=df1['label'].value_counts().keys(), pctdistance=0.5, textprops = dict(fontsize = 12))\r\n",
        "plt.show()"
      ],
      "execution_count": 12,
      "outputs": [
        {
          "output_type": "display_data",
          "data": {
            "image/png": "[encoded data removed]",
            "text/plain": [
              "<Figure size 432x288 with 1 Axes>"
            ]
          },
          "metadata": {
            "tags": []
          }
        }
      ]
    },
    {
      "cell_type": "code",
      "metadata": {
        "colab": {
          "base_uri": "https://localhost:8080/"
        },
        "id": "vACfnT5Jpgbl",
        "outputId": "71baf89a-a67d-43ad-9f63-d952009d5f5c"
      },
      "source": [
        "df['label'].value_counts()"
      ],
      "execution_count": 13,
      "outputs": [
        {
          "output_type": "execute_result",
          "data": {
            "text/plain": [
              "entailment        1359\n",
              "not_entailment    1257\n",
              "Name: label, dtype: int64"
            ]
          },
          "metadata": {
            "tags": []
          },
          "execution_count": 13
        }
      ]
    },
    {
      "cell_type": "code",
      "metadata": {
        "colab": {
          "base_uri": "https://localhost:8080/"
        },
        "id": "Bpko3iriQAff",
        "outputId": "c21d3c10-344a-4375-b430-0c0f60326944"
      },
      "source": [
        "df_en['label'].value_counts()"
      ],
      "execution_count": 14,
      "outputs": [
        {
          "output_type": "execute_result",
          "data": {
            "text/plain": [
              "entailment        1249\n",
              "not_entailment    1241\n",
              "Name: label, dtype: int64"
            ]
          },
          "metadata": {
            "tags": []
          },
          "execution_count": 14
        }
      ]
    },
    {
      "cell_type": "code",
      "metadata": {
        "colab": {
          "base_uri": "https://localhost:8080/",
          "height": 620
        },
        "id": "MKuxdjKoUBVg",
        "outputId": "607ec541-d0f7-4fdd-8932-16f36ae08324"
      },
      "source": [
        "plt.title('Relative label distribution in TERRa\\n and corresponding SG dataset', fontsize=14)\n",
        "plt.hist(x = [df['label'], df_en['label']], color=[\"#9ddadc\", \"#e99aee\"], label=['RSG','SG'], rwidth = 50) \n",
        "plt.legend(loc='best')\n",
        "plt.show()\n",
        "print()\n",
        "\n",
        "plt.subplot(1,2,1)\n",
        "colours = {'#9ddca6', '#f0afb6', '#eeb87c'}\n",
        "\n",
        "plt.title('Label distribution\\n in SG\\n', fontsize=14)\n",
        "plt.pie(df_en['label'].value_counts(), autopct=\"%.1f%%\", explode=[0.05]*2, labels=df_en['label'].value_counts().keys(), pctdistance=0.5, textprops = dict(fontsize = 12), colors=colours)\n",
        "\n",
        "plt.subplot(1,2,2)\n",
        "\n",
        "plt.title('Label distribution\\n in RSG\\n', fontsize=14)\n",
        "plt.pie(df['label'].value_counts(), autopct=\"%.1f%%\", explode=[0.05]*2, labels=df['label'].value_counts().keys(), pctdistance=0.5, textprops = dict(fontsize = 12), colors=colours)\n",
        "\n",
        "plt.tight_layout()\n",
        "plt.show()"
      ],
      "execution_count": 16,
      "outputs": [
        {
          "output_type": "stream",
          "text": [
            "/usr/local/lib/python3.6/dist-packages/numpy/core/_asarray.py:83: VisibleDeprecationWarning: Creating an ndarray from ragged nested sequences (which is a list-or-tuple of lists-or-tuples-or ndarrays with different lengths or shapes) is deprecated. If you meant to do this, you must specify 'dtype=object' when creating the ndarray\n",
            "  return array(a, dtype, copy=False, order=order)\n"
          ],
          "name": "stderr"
        },
        {
          "output_type": "display_data",
          "data": {
            "image/png": "[encoded data removed]",
            "text/plain": [
              "<Figure size 432x288 with 1 Axes>"
            ]
          },
          "metadata": {
            "tags": [],
            "needs_background": "light"
          }
        },
        {
          "output_type": "stream",
          "text": [
            "\n"
          ],
          "name": "stdout"
        },
        {
          "output_type": "display_data",
          "data": {
            "image/png": "[encoded data removed]",
            "text/plain": [
              "<Figure size 432x288 with 2 Axes>"
            ]
          },
          "metadata": {
            "tags": []
          }
        }
      ]
    },
    {
      "cell_type": "code",
      "metadata": {
        "colab": {
          "base_uri": "https://localhost:8080/",
          "height": 258
        },
        "id": "RRkFQZkPdBVa",
        "outputId": "1edc7a8a-e756-46eb-9b2d-f88ad82bf32a"
      },
      "source": [
        "df.head()"
      ],
      "execution_count": 17,
      "outputs": [
        {
          "output_type": "execute_result",
          "data": {
            "text/html": [
              "<div>\n",
              "<style scoped>\n",
              "    .dataframe tbody tr th:only-of-type {\n",
              "        vertical-align: middle;\n",
              "    }\n",
              "\n",
              "    .dataframe tbody tr th {\n",
              "        vertical-align: top;\n",
              "    }\n",
              "\n",
              "    .dataframe thead th {\n",
              "        text-align: right;\n",
              "    }\n",
              "</style>\n",
              "<table border=\"1\" class=\"dataframe\">\n",
              "  <thead>\n",
              "    <tr style=\"text-align: right;\">\n",
              "      <th></th>\n",
              "      <th>premise</th>\n",
              "      <th>hypothesis</th>\n",
              "      <th>label</th>\n",
              "      <th>idx</th>\n",
              "    </tr>\n",
              "  </thead>\n",
              "  <tbody>\n",
              "    <tr>\n",
              "      <th>0</th>\n",
              "      <td>Женщину доставили в больницу, за ее жизнь сейчас борются врачи.</td>\n",
              "      <td>Женщину спасают врачи.</td>\n",
              "      <td>entailment</td>\n",
              "      <td>0</td>\n",
              "    </tr>\n",
              "    <tr>\n",
              "      <th>1</th>\n",
              "      <td>Он проводит невидимую грань между настоящим и будущим. В эти минуты все мы подводим главные итоги года, вспоминаем самые важные события. В эти мгновения мы с волнением ждем добрых перемен.</td>\n",
              "      <td>В эти минуты все мы подводим друг друга.</td>\n",
              "      <td>not_entailment</td>\n",
              "      <td>1</td>\n",
              "    </tr>\n",
              "    <tr>\n",
              "      <th>2</th>\n",
              "      <td>Мужчина рассказал: детская коляска, принадлежащая его семье, пропала прямо из подъезда. Как выяснили полицейские, коляску украл сосед мужчины. Он был пьян, и ему нужны были деньги.</td>\n",
              "      <td>Сосед часто крадет детские коляски ради денег.</td>\n",
              "      <td>not_entailment</td>\n",
              "      <td>2</td>\n",
              "    </tr>\n",
              "    <tr>\n",
              "      <th>3</th>\n",
              "      <td>Я просто об этом даже не думаю, потому что если кто-то что-то захочет, никуда не спрячешься.</td>\n",
              "      <td>Спрятаться не удастся.</td>\n",
              "      <td>entailment</td>\n",
              "      <td>3</td>\n",
              "    </tr>\n",
              "    <tr>\n",
              "      <th>4</th>\n",
              "      <td>В ходе проверки нашли дома с наледью и сосульками на крышах. Информацию о них передали коммунальщикам. Во избежание несчастных случаев спасатели рекомендуют гражданам быть осторожней, а коммунальщикам – оперативней, при выходе из зданий советуют смотреть на крыши и, по возможности, обходить края зданий.</td>\n",
              "      <td>Все сосульки с крыш были сбиты.</td>\n",
              "      <td>not_entailment</td>\n",
              "      <td>4</td>\n",
              "    </tr>\n",
              "  </tbody>\n",
              "</table>\n",
              "</div>"
            ],
            "text/plain": [
              "                                                                                                                                                                                                                                                                                                            premise  ... idx\n",
              "0                                                                                                                                                                                                                                                   Женщину доставили в больницу, за ее жизнь сейчас борются врачи.  ...   0\n",
              "1                                                                                                                      Он проводит невидимую грань между настоящим и будущим. В эти минуты все мы подводим главные итоги года, вспоминаем самые важные события. В эти мгновения мы с волнением ждем добрых перемен.  ...   1\n",
              "2                                                                                                                              Мужчина рассказал: детская коляска, принадлежащая его семье, пропала прямо из подъезда. Как выяснили полицейские, коляску украл сосед мужчины. Он был пьян, и ему нужны были деньги.  ...   2\n",
              "3                                                                                                                                                                                                                      Я просто об этом даже не думаю, потому что если кто-то что-то захочет, никуда не спрячешься.  ...   3\n",
              "4  В ходе проверки нашли дома с наледью и сосульками на крышах. Информацию о них передали коммунальщикам. Во избежание несчастных случаев спасатели рекомендуют гражданам быть осторожней, а коммунальщикам – оперативней, при выходе из зданий советуют смотреть на крыши и, по возможности, обходить края зданий.  ...   4\n",
              "\n",
              "[5 rows x 4 columns]"
            ]
          },
          "metadata": {
            "tags": []
          },
          "execution_count": 17
        }
      ]
    },
    {
      "cell_type": "markdown",
      "metadata": {
        "id": "HEn2LQjZvBMv"
      },
      "source": [
        "# Entailment (ошибки и странности разметки)"
      ]
    },
    {
      "cell_type": "code",
      "metadata": {
        "colab": {
          "base_uri": "https://localhost:8080/",
          "height": 502
        },
        "id": "sD5Xw3QYvKi6",
        "outputId": "d953ba44-2430-47de-ce54-fa9969836d3f"
      },
      "source": [
        "df_true = df[(df['label'] == \"entailment\")]\n",
        "df_true.reset_index\n",
        "df_true.iloc[:10]"
      ],
      "execution_count": 20,
      "outputs": [
        {
          "output_type": "execute_result",
          "data": {
            "text/html": [
              "<div>\n",
              "<style scoped>\n",
              "    .dataframe tbody tr th:only-of-type {\n",
              "        vertical-align: middle;\n",
              "    }\n",
              "\n",
              "    .dataframe tbody tr th {\n",
              "        vertical-align: top;\n",
              "    }\n",
              "\n",
              "    .dataframe thead th {\n",
              "        text-align: right;\n",
              "    }\n",
              "</style>\n",
              "<table border=\"1\" class=\"dataframe\">\n",
              "  <thead>\n",
              "    <tr style=\"text-align: right;\">\n",
              "      <th></th>\n",
              "      <th>premise</th>\n",
              "      <th>hypothesis</th>\n",
              "      <th>label</th>\n",
              "      <th>idx</th>\n",
              "    </tr>\n",
              "  </thead>\n",
              "  <tbody>\n",
              "    <tr>\n",
              "      <th>0</th>\n",
              "      <td>Женщину доставили в больницу, за ее жизнь сейчас борются врачи.</td>\n",
              "      <td>Женщину спасают врачи.</td>\n",
              "      <td>entailment</td>\n",
              "      <td>0</td>\n",
              "    </tr>\n",
              "    <tr>\n",
              "      <th>3</th>\n",
              "      <td>Я просто об этом даже не думаю, потому что если кто-то что-то захочет, никуда не спрячешься.</td>\n",
              "      <td>Спрятаться не удастся.</td>\n",
              "      <td>entailment</td>\n",
              "      <td>3</td>\n",
              "    </tr>\n",
              "    <tr>\n",
              "      <th>5</th>\n",
              "      <td>Автор поста написал в комментарии, что прорвалась канализация.</td>\n",
              "      <td>Автор поста написал про канализацию.</td>\n",
              "      <td>entailment</td>\n",
              "      <td>5</td>\n",
              "    </tr>\n",
              "    <tr>\n",
              "      <th>6</th>\n",
              "      <td>\"В свою очередь Владимир Путин в ходе совещания сообщил, что необходимо понимать, с какими поставщиками работают предприятия, которые дают окончательную продукцию. \"\"Там десятки тысяч поставщиков, но нам нужно понимать, что это за поставщики, чтобы это были те предприятия, которые в состоянии решать соответствующие проблемы, чтобы нам была понятна их рентабельность, чтобы распределение прибыли было понятным и прозрачным\"\", - сказал премьер. По его словам, это необходимо, потому что когда неизвестны все схемы поставщиков, министерству обороны практически невозможно разобраться в конечной цене продукции.\"</td>\n",
              "      <td>Путин хочет понятности и прозрачности в распределении прибыли у поставщиков оборонных предприятий.</td>\n",
              "      <td>entailment</td>\n",
              "      <td>6</td>\n",
              "    </tr>\n",
              "    <tr>\n",
              "      <th>8</th>\n",
              "      <td>\"Возраст людей определить не смог. Их лица были закрыты капюшонами, - рассказал журналисту \"\"Комсомольской правды\"\"-Саратов один из автолюбителей, проезжавших на мосту. - Со стороны обоих городов образовалась пробка, так как прибывшие машины спасателей и полиции перегородили полосу движения.\"</td>\n",
              "      <td>Люди прятали лица под капюшонами.</td>\n",
              "      <td>entailment</td>\n",
              "      <td>8</td>\n",
              "    </tr>\n",
              "    <tr>\n",
              "      <th>9</th>\n",
              "      <td>Родительских прав мать не лишена. Пока. А в парадном девочка оказалась, потому что дома она мешала матери выпивать.</td>\n",
              "      <td>Дочь мешала маме пить.</td>\n",
              "      <td>entailment</td>\n",
              "      <td>9</td>\n",
              "    </tr>\n",
              "    <tr>\n",
              "      <th>12</th>\n",
              "      <td>\"\"\"Несмотря на то, что в деле имеется инструкция охранников ХХС, они ничего не сделали, чтобы задержать девушек. А почему? А потому что не было никакого преступления\"\".\"</td>\n",
              "      <td>Охранники ничего не сделали, чтобы задержать девушек.</td>\n",
              "      <td>entailment</td>\n",
              "      <td>12</td>\n",
              "    </tr>\n",
              "    <tr>\n",
              "      <th>14</th>\n",
              "      <td>Как сообщили в региональном министерстве образования, в состязаниях примут участие спортсмены спортивных и туристских клубов, образовательных организаций области.</td>\n",
              "      <td>В состязании примут участие спортсмены различных организаций.</td>\n",
              "      <td>entailment</td>\n",
              "      <td>14</td>\n",
              "    </tr>\n",
              "    <tr>\n",
              "      <th>15</th>\n",
              "      <td>Предприниматели продолжают устанавливать незаконные постройки, однако власти города на примере Сенной площади уже доказали, что лучше не спорить и убрать свое добро самостоятельно.</td>\n",
              "      <td>Предприниматели иногда возводят строения незаконно.</td>\n",
              "      <td>entailment</td>\n",
              "      <td>15</td>\n",
              "    </tr>\n",
              "    <tr>\n",
              "      <th>17</th>\n",
              "      <td>\"\"\"Есть отдельное правило для \"\"Эха Москвы\"\", отдельное правило для \"\"Новой газеты\"\", отдельное правило для New Times (журнал The New Times - ИФ). Почему? Потому что маленькая аудитория\"\".\"</td>\n",
              "      <td>Маленькая аудитория - причина появления отдельных правил.</td>\n",
              "      <td>entailment</td>\n",
              "      <td>17</td>\n",
              "    </tr>\n",
              "  </tbody>\n",
              "</table>\n",
              "</div>"
            ],
            "text/plain": [
              "                                                                                                                                                                                                                                                                                                                                                                                                                                                                                                                                                                                                                               premise  ... idx\n",
              "0                                                                                                                                                                                                                                                                                                                                                                                                                                                                                                                                                                      Женщину доставили в больницу, за ее жизнь сейчас борются врачи.  ...   0\n",
              "3                                                                                                                                                                                                                                                                                                                                                                                                                                                                                                                                         Я просто об этом даже не думаю, потому что если кто-то что-то захочет, никуда не спрячешься.  ...   3\n",
              "5                                                                                                                                                                                                                                                                                                                                                                                                                                                                                                                                                                       Автор поста написал в комментарии, что прорвалась канализация.  ...   5\n",
              "6   \"В свою очередь Владимир Путин в ходе совещания сообщил, что необходимо понимать, с какими поставщиками работают предприятия, которые дают окончательную продукцию. \"\"Там десятки тысяч поставщиков, но нам нужно понимать, что это за поставщики, чтобы это были те предприятия, которые в состоянии решать соответствующие проблемы, чтобы нам была понятна их рентабельность, чтобы распределение прибыли было понятным и прозрачным\"\", - сказал премьер. По его словам, это необходимо, потому что когда неизвестны все схемы поставщиков, министерству обороны практически невозможно разобраться в конечной цене продукции.\"  ...   6\n",
              "8                                                                                                                                                                                                                                                                                                                                \"Возраст людей определить не смог. Их лица были закрыты капюшонами, - рассказал журналисту \"\"Комсомольской правды\"\"-Саратов один из автолюбителей, проезжавших на мосту. - Со стороны обоих городов образовалась пробка, так как прибывшие машины спасателей и полиции перегородили полосу движения.\"  ...   8\n",
              "9                                                                                                                                                                                                                                                                                                                                                                                                                                                                                                                  Родительских прав мать не лишена. Пока. А в парадном девочка оказалась, потому что дома она мешала матери выпивать.  ...   9\n",
              "12                                                                                                                                                                                                                                                                                                                                                                                                                                                           \"\"\"Несмотря на то, что в деле имеется инструкция охранников ХХС, они ничего не сделали, чтобы задержать девушек. А почему? А потому что не было никакого преступления\"\".\"  ...  12\n",
              "14                                                                                                                                                                                                                                                                                                                                                                                                                                                                  Как сообщили в региональном министерстве образования, в состязаниях примут участие спортсмены спортивных и туристских клубов, образовательных организаций области.  ...  14\n",
              "15                                                                                                                                                                                                                                                                                                                                                                                                                                                Предприниматели продолжают устанавливать незаконные постройки, однако власти города на примере Сенной площади уже доказали, что лучше не спорить и убрать свое добро самостоятельно.  ...  15\n",
              "17                                                                                                                                                                                                                                                                                                                                                                                                                                       \"\"\"Есть отдельное правило для \"\"Эха Москвы\"\", отдельное правило для \"\"Новой газеты\"\", отдельное правило для New Times (журнал The New Times - ИФ). Почему? Потому что маленькая аудитория\"\".\"  ...  17\n",
              "\n",
              "[10 rows x 4 columns]"
            ]
          },
          "metadata": {
            "tags": []
          },
          "execution_count": 20
        }
      ]
    },
    {
      "cell_type": "code",
      "metadata": {
        "id": "JwDD_3ERsotR"
      },
      "source": [
        "#ошибки\r\n",
        "df.iloc[[]]"
      ],
      "execution_count": null,
      "outputs": []
    },
    {
      "cell_type": "code",
      "metadata": {
        "id": "0GpmbugSs3nA"
      },
      "source": [
        "#странности\r\n",
        "df.iloc[[]]"
      ],
      "execution_count": null,
      "outputs": []
    },
    {
      "cell_type": "markdown",
      "metadata": {
        "id": "zC_KAI7zNSue"
      },
      "source": [
        "# Not entailment"
      ]
    },
    {
      "cell_type": "code",
      "metadata": {
        "id": "eD-K4mNHRZlC",
        "colab": {
          "base_uri": "https://localhost:8080/",
          "height": 293
        },
        "outputId": "4954f8ce-3b58-4f99-b4f3-45ea31956541"
      },
      "source": [
        "df_false = df[(df['label'] == \"not_entailment\")]\n",
        "df_false.head()"
      ],
      "execution_count": 22,
      "outputs": [
        {
          "output_type": "execute_result",
          "data": {
            "text/html": [
              "<div>\n",
              "<style scoped>\n",
              "    .dataframe tbody tr th:only-of-type {\n",
              "        vertical-align: middle;\n",
              "    }\n",
              "\n",
              "    .dataframe tbody tr th {\n",
              "        vertical-align: top;\n",
              "    }\n",
              "\n",
              "    .dataframe thead th {\n",
              "        text-align: right;\n",
              "    }\n",
              "</style>\n",
              "<table border=\"1\" class=\"dataframe\">\n",
              "  <thead>\n",
              "    <tr style=\"text-align: right;\">\n",
              "      <th></th>\n",
              "      <th>premise</th>\n",
              "      <th>hypothesis</th>\n",
              "      <th>label</th>\n",
              "      <th>idx</th>\n",
              "    </tr>\n",
              "  </thead>\n",
              "  <tbody>\n",
              "    <tr>\n",
              "      <th>1</th>\n",
              "      <td>Он проводит невидимую грань между настоящим и будущим. В эти минуты все мы подводим главные итоги года, вспоминаем самые важные события. В эти мгновения мы с волнением ждем добрых перемен.</td>\n",
              "      <td>В эти минуты все мы подводим друг друга.</td>\n",
              "      <td>not_entailment</td>\n",
              "      <td>1</td>\n",
              "    </tr>\n",
              "    <tr>\n",
              "      <th>2</th>\n",
              "      <td>Мужчина рассказал: детская коляска, принадлежащая его семье, пропала прямо из подъезда. Как выяснили полицейские, коляску украл сосед мужчины. Он был пьян, и ему нужны были деньги.</td>\n",
              "      <td>Сосед часто крадет детские коляски ради денег.</td>\n",
              "      <td>not_entailment</td>\n",
              "      <td>2</td>\n",
              "    </tr>\n",
              "    <tr>\n",
              "      <th>4</th>\n",
              "      <td>В ходе проверки нашли дома с наледью и сосульками на крышах. Информацию о них передали коммунальщикам. Во избежание несчастных случаев спасатели рекомендуют гражданам быть осторожней, а коммунальщикам – оперативней, при выходе из зданий советуют смотреть на крыши и, по возможности, обходить края зданий.</td>\n",
              "      <td>Все сосульки с крыш были сбиты.</td>\n",
              "      <td>not_entailment</td>\n",
              "      <td>4</td>\n",
              "    </tr>\n",
              "    <tr>\n",
              "      <th>7</th>\n",
              "      <td>Ходатайство о продлении заявила адвокат задержанной, отметив, что следствием не были предоставлены документы, характеризующие личность задержанной.</td>\n",
              "      <td>Адвокат задержанной отметила отличную работу следствия.</td>\n",
              "      <td>not_entailment</td>\n",
              "      <td>7</td>\n",
              "    </tr>\n",
              "    <tr>\n",
              "      <th>10</th>\n",
              "      <td>Музей, расположенный в Королевских воротах, меняет экспозицию. На смену выставке, рассказывающей об истории ворот и их реставрации, придет «Аптека трех королей». Как рассказали в музее, посетители попадут в традиционный интерьер аптеки.</td>\n",
              "      <td>Музей закроется навсегда.</td>\n",
              "      <td>not_entailment</td>\n",
              "      <td>10</td>\n",
              "    </tr>\n",
              "  </tbody>\n",
              "</table>\n",
              "</div>"
            ],
            "text/plain": [
              "                                                                                                                                                                                                                                                                                                             premise  ... idx\n",
              "1                                                                                                                       Он проводит невидимую грань между настоящим и будущим. В эти минуты все мы подводим главные итоги года, вспоминаем самые важные события. В эти мгновения мы с волнением ждем добрых перемен.  ...   1\n",
              "2                                                                                                                               Мужчина рассказал: детская коляска, принадлежащая его семье, пропала прямо из подъезда. Как выяснили полицейские, коляску украл сосед мужчины. Он был пьян, и ему нужны были деньги.  ...   2\n",
              "4   В ходе проверки нашли дома с наледью и сосульками на крышах. Информацию о них передали коммунальщикам. Во избежание несчастных случаев спасатели рекомендуют гражданам быть осторожней, а коммунальщикам – оперативней, при выходе из зданий советуют смотреть на крыши и, по возможности, обходить края зданий.  ...   4\n",
              "7                                                                                                                                                                Ходатайство о продлении заявила адвокат задержанной, отметив, что следствием не были предоставлены документы, характеризующие личность задержанной.  ...   7\n",
              "10                                                                      Музей, расположенный в Королевских воротах, меняет экспозицию. На смену выставке, рассказывающей об истории ворот и их реставрации, придет «Аптека трех королей». Как рассказали в музее, посетители попадут в традиционный интерьер аптеки.  ...  10\n",
              "\n",
              "[5 rows x 4 columns]"
            ]
          },
          "metadata": {
            "tags": []
          },
          "execution_count": 22
        }
      ]
    }
  ]
}