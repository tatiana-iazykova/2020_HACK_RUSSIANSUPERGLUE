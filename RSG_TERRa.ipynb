{
  "nbformat": 4,
  "nbformat_minor": 0,
  "metadata": {
    "colab": {
      "name": "RSG_TERRa",
      "provenance": [],
      "collapsed_sections": [
        "0OUUSCWcudle",
        "A4ZdyanPupV_",
        "ZxDAiS8Ox8Py",
        "c3x_pgvwNhjE",
        "HEn2LQjZvBMv",
        "zC_KAI7zNSue",
        "nqHLUciQahLl",
        "a_FvCFZX79UL"
      ],
      "include_colab_link": true
    },
    "kernelspec": {
      "name": "python3",
      "display_name": "Python 3"
    }
  },
  "cells": [
    {
      "cell_type": "markdown",
      "metadata": {
        "id": "view-in-github",
        "colab_type": "text"
      },
      "source": [
        "<a href=\"https://colab.research.google.com/github/tatiana-iazykova/2020_HACK_RUSSIANSUPERGLUE/blob/main/RSG_TERRa.ipynb\" target=\"_parent\"><img src=\"https://colab.research.google.com/assets/colab-badge.svg\" alt=\"Open In Colab\"/></a>"
      ]
    },
    {
      "cell_type": "markdown",
      "metadata": {
        "id": "0OUUSCWcudle"
      },
      "source": [
        "#Загрузка английского датасета для сравнения"
      ]
    },
    {
      "cell_type": "code",
      "metadata": {
        "id": "bjHb_yglPu4w",
        "colab": {
          "base_uri": "https://localhost:8080/"
        },
        "outputId": "80886214-1688-4cb4-eeb4-463f2cdb0d55"
      },
      "source": [
        "%%bash\n",
        "# change url if you want to work with a different RSG dataset\n",
        "wget -q --show-progress \"https://dl.fbaipublicfiles.com/glue/superglue/data/v2/RTE.zip\" -O temp.zip\n",
        "unzip temp.zip -d data\n",
        "\n",
        "# remove unnecessary directories and files\n",
        "rm temp.zip\n",
        "rm -r data/__MACOSX\n",
        "rm -r sample_data/"
      ],
      "execution_count": 1,
      "outputs": [
        {
          "output_type": "stream",
          "text": [
            "Archive:  temp.zip\n",
            "   creating: data/RTE/\n",
            "  inflating: data/RTE/train.jsonl    \n",
            "  inflating: data/RTE/test.jsonl     \n",
            "  inflating: data/RTE/val.jsonl      \n"
          ],
          "name": "stdout"
        },
        {
          "output_type": "stream",
          "text": [
            "\n",
            "     0K .......... .......... .......... .......... ..........  6% 1023K 1s\n",
            "    50K .......... .......... .......... .......... .......... 13% 5.85M 0s\n",
            "   100K .......... .......... .......... .......... .......... 20% 3.06M 0s\n",
            "   150K .......... .......... .......... .......... .......... 27% 25.9M 0s\n",
            "   200K .......... .......... .......... .......... .......... 34% 2.29M 0s\n",
            "   250K .......... .......... .......... .......... .......... 40% 32.3M 0s\n",
            "   300K .......... .......... .......... .......... .......... 47% 31.3M 0s\n",
            "   350K .......... .......... .......... .......... .......... 54% 17.9M 0s\n",
            "   400K .......... .......... .......... .......... .......... 61% 48.1M 0s\n",
            "   450K .......... .......... .......... .......... .......... 68% 2.91M 0s\n",
            "   500K .......... .......... .......... .......... .......... 75% 62.5M 0s\n",
            "   550K .......... .......... .......... .......... .......... 81% 57.2M 0s\n",
            "   600K .......... .......... .......... .......... .......... 88%  240M 0s\n",
            "   650K .......... .......... .......... .......... .......... 95% 92.2M 0s\n",
            "   700K .......... .......... .......... ...                  100% 52.8M=0.1srm: cannot remove 'data/__MACOSX': No such file or directory\n"
          ],
          "name": "stderr"
        }
      ]
    },
    {
      "cell_type": "markdown",
      "metadata": {
        "id": "A4ZdyanPupV_"
      },
      "source": [
        "# Загрузка русскоязычного датасета"
      ]
    },
    {
      "cell_type": "code",
      "metadata": {
        "id": "RsL57-5kTLgJ",
        "colab": {
          "base_uri": "https://localhost:8080/"
        },
        "outputId": "5f0f4ea8-90ea-4e7b-a3be-7912273deb4b"
      },
      "source": [
        "%%bash\n",
        "# change url if you want to work with a different RSG dataset\n",
        "wget -q --show-progress \"https://russiansuperglue.com/tasks/download/TERRa\" -O temp.zip\n",
        "unzip temp.zip -d data\n",
        "\n",
        "# remove unnecessary directories and files\n",
        "rm temp.zip\n",
        "rm -r data/__MACOSX\n",
        "rm -r sample_data/"
      ],
      "execution_count": 2,
      "outputs": [
        {
          "output_type": "stream",
          "text": [
            "Archive:  temp.zip\n",
            "   creating: data/TERRa/\n",
            "  inflating: data/TERRa/train.jsonl  \n",
            "   creating: data/__MACOSX/\n",
            "   creating: data/__MACOSX/TERRa/\n",
            "  inflating: data/__MACOSX/TERRa/._train.jsonl  \n",
            "  inflating: data/TERRa/.DS_Store    \n",
            "  inflating: data/__MACOSX/TERRa/._.DS_Store  \n",
            "  inflating: data/TERRa/test.jsonl   \n",
            "  inflating: data/__MACOSX/TERRa/._test.jsonl  \n",
            "  inflating: data/TERRa/val.jsonl    \n",
            "  inflating: data/__MACOSX/TERRa/._val.jsonl  \n",
            "  inflating: data/__MACOSX/._TERRa   \n"
          ],
          "name": "stdout"
        },
        {
          "output_type": "stream",
          "text": [
            "\n",
            "     0K .......... .......... .......... .......... ..........  5%  272K 3s\n",
            "    50K .......... .......... .......... .......... .......... 11%  272K 3s\n",
            "   100K .......... .......... .......... .......... .......... 16% 84.6M 2s\n",
            "   150K .......... .......... .......... .......... .......... 22%  273K 2s\n",
            "   200K .......... .......... .......... .......... .......... 28% 84.5M 1s\n",
            "   250K .......... .......... .......... .......... .......... 33% 72.2M 1s\n",
            "   300K .......... .......... .......... .......... .......... 39% 88.4M 1s\n",
            "   350K .......... .......... .......... .......... .......... 45%  275K 1s\n",
            "   400K .......... .......... .......... .......... .......... 50% 82.6M 1s\n",
            "   450K .......... .......... .......... .......... .......... 56% 73.2M 1s\n",
            "   500K .......... .......... .......... .......... .......... 62% 88.5M 0s\n",
            "   550K .......... .......... .......... .......... .......... 67% 82.2M 0s\n",
            "   600K .......... .......... .......... .......... .......... 73% 87.1M 0s\n",
            "   650K .......... .......... .......... .......... .......... 78% 83.9M 0s\n",
            "   700K .......... .......... .......... .......... .......... 84%  278K 0s\n",
            "   750K .......... .......... .......... .......... .......... 90% 71.4M 0s\n",
            "   800K .......... .......... .......... .......... .......... 95% 86.0M 0s\n",
            "   850K .......... .......... .......... ......               100% 95.2M=0.9srm: cannot remove 'sample_data/': No such file or directory\n"
          ],
          "name": "stderr"
        }
      ]
    },
    {
      "cell_type": "markdown",
      "metadata": {
        "id": "uD4auz_Nt9qR"
      },
      "source": [
        "Fancy way to display content of the dataset directory"
      ]
    },
    {
      "cell_type": "code",
      "metadata": {
        "id": "Wh_Pi5TXfVBI",
        "colab": {
          "base_uri": "https://localhost:8080/"
        },
        "outputId": "7903ab38-8f86-4713-b914-10c0ee7d07d4"
      },
      "source": [
        "%%bash\n",
        "# add tree package for fancy directory display\n",
        "apt-get install tree"
      ],
      "execution_count": 3,
      "outputs": [
        {
          "output_type": "stream",
          "text": [
            "Reading package lists...\n",
            "Building dependency tree...\n",
            "Reading state information...\n",
            "The following NEW packages will be installed:\n",
            "  tree\n",
            "0 upgraded, 1 newly installed, 0 to remove and 17 not upgraded.\n",
            "Need to get 40.7 kB of archives.\n",
            "After this operation, 105 kB of additional disk space will be used.\n",
            "Get:1 http://archive.ubuntu.com/ubuntu bionic/universe amd64 tree amd64 1.7.0-5 [40.7 kB]\n",
            "Fetched 40.7 kB in 1s (63.7 kB/s)\n",
            "Selecting previously unselected package tree.\r\n",
            "(Reading database ... \r(Reading database ... 5%\r(Reading database ... 10%\r(Reading database ... 15%\r(Reading database ... 20%\r(Reading database ... 25%\r(Reading database ... 30%\r(Reading database ... 35%\r(Reading database ... 40%\r(Reading database ... 45%\r(Reading database ... 50%\r(Reading database ... 55%\r(Reading database ... 60%\r(Reading database ... 65%\r(Reading database ... 70%\r(Reading database ... 75%\r(Reading database ... 80%\r(Reading database ... 85%\r(Reading database ... 90%\r(Reading database ... 95%\r(Reading database ... 100%\r(Reading database ... 146425 files and directories currently installed.)\r\n",
            "Preparing to unpack .../tree_1.7.0-5_amd64.deb ...\r\n",
            "Unpacking tree (1.7.0-5) ...\r\n",
            "Setting up tree (1.7.0-5) ...\r\n",
            "Processing triggers for man-db (2.8.3-2ubuntu0.1) ...\r\n"
          ],
          "name": "stdout"
        }
      ]
    },
    {
      "cell_type": "code",
      "metadata": {
        "colab": {
          "base_uri": "https://localhost:8080/"
        },
        "id": "87zEZXR_xzmF",
        "outputId": "9cd3fe19-de89-4230-97de-7536fed7729b"
      },
      "source": [
        "# display the content of the folder\n",
        "!tree"
      ],
      "execution_count": 4,
      "outputs": [
        {
          "output_type": "stream",
          "text": [
            ".\n",
            "└── data\n",
            "    ├── RTE\n",
            "    │   ├── test.jsonl\n",
            "    │   ├── train.jsonl\n",
            "    │   └── val.jsonl\n",
            "    └── TERRa\n",
            "        ├── test.jsonl\n",
            "        ├── train.jsonl\n",
            "        └── val.jsonl\n",
            "\n",
            "3 directories, 6 files\n"
          ],
          "name": "stdout"
        }
      ]
    },
    {
      "cell_type": "markdown",
      "metadata": {
        "id": "ZxDAiS8Ox8Py"
      },
      "source": [
        "# Загрузка в pandas"
      ]
    },
    {
      "cell_type": "code",
      "metadata": {
        "id": "C0cqhlXaXbwj"
      },
      "source": [
        "import pandas as pd\n",
        "pd.set_option('display.max_colwidth', 1000)\n",
        "\n",
        "class JSONL_handler():\n",
        "    \"\"\" opens a jsonl file and turns it into a necessary data structure \"\"\"\n",
        "    \n",
        "    def __init__(self, path):\n",
        "        self.path = path # path to jsonl file\n",
        "\n",
        "    def to_pandas(self):\n",
        "        \"\"\" get jsonl file content as a pandas DataFrame\"\"\"\n",
        "        return pd.read_json(path_or_buf=self.path, lines=True)"
      ],
      "execution_count": 5,
      "outputs": []
    },
    {
      "cell_type": "code",
      "metadata": {
        "id": "_NRSjltfYcjT"
      },
      "source": [
        "handler = JSONL_handler('data/TERRa/train.jsonl')\n",
        "df = handler.to_pandas()"
      ],
      "execution_count": 6,
      "outputs": []
    },
    {
      "cell_type": "code",
      "metadata": {
        "id": "GTguSJEc1Ans"
      },
      "source": [
        "handler_val = JSONL_handler('data/TERRa/val.jsonl')\r\n",
        "df1 = handler_val.to_pandas()"
      ],
      "execution_count": 7,
      "outputs": []
    },
    {
      "cell_type": "code",
      "metadata": {
        "id": "yWGRRno7P5QS"
      },
      "source": [
        "handler_en = JSONL_handler('data/RTE/train.jsonl')\n",
        "df_en = handler_en.to_pandas()"
      ],
      "execution_count": 8,
      "outputs": []
    },
    {
      "cell_type": "markdown",
      "metadata": {
        "id": "c3x_pgvwNhjE"
      },
      "source": [
        "# Общая информация про train"
      ]
    },
    {
      "cell_type": "code",
      "metadata": {
        "id": "Q43c4vJZsN6v",
        "colab": {
          "base_uri": "https://localhost:8080/",
          "height": 265
        },
        "outputId": "4d3b9beb-9b2b-4cd7-f9f1-a7e5759201e3"
      },
      "source": [
        "import matplotlib.pyplot as plt\n",
        "plt.title('Label distribution in TERRa', fontsize=14)\n",
        "plt.pie(df['label'].value_counts(), autopct=\"%.1f%%\", explode=[0.05]*2, labels=df['label'].value_counts().keys(), pctdistance=0.5, textprops = dict(fontsize = 12))\n",
        "plt.show()"
      ],
      "execution_count": 10,
      "outputs": [
        {
          "output_type": "display_data",
          "data": {
            "image/png": "[encoded data removed]",
            "text/plain": [
              "<Figure size 432x288 with 1 Axes>"
            ]
          },
          "metadata": {
            "tags": []
          }
        }
      ]
    },
    {
      "cell_type": "code",
      "metadata": {
        "id": "rj9wTgqyzWIB",
        "colab": {
          "base_uri": "https://localhost:8080/",
          "height": 265
        },
        "outputId": "961717e3-bac1-40a0-f4c9-9260bccafd9d"
      },
      "source": [
        "plt.title('Label distribution in TERRa-val', fontsize=14)\r\n",
        "plt.pie(df1['label'].value_counts(), autopct=\"%.1f%%\", explode=[0.05]*2, labels=df1['label'].value_counts().keys(), pctdistance=0.5, textprops = dict(fontsize = 12))\r\n",
        "plt.show()"
      ],
      "execution_count": null,
      "outputs": [
        {
          "output_type": "display_data",
          "data": {
            "image/png": "[encoded data removed]",
            "text/plain": [
              "<Figure size 432x288 with 1 Axes>"
            ]
          },
          "metadata": {
            "tags": []
          }
        }
      ]
    },
    {
      "cell_type": "code",
      "metadata": {
        "colab": {
          "base_uri": "https://localhost:8080/"
        },
        "id": "vACfnT5Jpgbl",
        "outputId": "05ab3a68-e697-4c07-ebff-c3414c3f8f77"
      },
      "source": [
        "df['label'].value_counts()"
      ],
      "execution_count": null,
      "outputs": [
        {
          "output_type": "execute_result",
          "data": {
            "text/plain": [
              "entailment        1359\n",
              "not_entailment    1257\n",
              "Name: label, dtype: int64"
            ]
          },
          "metadata": {
            "tags": []
          },
          "execution_count": 11
        }
      ]
    },
    {
      "cell_type": "code",
      "metadata": {
        "colab": {
          "base_uri": "https://localhost:8080/"
        },
        "id": "Bpko3iriQAff",
        "outputId": "319a1e73-70d1-45f6-af03-4541ecfa46ac"
      },
      "source": [
        "df_en['label'].value_counts()"
      ],
      "execution_count": null,
      "outputs": [
        {
          "output_type": "execute_result",
          "data": {
            "text/plain": [
              "entailment        1249\n",
              "not_entailment    1241\n",
              "Name: label, dtype: int64"
            ]
          },
          "metadata": {
            "tags": []
          },
          "execution_count": 12
        }
      ]
    },
    {
      "cell_type": "code",
      "metadata": {
        "colab": {
          "base_uri": "https://localhost:8080/",
          "height": 620
        },
        "id": "MKuxdjKoUBVg",
        "outputId": "55026918-41d8-4207-fb52-31ef52409084"
      },
      "source": [
        "plt.title('Relative label distribution in TERRa\\n and corresponding SG dataset', fontsize=14)\n",
        "plt.hist(x = [df['label'], df_en['label']], color=[\"#9ddadc\", \"#e99aee\"], label=['RSG','SG'], rwidth = 50) \n",
        "plt.legend(loc='best')\n",
        "plt.show()\n",
        "print()\n",
        "\n",
        "plt.subplot(1,2,1)\n",
        "colours = {'#9ddca6', '#f0afb6', '#eeb87c'}\n",
        "\n",
        "plt.title('Label distribution\\n in SG\\n', fontsize=14)\n",
        "plt.pie(df_en['label'].value_counts(), autopct=\"%.1f%%\", explode=[0.05]*2, labels=df_en['label'].value_counts().keys(), pctdistance=0.5, textprops = dict(fontsize = 12), colors=colours)\n",
        "\n",
        "plt.subplot(1,2,2)\n",
        "\n",
        "plt.title('Label distribution\\n in RSG\\n', fontsize=14)\n",
        "plt.pie(df['label'].value_counts(), autopct=\"%.1f%%\", explode=[0.05]*2, labels=df['label'].value_counts().keys(), pctdistance=0.5, textprops = dict(fontsize = 12), colors=colours)\n",
        "\n",
        "plt.tight_layout()\n",
        "plt.show()"
      ],
      "execution_count": null,
      "outputs": [
        {
          "output_type": "stream",
          "text": [
            "/usr/local/lib/python3.6/dist-packages/numpy/core/_asarray.py:83: VisibleDeprecationWarning: Creating an ndarray from ragged nested sequences (which is a list-or-tuple of lists-or-tuples-or ndarrays with different lengths or shapes) is deprecated. If you meant to do this, you must specify 'dtype=object' when creating the ndarray\n",
            "  return array(a, dtype, copy=False, order=order)\n"
          ],
          "name": "stderr"
        },
        {
          "output_type": "display_data",
          "data": {
            "image/png": "[encoded data removed]",
            "text/plain": [
              "<Figure size 432x288 with 1 Axes>"
            ]
          },
          "metadata": {
            "tags": [],
            "needs_background": "light"
          }
        },
        {
          "output_type": "stream",
          "text": [
            "\n"
          ],
          "name": "stdout"
        },
        {
          "output_type": "display_data",
          "data": {
            "image/png": "[encoded data removed]",
            "text/plain": [
              "<Figure size 432x288 with 2 Axes>"
            ]
          },
          "metadata": {
            "tags": []
          }
        }
      ]
    },
    {
      "cell_type": "code",
      "metadata": {
        "colab": {
          "base_uri": "https://localhost:8080/",
          "height": 297
        },
        "id": "FhDQGaMYevW_",
        "outputId": "37134361-ec49-4c5e-beb6-07b6b47e4d41"
      },
      "source": [
        "import seaborn as sns\r\n",
        "new_d = pd.DataFrame({'hypothesis': df.hypothesis, 'lab': df.label})\r\n",
        "cnt = []\r\n",
        "for i in range(len(new_d)):\r\n",
        "  cnt.append(len(new_d['hypothesis'][i].split()))\r\n",
        "new_d['l'] = cnt\r\n",
        "_ = sns.boxplot(x='labels', y= 'l', data=new_d)\r\n",
        "_ = plt.title('Relation between label and words in hypothesis', fontsize=14)\r\n",
        "plt.show()"
      ],
      "execution_count": null,
      "outputs": [
        {
          "output_type": "display_data",
          "data": {
            "image/png": "[encoded data removed]",
            "text/plain": [
              "<Figure size 432x288 with 1 Axes>"
            ]
          },
          "metadata": {
            "tags": [],
            "needs_background": "light"
          }
        }
      ]
    },
    {
      "cell_type": "code",
      "metadata": {
        "colab": {
          "base_uri": "https://localhost:8080/"
        },
        "id": "tFMZftAKfQSQ",
        "outputId": "7c9e719f-c00e-40da-869c-52cc3677d68c"
      },
      "source": [
        "print(\"entailment hypothesis mean words:\", new_d[(new_d['lab']=='entailment')].mean())\r\n",
        "print(\"not entailment hypothesis mean words:\", new_d[(new_d['lab']!='entailment')].mean())"
      ],
      "execution_count": null,
      "outputs": [
        {
          "output_type": "stream",
          "text": [
            "entailment hypothesis mean words: l    6.086093\n",
            "dtype: float64\n",
            "not entailment hypothesis mean words: l    5.888624\n",
            "dtype: float64\n"
          ],
          "name": "stdout"
        }
      ]
    },
    {
      "cell_type": "code",
      "metadata": {
        "colab": {
          "base_uri": "https://localhost:8080/",
          "height": 297
        },
        "id": "53MOLBL7ex-N",
        "outputId": "80e9af3d-5cfb-4975-9316-2dd8e9083c44"
      },
      "source": [
        "import seaborn as sns\r\n",
        "new_p = pd.DataFrame({'premise': df.premise, 'lab': df.label})\r\n",
        "cnt = []\r\n",
        "for i in range(len(new_p)):\r\n",
        "  cnt.append(len(new_p['premise'][i].split()))\r\n",
        "new_p['l'] = cnt\r\n",
        "\r\n",
        "_ = sns.boxplot(x='lab', y= 'l', data=new_p)\r\n",
        "_ = plt.xlabel(\"Labels\")\r\n",
        "_ = plt.ylabel(\"Number of words\")\r\n",
        "_ = plt.title('Relation between label and number of words in premise', fontsize=14)\r\n",
        "plt.savefig('terra_heuristic')\r\n",
        "plt.show()"
      ],
      "execution_count": 26,
      "outputs": [
        {
          "output_type": "display_data",
          "data": {
            "image/png": "[encoded data removed]",
            "text/plain": [
              "<Figure size 432x288 with 1 Axes>"
            ]
          },
          "metadata": {
            "tags": [],
            "needs_background": "light"
          }
        }
      ]
    },
    {
      "cell_type": "code",
      "metadata": {
        "colab": {
          "base_uri": "https://localhost:8080/"
        },
        "id": "hx_mPHFygGM1",
        "outputId": "d40df06c-5f41-4ea0-ff49-13815329ee08"
      },
      "source": [
        "print(\"entailment premise median words:\", new_p[(new_p['lab']=='entailment')].median())\r\n",
        "print(\"not entailment premise median words:\", new_p[(new_p['lab']!='entailment')].median())"
      ],
      "execution_count": null,
      "outputs": [
        {
          "output_type": "stream",
          "text": [
            "entailment premise median words: l    32.0\n",
            "dtype: float64\n",
            "not entailment premise median words: l    29.0\n",
            "dtype: float64\n"
          ],
          "name": "stdout"
        }
      ]
    },
    {
      "cell_type": "code",
      "metadata": {
        "colab": {
          "base_uri": "https://localhost:8080/",
          "height": 258
        },
        "id": "RRkFQZkPdBVa",
        "outputId": "bc18c4da-60b8-4d0a-9254-92b3e3d6f03b"
      },
      "source": [
        "df.head()"
      ],
      "execution_count": null,
      "outputs": [
        {
          "output_type": "execute_result",
          "data": {
            "text/html": [
              "<div>\n",
              "<style scoped>\n",
              "    .dataframe tbody tr th:only-of-type {\n",
              "        vertical-align: middle;\n",
              "    }\n",
              "\n",
              "    .dataframe tbody tr th {\n",
              "        vertical-align: top;\n",
              "    }\n",
              "\n",
              "    .dataframe thead th {\n",
              "        text-align: right;\n",
              "    }\n",
              "</style>\n",
              "<table border=\"1\" class=\"dataframe\">\n",
              "  <thead>\n",
              "    <tr style=\"text-align: right;\">\n",
              "      <th></th>\n",
              "      <th>premise</th>\n",
              "      <th>hypothesis</th>\n",
              "      <th>label</th>\n",
              "      <th>idx</th>\n",
              "    </tr>\n",
              "  </thead>\n",
              "  <tbody>\n",
              "    <tr>\n",
              "      <th>0</th>\n",
              "      <td>Женщину доставили в больницу, за ее жизнь сейчас борются врачи.</td>\n",
              "      <td>Женщину спасают врачи.</td>\n",
              "      <td>entailment</td>\n",
              "      <td>0</td>\n",
              "    </tr>\n",
              "    <tr>\n",
              "      <th>1</th>\n",
              "      <td>Он проводит невидимую грань между настоящим и будущим. В эти минуты все мы подводим главные итоги года, вспоминаем самые важные события. В эти мгновения мы с волнением ждем добрых перемен.</td>\n",
              "      <td>В эти минуты все мы подводим друг друга.</td>\n",
              "      <td>not_entailment</td>\n",
              "      <td>1</td>\n",
              "    </tr>\n",
              "    <tr>\n",
              "      <th>2</th>\n",
              "      <td>Мужчина рассказал: детская коляска, принадлежащая его семье, пропала прямо из подъезда. Как выяснили полицейские, коляску украл сосед мужчины. Он был пьян, и ему нужны были деньги.</td>\n",
              "      <td>Сосед часто крадет детские коляски ради денег.</td>\n",
              "      <td>not_entailment</td>\n",
              "      <td>2</td>\n",
              "    </tr>\n",
              "    <tr>\n",
              "      <th>3</th>\n",
              "      <td>Я просто об этом даже не думаю, потому что если кто-то что-то захочет, никуда не спрячешься.</td>\n",
              "      <td>Спрятаться не удастся.</td>\n",
              "      <td>entailment</td>\n",
              "      <td>3</td>\n",
              "    </tr>\n",
              "    <tr>\n",
              "      <th>4</th>\n",
              "      <td>В ходе проверки нашли дома с наледью и сосульками на крышах. Информацию о них передали коммунальщикам. Во избежание несчастных случаев спасатели рекомендуют гражданам быть осторожней, а коммунальщикам – оперативней, при выходе из зданий советуют смотреть на крыши и, по возможности, обходить края зданий.</td>\n",
              "      <td>Все сосульки с крыш были сбиты.</td>\n",
              "      <td>not_entailment</td>\n",
              "      <td>4</td>\n",
              "    </tr>\n",
              "  </tbody>\n",
              "</table>\n",
              "</div>"
            ],
            "text/plain": [
              "                                                                                                                                                                                                                                                                                                            premise  ... idx\n",
              "0                                                                                                                                                                                                                                                   Женщину доставили в больницу, за ее жизнь сейчас борются врачи.  ...   0\n",
              "1                                                                                                                      Он проводит невидимую грань между настоящим и будущим. В эти минуты все мы подводим главные итоги года, вспоминаем самые важные события. В эти мгновения мы с волнением ждем добрых перемен.  ...   1\n",
              "2                                                                                                                              Мужчина рассказал: детская коляска, принадлежащая его семье, пропала прямо из подъезда. Как выяснили полицейские, коляску украл сосед мужчины. Он был пьян, и ему нужны были деньги.  ...   2\n",
              "3                                                                                                                                                                                                                      Я просто об этом даже не думаю, потому что если кто-то что-то захочет, никуда не спрячешься.  ...   3\n",
              "4  В ходе проверки нашли дома с наледью и сосульками на крышах. Информацию о них передали коммунальщикам. Во избежание несчастных случаев спасатели рекомендуют гражданам быть осторожней, а коммунальщикам – оперативней, при выходе из зданий советуют смотреть на крыши и, по возможности, обходить края зданий.  ...   4\n",
              "\n",
              "[5 rows x 4 columns]"
            ]
          },
          "metadata": {
            "tags": []
          },
          "execution_count": 18
        }
      ]
    },
    {
      "cell_type": "markdown",
      "metadata": {
        "id": "HEn2LQjZvBMv"
      },
      "source": [
        "# Entailment (ошибки и странности разметки)"
      ]
    },
    {
      "cell_type": "code",
      "metadata": {
        "colab": {
          "base_uri": "https://localhost:8080/",
          "height": 641
        },
        "id": "sD5Xw3QYvKi6",
        "outputId": "faa657dc-3fbb-4530-a004-b8eb28132853"
      },
      "source": [
        "df_true = df[(df['label'] == \"entailment\")]\n",
        "df_true.reset_index\n",
        "df_true.iloc[70:80]"
      ],
      "execution_count": null,
      "outputs": [
        {
          "output_type": "execute_result",
          "data": {
            "text/html": [
              "<div>\n",
              "<style scoped>\n",
              "    .dataframe tbody tr th:only-of-type {\n",
              "        vertical-align: middle;\n",
              "    }\n",
              "\n",
              "    .dataframe tbody tr th {\n",
              "        vertical-align: top;\n",
              "    }\n",
              "\n",
              "    .dataframe thead th {\n",
              "        text-align: right;\n",
              "    }\n",
              "</style>\n",
              "<table border=\"1\" class=\"dataframe\">\n",
              "  <thead>\n",
              "    <tr style=\"text-align: right;\">\n",
              "      <th></th>\n",
              "      <th>premise</th>\n",
              "      <th>hypothesis</th>\n",
              "      <th>label</th>\n",
              "      <th>idx</th>\n",
              "    </tr>\n",
              "  </thead>\n",
              "  <tbody>\n",
              "    <tr>\n",
              "      <th>141</th>\n",
              "      <td>Из них по семи были вынесены обвинительные заключение, а по одному принято решение о мерах медицинского воздействия. Ни по одному из дел не было вынесено оправдательного приговора. Благодаря слаженной работе силовиков не было зарегистрировано ни одной экстремистской акции или провокации, которые могли бы дестабилизировать общественно-политическую ситуацию или сорвать выборные компании.</td>\n",
              "      <td>Работа силовиков была согласованной.</td>\n",
              "      <td>entailment</td>\n",
              "      <td>141</td>\n",
              "    </tr>\n",
              "    <tr>\n",
              "      <th>142</th>\n",
              "      <td>Фотографии процесса демонтажа уже появились в социальных сетях, и, комментируя их, горожане спрашивают: что же будет построено на этом месте?</td>\n",
              "      <td>Предыдущее строение на этом месте демонтируют.</td>\n",
              "      <td>entailment</td>\n",
              "      <td>142</td>\n",
              "    </tr>\n",
              "    <tr>\n",
              "      <th>143</th>\n",
              "      <td>\"Эти средства выделены в рамках \"\"программы экстренного предоставления ликвидности\"\" (emergency liquidity assistance, ELA), которая ранее стала спасением для финансовой системы Ирландии и теперь оказалась еще более важной для Греции. Полный контроль над ELA осуществляет европейский Центробанк (ЕЦБ), что дает ему полномочия решать судьбы государств, пишет FT. ЕЦБ очень неохотно предоставляет информацию о средствах, выделенных из ELA, не сообщая, кому и когда выдаются кредиты. \"\"Вы не станете говорить лишнего в экстренной ситуации, поскольку это может привести к ухудшению ситуации.\"</td>\n",
              "      <td>Европейский Центробанк контролирует программу экстренного предоставления ликвидности.</td>\n",
              "      <td>entailment</td>\n",
              "      <td>143</td>\n",
              "    </tr>\n",
              "    <tr>\n",
              "      <th>144</th>\n",
              "      <td>Молодого человека, который явно только-только употребил наркотическое вещество, обнаружили в подъезде одного из домов.</td>\n",
              "      <td>Молодой человек, употребивший наркотик, был обнаружен в подъезде одного из домов.</td>\n",
              "      <td>entailment</td>\n",
              "      <td>144</td>\n",
              "    </tr>\n",
              "    <tr>\n",
              "      <th>147</th>\n",
              "      <td>\"\"\"Если эти документы там есть, то, скорее всего, для передачи в Арбитражый суд Тюменской области эти документы будут изыматься. Либо они, либо копии будут заверяться прямо на месте в офисе\"\", - уточнил он. \"\"Компания злоупотребляет нашими правами, потому что несколько раз пристав выносил постановление, обязывающее компанию предоставить документы, но компания не реагировала на них никаким образом\"\".\"</td>\n",
              "      <td>Несколько раз пристав обязывал компанию предоставить документы.</td>\n",
              "      <td>entailment</td>\n",
              "      <td>147</td>\n",
              "    </tr>\n",
              "    <tr>\n",
              "      <th>154</th>\n",
              "      <td>Деканат в восторге, студенты в восторге. Но вдруг им сообщили, что это нельзя. Потому что они с охраной не вовремя согласовали.</td>\n",
              "      <td>Охрана была не в восторге.</td>\n",
              "      <td>entailment</td>\n",
              "      <td>154</td>\n",
              "    </tr>\n",
              "    <tr>\n",
              "      <th>156</th>\n",
              "      <td>\"В ходе встречи с участниками акции прокурор разъяснил им причины, по которым было отказано в проведении митинга. \"\"Когда они пришли подавать заявление, то не указали в нем ответственного за порядок, время проведения акции и численность участников, поэтому им было отказано. Никого из пришедших на площадь привлекать к ответственности не будут, так как собрались всего несколько человек, так что можно сказать, что никакой акции протеста и не было\"\", - подчеркнул он.\"</td>\n",
              "      <td>Прокурор согласился встретиться с участниками.</td>\n",
              "      <td>entailment</td>\n",
              "      <td>156</td>\n",
              "    </tr>\n",
              "    <tr>\n",
              "      <th>157</th>\n",
              "      <td>В одном из СМИ появилась история о восьмилетней школьнице, корторую в мороз 30 января выставил из салона маршрутного автобуса водитель. Причина в том, что у девочки в качестве оплаты был электронный проездной, вот только у водителя не оказалось с собой валидатора. Поскольку наличных денег у малышки не было, ее и попросили покинуть салон.</td>\n",
              "      <td>СМИ рассказывают о школьнице, которую бессердечный водитель выставил из автобуса на мороз.</td>\n",
              "      <td>entailment</td>\n",
              "      <td>157</td>\n",
              "    </tr>\n",
              "    <tr>\n",
              "      <th>160</th>\n",
              "      <td>Пока под документом оставили свои подписи около 200 человек. В комментариях люди выражают свое несогласие с происходящим. - Я подписываю, потому что многие семьи действительно нуждаются в этих выплатах.</td>\n",
              "      <td>Люди подписываются под документом.</td>\n",
              "      <td>entailment</td>\n",
              "      <td>160</td>\n",
              "    </tr>\n",
              "    <tr>\n",
              "      <th>161</th>\n",
              "      <td>\"\"\"Я осознанно шел играть по чужим правилам. Я не считаю их (выборы - ИФ) честными, но принял этот вызов\"\", - сказал Прохоров в прямом эфире на Первом канале в воскресенье. Он подчеркнул, что пошел на выборы, потому что посчитал важным довести свои взгляды и консолидировать вместе миллионы образованных и честных людей.\"</td>\n",
              "      <td>Прохоров сказал, что не считает выборы честными.</td>\n",
              "      <td>entailment</td>\n",
              "      <td>161</td>\n",
              "    </tr>\n",
              "  </tbody>\n",
              "</table>\n",
              "</div>"
            ],
            "text/plain": [
              "                                                                                                                                                                                                                                                                                                                                                                                                                                                                                                                                                                                                         premise  ...  idx\n",
              "141                                                                                                                                                                                                         Из них по семи были вынесены обвинительные заключение, а по одному принято решение о мерах медицинского воздействия. Ни по одному из дел не было вынесено оправдательного приговора. Благодаря слаженной работе силовиков не было зарегистрировано ни одной экстремистской акции или провокации, которые могли бы дестабилизировать общественно-политическую ситуацию или сорвать выборные компании.  ...  141\n",
              "142                                                                                                                                                                                                                                                                                                                                                                                                                                                                Фотографии процесса демонтажа уже появились в социальных сетях, и, комментируя их, горожане спрашивают: что же будет построено на этом месте?  ...  142\n",
              "143  \"Эти средства выделены в рамках \"\"программы экстренного предоставления ликвидности\"\" (emergency liquidity assistance, ELA), которая ранее стала спасением для финансовой системы Ирландии и теперь оказалась еще более важной для Греции. Полный контроль над ELA осуществляет европейский Центробанк (ЕЦБ), что дает ему полномочия решать судьбы государств, пишет FT. ЕЦБ очень неохотно предоставляет информацию о средствах, выделенных из ELA, не сообщая, кому и когда выдаются кредиты. \"\"Вы не станете говорить лишнего в экстренной ситуации, поскольку это может привести к ухудшению ситуации.\"  ...  143\n",
              "144                                                                                                                                                                                                                                                                                                                                                                                                                                                                                       Молодого человека, который явно только-только употребил наркотическое вещество, обнаружили в подъезде одного из домов.  ...  144\n",
              "147                                                                                                                                                                                          \"\"\"Если эти документы там есть, то, скорее всего, для передачи в Арбитражый суд Тюменской области эти документы будут изыматься. Либо они, либо копии будут заверяться прямо на месте в офисе\"\", - уточнил он. \"\"Компания злоупотребляет нашими правами, потому что несколько раз пристав выносил постановление, обязывающее компанию предоставить документы, но компания не реагировала на них никаким образом\"\".\"  ...  147\n",
              "154                                                                                                                                                                                                                                                                                                                                                                                                                                                                              Деканат в восторге, студенты в восторге. Но вдруг им сообщили, что это нельзя. Потому что они с охраной не вовремя согласовали.  ...  154\n",
              "156                                                                                                                         \"В ходе встречи с участниками акции прокурор разъяснил им причины, по которым было отказано в проведении митинга. \"\"Когда они пришли подавать заявление, то не указали в нем ответственного за порядок, время проведения акции и численность участников, поэтому им было отказано. Никого из пришедших на площадь привлекать к ответственности не будут, так как собрались всего несколько человек, так что можно сказать, что никакой акции протеста и не было\"\", - подчеркнул он.\"  ...  156\n",
              "157                                                                                                                                                                                                                                                          В одном из СМИ появилась история о восьмилетней школьнице, корторую в мороз 30 января выставил из салона маршрутного автобуса водитель. Причина в том, что у девочки в качестве оплаты был электронный проездной, вот только у водителя не оказалось с собой валидатора. Поскольку наличных денег у малышки не было, ее и попросили покинуть салон.  ...  157\n",
              "160                                                                                                                                                                                                                                                                                                                                                                                                   Пока под документом оставили свои подписи около 200 человек. В комментариях люди выражают свое несогласие с происходящим. - Я подписываю, потому что многие семьи действительно нуждаются в этих выплатах.  ...  160\n",
              "161                                                                                                                                                                                                                                                                            \"\"\"Я осознанно шел играть по чужим правилам. Я не считаю их (выборы - ИФ) честными, но принял этот вызов\"\", - сказал Прохоров в прямом эфире на Первом канале в воскресенье. Он подчеркнул, что пошел на выборы, потому что посчитал важным довести свои взгляды и консолидировать вместе миллионы образованных и честных людей.\"  ...  161\n",
              "\n",
              "[10 rows x 4 columns]"
            ]
          },
          "metadata": {
            "tags": []
          },
          "execution_count": 19
        }
      ]
    },
    {
      "cell_type": "code",
      "metadata": {
        "id": "JwDD_3ERsotR",
        "colab": {
          "base_uri": "https://localhost:8080/",
          "height": 227
        },
        "outputId": "97413412-163b-44a5-b75b-9ea304f59f49"
      },
      "source": [
        "#ошибки\r\n",
        "df.iloc[[91, 102, 108, 123]]"
      ],
      "execution_count": null,
      "outputs": [
        {
          "output_type": "execute_result",
          "data": {
            "text/html": [
              "<div>\n",
              "<style scoped>\n",
              "    .dataframe tbody tr th:only-of-type {\n",
              "        vertical-align: middle;\n",
              "    }\n",
              "\n",
              "    .dataframe tbody tr th {\n",
              "        vertical-align: top;\n",
              "    }\n",
              "\n",
              "    .dataframe thead th {\n",
              "        text-align: right;\n",
              "    }\n",
              "</style>\n",
              "<table border=\"1\" class=\"dataframe\">\n",
              "  <thead>\n",
              "    <tr style=\"text-align: right;\">\n",
              "      <th></th>\n",
              "      <th>premise</th>\n",
              "      <th>hypothesis</th>\n",
              "      <th>label</th>\n",
              "      <th>idx</th>\n",
              "    </tr>\n",
              "  </thead>\n",
              "  <tbody>\n",
              "    <tr>\n",
              "      <th>91</th>\n",
              "      <td>Магазин, который горит, находится вблизи жилого района, жители которого эвакуированы, ни один человек не пострадал. Дым от пожара распространился к морю. Женщина, которая живет рядом с местом пожара, рассказывает, что ее дом, который является украшением города, вероятно, также горит.</td>\n",
              "      <td>Неподалеку от моря горит магазин.</td>\n",
              "      <td>entailment</td>\n",
              "      <td>91</td>\n",
              "    </tr>\n",
              "    <tr>\n",
              "      <th>102</th>\n",
              "      <td>\"\"\"Система аккредитации - это ключевой инструмент допуска на рынок. Мы сейчас готовим закон об аккредитации, который весной хотим внести в Госдуму\"\", - сказала она. \"\"Этот закон очень важен, потому что он будет предусматривать переход на международные стандарты аккредитации\"\", - сказала она.\"</td>\n",
              "      <td>Она ждет весну.</td>\n",
              "      <td>entailment</td>\n",
              "      <td>102</td>\n",
              "    </tr>\n",
              "    <tr>\n",
              "      <th>108</th>\n",
              "      <td>Как считают силовики, руководитель на протяжении трех месяцев не платил своим сотрудникам зарплату, различные пособия и иные выплаты, которые причитаются гражданам согласно закону.</td>\n",
              "      <td>Силовики предполагают, что сотрудники не получили от руководителя положенных выплат.</td>\n",
              "      <td>entailment</td>\n",
              "      <td>108</td>\n",
              "    </tr>\n",
              "    <tr>\n",
              "      <th>123</th>\n",
              "      <td>У троих участников драки диагностированы различные травмы. Что интересно, в полиции все они заявили, что претензий друг к другу не имеют.</td>\n",
              "      <td>Участники драки остались довольны друг другом.</td>\n",
              "      <td>entailment</td>\n",
              "      <td>123</td>\n",
              "    </tr>\n",
              "  </tbody>\n",
              "</table>\n",
              "</div>"
            ],
            "text/plain": [
              "                                                                                                                                                                                                                                                                                                   premise  ...  idx\n",
              "91            Магазин, который горит, находится вблизи жилого района, жители которого эвакуированы, ни один человек не пострадал. Дым от пожара распространился к морю. Женщина, которая живет рядом с местом пожара, рассказывает, что ее дом, который является украшением города, вероятно, также горит.  ...   91\n",
              "102  \"\"\"Система аккредитации - это ключевой инструмент допуска на рынок. Мы сейчас готовим закон об аккредитации, который весной хотим внести в Госдуму\"\", - сказала она. \"\"Этот закон очень важен, потому что он будет предусматривать переход на международные стандарты аккредитации\"\", - сказала она.\"  ...  102\n",
              "108                                                                                                                   Как считают силовики, руководитель на протяжении трех месяцев не платил своим сотрудникам зарплату, различные пособия и иные выплаты, которые причитаются гражданам согласно закону.  ...  108\n",
              "123                                                                                                                                                              У троих участников драки диагностированы различные травмы. Что интересно, в полиции все они заявили, что претензий друг к другу не имеют.  ...  123\n",
              "\n",
              "[4 rows x 4 columns]"
            ]
          },
          "metadata": {
            "tags": []
          },
          "execution_count": 20
        }
      ]
    },
    {
      "cell_type": "code",
      "metadata": {
        "id": "0GpmbugSs3nA",
        "colab": {
          "base_uri": "https://localhost:8080/",
          "height": 359
        },
        "outputId": "29a1f061-6274-43d1-93c3-a778946ffdac"
      },
      "source": [
        "#странности\r\n",
        "df.iloc[[48, 54, 61, 69, 75, 113]]"
      ],
      "execution_count": null,
      "outputs": [
        {
          "output_type": "execute_result",
          "data": {
            "text/html": [
              "<div>\n",
              "<style scoped>\n",
              "    .dataframe tbody tr th:only-of-type {\n",
              "        vertical-align: middle;\n",
              "    }\n",
              "\n",
              "    .dataframe tbody tr th {\n",
              "        vertical-align: top;\n",
              "    }\n",
              "\n",
              "    .dataframe thead th {\n",
              "        text-align: right;\n",
              "    }\n",
              "</style>\n",
              "<table border=\"1\" class=\"dataframe\">\n",
              "  <thead>\n",
              "    <tr style=\"text-align: right;\">\n",
              "      <th></th>\n",
              "      <th>premise</th>\n",
              "      <th>hypothesis</th>\n",
              "      <th>label</th>\n",
              "      <th>idx</th>\n",
              "    </tr>\n",
              "  </thead>\n",
              "  <tbody>\n",
              "    <tr>\n",
              "      <th>48</th>\n",
              "      <td>Там горожане могут купить хвойные деревья и лапник, пишет пресс-служба администрации.</td>\n",
              "      <td>В пресс-службе администрации планируют, что горожане будут покупать там хвойные деревья и лапник.</td>\n",
              "      <td>entailment</td>\n",
              "      <td>48</td>\n",
              "    </tr>\n",
              "    <tr>\n",
              "      <th>54</th>\n",
              "      <td>\"Но в принципе, считаю, нам неизбежно придется когда-то отказываться и от некоторых из проинвестированных проектов. Потому что особенно по высокотехнологичным проектам рано или поздно может возникать очень коварная менеджерская альтернатива. Все понимают, что проект \"\"не пошел\"\", но поскольку в него уже вложены средства, очень страшно назвать кошку - кошкой.\"</td>\n",
              "      <td>\"От \"\"мертвого\"\" проекта трудно отказаться, когда в него уже вложены деньги.\"</td>\n",
              "      <td>entailment</td>\n",
              "      <td>54</td>\n",
              "    </tr>\n",
              "    <tr>\n",
              "      <th>61</th>\n",
              "      <td>В суде установили, что у ООО «Бежицкие маршрутные такси» есть лицензия и два договора с администрацией на перевозку пассажиров по маршруту «улица Молокова – Бордовичский водозабор», - говорится на сайте арбитражного суда Брянской области.</td>\n",
              "      <td>ООО «Бежицкие маршрутные такси» действует в Брянской области.</td>\n",
              "      <td>entailment</td>\n",
              "      <td>61</td>\n",
              "    </tr>\n",
              "    <tr>\n",
              "      <th>69</th>\n",
              "      <td>Свои поступки женщина объяснила тем, что муж бросил бы ее, если бы она родила ему много детей. К 2006 г. в семье уже росли два ребенка. Личность осужденной сохранена в тайне, поскольку разглашение этой информации противоречит немецкой системе правосудия.</td>\n",
              "      <td>Муж не любил много детей.</td>\n",
              "      <td>entailment</td>\n",
              "      <td>69</td>\n",
              "    </tr>\n",
              "    <tr>\n",
              "      <th>75</th>\n",
              "      <td>Ежедневно в плотины поступает всё больше и больше воды, что не может не радовать.</td>\n",
              "      <td>Вчера в плотины поступало не так много воды, как сегодня.</td>\n",
              "      <td>entailment</td>\n",
              "      <td>75</td>\n",
              "    </tr>\n",
              "    <tr>\n",
              "      <th>113</th>\n",
              "      <td>\"\"\"Жизнь\"\" дороги зависит от работы тех, кто ее строит.\"</td>\n",
              "      <td>\"Работа строителей дороги влияет на ее \"\"жизнь\"\"..\"</td>\n",
              "      <td>entailment</td>\n",
              "      <td>113</td>\n",
              "    </tr>\n",
              "  </tbody>\n",
              "</table>\n",
              "</div>"
            ],
            "text/plain": [
              "                                                                                                                                                                                                                                                                                                                                                                       premise  ...  idx\n",
              "48                                                                                                                                                                                                                                                                                       Там горожане могут купить хвойные деревья и лапник, пишет пресс-служба администрации.  ...   48\n",
              "54   \"Но в принципе, считаю, нам неизбежно придется когда-то отказываться и от некоторых из проинвестированных проектов. Потому что особенно по высокотехнологичным проектам рано или поздно может возникать очень коварная менеджерская альтернатива. Все понимают, что проект \"\"не пошел\"\", но поскольку в него уже вложены средства, очень страшно назвать кошку - кошкой.\"  ...   54\n",
              "61                                                                                                                              В суде установили, что у ООО «Бежицкие маршрутные такси» есть лицензия и два договора с администрацией на перевозку пассажиров по маршруту «улица Молокова – Бордовичский водозабор», - говорится на сайте арбитражного суда Брянской области.  ...   61\n",
              "69                                                                                                              Свои поступки женщина объяснила тем, что муж бросил бы ее, если бы она родила ему много детей. К 2006 г. в семье уже росли два ребенка. Личность осужденной сохранена в тайне, поскольку разглашение этой информации противоречит немецкой системе правосудия.  ...   69\n",
              "75                                                                                                                                                                                                                                                                                           Ежедневно в плотины поступает всё больше и больше воды, что не может не радовать.  ...   75\n",
              "113                                                                                                                                                                                                                                                                                                                   \"\"\"Жизнь\"\" дороги зависит от работы тех, кто ее строит.\"  ...  113\n",
              "\n",
              "[6 rows x 4 columns]"
            ]
          },
          "metadata": {
            "tags": []
          },
          "execution_count": 21
        }
      ]
    },
    {
      "cell_type": "markdown",
      "metadata": {
        "id": "zC_KAI7zNSue"
      },
      "source": [
        "# Not entailment"
      ]
    },
    {
      "cell_type": "code",
      "metadata": {
        "id": "eD-K4mNHRZlC",
        "colab": {
          "base_uri": "https://localhost:8080/",
          "height": 537
        },
        "outputId": "f1ad0938-d12b-4fc4-c9ca-83feaff8fcc2"
      },
      "source": [
        "df_false = df[(df['label'] == \"not_entailment\")]\n",
        "df_false.reset_index\n",
        "df_false.iloc[30:40]"
      ],
      "execution_count": null,
      "outputs": [
        {
          "output_type": "execute_result",
          "data": {
            "text/html": [
              "<div>\n",
              "<style scoped>\n",
              "    .dataframe tbody tr th:only-of-type {\n",
              "        vertical-align: middle;\n",
              "    }\n",
              "\n",
              "    .dataframe tbody tr th {\n",
              "        vertical-align: top;\n",
              "    }\n",
              "\n",
              "    .dataframe thead th {\n",
              "        text-align: right;\n",
              "    }\n",
              "</style>\n",
              "<table border=\"1\" class=\"dataframe\">\n",
              "  <thead>\n",
              "    <tr style=\"text-align: right;\">\n",
              "      <th></th>\n",
              "      <th>premise</th>\n",
              "      <th>hypothesis</th>\n",
              "      <th>label</th>\n",
              "      <th>idx</th>\n",
              "    </tr>\n",
              "  </thead>\n",
              "  <tbody>\n",
              "    <tr>\n",
              "      <th>62</th>\n",
              "      <td>Таким образом, он решил отомстить фермеру, за то, что стал фигурантом уголовного дела, украв у него козу.</td>\n",
              "      <td>На него завели административное дело.</td>\n",
              "      <td>not_entailment</td>\n",
              "      <td>62</td>\n",
              "    </tr>\n",
              "    <tr>\n",
              "      <th>67</th>\n",
              "      <td>Автоматическая тормозная система реагирует соответствующим образом к аварийным ситуациям и управляет даже тормозами. Эта техника спасла жизни многих людей. Если бы системы не было на грузовике, жертв было бы больше.</td>\n",
              "      <td>Благодаря этой системе, обходится без жертв.</td>\n",
              "      <td>not_entailment</td>\n",
              "      <td>67</td>\n",
              "    </tr>\n",
              "    <tr>\n",
              "      <th>70</th>\n",
              "      <td>О случившемся она заявила в полицию. Когда супруг вернулся из командировки и обо всем узнал, то принял решение с женой расстаться. Официально они не развелись, но живут отдельно.</td>\n",
              "      <td>Супруги живут вместе.</td>\n",
              "      <td>not_entailment</td>\n",
              "      <td>70</td>\n",
              "    </tr>\n",
              "    <tr>\n",
              "      <th>71</th>\n",
              "      <td>Новый пассажир оказался участковым уполномоченным. Опытным взглядом полицейский осмотрел соседей по салону и в двух женских лицах уловил знакомые черты. Он видел их раньше — в ориентировке на розыск, женщин подозревали в совершении карманных краж.</td>\n",
              "      <td>Участковый узнал всех в салоне.</td>\n",
              "      <td>not_entailment</td>\n",
              "      <td>71</td>\n",
              "    </tr>\n",
              "    <tr>\n",
              "      <th>72</th>\n",
              "      <td>\"Быстро через пустяковый, прореженный собравшимися коридор между полицейским кордоном и многотысячной людской пробкой, заканчивающейся у самой сцены, шел Илья Найшуллер, режиссер и музыкант, лидер группы Biting Elbows. Он, как и большинство встреченных мною, был и на Болотной площади - тогда точно также фотографировал митингующих, а после активно призывал прийти в Facebook - \"\"всех, кто готов был меня слушать\"\". \"\"Потому что что-то не так, это очевидно\"\".\"</td>\n",
              "      <td>Илья Найшуллер был и на Красной площади.</td>\n",
              "      <td>not_entailment</td>\n",
              "      <td>72</td>\n",
              "    </tr>\n",
              "    <tr>\n",
              "      <th>73</th>\n",
              "      <td>Пассажиры жалуются на то, что отсутствуют последние рейсы, в салонах грязь и холод, водители курят, не покидая салона, и проезжают мимо остановок, экипажи не помогают инвалидам попасть в салон.</td>\n",
              "      <td>Пассажиры хвалят последние рейсы.</td>\n",
              "      <td>not_entailment</td>\n",
              "      <td>73</td>\n",
              "    </tr>\n",
              "    <tr>\n",
              "      <th>78</th>\n",
              "      <td>182 УК РФ (незаконное использование сведений, составляющих коммерческую тайну, без согласия их владельца лицом, которому она стала известна по работе, совершенное из корыстной заинтересованности). Ровно год - с марта 2015 г. по март 2016 г. обвиняемая, работница банка, имела доступ к полной базе данных лиц, которые когда-либо туда обращались.</td>\n",
              "      <td>Обвиняемая хотела устроиться на работу в банк.</td>\n",
              "      <td>not_entailment</td>\n",
              "      <td>78</td>\n",
              "    </tr>\n",
              "    <tr>\n",
              "      <th>79</th>\n",
              "      <td>После этого Цискаридзе обратился в полицию, которая незамедлительно прибыла на место. В ходе осмотра было установлено, что в отсутствие хозяина в его квартиру никто из посторонних не входил. Эксперты изъяли замки с обеих дверей для исследования, однако точно установить, была ли попытка взлома, скорее всего, не удастся, так как личинка внутренней двери полностью разрушена слесарем.</td>\n",
              "      <td>Квартиру Цискаридзе не пытались взломать.</td>\n",
              "      <td>not_entailment</td>\n",
              "      <td>79</td>\n",
              "    </tr>\n",
              "    <tr>\n",
              "      <th>81</th>\n",
              "      <td>Фотографии процесса демонтажа уже появились в социальных сетях, и, комментируя их, горожане спрашивают: что же будет построено на этом месте?</td>\n",
              "      <td>Горожане игнорируют фото демонтажа в соцсетях.</td>\n",
              "      <td>not_entailment</td>\n",
              "      <td>81</td>\n",
              "    </tr>\n",
              "    <tr>\n",
              "      <th>83</th>\n",
              "      <td>Отдавать их он не спешил. Да и имущества за предпринимателем официально никакого не числится – гол, как сокол, взыскать вроде как нечего. При этом петербуржец является генеральным директором страховой компании и организации, которая занимается добычей и обогащением железных руд.</td>\n",
              "      <td>Предприниматель гол, как сокол.</td>\n",
              "      <td>not_entailment</td>\n",
              "      <td>83</td>\n",
              "    </tr>\n",
              "  </tbody>\n",
              "</table>\n",
              "</div>"
            ],
            "text/plain": [
              "                                                                                                                                                                                                                                                                                                                                                                                                                                                                         premise  ... idx\n",
              "62                                                                                                                                                                                                                                                                                                                                                                     Таким образом, он решил отомстить фермеру, за то, что стал фигурантом уголовного дела, украв у него козу.  ...  62\n",
              "67                                                                                                                                                                                                                                                       Автоматическая тормозная система реагирует соответствующим образом к аварийным ситуациям и управляет даже тормозами. Эта техника спасла жизни многих людей. Если бы системы не было на грузовике, жертв было бы больше.  ...  67\n",
              "70                                                                                                                                                                                                                                                                                            О случившемся она заявила в полицию. Когда супруг вернулся из командировки и обо всем узнал, то принял решение с женой расстаться. Официально они не развелись, но живут отдельно.  ...  70\n",
              "71                                                                                                                                                                                                                       Новый пассажир оказался участковым уполномоченным. Опытным взглядом полицейский осмотрел соседей по салону и в двух женских лицах уловил знакомые черты. Он видел их раньше — в ориентировке на розыск, женщин подозревали в совершении карманных краж.  ...  71\n",
              "72  \"Быстро через пустяковый, прореженный собравшимися коридор между полицейским кордоном и многотысячной людской пробкой, заканчивающейся у самой сцены, шел Илья Найшуллер, режиссер и музыкант, лидер группы Biting Elbows. Он, как и большинство встреченных мною, был и на Болотной площади - тогда точно также фотографировал митингующих, а после активно призывал прийти в Facebook - \"\"всех, кто готов был меня слушать\"\". \"\"Потому что что-то не так, это очевидно\"\".\"  ...  72\n",
              "73                                                                                                                                                                                                                                                                             Пассажиры жалуются на то, что отсутствуют последние рейсы, в салонах грязь и холод, водители курят, не покидая салона, и проезжают мимо остановок, экипажи не помогают инвалидам попасть в салон.  ...  73\n",
              "78                                                                                                                      182 УК РФ (незаконное использование сведений, составляющих коммерческую тайну, без согласия их владельца лицом, которому она стала известна по работе, совершенное из корыстной заинтересованности). Ровно год - с марта 2015 г. по март 2016 г. обвиняемая, работница банка, имела доступ к полной базе данных лиц, которые когда-либо туда обращались.  ...  78\n",
              "79                                                                               После этого Цискаридзе обратился в полицию, которая незамедлительно прибыла на место. В ходе осмотра было установлено, что в отсутствие хозяина в его квартиру никто из посторонних не входил. Эксперты изъяли замки с обеих дверей для исследования, однако точно установить, была ли попытка взлома, скорее всего, не удастся, так как личинка внутренней двери полностью разрушена слесарем.  ...  79\n",
              "81                                                                                                                                                                                                                                                                                                                                 Фотографии процесса демонтажа уже появились в социальных сетях, и, комментируя их, горожане спрашивают: что же будет построено на этом месте?  ...  81\n",
              "83                                                                                                                                                                                       Отдавать их он не спешил. Да и имущества за предпринимателем официально никакого не числится – гол, как сокол, взыскать вроде как нечего. При этом петербуржец является генеральным директором страховой компании и организации, которая занимается добычей и обогащением железных руд.  ...  83\n",
              "\n",
              "[10 rows x 4 columns]"
            ]
          },
          "metadata": {
            "tags": []
          },
          "execution_count": 25
        }
      ]
    },
    {
      "cell_type": "code",
      "metadata": {
        "colab": {
          "base_uri": "https://localhost:8080/",
          "height": 182
        },
        "id": "K-QowQ4Fr11Y",
        "outputId": "46d9d89d-20c1-458e-ff14-316da750f0c5"
      },
      "source": [
        "#ошибки\r\n",
        "df.iloc[[47, 83]]"
      ],
      "execution_count": null,
      "outputs": [
        {
          "output_type": "execute_result",
          "data": {
            "text/html": [
              "<div>\n",
              "<style scoped>\n",
              "    .dataframe tbody tr th:only-of-type {\n",
              "        vertical-align: middle;\n",
              "    }\n",
              "\n",
              "    .dataframe tbody tr th {\n",
              "        vertical-align: top;\n",
              "    }\n",
              "\n",
              "    .dataframe thead th {\n",
              "        text-align: right;\n",
              "    }\n",
              "</style>\n",
              "<table border=\"1\" class=\"dataframe\">\n",
              "  <thead>\n",
              "    <tr style=\"text-align: right;\">\n",
              "      <th></th>\n",
              "      <th>premise</th>\n",
              "      <th>hypothesis</th>\n",
              "      <th>label</th>\n",
              "      <th>idx</th>\n",
              "    </tr>\n",
              "  </thead>\n",
              "  <tbody>\n",
              "    <tr>\n",
              "      <th>47</th>\n",
              "      <td>Они поделились опытом работы своих первичных отделений, выказали предложения по усовершенствованию нормативно-правовой базы во всех сферах, задали вопросы руководителям министерств, ведомств, модераторам площадок. Я уверен, что они после съезда обязательно поделятся со своими коллегами своими впечатлениями от услышанного здесь. Сегодня на площадке, где я был - «Качество государства», как раз говорили про те требования, которые касаются совершенствования нашего законодательства на региональном и федеральном уровнях.</td>\n",
              "      <td>Они после съезда обязательно поделятся со своими коллегами своими впечатлениями от услышанного здесь.</td>\n",
              "      <td>not_entailment</td>\n",
              "      <td>47</td>\n",
              "    </tr>\n",
              "    <tr>\n",
              "      <th>83</th>\n",
              "      <td>Отдавать их он не спешил. Да и имущества за предпринимателем официально никакого не числится – гол, как сокол, взыскать вроде как нечего. При этом петербуржец является генеральным директором страховой компании и организации, которая занимается добычей и обогащением железных руд.</td>\n",
              "      <td>Предприниматель гол, как сокол.</td>\n",
              "      <td>not_entailment</td>\n",
              "      <td>83</td>\n",
              "    </tr>\n",
              "  </tbody>\n",
              "</table>\n",
              "</div>"
            ],
            "text/plain": [
              "                                                                                                                                                                                                                                                                                                                                                                                                                                                                                                                                     premise  ... idx\n",
              "47  Они поделились опытом работы своих первичных отделений, выказали предложения по усовершенствованию нормативно-правовой базы во всех сферах, задали вопросы руководителям министерств, ведомств, модераторам площадок. Я уверен, что они после съезда обязательно поделятся со своими коллегами своими впечатлениями от услышанного здесь. Сегодня на площадке, где я был - «Качество государства», как раз говорили про те требования, которые касаются совершенствования нашего законодательства на региональном и федеральном уровнях.  ...  47\n",
              "83                                                                                                                                                                                                                                                   Отдавать их он не спешил. Да и имущества за предпринимателем официально никакого не числится – гол, как сокол, взыскать вроде как нечего. При этом петербуржец является генеральным директором страховой компании и организации, которая занимается добычей и обогащением железных руд.  ...  83\n",
              "\n",
              "[2 rows x 4 columns]"
            ]
          },
          "metadata": {
            "tags": []
          },
          "execution_count": 117
        }
      ]
    },
    {
      "cell_type": "code",
      "metadata": {
        "colab": {
          "base_uri": "https://localhost:8080/",
          "height": 178
        },
        "id": "iJKUQapcr2IN",
        "outputId": "68d2352b-88c6-4f62-e4c0-f382f63b7702"
      },
      "source": [
        "#странности\r\n",
        "df.iloc[[11, 16, 42]]"
      ],
      "execution_count": null,
      "outputs": [
        {
          "output_type": "execute_result",
          "data": {
            "text/html": [
              "<div>\n",
              "<style scoped>\n",
              "    .dataframe tbody tr th:only-of-type {\n",
              "        vertical-align: middle;\n",
              "    }\n",
              "\n",
              "    .dataframe tbody tr th {\n",
              "        vertical-align: top;\n",
              "    }\n",
              "\n",
              "    .dataframe thead th {\n",
              "        text-align: right;\n",
              "    }\n",
              "</style>\n",
              "<table border=\"1\" class=\"dataframe\">\n",
              "  <thead>\n",
              "    <tr style=\"text-align: right;\">\n",
              "      <th></th>\n",
              "      <th>premise</th>\n",
              "      <th>hypothesis</th>\n",
              "      <th>label</th>\n",
              "      <th>idx</th>\n",
              "    </tr>\n",
              "  </thead>\n",
              "  <tbody>\n",
              "    <tr>\n",
              "      <th>11</th>\n",
              "      <td>27 декабря в полицию обратилась жительница Димитровграда, которая сообщила, что стала жертвой мошенников. Она рассказала полицейским, что ей позвонил якобы сотрудник банка. Он сообщил, что, поскольку женщина является их постоянным клиентом, ей положена компенсация.</td>\n",
              "      <td>Сотрудник банка пообещал женщине компенсацию.</td>\n",
              "      <td>not_entailment</td>\n",
              "      <td>11</td>\n",
              "    </tr>\n",
              "    <tr>\n",
              "      <th>16</th>\n",
              "      <td>\"\"\"Законопроект, безусловно, полезный и крайне своевременный, поскольку блокировать следует не только порнографические сайты, но и ресурсы экстремистской направленности\"\".\"</td>\n",
              "      <td>Блокировать следует и сайты, и ресурсы.</td>\n",
              "      <td>not_entailment</td>\n",
              "      <td>16</td>\n",
              "    </tr>\n",
              "    <tr>\n",
              "      <th>42</th>\n",
              "      <td>Исследователи отмечают, что такое развитие ситуации может во много раз увеличить в море содержание ртути.</td>\n",
              "      <td>В море будет больше ртути.</td>\n",
              "      <td>not_entailment</td>\n",
              "      <td>42</td>\n",
              "    </tr>\n",
              "  </tbody>\n",
              "</table>\n",
              "</div>"
            ],
            "text/plain": [
              "                                                                                                                                                                                                                                                                      premise  ... idx\n",
              "11  27 декабря в полицию обратилась жительница Димитровграда, которая сообщила, что стала жертвой мошенников. Она рассказала полицейским, что ей позвонил якобы сотрудник банка. Он сообщил, что, поскольку женщина является их постоянным клиентом, ей положена компенсация.  ...  11\n",
              "16                                                                                               \"\"\"Законопроект, безусловно, полезный и крайне своевременный, поскольку блокировать следует не только порнографические сайты, но и ресурсы экстремистской направленности\"\".\"  ...  16\n",
              "42                                                                                                                                                                  Исследователи отмечают, что такое развитие ситуации может во много раз увеличить в море содержание ртути.  ...  42\n",
              "\n",
              "[3 rows x 4 columns]"
            ]
          },
          "metadata": {
            "tags": []
          },
          "execution_count": 23
        }
      ]
    },
    {
      "cell_type": "markdown",
      "metadata": {
        "id": "N96tsYGkaQrE"
      },
      "source": [
        "# Heuristic results"
      ]
    },
    {
      "cell_type": "code",
      "metadata": {
        "id": "xclk2PQARoVk"
      },
      "source": [
        "!wget -q --show-progress \"https://raw.githubusercontent.com/tatiana-iazykova/2020_HACK_RUSSIANSUPERGLUE/main/base.py\" -O base.py"
      ],
      "execution_count": null,
      "outputs": []
    },
    {
      "cell_type": "code",
      "metadata": {
        "id": "C_Qdy77Jae1u"
      },
      "source": [
        "%%capture\r\n",
        "!pip install pymorphy2[fast]  \r\n",
        "\r\n",
        "from base import BaseSolver\r\n",
        "import pymorphy2\r\n",
        "import re\r\n",
        "from pymorphy2 import MorphAnalyzer\r\n",
        "import nltk\r\n",
        "from functools import lru_cache\r\n",
        "\r\n",
        "m = MorphAnalyzer()"
      ],
      "execution_count": 21,
      "outputs": []
    },
    {
      "cell_type": "code",
      "metadata": {
        "id": "XrDqDUi9ah91"
      },
      "source": [
        "class TERRaSolver(BaseSolver):\r\n",
        "   \r\n",
        "    def __init__(self, path: str, path_valid=None):\r\n",
        "        super(TERRaSolver, self).__init__(path, path_valid)\r\n",
        "   \r\n",
        "    def preprocess(self, columns):\r\n",
        "      for column in columns:\r\n",
        "        self.train[f\"{column}_lemmas\"] = self.train[column].apply(self.clean_text)\r\n",
        "        self.valid[f\"{column}_lemmas\"] = self.valid[column].apply(self.clean_text)\r\n",
        " \r\n",
        "    def words_only(self, text):\r\n",
        "      rg = re.compile(\"[А-Яа-яA-z]+\")\r\n",
        "      try:\r\n",
        "        return rg.findall(text.lower())\r\n",
        "      except:\r\n",
        "        return []\r\n",
        "\r\n",
        "    @lru_cache(maxsize=128)\r\n",
        "    def lemmatize_word(self, token, pymorphy=m):\r\n",
        "      return pymorphy.parse(token)[0].normal_form\r\n",
        "\r\n",
        "    def lemmatize_text(self, text):\r\n",
        "      return [self.lemmatize_word(w) for w in text]\r\n",
        "\r\n",
        "    def clean_text(self, text):\r\n",
        "      tokens = self.words_only(text)\r\n",
        "      lemmas = self.lemmatize_text(tokens)  \r\n",
        "      return lemmas\r\n",
        "    \r\n",
        "    def heruistics_all(self, final_desicion=None):\r\n",
        "        c = 0\r\n",
        "        y_true = self.valid.label\r\n",
        "        y_pred = []\r\n",
        "        self.preprocess(columns=['premise', \"hypothesis\"])\r\n",
        "\r\n",
        "        for i, row in self.valid.iterrows():\r\n",
        "          \r\n",
        "          hyp = row.hypothesis.lower()\r\n",
        "          hyp_lem = set(row['hypothesis_lemmas'])\r\n",
        "          prem_lem = set(row['premise_lemmas'])\r\n",
        "          indic_non_ent = set(['только', 'мужчина'])\r\n",
        "\r\n",
        "          if hyp in row['premise'].lower():\r\n",
        "             y_pred.append('entailment')\r\n",
        "             c += 1\r\n",
        "          elif len(prem_lem & hyp_lem)/len(hyp_lem) <= 1/3 or len(row['premise'].split()) < 29 or len(indic_non_ent & hyp_lem) > 0:\r\n",
        "            y_pred.append('not_entailment')\r\n",
        "            c += 1\r\n",
        "          elif len(prem_lem & hyp_lem)/len(hyp_lem) == 0.75 or len(prem_lem & hyp_lem)/len(hyp_lem) == 1 or len(prem_lem & hyp_lem)/len(hyp_lem) == 2/3:\r\n",
        "            y_pred.append('entailment')\r\n",
        "            c += 1\r\n",
        "          elif len(row['premise'].split()) > 32:\r\n",
        "            y_pred.append('entailment')\r\n",
        "            c += 1\r\n",
        "          else:\r\n",
        "            y_pred.append(final_desicion(test_size=1)[0])\r\n",
        "        self.show_report(y_true, y_pred)\r\n",
        "        print(c, len(self.valid))"
      ],
      "execution_count": null,
      "outputs": []
    },
    {
      "cell_type": "code",
      "metadata": {
        "id": "wwB9Q9FxbLvQ",
        "colab": {
          "base_uri": "https://localhost:8080/"
        },
        "outputId": "fda8deaf-da35-487d-fcd5-888dd2fd8ffb"
      },
      "source": [
        "solver = TERRaSolver(path='data/TERRa/train.jsonl',\r\n",
        "                     path_valid='data/TERRa/val.jsonl')\r\n",
        "solver.heruistics_all(final_desicion=solver.majority_class)"
      ],
      "execution_count": null,
      "outputs": [
        {
          "output_type": "stream",
          "text": [
            "                precision    recall  f1-score   support\n",
            "\n",
            "    entailment       0.60      0.56      0.58       153\n",
            "not_entailment       0.59      0.64      0.61       154\n",
            "\n",
            "      accuracy                           0.60       307\n",
            "     macro avg       0.60      0.60      0.60       307\n",
            "  weighted avg       0.60      0.60      0.60       307\n",
            "\n",
            "297 307\n"
          ],
          "name": "stdout"
        }
      ]
    },
    {
      "cell_type": "code",
      "metadata": {
        "id": "BFjHS0l4bQQp",
        "colab": {
          "base_uri": "https://localhost:8080/"
        },
        "outputId": "546e28d7-ef44-42e1-ec8f-e9dbcb5bf472"
      },
      "source": [
        "solver = TERRaSolver(path='data/TERRa/train.jsonl',\r\n",
        "                     path_valid='data/TERRa/val.jsonl')\r\n",
        "solver.heruistics_all(final_desicion=solver.random_choice)"
      ],
      "execution_count": null,
      "outputs": [
        {
          "output_type": "stream",
          "text": [
            "                precision    recall  f1-score   support\n",
            "\n",
            "    entailment       0.62      0.55      0.58       153\n",
            "not_entailment       0.60      0.67      0.63       154\n",
            "\n",
            "      accuracy                           0.61       307\n",
            "     macro avg       0.61      0.61      0.61       307\n",
            "  weighted avg       0.61      0.61      0.61       307\n",
            "\n",
            "297 307\n"
          ],
          "name": "stdout"
        }
      ]
    },
    {
      "cell_type": "code",
      "metadata": {
        "id": "oyWAv4CmbS2R",
        "colab": {
          "base_uri": "https://localhost:8080/"
        },
        "outputId": "7f23e2b3-fa20-4918-e773-e819a5374885"
      },
      "source": [
        "solver = TERRaSolver(path='data/TERRa/train.jsonl',\r\n",
        "                     path_valid='data/TERRa/val.jsonl')\r\n",
        "solver.heruistics_all(final_desicion=solver.random_balanced_choice)"
      ],
      "execution_count": null,
      "outputs": [
        {
          "output_type": "stream",
          "text": [
            "                precision    recall  f1-score   support\n",
            "\n",
            "    entailment       0.60      0.56      0.58       153\n",
            "not_entailment       0.59      0.64      0.61       154\n",
            "\n",
            "      accuracy                           0.60       307\n",
            "     macro avg       0.60      0.60      0.60       307\n",
            "  weighted avg       0.60      0.60      0.60       307\n",
            "\n",
            "296 307\n"
          ],
          "name": "stdout"
        }
      ]
    },
    {
      "cell_type": "markdown",
      "metadata": {
        "id": "nqHLUciQahLl"
      },
      "source": [
        "# Step-by-step reproduction with the help of the OG code"
      ]
    },
    {
      "cell_type": "code",
      "metadata": {
        "id": "cH9ICVtFafml",
        "colab": {
          "base_uri": "https://localhost:8080/"
        },
        "outputId": "e64bd80c-f5d0-4874-a625-41a37a8eb103"
      },
      "source": [
        "%%bash\r\n",
        "wget -q --show-progress \"https://russiansuperglue.com/tasks/tf_idf\" -O temp.zip\r\n",
        "unzip temp.zip -d data\r\n",
        "rm temp.zip"
      ],
      "execution_count": null,
      "outputs": [
        {
          "output_type": "stream",
          "text": [
            "Archive:  temp.zip\n",
            "  inflating: data/tfidf.pkl          \n"
          ],
          "name": "stdout"
        },
        {
          "output_type": "stream",
          "text": [
            "\n",
            "     0K .......... .......... .......... .......... ..........  2%  286K 6s\n",
            "    50K .......... .......... .......... .......... ..........  5%  284K 6s\n",
            "   100K .......... .......... .......... .......... ..........  7%  286K 6s\n",
            "   150K .......... .......... .......... .......... .......... 10% 33.3M 4s\n",
            "   200K .......... .......... .......... .......... .......... 13% 67.5M 3s\n",
            "   250K .......... .......... .......... .......... .......... 15% 87.3M 3s\n",
            "   300K .......... .......... .......... .......... .......... 18%  289K 3s\n",
            "   350K .......... .......... .......... .......... .......... 21% 42.2M 3s\n",
            "   400K .......... .......... .......... .......... .......... 23% 52.9M 2s\n",
            "   450K .......... .......... .......... .......... .......... 26%  143M 2s\n",
            "   500K .......... .......... .......... .......... .......... 29%  193M 2s\n",
            "   550K .......... .......... .......... .......... .......... 31% 58.5M 2s\n",
            "   600K .......... .......... .......... .......... .......... 34%  292K 2s\n",
            "   650K .......... .......... .......... .......... .......... 37% 57.5M 1s\n",
            "   700K .......... .......... .......... .......... .......... 39% 48.1M 1s\n",
            "   750K .......... .......... .......... .......... .......... 42% 60.6M 1s\n",
            "   800K .......... .......... .......... .......... .......... 45% 78.4M 1s\n",
            "   850K .......... .......... .......... .......... .......... 47% 86.5M 1s\n",
            "   900K .......... .......... .......... .......... .......... 50% 97.3M 1s\n",
            "   950K .......... .......... .......... .......... .......... 53% 65.3M 1s\n",
            "  1000K .......... .......... .......... .......... .......... 55%  102M 1s\n",
            "  1050K .......... .......... .......... .......... .......... 58% 87.3M 1s\n",
            "  1100K .......... .......... .......... .......... .......... 61% 86.5M 1s\n",
            "  1150K .......... .......... .......... .......... .......... 63% 74.0M 1s\n",
            "  1200K .......... .......... .......... .......... .......... 66% 91.1M 0s\n",
            "  1250K .......... .......... .......... .......... .......... 69% 83.1M 0s\n",
            "  1300K .......... .......... .......... .......... .......... 71%  299K 0s\n",
            "  1350K .......... .......... .......... .......... .......... 74%  104M 0s\n",
            "  1400K .......... .......... .......... .......... .......... 77%  329M 0s\n",
            "  1450K .......... .......... .......... .......... .......... 79%  332M 0s\n",
            "  1500K .......... .......... .......... .......... .......... 82% 35.9M 0s\n",
            "  1550K .......... .......... .......... .......... .......... 85% 65.0M 0s\n",
            "  1600K .......... .......... .......... .......... .......... 87% 96.5M 0s\n",
            "  1650K .......... .......... .......... .......... .......... 90%  347M 0s\n",
            "  1700K .......... .......... .......... .......... .......... 93%  388M 0s\n",
            "  1750K .......... .......... .......... .......... .......... 95%  339M 0s\n",
            "  1800K .......... .......... .......... .......... .......... 98%  409M 0s\n",
            "  1850K .......... .......... .......... .                    100%  388M=1.1s"
          ],
          "name": "stderr"
        }
      ]
    },
    {
      "cell_type": "code",
      "metadata": {
        "id": "poSPXXlUa4Qn"
      },
      "source": [
        "import codecs\r\n",
        "import json\r\n",
        "from sklearn.linear_model import LogisticRegression\r\n",
        "import pickle\r\n",
        "import joblib\r\n",
        "\r\n",
        "vect = joblib.load(\"data/tfidf.pkl\")\r\n",
        "\r\n",
        "def build_feature_TERRa(row):\r\n",
        "    premise = str(row[\"premise\"]).strip()\r\n",
        "    hypothesis = row[\"hypothesis\"]\r\n",
        "    label = row.get(\"label\")\r\n",
        "    res = f\"{premise} {hypothesis}\"\r\n",
        "    return res, label\r\n",
        "\r\n",
        "\r\n",
        "def build_features_TERRa(path, vect):\r\n",
        "    with codecs.open(path, encoding='utf-8-sig') as reader:\r\n",
        "        lines = reader.read().split(\"\\n\")\r\n",
        "        lines = list(map(json.loads, filter(None, lines)))\r\n",
        "    res = list(map(build_feature_TERRa, lines))\r\n",
        "    texts = list(map(lambda x: x[0], res))\r\n",
        "    labels = list(map(lambda x: x[1], res))\r\n",
        "    ids = [x[\"idx\"] for x in lines]\r\n",
        "    return (vect.transform(texts), labels), ids\r\n",
        "\r\n",
        "\r\n",
        "def fit_TERRa(train, labels):\r\n",
        "    clf = LogisticRegression()\r\n",
        "    return clf.fit(train, labels)\r\n",
        "\r\n",
        "\r\n",
        "def eval_TERRa(train_path, val_path, test_path, vect):\r\n",
        "    train, _ = build_features_TERRa(train_path, vect)\r\n",
        "    val, _ = build_features_TERRa(val_path, vect)\r\n",
        "    test, ids = build_features_TERRa(test_path, vect)\r\n",
        "    clf = fit_TERRa(*train)\r\n",
        "    try:\r\n",
        "        test_score = clf.score(*test)\r\n",
        "    except ValueError:\r\n",
        "        test_score = None\r\n",
        "    test_pred = clf.predict(test[0])\r\n",
        "    return clf, {\r\n",
        "        \"train\": clf.score(*train),\r\n",
        "        \"val\": clf.score(*val),\r\n",
        "        \"test\": test_score,\r\n",
        "        \"test_pred\": [{\"idx\": idx, \"label\": str(label)} for idx, label in zip(ids, test_pred)]\r\n",
        "    }"
      ],
      "execution_count": null,
      "outputs": []
    },
    {
      "cell_type": "code",
      "metadata": {
        "id": "AhLuJNfvbFRu"
      },
      "source": [
        "train_path = \"data/TERRa/train.jsonl\"\r\n",
        "val_path = \"data/TERRa/val.jsonl\"\r\n",
        "test_path = \"data/TERRa/test.jsonl\"\r\n",
        "\r\n",
        "_, TERRa_scores = eval_TERRa(train_path, val_path, test_path, vect)"
      ],
      "execution_count": null,
      "outputs": []
    },
    {
      "cell_type": "code",
      "metadata": {
        "colab": {
          "base_uri": "https://localhost:8080/"
        },
        "id": "P0fBa06YbPqT",
        "outputId": "e66c3544-ab4f-458d-fc72-added1a56690"
      },
      "source": [
        "TERRa_scores[\"train\"], TERRa_scores[\"val\"]"
      ],
      "execution_count": null,
      "outputs": [
        {
          "output_type": "execute_result",
          "data": {
            "text/plain": [
              "(0.7152140672782875, 0.46579804560260585)"
            ]
          },
          "metadata": {
            "tags": []
          },
          "execution_count": 65
        }
      ]
    },
    {
      "cell_type": "code",
      "metadata": {
        "id": "cp2e2rZqbTxm"
      },
      "source": [
        "train, _ = build_features_TERRa(train_path, vect)\r\n",
        "val, _ = build_features_TERRa(val_path, vect)"
      ],
      "execution_count": null,
      "outputs": []
    },
    {
      "cell_type": "code",
      "metadata": {
        "colab": {
          "base_uri": "https://localhost:8080/"
        },
        "id": "nVy9U09LbY3e",
        "outputId": "5e9e5433-6d5d-4008-d199-6ca79118ee66"
      },
      "source": [
        "clf = fit_TERRa(*train)\r\n",
        "y_din = clf.predict(val[0])\r\n",
        "print(\"Accuracy: {}\".format(clf.score(*val)))\r\n",
        "print(classification_report(val[1], y_din))"
      ],
      "execution_count": null,
      "outputs": [
        {
          "output_type": "stream",
          "text": [
            "Accuracy: 0.46579804560260585\n",
            "                precision    recall  f1-score   support\n",
            "\n",
            "    entailment       0.47      0.50      0.48       153\n",
            "not_entailment       0.46      0.43      0.45       154\n",
            "\n",
            "      accuracy                           0.47       307\n",
            "     macro avg       0.47      0.47      0.47       307\n",
            "  weighted avg       0.47      0.47      0.47       307\n",
            "\n"
          ],
          "name": "stdout"
        }
      ]
    },
    {
      "cell_type": "markdown",
      "metadata": {
        "id": "a_FvCFZX79UL"
      },
      "source": [
        "# Feature analysis + Reproduction"
      ]
    },
    {
      "cell_type": "code",
      "metadata": {
        "id": "3vhilzpl8Dti"
      },
      "source": [
        "%%capture\n",
        "!pip install eli5\n",
        "import numpy as np\n",
        "import eli5\n",
        "from sklearn.feature_extraction.text import CountVectorizer, TfidfVectorizer\n",
        "from sklearn.linear_model import LogisticRegression\n",
        "from sklearn.naive_bayes import MultinomialNB\n",
        "from sklearn.model_selection import train_test_split\n",
        "from sklearn.metrics import classification_report, accuracy_score, f1_score\n",
        "from sklearn.metrics.pairwise import cosine_distances, cosine_similarity\n",
        "from sklearn.model_selection import GridSearchCV\n",
        "from sklearn.model_selection import cross_val_score"
      ],
      "execution_count": null,
      "outputs": []
    },
    {
      "cell_type": "markdown",
      "metadata": {
        "id": "gegqu8U4-x-L"
      },
      "source": [
        "Объединим столбцы с контекстом и гипотезой, как и в базовом решении"
      ]
    },
    {
      "cell_type": "code",
      "metadata": {
        "id": "CBYGOsgp-pVP"
      },
      "source": [
        "data = pd.DataFrame({'hypothesis': df.hypothesis, 'premise': df.premise, 'label': df.label})\n",
        "data_val = pd.DataFrame({'hypothesis': df1.hypothesis, 'premise': df1.premise, 'label': df1.label})\n",
        "\n",
        "data['meta'] = df.premise + ' ' + df.hypothesis \n",
        "data_val['meta'] = df1.premise + ' ' + df1.hypothesis "
      ],
      "execution_count": null,
      "outputs": []
    },
    {
      "cell_type": "markdown",
      "metadata": {
        "id": "BMX0xAOsBn_W"
      },
      "source": [
        "Pipeline с базовыми параметрами только на данных гипотезы + логистическая регрессия"
      ]
    },
    {
      "cell_type": "markdown",
      "metadata": {
        "id": "rFpq61b7BpWa"
      },
      "source": [
        "(тренировочные данные)"
      ]
    },
    {
      "cell_type": "code",
      "metadata": {
        "colab": {
          "base_uri": "https://localhost:8080/"
        },
        "id": "Q8gpsWgWBYUM",
        "outputId": "8ef5ccbf-968d-4770-9753-90c0fed07b79"
      },
      "source": [
        "from sklearn.pipeline import Pipeline\r\n",
        "from sklearn.preprocessing import StandardScaler\r\n",
        "from sklearn.preprocessing import FunctionTransformer\r\n",
        "\r\n",
        "steps = [('tfidf', TfidfVectorizer(analyzer='word', max_features=10000)),\r\n",
        "         ('logreg', LogisticRegression())]\r\n",
        "\r\n",
        "X_train, X_test, y_train, y_test = train_test_split(data.hypothesis, data.label, test_size = 0.2, random_state=42)\r\n",
        "\r\n",
        "pipeline = Pipeline(steps)\r\n",
        "\r\n",
        "pipeline.fit(X_train, y_train)\r\n",
        "y_pred = pipeline.predict(X_test)\r\n",
        "\r\n",
        "print(\"Accuracy: {}\".format(pipeline.score(X_test, y_test)))\r\n",
        "print(classification_report(y_test, y_pred))"
      ],
      "execution_count": null,
      "outputs": [
        {
          "output_type": "stream",
          "text": [
            "Accuracy: 0.48282442748091603\n",
            "                precision    recall  f1-score   support\n",
            "\n",
            "    entailment       0.50      0.57      0.54       274\n",
            "not_entailment       0.45      0.39      0.42       250\n",
            "\n",
            "      accuracy                           0.48       524\n",
            "     macro avg       0.48      0.48      0.48       524\n",
            "  weighted avg       0.48      0.48      0.48       524\n",
            "\n"
          ],
          "name": "stdout"
        }
      ]
    },
    {
      "cell_type": "markdown",
      "metadata": {
        "id": "bkB-qRwXBviA"
      },
      "source": [
        "Только гипотеза (валидационные)"
      ]
    },
    {
      "cell_type": "code",
      "metadata": {
        "colab": {
          "base_uri": "https://localhost:8080/"
        },
        "id": "0hblUU3XBtHo",
        "outputId": "2c82a82b-78e3-455e-d9d1-9442e0093360"
      },
      "source": [
        "pipeline.fit(data.hypothesis, data.label)\r\n",
        "y_din = pipeline.predict(data_val.hypothesis)\r\n",
        "print(\"Accuracy: {}\".format(pipeline.score(data_val.hypothesis, data_val.label)))\r\n",
        "print(classification_report(data_val.label, y_din))"
      ],
      "execution_count": null,
      "outputs": [
        {
          "output_type": "stream",
          "text": [
            "Accuracy: 0.4560260586319218\n",
            "                precision    recall  f1-score   support\n",
            "\n",
            "    entailment       0.46      0.50      0.48       153\n",
            "not_entailment       0.45      0.42      0.43       154\n",
            "\n",
            "      accuracy                           0.46       307\n",
            "     macro avg       0.46      0.46      0.46       307\n",
            "  weighted avg       0.46      0.46      0.46       307\n",
            "\n"
          ],
          "name": "stdout"
        }
      ]
    },
    {
      "cell_type": "markdown",
      "metadata": {
        "id": "tqEVZfzACfyt"
      },
      "source": [
        "Тот же pipeline, но на всех данных. Результаты несколько хуже, чем у создателей (0.47 - accuracy, 0.47 - f1)"
      ]
    },
    {
      "cell_type": "code",
      "metadata": {
        "colab": {
          "base_uri": "https://localhost:8080/"
        },
        "id": "oTYGgLOBCiLp",
        "outputId": "7267911f-1b20-4873-da60-f20c114e8755"
      },
      "source": [
        "pipeline.fit(data.meta, data.label)\r\n",
        "y_din = pipeline.predict(data_val.meta)\r\n",
        "print(\"Accuracy: {}\".format(pipeline.score(data_val.meta, data_val.label)))\r\n",
        "print(classification_report(data_val.label, y_din))"
      ],
      "execution_count": null,
      "outputs": [
        {
          "output_type": "stream",
          "text": [
            "Accuracy: 0.43322475570032576\n",
            "                precision    recall  f1-score   support\n",
            "\n",
            "    entailment       0.44      0.53      0.48       153\n",
            "not_entailment       0.42      0.34      0.37       154\n",
            "\n",
            "      accuracy                           0.43       307\n",
            "     macro avg       0.43      0.43      0.43       307\n",
            "  weighted avg       0.43      0.43      0.43       307\n",
            "\n"
          ],
          "name": "stdout"
        }
      ]
    },
    {
      "cell_type": "markdown",
      "metadata": {
        "id": "j4uAb6BADG64"
      },
      "source": [
        "Fine-tuning"
      ]
    },
    {
      "cell_type": "code",
      "metadata": {
        "colab": {
          "base_uri": "https://localhost:8080/"
        },
        "id": "uy0_DNFoIP4B",
        "outputId": "1cf6d90e-f463-438f-f191-12103c553c64"
      },
      "source": [
        "# analyzer='char_wb', ngram_range = (2, 4)\r\n",
        "from sklearn.pipeline import Pipeline\r\n",
        "from sklearn.preprocessing import StandardScaler\r\n",
        "from sklearn.preprocessing import FunctionTransformer\r\n",
        "\r\n",
        "steps = [('countvect', CountVectorizer(min_df=15, max_df=0.4, lowercase=True, analyzer ='char_wb', decode_error = 'ignore', ngram_range = (2, 4))),\r\n",
        "         ('sgd', SGDClassifier(loss=\"log\", n_jobs=-1, class_weight='balanced', random_state=42))]\r\n",
        "\r\n",
        "parameters = {'sgd__alpha': np.arange(0.00000001, 1)}\r\n",
        "\r\n",
        "X_train = data.hypothesis\r\n",
        "X_test = data_val.hypothesis\r\n",
        "y_train = data.label\r\n",
        "y_test = data_val.label\r\n",
        "\r\n",
        "pipeline = Pipeline(steps)\r\n",
        "\r\n",
        "search = GridSearchCV(pipeline, cv=5, param_grid = parameters, scoring = 'accuracy')\r\n",
        "\r\n",
        "search.fit(X_train, y_train)\r\n",
        "y_pred = search.predict(X_test)\r\n",
        "\r\n",
        "print(\"Accuracy: {}\".format(search.score(X_test, y_test)))\r\n",
        "print(classification_report(y_test, y_pred))\r\n",
        "print(\"Tuned Model Parameters: {}\".format(search.best_params_))"
      ],
      "execution_count": null,
      "outputs": [
        {
          "output_type": "stream",
          "text": [
            "Accuracy: 0.5504885993485342\n",
            "                precision    recall  f1-score   support\n",
            "\n",
            "    entailment       0.55      0.52      0.53       153\n",
            "not_entailment       0.55      0.58      0.57       154\n",
            "\n",
            "      accuracy                           0.55       307\n",
            "     macro avg       0.55      0.55      0.55       307\n",
            "  weighted avg       0.55      0.55      0.55       307\n",
            "\n",
            "Tuned Model Parameters: {'sgd__alpha': 1e-08}\n"
          ],
          "name": "stdout"
        }
      ]
    },
    {
      "cell_type": "code",
      "metadata": {
        "colab": {
          "base_uri": "https://localhost:8080/"
        },
        "id": "-SqenQpc4XSt",
        "outputId": "da5ea458-7ab6-49f9-ae7c-fd72614cf140"
      },
      "source": [
        "from sklearn.pipeline import Pipeline\r\n",
        "from sklearn.preprocessing import StandardScaler\r\n",
        "from sklearn.preprocessing import FunctionTransformer\r\n",
        "\r\n",
        "steps = [('tfidf', TfidfVectorizer(analyzer ='word',\r\n",
        "                                   ngram_range = (1, 4), max_features = 1000)),\r\n",
        "         ('logreg', LogisticRegression(class_weight='balanced', random_state=42))]\r\n",
        "\r\n",
        "parameters = {'logreg__C': np.arange(0.00000001, 1)}\r\n",
        "\r\n",
        "X_train = data.meta\r\n",
        "X_test = data_val.meta\r\n",
        "y_train = data.label\r\n",
        "y_test = data_val.label\r\n",
        "\r\n",
        "pipeline = Pipeline(steps)\r\n",
        "\r\n",
        "search = GridSearchCV(pipeline, cv=5, param_grid = parameters, scoring = 'accuracy')\r\n",
        "\r\n",
        "search.fit(X_train, y_train)\r\n",
        "y_pred = search.predict(X_test)\r\n",
        "\r\n",
        "print(\"Accuracy: {}\".format(search.score(X_test, y_test)))\r\n",
        "print(classification_report(y_test, y_pred))\r\n",
        "print(\"Tuned Model Parameters: {}\".format(search.best_params_))"
      ],
      "execution_count": null,
      "outputs": [
        {
          "output_type": "stream",
          "text": [
            "Accuracy: 0.498371335504886\n",
            "                precision    recall  f1-score   support\n",
            "\n",
            "    entailment       0.50      0.72      0.59       153\n",
            "not_entailment       0.50      0.28      0.36       154\n",
            "\n",
            "      accuracy                           0.50       307\n",
            "     macro avg       0.50      0.50      0.47       307\n",
            "  weighted avg       0.50      0.50      0.47       307\n",
            "\n",
            "Tuned Model Parameters: {'logreg__C': 1e-08}\n"
          ],
          "name": "stdout"
        }
      ]
    },
    {
      "cell_type": "markdown",
      "metadata": {
        "id": "k9SLDgRrdbRu"
      },
      "source": [
        "# Frequency experiments"
      ]
    },
    {
      "cell_type": "code",
      "metadata": {
        "id": "hdF48EY6dgfh"
      },
      "source": [
        "%%capture\r\n",
        "!pip install pymorphy2[fast] "
      ],
      "execution_count": null,
      "outputs": []
    },
    {
      "cell_type": "code",
      "metadata": {
        "id": "Lr8dKS57m9hx"
      },
      "source": [
        "import pymorphy2\r\n",
        "import re\r\n",
        "from pymorphy2 import MorphAnalyzer\r\n",
        "from functools import lru_cache\r\n",
        "import nltk\r\n",
        "m = MorphAnalyzer()\r\n",
        "from collections import Counter\r\n",
        "\r\n",
        "rg = re.compile(\"[А-Яа-яA-z]+\")\r\n",
        "\r\n",
        "def words_only(text, rg=rg):\r\n",
        "    try:\r\n",
        "        return rg.findall(text.lower())\r\n",
        "    except:\r\n",
        "        return []\r\n",
        "\r\n",
        "@lru_cache(maxsize=128)\r\n",
        "def lemmatize_word(token, pymorphy=m):\r\n",
        "    return pymorphy.parse(token)[0].normal_form\r\n",
        "\r\n",
        "def lemmatize_text(text):\r\n",
        "    return [lemmatize_word(w) for w in text]\r\n",
        "\r\n",
        "def clean_text(text):\r\n",
        "    tokens = words_only(text)\r\n",
        "    lemmas = lemmatize_text(tokens)  \r\n",
        "    return lemmas\r\n",
        "\r\n",
        "def freq_dist(frame):\r\n",
        "  words = frame.values.tolist()\r\n",
        "  flatList = [item for elem in words for item in elem]\r\n",
        "  freq = Counter()\r\n",
        "  for x in flatList:\r\n",
        "    freq.update(x)\r\n",
        "  return freq"
      ],
      "execution_count": null,
      "outputs": []
    },
    {
      "cell_type": "code",
      "metadata": {
        "id": "d_hmCZs9dpdY"
      },
      "source": [
        "new_words = []\r\n",
        "for i in range(len(df.hypothesis)):\r\n",
        "    new_words.append(clean_text(df.hypothesis[i]))"
      ],
      "execution_count": null,
      "outputs": []
    },
    {
      "cell_type": "code",
      "metadata": {
        "id": "OY-hwK-fnG0W"
      },
      "source": [
        "df_freq = pd.DataFrame({'new': new_words, 'label': df.label})\r\n",
        "df_freq_ent = df_freq[(df_freq['label']== 'entailment')].drop('label', axis = 1)\r\n",
        "df_freq_cont = df_freq[(df_freq['label']== 'not_entailment')].drop('label', axis = 1)"
      ],
      "execution_count": null,
      "outputs": []
    },
    {
      "cell_type": "code",
      "metadata": {
        "id": "4euK-jkpnOho"
      },
      "source": [
        "ent_count = freq_dist(df_freq_ent)\r\n",
        "non_ent_count = freq_dist(df_freq_cont)\r\n",
        "\r\n",
        "a = set(freq_dist(df_freq_ent).keys())\r\n",
        "b = set(freq_dist(df_freq_cont).keys())"
      ],
      "execution_count": null,
      "outputs": []
    },
    {
      "cell_type": "code",
      "metadata": {
        "id": "_v3JwAKQm4D1"
      },
      "source": [
        "left = []\r\n",
        "right = []\r\n",
        "non_ent = {}\r\n",
        "for x in (b-a):\r\n",
        "  non_ent[x] = non_ent_count[x]\r\n",
        "for w in sorted(non_ent, key=non_ent.get, reverse=True):\r\n",
        "  left.append(w)\r\n",
        "  right.append(non_ent[w])\r\n",
        "\r\n",
        "n_e = pd.DataFrame({'word': left, 'right': right})"
      ],
      "execution_count": null,
      "outputs": []
    },
    {
      "cell_type": "code",
      "metadata": {
        "colab": {
          "base_uri": "https://localhost:8080/",
          "height": 677
        },
        "id": "lb9ngUzlng-K",
        "outputId": "5a5ff1b6-5401-452e-a538-a4211405fd77"
      },
      "source": [
        "n_e.head(20)"
      ],
      "execution_count": null,
      "outputs": [
        {
          "output_type": "execute_result",
          "data": {
            "text/html": [
              "<div>\n",
              "<style scoped>\n",
              "    .dataframe tbody tr th:only-of-type {\n",
              "        vertical-align: middle;\n",
              "    }\n",
              "\n",
              "    .dataframe tbody tr th {\n",
              "        vertical-align: top;\n",
              "    }\n",
              "\n",
              "    .dataframe thead th {\n",
              "        text-align: right;\n",
              "    }\n",
              "</style>\n",
              "<table border=\"1\" class=\"dataframe\">\n",
              "  <thead>\n",
              "    <tr style=\"text-align: right;\">\n",
              "      <th></th>\n",
              "      <th>word</th>\n",
              "      <th>right</th>\n",
              "    </tr>\n",
              "  </thead>\n",
              "  <tbody>\n",
              "    <tr>\n",
              "      <th>0</th>\n",
              "      <td>несомненно</td>\n",
              "      <td>8</td>\n",
              "    </tr>\n",
              "    <tr>\n",
              "      <th>1</th>\n",
              "      <td>всегда</td>\n",
              "      <td>8</td>\n",
              "    </tr>\n",
              "    <tr>\n",
              "      <th>2</th>\n",
              "      <td>играть</td>\n",
              "      <td>6</td>\n",
              "    </tr>\n",
              "    <tr>\n",
              "      <th>3</th>\n",
              "      <td>простой</td>\n",
              "      <td>6</td>\n",
              "    </tr>\n",
              "    <tr>\n",
              "      <th>4</th>\n",
              "      <td>где</td>\n",
              "      <td>5</td>\n",
              "    </tr>\n",
              "    <tr>\n",
              "      <th>5</th>\n",
              "      <td>именно</td>\n",
              "      <td>5</td>\n",
              "    </tr>\n",
              "    <tr>\n",
              "      <th>6</th>\n",
              "      <td>скорый</td>\n",
              "      <td>5</td>\n",
              "    </tr>\n",
              "    <tr>\n",
              "      <th>7</th>\n",
              "      <td>час</td>\n",
              "      <td>5</td>\n",
              "    </tr>\n",
              "    <tr>\n",
              "      <th>8</th>\n",
              "      <td>обязательно</td>\n",
              "      <td>5</td>\n",
              "    </tr>\n",
              "    <tr>\n",
              "      <th>9</th>\n",
              "      <td>мобильный</td>\n",
              "      <td>4</td>\n",
              "    </tr>\n",
              "    <tr>\n",
              "      <th>10</th>\n",
              "      <td>подтвердить</td>\n",
              "      <td>4</td>\n",
              "    </tr>\n",
              "    <tr>\n",
              "      <th>11</th>\n",
              "      <td>уехать</td>\n",
              "      <td>4</td>\n",
              "    </tr>\n",
              "    <tr>\n",
              "      <th>12</th>\n",
              "      <td>сад</td>\n",
              "      <td>4</td>\n",
              "    </tr>\n",
              "    <tr>\n",
              "      <th>13</th>\n",
              "      <td>вообще</td>\n",
              "      <td>4</td>\n",
              "    </tr>\n",
              "    <tr>\n",
              "      <th>14</th>\n",
              "      <td>показывать</td>\n",
              "      <td>4</td>\n",
              "    </tr>\n",
              "    <tr>\n",
              "      <th>15</th>\n",
              "      <td>бывать</td>\n",
              "      <td>4</td>\n",
              "    </tr>\n",
              "    <tr>\n",
              "      <th>16</th>\n",
              "      <td>потеплеть</td>\n",
              "      <td>3</td>\n",
              "    </tr>\n",
              "    <tr>\n",
              "      <th>17</th>\n",
              "      <td>снести</td>\n",
              "      <td>3</td>\n",
              "    </tr>\n",
              "    <tr>\n",
              "      <th>18</th>\n",
              "      <td>опасно</td>\n",
              "      <td>3</td>\n",
              "    </tr>\n",
              "    <tr>\n",
              "      <th>19</th>\n",
              "      <td>региональный</td>\n",
              "      <td>3</td>\n",
              "    </tr>\n",
              "  </tbody>\n",
              "</table>\n",
              "</div>"
            ],
            "text/plain": [
              "            word  right\n",
              "0     несомненно      8\n",
              "1         всегда      8\n",
              "2         играть      6\n",
              "3        простой      6\n",
              "4            где      5\n",
              "5         именно      5\n",
              "6         скорый      5\n",
              "7            час      5\n",
              "8    обязательно      5\n",
              "9      мобильный      4\n",
              "10   подтвердить      4\n",
              "11        уехать      4\n",
              "12           сад      4\n",
              "13        вообще      4\n",
              "14    показывать      4\n",
              "15        бывать      4\n",
              "16     потеплеть      3\n",
              "17        снести      3\n",
              "18        опасно      3\n",
              "19  региональный      3"
            ]
          },
          "metadata": {
            "tags": []
          },
          "execution_count": 144
        }
      ]
    },
    {
      "cell_type": "code",
      "metadata": {
        "id": "IVpKufENogrP"
      },
      "source": [
        "left = []\r\n",
        "right = []\r\n",
        "ent = {}\r\n",
        "for x in (a-b):\r\n",
        "  ent[x] = ent_count[x]\r\n",
        "for w in sorted(ent, key=ent.get, reverse=True):\r\n",
        "  left.append(w)\r\n",
        "  right.append(ent[w])\r\n",
        "\r\n",
        "e = pd.DataFrame({'word': left, 'right': right})"
      ],
      "execution_count": null,
      "outputs": []
    },
    {
      "cell_type": "code",
      "metadata": {
        "colab": {
          "base_uri": "https://localhost:8080/",
          "height": 677
        },
        "id": "CKQ0xRs8ouoA",
        "outputId": "224dbaf5-b993-4a34-c231-3092905517b5"
      },
      "source": [
        "e.head(20)"
      ],
      "execution_count": null,
      "outputs": [
        {
          "output_type": "execute_result",
          "data": {
            "text/html": [
              "<div>\n",
              "<style scoped>\n",
              "    .dataframe tbody tr th:only-of-type {\n",
              "        vertical-align: middle;\n",
              "    }\n",
              "\n",
              "    .dataframe tbody tr th {\n",
              "        vertical-align: top;\n",
              "    }\n",
              "\n",
              "    .dataframe thead th {\n",
              "        text-align: right;\n",
              "    }\n",
              "</style>\n",
              "<table border=\"1\" class=\"dataframe\">\n",
              "  <thead>\n",
              "    <tr style=\"text-align: right;\">\n",
              "      <th></th>\n",
              "      <th>word</th>\n",
              "      <th>right</th>\n",
              "    </tr>\n",
              "  </thead>\n",
              "  <tbody>\n",
              "    <tr>\n",
              "      <th>0</th>\n",
              "      <td>трудно</td>\n",
              "      <td>5</td>\n",
              "    </tr>\n",
              "    <tr>\n",
              "      <th>1</th>\n",
              "      <td>сложный</td>\n",
              "      <td>5</td>\n",
              "    </tr>\n",
              "    <tr>\n",
              "      <th>2</th>\n",
              "      <td>вуз</td>\n",
              "      <td>5</td>\n",
              "    </tr>\n",
              "    <tr>\n",
              "      <th>3</th>\n",
              "      <td>станция</td>\n",
              "      <td>5</td>\n",
              "    </tr>\n",
              "    <tr>\n",
              "      <th>4</th>\n",
              "      <td>заключение</td>\n",
              "      <td>4</td>\n",
              "    </tr>\n",
              "    <tr>\n",
              "      <th>5</th>\n",
              "      <td>спортивный</td>\n",
              "      <td>4</td>\n",
              "    </tr>\n",
              "    <tr>\n",
              "      <th>6</th>\n",
              "      <td>количество</td>\n",
              "      <td>4</td>\n",
              "    </tr>\n",
              "    <tr>\n",
              "      <th>7</th>\n",
              "      <td>срок</td>\n",
              "      <td>4</td>\n",
              "    </tr>\n",
              "    <tr>\n",
              "      <th>8</th>\n",
              "      <td>строение</td>\n",
              "      <td>4</td>\n",
              "    </tr>\n",
              "    <tr>\n",
              "      <th>9</th>\n",
              "      <td>верить</td>\n",
              "      <td>4</td>\n",
              "    </tr>\n",
              "    <tr>\n",
              "      <th>10</th>\n",
              "      <td>готовиться</td>\n",
              "      <td>4</td>\n",
              "    </tr>\n",
              "    <tr>\n",
              "      <th>11</th>\n",
              "      <td>объявить</td>\n",
              "      <td>4</td>\n",
              "    </tr>\n",
              "    <tr>\n",
              "      <th>12</th>\n",
              "      <td>победить</td>\n",
              "      <td>4</td>\n",
              "    </tr>\n",
              "    <tr>\n",
              "      <th>13</th>\n",
              "      <td>возможный</td>\n",
              "      <td>4</td>\n",
              "    </tr>\n",
              "    <tr>\n",
              "      <th>14</th>\n",
              "      <td>холод</td>\n",
              "      <td>4</td>\n",
              "    </tr>\n",
              "    <tr>\n",
              "      <th>15</th>\n",
              "      <td>если</td>\n",
              "      <td>4</td>\n",
              "    </tr>\n",
              "    <tr>\n",
              "      <th>16</th>\n",
              "      <td>выходить</td>\n",
              "      <td>3</td>\n",
              "    </tr>\n",
              "    <tr>\n",
              "      <th>17</th>\n",
              "      <td>проверять</td>\n",
              "      <td>3</td>\n",
              "    </tr>\n",
              "    <tr>\n",
              "      <th>18</th>\n",
              "      <td>агафонов</td>\n",
              "      <td>3</td>\n",
              "    </tr>\n",
              "    <tr>\n",
              "      <th>19</th>\n",
              "      <td>непросто</td>\n",
              "      <td>3</td>\n",
              "    </tr>\n",
              "  </tbody>\n",
              "</table>\n",
              "</div>"
            ],
            "text/plain": [
              "          word  right\n",
              "0       трудно      5\n",
              "1      сложный      5\n",
              "2          вуз      5\n",
              "3      станция      5\n",
              "4   заключение      4\n",
              "5   спортивный      4\n",
              "6   количество      4\n",
              "7         срок      4\n",
              "8     строение      4\n",
              "9       верить      4\n",
              "10  готовиться      4\n",
              "11    объявить      4\n",
              "12    победить      4\n",
              "13   возможный      4\n",
              "14       холод      4\n",
              "15        если      4\n",
              "16    выходить      3\n",
              "17   проверять      3\n",
              "18    агафонов      3\n",
              "19    непросто      3"
            ]
          },
          "metadata": {
            "tags": []
          },
          "execution_count": 146
        }
      ]
    },
    {
      "cell_type": "code",
      "metadata": {
        "id": "ETdUYDLtoyDS"
      },
      "source": [
        "word = []\r\n",
        "count_plus = []\r\n",
        "count_minus = []\r\n",
        "for x in (a&b):\r\n",
        "  if ent_count[x] < non_ent_count[x] and (non_ent_count[x]-ent_count[x]) > 10:\r\n",
        "    word.append(x)\r\n",
        "    count_plus.append(ent_count[x])\r\n",
        "    count_minus.append(non_ent_count[x])\r\n",
        "\r\n",
        "n_e_union = pd.DataFrame({'word': word, 'ent': count_plus, 'non_ent': count_minus})"
      ],
      "execution_count": null,
      "outputs": []
    },
    {
      "cell_type": "code",
      "metadata": {
        "colab": {
          "base_uri": "https://localhost:8080/",
          "height": 206
        },
        "id": "cknpKhTko31q",
        "outputId": "5d41fd92-8196-40a8-b2c5-6a957d5fb5a1"
      },
      "source": [
        "n_e_union['std'] = n_e_union.non_ent - n_e_union.ent\r\n",
        "n = n_e_union.sort_values(by=['std'], ascending=False)\r\n",
        "n.head(10)"
      ],
      "execution_count": null,
      "outputs": [
        {
          "output_type": "execute_result",
          "data": {
            "text/html": [
              "<div>\n",
              "<style scoped>\n",
              "    .dataframe tbody tr th:only-of-type {\n",
              "        vertical-align: middle;\n",
              "    }\n",
              "\n",
              "    .dataframe tbody tr th {\n",
              "        vertical-align: top;\n",
              "    }\n",
              "\n",
              "    .dataframe thead th {\n",
              "        text-align: right;\n",
              "    }\n",
              "</style>\n",
              "<table border=\"1\" class=\"dataframe\">\n",
              "  <thead>\n",
              "    <tr style=\"text-align: right;\">\n",
              "      <th></th>\n",
              "      <th>word</th>\n",
              "      <th>ent</th>\n",
              "      <th>non_ent</th>\n",
              "      <th>std</th>\n",
              "    </tr>\n",
              "  </thead>\n",
              "  <tbody>\n",
              "    <tr>\n",
              "      <th>2</th>\n",
              "      <td>только</td>\n",
              "      <td>5</td>\n",
              "      <td>28</td>\n",
              "      <td>23</td>\n",
              "    </tr>\n",
              "    <tr>\n",
              "      <th>3</th>\n",
              "      <td>мужчина</td>\n",
              "      <td>52</td>\n",
              "      <td>75</td>\n",
              "      <td>23</td>\n",
              "    </tr>\n",
              "    <tr>\n",
              "      <th>0</th>\n",
              "      <td>всё</td>\n",
              "      <td>18</td>\n",
              "      <td>32</td>\n",
              "      <td>14</td>\n",
              "    </tr>\n",
              "    <tr>\n",
              "      <th>1</th>\n",
              "      <td>весь</td>\n",
              "      <td>17</td>\n",
              "      <td>30</td>\n",
              "      <td>13</td>\n",
              "    </tr>\n",
              "    <tr>\n",
              "      <th>4</th>\n",
              "      <td>новый</td>\n",
              "      <td>14</td>\n",
              "      <td>26</td>\n",
              "      <td>12</td>\n",
              "    </tr>\n",
              "  </tbody>\n",
              "</table>\n",
              "</div>"
            ],
            "text/plain": [
              "      word  ent  non_ent  std\n",
              "2   только    5       28   23\n",
              "3  мужчина   52       75   23\n",
              "0      всё   18       32   14\n",
              "1     весь   17       30   13\n",
              "4    новый   14       26   12"
            ]
          },
          "metadata": {
            "tags": []
          },
          "execution_count": 148
        }
      ]
    }
  ]
}