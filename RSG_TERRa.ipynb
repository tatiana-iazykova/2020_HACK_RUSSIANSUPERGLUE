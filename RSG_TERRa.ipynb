{
  "nbformat": 4,
  "nbformat_minor": 0,
  "metadata": {
    "colab": {
      "name": "RSG_TERRa.ipynb",
      "provenance": [],
      "collapsed_sections": [
        "0OUUSCWcudle",
        "A4ZdyanPupV_",
        "ZxDAiS8Ox8Py",
        "zC_KAI7zNSue"
      ],
      "include_colab_link": true
    },
    "kernelspec": {
      "name": "python3",
      "display_name": "Python 3"
    }
  },
  "cells": [
    {
      "cell_type": "markdown",
      "metadata": {
        "id": "view-in-github",
        "colab_type": "text"
      },
      "source": [
        "<a href=\"https://colab.research.google.com/github/tatiana-iazykova/2020_HACK_RUSSIANSUPERGLUE/blob/main/RSG_TERRa.ipynb\" target=\"_parent\"><img src=\"https://colab.research.google.com/assets/colab-badge.svg\" alt=\"Open In Colab\"/></a>"
      ]
    },
    {
      "cell_type": "markdown",
      "metadata": {
        "id": "0OUUSCWcudle"
      },
      "source": [
        "#Загрузка английского датасета для сравнения"
      ]
    },
    {
      "cell_type": "code",
      "metadata": {
        "id": "bjHb_yglPu4w",
        "colab": {
          "base_uri": "https://localhost:8080/"
        },
        "outputId": "c1cb9728-a429-430a-d3ff-47372abb90d0"
      },
      "source": [
        "%%bash\n",
        "# change url if you want to work with a different RSG dataset\n",
        "wget -q --show-progress \"https://dl.fbaipublicfiles.com/glue/superglue/data/v2/RTE.zip\" -O temp.zip\n",
        "unzip temp.zip -d data\n",
        "\n",
        "# remove unnecessary directories and files\n",
        "rm temp.zip\n",
        "rm -r data/__MACOSX\n",
        "rm -r sample_data/"
      ],
      "execution_count": null,
      "outputs": [
        {
          "output_type": "stream",
          "text": [
            "Archive:  temp.zip\n",
            "  inflating: data/ories and files    \n",
            "  inflating: data/ip                 \n",
            "  inflating: data/a/__MACOSX         \n"
          ],
          "name": "stdout"
        },
        {
          "output_type": "stream",
          "text": [
            "\n",
            "     0K .......... .......... .......... .......... ..........  6%  144K 5s\n",
            "    50K .......... .......... .......... .......... .......... 13% 5.55M 2s\n",
            "   100K .......... .......... .......... .......... .......... 20%  511K 2s\n",
            "   150K .......... .......... .......... .......... .......... 27% 20.9M 1s\n",
            "   200K .......... .......... .......... .......... .......... 34%  314K 1s\n",
            "   250K .......... .......... .......... .......... .......... 40% 88.9M 1s\n",
            "   300K .......... .......... .......... .......... .......... 47% 31.9M 1s\n",
            "   350K .......... .......... .......... .......... .......... 54% 41.8M 1s\n",
            "   400K .......... .......... .......... .......... .......... 61% 31.8M 0s\n",
            "   450K .......... .......... .......... .......... .......... 68% 7.88M 0s\n",
            "   500K .......... .......... .......... .......... .......... 75%  360K 0s\n",
            "   550K .......... .......... .......... .......... .......... 81% 60.0M 0s\n",
            "   600K .......... .......... .......... .......... .......... 88% 49.2M 0s\n",
            "   650K .......... .......... .......... .......... .......... 95% 44.2M 0s\n",
            "   700K .......... .......... .......... ...                  100% 59.4M=0.8sreplace data/RTE/train.jsonl? [y]es, [n]o, [A]ll, [N]one, [r]ename: error:  invalid response [{ENTER}]\n",
            "replace data/RTE/train.jsonl? [y]es, [n]o, [A]ll, [N]one, [r]ename: error:  invalid response [# remove ]\n",
            "replace data/RTE/train.jsonl? [y]es, [n]o, [A]ll, [N]one, [r]ename: error:  invalid response [unnecessa]\n",
            "replace data/RTE/train.jsonl? [y]es, [n]o, [A]ll, [N]one, [r]ename: new name: replace data/RTE/test.jsonl? [y]es, [n]o, [A]ll, [N]one, [r]ename: new name: replace data/RTE/val.jsonl? [y]es, [n]o, [A]ll, [N]one, [r]ename: new name: "
          ],
          "name": "stderr"
        }
      ]
    },
    {
      "cell_type": "markdown",
      "metadata": {
        "id": "A4ZdyanPupV_"
      },
      "source": [
        "# Загрузка русскоязычного датасета"
      ]
    },
    {
      "cell_type": "code",
      "metadata": {
        "id": "RsL57-5kTLgJ",
        "colab": {
          "base_uri": "https://localhost:8080/"
        },
        "outputId": "11c92bdd-a7e5-4af2-e5f8-0c80410caecf"
      },
      "source": [
        "%%bash\n",
        "# change url if you want to work with a different RSG dataset\n",
        "wget -q --show-progress \"https://russiansuperglue.com/tasks/download/TERRa\" -O temp.zip\n",
        "unzip temp.zip -d data\n",
        "\n",
        "# remove unnecessary directories and files\n",
        "rm temp.zip\n",
        "rm -r data/__MACOSX\n",
        "rm -r sample_data/"
      ],
      "execution_count": null,
      "outputs": [
        {
          "output_type": "stream",
          "text": [
            "Archive:  temp.zip\n",
            "   creating: data/ple_data/\n",
            "   creating: data/__MACOSX/\n",
            "   creating: data/__MACOSX/TERRa/\n",
            "  inflating: data/__MACOSX/TERRa/._train.jsonl  \n",
            "  inflating: data/__MACOSX/TERRa/._.DS_Store  \n",
            "  inflating: data/__MACOSX/TERRa/._test.jsonl  \n",
            "  inflating: data/__MACOSX/TERRa/._val.jsonl  \n",
            "  inflating: data/__MACOSX/._TERRa   \n"
          ],
          "name": "stdout"
        },
        {
          "output_type": "stream",
          "text": [
            "\n",
            "     0K .......... .......... .......... .......... ..........  5% 1.16M 1s\n",
            "    50K .......... .......... .......... .......... .......... 11% 1.20M 1s\n",
            "   100K .......... .......... .......... .......... .......... 16% 1.19M 1s\n",
            "   150K .......... .......... .......... .......... .......... 22% 61.4M 0s\n",
            "   200K .......... .......... .......... .......... .......... 28% 95.5M 0s\n",
            "   250K .......... .......... .......... .......... .......... 33% 98.4M 0s\n",
            "   300K .......... .......... .......... .......... .......... 39% 1.25M 0s\n",
            "   350K .......... .......... .......... .......... .......... 45% 1.19M 0s\n",
            "   400K .......... .......... .......... .......... .......... 50% 98.7M 0s\n",
            "   450K .......... .......... .......... .......... .......... 56% 91.8M 0s\n",
            "   500K .......... .......... .......... .......... .......... 62% 1.23M 0s\n",
            "   550K .......... .......... .......... .......... .......... 67% 1.19M 0s\n",
            "   600K .......... .......... .......... .......... .......... 73% 91.4M 0s\n",
            "   650K .......... .......... .......... .......... .......... 78% 1.23M 0s\n",
            "   700K .......... .......... .......... .......... .......... 84% 1.21M 0s\n",
            "   750K .......... .......... .......... .......... .......... 90% 1.21M 0s\n",
            "   800K .......... .......... .......... .......... .......... 95% 1.22M 0s\n",
            "   850K .......... .......... .......... ......               100% 65.0M=0.4sreplace data/TERRa/train.jsonl? [y]es, [n]o, [A]ll, [N]one, [r]ename: error:  invalid response [{ENTER}]\n",
            "replace data/TERRa/train.jsonl? [y]es, [n]o, [A]ll, [N]one, [r]ename: error:  invalid response [# remove ]\n",
            "replace data/TERRa/train.jsonl? [y]es, [n]o, [A]ll, [N]one, [r]ename: error:  invalid response [unnecessa]\n",
            "replace data/TERRa/train.jsonl? [y]es, [n]o, [A]ll, [N]one, [r]ename: new name: replace data/ories and files? [y]es, [n]o, [A]ll, [N]one, [r]ename: new name: replace data/ip? [y]es, [n]o, [A]ll, [N]one, [r]ename: new name: replace data/a/__MACOSX? [y]es, [n]o, [A]ll, [N]one, [r]ename: new name: replace data/TERRa/.DS_Store? [y]es, [n]o, [A]ll, [N]one, [r]ename:  NULL\n",
            "(EOF or read error, treating as \"[N]one\" ...)\n"
          ],
          "name": "stderr"
        }
      ]
    },
    {
      "cell_type": "markdown",
      "metadata": {
        "id": "uD4auz_Nt9qR"
      },
      "source": [
        "Fancy way to display content of the dataset directory"
      ]
    },
    {
      "cell_type": "code",
      "metadata": {
        "id": "Wh_Pi5TXfVBI",
        "colab": {
          "base_uri": "https://localhost:8080/"
        },
        "outputId": "39c1e70e-2744-4ea7-c6e7-e53ec1a2b460"
      },
      "source": [
        "%%bash\n",
        "# add tree package for fancy directory display\n",
        "apt-get install tree"
      ],
      "execution_count": null,
      "outputs": [
        {
          "output_type": "stream",
          "text": [
            "Reading package lists...\n",
            "Building dependency tree...\n",
            "Reading state information...\n",
            "tree is already the newest version (1.7.0-5).\n",
            "0 upgraded, 0 newly installed, 0 to remove and 16 not upgraded.\n"
          ],
          "name": "stdout"
        }
      ]
    },
    {
      "cell_type": "code",
      "metadata": {
        "colab": {
          "base_uri": "https://localhost:8080/"
        },
        "id": "87zEZXR_xzmF",
        "outputId": "7805e62c-4760-4571-9f92-ca939a68f467"
      },
      "source": [
        "# display the content of the folder\n",
        "!tree"
      ],
      "execution_count": null,
      "outputs": [
        {
          "output_type": "stream",
          "text": [
            ".\n",
            "├── data\n",
            "│   ├── a\n",
            "│   │   └── __MACOSX\n",
            "│   ├── ip\n",
            "│   ├── __MACOSX\n",
            "│   │   └── TERRa\n",
            "│   ├── ories and files\n",
            "│   ├── ple_data\n",
            "│   ├── RTE\n",
            "│   │   ├── test.jsonl\n",
            "│   │   ├── train.jsonl\n",
            "│   │   └── val.jsonl\n",
            "│   └── TERRa\n",
            "│       ├── test.jsonl\n",
            "│       ├── train.jsonl\n",
            "│       └── val.jsonl\n",
            "└── temp.zip\n",
            "\n",
            "7 directories, 10 files\n"
          ],
          "name": "stdout"
        }
      ]
    },
    {
      "cell_type": "markdown",
      "metadata": {
        "id": "ZxDAiS8Ox8Py"
      },
      "source": [
        "# Загрузка в pandas"
      ]
    },
    {
      "cell_type": "code",
      "metadata": {
        "id": "C0cqhlXaXbwj"
      },
      "source": [
        "import pandas as pd\n",
        "pd.set_option('display.max_colwidth', 1000)\n",
        "\n",
        "class JSONL_handler():\n",
        "    \"\"\" opens a jsonl file and turns it into a necessary data structure \"\"\"\n",
        "    \n",
        "    def __init__(self, path):\n",
        "        self.path = path # path to jsonl file\n",
        "\n",
        "    def to_pandas(self):\n",
        "        \"\"\" get jsonl file content as a pandas DataFrame\"\"\"\n",
        "        return pd.read_json(path_or_buf=self.path, lines=True)"
      ],
      "execution_count": null,
      "outputs": []
    },
    {
      "cell_type": "code",
      "metadata": {
        "id": "_NRSjltfYcjT"
      },
      "source": [
        "handler = JSONL_handler('data/TERRa/train.jsonl')\n",
        "df = handler.to_pandas()"
      ],
      "execution_count": null,
      "outputs": []
    },
    {
      "cell_type": "code",
      "metadata": {
        "id": "GTguSJEc1Ans"
      },
      "source": [
        "handler_val = JSONL_handler('data/TERRa/val.jsonl')\r\n",
        "df1 = handler_val.to_pandas()"
      ],
      "execution_count": null,
      "outputs": []
    },
    {
      "cell_type": "code",
      "metadata": {
        "id": "yWGRRno7P5QS"
      },
      "source": [
        "handler_en = JSONL_handler('data/RTE/train.jsonl')\n",
        "df_en = handler_en.to_pandas()"
      ],
      "execution_count": null,
      "outputs": []
    },
    {
      "cell_type": "markdown",
      "metadata": {
        "id": "c3x_pgvwNhjE"
      },
      "source": [
        "# Общая информация про train"
      ]
    },
    {
      "cell_type": "code",
      "metadata": {
        "id": "Q43c4vJZsN6v",
        "colab": {
          "base_uri": "https://localhost:8080/",
          "height": 265
        },
        "outputId": "ce0bb3e3-a375-4c37-e13e-60ec0486f07e"
      },
      "source": [
        "import matplotlib.pyplot as plt\n",
        "plt.title('Label distribution in TERRa', fontsize=14)\n",
        "plt.pie(df['label'].value_counts(), autopct=\"%.1f%%\", explode=[0.05]*2, labels=df['label'].value_counts().keys(), pctdistance=0.5, textprops = dict(fontsize = 12))\n",
        "plt.show()"
      ],
      "execution_count": null,
      "outputs": [
        {
          "output_type": "display_data",
          "data": {
            "image/png": "[encoded data removed]",
            "text/plain": [
              "<Figure size 432x288 with 1 Axes>"
            ]
          },
          "metadata": {
            "tags": []
          }
        }
      ]
    },
    {
      "cell_type": "code",
      "metadata": {
        "id": "rj9wTgqyzWIB",
        "colab": {
          "base_uri": "https://localhost:8080/",
          "height": 265
        },
        "outputId": "9fcfeee3-f0a7-4e9e-c890-29eeb72aaebf"
      },
      "source": [
        "import matplotlib.pyplot as plt\r\n",
        "plt.title('Label distribution in TERRa-val', fontsize=14)\r\n",
        "plt.pie(df1['label'].value_counts(), autopct=\"%.1f%%\", explode=[0.05]*2, labels=df1['label'].value_counts().keys(), pctdistance=0.5, textprops = dict(fontsize = 12))\r\n",
        "plt.show()"
      ],
      "execution_count": null,
      "outputs": [
        {
          "output_type": "display_data",
          "data": {
            "image/png": "[encoded data removed]",
            "text/plain": [
              "<Figure size 432x288 with 1 Axes>"
            ]
          },
          "metadata": {
            "tags": []
          }
        }
      ]
    },
    {
      "cell_type": "code",
      "metadata": {
        "colab": {
          "base_uri": "https://localhost:8080/"
        },
        "id": "vACfnT5Jpgbl",
        "outputId": "71baf89a-a67d-43ad-9f63-d952009d5f5c"
      },
      "source": [
        "df['label'].value_counts()"
      ],
      "execution_count": null,
      "outputs": [
        {
          "output_type": "execute_result",
          "data": {
            "text/plain": [
              "entailment        1359\n",
              "not_entailment    1257\n",
              "Name: label, dtype: int64"
            ]
          },
          "metadata": {
            "tags": []
          },
          "execution_count": 13
        }
      ]
    },
    {
      "cell_type": "code",
      "metadata": {
        "colab": {
          "base_uri": "https://localhost:8080/"
        },
        "id": "Bpko3iriQAff",
        "outputId": "c21d3c10-344a-4375-b430-0c0f60326944"
      },
      "source": [
        "df_en['label'].value_counts()"
      ],
      "execution_count": null,
      "outputs": [
        {
          "output_type": "execute_result",
          "data": {
            "text/plain": [
              "entailment        1249\n",
              "not_entailment    1241\n",
              "Name: label, dtype: int64"
            ]
          },
          "metadata": {
            "tags": []
          },
          "execution_count": 14
        }
      ]
    },
    {
      "cell_type": "code",
      "metadata": {
        "colab": {
          "base_uri": "https://localhost:8080/",
          "height": 620
        },
        "id": "MKuxdjKoUBVg",
        "outputId": "607ec541-d0f7-4fdd-8932-16f36ae08324"
      },
      "source": [
        "plt.title('Relative label distribution in TERRa\\n and corresponding SG dataset', fontsize=14)\n",
        "plt.hist(x = [df['label'], df_en['label']], color=[\"#9ddadc\", \"#e99aee\"], label=['RSG','SG'], rwidth = 50) \n",
        "plt.legend(loc='best')\n",
        "plt.show()\n",
        "print()\n",
        "\n",
        "plt.subplot(1,2,1)\n",
        "colours = {'#9ddca6', '#f0afb6', '#eeb87c'}\n",
        "\n",
        "plt.title('Label distribution\\n in SG\\n', fontsize=14)\n",
        "plt.pie(df_en['label'].value_counts(), autopct=\"%.1f%%\", explode=[0.05]*2, labels=df_en['label'].value_counts().keys(), pctdistance=0.5, textprops = dict(fontsize = 12), colors=colours)\n",
        "\n",
        "plt.subplot(1,2,2)\n",
        "\n",
        "plt.title('Label distribution\\n in RSG\\n', fontsize=14)\n",
        "plt.pie(df['label'].value_counts(), autopct=\"%.1f%%\", explode=[0.05]*2, labels=df['label'].value_counts().keys(), pctdistance=0.5, textprops = dict(fontsize = 12), colors=colours)\n",
        "\n",
        "plt.tight_layout()\n",
        "plt.show()"
      ],
      "execution_count": null,
      "outputs": [
        {
          "output_type": "stream",
          "text": [
            "/usr/local/lib/python3.6/dist-packages/numpy/core/_asarray.py:83: VisibleDeprecationWarning: Creating an ndarray from ragged nested sequences (which is a list-or-tuple of lists-or-tuples-or ndarrays with different lengths or shapes) is deprecated. If you meant to do this, you must specify 'dtype=object' when creating the ndarray\n",
            "  return array(a, dtype, copy=False, order=order)\n"
          ],
          "name": "stderr"
        },
        {
          "output_type": "display_data",
          "data": {
            "image/png": "[encoded data removed]",
            "text/plain": [
              "<Figure size 432x288 with 1 Axes>"
            ]
          },
          "metadata": {
            "tags": [],
            "needs_background": "light"
          }
        },
        {
          "output_type": "stream",
          "text": [
            "\n"
          ],
          "name": "stdout"
        },
        {
          "output_type": "display_data",
          "data": {
            "image/png": "[encoded data removed]",
            "text/plain": [
              "<Figure size 432x288 with 2 Axes>"
            ]
          },
          "metadata": {
            "tags": []
          }
        }
      ]
    },
    {
      "cell_type": "code",
      "metadata": {
        "colab": {
          "base_uri": "https://localhost:8080/",
          "height": 297
        },
        "id": "FhDQGaMYevW_",
        "outputId": "dafc24e4-9531-4106-9761-4b85043abed1"
      },
      "source": [
        "import seaborn as sns\r\n",
        "new_d = pd.DataFrame({'hypothesis': df.hypothesis, 'lab': df.label})\r\n",
        "cnt = []\r\n",
        "for i in range(len(new_d)):\r\n",
        "  cnt.append(len(new_d['hypothesis'][i].split()))\r\n",
        "new_d['l'] = cnt\r\n",
        "_ = sns.boxplot(x='lab', y= 'l', data=new_d)\r\n",
        "_ = plt.title('Relation between label and words in hypothesis', fontsize=14)\r\n",
        "plt.show()"
      ],
      "execution_count": null,
      "outputs": [
        {
          "output_type": "display_data",
          "data": {
            "image/png": "[encoded data removed]",
            "text/plain": [
              "<Figure size 432x288 with 1 Axes>"
            ]
          },
          "metadata": {
            "tags": [],
            "needs_background": "light"
          }
        }
      ]
    },
    {
      "cell_type": "code",
      "metadata": {
        "colab": {
          "base_uri": "https://localhost:8080/"
        },
        "id": "tFMZftAKfQSQ",
        "outputId": "bcf7bf0a-a9ec-4369-ff6d-9cc875bd918d"
      },
      "source": [
        "print(\"entailment hypothesis mean words:\", new_d[(new_d['lab']=='entailment')].mean())\r\n",
        "print(\"not entailment hypothesis mean words:\", new_d[(new_d['lab']!='entailment')].mean())"
      ],
      "execution_count": null,
      "outputs": [
        {
          "output_type": "stream",
          "text": [
            "entailment hypothesis mean words: l    6.086093\n",
            "dtype: float64\n",
            "not entailment hypothesis mean words: l    5.888624\n",
            "dtype: float64\n"
          ],
          "name": "stdout"
        }
      ]
    },
    {
      "cell_type": "code",
      "metadata": {
        "colab": {
          "base_uri": "https://localhost:8080/",
          "height": 297
        },
        "id": "53MOLBL7ex-N",
        "outputId": "8f2cd426-e400-4dd5-de52-61f67eb322a6"
      },
      "source": [
        "new_p = pd.DataFrame({'premise': df.premise, 'lab': df.label})\r\n",
        "cnt = []\r\n",
        "for i in range(len(new_p)):\r\n",
        "  cnt.append(len(new_p['premise'][i].split()))\r\n",
        "new_p['l'] = cnt\r\n",
        "\r\n",
        "_ = sns.boxplot(x='lab', y= 'l', data=new_p)\r\n",
        "_ = plt.title('Relation between label and words in premise', fontsize=14)\r\n",
        "plt.show()"
      ],
      "execution_count": null,
      "outputs": [
        {
          "output_type": "display_data",
          "data": {
            "image/png": "[encoded data removed]",
            "text/plain": [
              "<Figure size 432x288 with 1 Axes>"
            ]
          },
          "metadata": {
            "tags": [],
            "needs_background": "light"
          }
        }
      ]
    },
    {
      "cell_type": "code",
      "metadata": {
        "colab": {
          "base_uri": "https://localhost:8080/"
        },
        "id": "hx_mPHFygGM1",
        "outputId": "93ef0711-a5b8-4e70-b8a1-bacbd604dece"
      },
      "source": [
        "print(\"entailment premise median words:\", new_p[(new_p['lab']=='entailment')].median())\r\n",
        "print(\"not entailment premise median words:\", new_p[(new_p['lab']!='entailment')].median())"
      ],
      "execution_count": 71,
      "outputs": [
        {
          "output_type": "stream",
          "text": [
            "entailment premise median words: l    32.0\n",
            "dtype: float64\n",
            "not entailment premise median words: l    29.0\n",
            "dtype: float64\n"
          ],
          "name": "stdout"
        }
      ]
    },
    {
      "cell_type": "code",
      "metadata": {
        "colab": {
          "base_uri": "https://localhost:8080/",
          "height": 258
        },
        "id": "RRkFQZkPdBVa",
        "outputId": "1edc7a8a-e756-46eb-9b2d-f88ad82bf32a"
      },
      "source": [
        "df.head()"
      ],
      "execution_count": null,
      "outputs": [
        {
          "output_type": "execute_result",
          "data": {
            "text/html": [
              "<div>\n",
              "<style scoped>\n",
              "    .dataframe tbody tr th:only-of-type {\n",
              "        vertical-align: middle;\n",
              "    }\n",
              "\n",
              "    .dataframe tbody tr th {\n",
              "        vertical-align: top;\n",
              "    }\n",
              "\n",
              "    .dataframe thead th {\n",
              "        text-align: right;\n",
              "    }\n",
              "</style>\n",
              "<table border=\"1\" class=\"dataframe\">\n",
              "  <thead>\n",
              "    <tr style=\"text-align: right;\">\n",
              "      <th></th>\n",
              "      <th>premise</th>\n",
              "      <th>hypothesis</th>\n",
              "      <th>label</th>\n",
              "      <th>idx</th>\n",
              "    </tr>\n",
              "  </thead>\n",
              "  <tbody>\n",
              "    <tr>\n",
              "      <th>0</th>\n",
              "      <td>Женщину доставили в больницу, за ее жизнь сейчас борются врачи.</td>\n",
              "      <td>Женщину спасают врачи.</td>\n",
              "      <td>entailment</td>\n",
              "      <td>0</td>\n",
              "    </tr>\n",
              "    <tr>\n",
              "      <th>1</th>\n",
              "      <td>Он проводит невидимую грань между настоящим и будущим. В эти минуты все мы подводим главные итоги года, вспоминаем самые важные события. В эти мгновения мы с волнением ждем добрых перемен.</td>\n",
              "      <td>В эти минуты все мы подводим друг друга.</td>\n",
              "      <td>not_entailment</td>\n",
              "      <td>1</td>\n",
              "    </tr>\n",
              "    <tr>\n",
              "      <th>2</th>\n",
              "      <td>Мужчина рассказал: детская коляска, принадлежащая его семье, пропала прямо из подъезда. Как выяснили полицейские, коляску украл сосед мужчины. Он был пьян, и ему нужны были деньги.</td>\n",
              "      <td>Сосед часто крадет детские коляски ради денег.</td>\n",
              "      <td>not_entailment</td>\n",
              "      <td>2</td>\n",
              "    </tr>\n",
              "    <tr>\n",
              "      <th>3</th>\n",
              "      <td>Я просто об этом даже не думаю, потому что если кто-то что-то захочет, никуда не спрячешься.</td>\n",
              "      <td>Спрятаться не удастся.</td>\n",
              "      <td>entailment</td>\n",
              "      <td>3</td>\n",
              "    </tr>\n",
              "    <tr>\n",
              "      <th>4</th>\n",
              "      <td>В ходе проверки нашли дома с наледью и сосульками на крышах. Информацию о них передали коммунальщикам. Во избежание несчастных случаев спасатели рекомендуют гражданам быть осторожней, а коммунальщикам – оперативней, при выходе из зданий советуют смотреть на крыши и, по возможности, обходить края зданий.</td>\n",
              "      <td>Все сосульки с крыш были сбиты.</td>\n",
              "      <td>not_entailment</td>\n",
              "      <td>4</td>\n",
              "    </tr>\n",
              "  </tbody>\n",
              "</table>\n",
              "</div>"
            ],
            "text/plain": [
              "                                                                                                                                                                                                                                                                                                            premise  ... idx\n",
              "0                                                                                                                                                                                                                                                   Женщину доставили в больницу, за ее жизнь сейчас борются врачи.  ...   0\n",
              "1                                                                                                                      Он проводит невидимую грань между настоящим и будущим. В эти минуты все мы подводим главные итоги года, вспоминаем самые важные события. В эти мгновения мы с волнением ждем добрых перемен.  ...   1\n",
              "2                                                                                                                              Мужчина рассказал: детская коляска, принадлежащая его семье, пропала прямо из подъезда. Как выяснили полицейские, коляску украл сосед мужчины. Он был пьян, и ему нужны были деньги.  ...   2\n",
              "3                                                                                                                                                                                                                      Я просто об этом даже не думаю, потому что если кто-то что-то захочет, никуда не спрячешься.  ...   3\n",
              "4  В ходе проверки нашли дома с наледью и сосульками на крышах. Информацию о них передали коммунальщикам. Во избежание несчастных случаев спасатели рекомендуют гражданам быть осторожней, а коммунальщикам – оперативней, при выходе из зданий советуют смотреть на крыши и, по возможности, обходить края зданий.  ...   4\n",
              "\n",
              "[5 rows x 4 columns]"
            ]
          },
          "metadata": {
            "tags": []
          },
          "execution_count": 17
        }
      ]
    },
    {
      "cell_type": "markdown",
      "metadata": {
        "id": "HEn2LQjZvBMv"
      },
      "source": [
        "# Entailment (ошибки и странности разметки)"
      ]
    },
    {
      "cell_type": "code",
      "metadata": {
        "colab": {
          "base_uri": "https://localhost:8080/",
          "height": 571
        },
        "id": "sD5Xw3QYvKi6",
        "outputId": "48667433-be46-406c-f741-acd2efaef0f3"
      },
      "source": [
        "df_true = df[(df['label'] == \"entailment\")]\n",
        "df_true.reset_index\n",
        "df_true.iloc[30:40]"
      ],
      "execution_count": null,
      "outputs": [
        {
          "output_type": "execute_result",
          "data": {
            "text/html": [
              "<div>\n",
              "<style scoped>\n",
              "    .dataframe tbody tr th:only-of-type {\n",
              "        vertical-align: middle;\n",
              "    }\n",
              "\n",
              "    .dataframe tbody tr th {\n",
              "        vertical-align: top;\n",
              "    }\n",
              "\n",
              "    .dataframe thead th {\n",
              "        text-align: right;\n",
              "    }\n",
              "</style>\n",
              "<table border=\"1\" class=\"dataframe\">\n",
              "  <thead>\n",
              "    <tr style=\"text-align: right;\">\n",
              "      <th></th>\n",
              "      <th>premise</th>\n",
              "      <th>hypothesis</th>\n",
              "      <th>label</th>\n",
              "      <th>idx</th>\n",
              "    </tr>\n",
              "  </thead>\n",
              "  <tbody>\n",
              "    <tr>\n",
              "      <th>60</th>\n",
              "      <td>«Министерство сегодня вызвало российского посла, чтобы повторить свой протест. Встречи между парламентариями – важная составляющая политических контактов», - приводятся слова главы МИД Бёрге Бренде. Он добавил, что отказ в визах вызывает сожаление, так как визит мог бы способствовать укреплению двусторонних отношений.</td>\n",
              "      <td>Визит мог бы способствовать укреплению двусторонних отношений.</td>\n",
              "      <td>entailment</td>\n",
              "      <td>60</td>\n",
              "    </tr>\n",
              "    <tr>\n",
              "      <th>61</th>\n",
              "      <td>В суде установили, что у ООО «Бежицкие маршрутные такси» есть лицензия и два договора с администрацией на перевозку пассажиров по маршруту «улица Молокова – Бордовичский водозабор», - говорится на сайте арбитражного суда Брянской области.</td>\n",
              "      <td>ООО «Бежицкие маршрутные такси» действует в Брянской области.</td>\n",
              "      <td>entailment</td>\n",
              "      <td>61</td>\n",
              "    </tr>\n",
              "    <tr>\n",
              "      <th>63</th>\n",
              "      <td>\"\"\"Будем участвовать в выборах (главы Химок - ИФ). Мы уже часть документов собрали, через несколько дней подадим на регистрацию и будем собирать подписи\"\", - заявил он \"\"Интерфаксу\"\" в понедельник. По его словам, у него есть несколько идей для предвыборной кампании: \"\"Например, все посты в правительстве будут занимать немцы, потому что наши чиновники все воруют\"\".\"</td>\n",
              "      <td>Предстоят выборы главы Химок.</td>\n",
              "      <td>entailment</td>\n",
              "      <td>63</td>\n",
              "    </tr>\n",
              "    <tr>\n",
              "      <th>64</th>\n",
              "      <td>\"По его мнению, \"\"оргкомитет просто не сможет удержать людей, чтобы не выступить в центре Москвы\"\". По словам Удальцова, предложение провести митинг на Манежной площади не нашло понимания у представителей городской администрации. \"\"Другие варианты мы не стали предлагать, поскольку это привело бы к эскалации конфликта\"\", - сказал он.\"</td>\n",
              "      <td>По словам Удальцова, городская администрация против митинга на Манежной площади.</td>\n",
              "      <td>entailment</td>\n",
              "      <td>64</td>\n",
              "    </tr>\n",
              "    <tr>\n",
              "      <th>65</th>\n",
              "      <td>\"По словам контр-адмирала, судно, имевшее на борту оружие, зашло в территориальные воды Нигерии, не предупредив власти страны и тем самым нарушив местное законодательство. Между тем в Moran Security \"\"Интерфаксу\"\" заявили, что считают задержание корабля необоснованным. \"\"Мы считаем этот арест необоснованным, потому что о заходе судна в порт было известно заранее\"\".\"</td>\n",
              "      <td>Судно задержали.</td>\n",
              "      <td>entailment</td>\n",
              "      <td>65</td>\n",
              "    </tr>\n",
              "    <tr>\n",
              "      <th>66</th>\n",
              "      <td>Лиса забежала на водонапорную станцию «Малиновая гряда», где имела контакт с двумя служебными собаками «Нижегородского водоканала». Лабораторное исследование выявило у лисы бешенство. Из-за этого пришлось усыпить собак, с которыми она имела контакт.</td>\n",
              "      <td>На водонапорной станции лиса заразила собак бешенством.</td>\n",
              "      <td>entailment</td>\n",
              "      <td>66</td>\n",
              "    </tr>\n",
              "    <tr>\n",
              "      <th>68</th>\n",
              "      <td>Конец месяца – время покупать проездные билеты на следующий. С 26 декабря в продажу поступили абонементы на горэлектротранспорт. Правда, пассажирам придется раскошелиться, поскольку с первого января тарифы заметно возрастут.</td>\n",
              "      <td>Абонементы на горэлектротранспорт уже в продаже.</td>\n",
              "      <td>entailment</td>\n",
              "      <td>68</td>\n",
              "    </tr>\n",
              "    <tr>\n",
              "      <th>69</th>\n",
              "      <td>Свои поступки женщина объяснила тем, что муж бросил бы ее, если бы она родила ему много детей. К 2006 г. в семье уже росли два ребенка. Личность осужденной сохранена в тайне, поскольку разглашение этой информации противоречит немецкой системе правосудия.</td>\n",
              "      <td>Муж не любил много детей.</td>\n",
              "      <td>entailment</td>\n",
              "      <td>69</td>\n",
              "    </tr>\n",
              "    <tr>\n",
              "      <th>74</th>\n",
              "      <td>По словам президента, налог один из самых низких в мире. Средства с этого налога поступают в казну и распределяются на социальные нужды. Что касается сборов – я знаю, что происходит, но не знаю этого в деталях.</td>\n",
              "      <td>Средства, собранные с помощью этого налога, идут на социальные нужды.</td>\n",
              "      <td>entailment</td>\n",
              "      <td>74</td>\n",
              "    </tr>\n",
              "    <tr>\n",
              "      <th>75</th>\n",
              "      <td>Ежедневно в плотины поступает всё больше и больше воды, что не может не радовать.</td>\n",
              "      <td>Вчера в плотины поступало не так много воды, как сегодня.</td>\n",
              "      <td>entailment</td>\n",
              "      <td>75</td>\n",
              "    </tr>\n",
              "  </tbody>\n",
              "</table>\n",
              "</div>"
            ],
            "text/plain": [
              "                                                                                                                                                                                                                                                                                                                                                                             premise  ... idx\n",
              "60                                                   «Министерство сегодня вызвало российского посла, чтобы повторить свой протест. Встречи между парламентариями – важная составляющая политических контактов», - приводятся слова главы МИД Бёрге Бренде. Он добавил, что отказ в визах вызывает сожаление, так как визит мог бы способствовать укреплению двусторонних отношений.  ...  60\n",
              "61                                                                                                                                    В суде установили, что у ООО «Бежицкие маршрутные такси» есть лицензия и два договора с администрацией на перевозку пассажиров по маршруту «улица Молокова – Бордовичский водозабор», - говорится на сайте арбитражного суда Брянской области.  ...  61\n",
              "63   \"\"\"Будем участвовать в выборах (главы Химок - ИФ). Мы уже часть документов собрали, через несколько дней подадим на регистрацию и будем собирать подписи\"\", - заявил он \"\"Интерфаксу\"\" в понедельник. По его словам, у него есть несколько идей для предвыборной кампании: \"\"Например, все посты в правительстве будут занимать немцы, потому что наши чиновники все воруют\"\".\"  ...  63\n",
              "64                                   \"По его мнению, \"\"оргкомитет просто не сможет удержать людей, чтобы не выступить в центре Москвы\"\". По словам Удальцова, предложение провести митинг на Манежной площади не нашло понимания у представителей городской администрации. \"\"Другие варианты мы не стали предлагать, поскольку это привело бы к эскалации конфликта\"\", - сказал он.\"  ...  64\n",
              "65  \"По словам контр-адмирала, судно, имевшее на борту оружие, зашло в территориальные воды Нигерии, не предупредив власти страны и тем самым нарушив местное законодательство. Между тем в Moran Security \"\"Интерфаксу\"\" заявили, что считают задержание корабля необоснованным. \"\"Мы считаем этот арест необоснованным, потому что о заходе судна в порт было известно заранее\"\".\"  ...  65\n",
              "66                                                                                                                         Лиса забежала на водонапорную станцию «Малиновая гряда», где имела контакт с двумя служебными собаками «Нижегородского водоканала». Лабораторное исследование выявило у лисы бешенство. Из-за этого пришлось усыпить собак, с которыми она имела контакт.  ...  66\n",
              "68                                                                                                                                                  Конец месяца – время покупать проездные билеты на следующий. С 26 декабря в продажу поступили абонементы на горэлектротранспорт. Правда, пассажирам придется раскошелиться, поскольку с первого января тарифы заметно возрастут.  ...  68\n",
              "69                                                                                                                    Свои поступки женщина объяснила тем, что муж бросил бы ее, если бы она родила ему много детей. К 2006 г. в семье уже росли два ребенка. Личность осужденной сохранена в тайне, поскольку разглашение этой информации противоречит немецкой системе правосудия.  ...  69\n",
              "74                                                                                                                                                                По словам президента, налог один из самых низких в мире. Средства с этого налога поступают в казну и распределяются на социальные нужды. Что касается сборов – я знаю, что происходит, но не знаю этого в деталях.  ...  74\n",
              "75                                                                                                                                                                                                                                                                                                 Ежедневно в плотины поступает всё больше и больше воды, что не может не радовать.  ...  75\n",
              "\n",
              "[10 rows x 4 columns]"
            ]
          },
          "metadata": {
            "tags": []
          },
          "execution_count": 59
        }
      ]
    },
    {
      "cell_type": "code",
      "metadata": {
        "id": "JwDD_3ERsotR"
      },
      "source": [
        "#ошибки\r\n",
        "df.iloc[[]]"
      ],
      "execution_count": null,
      "outputs": []
    },
    {
      "cell_type": "code",
      "metadata": {
        "id": "0GpmbugSs3nA",
        "colab": {
          "base_uri": "https://localhost:8080/",
          "height": 230
        },
        "outputId": "074e7464-4ddd-4a1a-ed59-fc17da76573c"
      },
      "source": [
        "#странности\r\n",
        "df.iloc[[48, 54, 61]]"
      ],
      "execution_count": null,
      "outputs": [
        {
          "output_type": "execute_result",
          "data": {
            "text/html": [
              "<div>\n",
              "<style scoped>\n",
              "    .dataframe tbody tr th:only-of-type {\n",
              "        vertical-align: middle;\n",
              "    }\n",
              "\n",
              "    .dataframe tbody tr th {\n",
              "        vertical-align: top;\n",
              "    }\n",
              "\n",
              "    .dataframe thead th {\n",
              "        text-align: right;\n",
              "    }\n",
              "</style>\n",
              "<table border=\"1\" class=\"dataframe\">\n",
              "  <thead>\n",
              "    <tr style=\"text-align: right;\">\n",
              "      <th></th>\n",
              "      <th>premise</th>\n",
              "      <th>hypothesis</th>\n",
              "      <th>label</th>\n",
              "      <th>idx</th>\n",
              "    </tr>\n",
              "  </thead>\n",
              "  <tbody>\n",
              "    <tr>\n",
              "      <th>48</th>\n",
              "      <td>Там горожане могут купить хвойные деревья и лапник, пишет пресс-служба администрации.</td>\n",
              "      <td>В пресс-службе администрации планируют, что горожане будут покупать там хвойные деревья и лапник.</td>\n",
              "      <td>entailment</td>\n",
              "      <td>48</td>\n",
              "    </tr>\n",
              "    <tr>\n",
              "      <th>54</th>\n",
              "      <td>\"Но в принципе, считаю, нам неизбежно придется когда-то отказываться и от некоторых из проинвестированных проектов. Потому что особенно по высокотехнологичным проектам рано или поздно может возникать очень коварная менеджерская альтернатива. Все понимают, что проект \"\"не пошел\"\", но поскольку в него уже вложены средства, очень страшно назвать кошку - кошкой.\"</td>\n",
              "      <td>\"От \"\"мертвого\"\" проекта трудно отказаться, когда в него уже вложены деньги.\"</td>\n",
              "      <td>entailment</td>\n",
              "      <td>54</td>\n",
              "    </tr>\n",
              "    <tr>\n",
              "      <th>61</th>\n",
              "      <td>В суде установили, что у ООО «Бежицкие маршрутные такси» есть лицензия и два договора с администрацией на перевозку пассажиров по маршруту «улица Молокова – Бордовичский водозабор», - говорится на сайте арбитражного суда Брянской области.</td>\n",
              "      <td>ООО «Бежицкие маршрутные такси» действует в Брянской области.</td>\n",
              "      <td>entailment</td>\n",
              "      <td>61</td>\n",
              "    </tr>\n",
              "  </tbody>\n",
              "</table>\n",
              "</div>"
            ],
            "text/plain": [
              "                                                                                                                                                                                                                                                                                                                                                                      premise  ... idx\n",
              "48                                                                                                                                                                                                                                                                                      Там горожане могут купить хвойные деревья и лапник, пишет пресс-служба администрации.  ...  48\n",
              "54  \"Но в принципе, считаю, нам неизбежно придется когда-то отказываться и от некоторых из проинвестированных проектов. Потому что особенно по высокотехнологичным проектам рано или поздно может возникать очень коварная менеджерская альтернатива. Все понимают, что проект \"\"не пошел\"\", но поскольку в него уже вложены средства, очень страшно назвать кошку - кошкой.\"  ...  54\n",
              "61                                                                                                                             В суде установили, что у ООО «Бежицкие маршрутные такси» есть лицензия и два договора с администрацией на перевозку пассажиров по маршруту «улица Молокова – Бордовичский водозабор», - говорится на сайте арбитражного суда Брянской области.  ...  61\n",
              "\n",
              "[3 rows x 4 columns]"
            ]
          },
          "metadata": {
            "tags": []
          },
          "execution_count": 60
        }
      ]
    },
    {
      "cell_type": "markdown",
      "metadata": {
        "id": "zC_KAI7zNSue"
      },
      "source": [
        "# Not entailment"
      ]
    },
    {
      "cell_type": "code",
      "metadata": {
        "id": "eD-K4mNHRZlC",
        "colab": {
          "base_uri": "https://localhost:8080/",
          "height": 502
        },
        "outputId": "bad5bcfc-2086-4d4a-fe6f-e99f90f9c7a5"
      },
      "source": [
        "df_false = df[(df['label'] == \"not_entailment\")]\n",
        "df_false.reset_index\n",
        "df_false.iloc[:10]"
      ],
      "execution_count": null,
      "outputs": [
        {
          "output_type": "execute_result",
          "data": {
            "text/html": [
              "<div>\n",
              "<style scoped>\n",
              "    .dataframe tbody tr th:only-of-type {\n",
              "        vertical-align: middle;\n",
              "    }\n",
              "\n",
              "    .dataframe tbody tr th {\n",
              "        vertical-align: top;\n",
              "    }\n",
              "\n",
              "    .dataframe thead th {\n",
              "        text-align: right;\n",
              "    }\n",
              "</style>\n",
              "<table border=\"1\" class=\"dataframe\">\n",
              "  <thead>\n",
              "    <tr style=\"text-align: right;\">\n",
              "      <th></th>\n",
              "      <th>premise</th>\n",
              "      <th>hypothesis</th>\n",
              "      <th>label</th>\n",
              "      <th>idx</th>\n",
              "    </tr>\n",
              "  </thead>\n",
              "  <tbody>\n",
              "    <tr>\n",
              "      <th>1</th>\n",
              "      <td>Он проводит невидимую грань между настоящим и будущим. В эти минуты все мы подводим главные итоги года, вспоминаем самые важные события. В эти мгновения мы с волнением ждем добрых перемен.</td>\n",
              "      <td>В эти минуты все мы подводим друг друга.</td>\n",
              "      <td>not_entailment</td>\n",
              "      <td>1</td>\n",
              "    </tr>\n",
              "    <tr>\n",
              "      <th>2</th>\n",
              "      <td>Мужчина рассказал: детская коляска, принадлежащая его семье, пропала прямо из подъезда. Как выяснили полицейские, коляску украл сосед мужчины. Он был пьян, и ему нужны были деньги.</td>\n",
              "      <td>Сосед часто крадет детские коляски ради денег.</td>\n",
              "      <td>not_entailment</td>\n",
              "      <td>2</td>\n",
              "    </tr>\n",
              "    <tr>\n",
              "      <th>4</th>\n",
              "      <td>В ходе проверки нашли дома с наледью и сосульками на крышах. Информацию о них передали коммунальщикам. Во избежание несчастных случаев спасатели рекомендуют гражданам быть осторожней, а коммунальщикам – оперативней, при выходе из зданий советуют смотреть на крыши и, по возможности, обходить края зданий.</td>\n",
              "      <td>Все сосульки с крыш были сбиты.</td>\n",
              "      <td>not_entailment</td>\n",
              "      <td>4</td>\n",
              "    </tr>\n",
              "    <tr>\n",
              "      <th>7</th>\n",
              "      <td>Ходатайство о продлении заявила адвокат задержанной, отметив, что следствием не были предоставлены документы, характеризующие личность задержанной.</td>\n",
              "      <td>Адвокат задержанной отметила отличную работу следствия.</td>\n",
              "      <td>not_entailment</td>\n",
              "      <td>7</td>\n",
              "    </tr>\n",
              "    <tr>\n",
              "      <th>10</th>\n",
              "      <td>Музей, расположенный в Королевских воротах, меняет экспозицию. На смену выставке, рассказывающей об истории ворот и их реставрации, придет «Аптека трех королей». Как рассказали в музее, посетители попадут в традиционный интерьер аптеки.</td>\n",
              "      <td>Музей закроется навсегда.</td>\n",
              "      <td>not_entailment</td>\n",
              "      <td>10</td>\n",
              "    </tr>\n",
              "    <tr>\n",
              "      <th>11</th>\n",
              "      <td>27 декабря в полицию обратилась жительница Димитровграда, которая сообщила, что стала жертвой мошенников. Она рассказала полицейским, что ей позвонил якобы сотрудник банка. Он сообщил, что, поскольку женщина является их постоянным клиентом, ей положена компенсация.</td>\n",
              "      <td>Сотрудник банка пообещал женщине компенсацию.</td>\n",
              "      <td>not_entailment</td>\n",
              "      <td>11</td>\n",
              "    </tr>\n",
              "    <tr>\n",
              "      <th>13</th>\n",
              "      <td>Врачи поставили ей диагноз: «алкогольное опьянение». Данным фактом заинтересовалась областная прокуратура. - В настоящее время проводится проверка, выясняются подробности происшествия, а также при каких обстоятельствах был приобретен алкогольный напиток.</td>\n",
              "      <td>Прокуратура выясняет, кто именно купил алкоголь.</td>\n",
              "      <td>not_entailment</td>\n",
              "      <td>13</td>\n",
              "    </tr>\n",
              "    <tr>\n",
              "      <th>16</th>\n",
              "      <td>\"\"\"Законопроект, безусловно, полезный и крайне своевременный, поскольку блокировать следует не только порнографические сайты, но и ресурсы экстремистской направленности\"\".\"</td>\n",
              "      <td>Блокировать следует и сайты, и ресурсы.</td>\n",
              "      <td>not_entailment</td>\n",
              "      <td>16</td>\n",
              "    </tr>\n",
              "    <tr>\n",
              "      <th>19</th>\n",
              "      <td>Судно прибывает в сочинский порт за 7 часов. В то же время, билет на самолет до Сочи в летнее время стоит 3 тысячи, а время в пути – чуть меньше часа.</td>\n",
              "      <td>Судном до Сочи добираться быстрее.</td>\n",
              "      <td>not_entailment</td>\n",
              "      <td>19</td>\n",
              "    </tr>\n",
              "    <tr>\n",
              "      <th>24</th>\n",
              "      <td>Представитель внешнеполитического ведомства отметил, что злоумышленника задержали местные власти.</td>\n",
              "      <td>Злоумышленник напуган.</td>\n",
              "      <td>not_entailment</td>\n",
              "      <td>24</td>\n",
              "    </tr>\n",
              "  </tbody>\n",
              "</table>\n",
              "</div>"
            ],
            "text/plain": [
              "                                                                                                                                                                                                                                                                                                             premise  ... idx\n",
              "1                                                                                                                       Он проводит невидимую грань между настоящим и будущим. В эти минуты все мы подводим главные итоги года, вспоминаем самые важные события. В эти мгновения мы с волнением ждем добрых перемен.  ...   1\n",
              "2                                                                                                                               Мужчина рассказал: детская коляска, принадлежащая его семье, пропала прямо из подъезда. Как выяснили полицейские, коляску украл сосед мужчины. Он был пьян, и ему нужны были деньги.  ...   2\n",
              "4   В ходе проверки нашли дома с наледью и сосульками на крышах. Информацию о них передали коммунальщикам. Во избежание несчастных случаев спасатели рекомендуют гражданам быть осторожней, а коммунальщикам – оперативней, при выходе из зданий советуют смотреть на крыши и, по возможности, обходить края зданий.  ...   4\n",
              "7                                                                                                                                                                Ходатайство о продлении заявила адвокат задержанной, отметив, что следствием не были предоставлены документы, характеризующие личность задержанной.  ...   7\n",
              "10                                                                      Музей, расположенный в Королевских воротах, меняет экспозицию. На смену выставке, рассказывающей об истории ворот и их реставрации, придет «Аптека трех королей». Как рассказали в музее, посетители попадут в традиционный интерьер аптеки.  ...  10\n",
              "11                                         27 декабря в полицию обратилась жительница Димитровграда, которая сообщила, что стала жертвой мошенников. Она рассказала полицейским, что ей позвонил якобы сотрудник банка. Он сообщил, что, поскольку женщина является их постоянным клиентом, ей положена компенсация.  ...  11\n",
              "13                                                    Врачи поставили ей диагноз: «алкогольное опьянение». Данным фактом заинтересовалась областная прокуратура. - В настоящее время проводится проверка, выясняются подробности происшествия, а также при каких обстоятельствах был приобретен алкогольный напиток.  ...  13\n",
              "16                                                                                                                                      \"\"\"Законопроект, безусловно, полезный и крайне своевременный, поскольку блокировать следует не только порнографические сайты, но и ресурсы экстремистской направленности\"\".\"  ...  16\n",
              "19                                                                                                                                                            Судно прибывает в сочинский порт за 7 часов. В то же время, билет на самолет до Сочи в летнее время стоит 3 тысячи, а время в пути – чуть меньше часа.  ...  19\n",
              "24                                                                                                                                                                                                                 Представитель внешнеполитического ведомства отметил, что злоумышленника задержали местные власти.  ...  24\n",
              "\n",
              "[10 rows x 4 columns]"
            ]
          },
          "metadata": {
            "tags": []
          },
          "execution_count": 25
        }
      ]
    },
    {
      "cell_type": "markdown",
      "metadata": {
        "id": "nqHLUciQahLl"
      },
      "source": [
        "# Step-by-step reproduction with the help of the OG code"
      ]
    },
    {
      "cell_type": "code",
      "metadata": {
        "id": "cH9ICVtFafml"
      },
      "source": [
        "%%bash\r\n",
        "wget -q --show-progress \"https://russiansuperglue.com/tasks/tf_idf\" -O temp.zip\r\n",
        "unzip temp.zip -d data\r\n",
        "rm temp.zip"
      ],
      "execution_count": null,
      "outputs": []
    },
    {
      "cell_type": "code",
      "metadata": {
        "id": "poSPXXlUa4Qn"
      },
      "source": [
        "import codecs\r\n",
        "import json\r\n",
        "from sklearn.linear_model import LogisticRegression\r\n",
        "import pickle\r\n",
        "import joblib\r\n",
        "\r\n",
        "vect = joblib.load(\"data/tfidf.pkl\")\r\n",
        "\r\n",
        "def build_feature_TERRa(row):\r\n",
        "    premise = str(row[\"premise\"]).strip()\r\n",
        "    hypothesis = row[\"hypothesis\"]\r\n",
        "    label = row.get(\"label\")\r\n",
        "    res = f\"{premise} {hypothesis}\"\r\n",
        "    return res, label\r\n",
        "\r\n",
        "\r\n",
        "def build_features_TERRa(path, vect):\r\n",
        "    with codecs.open(path, encoding='utf-8-sig') as reader:\r\n",
        "        lines = reader.read().split(\"\\n\")\r\n",
        "        lines = list(map(json.loads, filter(None, lines)))\r\n",
        "    res = list(map(build_feature_TERRa, lines))\r\n",
        "    texts = list(map(lambda x: x[0], res))\r\n",
        "    labels = list(map(lambda x: x[1], res))\r\n",
        "    ids = [x[\"idx\"] for x in lines]\r\n",
        "    return (vect.transform(texts), labels), ids\r\n",
        "\r\n",
        "\r\n",
        "def fit_TERRa(train, labels):\r\n",
        "    clf = LogisticRegression()\r\n",
        "    return clf.fit(train, labels)\r\n",
        "\r\n",
        "\r\n",
        "def eval_TERRa(train_path, val_path, test_path, vect):\r\n",
        "    train, _ = build_features_TERRa(train_path, vect)\r\n",
        "    val, _ = build_features_TERRa(val_path, vect)\r\n",
        "    test, ids = build_features_TERRa(test_path, vect)\r\n",
        "    clf = fit_TERRa(*train)\r\n",
        "    try:\r\n",
        "        test_score = clf.score(*test)\r\n",
        "    except ValueError:\r\n",
        "        test_score = None\r\n",
        "    test_pred = clf.predict(test[0])\r\n",
        "    return clf, {\r\n",
        "        \"train\": clf.score(*train),\r\n",
        "        \"val\": clf.score(*val),\r\n",
        "        \"test\": test_score,\r\n",
        "        \"test_pred\": [{\"idx\": idx, \"label\": str(label)} for idx, label in zip(ids, test_pred)]\r\n",
        "    }"
      ],
      "execution_count": null,
      "outputs": []
    },
    {
      "cell_type": "code",
      "metadata": {
        "id": "AhLuJNfvbFRu"
      },
      "source": [
        "train_path = \"data/TERRa/train.jsonl\"\r\n",
        "val_path = \"data/TERRa/val.jsonl\"\r\n",
        "test_path = \"data/TERRa/test.jsonl\"\r\n",
        "\r\n",
        "_, TERRa_scores = eval_TERRa(train_path, val_path, test_path, vect)"
      ],
      "execution_count": null,
      "outputs": []
    },
    {
      "cell_type": "code",
      "metadata": {
        "colab": {
          "base_uri": "https://localhost:8080/"
        },
        "id": "P0fBa06YbPqT",
        "outputId": "e66c3544-ab4f-458d-fc72-added1a56690"
      },
      "source": [
        "TERRa_scores[\"train\"], TERRa_scores[\"val\"]"
      ],
      "execution_count": null,
      "outputs": [
        {
          "output_type": "execute_result",
          "data": {
            "text/plain": [
              "(0.7152140672782875, 0.46579804560260585)"
            ]
          },
          "metadata": {
            "tags": []
          },
          "execution_count": 65
        }
      ]
    },
    {
      "cell_type": "code",
      "metadata": {
        "id": "cp2e2rZqbTxm"
      },
      "source": [
        "train, _ = build_features_TERRa(train_path, vect)\r\n",
        "val, _ = build_features_TERRa(val_path, vect)"
      ],
      "execution_count": null,
      "outputs": []
    },
    {
      "cell_type": "code",
      "metadata": {
        "colab": {
          "base_uri": "https://localhost:8080/"
        },
        "id": "nVy9U09LbY3e",
        "outputId": "5e9e5433-6d5d-4008-d199-6ca79118ee66"
      },
      "source": [
        "clf = fit_TERRa(*train)\r\n",
        "y_din = clf.predict(val[0])\r\n",
        "print(\"Accuracy: {}\".format(clf.score(*val)))\r\n",
        "print(classification_report(val[1], y_din))"
      ],
      "execution_count": null,
      "outputs": [
        {
          "output_type": "stream",
          "text": [
            "Accuracy: 0.46579804560260585\n",
            "                precision    recall  f1-score   support\n",
            "\n",
            "    entailment       0.47      0.50      0.48       153\n",
            "not_entailment       0.46      0.43      0.45       154\n",
            "\n",
            "      accuracy                           0.47       307\n",
            "     macro avg       0.47      0.47      0.47       307\n",
            "  weighted avg       0.47      0.47      0.47       307\n",
            "\n"
          ],
          "name": "stdout"
        }
      ]
    }
  ]
}