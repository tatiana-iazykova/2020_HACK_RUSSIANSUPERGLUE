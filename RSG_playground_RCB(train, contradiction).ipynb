{
  "nbformat": 4,
  "nbformat_minor": 0,
  "metadata": {
    "colab": {
      "name": "RSG_playground.ipynb",
      "provenance": [],
      "collapsed_sections": [],
      "toc_visible": true
    },
    "kernelspec": {
      "name": "python3",
      "display_name": "Python 3"
    }
  },
  "cells": [
    {
      "cell_type": "markdown",
      "metadata": {
        "id": "Q4GGQ1Z8dNDq"
      },
      "source": [
        "**The code cells below is to download a dataset into Colab directly.** Skip if irrelevant"
      ]
    },
    {
      "cell_type": "code",
      "metadata": {
        "id": "RsL57-5kTLgJ",
        "outputId": "298acbc4-bb7b-470a-eb46-bc006cdc14b6",
        "colab": {
          "base_uri": "https://localhost:8080/"
        }
      },
      "source": [
        "%%bash\n",
        "# change url if you want to work with a different RSG dataset\n",
        "wget -q --show-progress \"https://russiansuperglue.com/tasks/download/RCB\" -O temp.zip\n",
        "unzip temp.zip -d data\n",
        "\n",
        "# remove unnecessary directories and files\n",
        "rm temp.zip\n",
        "rm -r data/__MACOSX\n",
        "rm -r sample_data/"
      ],
      "execution_count": 1,
      "outputs": [
        {
          "output_type": "stream",
          "text": [
            "Archive:  temp.zip\n",
            "   creating: data/RCB/\n",
            "  inflating: data/RCB/train.jsonl    \n",
            "   creating: data/__MACOSX/\n",
            "   creating: data/__MACOSX/RCB/\n",
            "  inflating: data/__MACOSX/RCB/._train.jsonl  \n",
            "  inflating: data/RCB/.DS_Store      \n",
            "  inflating: data/__MACOSX/RCB/._.DS_Store  \n",
            "  inflating: data/RCB/test.jsonl     \n",
            "  inflating: data/__MACOSX/RCB/._test.jsonl  \n",
            "  inflating: data/RCB/val.jsonl      \n",
            "  inflating: data/__MACOSX/RCB/._val.jsonl  \n",
            "  inflating: data/__MACOSX/._RCB     \n"
          ],
          "name": "stdout"
        },
        {
          "output_type": "stream",
          "text": [
            "\n",
            "     0K .......... .......... .......... .......... .......... 37%  369K 0s\n",
            "    50K .......... .......... .......... .......... .......... 74%  370K 0s\n",
            "   100K .......... .......... .......... ...                  100%  179M=0.3s"
          ],
          "name": "stderr"
        }
      ]
    },
    {
      "cell_type": "markdown",
      "metadata": {
        "id": "uD4auz_Nt9qR"
      },
      "source": [
        "Fancy way to display content of the dataset directory"
      ]
    },
    {
      "cell_type": "code",
      "metadata": {
        "id": "Wh_Pi5TXfVBI",
        "outputId": "2de23a27-67c5-4026-968c-1b17875fcb60",
        "colab": {
          "base_uri": "https://localhost:8080/"
        }
      },
      "source": [
        "%%bash\n",
        "# add tree package for fancy directory display\n",
        "apt-get install tree"
      ],
      "execution_count": 2,
      "outputs": [
        {
          "output_type": "stream",
          "text": [
            "Reading package lists...\n",
            "Building dependency tree...\n",
            "Reading state information...\n",
            "The following NEW packages will be installed:\n",
            "  tree\n",
            "0 upgraded, 1 newly installed, 0 to remove and 14 not upgraded.\n",
            "Need to get 40.7 kB of archives.\n",
            "After this operation, 105 kB of additional disk space will be used.\n",
            "Get:1 http://archive.ubuntu.com/ubuntu bionic/universe amd64 tree amd64 1.7.0-5 [40.7 kB]\n",
            "Fetched 40.7 kB in 0s (119 kB/s)\n",
            "Selecting previously unselected package tree.\r\n",
            "(Reading database ... \r(Reading database ... 5%\r(Reading database ... 10%\r(Reading database ... 15%\r(Reading database ... 20%\r(Reading database ... 25%\r(Reading database ... 30%\r(Reading database ... 35%\r(Reading database ... 40%\r(Reading database ... 45%\r(Reading database ... 50%\r(Reading database ... 55%\r(Reading database ... 60%\r(Reading database ... 65%\r(Reading database ... 70%\r(Reading database ... 75%\r(Reading database ... 80%\r(Reading database ... 85%\r(Reading database ... 90%\r(Reading database ... 95%\r(Reading database ... 100%\r(Reading database ... 144793 files and directories currently installed.)\r\n",
            "Preparing to unpack .../tree_1.7.0-5_amd64.deb ...\r\n",
            "Unpacking tree (1.7.0-5) ...\r\n",
            "Setting up tree (1.7.0-5) ...\r\n",
            "Processing triggers for man-db (2.8.3-2ubuntu0.1) ...\r\n"
          ],
          "name": "stdout"
        }
      ]
    },
    {
      "cell_type": "code",
      "metadata": {
        "colab": {
          "base_uri": "https://localhost:8080/"
        },
        "id": "87zEZXR_xzmF",
        "outputId": "ceb05172-0b6a-4cdc-ae68-2dc56ef1e09c"
      },
      "source": [
        "# display the content of the folder\n",
        "!tree"
      ],
      "execution_count": 3,
      "outputs": [
        {
          "output_type": "stream",
          "text": [
            ".\n",
            "└── data\n",
            "    └── RCB\n",
            "        ├── test.jsonl\n",
            "        ├── train.jsonl\n",
            "        └── val.jsonl\n",
            "\n",
            "2 directories, 3 files\n"
          ],
          "name": "stdout"
        }
      ]
    },
    {
      "cell_type": "markdown",
      "metadata": {
        "id": "ZxDAiS8Ox8Py"
      },
      "source": [
        "### **Start playing here**"
      ]
    },
    {
      "cell_type": "code",
      "metadata": {
        "id": "C0cqhlXaXbwj"
      },
      "source": [
        "import pandas as pd\n",
        "pd.set_option('display.max_colwidth', 1000)\n",
        "\n",
        "class JSONL_handler():\n",
        "    \"\"\" opens a jsonl file and turns it into a necessary data structure \"\"\"\n",
        "    \n",
        "    def __init__(self, path):\n",
        "        self.path = path # path to jsonl file\n",
        "\n",
        "    def to_pandas(self):\n",
        "        \"\"\" get jsonl file content as a pandas DataFrame\"\"\"\n",
        "        return pd.read_json(path_or_buf=self.path, lines=True)"
      ],
      "execution_count": 4,
      "outputs": []
    },
    {
      "cell_type": "code",
      "metadata": {
        "id": "_NRSjltfYcjT"
      },
      "source": [
        "handler = JSONL_handler('data/RCB/train.jsonl')\n",
        "df = handler.to_pandas()"
      ],
      "execution_count": 5,
      "outputs": []
    },
    {
      "cell_type": "markdown",
      "metadata": {
        "id": "sQU6l2URwmqZ"
      },
      "source": [
        "[Pandas cheat sheet](https://github.com/pandas-dev/pandas/blob/master/doc/cheatsheet/Pandas_Cheat_Sheet.pdf?platform=hootsuite) for reference\n"
      ]
    },
    {
      "cell_type": "code",
      "metadata": {
        "colab": {
          "base_uri": "https://localhost:8080/",
          "height": 342
        },
        "id": "U4cXPz50xbtp",
        "outputId": "a80dd410-049b-41a5-e5e3-f8e37a4f3792"
      },
      "source": [
        "df.head(6)"
      ],
      "execution_count": 6,
      "outputs": [
        {
          "output_type": "execute_result",
          "data": {
            "text/html": [
              "<div>\n",
              "<style scoped>\n",
              "    .dataframe tbody tr th:only-of-type {\n",
              "        vertical-align: middle;\n",
              "    }\n",
              "\n",
              "    .dataframe tbody tr th {\n",
              "        vertical-align: top;\n",
              "    }\n",
              "\n",
              "    .dataframe thead th {\n",
              "        text-align: right;\n",
              "    }\n",
              "</style>\n",
              "<table border=\"1\" class=\"dataframe\">\n",
              "  <thead>\n",
              "    <tr style=\"text-align: right;\">\n",
              "      <th></th>\n",
              "      <th>premise</th>\n",
              "      <th>label</th>\n",
              "      <th>hypothesis</th>\n",
              "      <th>verb</th>\n",
              "      <th>negation</th>\n",
              "      <th>genre</th>\n",
              "      <th>idx</th>\n",
              "      <th>no_negation</th>\n",
              "    </tr>\n",
              "  </thead>\n",
              "  <tbody>\n",
              "    <tr>\n",
              "      <th>0</th>\n",
              "      <td>Сумма ущерба составила одну тысячу рублей. Уточняется, что на место происшествия выехала следственная группа, которая установила личность злоумышленника. Им оказался местный житель, ранее судимый за подобное правонарушение.</td>\n",
              "      <td>entailment</td>\n",
              "      <td>Ранее местный житель совершал подобное правонарушение.</td>\n",
              "      <td>судить</td>\n",
              "      <td>no_negation</td>\n",
              "      <td>kp</td>\n",
              "      <td>0</td>\n",
              "      <td>NaN</td>\n",
              "    </tr>\n",
              "    <tr>\n",
              "      <th>1</th>\n",
              "      <td>Перебрасываясь словечками, они скользят глазами по моему городу. Как они смеют смотреть, будто что-то понимают?</td>\n",
              "      <td>contradiction</td>\n",
              "      <td>Они что-то понимают</td>\n",
              "      <td>смотреть</td>\n",
              "      <td>no_negation</td>\n",
              "      <td>fiction</td>\n",
              "      <td>1</td>\n",
              "      <td>NaN</td>\n",
              "    </tr>\n",
              "    <tr>\n",
              "      <th>2</th>\n",
              "      <td>— Разве что, — сказала она, — мы хотим где-нибудь выпить кофе. — Мне кажется, — сказал он, — что мы хотим. На следующей Он успел встать на эскалатор, когда понял, что это “Таганская”, а не “Тульская”.</td>\n",
              "      <td>neutral</td>\n",
              "      <td>Это “ Таганская ”, а не “ Тульская ”.</td>\n",
              "      <td>понять</td>\n",
              "      <td>no_negation</td>\n",
              "      <td>fiction</td>\n",
              "      <td>2</td>\n",
              "      <td>NaN</td>\n",
              "    </tr>\n",
              "    <tr>\n",
              "      <th>3</th>\n",
              "      <td>Зима, наконец, показала свой характер.</td>\n",
              "      <td>contradiction</td>\n",
              "      <td>У зимы есть свой характер.</td>\n",
              "      <td>показать</td>\n",
              "      <td>no_negation</td>\n",
              "      <td>kp</td>\n",
              "      <td>3</td>\n",
              "      <td>NaN</td>\n",
              "    </tr>\n",
              "    <tr>\n",
              "      <th>4</th>\n",
              "      <td>ГуманностьБогаподобнымсценариемнепредполагается. Но Его благость остается в неприкосновенности. Непросто жить в таком мире, но кто сказал, что это должно быть просто?</td>\n",
              "      <td>contradiction</td>\n",
              "      <td>Это должно быть просто.</td>\n",
              "      <td>сказать</td>\n",
              "      <td>no_negation</td>\n",
              "      <td>fiction</td>\n",
              "      <td>4</td>\n",
              "      <td>NaN</td>\n",
              "    </tr>\n",
              "    <tr>\n",
              "      <th>5</th>\n",
              "      <td>Для мамы праздник был как обычный день. Она кормила людей. Весеннее небо обещало счастье, но мать не верила ему.</td>\n",
              "      <td>neutral</td>\n",
              "      <td>Небо обещает счастье.</td>\n",
              "      <td>верить</td>\n",
              "      <td>negation</td>\n",
              "      <td>fiction</td>\n",
              "      <td>5</td>\n",
              "      <td>NaN</td>\n",
              "    </tr>\n",
              "  </tbody>\n",
              "</table>\n",
              "</div>"
            ],
            "text/plain": [
              "                                                                                                                                                                                                                           premise  ... no_negation\n",
              "0  Сумма ущерба составила одну тысячу рублей. Уточняется, что на место происшествия выехала следственная группа, которая установила личность злоумышленника. Им оказался местный житель, ранее судимый за подобное правонарушение.  ...         NaN\n",
              "1                                                                                                                  Перебрасываясь словечками, они скользят глазами по моему городу. Как они смеют смотреть, будто что-то понимают?  ...         NaN\n",
              "2                         — Разве что, — сказала она, — мы хотим где-нибудь выпить кофе. — Мне кажется, — сказал он, — что мы хотим. На следующей Он успел встать на эскалатор, когда понял, что это “Таганская”, а не “Тульская”.  ...         NaN\n",
              "3                                                                                                                                                                                           Зима, наконец, показала свой характер.  ...         NaN\n",
              "4                                                           ГуманностьБогаподобнымсценариемнепредполагается. Но Его благость остается в неприкосновенности. Непросто жить в таком мире, но кто сказал, что это должно быть просто?  ...         NaN\n",
              "5                                                                                                                 Для мамы праздник был как обычный день. Она кормила людей. Весеннее небо обещало счастье, но мать не верила ему.  ...         NaN\n",
              "\n",
              "[6 rows x 8 columns]"
            ]
          },
          "metadata": {
            "tags": []
          },
          "execution_count": 6
        }
      ]
    },
    {
      "cell_type": "code",
      "metadata": {
        "id": "eD-K4mNHRZlC",
        "outputId": "ec50baf2-296d-45e7-ff54-cd8c5e3812bc",
        "colab": {
          "base_uri": "https://localhost:8080/",
          "height": 276
        }
      },
      "source": [
        "df_contr = df[(df['label']== 'contradiction')]\n",
        "df_contr.reset_index\n",
        "df_contr.head()"
      ],
      "execution_count": 7,
      "outputs": [
        {
          "output_type": "execute_result",
          "data": {
            "text/html": [
              "<div>\n",
              "<style scoped>\n",
              "    .dataframe tbody tr th:only-of-type {\n",
              "        vertical-align: middle;\n",
              "    }\n",
              "\n",
              "    .dataframe tbody tr th {\n",
              "        vertical-align: top;\n",
              "    }\n",
              "\n",
              "    .dataframe thead th {\n",
              "        text-align: right;\n",
              "    }\n",
              "</style>\n",
              "<table border=\"1\" class=\"dataframe\">\n",
              "  <thead>\n",
              "    <tr style=\"text-align: right;\">\n",
              "      <th></th>\n",
              "      <th>premise</th>\n",
              "      <th>label</th>\n",
              "      <th>hypothesis</th>\n",
              "      <th>verb</th>\n",
              "      <th>negation</th>\n",
              "      <th>genre</th>\n",
              "      <th>idx</th>\n",
              "      <th>no_negation</th>\n",
              "    </tr>\n",
              "  </thead>\n",
              "  <tbody>\n",
              "    <tr>\n",
              "      <th>1</th>\n",
              "      <td>Перебрасываясь словечками, они скользят глазами по моему городу. Как они смеют смотреть, будто что-то понимают?</td>\n",
              "      <td>contradiction</td>\n",
              "      <td>Они что-то понимают</td>\n",
              "      <td>смотреть</td>\n",
              "      <td>no_negation</td>\n",
              "      <td>fiction</td>\n",
              "      <td>1</td>\n",
              "      <td>NaN</td>\n",
              "    </tr>\n",
              "    <tr>\n",
              "      <th>3</th>\n",
              "      <td>Зима, наконец, показала свой характер.</td>\n",
              "      <td>contradiction</td>\n",
              "      <td>У зимы есть свой характер.</td>\n",
              "      <td>показать</td>\n",
              "      <td>no_negation</td>\n",
              "      <td>kp</td>\n",
              "      <td>3</td>\n",
              "      <td>NaN</td>\n",
              "    </tr>\n",
              "    <tr>\n",
              "      <th>4</th>\n",
              "      <td>ГуманностьБогаподобнымсценариемнепредполагается. Но Его благость остается в неприкосновенности. Непросто жить в таком мире, но кто сказал, что это должно быть просто?</td>\n",
              "      <td>contradiction</td>\n",
              "      <td>Это должно быть просто.</td>\n",
              "      <td>сказать</td>\n",
              "      <td>no_negation</td>\n",
              "      <td>fiction</td>\n",
              "      <td>4</td>\n",
              "      <td>NaN</td>\n",
              "    </tr>\n",
              "    <tr>\n",
              "      <th>9</th>\n",
              "      <td>Обеспокоилась судьбой серебряных ложек, которые лежали у рабочих, как говорится, на виду. Вдруг украдут! Стала убирать. В ответ мама со словами: “Да как ты смеешь так думать, дрянь! Это же РАБОЧИЕ, понимаешь, РАБОЧИЕ!!</td>\n",
              "      <td>contradiction</td>\n",
              "      <td>Рабочие украдут ложки.</td>\n",
              "      <td>думать</td>\n",
              "      <td>no_negation</td>\n",
              "      <td>fiction</td>\n",
              "      <td>9</td>\n",
              "      <td>NaN</td>\n",
              "    </tr>\n",
              "    <tr>\n",
              "      <th>14</th>\n",
              "      <td>Вопрос качества работы орловских библиотек на днях обсудили в Правительстве Орловской области.</td>\n",
              "      <td>contradiction</td>\n",
              "      <td>Орловские библиотеки работают качественно.</td>\n",
              "      <td>обсудить</td>\n",
              "      <td>no_negation</td>\n",
              "      <td>kp</td>\n",
              "      <td>14</td>\n",
              "      <td>NaN</td>\n",
              "    </tr>\n",
              "  </tbody>\n",
              "</table>\n",
              "</div>"
            ],
            "text/plain": [
              "                                                                                                                                                                                                                       premise  ... no_negation\n",
              "1                                                                                                              Перебрасываясь словечками, они скользят глазами по моему городу. Как они смеют смотреть, будто что-то понимают?  ...         NaN\n",
              "3                                                                                                                                                                                       Зима, наконец, показала свой характер.  ...         NaN\n",
              "4                                                       ГуманностьБогаподобнымсценариемнепредполагается. Но Его благость остается в неприкосновенности. Непросто жить в таком мире, но кто сказал, что это должно быть просто?  ...         NaN\n",
              "9   Обеспокоилась судьбой серебряных ложек, которые лежали у рабочих, как говорится, на виду. Вдруг украдут! Стала убирать. В ответ мама со словами: “Да как ты смеешь так думать, дрянь! Это же РАБОЧИЕ, понимаешь, РАБОЧИЕ!!  ...         NaN\n",
              "14                                                                                                                              Вопрос качества работы орловских библиотек на днях обсудили в Правительстве Орловской области.  ...         NaN\n",
              "\n",
              "[5 rows x 8 columns]"
            ]
          },
          "metadata": {
            "tags": []
          },
          "execution_count": 7
        }
      ]
    },
    {
      "cell_type": "markdown",
      "metadata": {
        "id": "7qmb_ja0RgAB"
      },
      "source": [
        "Выражения, которые могут служить индикаторами лэйбла contradiction: будто, ?, вдруг, вопрос, подозрева(е|ю)т, требовал, показал(а|и)сь, кажется/казаться, хотим, не, возможно, смеешь, хотя, разве, предполагал(а)?, думае(шь|те), считали, подумали, обман(ываться)*, нужно, а, заблуждаться, но \n",
        "\n",
        "Странные сегменты 162, 164\n",
        "Не понятно, как рассматривать метафоры.\n",
        "Сегменты 181, 186, 223, 337, 425 амбивалентны. Они одновременно и подходят, и не подходят к тексту."
      ]
    },
    {
      "cell_type": "code",
      "metadata": {
        "id": "k9oQwYjDSTuC",
        "outputId": "981f7257-b180-408a-a156-caa481b82164",
        "colab": {
          "base_uri": "https://localhost:8080/",
          "height": 801
        }
      },
      "source": [
        "#272, 280, 290, 303, 442 - возможно все же не contradiction\n",
        "df.iloc[[27, 34, 66, 67, 68, 105, 138, 139, 187, 236, 243, 273, 302, 395]]"
      ],
      "execution_count": 8,
      "outputs": [
        {
          "output_type": "execute_result",
          "data": {
            "text/html": [
              "<div>\n",
              "<style scoped>\n",
              "    .dataframe tbody tr th:only-of-type {\n",
              "        vertical-align: middle;\n",
              "    }\n",
              "\n",
              "    .dataframe tbody tr th {\n",
              "        vertical-align: top;\n",
              "    }\n",
              "\n",
              "    .dataframe thead th {\n",
              "        text-align: right;\n",
              "    }\n",
              "</style>\n",
              "<table border=\"1\" class=\"dataframe\">\n",
              "  <thead>\n",
              "    <tr style=\"text-align: right;\">\n",
              "      <th></th>\n",
              "      <th>premise</th>\n",
              "      <th>label</th>\n",
              "      <th>hypothesis</th>\n",
              "      <th>verb</th>\n",
              "      <th>negation</th>\n",
              "      <th>genre</th>\n",
              "      <th>idx</th>\n",
              "      <th>no_negation</th>\n",
              "    </tr>\n",
              "  </thead>\n",
              "  <tbody>\n",
              "    <tr>\n",
              "      <th>27</th>\n",
              "      <td>Не гневается на тех, кто, не останавливаясь, проходит мимо. Но сам он остро, пронзительно сострадает несчастному. И — заставляет задуматься, осознать, как хрупка и уязвима наша душа, как неповторимо единственна человеческая жизнь.</td>\n",
              "      <td>contradiction</td>\n",
              "      <td>Хрупка и уязвима наша душа, неповторимо единственна человеческая жизнь.</td>\n",
              "      <td>осознать</td>\n",
              "      <td>no_negation</td>\n",
              "      <td>fiction</td>\n",
              "      <td>27</td>\n",
              "      <td>NaN</td>\n",
              "    </tr>\n",
              "    <tr>\n",
              "      <th>34</th>\n",
              "      <td>Как я матерюсь, так она врет. Ловлена с поличным неоднократно, принципов своих не предавала, продолжала врать и обижаться, что ей не верят. Свято помня отцовский завет “Наказывают не за преступление, а за то, что попался”, никогда ни в чем не признается.</td>\n",
              "      <td>contradiction</td>\n",
              "      <td>Ей не верят.</td>\n",
              "      <td>обижаться</td>\n",
              "      <td>no_negation</td>\n",
              "      <td>fiction</td>\n",
              "      <td>34</td>\n",
              "      <td>NaN</td>\n",
              "    </tr>\n",
              "    <tr>\n",
              "      <th>66</th>\n",
              "      <td>Тогда как собственная смерть не значит ничего. И вы благодарны вашему убийце за то, что он не брезгует подойти вплотную. Все так изложено - я бы сказал, даже чересчур ясно.</td>\n",
              "      <td>contradiction</td>\n",
              "      <td>Это изложено даже чересчур ясно.</td>\n",
              "      <td>сказать</td>\n",
              "      <td>no_negation</td>\n",
              "      <td>fiction</td>\n",
              "      <td>66</td>\n",
              "      <td>NaN</td>\n",
              "    </tr>\n",
              "    <tr>\n",
              "      <th>67</th>\n",
              "      <td>Все вернулось на круги своя. Но во мне многое изменилось. Теперь я спокойно, даже отстраненно оглядывалась на себя прежнюю и не понимала, зачем так долго обманывала себя.</td>\n",
              "      <td>contradiction</td>\n",
              "      <td>Я долго обманывала себя.</td>\n",
              "      <td>понимать</td>\n",
              "      <td>negation</td>\n",
              "      <td>fiction</td>\n",
              "      <td>67</td>\n",
              "      <td>NaN</td>\n",
              "    </tr>\n",
              "    <tr>\n",
              "      <th>68</th>\n",
              "      <td>Но этого хватило, чтобы скульптура получилась внушительного размера. Длина палубы крейсера - шесть метров. Не забыли и раскрасить для большего сходства с оригиналом.</td>\n",
              "      <td>contradiction</td>\n",
              "      <td>Скульптура была раскрашена.</td>\n",
              "      <td>забыть</td>\n",
              "      <td>negation</td>\n",
              "      <td>kp</td>\n",
              "      <td>68</td>\n",
              "      <td>NaN</td>\n",
              "    </tr>\n",
              "    <tr>\n",
              "      <th>105</th>\n",
              "      <td>Настоящий друг. Выручил меня с оркестром. Не забуду.</td>\n",
              "      <td>contradiction</td>\n",
              "      <td>Друг меня выручил.</td>\n",
              "      <td>забыть</td>\n",
              "      <td>negation</td>\n",
              "      <td>fiction</td>\n",
              "      <td>105</td>\n",
              "      <td>NaN</td>\n",
              "    </tr>\n",
              "    <tr>\n",
              "      <th>138</th>\n",
              "      <td>Воспитывать, дорогие мои, надо на подвиге, на героизме. А этого бы хоть подстригли. Слышите, товарищ, я вам говорю, как там ваша фамилия,— неприлично мужчине ходить с такими волосами.</td>\n",
              "      <td>contradiction</td>\n",
              "      <td>Неприлично мужчине ходить с такими волосами.</td>\n",
              "      <td>говорить</td>\n",
              "      <td>no_negation</td>\n",
              "      <td>fiction</td>\n",
              "      <td>138</td>\n",
              "      <td>NaN</td>\n",
              "    </tr>\n",
              "    <tr>\n",
              "      <th>139</th>\n",
              "      <td>Дополнительные меры безопасности будут приняты на время новогодних и рождественских праздников.</td>\n",
              "      <td>contradiction</td>\n",
              "      <td>Во время новогодних и рождественских праздников будет безопаснее.</td>\n",
              "      <td>принять</td>\n",
              "      <td>no_negation</td>\n",
              "      <td>kp</td>\n",
              "      <td>139</td>\n",
              "      <td>NaN</td>\n",
              "    </tr>\n",
              "    <tr>\n",
              "      <th>187</th>\n",
              "      <td>Мужчина пытался сбежать с места и даже кинулся на сотрудников полиции с желанием помахать кулаками. Агрессивного нарушителя скрутили, посадили в машину и отвезли в ближайший участок. Проверка на трезвость показала, что водитель был в состоянии алкогольного опьянения.</td>\n",
              "      <td>contradiction</td>\n",
              "      <td>Водитель был в состоянии алкогольного опьянения.</td>\n",
              "      <td>показать</td>\n",
              "      <td>no_negation</td>\n",
              "      <td>kp</td>\n",
              "      <td>187</td>\n",
              "      <td>NaN</td>\n",
              "    </tr>\n",
              "    <tr>\n",
              "      <th>236</th>\n",
              "      <td>Наконец раздался голос. Мужской и смутно знакомый. Голос, запинаясь, медленно, как бы сомневаясь, что его услышат и поймут, произносил: – Добрый день.</td>\n",
              "      <td>contradiction</td>\n",
              "      <td>Его услышат.</td>\n",
              "      <td>сомневаться</td>\n",
              "      <td>no_negation</td>\n",
              "      <td>fiction</td>\n",
              "      <td>236</td>\n",
              "      <td>NaN</td>\n",
              "    </tr>\n",
              "    <tr>\n",
              "      <th>243</th>\n",
              "      <td>Вот только студентам факультета – большинству – места не нашлось. Особенно тем, кто хотел как раз пообщаться. - Я не приму у Вас куртку! - Почему? Я же учусь здесь. - Сказали, чтобы с часу дня гардероб не выдавал студентам номерков, крючки для гостей бережем!</td>\n",
              "      <td>contradiction</td>\n",
              "      <td>С часу дня гардероб не выдавал студентам номерков, крючки берегли для гостей.</td>\n",
              "      <td>сказать</td>\n",
              "      <td>no_negation</td>\n",
              "      <td>interfax</td>\n",
              "      <td>243</td>\n",
              "      <td>NaN</td>\n",
              "    </tr>\n",
              "    <tr>\n",
              "      <th>273</th>\n",
              "      <td>За какую партию «проголосовала» женщина, не уточняется. Результаты выборов на участке были признаны недействительными. Обвиняемая свою вину признала полностью.</td>\n",
              "      <td>contradiction</td>\n",
              "      <td>Женщина «проголосовала» за какую-то партию.</td>\n",
              "      <td>уточнить</td>\n",
              "      <td>negation</td>\n",
              "      <td>kp</td>\n",
              "      <td>273</td>\n",
              "      <td>NaN</td>\n",
              "    </tr>\n",
              "    <tr>\n",
              "      <th>302</th>\n",
              "      <td>“Ну как ты могла забыть? Ты помнишь вообще, что я жив? Сигареты свои (не говоря уж о прочем) не забываешь купить”?</td>\n",
              "      <td>contradiction</td>\n",
              "      <td>Я жив.</td>\n",
              "      <td>помнить</td>\n",
              "      <td>no_negation</td>\n",
              "      <td>fiction</td>\n",
              "      <td>302</td>\n",
              "      <td>NaN</td>\n",
              "    </tr>\n",
              "    <tr>\n",
              "      <th>395</th>\n",
              "      <td>Мы оглянулись, я увидел просунувшуюся голову кузнеца. Он сказал: — Готово! Просили в миг, как закончу мечи править, сказать, вижу, не спите.</td>\n",
              "      <td>contradiction</td>\n",
              "      <td>Кузнец закончил править мечи.</td>\n",
              "      <td>сказать</td>\n",
              "      <td>no_negation</td>\n",
              "      <td>fiction</td>\n",
              "      <td>395</td>\n",
              "      <td>NaN</td>\n",
              "    </tr>\n",
              "  </tbody>\n",
              "</table>\n",
              "</div>"
            ],
            "text/plain": [
              "                                                                                                                                                                                                                                                                         premise  ... no_negation\n",
              "27                                        Не гневается на тех, кто, не останавливаясь, проходит мимо. Но сам он остро, пронзительно сострадает несчастному. И — заставляет задуматься, осознать, как хрупка и уязвима наша душа, как неповторимо единственна человеческая жизнь.  ...         NaN\n",
              "34                Как я матерюсь, так она врет. Ловлена с поличным неоднократно, принципов своих не предавала, продолжала врать и обижаться, что ей не верят. Свято помня отцовский завет “Наказывают не за преступление, а за то, что попался”, никогда ни в чем не признается.  ...         NaN\n",
              "66                                                                                                  Тогда как собственная смерть не значит ничего. И вы благодарны вашему убийце за то, что он не брезгует подойти вплотную. Все так изложено - я бы сказал, даже чересчур ясно.  ...         NaN\n",
              "67                                                                                                    Все вернулось на круги своя. Но во мне многое изменилось. Теперь я спокойно, даже отстраненно оглядывалась на себя прежнюю и не понимала, зачем так долго обманывала себя.  ...         NaN\n",
              "68                                                                                                         Но этого хватило, чтобы скульптура получилась внушительного размера. Длина палубы крейсера - шесть метров. Не забыли и раскрасить для большего сходства с оригиналом.  ...         NaN\n",
              "105                                                                                                                                                                                                                         Настоящий друг. Выручил меня с оркестром. Не забуду.  ...         NaN\n",
              "138                                                                                      Воспитывать, дорогие мои, надо на подвиге, на героизме. А этого бы хоть подстригли. Слышите, товарищ, я вам говорю, как там ваша фамилия,— неприлично мужчине ходить с такими волосами.  ...         NaN\n",
              "139                                                                                                                                                                              Дополнительные меры безопасности будут приняты на время новогодних и рождественских праздников.  ...         NaN\n",
              "187  Мужчина пытался сбежать с места и даже кинулся на сотрудников полиции с желанием помахать кулаками. Агрессивного нарушителя скрутили, посадили в машину и отвезли в ближайший участок. Проверка на трезвость показала, что водитель был в состоянии алкогольного опьянения.  ...         NaN\n",
              "236                                                                                                                       Наконец раздался голос. Мужской и смутно знакомый. Голос, запинаясь, медленно, как бы сомневаясь, что его услышат и поймут, произносил: – Добрый день.  ...         NaN\n",
              "243          Вот только студентам факультета – большинству – места не нашлось. Особенно тем, кто хотел как раз пообщаться. - Я не приму у Вас куртку! - Почему? Я же учусь здесь. - Сказали, чтобы с часу дня гардероб не выдавал студентам номерков, крючки для гостей бережем!  ...         NaN\n",
              "273                                                                                                              За какую партию «проголосовала» женщина, не уточняется. Результаты выборов на участке были признаны недействительными. Обвиняемая свою вину признала полностью.  ...         NaN\n",
              "302                                                                                                                                                           “Ну как ты могла забыть? Ты помнишь вообще, что я жив? Сигареты свои (не говоря уж о прочем) не забываешь купить”?  ...         NaN\n",
              "395                                                                                                                                 Мы оглянулись, я увидел просунувшуюся голову кузнеца. Он сказал: — Готово! Просили в миг, как закончу мечи править, сказать, вижу, не спите.  ...         NaN\n",
              "\n",
              "[14 rows x 8 columns]"
            ]
          },
          "metadata": {
            "tags": []
          },
          "execution_count": 8
        }
      ]
    },
    {
      "cell_type": "code",
      "metadata": {
        "colab": {
          "base_uri": "https://localhost:8080/"
        },
        "id": "vACfnT5Jpgbl",
        "outputId": "535ec32a-0f6e-4343-e2fd-d2cd03396abd"
      },
      "source": [
        "df['label'].value_counts()"
      ],
      "execution_count": null,
      "outputs": [
        {
          "output_type": "execute_result",
          "data": {
            "text/plain": [
              "True     1061\n",
              "False     688\n",
              "Name: label, dtype: int64"
            ]
          },
          "metadata": {
            "tags": []
          },
          "execution_count": 12
        }
      ]
    }
  ]
}