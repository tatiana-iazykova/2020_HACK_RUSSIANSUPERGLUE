{
  "nbformat": 4,
  "nbformat_minor": 0,
  "metadata": {
    "colab": {
      "name": "RSG_LiDiRus.ipynb",
      "provenance": [],
      "collapsed_sections": [],
      "authorship_tag": "ABX9TyPUT0bEYl6BBWG/QYFguSTn",
      "include_colab_link": true
    },
    "kernelspec": {
      "name": "python3",
      "display_name": "Python 3"
    }
  },
  "cells": [
    {
      "cell_type": "markdown",
      "metadata": {
        "id": "view-in-github",
        "colab_type": "text"
      },
      "source": [
        "<a href=\"https://colab.research.google.com/github/tatiana-iazykova/2020_HACK_RUSSIANSUPERGLUE/blob/main/RSG_LiDiRus.ipynb\" target=\"_parent\"><img src=\"https://colab.research.google.com/assets/colab-badge.svg\" alt=\"Open In Colab\"/></a>"
      ]
    },
    {
      "cell_type": "markdown",
      "metadata": {
        "id": "Q4GGQ1Z8dNDq"
      },
      "source": [
        "**The code cells below is to download a dataset into Colab directly.** Skip if irrelevant"
      ]
    },
    {
      "cell_type": "code",
      "metadata": {
        "id": "RsL57-5kTLgJ",
        "colab": {
          "base_uri": "https://localhost:8080/"
        },
        "outputId": "6679c488-dcbd-430e-870f-5ccc16b64c1f"
      },
      "source": [
        "%%bash\n",
        "# change url if you want to work with a different RSG dataset\n",
        "wget -q --show-progress \"https://russiansuperglue.com/ru/tasks/download/LiDiRus\" -O temp.zip\n",
        "unzip temp.zip -d data\n",
        "\n",
        "# remove unnecessary directories and files\n",
        "rm temp.zip\n",
        "rm -r data/__MACOSX\n",
        "rm -r sample_data/"
      ],
      "execution_count": 1,
      "outputs": [
        {
          "output_type": "stream",
          "text": [
            "Archive:  temp.zip\n",
            "   creating: data/LiDiRus/\n",
            "  inflating: data/LiDiRus/.DS_Store  \n",
            "   creating: data/__MACOSX/\n",
            "   creating: data/__MACOSX/LiDiRus/\n",
            "  inflating: data/__MACOSX/LiDiRus/._.DS_Store  \n",
            "  inflating: data/LiDiRus/LiDiRus.jsonl  \n",
            "  inflating: data/__MACOSX/LiDiRus/._LiDiRus.jsonl  \n",
            "  inflating: data/__MACOSX/._LiDiRus  \n"
          ],
          "name": "stdout"
        },
        {
          "output_type": "stream",
          "text": [
            "\n",
            "     0K .......... .......... .......... .......... ......    100%  155K=0.3s"
          ],
          "name": "stderr"
        }
      ]
    },
    {
      "cell_type": "code",
      "metadata": {
        "colab": {
          "base_uri": "https://localhost:8080/"
        },
        "id": "djqk3jJc9yfh",
        "outputId": "7bf73113-1a9e-4bed-e0ec-2077acfa7b75"
      },
      "source": [
        "# AX-b original English diagnostic dataset\r\n",
        "%%bash\r\n",
        "# change url if you want to work with a different RSG dataset\r\n",
        "wget -q --show-progress \"https://dl.fbaipublicfiles.com/glue/superglue/data/v2/AX-b.zip\" -O temp.zip\r\n",
        "unzip temp.zip -d data\r\n",
        "\r\n",
        "# remove unnecessary directories and files\r\n",
        "rm temp.zip"
      ],
      "execution_count": 2,
      "outputs": [
        {
          "output_type": "stream",
          "text": [
            "Archive:  temp.zip\n",
            "   creating: data/AX-b/\n",
            "  inflating: data/AX-b/AX-b.jsonl    \n"
          ],
          "name": "stdout"
        },
        {
          "output_type": "stream",
          "text": [
            "\n",
            "     0K .......... .......... .......... ...                  100%  206K=0.2s"
          ],
          "name": "stderr"
        }
      ]
    },
    {
      "cell_type": "markdown",
      "metadata": {
        "id": "uD4auz_Nt9qR"
      },
      "source": [
        "Fancy way to display content of the dataset directory"
      ]
    },
    {
      "cell_type": "code",
      "metadata": {
        "colab": {
          "base_uri": "https://localhost:8080/"
        },
        "id": "Wh_Pi5TXfVBI",
        "outputId": "8615fa92-4f74-45da-ba11-b2829c4007f7"
      },
      "source": [
        "%%bash\n",
        "# add tree package for fancy directory display\n",
        "apt-get install tree"
      ],
      "execution_count": 3,
      "outputs": [
        {
          "output_type": "stream",
          "text": [
            "Reading package lists...\n",
            "Building dependency tree...\n",
            "Reading state information...\n",
            "The following NEW packages will be installed:\n",
            "  tree\n",
            "0 upgraded, 1 newly installed, 0 to remove and 15 not upgraded.\n",
            "Need to get 40.7 kB of archives.\n",
            "After this operation, 105 kB of additional disk space will be used.\n",
            "Get:1 http://archive.ubuntu.com/ubuntu bionic/universe amd64 tree amd64 1.7.0-5 [40.7 kB]\n",
            "Fetched 40.7 kB in 1s (58.7 kB/s)\n",
            "Selecting previously unselected package tree.\r\n",
            "(Reading database ... \r(Reading database ... 5%\r(Reading database ... 10%\r(Reading database ... 15%\r(Reading database ... 20%\r(Reading database ... 25%\r(Reading database ... 30%\r(Reading database ... 35%\r(Reading database ... 40%\r(Reading database ... 45%\r(Reading database ... 50%\r(Reading database ... 55%\r(Reading database ... 60%\r(Reading database ... 65%\r(Reading database ... 70%\r(Reading database ... 75%\r(Reading database ... 80%\r(Reading database ... 85%\r(Reading database ... 90%\r(Reading database ... 95%\r(Reading database ... 100%\r(Reading database ... 145480 files and directories currently installed.)\r\n",
            "Preparing to unpack .../tree_1.7.0-5_amd64.deb ...\r\n",
            "Unpacking tree (1.7.0-5) ...\r\n",
            "Setting up tree (1.7.0-5) ...\r\n",
            "Processing triggers for man-db (2.8.3-2ubuntu0.1) ...\r\n"
          ],
          "name": "stdout"
        }
      ]
    },
    {
      "cell_type": "code",
      "metadata": {
        "colab": {
          "base_uri": "https://localhost:8080/"
        },
        "id": "87zEZXR_xzmF",
        "outputId": "19b08eb2-902b-4b12-cd7e-0982fdabf9cc"
      },
      "source": [
        "# display the content of the folder\n",
        "!tree"
      ],
      "execution_count": 4,
      "outputs": [
        {
          "output_type": "stream",
          "text": [
            ".\n",
            "└── data\n",
            "    ├── AX-b\n",
            "    │   └── AX-b.jsonl\n",
            "    └── LiDiRus\n",
            "        └── LiDiRus.jsonl\n",
            "\n",
            "3 directories, 2 files\n"
          ],
          "name": "stdout"
        }
      ]
    },
    {
      "cell_type": "markdown",
      "metadata": {
        "id": "ZxDAiS8Ox8Py"
      },
      "source": [
        "### **Start playing here**"
      ]
    },
    {
      "cell_type": "code",
      "metadata": {
        "id": "C0cqhlXaXbwj"
      },
      "source": [
        "import pandas as pd\n",
        "pd.set_option('display.max_colwidth', 1000)\n",
        "\n",
        "class JSONL_handler():\n",
        "    \"\"\" opens a jsonl file and turns it into a necessary data structure \"\"\"\n",
        "    \n",
        "    def __init__(self, path):\n",
        "        self.path = path # path to jsonl file\n",
        "\n",
        "    def to_pandas(self):\n",
        "        \"\"\" get jsonl file content as a pandas DataFrame\"\"\"\n",
        "        return pd.read_json(path_or_buf=self.path, lines=True)"
      ],
      "execution_count": 7,
      "outputs": []
    },
    {
      "cell_type": "code",
      "metadata": {
        "id": "_NRSjltfYcjT"
      },
      "source": [
        "handler = JSONL_handler('data/LiDiRus/LiDiRus.jsonl')\n",
        "df = handler.to_pandas()\n",
        "handler_en = JSONL_handler('data/AX-b/AX-b.jsonl')\n",
        "df_en = handler.to_pandas()"
      ],
      "execution_count": 8,
      "outputs": []
    },
    {
      "cell_type": "markdown",
      "metadata": {
        "id": "RLSJqbzZ8G6C"
      },
      "source": [
        "### general information on ru and eng dataset"
      ]
    },
    {
      "cell_type": "markdown",
      "metadata": {
        "id": "sQU6l2URwmqZ"
      },
      "source": [
        "[Pandas cheat sheet](https://github.com/pandas-dev/pandas/blob/master/doc/cheatsheet/Pandas_Cheat_Sheet.pdf?platform=hootsuite) for reference\n"
      ]
    },
    {
      "cell_type": "code",
      "metadata": {
        "id": "4zJaFGLB_SEw"
      },
      "source": [
        "import matplotlib.pyplot as plt"
      ],
      "execution_count": 5,
      "outputs": []
    },
    {
      "cell_type": "code",
      "metadata": {
        "colab": {
          "base_uri": "https://localhost:8080/",
          "height": 538
        },
        "id": "4kA-aL6aALSJ",
        "outputId": "d85a7807-27f5-4284-f1e7-4b51ee9e4cf6"
      },
      "source": [
        "plt.title('Relative label distribution in LiDiRus\\n and corresponding SG dataset', fontsize=14)\r\n",
        "plt.hist(x = [df['label'], df_en['label']], color=[\"#9ddadc\", \"#e99aee\"], label=['RSG','SG'], rwidth = 50) \r\n",
        "plt.legend(loc='best')\r\n",
        "plt.show()\r\n",
        "print()\r\n",
        "\r\n",
        "plt.subplot(1,2,1)\r\n",
        "colours = {'#9ddca6', '#f0afb6', '#eeb87c'}\r\n",
        "\r\n",
        "plt.title('Label distribution\\n in SG\\n', fontsize=14)\r\n",
        "plt.pie(df_en['label'].value_counts(), autopct=\"%.1f%%\", explode=[0.05]*2, labels=df_en['label'].value_counts().keys(), pctdistance=0.5, textprops = dict(fontsize = 12), colors=colours)\r\n",
        "\r\n",
        "plt.subplot(1,2,2)\r\n",
        "\r\n",
        "plt.title('Label distribution\\n in RSG\\n', fontsize=14)\r\n",
        "plt.pie(df['label'].value_counts(), autopct=\"%.1f%%\", explode=[0.05]*2, labels=df['label'].value_counts().keys(), pctdistance=0.5, textprops = dict(fontsize = 12), colors=colours)\r\n",
        "\r\n",
        "plt.tight_layout()\r\n",
        "plt.show()"
      ],
      "execution_count": 15,
      "outputs": [
        {
          "output_type": "display_data",
          "data": {
            "image/png": "[encoded data removed]",
            "text/plain": [
              "<Figure size 432x288 with 1 Axes>"
            ]
          },
          "metadata": {
            "tags": [],
            "needs_background": "light"
          }
        },
        {
          "output_type": "stream",
          "text": [
            "\n"
          ],
          "name": "stdout"
        },
        {
          "output_type": "display_data",
          "data": {
            "image/png": "[encoded data removed]",
            "text/plain": [
              "<Figure size 432x288 with 2 Axes>"
            ]
          },
          "metadata": {
            "tags": []
          }
        }
      ]
    },
    {
      "cell_type": "code",
      "metadata": {
        "colab": {
          "base_uri": "https://localhost:8080/",
          "height": 906
        },
        "id": "-fvjf1mCFVGV",
        "outputId": "b3f243cf-2859-4c2d-f663-a06ccd3d826a"
      },
      "source": [
        "pd.merge(df.logic.value_counts(), df_en.logic.value_counts(), how='left', on=df_en.logic.value_counts().keys())"
      ],
      "execution_count": 42,
      "outputs": [
        {
          "output_type": "execute_result",
          "data": {
            "text/html": [
              "<div>\n",
              "<style scoped>\n",
              "    .dataframe tbody tr th:only-of-type {\n",
              "        vertical-align: middle;\n",
              "    }\n",
              "\n",
              "    .dataframe tbody tr th {\n",
              "        vertical-align: top;\n",
              "    }\n",
              "\n",
              "    .dataframe thead th {\n",
              "        text-align: right;\n",
              "    }\n",
              "</style>\n",
              "<table border=\"1\" class=\"dataframe\">\n",
              "  <thead>\n",
              "    <tr style=\"text-align: right;\">\n",
              "      <th></th>\n",
              "      <th>key_0</th>\n",
              "      <th>logic_x</th>\n",
              "      <th>logic_y</th>\n",
              "    </tr>\n",
              "  </thead>\n",
              "  <tbody>\n",
              "    <tr>\n",
              "      <th>0</th>\n",
              "      <td>Negation</td>\n",
              "      <td>54</td>\n",
              "      <td>54</td>\n",
              "    </tr>\n",
              "    <tr>\n",
              "      <th>1</th>\n",
              "      <td>Upward monotone</td>\n",
              "      <td>30</td>\n",
              "      <td>30</td>\n",
              "    </tr>\n",
              "    <tr>\n",
              "      <th>2</th>\n",
              "      <td>Intervals/Numbers</td>\n",
              "      <td>30</td>\n",
              "      <td>30</td>\n",
              "    </tr>\n",
              "    <tr>\n",
              "      <th>3</th>\n",
              "      <td>Temporal</td>\n",
              "      <td>28</td>\n",
              "      <td>28</td>\n",
              "    </tr>\n",
              "    <tr>\n",
              "      <th>4</th>\n",
              "      <td>Downward monotone</td>\n",
              "      <td>26</td>\n",
              "      <td>26</td>\n",
              "    </tr>\n",
              "    <tr>\n",
              "      <th>5</th>\n",
              "      <td>Double negation</td>\n",
              "      <td>26</td>\n",
              "      <td>26</td>\n",
              "    </tr>\n",
              "    <tr>\n",
              "      <th>6</th>\n",
              "      <td>Conjunction</td>\n",
              "      <td>24</td>\n",
              "      <td>24</td>\n",
              "    </tr>\n",
              "    <tr>\n",
              "      <th>7</th>\n",
              "      <td>Non-monotone</td>\n",
              "      <td>22</td>\n",
              "      <td>22</td>\n",
              "    </tr>\n",
              "    <tr>\n",
              "      <th>8</th>\n",
              "      <td>Conditionals</td>\n",
              "      <td>22</td>\n",
              "      <td>22</td>\n",
              "    </tr>\n",
              "    <tr>\n",
              "      <th>9</th>\n",
              "      <td>Disjunction</td>\n",
              "      <td>22</td>\n",
              "      <td>22</td>\n",
              "    </tr>\n",
              "    <tr>\n",
              "      <th>10</th>\n",
              "      <td>Universal</td>\n",
              "      <td>14</td>\n",
              "      <td>14</td>\n",
              "    </tr>\n",
              "    <tr>\n",
              "      <th>11</th>\n",
              "      <td>Existential</td>\n",
              "      <td>14</td>\n",
              "      <td>14</td>\n",
              "    </tr>\n",
              "    <tr>\n",
              "      <th>12</th>\n",
              "      <td>Disjunction;Negation</td>\n",
              "      <td>6</td>\n",
              "      <td>6</td>\n",
              "    </tr>\n",
              "    <tr>\n",
              "      <th>13</th>\n",
              "      <td>Intervals/Numbers;Non-monotone</td>\n",
              "      <td>6</td>\n",
              "      <td>6</td>\n",
              "    </tr>\n",
              "    <tr>\n",
              "      <th>14</th>\n",
              "      <td>Conjunction;Negation</td>\n",
              "      <td>6</td>\n",
              "      <td>6</td>\n",
              "    </tr>\n",
              "    <tr>\n",
              "      <th>15</th>\n",
              "      <td>Negation;Conditionals</td>\n",
              "      <td>4</td>\n",
              "      <td>4</td>\n",
              "    </tr>\n",
              "    <tr>\n",
              "      <th>16</th>\n",
              "      <td>Disjunction;Conjunction</td>\n",
              "      <td>4</td>\n",
              "      <td>4</td>\n",
              "    </tr>\n",
              "    <tr>\n",
              "      <th>17</th>\n",
              "      <td>Disjunction;Conditionals;Negation</td>\n",
              "      <td>4</td>\n",
              "      <td>4</td>\n",
              "    </tr>\n",
              "    <tr>\n",
              "      <th>18</th>\n",
              "      <td>Existential;Negation</td>\n",
              "      <td>2</td>\n",
              "      <td>2</td>\n",
              "    </tr>\n",
              "    <tr>\n",
              "      <th>19</th>\n",
              "      <td>Conjunction;Upward monotone</td>\n",
              "      <td>2</td>\n",
              "      <td>2</td>\n",
              "    </tr>\n",
              "    <tr>\n",
              "      <th>20</th>\n",
              "      <td>Downward monotone;Existential;Negation</td>\n",
              "      <td>2</td>\n",
              "      <td>2</td>\n",
              "    </tr>\n",
              "    <tr>\n",
              "      <th>21</th>\n",
              "      <td>Universal;Negation</td>\n",
              "      <td>2</td>\n",
              "      <td>2</td>\n",
              "    </tr>\n",
              "    <tr>\n",
              "      <th>22</th>\n",
              "      <td>Temporal;Intervals/Numbers</td>\n",
              "      <td>2</td>\n",
              "      <td>2</td>\n",
              "    </tr>\n",
              "    <tr>\n",
              "      <th>23</th>\n",
              "      <td>Downward monotone;Conditionals</td>\n",
              "      <td>2</td>\n",
              "      <td>2</td>\n",
              "    </tr>\n",
              "    <tr>\n",
              "      <th>24</th>\n",
              "      <td>Disjunction;Non-monotone</td>\n",
              "      <td>2</td>\n",
              "      <td>2</td>\n",
              "    </tr>\n",
              "    <tr>\n",
              "      <th>25</th>\n",
              "      <td>Double negation;Negation</td>\n",
              "      <td>2</td>\n",
              "      <td>2</td>\n",
              "    </tr>\n",
              "    <tr>\n",
              "      <th>26</th>\n",
              "      <td>Existential;Upward monotone</td>\n",
              "      <td>2</td>\n",
              "      <td>2</td>\n",
              "    </tr>\n",
              "    <tr>\n",
              "      <th>27</th>\n",
              "      <td>Temporal;Conjunction</td>\n",
              "      <td>2</td>\n",
              "      <td>2</td>\n",
              "    </tr>\n",
              "    <tr>\n",
              "      <th>28</th>\n",
              "      <td>Universal;Conjunction</td>\n",
              "      <td>2</td>\n",
              "      <td>2</td>\n",
              "    </tr>\n",
              "  </tbody>\n",
              "</table>\n",
              "</div>"
            ],
            "text/plain": [
              "                                     key_0  logic_x  logic_y\n",
              "0                                 Negation       54       54\n",
              "1                          Upward monotone       30       30\n",
              "2                        Intervals/Numbers       30       30\n",
              "3                                 Temporal       28       28\n",
              "4                        Downward monotone       26       26\n",
              "5                          Double negation       26       26\n",
              "6                              Conjunction       24       24\n",
              "7                             Non-monotone       22       22\n",
              "8                             Conditionals       22       22\n",
              "9                              Disjunction       22       22\n",
              "10                               Universal       14       14\n",
              "11                             Existential       14       14\n",
              "12                    Disjunction;Negation        6        6\n",
              "13          Intervals/Numbers;Non-monotone        6        6\n",
              "14                    Conjunction;Negation        6        6\n",
              "15                   Negation;Conditionals        4        4\n",
              "16                 Disjunction;Conjunction        4        4\n",
              "17       Disjunction;Conditionals;Negation        4        4\n",
              "18                    Existential;Negation        2        2\n",
              "19             Conjunction;Upward monotone        2        2\n",
              "20  Downward monotone;Existential;Negation        2        2\n",
              "21                      Universal;Negation        2        2\n",
              "22              Temporal;Intervals/Numbers        2        2\n",
              "23          Downward monotone;Conditionals        2        2\n",
              "24                Disjunction;Non-monotone        2        2\n",
              "25                Double negation;Negation        2        2\n",
              "26             Existential;Upward monotone        2        2\n",
              "27                    Temporal;Conjunction        2        2\n",
              "28                   Universal;Conjunction        2        2"
            ]
          },
          "metadata": {
            "tags": []
          },
          "execution_count": 42
        }
      ]
    },
    {
      "cell_type": "code",
      "metadata": {
        "colab": {
          "base_uri": "https://localhost:8080/"
        },
        "id": "3TooZKzkIZOd",
        "outputId": "fcc3c926-8e51-4be1-a7b2-5a3de310a6d2"
      },
      "source": [
        "df.columns"
      ],
      "execution_count": 48,
      "outputs": [
        {
          "output_type": "execute_result",
          "data": {
            "text/plain": [
              "Index(['idx', 'label', 'sentence1', 'sentence2', 'logic',\n",
              "       'predicate-argument-structure', 'lexical-semantics', 'knowledge'],\n",
              "      dtype='object')"
            ]
          },
          "metadata": {
            "tags": []
          },
          "execution_count": 48
        }
      ]
    },
    {
      "cell_type": "code",
      "metadata": {
        "colab": {
          "base_uri": "https://localhost:8080/"
        },
        "id": "S-SRH2KSJb_a",
        "outputId": "389b9e89-be3a-4935-f550-815122d75959"
      },
      "source": [
        "df['knowledge'].value_counts()"
      ],
      "execution_count": 53,
      "outputs": [
        {
          "output_type": "execute_result",
          "data": {
            "text/plain": [
              "Common sense       150\n",
              "World knowledge    134\n",
              "Name: knowledge, dtype: int64"
            ]
          },
          "metadata": {
            "tags": []
          },
          "execution_count": 53
        }
      ]
    },
    {
      "cell_type": "code",
      "metadata": {
        "colab": {
          "base_uri": "https://localhost:8080/"
        },
        "id": "3zYrQ2reJeNb",
        "outputId": "6f193975-3e87-410e-a1da-cfdf313d45b3"
      },
      "source": [
        "df['predicate-argument-structure'].value_counts()"
      ],
      "execution_count": 50,
      "outputs": [
        {
          "output_type": "execute_result",
          "data": {
            "text/plain": [
              "Prepositional phrases                         56\n",
              "Core args                                     48\n",
              "Intersectivity                                44\n",
              "Anaphora/Coreference                          42\n",
              "Coordination scope                            34\n",
              "Active/Passive                                32\n",
              "Ellipsis/Implicits                            28\n",
              "Nominalization                                26\n",
              "Relative clauses                              24\n",
              "Datives                                       20\n",
              "Genitives/Partitives                          18\n",
              "Restrictivity                                 18\n",
              "Coordination scope;Prepositional phrases       6\n",
              "Relative clauses;Restrictivity                 4\n",
              "Core args;Anaphora/Coreference                 4\n",
              "Anaphora/Coreference;Prepositional phrases     4\n",
              "Ellipsis/Implicits;Anaphora/Coreference        4\n",
              "Nominalization;Genitives/Partitives            2\n",
              "Restrictivity;Anaphora/Coreference             2\n",
              "Relative clauses;Anaphora/Coreference          2\n",
              "Restrictivity;Relative clauses                 2\n",
              "Active/Passive;Prepositional phrases           2\n",
              "Intersectivity;Ellipsis/Implicits              2\n",
              "Name: predicate-argument-structure, dtype: int64"
            ]
          },
          "metadata": {
            "tags": []
          },
          "execution_count": 50
        }
      ]
    },
    {
      "cell_type": "code",
      "metadata": {
        "colab": {
          "base_uri": "https://localhost:8080/"
        },
        "id": "rW6yXvgvJpw_",
        "outputId": "0330c2f3-bacd-4aef-fd10-58896d68a2ed"
      },
      "source": [
        "df['lexical-semantics'].value_counts()"
      ],
      "execution_count": 51,
      "outputs": [
        {
          "output_type": "execute_result",
          "data": {
            "text/plain": [
              "Lexical entailment                134\n",
              "Factivity                          64\n",
              "Quantifiers                        46\n",
              "Named entities                     36\n",
              "Symmetry/Collectivity              28\n",
              "Morphological negation             26\n",
              "Redundancy                         25\n",
              "Lexical entailment;Quantifiers      4\n",
              "Lexical entailment;Factivity        2\n",
              "Factivity;Quantifiers               2\n",
              "Name: lexical-semantics, dtype: int64"
            ]
          },
          "metadata": {
            "tags": []
          },
          "execution_count": 51
        }
      ]
    },
    {
      "cell_type": "markdown",
      "metadata": {
        "id": "4cy46UyVNHJk"
      },
      "source": [
        "### There are small batches of sentences with slightly varying vocabulary"
      ]
    },
    {
      "cell_type": "code",
      "metadata": {
        "colab": {
          "base_uri": "https://localhost:8080/",
          "height": 376
        },
        "id": "CGWXaJDFMkct",
        "outputId": "8a48b606-bae6-404c-d09f-50a80bd719a3"
      },
      "source": [
        "df.iloc[[0,1,4,5,6,7]]"
      ],
      "execution_count": 59,
      "outputs": [
        {
          "output_type": "execute_result",
          "data": {
            "text/html": [
              "<div>\n",
              "<style scoped>\n",
              "    .dataframe tbody tr th:only-of-type {\n",
              "        vertical-align: middle;\n",
              "    }\n",
              "\n",
              "    .dataframe tbody tr th {\n",
              "        vertical-align: top;\n",
              "    }\n",
              "\n",
              "    .dataframe thead th {\n",
              "        text-align: right;\n",
              "    }\n",
              "</style>\n",
              "<table border=\"1\" class=\"dataframe\">\n",
              "  <thead>\n",
              "    <tr style=\"text-align: right;\">\n",
              "      <th></th>\n",
              "      <th>idx</th>\n",
              "      <th>label</th>\n",
              "      <th>sentence1</th>\n",
              "      <th>sentence2</th>\n",
              "      <th>logic</th>\n",
              "      <th>predicate-argument-structure</th>\n",
              "      <th>lexical-semantics</th>\n",
              "      <th>knowledge</th>\n",
              "    </tr>\n",
              "  </thead>\n",
              "  <tbody>\n",
              "    <tr>\n",
              "      <th>0</th>\n",
              "      <td>0</td>\n",
              "      <td>not_entailment</td>\n",
              "      <td>Кошка сидела на коврике.</td>\n",
              "      <td>Кошка не сидела на коврике.</td>\n",
              "      <td>Negation</td>\n",
              "      <td>NaN</td>\n",
              "      <td>NaN</td>\n",
              "      <td>NaN</td>\n",
              "    </tr>\n",
              "    <tr>\n",
              "      <th>1</th>\n",
              "      <td>1</td>\n",
              "      <td>not_entailment</td>\n",
              "      <td>Кошка не сидела на коврике.</td>\n",
              "      <td>Кошка сидела на коврике.</td>\n",
              "      <td>Negation</td>\n",
              "      <td>NaN</td>\n",
              "      <td>NaN</td>\n",
              "      <td>NaN</td>\n",
              "    </tr>\n",
              "    <tr>\n",
              "      <th>4</th>\n",
              "      <td>4</td>\n",
              "      <td>not_entailment</td>\n",
              "      <td>Сразу же после распаковки Ouya поддерживает мультимедийные приложения, такие как Twitch.tv и XBMC-медиаплеер.</td>\n",
              "      <td>Сразу же после распаковки Ouya не поддерживает мультимедийные приложения, такие как Twitch.tv и XBMC-медиаплеер.</td>\n",
              "      <td>Negation</td>\n",
              "      <td>NaN</td>\n",
              "      <td>NaN</td>\n",
              "      <td>NaN</td>\n",
              "    </tr>\n",
              "    <tr>\n",
              "      <th>5</th>\n",
              "      <td>5</td>\n",
              "      <td>not_entailment</td>\n",
              "      <td>Сразу же после распаковки Ouya не поддерживает мультимедийные приложения, такие как Twitch.tv и XBMC-медиаплеер.</td>\n",
              "      <td>Сразу же после распаковки Ouya поддерживает мультимедийные приложения, такие как Twitch.tv и XBMC-медиаплеер.</td>\n",
              "      <td>Negation</td>\n",
              "      <td>NaN</td>\n",
              "      <td>NaN</td>\n",
              "      <td>NaN</td>\n",
              "    </tr>\n",
              "    <tr>\n",
              "      <th>6</th>\n",
              "      <td>6</td>\n",
              "      <td>entailment</td>\n",
              "      <td>Сразу же после распаковки Ouya поддерживает мультимедийные приложения, такие как Twitch.tv и XBMC медиа-плеер.</td>\n",
              "      <td>Сразу же после распаковки Ouya поддерживает Twitch.tv и XBMC медиа-плеер.</td>\n",
              "      <td>NaN</td>\n",
              "      <td>Anaphora/Coreference</td>\n",
              "      <td>NaN</td>\n",
              "      <td>NaN</td>\n",
              "    </tr>\n",
              "    <tr>\n",
              "      <th>7</th>\n",
              "      <td>7</td>\n",
              "      <td>entailment</td>\n",
              "      <td>Сразу же после распаковки Ouya поддерживает Twitch.tv и XBMC медиа-плеер.</td>\n",
              "      <td>Сразу же после распаковки Ouya поддерживает мультимедийные приложения, такие как Twitch.tv и XBMC медиа-плеер.</td>\n",
              "      <td>NaN</td>\n",
              "      <td>Anaphora/Coreference</td>\n",
              "      <td>NaN</td>\n",
              "      <td>NaN</td>\n",
              "    </tr>\n",
              "  </tbody>\n",
              "</table>\n",
              "</div>"
            ],
            "text/plain": [
              "   idx           label  ... lexical-semantics knowledge\n",
              "0    0  not_entailment  ...               NaN       NaN\n",
              "1    1  not_entailment  ...               NaN       NaN\n",
              "4    4  not_entailment  ...               NaN       NaN\n",
              "5    5  not_entailment  ...               NaN       NaN\n",
              "6    6      entailment  ...               NaN       NaN\n",
              "7    7      entailment  ...               NaN       NaN\n",
              "\n",
              "[6 rows x 8 columns]"
            ]
          },
          "metadata": {
            "tags": []
          },
          "execution_count": 59
        }
      ]
    },
    {
      "cell_type": "markdown",
      "metadata": {
        "id": "nYU6P6YaOCnl"
      },
      "source": [
        "# Entailment"
      ]
    },
    {
      "cell_type": "code",
      "metadata": {
        "colab": {
          "base_uri": "https://localhost:8080/",
          "height": 578
        },
        "id": "jdrqAvo2OAUO",
        "outputId": "600d5925-9b84-4c2f-f9cf-c70734d3a1e3"
      },
      "source": [
        "df[df.label == 'entailment'][0:10]"
      ],
      "execution_count": 61,
      "outputs": [
        {
          "output_type": "execute_result",
          "data": {
            "text/html": [
              "<div>\n",
              "<style scoped>\n",
              "    .dataframe tbody tr th:only-of-type {\n",
              "        vertical-align: middle;\n",
              "    }\n",
              "\n",
              "    .dataframe tbody tr th {\n",
              "        vertical-align: top;\n",
              "    }\n",
              "\n",
              "    .dataframe thead th {\n",
              "        text-align: right;\n",
              "    }\n",
              "</style>\n",
              "<table border=\"1\" class=\"dataframe\">\n",
              "  <thead>\n",
              "    <tr style=\"text-align: right;\">\n",
              "      <th></th>\n",
              "      <th>idx</th>\n",
              "      <th>label</th>\n",
              "      <th>sentence1</th>\n",
              "      <th>sentence2</th>\n",
              "      <th>logic</th>\n",
              "      <th>predicate-argument-structure</th>\n",
              "      <th>lexical-semantics</th>\n",
              "      <th>knowledge</th>\n",
              "    </tr>\n",
              "  </thead>\n",
              "  <tbody>\n",
              "    <tr>\n",
              "      <th>6</th>\n",
              "      <td>6</td>\n",
              "      <td>entailment</td>\n",
              "      <td>Сразу же после распаковки Ouya поддерживает мультимедийные приложения, такие как Twitch.tv и XBMC медиа-плеер.</td>\n",
              "      <td>Сразу же после распаковки Ouya поддерживает Twitch.tv и XBMC медиа-плеер.</td>\n",
              "      <td>NaN</td>\n",
              "      <td>Anaphora/Coreference</td>\n",
              "      <td>NaN</td>\n",
              "      <td>NaN</td>\n",
              "    </tr>\n",
              "    <tr>\n",
              "      <th>7</th>\n",
              "      <td>7</td>\n",
              "      <td>entailment</td>\n",
              "      <td>Сразу же после распаковки Ouya поддерживает Twitch.tv и XBMC медиа-плеер.</td>\n",
              "      <td>Сразу же после распаковки Ouya поддерживает мультимедийные приложения, такие как Twitch.tv и XBMC медиа-плеер.</td>\n",
              "      <td>NaN</td>\n",
              "      <td>Anaphora/Coreference</td>\n",
              "      <td>NaN</td>\n",
              "      <td>NaN</td>\n",
              "    </tr>\n",
              "    <tr>\n",
              "      <th>18</th>\n",
              "      <td>18</td>\n",
              "      <td>entailment</td>\n",
              "      <td>Применяя стратегию ненасильственного протеста, Ганди застал администрацию врасплох и получил уступки от властей.</td>\n",
              "      <td>Применяя стратегию протеста, Ганди застал администрацию врасплох и получил уступки от властей.</td>\n",
              "      <td>NaN</td>\n",
              "      <td>Intersectivity</td>\n",
              "      <td>NaN</td>\n",
              "      <td>NaN</td>\n",
              "    </tr>\n",
              "    <tr>\n",
              "      <th>22</th>\n",
              "      <td>22</td>\n",
              "      <td>entailment</td>\n",
              "      <td>Написание кода на Java не слишком отличается от программирования в наручниках.</td>\n",
              "      <td>Написание кода на Java подобно программированию в наручниках.</td>\n",
              "      <td>Double negation</td>\n",
              "      <td>NaN</td>\n",
              "      <td>Morphological negation</td>\n",
              "      <td>NaN</td>\n",
              "    </tr>\n",
              "    <tr>\n",
              "      <th>23</th>\n",
              "      <td>23</td>\n",
              "      <td>entailment</td>\n",
              "      <td>Написание кода на Java подобно программированию в наручниках.</td>\n",
              "      <td>Написание кода на Java не слишком отличается от программирования в наручниках.</td>\n",
              "      <td>Double negation</td>\n",
              "      <td>NaN</td>\n",
              "      <td>Morphological negation</td>\n",
              "      <td>NaN</td>\n",
              "    </tr>\n",
              "    <tr>\n",
              "      <th>24</th>\n",
              "      <td>24</td>\n",
              "      <td>entailment</td>\n",
              "      <td>Рынок станет сложнее, но на нём не будет невозможно ориентироваться.</td>\n",
              "      <td>Рынок станет сложнее, но на нём будет возможно ориентироваться.</td>\n",
              "      <td>Double negation</td>\n",
              "      <td>NaN</td>\n",
              "      <td>Morphological negation</td>\n",
              "      <td>NaN</td>\n",
              "    </tr>\n",
              "    <tr>\n",
              "      <th>25</th>\n",
              "      <td>25</td>\n",
              "      <td>entailment</td>\n",
              "      <td>Рынок станет сложнее, но на нём будет возможно ориентироваться.</td>\n",
              "      <td>Рынок станет сложнее, но на нём не будет невозможно ориентироваться.</td>\n",
              "      <td>Double negation</td>\n",
              "      <td>NaN</td>\n",
              "      <td>Morphological negation</td>\n",
              "      <td>NaN</td>\n",
              "    </tr>\n",
              "    <tr>\n",
              "      <th>26</th>\n",
              "      <td>26</td>\n",
              "      <td>entailment</td>\n",
              "      <td>Даже после того как узнал, что это корм для животных, я не перестану когда-либо обожать Flamin' Hot Cheetos.</td>\n",
              "      <td>Даже после того как узнал, что это корм для животных, я никогда не перестану обожать Flamin' Hot Cheetos.</td>\n",
              "      <td>Double negation</td>\n",
              "      <td>NaN</td>\n",
              "      <td>Morphological negation</td>\n",
              "      <td>NaN</td>\n",
              "    </tr>\n",
              "    <tr>\n",
              "      <th>27</th>\n",
              "      <td>27</td>\n",
              "      <td>entailment</td>\n",
              "      <td>Даже после того как узнал, что это корм для животных, я никогда не перестану обожать Flamin' Hot Cheetos.</td>\n",
              "      <td>Даже после того как узнал, что это корм для животных, я не перестану когда-либо обожать Flamin' Hot Cheetos.</td>\n",
              "      <td>Double negation</td>\n",
              "      <td>NaN</td>\n",
              "      <td>Morphological negation</td>\n",
              "      <td>NaN</td>\n",
              "    </tr>\n",
              "    <tr>\n",
              "      <th>28</th>\n",
              "      <td>28</td>\n",
              "      <td>entailment</td>\n",
              "      <td>Он не был несогласен с позицией партии, но чувствовал, что если бы он ушел в отставку, его популярность среди индейцев перестала бы душить членство в партии.</td>\n",
              "      <td>Он согласился с позицией партии, но чувствовал, что если бы он ушел в отставку, его популярность среди индейцев перестала бы душить членство в партии.</td>\n",
              "      <td>Double negation</td>\n",
              "      <td>NaN</td>\n",
              "      <td>Morphological negation</td>\n",
              "      <td>NaN</td>\n",
              "    </tr>\n",
              "  </tbody>\n",
              "</table>\n",
              "</div>"
            ],
            "text/plain": [
              "    idx       label  ...       lexical-semantics knowledge\n",
              "6     6  entailment  ...                     NaN       NaN\n",
              "7     7  entailment  ...                     NaN       NaN\n",
              "18   18  entailment  ...                     NaN       NaN\n",
              "22   22  entailment  ...  Morphological negation       NaN\n",
              "23   23  entailment  ...  Morphological negation       NaN\n",
              "24   24  entailment  ...  Morphological negation       NaN\n",
              "25   25  entailment  ...  Morphological negation       NaN\n",
              "26   26  entailment  ...  Morphological negation       NaN\n",
              "27   27  entailment  ...  Morphological negation       NaN\n",
              "28   28  entailment  ...  Morphological negation       NaN\n",
              "\n",
              "[10 rows x 8 columns]"
            ]
          },
          "metadata": {
            "tags": []
          },
          "execution_count": 61
        }
      ]
    },
    {
      "cell_type": "markdown",
      "metadata": {
        "id": "g4vZ-kysOnyL"
      },
      "source": [
        "### Vocabulary overlap"
      ]
    },
    {
      "cell_type": "code",
      "metadata": {
        "colab": {
          "base_uri": "https://localhost:8080/",
          "height": 203
        },
        "id": "nyQP3mJFOoTR",
        "outputId": "badcf30e-8155-4c36-8cf4-5b3c356b0aed"
      },
      "source": [
        "df.iloc[[6,7,18]]"
      ],
      "execution_count": 62,
      "outputs": [
        {
          "output_type": "execute_result",
          "data": {
            "text/html": [
              "<div>\n",
              "<style scoped>\n",
              "    .dataframe tbody tr th:only-of-type {\n",
              "        vertical-align: middle;\n",
              "    }\n",
              "\n",
              "    .dataframe tbody tr th {\n",
              "        vertical-align: top;\n",
              "    }\n",
              "\n",
              "    .dataframe thead th {\n",
              "        text-align: right;\n",
              "    }\n",
              "</style>\n",
              "<table border=\"1\" class=\"dataframe\">\n",
              "  <thead>\n",
              "    <tr style=\"text-align: right;\">\n",
              "      <th></th>\n",
              "      <th>idx</th>\n",
              "      <th>label</th>\n",
              "      <th>sentence1</th>\n",
              "      <th>sentence2</th>\n",
              "      <th>logic</th>\n",
              "      <th>predicate-argument-structure</th>\n",
              "      <th>lexical-semantics</th>\n",
              "      <th>knowledge</th>\n",
              "    </tr>\n",
              "  </thead>\n",
              "  <tbody>\n",
              "    <tr>\n",
              "      <th>6</th>\n",
              "      <td>6</td>\n",
              "      <td>entailment</td>\n",
              "      <td>Сразу же после распаковки Ouya поддерживает мультимедийные приложения, такие как Twitch.tv и XBMC медиа-плеер.</td>\n",
              "      <td>Сразу же после распаковки Ouya поддерживает Twitch.tv и XBMC медиа-плеер.</td>\n",
              "      <td>NaN</td>\n",
              "      <td>Anaphora/Coreference</td>\n",
              "      <td>NaN</td>\n",
              "      <td>NaN</td>\n",
              "    </tr>\n",
              "    <tr>\n",
              "      <th>7</th>\n",
              "      <td>7</td>\n",
              "      <td>entailment</td>\n",
              "      <td>Сразу же после распаковки Ouya поддерживает Twitch.tv и XBMC медиа-плеер.</td>\n",
              "      <td>Сразу же после распаковки Ouya поддерживает мультимедийные приложения, такие как Twitch.tv и XBMC медиа-плеер.</td>\n",
              "      <td>NaN</td>\n",
              "      <td>Anaphora/Coreference</td>\n",
              "      <td>NaN</td>\n",
              "      <td>NaN</td>\n",
              "    </tr>\n",
              "    <tr>\n",
              "      <th>18</th>\n",
              "      <td>18</td>\n",
              "      <td>entailment</td>\n",
              "      <td>Применяя стратегию ненасильственного протеста, Ганди застал администрацию врасплох и получил уступки от властей.</td>\n",
              "      <td>Применяя стратегию протеста, Ганди застал администрацию врасплох и получил уступки от властей.</td>\n",
              "      <td>NaN</td>\n",
              "      <td>Intersectivity</td>\n",
              "      <td>NaN</td>\n",
              "      <td>NaN</td>\n",
              "    </tr>\n",
              "  </tbody>\n",
              "</table>\n",
              "</div>"
            ],
            "text/plain": [
              "    idx       label  ... lexical-semantics knowledge\n",
              "6     6  entailment  ...               NaN       NaN\n",
              "7     7  entailment  ...               NaN       NaN\n",
              "18   18  entailment  ...               NaN       NaN\n",
              "\n",
              "[3 rows x 8 columns]"
            ]
          },
          "metadata": {
            "tags": []
          },
          "execution_count": 62
        }
      ]
    },
    {
      "cell_type": "markdown",
      "metadata": {
        "id": "ZmuDuzjGPgPX"
      },
      "source": [
        "### additional negatation word: \"не\", \"никогда\", etc."
      ]
    },
    {
      "cell_type": "code",
      "metadata": {
        "colab": {
          "base_uri": "https://localhost:8080/",
          "height": 266
        },
        "id": "f88TT8QUPmRT",
        "outputId": "dd32f606-9585-4803-d71d-be592c579a76"
      },
      "source": [
        "df.iloc[[24,25,26,27]]"
      ],
      "execution_count": 65,
      "outputs": [
        {
          "output_type": "execute_result",
          "data": {
            "text/html": [
              "<div>\n",
              "<style scoped>\n",
              "    .dataframe tbody tr th:only-of-type {\n",
              "        vertical-align: middle;\n",
              "    }\n",
              "\n",
              "    .dataframe tbody tr th {\n",
              "        vertical-align: top;\n",
              "    }\n",
              "\n",
              "    .dataframe thead th {\n",
              "        text-align: right;\n",
              "    }\n",
              "</style>\n",
              "<table border=\"1\" class=\"dataframe\">\n",
              "  <thead>\n",
              "    <tr style=\"text-align: right;\">\n",
              "      <th></th>\n",
              "      <th>idx</th>\n",
              "      <th>label</th>\n",
              "      <th>sentence1</th>\n",
              "      <th>sentence2</th>\n",
              "      <th>logic</th>\n",
              "      <th>predicate-argument-structure</th>\n",
              "      <th>lexical-semantics</th>\n",
              "      <th>knowledge</th>\n",
              "    </tr>\n",
              "  </thead>\n",
              "  <tbody>\n",
              "    <tr>\n",
              "      <th>24</th>\n",
              "      <td>24</td>\n",
              "      <td>entailment</td>\n",
              "      <td>Рынок станет сложнее, но на нём не будет невозможно ориентироваться.</td>\n",
              "      <td>Рынок станет сложнее, но на нём будет возможно ориентироваться.</td>\n",
              "      <td>Double negation</td>\n",
              "      <td>NaN</td>\n",
              "      <td>Morphological negation</td>\n",
              "      <td>NaN</td>\n",
              "    </tr>\n",
              "    <tr>\n",
              "      <th>25</th>\n",
              "      <td>25</td>\n",
              "      <td>entailment</td>\n",
              "      <td>Рынок станет сложнее, но на нём будет возможно ориентироваться.</td>\n",
              "      <td>Рынок станет сложнее, но на нём не будет невозможно ориентироваться.</td>\n",
              "      <td>Double negation</td>\n",
              "      <td>NaN</td>\n",
              "      <td>Morphological negation</td>\n",
              "      <td>NaN</td>\n",
              "    </tr>\n",
              "    <tr>\n",
              "      <th>26</th>\n",
              "      <td>26</td>\n",
              "      <td>entailment</td>\n",
              "      <td>Даже после того как узнал, что это корм для животных, я не перестану когда-либо обожать Flamin' Hot Cheetos.</td>\n",
              "      <td>Даже после того как узнал, что это корм для животных, я никогда не перестану обожать Flamin' Hot Cheetos.</td>\n",
              "      <td>Double negation</td>\n",
              "      <td>NaN</td>\n",
              "      <td>Morphological negation</td>\n",
              "      <td>NaN</td>\n",
              "    </tr>\n",
              "    <tr>\n",
              "      <th>27</th>\n",
              "      <td>27</td>\n",
              "      <td>entailment</td>\n",
              "      <td>Даже после того как узнал, что это корм для животных, я никогда не перестану обожать Flamin' Hot Cheetos.</td>\n",
              "      <td>Даже после того как узнал, что это корм для животных, я не перестану когда-либо обожать Flamin' Hot Cheetos.</td>\n",
              "      <td>Double negation</td>\n",
              "      <td>NaN</td>\n",
              "      <td>Morphological negation</td>\n",
              "      <td>NaN</td>\n",
              "    </tr>\n",
              "  </tbody>\n",
              "</table>\n",
              "</div>"
            ],
            "text/plain": [
              "    idx       label  ...       lexical-semantics knowledge\n",
              "24   24  entailment  ...  Morphological negation       NaN\n",
              "25   25  entailment  ...  Morphological negation       NaN\n",
              "26   26  entailment  ...  Morphological negation       NaN\n",
              "27   27  entailment  ...  Morphological negation       NaN\n",
              "\n",
              "[4 rows x 8 columns]"
            ]
          },
          "metadata": {
            "tags": []
          },
          "execution_count": 65
        }
      ]
    },
    {
      "cell_type": "markdown",
      "metadata": {
        "id": "cZA6FsNDO2B2"
      },
      "source": [
        "###  other"
      ]
    },
    {
      "cell_type": "code",
      "metadata": {
        "colab": {
          "base_uri": "https://localhost:8080/",
          "height": 157
        },
        "id": "YQbVwr4eO1BD",
        "outputId": "31d60e64-c366-4521-9c97-a855d476d5e5"
      },
      "source": [
        "df.iloc[[22,23]]"
      ],
      "execution_count": 63,
      "outputs": [
        {
          "output_type": "execute_result",
          "data": {
            "text/html": [
              "<div>\n",
              "<style scoped>\n",
              "    .dataframe tbody tr th:only-of-type {\n",
              "        vertical-align: middle;\n",
              "    }\n",
              "\n",
              "    .dataframe tbody tr th {\n",
              "        vertical-align: top;\n",
              "    }\n",
              "\n",
              "    .dataframe thead th {\n",
              "        text-align: right;\n",
              "    }\n",
              "</style>\n",
              "<table border=\"1\" class=\"dataframe\">\n",
              "  <thead>\n",
              "    <tr style=\"text-align: right;\">\n",
              "      <th></th>\n",
              "      <th>idx</th>\n",
              "      <th>label</th>\n",
              "      <th>sentence1</th>\n",
              "      <th>sentence2</th>\n",
              "      <th>logic</th>\n",
              "      <th>predicate-argument-structure</th>\n",
              "      <th>lexical-semantics</th>\n",
              "      <th>knowledge</th>\n",
              "    </tr>\n",
              "  </thead>\n",
              "  <tbody>\n",
              "    <tr>\n",
              "      <th>22</th>\n",
              "      <td>22</td>\n",
              "      <td>entailment</td>\n",
              "      <td>Написание кода на Java не слишком отличается от программирования в наручниках.</td>\n",
              "      <td>Написание кода на Java подобно программированию в наручниках.</td>\n",
              "      <td>Double negation</td>\n",
              "      <td>NaN</td>\n",
              "      <td>Morphological negation</td>\n",
              "      <td>NaN</td>\n",
              "    </tr>\n",
              "    <tr>\n",
              "      <th>23</th>\n",
              "      <td>23</td>\n",
              "      <td>entailment</td>\n",
              "      <td>Написание кода на Java подобно программированию в наручниках.</td>\n",
              "      <td>Написание кода на Java не слишком отличается от программирования в наручниках.</td>\n",
              "      <td>Double negation</td>\n",
              "      <td>NaN</td>\n",
              "      <td>Morphological negation</td>\n",
              "      <td>NaN</td>\n",
              "    </tr>\n",
              "  </tbody>\n",
              "</table>\n",
              "</div>"
            ],
            "text/plain": [
              "    idx       label  ...       lexical-semantics knowledge\n",
              "22   22  entailment  ...  Morphological negation       NaN\n",
              "23   23  entailment  ...  Morphological negation       NaN\n",
              "\n",
              "[2 rows x 8 columns]"
            ]
          },
          "metadata": {
            "tags": []
          },
          "execution_count": 63
        }
      ]
    },
    {
      "cell_type": "code",
      "metadata": {
        "colab": {
          "base_uri": "https://localhost:8080/",
          "height": 266
        },
        "id": "vACfnT5Jpgbl",
        "outputId": "10d20308-b0f7-4bb4-b2d0-f5be61ce4afe"
      },
      "source": [
        "df[(df.label == 'not_entailment') & \n",
        "   (df.logic == 'Double negation')][['label', 'logic',\n",
        "                                     'sentence1', 'sentence2']].sample(frac=1)"
      ],
      "execution_count": null,
      "outputs": [
        {
          "output_type": "execute_result",
          "data": {
            "text/html": [
              "<div>\n",
              "<style scoped>\n",
              "    .dataframe tbody tr th:only-of-type {\n",
              "        vertical-align: middle;\n",
              "    }\n",
              "\n",
              "    .dataframe tbody tr th {\n",
              "        vertical-align: top;\n",
              "    }\n",
              "\n",
              "    .dataframe thead th {\n",
              "        text-align: right;\n",
              "    }\n",
              "</style>\n",
              "<table border=\"1\" class=\"dataframe\">\n",
              "  <thead>\n",
              "    <tr style=\"text-align: right;\">\n",
              "      <th></th>\n",
              "      <th>label</th>\n",
              "      <th>logic</th>\n",
              "      <th>sentence1</th>\n",
              "      <th>sentence2</th>\n",
              "    </tr>\n",
              "  </thead>\n",
              "  <tbody>\n",
              "    <tr>\n",
              "      <th>1065</th>\n",
              "      <td>not_entailment</td>\n",
              "      <td>Double negation</td>\n",
              "      <td>Я скажу, что она украла мои деньги.</td>\n",
              "      <td>Я не скажу, что она не крала мои деньги.</td>\n",
              "    </tr>\n",
              "    <tr>\n",
              "      <th>543</th>\n",
              "      <td>not_entailment</td>\n",
              "      <td>Double negation</td>\n",
              "      <td>Корпорация Microsoft считает иск обоснованным, потому что обнаружена единая причина для жалоб работников и истцы не выявили системной дискриминации по признаку пола.</td>\n",
              "      <td>Корпорация Microsoft считает иск необоснованным, потому что нет единой причиной для жалоб работников и истцы не выявили системной дискриминации по признаку пола.</td>\n",
              "    </tr>\n",
              "    <tr>\n",
              "      <th>1064</th>\n",
              "      <td>not_entailment</td>\n",
              "      <td>Double negation</td>\n",
              "      <td>Я не скажу, что она не крала мои деньги.</td>\n",
              "      <td>Я скажу, что она украла мои деньги.</td>\n",
              "    </tr>\n",
              "    <tr>\n",
              "      <th>542</th>\n",
              "      <td>not_entailment</td>\n",
              "      <td>Double negation</td>\n",
              "      <td>Корпорация Microsoft считает иск необоснованным, потому что нет единой причиной для жалоб работников и истцы не выявили системной дискриминации по признаку пола.</td>\n",
              "      <td>Корпорация Microsoft считает иск обоснованным, потому что обнаружена единая причина для жалоб работников и истцы не выявили системной дискриминации по признаку пола.</td>\n",
              "    </tr>\n",
              "  </tbody>\n",
              "</table>\n",
              "</div>"
            ],
            "text/plain": [
              "               label  ...                                                                                                                                                              sentence2\n",
              "1065  not_entailment  ...                                                                                                                               Я не скажу, что она не крала мои деньги.\n",
              "543   not_entailment  ...      Корпорация Microsoft считает иск необоснованным, потому что нет единой причиной для жалоб работников и истцы не выявили системной дискриминации по признаку пола.\n",
              "1064  not_entailment  ...                                                                                                                                    Я скажу, что она украла мои деньги.\n",
              "542   not_entailment  ...  Корпорация Microsoft считает иск обоснованным, потому что обнаружена единая причина для жалоб работников и истцы не выявили системной дискриминации по признаку пола.\n",
              "\n",
              "[4 rows x 4 columns]"
            ]
          },
          "metadata": {
            "tags": []
          },
          "execution_count": 7
        }
      ]
    },
    {
      "cell_type": "code",
      "metadata": {
        "colab": {
          "base_uri": "https://localhost:8080/",
          "height": 266
        },
        "id": "QFYHArf4xdaR",
        "outputId": "8c898d11-1f1f-48ea-ed57-f4ba6a2f75d2"
      },
      "source": [
        "df.iloc[542:546][['label', 'logic', 'sentence1', 'sentence2']]"
      ],
      "execution_count": null,
      "outputs": [
        {
          "output_type": "execute_result",
          "data": {
            "text/html": [
              "<div>\n",
              "<style scoped>\n",
              "    .dataframe tbody tr th:only-of-type {\n",
              "        vertical-align: middle;\n",
              "    }\n",
              "\n",
              "    .dataframe tbody tr th {\n",
              "        vertical-align: top;\n",
              "    }\n",
              "\n",
              "    .dataframe thead th {\n",
              "        text-align: right;\n",
              "    }\n",
              "</style>\n",
              "<table border=\"1\" class=\"dataframe\">\n",
              "  <thead>\n",
              "    <tr style=\"text-align: right;\">\n",
              "      <th></th>\n",
              "      <th>label</th>\n",
              "      <th>logic</th>\n",
              "      <th>sentence1</th>\n",
              "      <th>sentence2</th>\n",
              "    </tr>\n",
              "  </thead>\n",
              "  <tbody>\n",
              "    <tr>\n",
              "      <th>542</th>\n",
              "      <td>not_entailment</td>\n",
              "      <td>Double negation</td>\n",
              "      <td>Корпорация Microsoft считает иск необоснованным, потому что нет единой причиной для жалоб работников и истцы не выявили системной дискриминации по признаку пола.</td>\n",
              "      <td>Корпорация Microsoft считает иск обоснованным, потому что обнаружена единая причина для жалоб работников и истцы не выявили системной дискриминации по признаку пола.</td>\n",
              "    </tr>\n",
              "    <tr>\n",
              "      <th>543</th>\n",
              "      <td>not_entailment</td>\n",
              "      <td>Double negation</td>\n",
              "      <td>Корпорация Microsoft считает иск обоснованным, потому что обнаружена единая причина для жалоб работников и истцы не выявили системной дискриминации по признаку пола.</td>\n",
              "      <td>Корпорация Microsoft считает иск необоснованным, потому что нет единой причиной для жалоб работников и истцы не выявили системной дискриминации по признаку пола.</td>\n",
              "    </tr>\n",
              "    <tr>\n",
              "      <th>544</th>\n",
              "      <td>not_entailment</td>\n",
              "      <td>Negation</td>\n",
              "      <td>Корпорация Microsoft считает иск необоснованным, потому что нет единой причиной для жалоб работников и истцы не выявили системной дискриминации по признаку пола.</td>\n",
              "      <td>Корпорация Microsoft считает иск обоснованным, потому что нет единой причиной для жалоб работников и истцы не выявили системной дискриминации по признаку пола.</td>\n",
              "    </tr>\n",
              "    <tr>\n",
              "      <th>545</th>\n",
              "      <td>not_entailment</td>\n",
              "      <td>Negation</td>\n",
              "      <td>Корпорация Microsoft считает иск обоснованным, потому что нет единой причиной для жалоб работников и истцы не выявили системной дискриминации по признаку пола.</td>\n",
              "      <td>Корпорация Microsoft считает иск необоснованным, потому что нет единой причиной для жалоб работников и истцы не выявили системной дискриминации по признаку пола.</td>\n",
              "    </tr>\n",
              "  </tbody>\n",
              "</table>\n",
              "</div>"
            ],
            "text/plain": [
              "              label  ...                                                                                                                                                              sentence2\n",
              "542  not_entailment  ...  Корпорация Microsoft считает иск обоснованным, потому что обнаружена единая причина для жалоб работников и истцы не выявили системной дискриминации по признаку пола.\n",
              "543  not_entailment  ...      Корпорация Microsoft считает иск необоснованным, потому что нет единой причиной для жалоб работников и истцы не выявили системной дискриминации по признаку пола.\n",
              "544  not_entailment  ...        Корпорация Microsoft считает иск обоснованным, потому что нет единой причиной для жалоб работников и истцы не выявили системной дискриминации по признаку пола.\n",
              "545  not_entailment  ...      Корпорация Microsoft считает иск необоснованным, потому что нет единой причиной для жалоб работников и истцы не выявили системной дискриминации по признаку пола.\n",
              "\n",
              "[4 rows x 4 columns]"
            ]
          },
          "metadata": {
            "tags": []
          },
          "execution_count": 8
        }
      ]
    },
    {
      "cell_type": "code",
      "metadata": {
        "id": "b9XNog0I5XrW"
      },
      "source": [
        ""
      ],
      "execution_count": null,
      "outputs": []
    }
  ]
}