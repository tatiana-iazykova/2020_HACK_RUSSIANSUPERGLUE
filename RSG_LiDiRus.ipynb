{
  "nbformat": 4,
  "nbformat_minor": 0,
  "metadata": {
    "colab": {
      "name": "RSG_LiDiRus.ipynb\"",
      "provenance": [],
      "collapsed_sections": [],
      "authorship_tag": "ABX9TyO4GaVewdquhbHWRsdCQN8h",
      "include_colab_link": true
    },
    "kernelspec": {
      "name": "python3",
      "display_name": "Python 3"
    }
  },
  "cells": [
    {
      "cell_type": "markdown",
      "metadata": {
        "id": "view-in-github",
        "colab_type": "text"
      },
      "source": [
        "<a href=\"https://colab.research.google.com/github/tatiana-iazykova/2020_HACK_RUSSIANSUPERGLUE/blob/main/RSG_LiDiRus.ipynb\" target=\"_parent\"><img src=\"https://colab.research.google.com/assets/colab-badge.svg\" alt=\"Open In Colab\"/></a>"
      ]
    },
    {
      "cell_type": "markdown",
      "metadata": {
        "id": "Q4GGQ1Z8dNDq"
      },
      "source": [
        "# Load Data"
      ]
    },
    {
      "cell_type": "code",
      "metadata": {
        "id": "RsL57-5kTLgJ"
      },
      "source": [
        "%%capture\n",
        "%%bash\n",
        "# change url if you want to work with a different RSG dataset\n",
        "wget -q --show-progress \"https://russiansuperglue.com/ru/tasks/download/LiDiRus\" -O temp.zip\n",
        "unzip temp.zip -d data\n",
        "\n",
        "# remove unnecessary directories and files\n",
        "rm temp.zip\n",
        "rm -r data/__MACOSX\n",
        "rm -r sample_data/\n",
        "\n",
        "# AX-b original English diagnostic dataset\n",
        "# change url if you want to work with a different RSG dataset\n",
        "wget -q --show-progress \"https://dl.fbaipublicfiles.com/glue/superglue/data/v2/AX-b.zip\" -O temp.zip\n",
        "unzip temp.zip -d data\n",
        "\n",
        "# remove unnecessary directories and files\n",
        "rm temp.zip\n",
        "\n",
        "# RSG TERRA dataset -> only to reproduce TfIdf baseline\n",
        "# change url if you want to work with a different RSG dataset\n",
        "wget -q --show-progress \"https://russiansuperglue.com/tasks/download/TERRa\" -O temp.zip\n",
        "unzip temp.zip -d data\n",
        "rm -r data/__MACOSX\n",
        "\n",
        "# remove unnecessary directories and files\n",
        "rm temp.zip"
      ],
      "execution_count": 1,
      "outputs": []
    },
    {
      "cell_type": "code",
      "metadata": {
        "id": "djqk3jJc9yfh"
      },
      "source": [
        "# Load necessary code files and models from https://github.com/RussianNLP/RussianSuperGLUE \r\n",
        "# to recreate TfIdf baseline\r\n",
        "\r\n",
        "%%capture\r\n",
        "%%bash\r\n",
        "# load tfidf pickle created by RSG team\r\n",
        "wget -q --show-progress \"https://russiansuperglue.com/tasks/tf_idf\" -O temp.zip\r\n",
        "unzip temp.zip -d data\r\n",
        "rm temp.zip\r\n",
        "\r\n",
        "# Make sure you donwload with the raw file link\r\n",
        "# Keep the link relevant to your dataset\r\n",
        "wget -q --show-progress \"https://github.com/RussianNLP/RussianSuperGLUE/raw/master/tfidf_baseline/LiDiRus.py\" -O LiDiRus.py\r\n",
        "\r\n",
        "# Load modules to solve this dataset tasks\r\n",
        "wget -q --show-progress \"https://github.com/tatiana-iazykova/2020_HACK_RUSSIANSUPERGLUE/raw/main/base.py\" -O base.py\r\n",
        "wget -q --show-progress \"https://github.com/tatiana-iazykova/2020_HACK_RUSSIANSUPERGLUE/raw/main/utils.py\" -O utils.py\r\n",
        "wget -q --show-progress \"https://github.com/tatiana-iazykova/2020_HACK_RUSSIANSUPERGLUE/raw/main/Solvers/LiDiRusSolver.py\" -O LiDiRusSolver.py"
      ],
      "execution_count": 2,
      "outputs": []
    },
    {
      "cell_type": "code",
      "metadata": {
        "id": "Wh_Pi5TXfVBI"
      },
      "source": [
        "%%capture\n",
        "%%bash\n",
        "# add tree package for fancy directory display\n",
        "apt-get install tree"
      ],
      "execution_count": 3,
      "outputs": []
    },
    {
      "cell_type": "code",
      "metadata": {
        "id": "87zEZXR_xzmF",
        "colab": {
          "base_uri": "https://localhost:8080/"
        },
        "outputId": "8c21905f-b844-4f76-ef43-7f0746ca795c"
      },
      "source": [
        "# display the content of the folder\n",
        "!tree"
      ],
      "execution_count": 4,
      "outputs": [
        {
          "output_type": "stream",
          "text": [
            ".\n",
            "├── base.py\n",
            "├── data\n",
            "│   ├── AX-b\n",
            "│   │   └── AX-b.jsonl\n",
            "│   ├── LiDiRus\n",
            "│   │   └── LiDiRus.jsonl\n",
            "│   ├── TERRa\n",
            "│   │   ├── test.jsonl\n",
            "│   │   ├── train.jsonl\n",
            "│   │   └── val.jsonl\n",
            "│   └── tfidf.pkl\n",
            "├── LiDiRus.py\n",
            "├── LiDiRusSolver.py\n",
            "└── utils.py\n",
            "\n",
            "4 directories, 10 files\n"
          ],
          "name": "stdout"
        }
      ]
    },
    {
      "cell_type": "markdown",
      "metadata": {
        "id": "YRgZP2s3YWKd"
      },
      "source": [
        "# **Solving LiDiRus with heuristics**"
      ]
    },
    {
      "cell_type": "code",
      "metadata": {
        "id": "ome2yeUmUyGy"
      },
      "source": [
        "%%capture\r\n",
        "# to lemmantize, install these two dependancies\r\n",
        "!pip3 install pyMorphy2[fast]\r\n",
        "!pip3 install razdel"
      ],
      "execution_count": 5,
      "outputs": []
    },
    {
      "cell_type": "code",
      "metadata": {
        "id": "nqYg1rceGzhq"
      },
      "source": [
        "import numpy as np\r\n",
        "from LiDiRusSolver import LiDiRusSolver\r\n",
        "from base import seed_everything\r\n",
        "from sklearn.metrics import matthews_corrcoef\r\n",
        "\r\n",
        "solver = LiDiRusSolver(path='data/LiDiRus/LiDiRus.jsonl',\r\n",
        "                       path_valid='data/LiDiRus/LiDiRus.jsonl')\r\n",
        "solver.preprocess()\r\n",
        "\r\n",
        "SEEDS = [42, 23, 1234567]"
      ],
      "execution_count": 18,
      "outputs": []
    },
    {
      "cell_type": "markdown",
      "metadata": {
        "id": "2IO5UyQ7K5nQ"
      },
      "source": [
        "## **All heursitics at once**"
      ]
    },
    {
      "cell_type": "code",
      "metadata": {
        "id": "6_QYXnly6Umw",
        "outputId": "3ec193cc-1070-4c8d-a3a4-94b743d1ea22",
        "colab": {
          "base_uri": "https://localhost:8080/"
        }
      },
      "source": [
        "y_true, y_pred = solver.heuristics(final_decision=solver.majority_class)\r\n",
        "print(f\"All heuristics + Majority class\")\r\n",
        "print(f\"MC score is {matthews_corrcoef(y_true, y_pred)}\")"
      ],
      "execution_count": 26,
      "outputs": [
        {
          "output_type": "stream",
          "text": [
            "Heuristics appears for 743 samples, 480 of them correct\n",
            "All heuristics + Majority class\n",
            "MC score is 0.1468301818966266\n"
          ],
          "name": "stdout"
        }
      ]
    },
    {
      "cell_type": "code",
      "metadata": {
        "id": "zo6QyuY27En-",
        "outputId": "3ab749bf-2c91-49e0-850d-030ef9fedadb",
        "colab": {
          "base_uri": "https://localhost:8080/"
        }
      },
      "source": [
        "metrics = []\r\n",
        "for seed in SEEDS:\r\n",
        "    y_true, y_pred = solver.heuristics(final_decision=solver.random_choice)\r\n",
        "    metrics.append(matthews_corrcoef(y_true, y_pred))\r\n",
        "print(f'All heuristics + Random choice')\r\n",
        "print(f\"Average MC score over {len(SEEDS)} experiments: {np.array(metrics).mean()}\")"
      ],
      "execution_count": 32,
      "outputs": [
        {
          "output_type": "stream",
          "text": [
            "Heuristics appears for 743 samples, 480 of them correct\n",
            "Heuristics appears for 743 samples, 480 of them correct\n",
            "Heuristics appears for 743 samples, 480 of them correct\n",
            "All heuristics + Random choice\n",
            "Average MC score over 3 experiments: 0.16028549237965636\n"
          ],
          "name": "stdout"
        }
      ]
    },
    {
      "cell_type": "code",
      "metadata": {
        "id": "i-x0-r0S7Obb",
        "outputId": "cb32e169-d604-4e59-9ec8-ed8ef48f6a16",
        "colab": {
          "base_uri": "https://localhost:8080/"
        }
      },
      "source": [
        "metrics = []\r\n",
        "for seed in SEEDS:\r\n",
        "    y_true, y_pred = solver.heuristics(final_decision=solver.random_balanced_choice)\r\n",
        "    metrics.append(matthews_corrcoef(y_true, y_pred))\r\n",
        "print(f'All heuristics + Random balanced choice')\r\n",
        "print(f\"Average MC score over {len(SEEDS)} experiments: {np.array(metrics).mean()}\")"
      ],
      "execution_count": 35,
      "outputs": [
        {
          "output_type": "stream",
          "text": [
            "Heuristics appears for 743 samples, 480 of them correct\n",
            "Heuristics appears for 743 samples, 480 of them correct\n",
            "Heuristics appears for 743 samples, 480 of them correct\n",
            "All heuristics + Random balanced choice\n",
            "Average MC score over 3 experiments: 0.15619853885506021\n"
          ],
          "name": "stdout"
        }
      ]
    },
    {
      "cell_type": "markdown",
      "metadata": {
        "id": "ZauzWywCDvm4"
      },
      "source": [
        "## **Solving with a single heuristic only**"
      ]
    },
    {
      "cell_type": "markdown",
      "metadata": {
        "id": "pduxsTOtJMI1"
      },
      "source": [
        "### Presence of certain words"
      ]
    },
    {
      "cell_type": "markdown",
      "metadata": {
        "id": "ZYd7UK-sCVcQ"
      },
      "source": [
        "These words lead to **not_etailment**:\r\n",
        "{'и', \"не\", \"никогда\", \"вовсе\", 'что', \"это\"}"
      ]
    },
    {
      "cell_type": "code",
      "metadata": {
        "colab": {
          "base_uri": "https://localhost:8080/"
        },
        "id": "sU30x6W3Ideq",
        "outputId": "38aaea8e-4c10-4d1d-d518-be1dda9b28ad"
      },
      "source": [
        "print('wordlist + Majority class')\r\n",
        "y_true, y_pred = solver.heuristics(final_decision=solver.majority_class,\r\n",
        "                                   heuristic = {\"not_entailment\": \"wordlist\"})\r\n",
        "print(f\"MC score is {matthews_corrcoef(y_true, y_pred)}\")\r\n",
        "print('\\n')\r\n",
        "print('wordlist + Random choice')\r\n",
        "y_true, y_pred = solver.heuristics(final_decision=solver.random_choice,\r\n",
        "                                   heuristic = {\"not_entailment\": \"wordlist\"})\r\n",
        "print(f\"MC score is {matthews_corrcoef(y_true, y_pred)}\")\r\n",
        "print('\\n')\r\n",
        "print('wordlist + Random balanced choice')\r\n",
        "y_true, y_pred = solver.heuristics(final_decision=solver.random_balanced_choice,\r\n",
        "                                   heuristic = {\"not_entailment\": \"wordlist\"})\r\n",
        "print(f\"MC score is {matthews_corrcoef(y_true, y_pred)}\")"
      ],
      "execution_count": 37,
      "outputs": [
        {
          "output_type": "stream",
          "text": [
            "wordlist + Majority class\n",
            "Heuristics appears for 324 samples, 215 of them correct\n",
            "MC score is 0.0\n",
            "\n",
            "\n",
            "wordlist + Random choice\n"
          ],
          "name": "stdout"
        },
        {
          "output_type": "stream",
          "text": [
            "/usr/local/lib/python3.6/dist-packages/sklearn/metrics/_classification.py:900: RuntimeWarning: invalid value encountered in double_scalars\n",
            "  mcc = cov_ytyp / np.sqrt(cov_ytyt * cov_ypyp)\n"
          ],
          "name": "stderr"
        },
        {
          "output_type": "stream",
          "text": [
            "Heuristics appears for 324 samples, 215 of them correct\n",
            "MC score is 0.06105850725690931\n",
            "\n",
            "\n",
            "wordlist + Random balanced choice\n",
            "Heuristics appears for 324 samples, 215 of them correct\n",
            "MC score is 0.030518602656269548\n"
          ],
          "name": "stdout"
        }
      ]
    },
    {
      "cell_type": "markdown",
      "metadata": {
        "id": "eYvnhKm5CZq7"
      },
      "source": [
        "These words lead to **etailment**: {\"чтобы\", 'будет', \"от\", \"он\"}"
      ]
    },
    {
      "cell_type": "code",
      "metadata": {
        "id": "OivRSQcnCZK8",
        "colab": {
          "base_uri": "https://localhost:8080/"
        },
        "outputId": "04f891a8-be48-4158-95c9-56063f6da34b"
      },
      "source": [
        "print('wordlist + Majority class')\r\n",
        "y_true, y_pred = solver.heuristics(final_decision=solver.majority_class,\r\n",
        "                                   heuristic = {\"entailment\": \"wordlist\"})\r\n",
        "print(f\"MC score is {matthews_corrcoef(y_true, y_pred)}\")\r\n",
        "print('\\n')\r\n",
        "print('wordlist + Random choice')\r\n",
        "y_true, y_pred = solver.heuristics(final_decision=solver.random_choice,\r\n",
        "                                   heuristic = {\"entailment\": \"wordlist\"})\r\n",
        "print(f\"MC score is {matthews_corrcoef(y_true, y_pred)}\")\r\n",
        "print('\\n')\r\n",
        "print('wordlist + Random balanced choice')\r\n",
        "y_true, y_pred = solver.heuristics(final_decision=solver.random_balanced_choice,\r\n",
        "                                   heuristic = {\"entailment\": \"wordlist\"})\r\n",
        "print(f\"MC score is {matthews_corrcoef(y_true, y_pred)}\")"
      ],
      "execution_count": 38,
      "outputs": [
        {
          "output_type": "stream",
          "text": [
            "wordlist + Majority class\n",
            "Heuristics appears for 128 samples, 73 of them correct\n",
            "MC score is 0.1135629172396206\n",
            "\n",
            "\n",
            "wordlist + Random choice\n",
            "Heuristics appears for 128 samples, 73 of them correct\n",
            "MC score is 0.03115998708469565\n",
            "\n",
            "\n",
            "wordlist + Random balanced choice\n",
            "Heuristics appears for 128 samples, 73 of them correct\n",
            "MC score is 0.05480158001362251\n"
          ],
          "name": "stdout"
        }
      ]
    },
    {
      "cell_type": "markdown",
      "metadata": {
        "id": "3uzDu2HzJd29"
      },
      "source": [
        "### Sentences 1 and 2 have one unique word *each*\r\n",
        "\r\n",
        "This heuristic catches the following pairs:\r\n",
        "*   I love RSG tasks. VS I like RSG tasks. [like, love]\r\n",
        "\r\n",
        "**NB**: The sentences of this type are also caught as TRUE:\r\n",
        "\r\n",
        "\r\n",
        "*   I like RSG tasks. VS I really like these RSG tasks. [\"really\", \"these\"]\r\n",
        "\r\n",
        "\r\n",
        "\r\n",
        "\r\n"
      ]
    },
    {
      "cell_type": "code",
      "metadata": {
        "colab": {
          "base_uri": "https://localhost:8080/"
        },
        "id": "7Ndcwy6lJc_S",
        "outputId": "ebdf956a-8388-4ddf-933e-97b46a2ba11d"
      },
      "source": [
        "print('keyword + Majority class')\r\n",
        "y_true, y_pred = solver.heuristics(final_decision=solver.majority_class,\r\n",
        "                                   heuristic = {\"not_entailment\": \"keyword\"})\r\n",
        "print(f\"MC score is {matthews_corrcoef(y_true, y_pred)}\")\r\n",
        "print('\\n')\r\n",
        "print('keyword + Random choice')\r\n",
        "y_true, y_pred = solver.heuristics(final_decision=solver.random_choice,\r\n",
        "                                   heuristic = {\"not_entailment\": \"keyword\"})\r\n",
        "print(f\"MC score is {matthews_corrcoef(y_true, y_pred)}\")\r\n",
        "print('\\n')\r\n",
        "print('keyword + Random balanced choice')\r\n",
        "y_true, y_pred = solver.heuristics(final_decision=solver.random_balanced_choice,\r\n",
        "                                   heuristic = {\"not_entailment\": \"keyword\"})\r\n",
        "print(f\"MC score is {matthews_corrcoef(y_true, y_pred)}\")"
      ],
      "execution_count": 39,
      "outputs": [
        {
          "output_type": "stream",
          "text": [
            "keyword + Majority class\n",
            "Heuristics appears for 177 samples, 118 of them correct\n",
            "MC score is 0.0\n",
            "\n",
            "\n",
            "keyword + Random choice\n"
          ],
          "name": "stdout"
        },
        {
          "output_type": "stream",
          "text": [
            "/usr/local/lib/python3.6/dist-packages/sklearn/metrics/_classification.py:900: RuntimeWarning: invalid value encountered in double_scalars\n",
            "  mcc = cov_ytyp / np.sqrt(cov_ytyt * cov_ypyp)\n"
          ],
          "name": "stderr"
        },
        {
          "output_type": "stream",
          "text": [
            "Heuristics appears for 177 samples, 118 of them correct\n",
            "MC score is 0.023044474797014863\n",
            "\n",
            "\n",
            "keyword + Random balanced choice\n",
            "Heuristics appears for 177 samples, 118 of them correct\n",
            "MC score is 0.07184652446326294\n"
          ],
          "name": "stdout"
        }
      ]
    },
    {
      "cell_type": "markdown",
      "metadata": {
        "id": "IiN16A6_yfux"
      },
      "source": [
        "### Too many non-intersecting words between sentence 1 and 2 "
      ]
    },
    {
      "cell_type": "code",
      "metadata": {
        "colab": {
          "base_uri": "https://localhost:8080/"
        },
        "id": "CodAIms4Azd1",
        "outputId": "67ef339b-0c72-4fee-eb6c-93adcd087b2c"
      },
      "source": [
        "print('little overlap + Majority class')\r\n",
        "y_true, y_pred = solver.heuristics(final_decision=solver.majority_class,\r\n",
        "                                   heuristic = {\"not_entailment\": \"little overlap\"})\r\n",
        "print(f\"MC score is {matthews_corrcoef(y_true, y_pred)}\")\r\n",
        "print('\\n')\r\n",
        "print('little overlap + Random choice')\r\n",
        "y_true, y_pred = solver.heuristics(final_decision=solver.random_choice,\r\n",
        "                                   heuristic = {\"not_entailment\": \"little overlap\"})\r\n",
        "print(f\"MC score is {matthews_corrcoef(y_true, y_pred)}\")\r\n",
        "print('\\n')\r\n",
        "print('little overlap + Random balanced choice')\r\n",
        "y_true, y_pred = solver.heuristics(final_decision=solver.random_balanced_choice,\r\n",
        "                                   heuristic = {\"not_entailment\": \"little overlap\"})\r\n",
        "print(f\"MC score is {matthews_corrcoef(y_true, y_pred)}\")"
      ],
      "execution_count": 40,
      "outputs": [
        {
          "output_type": "stream",
          "text": [
            "little overlap + Majority class\n",
            "Heuristics appears for 268 samples, 175 of them correct\n",
            "MC score is 0.0\n",
            "\n",
            "\n",
            "little overlap + Random choice\n"
          ],
          "name": "stdout"
        },
        {
          "output_type": "stream",
          "text": [
            "/usr/local/lib/python3.6/dist-packages/sklearn/metrics/_classification.py:900: RuntimeWarning: invalid value encountered in double_scalars\n",
            "  mcc = cov_ytyp / np.sqrt(cov_ytyt * cov_ypyp)\n"
          ],
          "name": "stderr"
        },
        {
          "output_type": "stream",
          "text": [
            "Heuristics appears for 268 samples, 175 of them correct\n",
            "MC score is 0.06603497698252156\n",
            "\n",
            "\n",
            "little overlap + Random balanced choice\n",
            "Heuristics appears for 268 samples, 175 of them correct\n",
            "MC score is 0.08699220515984948\n"
          ],
          "name": "stdout"
        }
      ]
    },
    {
      "cell_type": "markdown",
      "metadata": {
        "id": "DPsdzWSjKzyi"
      },
      "source": [
        "### Extra clause in one of the sentences\r\n",
        "\r\n",
        "This heuristic triggers when there are two extra commas in one of the sentences\r\n"
      ]
    },
    {
      "cell_type": "code",
      "metadata": {
        "colab": {
          "base_uri": "https://localhost:8080/"
        },
        "id": "HJuQvIhOK5Wg",
        "outputId": "ed3ce53d-29bd-4932-a999-9c60d4cfeffa"
      },
      "source": [
        "print('extra clause + Majority class')\r\n",
        "y_true, y_pred = solver.heuristics(final_decision=solver.majority_class,\r\n",
        "                                   heuristic = {\"not_entailment\": \"extra clause\"})\r\n",
        "print(f\"MC score is {matthews_corrcoef(y_true, y_pred)}\")\r\n",
        "print('\\n')\r\n",
        "print('extra clause + Random choice')\r\n",
        "y_true, y_pred = solver.heuristics(final_decision=solver.random_choice,\r\n",
        "                                   heuristic = {\"not_entailment\": \"extra clause\"})\r\n",
        "print(f\"MC score is {matthews_corrcoef(y_true, y_pred)}\")\r\n",
        "print('\\n')\r\n",
        "print('extra clause + Random balanced choice')\r\n",
        "y_true, y_pred = solver.heuristics(final_decision=solver.random_balanced_choice,\r\n",
        "                                   heuristic = {\"not_entailment\": \"extra clause\"})\r\n",
        "print(f\"MC score is {matthews_corrcoef(y_true, y_pred)}\")"
      ],
      "execution_count": 41,
      "outputs": [
        {
          "output_type": "stream",
          "text": [
            "extra clause + Majority class\n",
            "Heuristics appears for 301 samples, 193 of them correct\n",
            "MC score is 0.0\n",
            "\n",
            "\n",
            "extra clause + Random choice\n"
          ],
          "name": "stdout"
        },
        {
          "output_type": "stream",
          "text": [
            "/usr/local/lib/python3.6/dist-packages/sklearn/metrics/_classification.py:900: RuntimeWarning: invalid value encountered in double_scalars\n",
            "  mcc = cov_ytyp / np.sqrt(cov_ytyt * cov_ypyp)\n"
          ],
          "name": "stderr"
        },
        {
          "output_type": "stream",
          "text": [
            "Heuristics appears for 301 samples, 193 of them correct\n",
            "MC score is 0.02751247973751072\n",
            "\n",
            "\n",
            "extra clause + Random balanced choice\n",
            "Heuristics appears for 301 samples, 193 of them correct\n",
            "MC score is 0.08153204830622662\n"
          ],
          "name": "stdout"
        }
      ]
    },
    {
      "cell_type": "markdown",
      "metadata": {
        "id": "GZROVonbjKab"
      },
      "source": [
        "### All Lemmas in sentences 1 and 2 overlap"
      ]
    },
    {
      "cell_type": "code",
      "metadata": {
        "colab": {
          "base_uri": "https://localhost:8080/"
        },
        "id": "L00t32x9jJu9",
        "outputId": "b2ff5a8b-6655-4ad7-bcfd-92397aae3012"
      },
      "source": [
        "print('All lemmas overlap + Majority class')\r\n",
        "y_true, y_pred = solver.heuristics(final_decision=solver.majority_class,\r\n",
        "                                   heuristic = {\"entailment\": \"all lemmas overlap\"})\r\n",
        "print(f\"MC score is {matthews_corrcoef(y_true, y_pred)}\")\r\n",
        "print('\\n')\r\n",
        "print('All lemmas overlap + Random choice')\r\n",
        "y_true, y_pred = solver.heuristics(final_decision=solver.random_choice,\r\n",
        "                                   heuristic = {\"entailment\": \"all lemmas overlap\"})\r\n",
        "print(f\"MC score is {matthews_corrcoef(y_true, y_pred)}\")\r\n",
        "print('\\n')\r\n",
        "print('All lemmas overlap + Random balanced choice')\r\n",
        "y_true, y_pred = solver.heuristics(final_decision=solver.random_balanced_choice,\r\n",
        "                                   heuristic = {\"entailment\": \"all lemmas overlap\"})\r\n",
        "print(f\"MC score is {matthews_corrcoef(y_true, y_pred)}\")"
      ],
      "execution_count": 42,
      "outputs": [
        {
          "output_type": "stream",
          "text": [
            "All lemmas overlap + Majority class\n",
            "Heuristics appears for 45 samples, 29 of them correct\n",
            "MC score is 0.09564805053434217\n",
            "\n",
            "\n",
            "All lemmas overlap + Random choice\n",
            "Heuristics appears for 45 samples, 29 of them correct\n",
            "MC score is 0.0621714403614308\n",
            "\n",
            "\n",
            "All lemmas overlap + Random balanced choice\n",
            "Heuristics appears for 45 samples, 29 of them correct\n",
            "MC score is 0.013045717448494962\n"
          ],
          "name": "stdout"
        }
      ]
    },
    {
      "cell_type": "markdown",
      "metadata": {
        "id": "2pOvEcxzckah"
      },
      "source": [
        "# Reproduce TfIdf baseline"
      ]
    },
    {
      "cell_type": "code",
      "metadata": {
        "id": "unIQyAc9cpJN",
        "colab": {
          "base_uri": "https://localhost:8080/"
        },
        "outputId": "2c7651bb-49c2-4d30-9dd4-0771664f6055"
      },
      "source": [
        "import pickle\r\n",
        "import codecs\r\n",
        "import joblib\r\n",
        "import LiDiRus\r\n",
        "\r\n",
        "from sklearn.linear_model import LogisticRegression\r\n",
        "from sklearn.metrics import classification_report\r\n",
        "\r\n",
        "vect = joblib.load(\"data/tfidf.pkl\")"
      ],
      "execution_count": null,
      "outputs": [
        {
          "output_type": "stream",
          "text": [
            "/usr/local/lib/python3.6/dist-packages/sklearn/base.py:318: UserWarning: Trying to unpickle estimator TfidfTransformer from version 0.21.3 when using version 0.22.2.post1. This might lead to breaking code or invalid results. Use at your own risk.\n",
            "  UserWarning)\n",
            "/usr/local/lib/python3.6/dist-packages/sklearn/base.py:318: UserWarning: Trying to unpickle estimator TfidfVectorizer from version 0.21.3 when using version 0.22.2.post1. This might lead to breaking code or invalid results. Use at your own risk.\n",
            "  UserWarning)\n"
          ],
          "name": "stderr"
        }
      ]
    },
    {
      "cell_type": "code",
      "metadata": {
        "id": "FZyNXWpoc6xc",
        "colab": {
          "base_uri": "https://localhost:8080/"
        },
        "outputId": "b2e66809-5d9f-4a85-d592-ef0157dd757f"
      },
      "source": [
        "# Note that train and val datasets are not from LiDiRus as it is a diagnostics dataset\r\n",
        "train_path = \"data/TERRa/train.jsonl\"\r\n",
        "val_path = \"data/TERRa/val.jsonl\"\r\n",
        "test_path = \"data/LiDiRus/LiDiRus.jsonl\"\r\n",
        "\r\n",
        "_, LiDiRus_scores = LiDiRus.eval_LiDiRus(train_path, val_path, test_path, vect)\r\n",
        "LiDiRus_scores[\"test\"]"
      ],
      "execution_count": null,
      "outputs": [
        {
          "output_type": "execute_result",
          "data": {
            "text/plain": [
              "0.05974021843803689"
            ]
          },
          "metadata": {
            "tags": []
          },
          "execution_count": 15
        }
      ]
    },
    {
      "cell_type": "markdown",
      "metadata": {
        "id": "RLSJqbzZ8G6C"
      },
      "source": [
        "# Explore Ru and Eng dataset\r\n",
        "\r\n",
        "Russian is a manual translation of an English diagnistic dataset\r\n",
        "https://russiansuperglue.com/tasks/task_info/LiDiRus"
      ]
    },
    {
      "cell_type": "code",
      "metadata": {
        "id": "JEMN6xPS0BV5"
      },
      "source": [
        "import pandas as pd\r\n",
        "pd.set_option('display.max_colwidth', 1000)\r\n",
        "pd.set_option('display.max_rows', 20)\r\n",
        "\r\n",
        "class JSONL_handler():\r\n",
        "    \"\"\" opens a jsonl file and turns it into a necessary data structure \"\"\"\r\n",
        "    \r\n",
        "    def __init__(self, path):\r\n",
        "        self.path = path # path to jsonl file\r\n",
        "\r\n",
        "    def to_pandas(self):\r\n",
        "        \"\"\" get jsonl file content as a pandas DataFrame\"\"\"\r\n",
        "        return pd.read_json(path_or_buf=self.path, lines=True)"
      ],
      "execution_count": null,
      "outputs": []
    },
    {
      "cell_type": "code",
      "metadata": {
        "id": "MiC1uURW0IHf"
      },
      "source": [
        "handler = JSONL_handler('data/LiDiRus/LiDiRus.jsonl')\r\n",
        "df = handler.to_pandas()\r\n",
        "handler_en = JSONL_handler('data/AX-b/AX-b.jsonl')\r\n",
        "df_en = handler.to_pandas()"
      ],
      "execution_count": null,
      "outputs": []
    },
    {
      "cell_type": "code",
      "metadata": {
        "id": "4zJaFGLB_SEw"
      },
      "source": [
        "import matplotlib.pyplot as plt"
      ],
      "execution_count": null,
      "outputs": []
    },
    {
      "cell_type": "code",
      "metadata": {
        "colab": {
          "base_uri": "https://localhost:8080/",
          "height": 239
        },
        "id": "4kA-aL6aALSJ",
        "outputId": "a19978c5-4efc-4693-b713-4464567227e7"
      },
      "source": [
        "plt.subplot(1,2,1)\r\n",
        "colours = {'#9ddca6', '#f0afb6', '#eeb87c'}\r\n",
        "\r\n",
        "plt.title('Label distribution\\n in SG\\n', fontsize=14)\r\n",
        "plt.pie(df_en['label'].value_counts(), autopct=\"%.1f%%\", explode=[0.05]*2, labels=df_en['label'].value_counts().keys(), pctdistance=0.5, textprops = dict(fontsize = 12), colors=colours)\r\n",
        "\r\n",
        "plt.subplot(1,2,2)\r\n",
        "\r\n",
        "plt.title('Label distribution\\n in RSG\\n', fontsize=14)\r\n",
        "plt.pie(df['label'].value_counts(), autopct=\"%.1f%%\", explode=[0.05]*2, labels=df['label'].value_counts().keys(), pctdistance=0.5, textprops = dict(fontsize = 12), colors=colours)\r\n",
        "\r\n",
        "plt.tight_layout()\r\n",
        "plt.show()"
      ],
      "execution_count": null,
      "outputs": [
        {
          "output_type": "display_data",
          "data": {
            "image/png": "[encoded data removed]",
            "text/plain": [
              "<Figure size 432x288 with 2 Axes>"
            ]
          },
          "metadata": {
            "tags": []
          }
        }
      ]
    },
    {
      "cell_type": "markdown",
      "metadata": {
        "id": "iEJo6iFC4MzT"
      },
      "source": [
        "# Feature analysis"
      ]
    },
    {
      "cell_type": "code",
      "metadata": {
        "id": "0ErE3k9o4Pr1"
      },
      "source": [
        "%%capture\r\n",
        "!pip install eli5"
      ],
      "execution_count": null,
      "outputs": []
    },
    {
      "cell_type": "code",
      "metadata": {
        "id": "4EjQ0WHA4XZN"
      },
      "source": [
        "import numpy as np\r\n",
        "import eli5\r\n",
        "from sklearn.linear_model import SGDClassifier\r\n",
        "from sklearn.model_selection import train_test_split\r\n",
        "from sklearn.feature_extraction.text import TfidfVectorizer\r\n",
        "from sklearn.metrics import matthews_corrcoef"
      ],
      "execution_count": null,
      "outputs": []
    },
    {
      "cell_type": "code",
      "metadata": {
        "id": "4qcMUsAV4wS8",
        "colab": {
          "base_uri": "https://localhost:8080/"
        },
        "outputId": "8826e25f-a511-4aaa-b656-ad05db25f187"
      },
      "source": [
        "vectorizer = TfidfVectorizer()\r\n",
        "clf = SGDClassifier(loss=\"log\", n_jobs=-1, alpha=0.15, class_weight='balanced', random_state=42)\r\n",
        "\r\n",
        "df = df.assign(merged=lambda x: x.sentence1 + \"\\n\" + x.sentence2)\r\n",
        "\r\n",
        "train_texts, test_texts, train_labels, test_labels = train_test_split(df.merged,\r\n",
        "                                                                      df.label,\r\n",
        "                                                                      test_size=0.1,\r\n",
        "                                                                      shuffle=True)\r\n",
        "\r\n",
        "\r\n",
        "X = vectorizer.fit_transform(train_texts)\r\n",
        "X_test = vectorizer.transform(test_texts) \r\n",
        "\r\n",
        "y = np.array(train_labels)\r\n",
        "y_test = np.array(test_labels)\r\n",
        "\r\n",
        "clf.fit(X, y)\r\n",
        "preds = clf.predict(X_test)\r\n",
        "\r\n",
        "matthews_corrcoef(y_test, preds)"
      ],
      "execution_count": null,
      "outputs": [
        {
          "output_type": "execute_result",
          "data": {
            "text/plain": [
              "0.16313260212626532"
            ]
          },
          "metadata": {
            "tags": []
          },
          "execution_count": 30
        }
      ]
    },
    {
      "cell_type": "code",
      "metadata": {
        "id": "N3O-dS1eBLsd",
        "colab": {
          "base_uri": "https://localhost:8080/",
          "height": 543
        },
        "outputId": "a3351756-02d7-42a9-f7fa-35a7a356b0c1"
      },
      "source": [
        "eli5.show_weights(clf, top=25, feature_names=vectorizer.get_feature_names())"
      ],
      "execution_count": null,
      "outputs": [
        {
          "output_type": "execute_result",
          "data": {
            "text/html": [
              "\n",
              "    <style>\n",
              "    table.eli5-weights tr:hover {\n",
              "        filter: brightness(85%);\n",
              "    }\n",
              "</style>\n",
              "\n",
              "\n",
              "\n",
              "    \n",
              "\n",
              "    \n",
              "\n",
              "    \n",
              "\n",
              "    \n",
              "\n",
              "    \n",
              "\n",
              "    \n",
              "\n",
              "\n",
              "    \n",
              "\n",
              "    \n",
              "\n",
              "    \n",
              "\n",
              "    \n",
              "        \n",
              "\n",
              "    \n",
              "\n",
              "        \n",
              "            \n",
              "                \n",
              "                \n",
              "    \n",
              "        <p style=\"margin-bottom: 0.5em; margin-top: 0em\">\n",
              "            <b>\n",
              "    \n",
              "        y=not_entailment\n",
              "    \n",
              "</b>\n",
              "\n",
              "top features\n",
              "        </p>\n",
              "    \n",
              "    <table class=\"eli5-weights\"\n",
              "           style=\"border-collapse: collapse; border: none; margin-top: 0em; table-layout: auto; margin-bottom: 2em;\">\n",
              "        <thead>\n",
              "        <tr style=\"border: none;\">\n",
              "            \n",
              "                <th style=\"padding: 0 1em 0 0.5em; text-align: right; border: none;\" title=\"Feature weights. Note that weights do not account for feature value scales, so if feature values have different scales, features with highest weights might not be the most important.\">\n",
              "                    Weight<sup>?</sup>\n",
              "                </th>\n",
              "            \n",
              "            <th style=\"padding: 0 0.5em 0 0.5em; text-align: left; border: none;\">Feature</th>\n",
              "            \n",
              "        </tr>\n",
              "        </thead>\n",
              "        <tbody>\n",
              "        \n",
              "            <tr style=\"background-color: hsl(120, 100.00%, 80.00%); border: none;\">\n",
              "    <td style=\"padding: 0 1em 0 0.5em; text-align: right; border: none;\">\n",
              "        +0.015\n",
              "    </td>\n",
              "    <td style=\"padding: 0 0.5em 0 0.5em; text-align: left; border: none;\">\n",
              "        не\n",
              "    </td>\n",
              "    \n",
              "</tr>\n",
              "        \n",
              "            <tr style=\"background-color: hsl(120, 100.00%, 82.40%); border: none;\">\n",
              "    <td style=\"padding: 0 1em 0 0.5em; text-align: right; border: none;\">\n",
              "        +0.013\n",
              "    </td>\n",
              "    <td style=\"padding: 0 0.5em 0 0.5em; text-align: left; border: none;\">\n",
              "        гришэм\n",
              "    </td>\n",
              "    \n",
              "</tr>\n",
              "        \n",
              "            <tr style=\"background-color: hsl(120, 100.00%, 82.40%); border: none;\">\n",
              "    <td style=\"padding: 0 1em 0 0.5em; text-align: right; border: none;\">\n",
              "        +0.013\n",
              "    </td>\n",
              "    <td style=\"padding: 0 0.5em 0 0.5em; text-align: left; border: none;\">\n",
              "        народное\n",
              "    </td>\n",
              "    \n",
              "</tr>\n",
              "        \n",
              "            <tr style=\"background-color: hsl(120, 100.00%, 82.40%); border: none;\">\n",
              "    <td style=\"padding: 0 1em 0 0.5em; text-align: right; border: none;\">\n",
              "        +0.013\n",
              "    </td>\n",
              "    <td style=\"padding: 0 0.5em 0 0.5em; text-align: left; border: none;\">\n",
              "        голосование\n",
              "    </td>\n",
              "    \n",
              "</tr>\n",
              "        \n",
              "            <tr style=\"background-color: hsl(120, 100.00%, 82.65%); border: none;\">\n",
              "    <td style=\"padding: 0 1em 0 0.5em; text-align: right; border: none;\">\n",
              "        +0.013\n",
              "    </td>\n",
              "    <td style=\"padding: 0 0.5em 0 0.5em; text-align: left; border: none;\">\n",
              "        что\n",
              "    </td>\n",
              "    \n",
              "</tr>\n",
              "        \n",
              "            <tr style=\"background-color: hsl(120, 100.00%, 86.24%); border: none;\">\n",
              "    <td style=\"padding: 0 1em 0 0.5em; text-align: right; border: none;\">\n",
              "        +0.009\n",
              "    </td>\n",
              "    <td style=\"padding: 0 0.5em 0 0.5em; text-align: left; border: none;\">\n",
              "        нет\n",
              "    </td>\n",
              "    \n",
              "</tr>\n",
              "        \n",
              "            <tr style=\"background-color: hsl(120, 100.00%, 86.65%); border: none;\">\n",
              "    <td style=\"padding: 0 1em 0 0.5em; text-align: right; border: none;\">\n",
              "        +0.009\n",
              "    </td>\n",
              "    <td style=\"padding: 0 0.5em 0 0.5em; text-align: left; border: none;\">\n",
              "        лечения\n",
              "    </td>\n",
              "    \n",
              "</tr>\n",
              "        \n",
              "            <tr style=\"background-color: hsl(120, 100.00%, 86.65%); border: none;\">\n",
              "    <td style=\"padding: 0 1em 0 0.5em; text-align: right; border: none;\">\n",
              "        +0.009\n",
              "    </td>\n",
              "    <td style=\"padding: 0 0.5em 0 0.5em; text-align: left; border: none;\">\n",
              "        успех\n",
              "    </td>\n",
              "    \n",
              "</tr>\n",
              "        \n",
              "            <tr style=\"background-color: hsl(120, 100.00%, 86.65%); border: none;\">\n",
              "    <td style=\"padding: 0 1em 0 0.5em; text-align: right; border: none;\">\n",
              "        +0.009\n",
              "    </td>\n",
              "    <td style=\"padding: 0 0.5em 0 0.5em; text-align: left; border: none;\">\n",
              "        ответственности\n",
              "    </td>\n",
              "    \n",
              "</tr>\n",
              "        \n",
              "            <tr style=\"background-color: hsl(120, 100.00%, 86.75%); border: none;\">\n",
              "    <td style=\"padding: 0 1em 0 0.5em; text-align: right; border: none;\">\n",
              "        +0.009\n",
              "    </td>\n",
              "    <td style=\"padding: 0 0.5em 0 0.5em; text-align: left; border: none;\">\n",
              "        выиграл\n",
              "    </td>\n",
              "    \n",
              "</tr>\n",
              "        \n",
              "            <tr style=\"background-color: hsl(120, 100.00%, 87.01%); border: none;\">\n",
              "    <td style=\"padding: 0 1em 0 0.5em; text-align: right; border: none;\">\n",
              "        +0.008\n",
              "    </td>\n",
              "    <td style=\"padding: 0 0.5em 0 0.5em; text-align: left; border: none;\">\n",
              "        скажу\n",
              "    </td>\n",
              "    \n",
              "</tr>\n",
              "        \n",
              "            <tr style=\"background-color: hsl(120, 100.00%, 87.01%); border: none;\">\n",
              "    <td style=\"padding: 0 1em 0 0.5em; text-align: right; border: none;\">\n",
              "        +0.008\n",
              "    </td>\n",
              "    <td style=\"padding: 0 0.5em 0 0.5em; text-align: left; border: none;\">\n",
              "        деньги\n",
              "    </td>\n",
              "    \n",
              "</tr>\n",
              "        \n",
              "            <tr style=\"background-color: hsl(120, 100.00%, 87.77%); border: none;\">\n",
              "    <td style=\"padding: 0 1em 0 0.5em; text-align: right; border: none;\">\n",
              "        +0.008\n",
              "    </td>\n",
              "    <td style=\"padding: 0 0.5em 0 0.5em; text-align: left; border: none;\">\n",
              "        году\n",
              "    </td>\n",
              "    \n",
              "</tr>\n",
              "        \n",
              "            <tr style=\"background-color: hsl(120, 100.00%, 87.84%); border: none;\">\n",
              "    <td style=\"padding: 0 1em 0 0.5em; text-align: right; border: none;\">\n",
              "        +0.008\n",
              "    </td>\n",
              "    <td style=\"padding: 0 0.5em 0 0.5em; text-align: left; border: none;\">\n",
              "        мои\n",
              "    </td>\n",
              "    \n",
              "</tr>\n",
              "        \n",
              "        \n",
              "            <tr style=\"background-color: hsl(120, 100.00%, 87.84%); border: none;\">\n",
              "                <td colspan=\"2\" style=\"padding: 0 0.5em 0 0.5em; text-align: center; border: none; white-space: nowrap;\">\n",
              "                    <i>&hellip; 1471 more positive &hellip;</i>\n",
              "                </td>\n",
              "            </tr>\n",
              "        \n",
              "\n",
              "        \n",
              "            <tr style=\"background-color: hsl(0, 100.00%, 87.88%); border: none;\">\n",
              "                <td colspan=\"2\" style=\"padding: 0 0.5em 0 0.5em; text-align: center; border: none; white-space: nowrap;\">\n",
              "                    <i>&hellip; 1735 more negative &hellip;</i>\n",
              "                </td>\n",
              "            </tr>\n",
              "        \n",
              "        \n",
              "            <tr style=\"background-color: hsl(0, 100.00%, 87.88%); border: none;\">\n",
              "    <td style=\"padding: 0 1em 0 0.5em; text-align: right; border: none;\">\n",
              "        -0.008\n",
              "    </td>\n",
              "    <td style=\"padding: 0 0.5em 0 0.5em; text-align: left; border: none;\">\n",
              "        мэри\n",
              "    </td>\n",
              "    \n",
              "</tr>\n",
              "        \n",
              "            <tr style=\"background-color: hsl(0, 100.00%, 87.88%); border: none;\">\n",
              "    <td style=\"padding: 0 1em 0 0.5em; text-align: right; border: none;\">\n",
              "        -0.008\n",
              "    </td>\n",
              "    <td style=\"padding: 0 0.5em 0 0.5em; text-align: left; border: none;\">\n",
              "        вошёл\n",
              "    </td>\n",
              "    \n",
              "</tr>\n",
              "        \n",
              "            <tr style=\"background-color: hsl(0, 100.00%, 87.78%); border: none;\">\n",
              "    <td style=\"padding: 0 1em 0 0.5em; text-align: right; border: none;\">\n",
              "        -0.008\n",
              "    </td>\n",
              "    <td style=\"padding: 0 0.5em 0 0.5em; text-align: left; border: none;\">\n",
              "        чем\n",
              "    </td>\n",
              "    \n",
              "</tr>\n",
              "        \n",
              "            <tr style=\"background-color: hsl(0, 100.00%, 87.76%); border: none;\">\n",
              "    <td style=\"padding: 0 1em 0 0.5em; text-align: right; border: none;\">\n",
              "        -0.008\n",
              "    </td>\n",
              "    <td style=\"padding: 0 0.5em 0 0.5em; text-align: left; border: none;\">\n",
              "        тем\n",
              "    </td>\n",
              "    \n",
              "</tr>\n",
              "        \n",
              "            <tr style=\"background-color: hsl(0, 100.00%, 87.64%); border: none;\">\n",
              "    <td style=\"padding: 0 1em 0 0.5em; text-align: right; border: none;\">\n",
              "        -0.008\n",
              "    </td>\n",
              "    <td style=\"padding: 0 0.5em 0 0.5em; text-align: left; border: none;\">\n",
              "        пайплайна\n",
              "    </td>\n",
              "    \n",
              "</tr>\n",
              "        \n",
              "            <tr style=\"background-color: hsl(0, 100.00%, 87.39%); border: none;\">\n",
              "    <td style=\"padding: 0 1em 0 0.5em; text-align: right; border: none;\">\n",
              "        -0.008\n",
              "    </td>\n",
              "    <td style=\"padding: 0 0.5em 0 0.5em; text-align: left; border: none;\">\n",
              "        от\n",
              "    </td>\n",
              "    \n",
              "</tr>\n",
              "        \n",
              "            <tr style=\"background-color: hsl(0, 100.00%, 86.73%); border: none;\">\n",
              "    <td style=\"padding: 0 1em 0 0.5em; text-align: right; border: none;\">\n",
              "        -0.009\n",
              "    </td>\n",
              "    <td style=\"padding: 0 0.5em 0 0.5em; text-align: left; border: none;\">\n",
              "        власти\n",
              "    </td>\n",
              "    \n",
              "</tr>\n",
              "        \n",
              "            <tr style=\"background-color: hsl(0, 100.00%, 86.67%); border: none;\">\n",
              "    <td style=\"padding: 0 1em 0 0.5em; text-align: right; border: none;\">\n",
              "        -0.009\n",
              "    </td>\n",
              "    <td style=\"padding: 0 0.5em 0 0.5em; text-align: left; border: none;\">\n",
              "        уйти\n",
              "    </td>\n",
              "    \n",
              "</tr>\n",
              "        \n",
              "            <tr style=\"background-color: hsl(0, 100.00%, 86.48%); border: none;\">\n",
              "    <td style=\"padding: 0 1em 0 0.5em; text-align: right; border: none;\">\n",
              "        -0.009\n",
              "    </td>\n",
              "    <td style=\"padding: 0 0.5em 0 0.5em; text-align: left; border: none;\">\n",
              "        дольше\n",
              "    </td>\n",
              "    \n",
              "</tr>\n",
              "        \n",
              "            <tr style=\"background-color: hsl(0, 100.00%, 85.37%); border: none;\">\n",
              "    <td style=\"padding: 0 1em 0 0.5em; text-align: right; border: none;\">\n",
              "        -0.010\n",
              "    </td>\n",
              "    <td style=\"padding: 0 0.5em 0 0.5em; text-align: left; border: none;\">\n",
              "        будет\n",
              "    </td>\n",
              "    \n",
              "</tr>\n",
              "        \n",
              "            <tr style=\"background-color: hsl(0, 100.00%, 83.99%); border: none;\">\n",
              "    <td style=\"padding: 0 1em 0 0.5em; text-align: right; border: none;\">\n",
              "        -0.011\n",
              "    </td>\n",
              "    <td style=\"padding: 0 0.5em 0 0.5em; text-align: left; border: none;\">\n",
              "        талантов\n",
              "    </td>\n",
              "    \n",
              "</tr>\n",
              "        \n",
              "\n",
              "        </tbody>\n",
              "    </table>\n",
              "\n",
              "            \n",
              "        \n",
              "\n",
              "        \n",
              "\n",
              "\n",
              "\n",
              "    \n",
              "\n",
              "    \n",
              "\n",
              "    \n",
              "\n",
              "    \n",
              "\n",
              "\n",
              "    \n",
              "\n",
              "    \n",
              "\n",
              "    \n",
              "\n",
              "    \n",
              "\n",
              "    \n",
              "\n",
              "    \n",
              "\n",
              "\n",
              "    \n",
              "\n",
              "    \n",
              "\n",
              "    \n",
              "\n",
              "    \n",
              "\n",
              "    \n",
              "\n",
              "    \n",
              "\n",
              "\n",
              "\n"
            ],
            "text/plain": [
              "<IPython.core.display.HTML object>"
            ]
          },
          "metadata": {
            "tags": []
          },
          "execution_count": 31
        }
      ]
    },
    {
      "cell_type": "markdown",
      "metadata": {
        "id": "IaSAQIsrcqvh"
      },
      "source": [
        "# Explore LiDiRus Dataset"
      ]
    },
    {
      "cell_type": "code",
      "metadata": {
        "colab": {
          "base_uri": "https://localhost:8080/",
          "height": 402
        },
        "id": "-fvjf1mCFVGV",
        "outputId": "bd04b689-b362-48b1-f88f-92f5ae827024"
      },
      "source": [
        "pd.merge(df.logic.value_counts(), df_en.logic.value_counts(), how='left', on=df_en.logic.value_counts().keys())"
      ],
      "execution_count": null,
      "outputs": [
        {
          "output_type": "execute_result",
          "data": {
            "text/html": [
              "<div>\n",
              "<style scoped>\n",
              "    .dataframe tbody tr th:only-of-type {\n",
              "        vertical-align: middle;\n",
              "    }\n",
              "\n",
              "    .dataframe tbody tr th {\n",
              "        vertical-align: top;\n",
              "    }\n",
              "\n",
              "    .dataframe thead th {\n",
              "        text-align: right;\n",
              "    }\n",
              "</style>\n",
              "<table border=\"1\" class=\"dataframe\">\n",
              "  <thead>\n",
              "    <tr style=\"text-align: right;\">\n",
              "      <th></th>\n",
              "      <th>key_0</th>\n",
              "      <th>logic_x</th>\n",
              "      <th>logic_y</th>\n",
              "    </tr>\n",
              "  </thead>\n",
              "  <tbody>\n",
              "    <tr>\n",
              "      <th>0</th>\n",
              "      <td>Negation</td>\n",
              "      <td>54</td>\n",
              "      <td>54</td>\n",
              "    </tr>\n",
              "    <tr>\n",
              "      <th>1</th>\n",
              "      <td>Intervals/Numbers</td>\n",
              "      <td>30</td>\n",
              "      <td>30</td>\n",
              "    </tr>\n",
              "    <tr>\n",
              "      <th>2</th>\n",
              "      <td>Upward monotone</td>\n",
              "      <td>30</td>\n",
              "      <td>30</td>\n",
              "    </tr>\n",
              "    <tr>\n",
              "      <th>3</th>\n",
              "      <td>Temporal</td>\n",
              "      <td>28</td>\n",
              "      <td>28</td>\n",
              "    </tr>\n",
              "    <tr>\n",
              "      <th>4</th>\n",
              "      <td>Downward monotone</td>\n",
              "      <td>26</td>\n",
              "      <td>26</td>\n",
              "    </tr>\n",
              "    <tr>\n",
              "      <th>...</th>\n",
              "      <td>...</td>\n",
              "      <td>...</td>\n",
              "      <td>...</td>\n",
              "    </tr>\n",
              "    <tr>\n",
              "      <th>24</th>\n",
              "      <td>Universal;Negation</td>\n",
              "      <td>2</td>\n",
              "      <td>2</td>\n",
              "    </tr>\n",
              "    <tr>\n",
              "      <th>25</th>\n",
              "      <td>Temporal;Conjunction</td>\n",
              "      <td>2</td>\n",
              "      <td>2</td>\n",
              "    </tr>\n",
              "    <tr>\n",
              "      <th>26</th>\n",
              "      <td>Temporal;Intervals/Numbers</td>\n",
              "      <td>2</td>\n",
              "      <td>2</td>\n",
              "    </tr>\n",
              "    <tr>\n",
              "      <th>27</th>\n",
              "      <td>Downward monotone;Conditionals</td>\n",
              "      <td>2</td>\n",
              "      <td>2</td>\n",
              "    </tr>\n",
              "    <tr>\n",
              "      <th>28</th>\n",
              "      <td>Double negation;Negation</td>\n",
              "      <td>2</td>\n",
              "      <td>2</td>\n",
              "    </tr>\n",
              "  </tbody>\n",
              "</table>\n",
              "<p>29 rows × 3 columns</p>\n",
              "</div>"
            ],
            "text/plain": [
              "                             key_0  logic_x  logic_y\n",
              "0                         Negation       54       54\n",
              "1                Intervals/Numbers       30       30\n",
              "2                  Upward monotone       30       30\n",
              "3                         Temporal       28       28\n",
              "4                Downward monotone       26       26\n",
              "..                             ...      ...      ...\n",
              "24              Universal;Negation        2        2\n",
              "25            Temporal;Conjunction        2        2\n",
              "26      Temporal;Intervals/Numbers        2        2\n",
              "27  Downward monotone;Conditionals        2        2\n",
              "28        Double negation;Negation        2        2\n",
              "\n",
              "[29 rows x 3 columns]"
            ]
          },
          "metadata": {
            "tags": []
          },
          "execution_count": 32
        }
      ]
    },
    {
      "cell_type": "code",
      "metadata": {
        "colab": {
          "base_uri": "https://localhost:8080/"
        },
        "id": "3TooZKzkIZOd",
        "outputId": "fcc3c926-8e51-4be1-a7b2-5a3de310a6d2"
      },
      "source": [
        "df.columns"
      ],
      "execution_count": null,
      "outputs": [
        {
          "output_type": "execute_result",
          "data": {
            "text/plain": [
              "Index(['idx', 'label', 'sentence1', 'sentence2', 'logic',\n",
              "       'predicate-argument-structure', 'lexical-semantics', 'knowledge'],\n",
              "      dtype='object')"
            ]
          },
          "metadata": {
            "tags": []
          },
          "execution_count": 48
        }
      ]
    },
    {
      "cell_type": "code",
      "metadata": {
        "colab": {
          "base_uri": "https://localhost:8080/"
        },
        "id": "S-SRH2KSJb_a",
        "outputId": "bdd72b45-2295-4b1c-a373-8556a88ed7eb"
      },
      "source": [
        "df['knowledge'].value_counts()"
      ],
      "execution_count": null,
      "outputs": [
        {
          "output_type": "execute_result",
          "data": {
            "text/plain": [
              "Common sense       150\n",
              "World knowledge    134\n",
              "Name: knowledge, dtype: int64"
            ]
          },
          "metadata": {
            "tags": []
          },
          "execution_count": 33
        }
      ]
    },
    {
      "cell_type": "code",
      "metadata": {
        "colab": {
          "base_uri": "https://localhost:8080/"
        },
        "id": "3zYrQ2reJeNb",
        "outputId": "27dcca30-fa97-455c-cd19-d9b28c048369"
      },
      "source": [
        "df['predicate-argument-structure'].value_counts()"
      ],
      "execution_count": null,
      "outputs": [
        {
          "output_type": "execute_result",
          "data": {
            "text/plain": [
              "Prepositional phrases                    56\n",
              "Core args                                48\n",
              "Intersectivity                           44\n",
              "Anaphora/Coreference                     42\n",
              "Coordination scope                       34\n",
              "                                         ..\n",
              "Intersectivity;Ellipsis/Implicits         2\n",
              "Nominalization;Genitives/Partitives       2\n",
              "Relative clauses;Anaphora/Coreference     2\n",
              "Restrictivity;Anaphora/Coreference        2\n",
              "Active/Passive;Prepositional phrases      2\n",
              "Name: predicate-argument-structure, Length: 23, dtype: int64"
            ]
          },
          "metadata": {
            "tags": []
          },
          "execution_count": 34
        }
      ]
    },
    {
      "cell_type": "code",
      "metadata": {
        "colab": {
          "base_uri": "https://localhost:8080/"
        },
        "id": "rW6yXvgvJpw_",
        "outputId": "ae406965-a31f-492a-f835-348487ae4b03"
      },
      "source": [
        "df['lexical-semantics'].value_counts()"
      ],
      "execution_count": null,
      "outputs": [
        {
          "output_type": "execute_result",
          "data": {
            "text/plain": [
              "Lexical entailment                134\n",
              "Factivity                          64\n",
              "Quantifiers                        46\n",
              "Named entities                     36\n",
              "Symmetry/Collectivity              28\n",
              "Morphological negation             26\n",
              "Redundancy                         25\n",
              "Lexical entailment;Quantifiers      4\n",
              "Lexical entailment;Factivity        2\n",
              "Factivity;Quantifiers               2\n",
              "Name: lexical-semantics, dtype: int64"
            ]
          },
          "metadata": {
            "tags": []
          },
          "execution_count": 35
        }
      ]
    },
    {
      "cell_type": "markdown",
      "metadata": {
        "id": "4cy46UyVNHJk"
      },
      "source": [
        "### Description \r\n",
        "\r\n",
        "There are small batches of sentences with slightly varying vocabulary"
      ]
    },
    {
      "cell_type": "code",
      "metadata": {
        "colab": {
          "base_uri": "https://localhost:8080/",
          "height": 326
        },
        "id": "CGWXaJDFMkct",
        "outputId": "ff96b75d-c532-4f35-8f2a-28976033db29"
      },
      "source": [
        "df.iloc[[0,1,4,5,6,7]][['label', 'sentence1', 'sentence2', 'logic']]"
      ],
      "execution_count": null,
      "outputs": [
        {
          "output_type": "execute_result",
          "data": {
            "text/html": [
              "<div>\n",
              "<style scoped>\n",
              "    .dataframe tbody tr th:only-of-type {\n",
              "        vertical-align: middle;\n",
              "    }\n",
              "\n",
              "    .dataframe tbody tr th {\n",
              "        vertical-align: top;\n",
              "    }\n",
              "\n",
              "    .dataframe thead th {\n",
              "        text-align: right;\n",
              "    }\n",
              "</style>\n",
              "<table border=\"1\" class=\"dataframe\">\n",
              "  <thead>\n",
              "    <tr style=\"text-align: right;\">\n",
              "      <th></th>\n",
              "      <th>label</th>\n",
              "      <th>sentence1</th>\n",
              "      <th>sentence2</th>\n",
              "      <th>logic</th>\n",
              "    </tr>\n",
              "  </thead>\n",
              "  <tbody>\n",
              "    <tr>\n",
              "      <th>0</th>\n",
              "      <td>not_entailment</td>\n",
              "      <td>Кошка сидела на коврике.</td>\n",
              "      <td>Кошка не сидела на коврике.</td>\n",
              "      <td>Negation</td>\n",
              "    </tr>\n",
              "    <tr>\n",
              "      <th>1</th>\n",
              "      <td>not_entailment</td>\n",
              "      <td>Кошка не сидела на коврике.</td>\n",
              "      <td>Кошка сидела на коврике.</td>\n",
              "      <td>Negation</td>\n",
              "    </tr>\n",
              "    <tr>\n",
              "      <th>4</th>\n",
              "      <td>not_entailment</td>\n",
              "      <td>Сразу же после распаковки Ouya поддерживает мультимедийные приложения, такие как Twitch.tv и XBMC-медиаплеер.</td>\n",
              "      <td>Сразу же после распаковки Ouya не поддерживает мультимедийные приложения, такие как Twitch.tv и XBMC-медиаплеер.</td>\n",
              "      <td>Negation</td>\n",
              "    </tr>\n",
              "    <tr>\n",
              "      <th>5</th>\n",
              "      <td>not_entailment</td>\n",
              "      <td>Сразу же после распаковки Ouya не поддерживает мультимедийные приложения, такие как Twitch.tv и XBMC-медиаплеер.</td>\n",
              "      <td>Сразу же после распаковки Ouya поддерживает мультимедийные приложения, такие как Twitch.tv и XBMC-медиаплеер.</td>\n",
              "      <td>Negation</td>\n",
              "    </tr>\n",
              "    <tr>\n",
              "      <th>6</th>\n",
              "      <td>entailment</td>\n",
              "      <td>Сразу же после распаковки Ouya поддерживает мультимедийные приложения, такие как Twitch.tv и XBMC медиа-плеер.</td>\n",
              "      <td>Сразу же после распаковки Ouya поддерживает Twitch.tv и XBMC медиа-плеер.</td>\n",
              "      <td>NaN</td>\n",
              "    </tr>\n",
              "    <tr>\n",
              "      <th>7</th>\n",
              "      <td>entailment</td>\n",
              "      <td>Сразу же после распаковки Ouya поддерживает Twitch.tv и XBMC медиа-плеер.</td>\n",
              "      <td>Сразу же после распаковки Ouya поддерживает мультимедийные приложения, такие как Twitch.tv и XBMC медиа-плеер.</td>\n",
              "      <td>NaN</td>\n",
              "    </tr>\n",
              "  </tbody>\n",
              "</table>\n",
              "</div>"
            ],
            "text/plain": [
              "            label  ...     logic\n",
              "0  not_entailment  ...  Negation\n",
              "1  not_entailment  ...  Negation\n",
              "4  not_entailment  ...  Negation\n",
              "5  not_entailment  ...  Negation\n",
              "6      entailment  ...       NaN\n",
              "7      entailment  ...       NaN\n",
              "\n",
              "[6 rows x 4 columns]"
            ]
          },
          "metadata": {
            "tags": []
          },
          "execution_count": 36
        }
      ]
    },
    {
      "cell_type": "markdown",
      "metadata": {
        "id": "qz5lYN8gpwWT"
      },
      "source": [
        "# Intermediary conslusions (being updated)\r\n",
        "\r\n",
        "### Entailment indicators:\r\n",
        "\r\n",
        " - presence of certain words among non intersecting tokens **{\"чтобы\", 'будет', \"от\", \"он\"}**\r\n",
        " - All lemmas of sentence 1 and 2 intersect\r\n",
        "\r\n",
        "### Not-entailment indicators:\r\n",
        " - presentence of certain words among non intersecting tokens **{'и', \"не\", \"никогда\", \"вовсе\", 'что', \"это\"}**\r\n",
        " - Non intersecting words == 2\r\n",
        " - Little overlap between sentences \r\n",
        " - Extra clause within the sentence\r\n",
        "\r\n"
      ]
    },
    {
      "cell_type": "markdown",
      "metadata": {
        "id": "nYU6P6YaOCnl"
      },
      "source": [
        "## **Entailment**"
      ]
    },
    {
      "cell_type": "code",
      "metadata": {
        "colab": {
          "base_uri": "https://localhost:8080/",
          "height": 1000
        },
        "id": "jdrqAvo2OAUO",
        "outputId": "95a5fadc-822f-4b2f-ca46-ee9626646a22"
      },
      "source": [
        "df[df.label == 'entailment'][['sentence1', 'sentence2']][0:20]"
      ],
      "execution_count": null,
      "outputs": [
        {
          "output_type": "execute_result",
          "data": {
            "text/html": [
              "<div>\n",
              "<style scoped>\n",
              "    .dataframe tbody tr th:only-of-type {\n",
              "        vertical-align: middle;\n",
              "    }\n",
              "\n",
              "    .dataframe tbody tr th {\n",
              "        vertical-align: top;\n",
              "    }\n",
              "\n",
              "    .dataframe thead th {\n",
              "        text-align: right;\n",
              "    }\n",
              "</style>\n",
              "<table border=\"1\" class=\"dataframe\">\n",
              "  <thead>\n",
              "    <tr style=\"text-align: right;\">\n",
              "      <th></th>\n",
              "      <th>sentence1</th>\n",
              "      <th>sentence2</th>\n",
              "    </tr>\n",
              "  </thead>\n",
              "  <tbody>\n",
              "    <tr>\n",
              "      <th>6</th>\n",
              "      <td>Сразу же после распаковки Ouya поддерживает мультимедийные приложения, такие как Twitch.tv и XBMC медиа-плеер.</td>\n",
              "      <td>Сразу же после распаковки Ouya поддерживает Twitch.tv и XBMC медиа-плеер.</td>\n",
              "    </tr>\n",
              "    <tr>\n",
              "      <th>7</th>\n",
              "      <td>Сразу же после распаковки Ouya поддерживает Twitch.tv и XBMC медиа-плеер.</td>\n",
              "      <td>Сразу же после распаковки Ouya поддерживает мультимедийные приложения, такие как Twitch.tv и XBMC медиа-плеер.</td>\n",
              "    </tr>\n",
              "    <tr>\n",
              "      <th>18</th>\n",
              "      <td>Применяя стратегию ненасильственного протеста, Ганди застал администрацию врасплох и получил уступки от властей.</td>\n",
              "      <td>Применяя стратегию протеста, Ганди застал администрацию врасплох и получил уступки от властей.</td>\n",
              "    </tr>\n",
              "    <tr>\n",
              "      <th>22</th>\n",
              "      <td>Написание кода на Java не слишком отличается от программирования в наручниках.</td>\n",
              "      <td>Написание кода на Java подобно программированию в наручниках.</td>\n",
              "    </tr>\n",
              "    <tr>\n",
              "      <th>23</th>\n",
              "      <td>Написание кода на Java подобно программированию в наручниках.</td>\n",
              "      <td>Написание кода на Java не слишком отличается от программирования в наручниках.</td>\n",
              "    </tr>\n",
              "    <tr>\n",
              "      <th>24</th>\n",
              "      <td>Рынок станет сложнее, но на нём не будет невозможно ориентироваться.</td>\n",
              "      <td>Рынок станет сложнее, но на нём будет возможно ориентироваться.</td>\n",
              "    </tr>\n",
              "    <tr>\n",
              "      <th>25</th>\n",
              "      <td>Рынок станет сложнее, но на нём будет возможно ориентироваться.</td>\n",
              "      <td>Рынок станет сложнее, но на нём не будет невозможно ориентироваться.</td>\n",
              "    </tr>\n",
              "    <tr>\n",
              "      <th>26</th>\n",
              "      <td>Даже после того как узнал, что это корм для животных, я не перестану когда-либо обожать Flamin' Hot Cheetos.</td>\n",
              "      <td>Даже после того как узнал, что это корм для животных, я никогда не перестану обожать Flamin' Hot Cheetos.</td>\n",
              "    </tr>\n",
              "    <tr>\n",
              "      <th>27</th>\n",
              "      <td>Даже после того как узнал, что это корм для животных, я никогда не перестану обожать Flamin' Hot Cheetos.</td>\n",
              "      <td>Даже после того как узнал, что это корм для животных, я не перестану когда-либо обожать Flamin' Hot Cheetos.</td>\n",
              "    </tr>\n",
              "    <tr>\n",
              "      <th>28</th>\n",
              "      <td>Он не был несогласен с позицией партии, но чувствовал, что если бы он ушел в отставку, его популярность среди индейцев перестала бы душить членство в партии.</td>\n",
              "      <td>Он согласился с позицией партии, но чувствовал, что если бы он ушел в отставку, его популярность среди индейцев перестала бы душить членство в партии.</td>\n",
              "    </tr>\n",
              "    <tr>\n",
              "      <th>29</th>\n",
              "      <td>Он согласился с позицией партии, но чувствовал, что если бы он ушел в отставку, его популярность среди индейцев перестала бы душить членство в партии.</td>\n",
              "      <td>Он не был несогласен с позицией партии, но чувствовал, что если бы он ушел в отставку, его популярность среди индейцев перестала бы душить членство в партии.</td>\n",
              "    </tr>\n",
              "    <tr>\n",
              "      <th>30</th>\n",
              "      <td>Если схема токенизации пайплайна не соответствует той, которая использовалась при создании модели, негативное влияние на результаты пайплайна должно быть ожидаемым.</td>\n",
              "      <td>Если схема токенизации пайплайна не соответствует той, которая использовалась при создании модели, негативное влияние на результаты пайплайна не должно быть неожиданным.</td>\n",
              "    </tr>\n",
              "    <tr>\n",
              "      <th>31</th>\n",
              "      <td>Если схема токенизации пайплайна не соответствует той, которая использовалась при создании модели, негативное влияние на результаты пайплайна не должно быть неожиданным.</td>\n",
              "      <td>Если схема токенизации пайплайна не соответствует той, которая использовалась при создании модели, негативное влияние на результаты пайплайна должно быть ожидаемым.</td>\n",
              "    </tr>\n",
              "    <tr>\n",
              "      <th>32</th>\n",
              "      <td>Если схема токенизации пайплайна не соответствует той, которая использовалась при создании модели, негативное влияние на результаты пайплайна ожидаемо.</td>\n",
              "      <td>Если схема токенизации пайплайна не соответствует той, которая использовалась при создании модели, ожидаемо негативное влияние на результаты пайплайна.</td>\n",
              "    </tr>\n",
              "    <tr>\n",
              "      <th>33</th>\n",
              "      <td>Если схема токенизации пайплайна не соответствует той, которая использовалась при создании модели, ожидаемо негативное влияние на результаты пайплайна.</td>\n",
              "      <td>Если схема токенизации пайплайна не соответствует той, которая использовалась при создании модели, негативное влияние на результаты пайплайна ожидаемо.</td>\n",
              "    </tr>\n",
              "    <tr>\n",
              "      <th>34</th>\n",
              "      <td>Если схема токенизации пайплайна не соответствует той, которая использовалась при создании модели, негативное влияние на результаты пайплайна должно быть ожидаемым.</td>\n",
              "      <td>Если схема токенизации пайплайна не соответствует той, которая использовалась при создании модели, не должно быть неожиданным негативное влияние на результаты пайплайна.</td>\n",
              "    </tr>\n",
              "    <tr>\n",
              "      <th>35</th>\n",
              "      <td>Если схема токенизации пайплайна не соответствует той, которая использовалась при создании модели, не должно быть неожиданным негативное влияние на результаты пайплайна.</td>\n",
              "      <td>Если схема токенизации пайплайна не соответствует той, которая использовалась при создании модели, негативное влияние на результаты пайплайна должно быть ожидаемым.</td>\n",
              "    </tr>\n",
              "    <tr>\n",
              "      <th>44</th>\n",
              "      <td>В примере (1) достаточно просто увидеть преувеличенный позитивный настрой, используемый для того, чтобы передать сильные негативные чувства.</td>\n",
              "      <td>В примере (1) достаточно легко увидеть преувеличенный позитивный настрой, используемый для того, чтобы передать сильные негативные чувства.</td>\n",
              "    </tr>\n",
              "    <tr>\n",
              "      <th>45</th>\n",
              "      <td>В примере (1) достаточно легко увидеть преувеличенный позитивный настрой, используемый для того, чтобы передать сильные негативные чувства.</td>\n",
              "      <td>В примере (1) достаточно просто увидеть преувеличенный позитивный настрой, используемый для того, чтобы передать сильные негативные чувства.</td>\n",
              "    </tr>\n",
              "    <tr>\n",
              "      <th>48</th>\n",
              "      <td>Некоторые собаки любят чесать свои уши.</td>\n",
              "      <td>Некоторые животные любят чесать свои уши.</td>\n",
              "    </tr>\n",
              "  </tbody>\n",
              "</table>\n",
              "</div>"
            ],
            "text/plain": [
              "                                                                                                                                                                    sentence1                                                                                                                                                                  sentence2\n",
              "6                                                              Сразу же после распаковки Ouya поддерживает мультимедийные приложения, такие как Twitch.tv и XBMC медиа-плеер.                                                                                                  Сразу же после распаковки Ouya поддерживает Twitch.tv и XBMC медиа-плеер.\n",
              "7                                                                                                   Сразу же после распаковки Ouya поддерживает Twitch.tv и XBMC медиа-плеер.                                                             Сразу же после распаковки Ouya поддерживает мультимедийные приложения, такие как Twitch.tv и XBMC медиа-плеер.\n",
              "18                                                           Применяя стратегию ненасильственного протеста, Ганди застал администрацию врасплох и получил уступки от властей.                                                                             Применяя стратегию протеста, Ганди застал администрацию врасплох и получил уступки от властей.\n",
              "22                                                                                             Написание кода на Java не слишком отличается от программирования в наручниках.                                                                                                              Написание кода на Java подобно программированию в наручниках.\n",
              "23                                                                                                              Написание кода на Java подобно программированию в наручниках.                                                                                             Написание кода на Java не слишком отличается от программирования в наручниках.\n",
              "24                                                                                                       Рынок станет сложнее, но на нём не будет невозможно ориентироваться.                                                                                                            Рынок станет сложнее, но на нём будет возможно ориентироваться.\n",
              "25                                                                                                            Рынок станет сложнее, но на нём будет возможно ориентироваться.                                                                                                       Рынок станет сложнее, но на нём не будет невозможно ориентироваться.\n",
              "26                                                               Даже после того как узнал, что это корм для животных, я не перестану когда-либо обожать Flamin' Hot Cheetos.                                                                  Даже после того как узнал, что это корм для животных, я никогда не перестану обожать Flamin' Hot Cheetos.\n",
              "27                                                                  Даже после того как узнал, что это корм для животных, я никогда не перестану обожать Flamin' Hot Cheetos.                                                               Даже после того как узнал, что это корм для животных, я не перестану когда-либо обожать Flamin' Hot Cheetos.\n",
              "28              Он не был несогласен с позицией партии, но чувствовал, что если бы он ушел в отставку, его популярность среди индейцев перестала бы душить членство в партии.                     Он согласился с позицией партии, но чувствовал, что если бы он ушел в отставку, его популярность среди индейцев перестала бы душить членство в партии.\n",
              "29                     Он согласился с позицией партии, но чувствовал, что если бы он ушел в отставку, его популярность среди индейцев перестала бы душить членство в партии.              Он не был несогласен с позицией партии, но чувствовал, что если бы он ушел в отставку, его популярность среди индейцев перестала бы душить членство в партии.\n",
              "30       Если схема токенизации пайплайна не соответствует той, которая использовалась при создании модели, негативное влияние на результаты пайплайна должно быть ожидаемым.  Если схема токенизации пайплайна не соответствует той, которая использовалась при создании модели, негативное влияние на результаты пайплайна не должно быть неожиданным.\n",
              "31  Если схема токенизации пайплайна не соответствует той, которая использовалась при создании модели, негативное влияние на результаты пайплайна не должно быть неожиданным.       Если схема токенизации пайплайна не соответствует той, которая использовалась при создании модели, негативное влияние на результаты пайплайна должно быть ожидаемым.\n",
              "32                    Если схема токенизации пайплайна не соответствует той, которая использовалась при создании модели, негативное влияние на результаты пайплайна ожидаемо.                    Если схема токенизации пайплайна не соответствует той, которая использовалась при создании модели, ожидаемо негативное влияние на результаты пайплайна.\n",
              "33                    Если схема токенизации пайплайна не соответствует той, которая использовалась при создании модели, ожидаемо негативное влияние на результаты пайплайна.                    Если схема токенизации пайплайна не соответствует той, которая использовалась при создании модели, негативное влияние на результаты пайплайна ожидаемо.\n",
              "34       Если схема токенизации пайплайна не соответствует той, которая использовалась при создании модели, негативное влияние на результаты пайплайна должно быть ожидаемым.  Если схема токенизации пайплайна не соответствует той, которая использовалась при создании модели, не должно быть неожиданным негативное влияние на результаты пайплайна.\n",
              "35  Если схема токенизации пайплайна не соответствует той, которая использовалась при создании модели, не должно быть неожиданным негативное влияние на результаты пайплайна.       Если схема токенизации пайплайна не соответствует той, которая использовалась при создании модели, негативное влияние на результаты пайплайна должно быть ожидаемым.\n",
              "44                               В примере (1) достаточно просто увидеть преувеличенный позитивный настрой, используемый для того, чтобы передать сильные негативные чувства.                                В примере (1) достаточно легко увидеть преувеличенный позитивный настрой, используемый для того, чтобы передать сильные негативные чувства.\n",
              "45                                В примере (1) достаточно легко увидеть преувеличенный позитивный настрой, используемый для того, чтобы передать сильные негативные чувства.                               В примере (1) достаточно просто увидеть преувеличенный позитивный настрой, используемый для того, чтобы передать сильные негативные чувства.\n",
              "48                                                                                                                                    Некоторые собаки любят чесать свои уши.                                                                                                                                  Некоторые животные любят чесать свои уши."
            ]
          },
          "metadata": {
            "tags": []
          },
          "execution_count": 40
        }
      ]
    },
    {
      "cell_type": "markdown",
      "metadata": {
        "id": "g4vZ-kysOnyL"
      },
      "source": [
        "### Vocabulary overlap"
      ]
    },
    {
      "cell_type": "code",
      "metadata": {
        "colab": {
          "base_uri": "https://localhost:8080/",
          "height": 625
        },
        "id": "nyQP3mJFOoTR",
        "outputId": "8de28dce-6ce3-40ae-a586-c65c6d370bd4"
      },
      "source": [
        "df.iloc[[6,7,18,32,33,56,63,72,74,75,77,80,81,82,83,84,85,144,145]]"
      ],
      "execution_count": null,
      "outputs": [
        {
          "output_type": "execute_result",
          "data": {
            "text/html": [
              "<div>\n",
              "<style scoped>\n",
              "    .dataframe tbody tr th:only-of-type {\n",
              "        vertical-align: middle;\n",
              "    }\n",
              "\n",
              "    .dataframe tbody tr th {\n",
              "        vertical-align: top;\n",
              "    }\n",
              "\n",
              "    .dataframe thead th {\n",
              "        text-align: right;\n",
              "    }\n",
              "</style>\n",
              "<table border=\"1\" class=\"dataframe\">\n",
              "  <thead>\n",
              "    <tr style=\"text-align: right;\">\n",
              "      <th></th>\n",
              "      <th>idx</th>\n",
              "      <th>label</th>\n",
              "      <th>sentence1</th>\n",
              "      <th>sentence2</th>\n",
              "      <th>logic</th>\n",
              "      <th>predicate-argument-structure</th>\n",
              "      <th>lexical-semantics</th>\n",
              "      <th>knowledge</th>\n",
              "    </tr>\n",
              "  </thead>\n",
              "  <tbody>\n",
              "    <tr>\n",
              "      <th>6</th>\n",
              "      <td>6</td>\n",
              "      <td>entailment</td>\n",
              "      <td>Сразу же после распаковки Ouya поддерживает мультимедийные приложения, такие как Twitch.tv и XBMC медиа-плеер.</td>\n",
              "      <td>Сразу же после распаковки Ouya поддерживает Twitch.tv и XBMC медиа-плеер.</td>\n",
              "      <td>NaN</td>\n",
              "      <td>Anaphora/Coreference</td>\n",
              "      <td>NaN</td>\n",
              "      <td>NaN</td>\n",
              "    </tr>\n",
              "    <tr>\n",
              "      <th>7</th>\n",
              "      <td>7</td>\n",
              "      <td>entailment</td>\n",
              "      <td>Сразу же после распаковки Ouya поддерживает Twitch.tv и XBMC медиа-плеер.</td>\n",
              "      <td>Сразу же после распаковки Ouya поддерживает мультимедийные приложения, такие как Twitch.tv и XBMC медиа-плеер.</td>\n",
              "      <td>NaN</td>\n",
              "      <td>Anaphora/Coreference</td>\n",
              "      <td>NaN</td>\n",
              "      <td>NaN</td>\n",
              "    </tr>\n",
              "    <tr>\n",
              "      <th>18</th>\n",
              "      <td>18</td>\n",
              "      <td>entailment</td>\n",
              "      <td>Применяя стратегию ненасильственного протеста, Ганди застал администрацию врасплох и получил уступки от властей.</td>\n",
              "      <td>Применяя стратегию протеста, Ганди застал администрацию врасплох и получил уступки от властей.</td>\n",
              "      <td>NaN</td>\n",
              "      <td>Intersectivity</td>\n",
              "      <td>NaN</td>\n",
              "      <td>NaN</td>\n",
              "    </tr>\n",
              "    <tr>\n",
              "      <th>32</th>\n",
              "      <td>32</td>\n",
              "      <td>entailment</td>\n",
              "      <td>Если схема токенизации пайплайна не соответствует той, которая использовалась при создании модели, негативное влияние на результаты пайплайна ожидаемо.</td>\n",
              "      <td>Если схема токенизации пайплайна не соответствует той, которая использовалась при создании модели, ожидаемо негативное влияние на результаты пайплайна.</td>\n",
              "      <td>NaN</td>\n",
              "      <td>Nominalization</td>\n",
              "      <td>NaN</td>\n",
              "      <td>NaN</td>\n",
              "    </tr>\n",
              "    <tr>\n",
              "      <th>33</th>\n",
              "      <td>33</td>\n",
              "      <td>entailment</td>\n",
              "      <td>Если схема токенизации пайплайна не соответствует той, которая использовалась при создании модели, ожидаемо негативное влияние на результаты пайплайна.</td>\n",
              "      <td>Если схема токенизации пайплайна не соответствует той, которая использовалась при создании модели, негативное влияние на результаты пайплайна ожидаемо.</td>\n",
              "      <td>NaN</td>\n",
              "      <td>Nominalization</td>\n",
              "      <td>NaN</td>\n",
              "      <td>NaN</td>\n",
              "    </tr>\n",
              "    <tr>\n",
              "      <th>56</th>\n",
              "      <td>56</td>\n",
              "      <td>entailment</td>\n",
              "      <td>Рассмотрим некоторые слова из контекста как положительные примеры – и несколько негативных наугад из словаря.</td>\n",
              "      <td>Рассмотрим некоторые слова как положительные примеры – и несколько негативных наугад из словаря.</td>\n",
              "      <td>Upward monotone</td>\n",
              "      <td>Intersectivity</td>\n",
              "      <td>NaN</td>\n",
              "      <td>NaN</td>\n",
              "    </tr>\n",
              "    <tr>\n",
              "      <th>63</th>\n",
              "      <td>63</td>\n",
              "      <td>entailment</td>\n",
              "      <td>Рассмотрим все слова как положительные примеры – и несколько негативных наугад из словаря.</td>\n",
              "      <td>Рассмотрим все слова из контекста как положительные примеры – и несколько негативных наугад из словаря.</td>\n",
              "      <td>Downward monotone</td>\n",
              "      <td>Intersectivity</td>\n",
              "      <td>NaN</td>\n",
              "      <td>NaN</td>\n",
              "    </tr>\n",
              "    <tr>\n",
              "      <th>72</th>\n",
              "      <td>72</td>\n",
              "      <td>entailment</td>\n",
              "      <td>На всех территориях деятельность человека изменила форму русла рек, влияя на масштаб и частоту наводнений.</td>\n",
              "      <td>На всех развитых территориях деятельность человека изменила форму русла рек, влияя на масштаб и частоту наводнений.</td>\n",
              "      <td>Downward monotone</td>\n",
              "      <td>Intersectivity</td>\n",
              "      <td>NaN</td>\n",
              "      <td>NaN</td>\n",
              "    </tr>\n",
              "    <tr>\n",
              "      <th>74</th>\n",
              "      <td>74</td>\n",
              "      <td>entailment</td>\n",
              "      <td>Том и Адам шептались в театре.</td>\n",
              "      <td>Том и Адам тихо шептались в театре.</td>\n",
              "      <td>NaN</td>\n",
              "      <td>NaN</td>\n",
              "      <td>Redundancy</td>\n",
              "      <td>NaN</td>\n",
              "    </tr>\n",
              "    <tr>\n",
              "      <th>75</th>\n",
              "      <td>75</td>\n",
              "      <td>entailment</td>\n",
              "      <td>Том и Адам тихо шептались в театре.</td>\n",
              "      <td>Том и Адам шептались в театре.</td>\n",
              "      <td>NaN</td>\n",
              "      <td>NaN</td>\n",
              "      <td>Redundancy</td>\n",
              "      <td>NaN</td>\n",
              "    </tr>\n",
              "    <tr>\n",
              "      <th>77</th>\n",
              "      <td>77</td>\n",
              "      <td>entailment</td>\n",
              "      <td>Том и Адам громко шептались в театре.</td>\n",
              "      <td>Том и Адам шептались в театре.</td>\n",
              "      <td>NaN</td>\n",
              "      <td>NaN</td>\n",
              "      <td>Redundancy</td>\n",
              "      <td>NaN</td>\n",
              "    </tr>\n",
              "  </tbody>\n",
              "</table>\n",
              "</div>"
            ],
            "text/plain": [
              "    idx       label  ... lexical-semantics knowledge\n",
              "6     6  entailment  ...               NaN       NaN\n",
              "7     7  entailment  ...               NaN       NaN\n",
              "18   18  entailment  ...               NaN       NaN\n",
              "32   32  entailment  ...               NaN       NaN\n",
              "33   33  entailment  ...               NaN       NaN\n",
              "56   56  entailment  ...               NaN       NaN\n",
              "63   63  entailment  ...               NaN       NaN\n",
              "72   72  entailment  ...               NaN       NaN\n",
              "74   74  entailment  ...        Redundancy       NaN\n",
              "75   75  entailment  ...        Redundancy       NaN\n",
              "77   77  entailment  ...        Redundancy       NaN\n",
              "\n",
              "[11 rows x 8 columns]"
            ]
          },
          "metadata": {
            "tags": []
          },
          "execution_count": 79
        }
      ]
    },
    {
      "cell_type": "markdown",
      "metadata": {
        "id": "cZA6FsNDO2B2"
      },
      "source": [
        "###  other, including active/passive which will be close to overlapping after lemmantizing"
      ]
    },
    {
      "cell_type": "code",
      "metadata": {
        "colab": {
          "base_uri": "https://localhost:8080/",
          "height": 1000
        },
        "id": "YQbVwr4eO1BD",
        "outputId": "a3f88907-d593-43fa-d1a1-98952eefa873"
      },
      "source": [
        "df.iloc[[22,23,44,45,48,51,52,54,61,65,66,78,79,86,87,90,91,94,95,108,109,142,143, 149, 150]]"
      ],
      "execution_count": null,
      "outputs": [
        {
          "output_type": "execute_result",
          "data": {
            "text/html": [
              "<div>\n",
              "<style scoped>\n",
              "    .dataframe tbody tr th:only-of-type {\n",
              "        vertical-align: middle;\n",
              "    }\n",
              "\n",
              "    .dataframe tbody tr th {\n",
              "        vertical-align: top;\n",
              "    }\n",
              "\n",
              "    .dataframe thead th {\n",
              "        text-align: right;\n",
              "    }\n",
              "</style>\n",
              "<table border=\"1\" class=\"dataframe\">\n",
              "  <thead>\n",
              "    <tr style=\"text-align: right;\">\n",
              "      <th></th>\n",
              "      <th>idx</th>\n",
              "      <th>label</th>\n",
              "      <th>sentence1</th>\n",
              "      <th>sentence2</th>\n",
              "      <th>logic</th>\n",
              "      <th>predicate-argument-structure</th>\n",
              "      <th>lexical-semantics</th>\n",
              "      <th>knowledge</th>\n",
              "      <th>merged</th>\n",
              "    </tr>\n",
              "  </thead>\n",
              "  <tbody>\n",
              "    <tr>\n",
              "      <th>22</th>\n",
              "      <td>22</td>\n",
              "      <td>entailment</td>\n",
              "      <td>Написание кода на Java не слишком отличается от программирования в наручниках.</td>\n",
              "      <td>Написание кода на Java подобно программированию в наручниках.</td>\n",
              "      <td>Double negation</td>\n",
              "      <td>NaN</td>\n",
              "      <td>Morphological negation</td>\n",
              "      <td>NaN</td>\n",
              "      <td>Написание кода на Java не слишком отличается от программирования в наручниках.\\nНаписание кода на Java подобно программированию в наручниках.</td>\n",
              "    </tr>\n",
              "    <tr>\n",
              "      <th>23</th>\n",
              "      <td>23</td>\n",
              "      <td>entailment</td>\n",
              "      <td>Написание кода на Java подобно программированию в наручниках.</td>\n",
              "      <td>Написание кода на Java не слишком отличается от программирования в наручниках.</td>\n",
              "      <td>Double negation</td>\n",
              "      <td>NaN</td>\n",
              "      <td>Morphological negation</td>\n",
              "      <td>NaN</td>\n",
              "      <td>Написание кода на Java подобно программированию в наручниках.\\nНаписание кода на Java не слишком отличается от программирования в наручниках.</td>\n",
              "    </tr>\n",
              "    <tr>\n",
              "      <th>44</th>\n",
              "      <td>44</td>\n",
              "      <td>entailment</td>\n",
              "      <td>В примере (1) достаточно просто увидеть преувеличенный позитивный настрой, используемый для того, чтобы передать сильные негативные чувства.</td>\n",
              "      <td>В примере (1) достаточно легко увидеть преувеличенный позитивный настрой, используемый для того, чтобы передать сильные негативные чувства.</td>\n",
              "      <td>NaN</td>\n",
              "      <td>NaN</td>\n",
              "      <td>Lexical entailment</td>\n",
              "      <td>NaN</td>\n",
              "      <td>В примере (1) достаточно просто увидеть преувеличенный позитивный настрой, используемый для того, чтобы передать сильные негативные чувства.\\nВ примере (1) достаточно легко увидеть преувеличенный позитивный настрой, используемый для того, чтобы передать сильные негативные чувства.</td>\n",
              "    </tr>\n",
              "    <tr>\n",
              "      <th>45</th>\n",
              "      <td>45</td>\n",
              "      <td>entailment</td>\n",
              "      <td>В примере (1) достаточно легко увидеть преувеличенный позитивный настрой, используемый для того, чтобы передать сильные негативные чувства.</td>\n",
              "      <td>В примере (1) достаточно просто увидеть преувеличенный позитивный настрой, используемый для того, чтобы передать сильные негативные чувства.</td>\n",
              "      <td>NaN</td>\n",
              "      <td>NaN</td>\n",
              "      <td>Lexical entailment</td>\n",
              "      <td>NaN</td>\n",
              "      <td>В примере (1) достаточно легко увидеть преувеличенный позитивный настрой, используемый для того, чтобы передать сильные негативные чувства.\\nВ примере (1) достаточно просто увидеть преувеличенный позитивный настрой, используемый для того, чтобы передать сильные негативные чувства.</td>\n",
              "    </tr>\n",
              "    <tr>\n",
              "      <th>48</th>\n",
              "      <td>48</td>\n",
              "      <td>entailment</td>\n",
              "      <td>Некоторые собаки любят чесать свои уши.</td>\n",
              "      <td>Некоторые животные любят чесать свои уши.</td>\n",
              "      <td>Upward monotone</td>\n",
              "      <td>NaN</td>\n",
              "      <td>Lexical entailment</td>\n",
              "      <td>NaN</td>\n",
              "      <td>Некоторые собаки любят чесать свои уши.\\nНекоторые животные любят чесать свои уши.</td>\n",
              "    </tr>\n",
              "    <tr>\n",
              "      <th>...</th>\n",
              "      <td>...</td>\n",
              "      <td>...</td>\n",
              "      <td>...</td>\n",
              "      <td>...</td>\n",
              "      <td>...</td>\n",
              "      <td>...</td>\n",
              "      <td>...</td>\n",
              "      <td>...</td>\n",
              "      <td>...</td>\n",
              "    </tr>\n",
              "    <tr>\n",
              "      <th>109</th>\n",
              "      <td>109</td>\n",
              "      <td>entailment</td>\n",
              "      <td>Окно было разбито Джоном.</td>\n",
              "      <td>Джон разбил окно.</td>\n",
              "      <td>NaN</td>\n",
              "      <td>Active/Passive</td>\n",
              "      <td>NaN</td>\n",
              "      <td>NaN</td>\n",
              "      <td>Окно было разбито Джоном.\\nДжон разбил окно.</td>\n",
              "    </tr>\n",
              "    <tr>\n",
              "      <th>142</th>\n",
              "      <td>142</td>\n",
              "      <td>entailment</td>\n",
              "      <td>Системы извлечения связей заполняют базы знаний фактами из неструктурированных текстовых корпусов.</td>\n",
              "      <td>Системы извлечения связей заполняют базы знаний данными из неструктурированных текстовых корпусов.</td>\n",
              "      <td>NaN</td>\n",
              "      <td>NaN</td>\n",
              "      <td>Lexical entailment</td>\n",
              "      <td>World knowledge</td>\n",
              "      <td>Системы извлечения связей заполняют базы знаний фактами из неструктурированных текстовых корпусов.\\nСистемы извлечения связей заполняют базы знаний данными из неструктурированных текстовых корпусов.</td>\n",
              "    </tr>\n",
              "    <tr>\n",
              "      <th>143</th>\n",
              "      <td>143</td>\n",
              "      <td>entailment</td>\n",
              "      <td>Системы извлечения связей заполняют базы знаний данными из неструктурированных текстовых корпусов.</td>\n",
              "      <td>Системы извлечения связей заполняют базы знаний фактами из неструктурированных текстовых корпусов.</td>\n",
              "      <td>NaN</td>\n",
              "      <td>NaN</td>\n",
              "      <td>Lexical entailment</td>\n",
              "      <td>World knowledge</td>\n",
              "      <td>Системы извлечения связей заполняют базы знаний данными из неструктурированных текстовых корпусов.\\nСистемы извлечения связей заполняют базы знаний фактами из неструктурированных текстовых корпусов.</td>\n",
              "    </tr>\n",
              "    <tr>\n",
              "      <th>149</th>\n",
              "      <td>149</td>\n",
              "      <td>entailment</td>\n",
              "      <td>Мужчина опускается на одно колено и осматривает слоновью ступню, только чтобы обнаружить, что большая заноза засела глубоко.</td>\n",
              "      <td>Мужчина опускается на одно колено и осматривает ступню слона, только чтобы обнаружить, что большая заноза засела глубоко.</td>\n",
              "      <td>NaN</td>\n",
              "      <td>Genitives/Partitives</td>\n",
              "      <td>NaN</td>\n",
              "      <td>NaN</td>\n",
              "      <td>Мужчина опускается на одно колено и осматривает слоновью ступню, только чтобы обнаружить, что большая заноза засела глубоко.\\nМужчина опускается на одно колено и осматривает ступню слона, только чтобы обнаружить, что большая заноза засела глубоко.</td>\n",
              "    </tr>\n",
              "    <tr>\n",
              "      <th>150</th>\n",
              "      <td>150</td>\n",
              "      <td>entailment</td>\n",
              "      <td>Воробьиная популяция Южной Африки существенно не уменьшилась, и человеческая деятельность серьёзно ей не угрожает.</td>\n",
              "      <td>Популяция южноафриканских воробьёв существенно не уменьшилась, и человеческая деятельность серьёзно ей не угрожает.</td>\n",
              "      <td>NaN</td>\n",
              "      <td>Genitives/Partitives</td>\n",
              "      <td>NaN</td>\n",
              "      <td>NaN</td>\n",
              "      <td>Воробьиная популяция Южной Африки существенно не уменьшилась, и человеческая деятельность серьёзно ей не угрожает.\\nПопуляция южноафриканских воробьёв существенно не уменьшилась, и человеческая деятельность серьёзно ей не угрожает.</td>\n",
              "    </tr>\n",
              "  </tbody>\n",
              "</table>\n",
              "<p>25 rows × 9 columns</p>\n",
              "</div>"
            ],
            "text/plain": [
              "     idx  ...                                                                                                                                                                                                                                                                                     merged\n",
              "22    22  ...                                                                                                                                              Написание кода на Java не слишком отличается от программирования в наручниках.\\nНаписание кода на Java подобно программированию в наручниках.\n",
              "23    23  ...                                                                                                                                              Написание кода на Java подобно программированию в наручниках.\\nНаписание кода на Java не слишком отличается от программирования в наручниках.\n",
              "44    44  ...  В примере (1) достаточно просто увидеть преувеличенный позитивный настрой, используемый для того, чтобы передать сильные негативные чувства.\\nВ примере (1) достаточно легко увидеть преувеличенный позитивный настрой, используемый для того, чтобы передать сильные негативные чувства.\n",
              "45    45  ...  В примере (1) достаточно легко увидеть преувеличенный позитивный настрой, используемый для того, чтобы передать сильные негативные чувства.\\nВ примере (1) достаточно просто увидеть преувеличенный позитивный настрой, используемый для того, чтобы передать сильные негативные чувства.\n",
              "48    48  ...                                                                                                                                                                                                         Некоторые собаки любят чесать свои уши.\\nНекоторые животные любят чесать свои уши.\n",
              "..   ...  ...                                                                                                                                                                                                                                                                                        ...\n",
              "109  109  ...                                                                                                                                                                                                                                               Окно было разбито Джоном.\\nДжон разбил окно.\n",
              "142  142  ...                                                                                     Системы извлечения связей заполняют базы знаний фактами из неструктурированных текстовых корпусов.\\nСистемы извлечения связей заполняют базы знаний данными из неструктурированных текстовых корпусов.\n",
              "143  143  ...                                                                                     Системы извлечения связей заполняют базы знаний данными из неструктурированных текстовых корпусов.\\nСистемы извлечения связей заполняют базы знаний фактами из неструктурированных текстовых корпусов.\n",
              "149  149  ...                                    Мужчина опускается на одно колено и осматривает слоновью ступню, только чтобы обнаружить, что большая заноза засела глубоко.\\nМужчина опускается на одно колено и осматривает ступню слона, только чтобы обнаружить, что большая заноза засела глубоко.\n",
              "150  150  ...                                                    Воробьиная популяция Южной Африки существенно не уменьшилась, и человеческая деятельность серьёзно ей не угрожает.\\nПопуляция южноафриканских воробьёв существенно не уменьшилась, и человеческая деятельность серьёзно ей не угрожает.\n",
              "\n",
              "[25 rows x 9 columns]"
            ]
          },
          "metadata": {
            "tags": []
          },
          "execution_count": 41
        }
      ]
    },
    {
      "cell_type": "markdown",
      "metadata": {
        "id": "wFth6d21kGNx"
      },
      "source": [
        "## **Not Entailment**"
      ]
    },
    {
      "cell_type": "code",
      "metadata": {
        "colab": {
          "base_uri": "https://localhost:8080/",
          "height": 891
        },
        "id": "Sjdx5a_MkLgG",
        "outputId": "ff55d094-56e2-4db8-c846-50e3a6eb69d1"
      },
      "source": [
        "df[df.label == 'not_entailment'][['sentence1', 'sentence2']][0:20]"
      ],
      "execution_count": null,
      "outputs": [
        {
          "output_type": "execute_result",
          "data": {
            "text/html": [
              "<div>\n",
              "<style scoped>\n",
              "    .dataframe tbody tr th:only-of-type {\n",
              "        vertical-align: middle;\n",
              "    }\n",
              "\n",
              "    .dataframe tbody tr th {\n",
              "        vertical-align: top;\n",
              "    }\n",
              "\n",
              "    .dataframe thead th {\n",
              "        text-align: right;\n",
              "    }\n",
              "</style>\n",
              "<table border=\"1\" class=\"dataframe\">\n",
              "  <thead>\n",
              "    <tr style=\"text-align: right;\">\n",
              "      <th></th>\n",
              "      <th>sentence1</th>\n",
              "      <th>sentence2</th>\n",
              "    </tr>\n",
              "  </thead>\n",
              "  <tbody>\n",
              "    <tr>\n",
              "      <th>0</th>\n",
              "      <td>Кошка сидела на коврике.</td>\n",
              "      <td>Кошка не сидела на коврике.</td>\n",
              "    </tr>\n",
              "    <tr>\n",
              "      <th>1</th>\n",
              "      <td>Кошка не сидела на коврике.</td>\n",
              "      <td>Кошка сидела на коврике.</td>\n",
              "    </tr>\n",
              "    <tr>\n",
              "      <th>2</th>\n",
              "      <td>Когда у вас нет снега, очень сложно обучиться зимним видам спорта, так что мы искали все способы изучить без снега то, что я мог бы потом повторить на снегу.</td>\n",
              "      <td>Когда у вас есть снег, очень сложно обучиться зимним видам спорта, так что мы искали все способы изучить без снега то, что я мог бы потом повторить на снегу.</td>\n",
              "    </tr>\n",
              "    <tr>\n",
              "      <th>3</th>\n",
              "      <td>Когда у вас есть снег, очень сложно обучиться зимним видам спорта, так что мы искали все способы изучить без снега то, что я мог бы потом повторить на снегу.</td>\n",
              "      <td>Когда у вас нет снега, очень сложно обучиться зимним видам спорта, так что мы искали все способы изучить без снега то, что я мог бы потом повторить на снегу.</td>\n",
              "    </tr>\n",
              "    <tr>\n",
              "      <th>4</th>\n",
              "      <td>Сразу же после распаковки Ouya поддерживает мультимедийные приложения, такие как Twitch.tv и XBMC-медиаплеер.</td>\n",
              "      <td>Сразу же после распаковки Ouya не поддерживает мультимедийные приложения, такие как Twitch.tv и XBMC-медиаплеер.</td>\n",
              "    </tr>\n",
              "    <tr>\n",
              "      <th>5</th>\n",
              "      <td>Сразу же после распаковки Ouya не поддерживает мультимедийные приложения, такие как Twitch.tv и XBMC-медиаплеер.</td>\n",
              "      <td>Сразу же после распаковки Ouya поддерживает мультимедийные приложения, такие как Twitch.tv и XBMC-медиаплеер.</td>\n",
              "    </tr>\n",
              "    <tr>\n",
              "      <th>8</th>\n",
              "      <td>Учитывая это определение, удивительно, что сарказм часто находят в контенте, созданном самоуверенными пользователями.</td>\n",
              "      <td>Учитывая это определение, не удивительно, что сарказм часто находят в контенте, созданном самоуверенными пользователями.</td>\n",
              "    </tr>\n",
              "    <tr>\n",
              "      <th>9</th>\n",
              "      <td>Учитывая это определение, не удивительно, что сарказм часто находят в контенте, созданном самоуверенными пользователями.</td>\n",
              "      <td>Учитывая это определение, удивительно, что сарказм часто находят в контенте, созданном самоуверенными пользователями.</td>\n",
              "    </tr>\n",
              "    <tr>\n",
              "      <th>10</th>\n",
              "      <td>Новая игровая консоль доступна по цене.</td>\n",
              "      <td>Новая игровая консоль недоступна по цене.</td>\n",
              "    </tr>\n",
              "    <tr>\n",
              "      <th>11</th>\n",
              "      <td>Новая игровая консоль недоступна по цене.</td>\n",
              "      <td>Новая игровая консоль доступна по цене.</td>\n",
              "    </tr>\n",
              "    <tr>\n",
              "      <th>12</th>\n",
              "      <td>Выход Великобритании из ЕС – необратимое решение; сэр Майк Рейк, председатель компании Worldpay и экс-председатель BT Group, рассказал, как призывы ко второму референдуму разгорелись на прошлой неделе.</td>\n",
              "      <td>Выход Великобритании из ЕС – обратимое решение; сэр Майк Рейк, председатель компании Worldpay и экс-председатель BT Group, рассказал, как призывы ко второму референдуму разгорелись на прошлой неделе.</td>\n",
              "    </tr>\n",
              "    <tr>\n",
              "      <th>13</th>\n",
              "      <td>Выход Великобритании из ЕС – обратимое решение; сэр Майк Рейк, председатель компании Worldpay и экс-председатель BT Group, рассказал, как призывы ко второму референдуму разгорелись на прошлой неделе.</td>\n",
              "      <td>Выход Великобритании из ЕС – необратимое решение; сэр Майк Рейк, председатель компании Worldpay и экс-председатель BT Group, рассказал, как призывы ко второму референдуму разгорелись на прошлой неделе.</td>\n",
              "    </tr>\n",
              "    <tr>\n",
              "      <th>14</th>\n",
              "      <td>Мы построили наше общество на неэкологичной энергии.</td>\n",
              "      <td>Мы построили наше общество на экологичной энергии.</td>\n",
              "    </tr>\n",
              "    <tr>\n",
              "      <th>15</th>\n",
              "      <td>Мы построили наше общество на экологичной энергии.</td>\n",
              "      <td>Мы построили наше общество на неэкологичной энергии.</td>\n",
              "    </tr>\n",
              "    <tr>\n",
              "      <th>16</th>\n",
              "      <td>Применяя стратегию ненасильственного протеста, Ганди застал администрацию врасплох и получил уступки от властей.</td>\n",
              "      <td>Применяя стратегию насильственного протеста, Ганди застал администрацию врасплох и получил уступки от властей.</td>\n",
              "    </tr>\n",
              "    <tr>\n",
              "      <th>17</th>\n",
              "      <td>Применяя стратегию насильственного протеста, Ганди застал администрацию врасплох и получил уступки от властей.</td>\n",
              "      <td>Применяя стратегию ненасильственного протеста, Ганди застал администрацию врасплох и получил уступки от властей.</td>\n",
              "    </tr>\n",
              "    <tr>\n",
              "      <th>19</th>\n",
              "      <td>Применяя стратегию протеста, Ганди застал администрацию врасплох и получил уступки от властей.</td>\n",
              "      <td>Применяя стратегию ненасильственного протеста, Ганди застал администрацию врасплох и получил уступки от властей.</td>\n",
              "    </tr>\n",
              "    <tr>\n",
              "      <th>20</th>\n",
              "      <td>И если оба применяются, они, по сути, невозможны.</td>\n",
              "      <td>И если оба применяются, они, по сути, возможны.</td>\n",
              "    </tr>\n",
              "    <tr>\n",
              "      <th>21</th>\n",
              "      <td>И если оба применяются, они, по сути, возможны.</td>\n",
              "      <td>И если оба применяются, они, по сути, невозможны.</td>\n",
              "    </tr>\n",
              "    <tr>\n",
              "      <th>36</th>\n",
              "      <td>Вода слишком горячая.</td>\n",
              "      <td>Вода слишком холодная.</td>\n",
              "    </tr>\n",
              "  </tbody>\n",
              "</table>\n",
              "</div>"
            ],
            "text/plain": [
              "                                                                                                                                                                                                    sentence1                                                                                                                                                                                                  sentence2\n",
              "0                                                                                                                                                                                    Кошка сидела на коврике.                                                                                                                                                                                Кошка не сидела на коврике.\n",
              "1                                                                                                                                                                                 Кошка не сидела на коврике.                                                                                                                                                                                   Кошка сидела на коврике.\n",
              "2                                               Когда у вас нет снега, очень сложно обучиться зимним видам спорта, так что мы искали все способы изучить без снега то, что я мог бы потом повторить на снегу.                                              Когда у вас есть снег, очень сложно обучиться зимним видам спорта, так что мы искали все способы изучить без снега то, что я мог бы потом повторить на снегу.\n",
              "3                                               Когда у вас есть снег, очень сложно обучиться зимним видам спорта, так что мы искали все способы изучить без снега то, что я мог бы потом повторить на снегу.                                              Когда у вас нет снега, очень сложно обучиться зимним видам спорта, так что мы искали все способы изучить без снега то, что я мог бы потом повторить на снегу.\n",
              "4                                                                                               Сразу же после распаковки Ouya поддерживает мультимедийные приложения, такие как Twitch.tv и XBMC-медиаплеер.                                                                                           Сразу же после распаковки Ouya не поддерживает мультимедийные приложения, такие как Twitch.tv и XBMC-медиаплеер.\n",
              "5                                                                                            Сразу же после распаковки Ouya не поддерживает мультимедийные приложения, такие как Twitch.tv и XBMC-медиаплеер.                                                                                              Сразу же после распаковки Ouya поддерживает мультимедийные приложения, такие как Twitch.tv и XBMC-медиаплеер.\n",
              "8                                                                                       Учитывая это определение, удивительно, что сарказм часто находят в контенте, созданном самоуверенными пользователями.                                                                                   Учитывая это определение, не удивительно, что сарказм часто находят в контенте, созданном самоуверенными пользователями.\n",
              "9                                                                                    Учитывая это определение, не удивительно, что сарказм часто находят в контенте, созданном самоуверенными пользователями.                                                                                      Учитывая это определение, удивительно, что сарказм часто находят в контенте, созданном самоуверенными пользователями.\n",
              "10                                                                                                                                                                    Новая игровая консоль доступна по цене.                                                                                                                                                                  Новая игровая консоль недоступна по цене.\n",
              "11                                                                                                                                                                  Новая игровая консоль недоступна по цене.                                                                                                                                                                    Новая игровая консоль доступна по цене.\n",
              "12  Выход Великобритании из ЕС – необратимое решение; сэр Майк Рейк, председатель компании Worldpay и экс-председатель BT Group, рассказал, как призывы ко второму референдуму разгорелись на прошлой неделе.    Выход Великобритании из ЕС – обратимое решение; сэр Майк Рейк, председатель компании Worldpay и экс-председатель BT Group, рассказал, как призывы ко второму референдуму разгорелись на прошлой неделе.\n",
              "13    Выход Великобритании из ЕС – обратимое решение; сэр Майк Рейк, председатель компании Worldpay и экс-председатель BT Group, рассказал, как призывы ко второму референдуму разгорелись на прошлой неделе.  Выход Великобритании из ЕС – необратимое решение; сэр Майк Рейк, председатель компании Worldpay и экс-председатель BT Group, рассказал, как призывы ко второму референдуму разгорелись на прошлой неделе.\n",
              "14                                                                                                                                                       Мы построили наше общество на неэкологичной энергии.                                                                                                                                                         Мы построили наше общество на экологичной энергии.\n",
              "15                                                                                                                                                         Мы построили наше общество на экологичной энергии.                                                                                                                                                       Мы построили наше общество на неэкологичной энергии.\n",
              "16                                                                                           Применяя стратегию ненасильственного протеста, Ганди застал администрацию врасплох и получил уступки от властей.                                                                                             Применяя стратегию насильственного протеста, Ганди застал администрацию врасплох и получил уступки от властей.\n",
              "17                                                                                             Применяя стратегию насильственного протеста, Ганди застал администрацию врасплох и получил уступки от властей.                                                                                           Применяя стратегию ненасильственного протеста, Ганди застал администрацию врасплох и получил уступки от властей.\n",
              "19                                                                                                             Применяя стратегию протеста, Ганди застал администрацию врасплох и получил уступки от властей.                                                                                           Применяя стратегию ненасильственного протеста, Ганди застал администрацию врасплох и получил уступки от властей.\n",
              "20                                                                                                                                                          И если оба применяются, они, по сути, невозможны.                                                                                                                                                            И если оба применяются, они, по сути, возможны.\n",
              "21                                                                                                                                                            И если оба применяются, они, по сути, возможны.                                                                                                                                                          И если оба применяются, они, по сути, невозможны.\n",
              "36                                                                                                                                                                                      Вода слишком горячая.                                                                                                                                                                                     Вода слишком холодная."
            ]
          },
          "metadata": {
            "tags": []
          },
          "execution_count": 42
        }
      ]
    },
    {
      "cell_type": "markdown",
      "metadata": {
        "id": "zj0o-bywkYxu"
      },
      "source": [
        "### +1 negation word"
      ]
    },
    {
      "cell_type": "code",
      "metadata": {
        "colab": {
          "base_uri": "https://localhost:8080/",
          "height": 1000
        },
        "id": "W_IABzfJkdOm",
        "outputId": "883d1c93-b82a-4461-bdd1-118966fb78dd"
      },
      "source": [
        "df.iloc[[0,1,2,3,16,17,542,543,544,545]]"
      ],
      "execution_count": null,
      "outputs": [
        {
          "output_type": "execute_result",
          "data": {
            "text/html": [
              "<div>\n",
              "<style scoped>\n",
              "    .dataframe tbody tr th:only-of-type {\n",
              "        vertical-align: middle;\n",
              "    }\n",
              "\n",
              "    .dataframe tbody tr th {\n",
              "        vertical-align: top;\n",
              "    }\n",
              "\n",
              "    .dataframe thead th {\n",
              "        text-align: right;\n",
              "    }\n",
              "</style>\n",
              "<table border=\"1\" class=\"dataframe\">\n",
              "  <thead>\n",
              "    <tr style=\"text-align: right;\">\n",
              "      <th></th>\n",
              "      <th>idx</th>\n",
              "      <th>label</th>\n",
              "      <th>sentence1</th>\n",
              "      <th>sentence2</th>\n",
              "      <th>logic</th>\n",
              "      <th>predicate-argument-structure</th>\n",
              "      <th>lexical-semantics</th>\n",
              "      <th>knowledge</th>\n",
              "      <th>merged</th>\n",
              "    </tr>\n",
              "  </thead>\n",
              "  <tbody>\n",
              "    <tr>\n",
              "      <th>0</th>\n",
              "      <td>0</td>\n",
              "      <td>not_entailment</td>\n",
              "      <td>Кошка сидела на коврике.</td>\n",
              "      <td>Кошка не сидела на коврике.</td>\n",
              "      <td>Negation</td>\n",
              "      <td>NaN</td>\n",
              "      <td>NaN</td>\n",
              "      <td>NaN</td>\n",
              "      <td>Кошка сидела на коврике.\\nКошка не сидела на коврике.</td>\n",
              "    </tr>\n",
              "    <tr>\n",
              "      <th>1</th>\n",
              "      <td>1</td>\n",
              "      <td>not_entailment</td>\n",
              "      <td>Кошка не сидела на коврике.</td>\n",
              "      <td>Кошка сидела на коврике.</td>\n",
              "      <td>Negation</td>\n",
              "      <td>NaN</td>\n",
              "      <td>NaN</td>\n",
              "      <td>NaN</td>\n",
              "      <td>Кошка не сидела на коврике.\\nКошка сидела на коврике.</td>\n",
              "    </tr>\n",
              "    <tr>\n",
              "      <th>2</th>\n",
              "      <td>2</td>\n",
              "      <td>not_entailment</td>\n",
              "      <td>Когда у вас нет снега, очень сложно обучиться зимним видам спорта, так что мы искали все способы изучить без снега то, что я мог бы потом повторить на снегу.</td>\n",
              "      <td>Когда у вас есть снег, очень сложно обучиться зимним видам спорта, так что мы искали все способы изучить без снега то, что я мог бы потом повторить на снегу.</td>\n",
              "      <td>Negation</td>\n",
              "      <td>NaN</td>\n",
              "      <td>NaN</td>\n",
              "      <td>NaN</td>\n",
              "      <td>Когда у вас нет снега, очень сложно обучиться зимним видам спорта, так что мы искали все способы изучить без снега то, что я мог бы потом повторить на снегу.\\nКогда у вас есть снег, очень сложно обучиться зимним видам спорта, так что мы искали все способы изучить без снега то, что я мог бы потом повторить на снегу.</td>\n",
              "    </tr>\n",
              "    <tr>\n",
              "      <th>3</th>\n",
              "      <td>3</td>\n",
              "      <td>not_entailment</td>\n",
              "      <td>Когда у вас есть снег, очень сложно обучиться зимним видам спорта, так что мы искали все способы изучить без снега то, что я мог бы потом повторить на снегу.</td>\n",
              "      <td>Когда у вас нет снега, очень сложно обучиться зимним видам спорта, так что мы искали все способы изучить без снега то, что я мог бы потом повторить на снегу.</td>\n",
              "      <td>Negation</td>\n",
              "      <td>NaN</td>\n",
              "      <td>NaN</td>\n",
              "      <td>NaN</td>\n",
              "      <td>Когда у вас есть снег, очень сложно обучиться зимним видам спорта, так что мы искали все способы изучить без снега то, что я мог бы потом повторить на снегу.\\nКогда у вас нет снега, очень сложно обучиться зимним видам спорта, так что мы искали все способы изучить без снега то, что я мог бы потом повторить на снегу.</td>\n",
              "    </tr>\n",
              "    <tr>\n",
              "      <th>16</th>\n",
              "      <td>16</td>\n",
              "      <td>not_entailment</td>\n",
              "      <td>Применяя стратегию ненасильственного протеста, Ганди застал администрацию врасплох и получил уступки от властей.</td>\n",
              "      <td>Применяя стратегию насильственного протеста, Ганди застал администрацию врасплох и получил уступки от властей.</td>\n",
              "      <td>Negation</td>\n",
              "      <td>NaN</td>\n",
              "      <td>Morphological negation</td>\n",
              "      <td>NaN</td>\n",
              "      <td>Применяя стратегию ненасильственного протеста, Ганди застал администрацию врасплох и получил уступки от властей.\\nПрименяя стратегию насильственного протеста, Ганди застал администрацию врасплох и получил уступки от властей.</td>\n",
              "    </tr>\n",
              "    <tr>\n",
              "      <th>17</th>\n",
              "      <td>17</td>\n",
              "      <td>not_entailment</td>\n",
              "      <td>Применяя стратегию насильственного протеста, Ганди застал администрацию врасплох и получил уступки от властей.</td>\n",
              "      <td>Применяя стратегию ненасильственного протеста, Ганди застал администрацию врасплох и получил уступки от властей.</td>\n",
              "      <td>Negation</td>\n",
              "      <td>NaN</td>\n",
              "      <td>Morphological negation</td>\n",
              "      <td>NaN</td>\n",
              "      <td>Применяя стратегию насильственного протеста, Ганди застал администрацию врасплох и получил уступки от властей.\\nПрименяя стратегию ненасильственного протеста, Ганди застал администрацию врасплох и получил уступки от властей.</td>\n",
              "    </tr>\n",
              "    <tr>\n",
              "      <th>542</th>\n",
              "      <td>542</td>\n",
              "      <td>not_entailment</td>\n",
              "      <td>Корпорация Microsoft считает иск необоснованным, потому что нет единой причиной для жалоб работников и истцы не выявили системной дискриминации по признаку пола.</td>\n",
              "      <td>Корпорация Microsoft считает иск обоснованным, потому что обнаружена единая причина для жалоб работников и истцы не выявили системной дискриминации по признаку пола.</td>\n",
              "      <td>Double negation</td>\n",
              "      <td>NaN</td>\n",
              "      <td>NaN</td>\n",
              "      <td>NaN</td>\n",
              "      <td>Корпорация Microsoft считает иск необоснованным, потому что нет единой причиной для жалоб работников и истцы не выявили системной дискриминации по признаку пола.\\nКорпорация Microsoft считает иск обоснованным, потому что обнаружена единая причина для жалоб работников и истцы не выявили системной дискриминации по признаку пола.</td>\n",
              "    </tr>\n",
              "    <tr>\n",
              "      <th>543</th>\n",
              "      <td>543</td>\n",
              "      <td>not_entailment</td>\n",
              "      <td>Корпорация Microsoft считает иск обоснованным, потому что обнаружена единая причина для жалоб работников и истцы не выявили системной дискриминации по признаку пола.</td>\n",
              "      <td>Корпорация Microsoft считает иск необоснованным, потому что нет единой причиной для жалоб работников и истцы не выявили системной дискриминации по признаку пола.</td>\n",
              "      <td>Double negation</td>\n",
              "      <td>NaN</td>\n",
              "      <td>NaN</td>\n",
              "      <td>NaN</td>\n",
              "      <td>Корпорация Microsoft считает иск обоснованным, потому что обнаружена единая причина для жалоб работников и истцы не выявили системной дискриминации по признаку пола.\\nКорпорация Microsoft считает иск необоснованным, потому что нет единой причиной для жалоб работников и истцы не выявили системной дискриминации по признаку пола.</td>\n",
              "    </tr>\n",
              "    <tr>\n",
              "      <th>544</th>\n",
              "      <td>544</td>\n",
              "      <td>not_entailment</td>\n",
              "      <td>Корпорация Microsoft считает иск необоснованным, потому что нет единой причиной для жалоб работников и истцы не выявили системной дискриминации по признаку пола.</td>\n",
              "      <td>Корпорация Microsoft считает иск обоснованным, потому что нет единой причиной для жалоб работников и истцы не выявили системной дискриминации по признаку пола.</td>\n",
              "      <td>Negation</td>\n",
              "      <td>NaN</td>\n",
              "      <td>NaN</td>\n",
              "      <td>NaN</td>\n",
              "      <td>Корпорация Microsoft считает иск необоснованным, потому что нет единой причиной для жалоб работников и истцы не выявили системной дискриминации по признаку пола.\\nКорпорация Microsoft считает иск обоснованным, потому что нет единой причиной для жалоб работников и истцы не выявили системной дискриминации по признаку пола.</td>\n",
              "    </tr>\n",
              "    <tr>\n",
              "      <th>545</th>\n",
              "      <td>545</td>\n",
              "      <td>not_entailment</td>\n",
              "      <td>Корпорация Microsoft считает иск обоснованным, потому что нет единой причиной для жалоб работников и истцы не выявили системной дискриминации по признаку пола.</td>\n",
              "      <td>Корпорация Microsoft считает иск необоснованным, потому что нет единой причиной для жалоб работников и истцы не выявили системной дискриминации по признаку пола.</td>\n",
              "      <td>Negation</td>\n",
              "      <td>NaN</td>\n",
              "      <td>NaN</td>\n",
              "      <td>NaN</td>\n",
              "      <td>Корпорация Microsoft считает иск обоснованным, потому что нет единой причиной для жалоб работников и истцы не выявили системной дискриминации по признаку пола.\\nКорпорация Microsoft считает иск необоснованным, потому что нет единой причиной для жалоб работников и истцы не выявили системной дискриминации по признаку пола.</td>\n",
              "    </tr>\n",
              "  </tbody>\n",
              "</table>\n",
              "</div>"
            ],
            "text/plain": [
              "     idx  ...                                                                                                                                                                                                                                                                                                                                    merged\n",
              "0      0  ...                                                                                                                                                                                                                                                                                     Кошка сидела на коврике.\\nКошка не сидела на коврике.\n",
              "1      1  ...                                                                                                                                                                                                                                                                                     Кошка не сидела на коврике.\\nКошка сидела на коврике.\n",
              "2      2  ...              Когда у вас нет снега, очень сложно обучиться зимним видам спорта, так что мы искали все способы изучить без снега то, что я мог бы потом повторить на снегу.\\nКогда у вас есть снег, очень сложно обучиться зимним видам спорта, так что мы искали все способы изучить без снега то, что я мог бы потом повторить на снегу.\n",
              "3      3  ...              Когда у вас есть снег, очень сложно обучиться зимним видам спорта, так что мы искали все способы изучить без снега то, что я мог бы потом повторить на снегу.\\nКогда у вас нет снега, очень сложно обучиться зимним видам спорта, так что мы искали все способы изучить без снега то, что я мог бы потом повторить на снегу.\n",
              "16    16  ...                                                                                                          Применяя стратегию ненасильственного протеста, Ганди застал администрацию врасплох и получил уступки от властей.\\nПрименяя стратегию насильственного протеста, Ганди застал администрацию врасплох и получил уступки от властей.\n",
              "17    17  ...                                                                                                          Применяя стратегию насильственного протеста, Ганди застал администрацию врасплох и получил уступки от властей.\\nПрименяя стратегию ненасильственного протеста, Ганди застал администрацию врасплох и получил уступки от властей.\n",
              "542  542  ...  Корпорация Microsoft считает иск необоснованным, потому что нет единой причиной для жалоб работников и истцы не выявили системной дискриминации по признаку пола.\\nКорпорация Microsoft считает иск обоснованным, потому что обнаружена единая причина для жалоб работников и истцы не выявили системной дискриминации по признаку пола.\n",
              "543  543  ...  Корпорация Microsoft считает иск обоснованным, потому что обнаружена единая причина для жалоб работников и истцы не выявили системной дискриминации по признаку пола.\\nКорпорация Microsoft считает иск необоснованным, потому что нет единой причиной для жалоб работников и истцы не выявили системной дискриминации по признаку пола.\n",
              "544  544  ...        Корпорация Microsoft считает иск необоснованным, потому что нет единой причиной для жалоб работников и истцы не выявили системной дискриминации по признаку пола.\\nКорпорация Microsoft считает иск обоснованным, потому что нет единой причиной для жалоб работников и истцы не выявили системной дискриминации по признаку пола.\n",
              "545  545  ...        Корпорация Microsoft считает иск обоснованным, потому что нет единой причиной для жалоб работников и истцы не выявили системной дискриминации по признаку пола.\\nКорпорация Microsoft считает иск необоснованным, потому что нет единой причиной для жалоб работников и истцы не выявили системной дискриминации по признаку пола.\n",
              "\n",
              "[10 rows x 9 columns]"
            ]
          },
          "metadata": {
            "tags": []
          },
          "execution_count": 43
        }
      ]
    },
    {
      "cell_type": "markdown",
      "metadata": {
        "id": "1Y2AgKL-k5cF"
      },
      "source": [
        "### Different in one key word"
      ]
    },
    {
      "cell_type": "code",
      "metadata": {
        "colab": {
          "base_uri": "https://localhost:8080/",
          "height": 964
        },
        "id": "LxHWBDXwk7P1",
        "outputId": "88af3879-7781-41c3-955f-9009fbeaa64f"
      },
      "source": [
        "df.iloc[[36,37,42,43, 58, 59]]"
      ],
      "execution_count": null,
      "outputs": [
        {
          "output_type": "execute_result",
          "data": {
            "text/html": [
              "<div>\n",
              "<style scoped>\n",
              "    .dataframe tbody tr th:only-of-type {\n",
              "        vertical-align: middle;\n",
              "    }\n",
              "\n",
              "    .dataframe tbody tr th {\n",
              "        vertical-align: top;\n",
              "    }\n",
              "\n",
              "    .dataframe thead th {\n",
              "        text-align: right;\n",
              "    }\n",
              "</style>\n",
              "<table border=\"1\" class=\"dataframe\">\n",
              "  <thead>\n",
              "    <tr style=\"text-align: right;\">\n",
              "      <th></th>\n",
              "      <th>idx</th>\n",
              "      <th>label</th>\n",
              "      <th>sentence1</th>\n",
              "      <th>sentence2</th>\n",
              "      <th>logic</th>\n",
              "      <th>predicate-argument-structure</th>\n",
              "      <th>lexical-semantics</th>\n",
              "      <th>knowledge</th>\n",
              "      <th>merged</th>\n",
              "    </tr>\n",
              "  </thead>\n",
              "  <tbody>\n",
              "    <tr>\n",
              "      <th>36</th>\n",
              "      <td>36</td>\n",
              "      <td>not_entailment</td>\n",
              "      <td>Вода слишком горячая.</td>\n",
              "      <td>Вода слишком холодная.</td>\n",
              "      <td>NaN</td>\n",
              "      <td>NaN</td>\n",
              "      <td>Lexical entailment</td>\n",
              "      <td>NaN</td>\n",
              "      <td>Вода слишком горячая.\\nВода слишком холодная.</td>\n",
              "    </tr>\n",
              "    <tr>\n",
              "      <th>37</th>\n",
              "      <td>37</td>\n",
              "      <td>not_entailment</td>\n",
              "      <td>Вода слишком холодная.</td>\n",
              "      <td>Вода слишком горячая.</td>\n",
              "      <td>NaN</td>\n",
              "      <td>NaN</td>\n",
              "      <td>Lexical entailment</td>\n",
              "      <td>NaN</td>\n",
              "      <td>Вода слишком холодная.\\nВода слишком горячая.</td>\n",
              "    </tr>\n",
              "    <tr>\n",
              "      <th>42</th>\n",
              "      <td>42</td>\n",
              "      <td>not_entailment</td>\n",
              "      <td>В примере (1) достаточно просто увидеть преувеличенный позитивный настрой, используемый для того, чтобы передать сильные негативные чувства.</td>\n",
              "      <td>В примере (1) достаточно сложно увидеть преувеличенный позитивный настрой, используемый для того, чтобы передать сильные негативные чувства.</td>\n",
              "      <td>NaN</td>\n",
              "      <td>NaN</td>\n",
              "      <td>Lexical entailment</td>\n",
              "      <td>NaN</td>\n",
              "      <td>В примере (1) достаточно просто увидеть преувеличенный позитивный настрой, используемый для того, чтобы передать сильные негативные чувства.\\nВ примере (1) достаточно сложно увидеть преувеличенный позитивный настрой, используемый для того, чтобы передать сильные негативные чувства.</td>\n",
              "    </tr>\n",
              "    <tr>\n",
              "      <th>43</th>\n",
              "      <td>43</td>\n",
              "      <td>not_entailment</td>\n",
              "      <td>В примере (1) достаточно сложно увидеть преувеличенный позитивный настрой, используемый для того, чтобы передать сильные негативные чувства.</td>\n",
              "      <td>В примере (1) достаточно просто увидеть преувеличенный позитивный настрой, используемый для того, чтобы передать сильные негативные чувства.</td>\n",
              "      <td>NaN</td>\n",
              "      <td>NaN</td>\n",
              "      <td>Lexical entailment</td>\n",
              "      <td>NaN</td>\n",
              "      <td>В примере (1) достаточно сложно увидеть преувеличенный позитивный настрой, используемый для того, чтобы передать сильные негативные чувства.\\nВ примере (1) достаточно просто увидеть преувеличенный позитивный настрой, используемый для того, чтобы передать сильные негативные чувства.</td>\n",
              "    </tr>\n",
              "    <tr>\n",
              "      <th>58</th>\n",
              "      <td>58</td>\n",
              "      <td>not_entailment</td>\n",
              "      <td>Рассмотрим некоторые слова из контекста как положительные примеры – и несколько негативных наугад из словаря.</td>\n",
              "      <td>Рассмотрим все слова из контекста как положительные примеры – и много негативных наугад из словаря.</td>\n",
              "      <td>NaN</td>\n",
              "      <td>NaN</td>\n",
              "      <td>Quantifiers</td>\n",
              "      <td>NaN</td>\n",
              "      <td>Рассмотрим некоторые слова из контекста как положительные примеры – и несколько негативных наугад из словаря.\\nРассмотрим все слова из контекста как положительные примеры – и много негативных наугад из словаря.</td>\n",
              "    </tr>\n",
              "    <tr>\n",
              "      <th>59</th>\n",
              "      <td>59</td>\n",
              "      <td>not_entailment</td>\n",
              "      <td>Рассмотрим все слова из контекста как положительные примеры – и много негативных наугад из словаря.</td>\n",
              "      <td>Рассмотрим некоторые слова из контекста как положительные примеры – и несколько негативных наугад из словаря.</td>\n",
              "      <td>NaN</td>\n",
              "      <td>NaN</td>\n",
              "      <td>Quantifiers</td>\n",
              "      <td>NaN</td>\n",
              "      <td>Рассмотрим все слова из контекста как положительные примеры – и много негативных наугад из словаря.\\nРассмотрим некоторые слова из контекста как положительные примеры – и несколько негативных наугад из словаря.</td>\n",
              "    </tr>\n",
              "  </tbody>\n",
              "</table>\n",
              "</div>"
            ],
            "text/plain": [
              "    idx  ...                                                                                                                                                                                                                                                                                      merged\n",
              "36   36  ...                                                                                                                                                                                                                                               Вода слишком горячая.\\nВода слишком холодная.\n",
              "37   37  ...                                                                                                                                                                                                                                               Вода слишком холодная.\\nВода слишком горячая.\n",
              "42   42  ...  В примере (1) достаточно просто увидеть преувеличенный позитивный настрой, используемый для того, чтобы передать сильные негативные чувства.\\nВ примере (1) достаточно сложно увидеть преувеличенный позитивный настрой, используемый для того, чтобы передать сильные негативные чувства.\n",
              "43   43  ...  В примере (1) достаточно сложно увидеть преувеличенный позитивный настрой, используемый для того, чтобы передать сильные негативные чувства.\\nВ примере (1) достаточно просто увидеть преувеличенный позитивный настрой, используемый для того, чтобы передать сильные негативные чувства.\n",
              "58   58  ...                                                                          Рассмотрим некоторые слова из контекста как положительные примеры – и несколько негативных наугад из словаря.\\nРассмотрим все слова из контекста как положительные примеры – и много негативных наугад из словаря.\n",
              "59   59  ...                                                                          Рассмотрим все слова из контекста как положительные примеры – и много негативных наугад из словаря.\\nРассмотрим некоторые слова из контекста как положительные примеры – и несколько негативных наугад из словаря.\n",
              "\n",
              "[6 rows x 9 columns]"
            ]
          },
          "metadata": {
            "tags": []
          },
          "execution_count": 44
        }
      ]
    },
    {
      "cell_type": "markdown",
      "metadata": {
        "id": "kIdgORqul4mi"
      },
      "source": [
        "### Examples to note\r\n"
      ]
    },
    {
      "cell_type": "code",
      "metadata": {
        "id": "b9XNog0I5XrW",
        "colab": {
          "base_uri": "https://localhost:8080/",
          "height": 473
        },
        "outputId": "0047e70d-3097-4b56-d7fc-24bd2d61cc8a"
      },
      "source": [
        "df.iloc[[48,49,62,50,51,66,67]]"
      ],
      "execution_count": null,
      "outputs": [
        {
          "output_type": "execute_result",
          "data": {
            "text/html": [
              "<div>\n",
              "<style scoped>\n",
              "    .dataframe tbody tr th:only-of-type {\n",
              "        vertical-align: middle;\n",
              "    }\n",
              "\n",
              "    .dataframe tbody tr th {\n",
              "        vertical-align: top;\n",
              "    }\n",
              "\n",
              "    .dataframe thead th {\n",
              "        text-align: right;\n",
              "    }\n",
              "</style>\n",
              "<table border=\"1\" class=\"dataframe\">\n",
              "  <thead>\n",
              "    <tr style=\"text-align: right;\">\n",
              "      <th></th>\n",
              "      <th>idx</th>\n",
              "      <th>label</th>\n",
              "      <th>sentence1</th>\n",
              "      <th>sentence2</th>\n",
              "      <th>logic</th>\n",
              "      <th>predicate-argument-structure</th>\n",
              "      <th>lexical-semantics</th>\n",
              "      <th>knowledge</th>\n",
              "    </tr>\n",
              "  </thead>\n",
              "  <tbody>\n",
              "    <tr>\n",
              "      <th>48</th>\n",
              "      <td>48</td>\n",
              "      <td>entailment</td>\n",
              "      <td>Некоторые собаки любят чесать свои уши.</td>\n",
              "      <td>Некоторые животные любят чесать свои уши.</td>\n",
              "      <td>Upward monotone</td>\n",
              "      <td>NaN</td>\n",
              "      <td>Lexical entailment</td>\n",
              "      <td>NaN</td>\n",
              "    </tr>\n",
              "    <tr>\n",
              "      <th>49</th>\n",
              "      <td>49</td>\n",
              "      <td>not_entailment</td>\n",
              "      <td>Некоторые животные любят чесать свои уши.</td>\n",
              "      <td>Некоторые собаки любят чесать свои уши.</td>\n",
              "      <td>Upward monotone</td>\n",
              "      <td>NaN</td>\n",
              "      <td>Lexical entailment</td>\n",
              "      <td>NaN</td>\n",
              "    </tr>\n",
              "    <tr>\n",
              "      <th>62</th>\n",
              "      <td>62</td>\n",
              "      <td>not_entailment</td>\n",
              "      <td>Рассмотрим все слова из контекста как положительные примеры – и несколько негативных наугад из словаря.</td>\n",
              "      <td>Рассмотрим все слова как положительные примеры – и несколько негативных наугад из словаря.</td>\n",
              "      <td>Downward monotone</td>\n",
              "      <td>Intersectivity</td>\n",
              "      <td>NaN</td>\n",
              "      <td>NaN</td>\n",
              "    </tr>\n",
              "    <tr>\n",
              "      <th>50</th>\n",
              "      <td>50</td>\n",
              "      <td>not_entailment</td>\n",
              "      <td>Круз неоднократно высмеивал как \"амнистию\" различные планы, призванные дать правовой статус или гражданство людям, живущим в стране незаконно.</td>\n",
              "      <td>Круз неоднократно высмеивал как \"амнистию\" различные законопроекты, призванные дать правовой статус или гражданство людям, живущим в стране незаконно.</td>\n",
              "      <td>Upward monotone</td>\n",
              "      <td>NaN</td>\n",
              "      <td>NaN</td>\n",
              "      <td>World knowledge</td>\n",
              "    </tr>\n",
              "    <tr>\n",
              "      <th>51</th>\n",
              "      <td>51</td>\n",
              "      <td>entailment</td>\n",
              "      <td>Круз неоднократно высмеивал как \"амнистию\" различные законопроекты, призванные дать правовой статус или гражданство людям, живущим в стране незаконно.</td>\n",
              "      <td>Круз неоднократно высмеивал как \"амнистию\" различные планы, призванные дать правовой статус или гражданство людям, живущим в стране незаконно.</td>\n",
              "      <td>Upward monotone</td>\n",
              "      <td>NaN</td>\n",
              "      <td>NaN</td>\n",
              "      <td>World knowledge</td>\n",
              "    </tr>\n",
              "    <tr>\n",
              "      <th>66</th>\n",
              "      <td>66</td>\n",
              "      <td>entailment</td>\n",
              "      <td>Круз неоднократно высмеивал как \"амнистию\" любые планы, призванные дать правовой статус или гражданство людям, живущим в стране незаконно.</td>\n",
              "      <td>Круз неоднократно высмеивал как \"амнистию\" любые законопроекты, призванные дать правовой статус или гражданство людям, живущим в стране незаконно.</td>\n",
              "      <td>Downward monotone</td>\n",
              "      <td>NaN</td>\n",
              "      <td>NaN</td>\n",
              "      <td>World knowledge</td>\n",
              "    </tr>\n",
              "    <tr>\n",
              "      <th>67</th>\n",
              "      <td>67</td>\n",
              "      <td>not_entailment</td>\n",
              "      <td>Круз неоднократно высмеивал как \"амнистию\" любые законопроекты, призванные дать правовой статус или гражданство людям, живущим в стране незаконно.</td>\n",
              "      <td>Круз неоднократно высмеивал как \"амнистию\" любые планы, призванные дать правовой статус или гражданство людям, живущим в стране незаконно.</td>\n",
              "      <td>Downward monotone</td>\n",
              "      <td>NaN</td>\n",
              "      <td>NaN</td>\n",
              "      <td>World knowledge</td>\n",
              "    </tr>\n",
              "  </tbody>\n",
              "</table>\n",
              "</div>"
            ],
            "text/plain": [
              "    idx           label  ...   lexical-semantics        knowledge\n",
              "48   48      entailment  ...  Lexical entailment              NaN\n",
              "49   49  not_entailment  ...  Lexical entailment              NaN\n",
              "62   62  not_entailment  ...                 NaN              NaN\n",
              "50   50  not_entailment  ...                 NaN  World knowledge\n",
              "51   51      entailment  ...                 NaN  World knowledge\n",
              "66   66      entailment  ...                 NaN  World knowledge\n",
              "67   67  not_entailment  ...                 NaN  World knowledge\n",
              "\n",
              "[7 rows x 8 columns]"
            ]
          },
          "metadata": {
            "tags": []
          },
          "execution_count": 106
        }
      ]
    }
  ]
}