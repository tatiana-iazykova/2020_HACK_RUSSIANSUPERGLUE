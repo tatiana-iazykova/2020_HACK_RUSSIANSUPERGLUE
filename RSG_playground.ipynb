{
  "nbformat": 4,
  "nbformat_minor": 0,
  "metadata": {
    "colab": {
      "name": "RSG_playground.ipynb",
      "provenance": [],
      "collapsed_sections": [],
      "toc_visible": true
    },
    "kernelspec": {
      "name": "python3",
      "display_name": "Python 3"
    }
  },
  "cells": [
    {
      "cell_type": "markdown",
      "metadata": {
        "id": "Q4GGQ1Z8dNDq"
      },
      "source": [
        "**The code cells below is to download a dataset into Colab directly.** Skip if irrelevant"
      ]
    },
    {
      "cell_type": "code",
      "metadata": {
        "id": "RsL57-5kTLgJ"
      },
      "source": [
        "%%bash\n",
        "# change url if you want to work with a different RSG dataset\n",
        "wget -q --show-progress \"https://russiansuperglue.com/tasks/download/DaNetQA\" -O temp.zip\n",
        "unzip temp.zip -d data\n",
        "\n",
        "# remove unnecessary directories and files\n",
        "rm temp.zip\n",
        "rm -r data/__MACOSX\n",
        "rm -r sample_data/"
      ],
      "execution_count": null,
      "outputs": []
    },
    {
      "cell_type": "markdown",
      "metadata": {
        "id": "uD4auz_Nt9qR"
      },
      "source": [
        "Fancy way to display content of the dataset directory"
      ]
    },
    {
      "cell_type": "code",
      "metadata": {
        "colab": {
          "base_uri": "https://localhost:8080/"
        },
        "id": "Wh_Pi5TXfVBI",
        "outputId": "3c18cc8e-6189-4b3d-bf52-0e9f6ecb1b3c"
      },
      "source": [
        "%%bash\n",
        "# add tree package for fancy directory display\n",
        "apt-get install tree"
      ],
      "execution_count": null,
      "outputs": [
        {
          "output_type": "stream",
          "text": [
            "Reading package lists...\n",
            "Building dependency tree...\n",
            "Reading state information...\n",
            "tree is already the newest version (1.7.0-5).\n",
            "0 upgraded, 0 newly installed, 0 to remove and 14 not upgraded.\n"
          ],
          "name": "stdout"
        }
      ]
    },
    {
      "cell_type": "code",
      "metadata": {
        "colab": {
          "base_uri": "https://localhost:8080/"
        },
        "id": "87zEZXR_xzmF",
        "outputId": "6f13a6ce-f979-4355-8474-740ae98b7d36"
      },
      "source": [
        "# display the content of the folder\n",
        "!tree"
      ],
      "execution_count": null,
      "outputs": [
        {
          "output_type": "stream",
          "text": [
            ".\n",
            "└── data\n",
            "    └── DaNetQA\n",
            "        ├── test.jsonl\n",
            "        ├── train.jsonl\n",
            "        └── val.jsonl\n",
            "\n",
            "2 directories, 3 files\n"
          ],
          "name": "stdout"
        }
      ]
    },
    {
      "cell_type": "markdown",
      "metadata": {
        "id": "ZxDAiS8Ox8Py"
      },
      "source": [
        "### **Start playing here**"
      ]
    },
    {
      "cell_type": "code",
      "metadata": {
        "id": "C0cqhlXaXbwj"
      },
      "source": [
        "import pandas as pd\n",
        "\n",
        "class JSONL_handler():\n",
        "    \"\"\" opens a jsonl file and turns it into a necessary data structure \"\"\"\n",
        "    \n",
        "    def __init__(self, path):\n",
        "        self.path = path # path to jsonl file\n",
        "\n",
        "    def to_pandas(self):\n",
        "        \"\"\" get jsonl file content as a pandas DataFrame\"\"\"\n",
        "        return pd.read_json(path_or_buf=self.path, lines=True)"
      ],
      "execution_count": null,
      "outputs": []
    },
    {
      "cell_type": "code",
      "metadata": {
        "id": "_NRSjltfYcjT"
      },
      "source": [
        "handler = JSONL_handler('data/DaNetQA/train.jsonl')\n",
        "df = handler.to_pandas()"
      ],
      "execution_count": null,
      "outputs": []
    },
    {
      "cell_type": "markdown",
      "metadata": {
        "id": "sQU6l2URwmqZ"
      },
      "source": [
        "[Pandas cheat sheet](https://github.com/pandas-dev/pandas/blob/master/doc/cheatsheet/Pandas_Cheat_Sheet.pdf?platform=hootsuite) for reference\n"
      ]
    },
    {
      "cell_type": "code",
      "metadata": {
        "colab": {
          "base_uri": "https://localhost:8080/",
          "height": 225
        },
        "id": "U4cXPz50xbtp",
        "outputId": "a5575591-cbf6-4ab6-d236-173be5e689fe"
      },
      "source": [
        "df.head(6)"
      ],
      "execution_count": null,
      "outputs": [
        {
          "output_type": "execute_result",
          "data": {
            "text/html": [
              "<div>\n",
              "<style scoped>\n",
              "    .dataframe tbody tr th:only-of-type {\n",
              "        vertical-align: middle;\n",
              "    }\n",
              "\n",
              "    .dataframe tbody tr th {\n",
              "        vertical-align: top;\n",
              "    }\n",
              "\n",
              "    .dataframe thead th {\n",
              "        text-align: right;\n",
              "    }\n",
              "</style>\n",
              "<table border=\"1\" class=\"dataframe\">\n",
              "  <thead>\n",
              "    <tr style=\"text-align: right;\">\n",
              "      <th></th>\n",
              "      <th>question</th>\n",
              "      <th>passage</th>\n",
              "      <th>label</th>\n",
              "      <th>idx</th>\n",
              "    </tr>\n",
              "  </thead>\n",
              "  <tbody>\n",
              "    <tr>\n",
              "      <th>0</th>\n",
              "      <td>Вднх - это выставочный центр?</td>\n",
              "      <td>«Вы́ставочный центр» — станция Московского мон...</td>\n",
              "      <td>True</td>\n",
              "      <td>0</td>\n",
              "    </tr>\n",
              "    <tr>\n",
              "      <th>1</th>\n",
              "      <td>Вднх - это выставочный центр?</td>\n",
              "      <td>Вы́ставка достиже́ний наро́дного хозя́йства  ,...</td>\n",
              "      <td>True</td>\n",
              "      <td>1</td>\n",
              "    </tr>\n",
              "    <tr>\n",
              "      <th>2</th>\n",
              "      <td>Был ли джиган в black star?</td>\n",
              "      <td>Вместе с этим треком они выступили на церемони...</td>\n",
              "      <td>True</td>\n",
              "      <td>2</td>\n",
              "    </tr>\n",
              "    <tr>\n",
              "      <th>3</th>\n",
              "      <td>Xiaomi конкурент apple?</td>\n",
              "      <td>Xiaomi — китайская компания, основанная в 2010...</td>\n",
              "      <td>True</td>\n",
              "      <td>3</td>\n",
              "    </tr>\n",
              "    <tr>\n",
              "      <th>4</th>\n",
              "      <td>Был ли автомат калашникова в вов?</td>\n",
              "      <td>Отметив некоторые недостатки и в целом удачную...</td>\n",
              "      <td>False</td>\n",
              "      <td>4</td>\n",
              "    </tr>\n",
              "    <tr>\n",
              "      <th>5</th>\n",
              "      <td>Может ли автомобиль ездить на газу?</td>\n",
              "      <td>Автомобиль на природном газе — один из видов а...</td>\n",
              "      <td>True</td>\n",
              "      <td>5</td>\n",
              "    </tr>\n",
              "  </tbody>\n",
              "</table>\n",
              "</div>"
            ],
            "text/plain": [
              "                              question  ... idx\n",
              "0        Вднх - это выставочный центр?  ...   0\n",
              "1        Вднх - это выставочный центр?  ...   1\n",
              "2          Был ли джиган в black star?  ...   2\n",
              "3              Xiaomi конкурент apple?  ...   3\n",
              "4    Был ли автомат калашникова в вов?  ...   4\n",
              "5  Может ли автомобиль ездить на газу?  ...   5\n",
              "\n",
              "[6 rows x 4 columns]"
            ]
          },
          "metadata": {
            "tags": []
          },
          "execution_count": 14
        }
      ]
    },
    {
      "cell_type": "code",
      "metadata": {
        "colab": {
          "base_uri": "https://localhost:8080/"
        },
        "id": "vACfnT5Jpgbl",
        "outputId": "535ec32a-0f6e-4343-e2fd-d2cd03396abd"
      },
      "source": [
        "df['label'].value_counts()"
      ],
      "execution_count": null,
      "outputs": [
        {
          "output_type": "execute_result",
          "data": {
            "text/plain": [
              "True     1061\n",
              "False     688\n",
              "Name: label, dtype: int64"
            ]
          },
          "metadata": {
            "tags": []
          },
          "execution_count": 12
        }
      ]
    }
  ]
}