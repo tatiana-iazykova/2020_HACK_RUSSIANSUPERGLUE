{
  "nbformat": 4,
  "nbformat_minor": 0,
  "metadata": {
    "colab": {
      "name": "Копия блокнота \"BaseLine.ipynb\"",
      "provenance": []
    },
    "kernelspec": {
      "name": "python3",
      "display_name": "Python 3"
    }
  },
  "cells": [
    {
      "cell_type": "code",
      "metadata": {
        "id": "QnhjR-EFgY2c"
      },
      "source": [
        "import os\r\n",
        "import random \r\n",
        "\r\n",
        "import numpy as np\r\n",
        "from sklearn.metrics import classification_report\r\n",
        "from sklearn.metrics import matthews_corrcoef\r\n",
        "import pandas as pd\r\n",
        "\r\n",
        "def seed_everything(seed: int):\r\n",
        "    random.seed(seed)\r\n",
        "    os.environ[\"PYTHONHASHSEED\"] = str(seed)\r\n",
        "    np.random.RandomState(seed)\r\n",
        "    np.random.seed(seed)\r\n",
        "    # torch.manual_seed(seed)\r\n",
        "    # torch.cuda.manual_seed(seed)\r\n",
        "    # torch.backends.cudnn.deterministic = True\r\n",
        "\r\n",
        "seed_everything(42)"
      ],
      "execution_count": 28,
      "outputs": []
    },
    {
      "cell_type": "code",
      "metadata": {
        "id": "5euwTaKdWidr"
      },
      "source": [
        "class Baseline:\r\n",
        "\r\n",
        "    def __init__(self, path: str, path_valid=None, seed=42):\r\n",
        "        \r\n",
        "        self.path = path\r\n",
        "        self.train = pd.read_json(path_or_buf=path, lines=True)\r\n",
        "        self.seed = seed\r\n",
        "        if path_valid:\r\n",
        "            self.valid = pd.read_json(path_or_buf=path_valid, lines=True)\r\n",
        "        else:\r\n",
        "            self.valid = None\r\n",
        "    \r\n",
        "    def all_methods(self):\r\n",
        "\r\n",
        "        if self.valid is not None:\r\n",
        "            test_size = len(self.valid)\r\n",
        "            y_true = list(self.valid.label)\r\n",
        "        else:\r\n",
        "            print(\"There are no Validation/Test set in this task\")\r\n",
        "            print(\"Making Predictions for Train dataset\")\r\n",
        "            test_size = len(self.train)\r\n",
        "            y_true = self.train.label\r\n",
        "            \r\n",
        "        print()\r\n",
        "        print(f\"Making Prediction based on Majority Class\")\r\n",
        "        y_pred = self.majority_class(test_size=test_size)\r\n",
        "        self.show_report(y_true, y_pred)\r\n",
        "\r\n",
        "        if 'lidirus' in self.path.lower():\r\n",
        "            print(f\" Matthews Correlation: {self.show_mc(y_true, y_pred)}\")\r\n",
        "\r\n",
        "        print()\r\n",
        "        print(f\"Making Prediction based on Random Choice\")\r\n",
        "        y_pred = self.random_choice(test_size=test_size)\r\n",
        "        self.show_report(y_true, y_pred)\r\n",
        "\r\n",
        "        if 'lidirus' in self.path.lower():\r\n",
        "            print(f\" Matthews Correlation: {self.show_mc(y_true, y_pred)}\")\r\n",
        "        \r\n",
        "        print()\r\n",
        "        print(f\"Making Prediction based on Random Choice Considered Classes Distribution\")\r\n",
        "        y_pred = self.random_balanced_choice(test_size=test_size)\r\n",
        "        self.show_report(y_true, y_pred)\r\n",
        "\r\n",
        "        if 'lidirus' in self.path.lower():\r\n",
        "            print(f\" Matthews Correlation: {self.show_mc(y_true, y_pred)}\")\r\n",
        "\r\n",
        "\r\n",
        "    def show_report(self, y_true, y_pred):\r\n",
        "        print(classification_report(y_true, y_pred))\r\n",
        "\r\n",
        "    def show_mc(self, y_true, y_pred):\r\n",
        "        return matthews_corrcoef(y_true, y_pred)\r\n",
        "    \r\n",
        "    \r\n",
        "    def majority_class(self, test_size):\r\n",
        "        \"\"\"\r\n",
        "        Make prediction based on majority class of train dataset\r\n",
        "        test_size: how many predictions should be made\r\n",
        "        return: List of predictions\r\n",
        "        \"\"\"\r\n",
        "\r\n",
        "        prediction = self.train.label.mode()[0]\r\n",
        "        y_pred = [prediction] * test_size\r\n",
        "        return y_pred\r\n",
        "\r\n",
        "    def random_choice(self, test_size):\r\n",
        "        \"\"\"\r\n",
        "        Make random predictions\r\n",
        "        label: label column in df (str)\r\n",
        "        test_size: how many predictions should be made\r\n",
        "        return: List of predictions\r\n",
        "        \"\"\"\r\n",
        "        options = sorted(self.train.label.unique())\r\n",
        "        np.random.seed(self.seed)\r\n",
        "        y_pred = np.random.choice(options, size=test_size)\r\n",
        "        return y_pred\r\n",
        "\r\n",
        "\r\n",
        "    def random_balanced_choice(self, test_size):\r\n",
        "        \"\"\"\r\n",
        "        Make random predictions with calculated probabilities\r\n",
        "        label: label column in df (str)\r\n",
        "        test_size: how many predictions should be made\r\n",
        "        return: List of predictions\r\n",
        "        \"\"\"\r\n",
        "        frequences = dict(self.train.label.value_counts(normalize=True))\r\n",
        "\r\n",
        "        labels = []\r\n",
        "        probs = []\r\n",
        "        for key, value in frequences.items():\r\n",
        "            labels.append(key)\r\n",
        "            probs.append(value)\r\n",
        "        np.random.seed(self.seed)\r\n",
        "        y_pred = np.random.choice(labels, size=test_size, p=probs)\r\n",
        "        return y_pred"
      ],
      "execution_count": 31,
      "outputs": []
    },
    {
      "cell_type": "markdown",
      "metadata": {
        "id": "MqAs4c1oc7Gw"
      },
      "source": [
        "# LiDiRus"
      ]
    },
    {
      "cell_type": "code",
      "metadata": {
        "id": "bENHZbtgcU1X",
        "colab": {
          "base_uri": "https://localhost:8080/"
        },
        "outputId": "94814e8c-e6fb-43de-b7ad-e6e4a6c1abb7"
      },
      "source": [
        "%%capture\r\n",
        "%%bash\r\n",
        "# change url if you want to work with a different RSG dataset\r\n",
        "wget -q --show-progress \"https://russiansuperglue.com/ru/tasks/download/LiDiRus\" -O temp.zip\r\n",
        "unzip temp.zip -d data\r\n",
        "\r\n",
        "# remove unnecessary directories and files\r\n",
        "rm temp.zip\r\n",
        "rm -r data/__MACOSX\r\n",
        "rm -r sample_data/"
      ],
      "execution_count": 23,
      "outputs": [
        {
          "output_type": "stream",
          "text": [
            "Archive:  temp.zip\n",
            "   creating: data/LiDiRus/\n",
            "  inflating: data/LiDiRus/.DS_Store  \n",
            "   creating: data/__MACOSX/\n",
            "   creating: data/__MACOSX/LiDiRus/\n",
            "  inflating: data/__MACOSX/LiDiRus/._.DS_Store  \n",
            "  inflating: data/LiDiRus/LiDiRus.jsonl  \n",
            "  inflating: data/__MACOSX/LiDiRus/._LiDiRus.jsonl  \n",
            "  inflating: data/__MACOSX/._LiDiRus  \n"
          ],
          "name": "stdout"
        },
        {
          "output_type": "stream",
          "text": [
            "\n",
            "     0K .......... .......... .......... .......... ......    100%  340K=0.1srm: cannot remove 'sample_data/': No such file or directory\n"
          ],
          "name": "stderr"
        }
      ]
    },
    {
      "cell_type": "code",
      "metadata": {
        "id": "Ny4uU3RIdmaa",
        "colab": {
          "base_uri": "https://localhost:8080/"
        },
        "outputId": "5b2ed181-17f7-40bf-f914-0f01c5e34d5e"
      },
      "source": [
        "lidirus = Baseline(path='data/LiDiRus/LiDiRus.jsonl')\r\n",
        "lidirus.all_methods()"
      ],
      "execution_count": 32,
      "outputs": [
        {
          "output_type": "stream",
          "text": [
            "There are no Validation/Test set in this task\n",
            "Making Predictions for Train dataset\n",
            "\n",
            "Making Prediction based on Majority Class\n",
            "                precision    recall  f1-score   support\n",
            "\n",
            "    entailment       0.00      0.00      0.00       459\n",
            "not_entailment       0.58      1.00      0.74       645\n",
            "\n",
            "      accuracy                           0.58      1104\n",
            "     macro avg       0.29      0.50      0.37      1104\n",
            "  weighted avg       0.34      0.58      0.43      1104\n",
            "\n",
            " Matthews Correlation: 0.0\n",
            "\n",
            "Making Prediction based on Random Choice\n",
            "                precision    recall  f1-score   support\n",
            "\n",
            "    entailment       0.43      0.51      0.47       459\n",
            "not_entailment       0.60      0.51      0.55       645\n",
            "\n",
            "      accuracy                           0.51      1104\n",
            "     macro avg       0.51      0.51      0.51      1104\n",
            "  weighted avg       0.53      0.51      0.52      1104\n",
            "\n",
            " Matthews Correlation: 0.02389225560145845\n",
            "\n",
            "Making Prediction based on Random Choice Considered Classes Distribution\n",
            "                precision    recall  f1-score   support\n",
            "\n",
            "    entailment       0.41      0.41      0.41       459\n",
            "not_entailment       0.58      0.58      0.58       645\n",
            "\n",
            "      accuracy                           0.51      1104\n",
            "     macro avg       0.49      0.49      0.49      1104\n",
            "  weighted avg       0.51      0.51      0.51      1104\n",
            "\n",
            " Matthews Correlation: -0.012751659213553989\n"
          ],
          "name": "stdout"
        },
        {
          "output_type": "stream",
          "text": [
            "/usr/local/lib/python3.6/dist-packages/sklearn/metrics/_classification.py:1272: UndefinedMetricWarning: Precision and F-score are ill-defined and being set to 0.0 in labels with no predicted samples. Use `zero_division` parameter to control this behavior.\n",
            "  _warn_prf(average, modifier, msg_start, len(result))\n",
            "/usr/local/lib/python3.6/dist-packages/sklearn/metrics/_classification.py:900: RuntimeWarning: invalid value encountered in double_scalars\n",
            "  mcc = cov_ytyp / np.sqrt(cov_ytyt * cov_ypyp)\n"
          ],
          "name": "stderr"
        }
      ]
    },
    {
      "cell_type": "markdown",
      "metadata": {
        "id": "Pc-gFqkFgxVH"
      },
      "source": [
        "# RCB"
      ]
    },
    {
      "cell_type": "code",
      "metadata": {
        "id": "40gI92kog9cE"
      },
      "source": [
        "%%capture\r\n",
        "%%bash\r\n",
        "# change url if you want to work with a different RSG dataset\r\n",
        "wget -q --show-progress \"https://russiansuperglue.com/tasks/download/RCB\" -O temp.zip\r\n",
        "unzip temp.zip -d data\r\n",
        "\r\n",
        "# remove unnecessary directories and files\r\n",
        "rm temp.zip\r\n",
        "rm -r data/__MACOSX\r\n",
        "rm -r sample_data/"
      ],
      "execution_count": 33,
      "outputs": []
    },
    {
      "cell_type": "code",
      "metadata": {
        "id": "uuY5uonIhRpw",
        "colab": {
          "base_uri": "https://localhost:8080/"
        },
        "outputId": "c845e970-d186-41fb-8f26-dd7cc08b78d7"
      },
      "source": [
        "rcb = Baseline(path='data/RCB/train.jsonl',\r\n",
        "               path_valid='data/RCB/val.jsonl')\r\n",
        "rcb.all_methods()"
      ],
      "execution_count": 34,
      "outputs": [
        {
          "output_type": "stream",
          "text": [
            "\n",
            "Making Prediction based on Majority Class\n",
            "               precision    recall  f1-score   support\n",
            "\n",
            "contradiction       0.00      0.00      0.00        30\n",
            "   entailment       0.00      0.00      0.00        74\n",
            "      neutral       0.53      1.00      0.69       116\n",
            "\n",
            "     accuracy                           0.53       220\n",
            "    macro avg       0.18      0.33      0.23       220\n",
            " weighted avg       0.28      0.53      0.36       220\n",
            "\n",
            "\n",
            "Making Prediction based on Random Choice\n",
            "               precision    recall  f1-score   support\n",
            "\n",
            "contradiction       0.12      0.30      0.17        30\n",
            "   entailment       0.35      0.32      0.34        74\n",
            "      neutral       0.58      0.39      0.47       116\n",
            "\n",
            "     accuracy                           0.35       220\n",
            "    macro avg       0.35      0.34      0.33       220\n",
            " weighted avg       0.44      0.35      0.38       220\n",
            "\n",
            "\n",
            "Making Prediction based on Random Choice Considered Classes Distribution\n",
            "               precision    recall  f1-score   support\n",
            "\n",
            "contradiction       0.14      0.17      0.15        30\n",
            "   entailment       0.30      0.31      0.30        74\n",
            "      neutral       0.47      0.43      0.45       116\n",
            "\n",
            "     accuracy                           0.35       220\n",
            "    macro avg       0.30      0.30      0.30       220\n",
            " weighted avg       0.37      0.35      0.36       220\n",
            "\n"
          ],
          "name": "stdout"
        },
        {
          "output_type": "stream",
          "text": [
            "/usr/local/lib/python3.6/dist-packages/sklearn/metrics/_classification.py:1272: UndefinedMetricWarning: Precision and F-score are ill-defined and being set to 0.0 in labels with no predicted samples. Use `zero_division` parameter to control this behavior.\n",
            "  _warn_prf(average, modifier, msg_start, len(result))\n"
          ],
          "name": "stderr"
        }
      ]
    },
    {
      "cell_type": "markdown",
      "metadata": {
        "id": "ZKPswiVygsd2"
      },
      "source": [
        "# PARus"
      ]
    },
    {
      "cell_type": "code",
      "metadata": {
        "id": "GmADdzyagPnS"
      },
      "source": [
        "%%capture\r\n",
        "%%bash\r\n",
        "# change url if you want to work with a different RSG dataset\r\n",
        "wget -q --show-progress \"https://russiansuperglue.com/tasks/download/PARus\" -O temp.zip\r\n",
        "unzip temp.zip -d data\r\n",
        "\r\n",
        "# remove unnecessary directories and files\r\n",
        "rm temp.zip\r\n",
        "rm -r data/__MACOSX\r\n",
        "rm -r sample_data/"
      ],
      "execution_count": 35,
      "outputs": []
    },
    {
      "cell_type": "code",
      "metadata": {
        "colab": {
          "base_uri": "https://localhost:8080/"
        },
        "id": "XlSkJxHegzxR",
        "outputId": "673627b3-a054-441b-813b-ead5b9b2a45b"
      },
      "source": [
        "parus = Baseline(path='data/PARus/train.jsonl',\r\n",
        "               path_valid='data/PARus/val.jsonl')\r\n",
        "parus.all_methods()"
      ],
      "execution_count": 36,
      "outputs": [
        {
          "output_type": "stream",
          "text": [
            "\n",
            "Making Prediction based on Majority Class\n",
            "              precision    recall  f1-score   support\n",
            "\n",
            "           0       0.00      0.00      0.00        55\n",
            "           1       0.45      1.00      0.62        45\n",
            "\n",
            "    accuracy                           0.45       100\n",
            "   macro avg       0.23      0.50      0.31       100\n",
            "weighted avg       0.20      0.45      0.28       100\n",
            "\n",
            "\n",
            "Making Prediction based on Random Choice\n",
            "              precision    recall  f1-score   support\n",
            "\n",
            "           0       0.50      0.40      0.44        55\n",
            "           1       0.41      0.51      0.46        45\n",
            "\n",
            "    accuracy                           0.45       100\n",
            "   macro avg       0.46      0.46      0.45       100\n",
            "weighted avg       0.46      0.45      0.45       100\n",
            "\n",
            "\n",
            "Making Prediction based on Random Choice Considered Classes Distribution\n",
            "              precision    recall  f1-score   support\n",
            "\n",
            "           0       0.51      0.44      0.47        55\n",
            "           1       0.42      0.49      0.45        45\n",
            "\n",
            "    accuracy                           0.46       100\n",
            "   macro avg       0.46      0.46      0.46       100\n",
            "weighted avg       0.47      0.46      0.46       100\n",
            "\n"
          ],
          "name": "stdout"
        },
        {
          "output_type": "stream",
          "text": [
            "/usr/local/lib/python3.6/dist-packages/sklearn/metrics/_classification.py:1272: UndefinedMetricWarning: Precision and F-score are ill-defined and being set to 0.0 in labels with no predicted samples. Use `zero_division` parameter to control this behavior.\n",
            "  _warn_prf(average, modifier, msg_start, len(result))\n"
          ],
          "name": "stderr"
        }
      ]
    },
    {
      "cell_type": "markdown",
      "metadata": {
        "id": "blR1K9jMhXE-"
      },
      "source": [
        "#TERRa"
      ]
    },
    {
      "cell_type": "code",
      "metadata": {
        "id": "i6kdosACg4Ts"
      },
      "source": [
        "%%capture\r\n",
        "%%bash\r\n",
        "# change url if you want to work with a different RSG dataset\r\n",
        "wget -q --show-progress \"https://russiansuperglue.com/tasks/download/TERRa\" -O temp.zip\r\n",
        "unzip temp.zip -d data\r\n",
        "\r\n",
        "# remove unnecessary directories and files\r\n",
        "rm temp.zip\r\n",
        "rm -r data/__MACOSX\r\n",
        "rm -r sample_data/"
      ],
      "execution_count": 37,
      "outputs": []
    },
    {
      "cell_type": "code",
      "metadata": {
        "colab": {
          "base_uri": "https://localhost:8080/"
        },
        "id": "28ijrayzhhYy",
        "outputId": "07fe28c0-2824-4a73-b76f-d2fba21f4125"
      },
      "source": [
        "terra = Baseline(path='data/TERRa/train.jsonl',\r\n",
        "               path_valid='data/TERRa/val.jsonl')\r\n",
        "terra.all_methods()"
      ],
      "execution_count": 38,
      "outputs": [
        {
          "output_type": "stream",
          "text": [
            "\n",
            "Making Prediction based on Majority Class\n",
            "                precision    recall  f1-score   support\n",
            "\n",
            "    entailment       0.50      1.00      0.67       153\n",
            "not_entailment       0.00      0.00      0.00       154\n",
            "\n",
            "      accuracy                           0.50       307\n",
            "     macro avg       0.25      0.50      0.33       307\n",
            "  weighted avg       0.25      0.50      0.33       307\n",
            "\n",
            "\n",
            "Making Prediction based on Random Choice\n",
            "                precision    recall  f1-score   support\n",
            "\n",
            "    entailment       0.52      0.52      0.52       153\n",
            "not_entailment       0.52      0.51      0.52       154\n",
            "\n",
            "      accuracy                           0.52       307\n",
            "     macro avg       0.52      0.52      0.52       307\n",
            "  weighted avg       0.52      0.52      0.52       307\n",
            "\n",
            "\n",
            "Making Prediction based on Random Choice Considered Classes Distribution\n",
            "                precision    recall  f1-score   support\n",
            "\n",
            "    entailment       0.47      0.48      0.47       153\n",
            "not_entailment       0.47      0.46      0.47       154\n",
            "\n",
            "      accuracy                           0.47       307\n",
            "     macro avg       0.47      0.47      0.47       307\n",
            "  weighted avg       0.47      0.47      0.47       307\n",
            "\n"
          ],
          "name": "stdout"
        },
        {
          "output_type": "stream",
          "text": [
            "/usr/local/lib/python3.6/dist-packages/sklearn/metrics/_classification.py:1272: UndefinedMetricWarning: Precision and F-score are ill-defined and being set to 0.0 in labels with no predicted samples. Use `zero_division` parameter to control this behavior.\n",
            "  _warn_prf(average, modifier, msg_start, len(result))\n"
          ],
          "name": "stderr"
        }
      ]
    },
    {
      "cell_type": "markdown",
      "metadata": {
        "id": "Q86ieCFyl8OG"
      },
      "source": [
        "# RUSSE"
      ]
    },
    {
      "cell_type": "code",
      "metadata": {
        "id": "IkOWAo0ChvmJ"
      },
      "source": [
        "%%capture\r\n",
        "%%bash\r\n",
        "# change url if you want to work with a different RSG dataset\r\n",
        "wget -q --show-progress \"https://russiansuperglue.com/tasks/download/RUSSE\" -O temp.zip\r\n",
        "unzip temp.zip -d data\r\n",
        "\r\n",
        "# remove unnecessary directories and files\r\n",
        "rm temp.zip\r\n",
        "rm -r data/__MACOSX\r\n",
        "rm -r sample_data/"
      ],
      "execution_count": 39,
      "outputs": []
    },
    {
      "cell_type": "code",
      "metadata": {
        "colab": {
          "base_uri": "https://localhost:8080/"
        },
        "id": "IV_BkMz0mEH5",
        "outputId": "31db8463-ef30-4191-e614-f002c48db1e1"
      },
      "source": [
        "russe = Baseline(path='data/RUSSE/train.jsonl',\r\n",
        "               path_valid='data/RUSSE/val.jsonl')\r\n",
        "russe.all_methods()"
      ],
      "execution_count": 40,
      "outputs": [
        {
          "output_type": "stream",
          "text": [
            "\n",
            "Making Prediction based on Majority Class\n",
            "              precision    recall  f1-score   support\n",
            "\n",
            "       False       0.63      1.00      0.77      5366\n",
            "        True       0.00      0.00      0.00      3139\n",
            "\n",
            "    accuracy                           0.63      8505\n",
            "   macro avg       0.32      0.50      0.39      8505\n",
            "weighted avg       0.40      0.63      0.49      8505\n",
            "\n",
            "\n",
            "Making Prediction based on Random Choice\n",
            "              precision    recall  f1-score   support\n",
            "\n",
            "       False       0.63      0.50      0.56      5366\n",
            "        True       0.37      0.50      0.42      3139\n",
            "\n",
            "    accuracy                           0.50      8505\n",
            "   macro avg       0.50      0.50      0.49      8505\n",
            "weighted avg       0.53      0.50      0.51      8505\n",
            "\n",
            "\n",
            "Making Prediction based on Random Choice Considered Classes Distribution\n",
            "              precision    recall  f1-score   support\n",
            "\n",
            "       False       0.63      0.64      0.63      5366\n",
            "        True       0.36      0.35      0.35      3139\n",
            "\n",
            "    accuracy                           0.53      8505\n",
            "   macro avg       0.49      0.49      0.49      8505\n",
            "weighted avg       0.53      0.53      0.53      8505\n",
            "\n"
          ],
          "name": "stdout"
        },
        {
          "output_type": "stream",
          "text": [
            "/usr/local/lib/python3.6/dist-packages/sklearn/metrics/_classification.py:1272: UndefinedMetricWarning: Precision and F-score are ill-defined and being set to 0.0 in labels with no predicted samples. Use `zero_division` parameter to control this behavior.\n",
            "  _warn_prf(average, modifier, msg_start, len(result))\n"
          ],
          "name": "stderr"
        }
      ]
    },
    {
      "cell_type": "markdown",
      "metadata": {
        "id": "QOm7jooUmUgA"
      },
      "source": [
        "# RWSD"
      ]
    },
    {
      "cell_type": "code",
      "metadata": {
        "id": "QZEvW6V0mJNs"
      },
      "source": [
        "%%capture\r\n",
        "%%bash\r\n",
        "# change url if you want to work with a different RSG dataset\r\n",
        "wget -q --show-progress \"https://russiansuperglue.com/tasks/download/RWSD\" -O temp.zip\r\n",
        "unzip temp.zip -d data\r\n",
        "\r\n",
        "# remove unnecessary directories and files\r\n",
        "rm temp.zip\r\n",
        "rm -r data/__MACOSX\r\n",
        "rm -r sample_data/"
      ],
      "execution_count": 41,
      "outputs": []
    },
    {
      "cell_type": "code",
      "metadata": {
        "colab": {
          "base_uri": "https://localhost:8080/"
        },
        "id": "4quyCGu_mZJ-",
        "outputId": "3c659774-bf5a-4f5a-a64c-923e4797814b"
      },
      "source": [
        "russe = Baseline(path='data/RWSD/train.jsonl',\r\n",
        "               path_valid='data/RWSD/val.jsonl')\r\n",
        "russe.all_methods()"
      ],
      "execution_count": 42,
      "outputs": [
        {
          "output_type": "stream",
          "text": [
            "\n",
            "Making Prediction based on Majority Class\n",
            "              precision    recall  f1-score   support\n",
            "\n",
            "       False       0.55      1.00      0.71       113\n",
            "        True       0.00      0.00      0.00        91\n",
            "\n",
            "    accuracy                           0.55       204\n",
            "   macro avg       0.28      0.50      0.36       204\n",
            "weighted avg       0.31      0.55      0.39       204\n",
            "\n",
            "\n",
            "Making Prediction based on Random Choice\n",
            "              precision    recall  f1-score   support\n",
            "\n",
            "       False       0.59      0.54      0.56       113\n",
            "        True       0.49      0.54      0.51        91\n",
            "\n",
            "    accuracy                           0.54       204\n",
            "   macro avg       0.54      0.54      0.54       204\n",
            "weighted avg       0.54      0.54      0.54       204\n",
            "\n",
            "\n",
            "Making Prediction based on Random Choice Considered Classes Distribution\n",
            "              precision    recall  f1-score   support\n",
            "\n",
            "       False       0.54      0.50      0.52       113\n",
            "        True       0.43      0.46      0.44        91\n",
            "\n",
            "    accuracy                           0.49       204\n",
            "   macro avg       0.48      0.48      0.48       204\n",
            "weighted avg       0.49      0.49      0.49       204\n",
            "\n"
          ],
          "name": "stdout"
        },
        {
          "output_type": "stream",
          "text": [
            "/usr/local/lib/python3.6/dist-packages/sklearn/metrics/_classification.py:1272: UndefinedMetricWarning: Precision and F-score are ill-defined and being set to 0.0 in labels with no predicted samples. Use `zero_division` parameter to control this behavior.\n",
            "  _warn_prf(average, modifier, msg_start, len(result))\n"
          ],
          "name": "stderr"
        }
      ]
    },
    {
      "cell_type": "markdown",
      "metadata": {
        "id": "9apAB6uQmn0Z"
      },
      "source": [
        "# DaNetQA"
      ]
    },
    {
      "cell_type": "code",
      "metadata": {
        "id": "rq79JBJomdL7"
      },
      "source": [
        "%%capture\r\n",
        "%%bash\r\n",
        "# change url if you want to work with a different RSG dataset\r\n",
        "wget -q --show-progress \"https://russiansuperglue.com/tasks/download/DaNetQA\" -O temp.zip\r\n",
        "unzip temp.zip -d data\r\n",
        "\r\n",
        "# remove unnecessary directories and files\r\n",
        "rm temp.zip\r\n",
        "rm -r data/__MACOSX\r\n",
        "rm -r sample_data/"
      ],
      "execution_count": 43,
      "outputs": []
    },
    {
      "cell_type": "code",
      "metadata": {
        "colab": {
          "base_uri": "https://localhost:8080/"
        },
        "id": "8btsn1ZQmu0A",
        "outputId": "63588d59-ff8c-47fe-8bd2-286ca56a6be8"
      },
      "source": [
        "danetqa = Baseline(path='data/DaNetQA/train.jsonl',\r\n",
        "               path_valid='data/DaNetQA/val.jsonl')\r\n",
        "danetqa.all_methods()"
      ],
      "execution_count": 44,
      "outputs": [
        {
          "output_type": "stream",
          "text": [
            "\n",
            "Making Prediction based on Majority Class\n",
            "              precision    recall  f1-score   support\n",
            "\n",
            "       False       0.00      0.00      0.00       409\n",
            "        True       0.50      1.00      0.67       412\n",
            "\n",
            "    accuracy                           0.50       821\n",
            "   macro avg       0.25      0.50      0.33       821\n",
            "weighted avg       0.25      0.50      0.34       821\n",
            "\n",
            "\n",
            "Making Prediction based on Random Choice\n",
            "              precision    recall  f1-score   support\n",
            "\n",
            "       False       0.50      0.48      0.49       409\n",
            "        True       0.50      0.51      0.51       412\n",
            "\n",
            "    accuracy                           0.50       821\n",
            "   macro avg       0.50      0.50      0.50       821\n",
            "weighted avg       0.50      0.50      0.50       821\n",
            "\n",
            "\n",
            "Making Prediction based on Random Choice Considered Classes Distribution\n",
            "              precision    recall  f1-score   support\n",
            "\n",
            "       False       0.50      0.40      0.44       409\n",
            "        True       0.50      0.60      0.55       412\n",
            "\n",
            "    accuracy                           0.50       821\n",
            "   macro avg       0.50      0.50      0.50       821\n",
            "weighted avg       0.50      0.50      0.50       821\n",
            "\n"
          ],
          "name": "stdout"
        },
        {
          "output_type": "stream",
          "text": [
            "/usr/local/lib/python3.6/dist-packages/sklearn/metrics/_classification.py:1272: UndefinedMetricWarning: Precision and F-score are ill-defined and being set to 0.0 in labels with no predicted samples. Use `zero_division` parameter to control this behavior.\n",
            "  _warn_prf(average, modifier, msg_start, len(result))\n"
          ],
          "name": "stderr"
        }
      ]
    },
    {
      "cell_type": "code",
      "metadata": {
        "id": "9t2j9Rz7wv0l"
      },
      "source": [
        ""
      ],
      "execution_count": null,
      "outputs": []
    }
  ]
}