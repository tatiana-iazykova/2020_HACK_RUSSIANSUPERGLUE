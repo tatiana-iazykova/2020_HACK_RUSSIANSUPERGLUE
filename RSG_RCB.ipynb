{
  "nbformat": 4,
  "nbformat_minor": 0,
  "metadata": {
    "colab": {
      "name": "RSG_RCB.ipynb",
      "provenance": [],
      "collapsed_sections": [
        "0OUUSCWcudle",
        "A4ZdyanPupV_",
        "ZxDAiS8Ox8Py",
        "c3x_pgvwNhjE",
        "HEn2LQjZvBMv",
        "zC_KAI7zNSue",
        "B_Cnum9xNanL",
        "QzJMzqL9RavS"
      ],
      "include_colab_link": true
    },
    "kernelspec": {
      "name": "python3",
      "display_name": "Python 3"
    }
  },
  "cells": [
    {
      "cell_type": "markdown",
      "metadata": {
        "id": "view-in-github",
        "colab_type": "text"
      },
      "source": [
        "<a href=\"https://colab.research.google.com/github/tatiana-iazykova/2020_HACK_RUSSIANSUPERGLUE/blob/main/RSG_RCB.ipynb\" target=\"_parent\"><img src=\"https://colab.research.google.com/assets/colab-badge.svg\" alt=\"Open In Colab\"/></a>"
      ]
    },
    {
      "cell_type": "markdown",
      "metadata": {
        "id": "0OUUSCWcudle"
      },
      "source": [
        "#Загрузка английского датасета для сравнения"
      ]
    },
    {
      "cell_type": "code",
      "metadata": {
        "colab": {
          "base_uri": "https://localhost:8080/"
        },
        "id": "bjHb_yglPu4w",
        "outputId": "801c11d8-4c3a-49e4-c830-f3b9c0ebf9ad"
      },
      "source": [
        "%%bash\n",
        "# change url if you want to work with a different RSG dataset\n",
        "wget -q --show-progress \"https://dl.fbaipublicfiles.com/glue/superglue/data/v2/CB.zip\" -O temp.zip\n",
        "unzip temp.zip -d data\n",
        "\n",
        "# remove unnecessary directories and files\n",
        "rm temp.zip\n",
        "rm -r data/__MACOSX\n",
        "rm -r sample_data/\n"
      ],
      "execution_count": null,
      "outputs": [
        {
          "output_type": "stream",
          "text": [
            "Archive:  temp.zip\n",
            "   creating: data/CB/\n",
            "  inflating: data/CB/train.jsonl     \n",
            "  inflating: data/CB/test.jsonl      \n",
            "  inflating: data/CB/val.jsonl       \n"
          ],
          "name": "stdout"
        },
        {
          "output_type": "stream",
          "text": [
            "\n",
            "     0K .......... .......... .......... .......... .......... 67%  674K 0s\n",
            "    50K .......... .......... ...                             100%  347K=0.1srm: cannot remove 'data/__MACOSX': No such file or directory\n"
          ],
          "name": "stderr"
        }
      ]
    },
    {
      "cell_type": "markdown",
      "metadata": {
        "id": "A4ZdyanPupV_"
      },
      "source": [
        "# Загрузка русскоязычного датасета"
      ]
    },
    {
      "cell_type": "code",
      "metadata": {
        "id": "RsL57-5kTLgJ",
        "colab": {
          "base_uri": "https://localhost:8080/"
        },
        "outputId": "1da0d2db-b685-40fc-caff-d8d586847a66"
      },
      "source": [
        "%%bash\n",
        "# change url if you want to work with a different RSG dataset\n",
        "wget -q --show-progress \"https://russiansuperglue.com/tasks/download/RCB\" -O temp.zip\n",
        "unzip temp.zip -d data\n",
        "\n",
        "# remove unnecessary directories and files\n",
        "rm temp.zip\n",
        "rm -r data/__MACOSX\n",
        "rm -r sample_data/"
      ],
      "execution_count": null,
      "outputs": [
        {
          "output_type": "stream",
          "text": [
            "Archive:  temp.zip\n",
            "   creating: data/RCB/\n",
            "  inflating: data/RCB/train.jsonl    \n",
            "   creating: data/__MACOSX/\n",
            "   creating: data/__MACOSX/RCB/\n",
            "  inflating: data/__MACOSX/RCB/._train.jsonl  \n",
            "  inflating: data/RCB/.DS_Store      \n",
            "  inflating: data/__MACOSX/RCB/._.DS_Store  \n",
            "  inflating: data/RCB/test.jsonl     \n",
            "  inflating: data/__MACOSX/RCB/._test.jsonl  \n",
            "  inflating: data/RCB/val.jsonl      \n",
            "  inflating: data/__MACOSX/RCB/._val.jsonl  \n",
            "  inflating: data/__MACOSX/._RCB     \n"
          ],
          "name": "stdout"
        },
        {
          "output_type": "stream",
          "text": [
            "\n",
            "     0K .......... .......... .......... .......... .......... 37%  368K 0s\n",
            "    50K .......... .......... .......... .......... .......... 74%  372K 0s\n",
            "   100K .......... .......... .......... ...                  100%  131M=0.3srm: cannot remove 'sample_data/': No such file or directory\n"
          ],
          "name": "stderr"
        }
      ]
    },
    {
      "cell_type": "markdown",
      "metadata": {
        "id": "uD4auz_Nt9qR"
      },
      "source": [
        "Fancy way to display content of the dataset directory"
      ]
    },
    {
      "cell_type": "code",
      "metadata": {
        "id": "Wh_Pi5TXfVBI",
        "colab": {
          "base_uri": "https://localhost:8080/"
        },
        "outputId": "d3f30fb7-a2af-4d3f-eabb-430eaccc8c89"
      },
      "source": [
        "%%bash\n",
        "# add tree package for fancy directory display\n",
        "apt-get install tree"
      ],
      "execution_count": null,
      "outputs": [
        {
          "output_type": "stream",
          "text": [
            "Reading package lists...\n",
            "Building dependency tree...\n",
            "Reading state information...\n",
            "The following NEW packages will be installed:\n",
            "  tree\n",
            "0 upgraded, 1 newly installed, 0 to remove and 14 not upgraded.\n",
            "Need to get 40.7 kB of archives.\n",
            "After this operation, 105 kB of additional disk space will be used.\n",
            "Get:1 http://archive.ubuntu.com/ubuntu bionic/universe amd64 tree amd64 1.7.0-5 [40.7 kB]\n",
            "Fetched 40.7 kB in 0s (114 kB/s)\n",
            "Selecting previously unselected package tree.\r\n",
            "(Reading database ... \r(Reading database ... 5%\r(Reading database ... 10%\r(Reading database ... 15%\r(Reading database ... 20%\r(Reading database ... 25%\r(Reading database ... 30%\r(Reading database ... 35%\r(Reading database ... 40%\r(Reading database ... 45%\r(Reading database ... 50%\r(Reading database ... 55%\r(Reading database ... 60%\r(Reading database ... 65%\r(Reading database ... 70%\r(Reading database ... 75%\r(Reading database ... 80%\r(Reading database ... 85%\r(Reading database ... 90%\r(Reading database ... 95%\r(Reading database ... 100%\r(Reading database ... 144865 files and directories currently installed.)\r\n",
            "Preparing to unpack .../tree_1.7.0-5_amd64.deb ...\r\n",
            "Unpacking tree (1.7.0-5) ...\r\n",
            "Setting up tree (1.7.0-5) ...\r\n",
            "Processing triggers for man-db (2.8.3-2ubuntu0.1) ...\r\n"
          ],
          "name": "stdout"
        }
      ]
    },
    {
      "cell_type": "code",
      "metadata": {
        "colab": {
          "base_uri": "https://localhost:8080/"
        },
        "id": "87zEZXR_xzmF",
        "outputId": "e6834b2d-feed-4019-b5ff-89bc17a1a0e7"
      },
      "source": [
        "# display the content of the folder\n",
        "!tree"
      ],
      "execution_count": null,
      "outputs": [
        {
          "output_type": "stream",
          "text": [
            ".\n",
            "└── data\n",
            "    ├── CB\n",
            "    │   ├── test.jsonl\n",
            "    │   ├── train.jsonl\n",
            "    │   └── val.jsonl\n",
            "    └── RCB\n",
            "        ├── test.jsonl\n",
            "        ├── train.jsonl\n",
            "        └── val.jsonl\n",
            "\n",
            "3 directories, 6 files\n"
          ],
          "name": "stdout"
        }
      ]
    },
    {
      "cell_type": "markdown",
      "metadata": {
        "id": "ZxDAiS8Ox8Py"
      },
      "source": [
        "# Загрузка в pandas"
      ]
    },
    {
      "cell_type": "code",
      "metadata": {
        "id": "C0cqhlXaXbwj"
      },
      "source": [
        "import pandas as pd\n",
        "pd.set_option('display.max_colwidth', 1000)\n",
        "\n",
        "class JSONL_handler():\n",
        "    \"\"\" opens a jsonl file and turns it into a necessary data structure \"\"\"\n",
        "    \n",
        "    def __init__(self, path):\n",
        "        self.path = path # path to jsonl file\n",
        "\n",
        "    def to_pandas(self):\n",
        "        \"\"\" get jsonl file content as a pandas DataFrame\"\"\"\n",
        "        return pd.read_json(path_or_buf=self.path, lines=True)"
      ],
      "execution_count": null,
      "outputs": []
    },
    {
      "cell_type": "code",
      "metadata": {
        "id": "_NRSjltfYcjT"
      },
      "source": [
        "handler = JSONL_handler('data/RCB/train.jsonl')\n",
        "df = handler.to_pandas()"
      ],
      "execution_count": null,
      "outputs": []
    },
    {
      "cell_type": "markdown",
      "metadata": {
        "id": "sQU6l2URwmqZ"
      },
      "source": [
        "[Pandas cheat sheet](https://github.com/pandas-dev/pandas/blob/master/doc/cheatsheet/Pandas_Cheat_Sheet.pdf?platform=hootsuite) for reference\n"
      ]
    },
    {
      "cell_type": "code",
      "metadata": {
        "id": "yWGRRno7P5QS"
      },
      "source": [
        "handler_en = JSONL_handler('data/CB/train.jsonl')\n",
        "df_en = handler_en.to_pandas()"
      ],
      "execution_count": null,
      "outputs": []
    },
    {
      "cell_type": "markdown",
      "metadata": {
        "id": "c3x_pgvwNhjE"
      },
      "source": [
        "# Общая информация про train"
      ]
    },
    {
      "cell_type": "code",
      "metadata": {
        "id": "Q43c4vJZsN6v",
        "colab": {
          "base_uri": "https://localhost:8080/",
          "height": 265
        },
        "outputId": "465516ae-ddac-4965-f991-824a9724dc6d"
      },
      "source": [
        "import matplotlib.pyplot as plt\n",
        "plt.title('Label distribution', fontsize=14)\n",
        "plt.pie(df['label'].value_counts(), autopct=\"%.1f%%\", explode=[0.05]*3, labels=df['label'].value_counts().keys(), pctdistance=0.5, textprops = dict(fontsize = 12))\n",
        "plt.show()"
      ],
      "execution_count": null,
      "outputs": [
        {
          "output_type": "display_data",
          "data": {
            "image/png": "[encoded data removed]",
            "text/plain": [
              "<Figure size 432x288 with 1 Axes>"
            ]
          },
          "metadata": {
            "tags": []
          }
        }
      ]
    },
    {
      "cell_type": "code",
      "metadata": {
        "colab": {
          "base_uri": "https://localhost:8080/"
        },
        "id": "vACfnT5Jpgbl",
        "outputId": "bc1c4096-dfc5-4bd5-cb24-3410e388b9ed"
      },
      "source": [
        "df['label'].value_counts()"
      ],
      "execution_count": null,
      "outputs": [
        {
          "output_type": "execute_result",
          "data": {
            "text/plain": [
              "neutral          203\n",
              "entailment       155\n",
              "contradiction     80\n",
              "Name: label, dtype: int64"
            ]
          },
          "metadata": {
            "tags": []
          },
          "execution_count": 9
        }
      ]
    },
    {
      "cell_type": "code",
      "metadata": {
        "colab": {
          "base_uri": "https://localhost:8080/"
        },
        "id": "Bpko3iriQAff",
        "outputId": "24ddd5da-a786-4723-bdf7-1e29d09ecde9"
      },
      "source": [
        "df_en['label'].value_counts()"
      ],
      "execution_count": null,
      "outputs": [
        {
          "output_type": "execute_result",
          "data": {
            "text/plain": [
              "contradiction    119\n",
              "entailment       115\n",
              "neutral           16\n",
              "Name: label, dtype: int64"
            ]
          },
          "metadata": {
            "tags": []
          },
          "execution_count": 10
        }
      ]
    },
    {
      "cell_type": "markdown",
      "metadata": {
        "id": "FoUIPI09x_8l"
      },
      "source": [
        "По графикам ниже очень заметно, что распределения по классам очень разнятся. В английском датасете они сбалансированные, в то время как в RSG творится что-то странное"
      ]
    },
    {
      "cell_type": "code",
      "metadata": {
        "colab": {
          "base_uri": "https://localhost:8080/",
          "height": 602
        },
        "id": "MKuxdjKoUBVg",
        "outputId": "c8c6dd98-96b8-4752-8e05-a37b3c40daff"
      },
      "source": [
        "plt.figure(figsize=(10,6))\n",
        "plt.title('Relative label distribution', fontsize=14)\n",
        "plt.hist(x = [df['label'], df_en['label']], color=[\"#9ddadc\", \"#e99aee\"], label=['RSG','SG'], rwidth = 50) \n",
        "plt.legend(loc='best')\n",
        "plt.savefig('relative.png')\n",
        "plt.show()\n",
        "print()\n",
        "\n",
        "plt.subplot(1,2,1)\n",
        "colours = {'#9ddca6', '#f0afb6', '#eeb87c'}\n",
        "\n",
        "plt.title('Label distribution\\n in original SG\\n', fontsize=14)\n",
        "plt.pie(df_en['label'].value_counts(), autopct=\"%.1f%%\", explode=[0.05]*3, labels=df_en['label'].value_counts().keys(), pctdistance=0.5, textprops = dict(fontsize = 12), colors=colours)\n",
        "\n",
        "plt.subplot(1,2,2)\n",
        "\n",
        "plt.title('Label distribution\\n in RSG\\n', fontsize=14)\n",
        "plt.pie(df['label'].value_counts(), autopct=\"%.1f%%\", explode=[0.05]*3, labels=df['label'].value_counts().keys(), pctdistance=0.5, textprops = dict(fontsize = 12), colors=colours)\n",
        "\n",
        "plt.tight_layout()\n",
        "plt.show()"
      ],
      "execution_count": null,
      "outputs": [
        {
          "output_type": "display_data",
          "data": {
            "image/png": "[encoded data removed]",
            "text/plain": [
              "<Figure size 720x432 with 1 Axes>"
            ]
          },
          "metadata": {
            "tags": [],
            "needs_background": "light"
          }
        },
        {
          "output_type": "stream",
          "text": [
            "\n"
          ],
          "name": "stdout"
        },
        {
          "output_type": "display_data",
          "data": {
            "image/png": "[encoded data removed]",
            "text/plain": [
              "<Figure size 432x288 with 2 Axes>"
            ]
          },
          "metadata": {
            "tags": []
          }
        }
      ]
    },
    {
      "cell_type": "code",
      "metadata": {
        "id": "Wrqpq_Ol6gb2"
      },
      "source": [
        ""
      ],
      "execution_count": null,
      "outputs": []
    },
    {
      "cell_type": "code",
      "metadata": {
        "colab": {
          "base_uri": "https://localhost:8080/",
          "height": 290
        },
        "id": "U4cXPz50xbtp",
        "outputId": "04b18ab2-3898-4596-f3f5-cc1d288260c0"
      },
      "source": [
        "df.head(6)"
      ],
      "execution_count": null,
      "outputs": [
        {
          "output_type": "execute_result",
          "data": {
            "text/html": [
              "<div>\n",
              "<style scoped>\n",
              "    .dataframe tbody tr th:only-of-type {\n",
              "        vertical-align: middle;\n",
              "    }\n",
              "\n",
              "    .dataframe tbody tr th {\n",
              "        vertical-align: top;\n",
              "    }\n",
              "\n",
              "    .dataframe thead th {\n",
              "        text-align: right;\n",
              "    }\n",
              "</style>\n",
              "<table border=\"1\" class=\"dataframe\">\n",
              "  <thead>\n",
              "    <tr style=\"text-align: right;\">\n",
              "      <th></th>\n",
              "      <th>premise</th>\n",
              "      <th>label</th>\n",
              "      <th>hypothesis</th>\n",
              "      <th>verb</th>\n",
              "      <th>negation</th>\n",
              "      <th>genre</th>\n",
              "      <th>idx</th>\n",
              "      <th>no_negation</th>\n",
              "    </tr>\n",
              "  </thead>\n",
              "  <tbody>\n",
              "    <tr>\n",
              "      <th>0</th>\n",
              "      <td>Сумма ущерба составила одну тысячу рублей. Уточняется, что на место происшествия выехала следственная группа, которая установила личность злоумышленника. Им оказался местный житель, ранее судимый за подобное правонарушение.</td>\n",
              "      <td>entailment</td>\n",
              "      <td>Ранее местный житель совершал подобное правонарушение.</td>\n",
              "      <td>судить</td>\n",
              "      <td>no_negation</td>\n",
              "      <td>kp</td>\n",
              "      <td>0</td>\n",
              "      <td>NaN</td>\n",
              "    </tr>\n",
              "    <tr>\n",
              "      <th>1</th>\n",
              "      <td>Перебрасываясь словечками, они скользят глазами по моему городу. Как они смеют смотреть, будто что-то понимают?</td>\n",
              "      <td>contradiction</td>\n",
              "      <td>Они что-то понимают</td>\n",
              "      <td>смотреть</td>\n",
              "      <td>no_negation</td>\n",
              "      <td>fiction</td>\n",
              "      <td>1</td>\n",
              "      <td>NaN</td>\n",
              "    </tr>\n",
              "    <tr>\n",
              "      <th>2</th>\n",
              "      <td>— Разве что, — сказала она, — мы хотим где-нибудь выпить кофе. — Мне кажется, — сказал он, — что мы хотим. На следующей Он успел встать на эскалатор, когда понял, что это “Таганская”, а не “Тульская”.</td>\n",
              "      <td>neutral</td>\n",
              "      <td>Это “ Таганская ”, а не “ Тульская ”.</td>\n",
              "      <td>понять</td>\n",
              "      <td>no_negation</td>\n",
              "      <td>fiction</td>\n",
              "      <td>2</td>\n",
              "      <td>NaN</td>\n",
              "    </tr>\n",
              "    <tr>\n",
              "      <th>3</th>\n",
              "      <td>Зима, наконец, показала свой характер.</td>\n",
              "      <td>contradiction</td>\n",
              "      <td>У зимы есть свой характер.</td>\n",
              "      <td>показать</td>\n",
              "      <td>no_negation</td>\n",
              "      <td>kp</td>\n",
              "      <td>3</td>\n",
              "      <td>NaN</td>\n",
              "    </tr>\n",
              "    <tr>\n",
              "      <th>4</th>\n",
              "      <td>ГуманностьБогаподобнымсценариемнепредполагается. Но Его благость остается в неприкосновенности. Непросто жить в таком мире, но кто сказал, что это должно быть просто?</td>\n",
              "      <td>contradiction</td>\n",
              "      <td>Это должно быть просто.</td>\n",
              "      <td>сказать</td>\n",
              "      <td>no_negation</td>\n",
              "      <td>fiction</td>\n",
              "      <td>4</td>\n",
              "      <td>NaN</td>\n",
              "    </tr>\n",
              "    <tr>\n",
              "      <th>5</th>\n",
              "      <td>Для мамы праздник был как обычный день. Она кормила людей. Весеннее небо обещало счастье, но мать не верила ему.</td>\n",
              "      <td>neutral</td>\n",
              "      <td>Небо обещает счастье.</td>\n",
              "      <td>верить</td>\n",
              "      <td>negation</td>\n",
              "      <td>fiction</td>\n",
              "      <td>5</td>\n",
              "      <td>NaN</td>\n",
              "    </tr>\n",
              "  </tbody>\n",
              "</table>\n",
              "</div>"
            ],
            "text/plain": [
              "                                                                                                                                                                                                                           premise  ... no_negation\n",
              "0  Сумма ущерба составила одну тысячу рублей. Уточняется, что на место происшествия выехала следственная группа, которая установила личность злоумышленника. Им оказался местный житель, ранее судимый за подобное правонарушение.  ...         NaN\n",
              "1                                                                                                                  Перебрасываясь словечками, они скользят глазами по моему городу. Как они смеют смотреть, будто что-то понимают?  ...         NaN\n",
              "2                         — Разве что, — сказала она, — мы хотим где-нибудь выпить кофе. — Мне кажется, — сказал он, — что мы хотим. На следующей Он успел встать на эскалатор, когда понял, что это “Таганская”, а не “Тульская”.  ...         NaN\n",
              "3                                                                                                                                                                                           Зима, наконец, показала свой характер.  ...         NaN\n",
              "4                                                           ГуманностьБогаподобнымсценариемнепредполагается. Но Его благость остается в неприкосновенности. Непросто жить в таком мире, но кто сказал, что это должно быть просто?  ...         NaN\n",
              "5                                                                                                                 Для мамы праздник был как обычный день. Она кормила людей. Весеннее небо обещало счастье, но мать не верила ему.  ...         NaN\n",
              "\n",
              "[6 rows x 8 columns]"
            ]
          },
          "metadata": {
            "tags": []
          },
          "execution_count": 12
        }
      ]
    },
    {
      "cell_type": "markdown",
      "metadata": {
        "id": "HEn2LQjZvBMv"
      },
      "source": [
        "# Entailment"
      ]
    },
    {
      "cell_type": "markdown",
      "metadata": {
        "id": "KZO_qWWjvbQg"
      },
      "source": [
        "Очень часто есть полное повторение слов из premise. Мне кажется, что если написать такую эвристику, что у мы ищем полное совпадение всех слов из hypothesis за исключением отсуствия/наличия \"не\" и прочих слов-индикаторов, то может что-то и получится"
      ]
    },
    {
      "cell_type": "code",
      "metadata": {
        "colab": {
          "base_uri": "https://localhost:8080/"
        },
        "id": "d9-9QJ0-v8y2",
        "outputId": "13e53ad9-fdb2-4d64-c048-5fe089da0895"
      },
      "source": [
        "#примеры полного совпадения (здесь не все)\n",
        "df.iloc[[12, 16, 20, 25, 29, 37, 46, 52, 59, 116]]"
      ],
      "execution_count": null,
      "outputs": [
        {
          "output_type": "execute_result",
          "data": {
            "text/html": [
              "<div>\n",
              "<style scoped>\n",
              "    .dataframe tbody tr th:only-of-type {\n",
              "        vertical-align: middle;\n",
              "    }\n",
              "\n",
              "    .dataframe tbody tr th {\n",
              "        vertical-align: top;\n",
              "    }\n",
              "\n",
              "    .dataframe thead th {\n",
              "        text-align: right;\n",
              "    }\n",
              "</style>\n",
              "<table border=\"1\" class=\"dataframe\">\n",
              "  <thead>\n",
              "    <tr style=\"text-align: right;\">\n",
              "      <th></th>\n",
              "      <th>premise</th>\n",
              "      <th>label</th>\n",
              "      <th>hypothesis</th>\n",
              "      <th>verb</th>\n",
              "      <th>negation</th>\n",
              "      <th>genre</th>\n",
              "      <th>idx</th>\n",
              "      <th>no_negation</th>\n",
              "    </tr>\n",
              "  </thead>\n",
              "  <tbody>\n",
              "    <tr>\n",
              "      <th>12</th>\n",
              "      <td>Из материалов дела следует, что начальник одного из отделов пытался выбить субсидию заинтересованной организации за «откат».</td>\n",
              "      <td>entailment</td>\n",
              "      <td>Начальник одного из отделов пытался выбить субсидию заинтересованной организации за «откат».</td>\n",
              "      <td>следовать</td>\n",
              "      <td>no_negation</td>\n",
              "      <td>kp</td>\n",
              "      <td>12</td>\n",
              "      <td>NaN</td>\n",
              "    </tr>\n",
              "    <tr>\n",
              "      <th>16</th>\n",
              "      <td>Мужчину задержали. В беседе с полицейскими он сознался, что купил наркотик у своего знакомого. Полицейские с поличным задержали подозреваемого.</td>\n",
              "      <td>entailment</td>\n",
              "      <td>Мужчина купил наркотик у своего знакомого.</td>\n",
              "      <td>сознаться</td>\n",
              "      <td>no_negation</td>\n",
              "      <td>kp</td>\n",
              "      <td>16</td>\n",
              "      <td>NaN</td>\n",
              "    </tr>\n",
              "    <tr>\n",
              "      <th>20</th>\n",
              "      <td>Он отметил, что министерству культуры и руководителям учебных заведений будут направлены официальные приглашения на \"круглый стол\", который будет проведен на следующей неделе.</td>\n",
              "      <td>entailment</td>\n",
              "      <td>Министерству культуры и руководителям учебных заведений направили официальные приглашения на \"круглый стол\".</td>\n",
              "      <td>отметить</td>\n",
              "      <td>no_negation</td>\n",
              "      <td>interfax</td>\n",
              "      <td>20</td>\n",
              "      <td>NaN</td>\n",
              "    </tr>\n",
              "    <tr>\n",
              "      <th>25</th>\n",
              "      <td>\"Задержанные доставлены в отдел полиции, где решается вопрос о привлечении их к административной ответственности\", - сказал собеседник агентства.</td>\n",
              "      <td>entailment</td>\n",
              "      <td>Задержанные доставлены в отдел полиции, где решается вопрос о привлечении их к административной ответственности.</td>\n",
              "      <td>сказать</td>\n",
              "      <td>no_negation</td>\n",
              "      <td>interfax</td>\n",
              "      <td>25</td>\n",
              "      <td>NaN</td>\n",
              "    </tr>\n",
              "    <tr>\n",
              "      <th>29</th>\n",
              "      <td>Нужно было понять героев сказки. Кто такие эти игрушки и зверушки, где коренится их сказочное обаяние, почему они вызывают у людей — в частности, у меня — ту любовь с первого взгляда, о которой я упоминал выше? И мне кажется, я кое-что понял.</td>\n",
              "      <td>entailment</td>\n",
              "      <td>Я кое-что понял.</td>\n",
              "      <td>казаться</td>\n",
              "      <td>no_negation</td>\n",
              "      <td>fiction</td>\n",
              "      <td>29</td>\n",
              "      <td>NaN</td>\n",
              "    </tr>\n",
              "    <tr>\n",
              "      <th>37</th>\n",
              "      <td>Решение было принято комиссией по обеспечению безопасности дорожного движения при управе Центрального административного округа. Отмечается, что на данном участке дороги часто происходят аварии. Принятая мера должна повысить безопасность.</td>\n",
              "      <td>entailment</td>\n",
              "      <td>На данном участке дороги часто происходят аварии.</td>\n",
              "      <td>отметить</td>\n",
              "      <td>no_negation</td>\n",
              "      <td>kp</td>\n",
              "      <td>37</td>\n",
              "      <td>NaN</td>\n",
              "    </tr>\n",
              "    <tr>\n",
              "      <th>46</th>\n",
              "      <td>Писатель с удивлением посмотрел на Пиара: – Я не знаю, почему вы так считаете, – сказал Писатель, чеканя каждое слово. – Хотя у вас свои основания для этого, мне, впрочем, совсем неизвестные. Но я считаю, что вы не правы и заблуждаетесь наравне со всеми.</td>\n",
              "      <td>entailment</td>\n",
              "      <td>Вы не правы и заблуждаетесь наравне со всеми.</td>\n",
              "      <td>считать</td>\n",
              "      <td>no_negation</td>\n",
              "      <td>fiction</td>\n",
              "      <td>46</td>\n",
              "      <td>NaN</td>\n",
              "    </tr>\n",
              "    <tr>\n",
              "      <th>52</th>\n",
              "      <td>Он, герой, то и дело чешет шлем, как витязь на распутье. Либо убить пресловутую старушку, либо так и загнуться тварью дрожащей от недостатка средств. Автор и герой наперебой убеждают нас с вами, что третьего (ну, четвертого, пятого) не дано.</td>\n",
              "      <td>entailment</td>\n",
              "      <td>Третьего ( ну, четвертого, пятого ) не дано.</td>\n",
              "      <td>убеждать</td>\n",
              "      <td>no_negation</td>\n",
              "      <td>fiction</td>\n",
              "      <td>52</td>\n",
              "      <td>NaN</td>\n",
              "    </tr>\n",
              "    <tr>\n",
              "      <th>59</th>\n",
              "      <td>\"В последнее время растет количество новых видов синтетических наркотиков как на нелегальном рынке сбыта наркотиков, так и на в сфере реализации лекарственных средств без рецепта\", - сказано в докладе.</td>\n",
              "      <td>entailment</td>\n",
              "      <td>В последнее время растет количество новых видов синтетических наркотиков как на нелегальном рынке сбыта наркотиков, так и на в сфере реализации лекарственных средств без рецепта.</td>\n",
              "      <td>сказать</td>\n",
              "      <td>no_negation</td>\n",
              "      <td>interfax</td>\n",
              "      <td>59</td>\n",
              "      <td>NaN</td>\n",
              "    </tr>\n",
              "    <tr>\n",
              "      <th>116</th>\n",
              "      <td>На место происшествия выехали сотрудники полиции и выяснили, что злоумышленники проникали в машины, разбивая стекла или вскрывая багажники. Ну а после брали все ценное, что находили. Подозреваемых вскоре задержали.</td>\n",
              "      <td>entailment</td>\n",
              "      <td>Злоумышленники проникали в машины через багажники и разбитые окна.</td>\n",
              "      <td>выяснить</td>\n",
              "      <td>no_negation</td>\n",
              "      <td>kp</td>\n",
              "      <td>116</td>\n",
              "      <td>NaN</td>\n",
              "    </tr>\n",
              "  </tbody>\n",
              "</table>\n",
              "</div>"
            ],
            "text/plain": [
              "                                                                                                                                                                                                                                                            premise  ... no_negation\n",
              "12                                                                                                                                     Из материалов дела следует, что начальник одного из отделов пытался выбить субсидию заинтересованной организации за «откат».  ...         NaN\n",
              "16                                                                                                                  Мужчину задержали. В беседе с полицейскими он сознался, что купил наркотик у своего знакомого. Полицейские с поличным задержали подозреваемого.  ...         NaN\n",
              "20                                                                                  Он отметил, что министерству культуры и руководителям учебных заведений будут направлены официальные приглашения на \"круглый стол\", который будет проведен на следующей неделе.  ...         NaN\n",
              "25                                                                                                                \"Задержанные доставлены в отдел полиции, где решается вопрос о привлечении их к административной ответственности\", - сказал собеседник агентства.  ...         NaN\n",
              "29               Нужно было понять героев сказки. Кто такие эти игрушки и зверушки, где коренится их сказочное обаяние, почему они вызывают у людей — в частности, у меня — ту любовь с первого взгляда, о которой я упоминал выше? И мне кажется, я кое-что понял.  ...         NaN\n",
              "37                    Решение было принято комиссией по обеспечению безопасности дорожного движения при управе Центрального административного округа. Отмечается, что на данном участке дороги часто происходят аварии. Принятая мера должна повысить безопасность.  ...         NaN\n",
              "46   Писатель с удивлением посмотрел на Пиара: – Я не знаю, почему вы так считаете, – сказал Писатель, чеканя каждое слово. – Хотя у вас свои основания для этого, мне, впрочем, совсем неизвестные. Но я считаю, что вы не правы и заблуждаетесь наравне со всеми.  ...         NaN\n",
              "52                Он, герой, то и дело чешет шлем, как витязь на распутье. Либо убить пресловутую старушку, либо так и загнуться тварью дрожащей от недостатка средств. Автор и герой наперебой убеждают нас с вами, что третьего (ну, четвертого, пятого) не дано.  ...         NaN\n",
              "59                                                        \"В последнее время растет количество новых видов синтетических наркотиков как на нелегальном рынке сбыта наркотиков, так и на в сфере реализации лекарственных средств без рецепта\", - сказано в докладе.  ...         NaN\n",
              "116                                          На место происшествия выехали сотрудники полиции и выяснили, что злоумышленники проникали в машины, разбивая стекла или вскрывая багажники. Ну а после брали все ценное, что находили. Подозреваемых вскоре задержали.  ...         NaN\n",
              "\n",
              "[10 rows x 8 columns]"
            ]
          },
          "metadata": {
            "tags": []
          },
          "execution_count": 13
        }
      ]
    },
    {
      "cell_type": "code",
      "metadata": {
        "colab": {
          "base_uri": "https://localhost:8080/"
        },
        "id": "sD5Xw3QYvKi6",
        "outputId": "53f1f10f-739a-4915-ae1a-892e18d94230"
      },
      "source": [
        "df_entailment = df[(df['label']== 'entailment')]\n",
        "df_entailment.reset_index\n",
        "df_entailment.iloc[40:50]"
      ],
      "execution_count": null,
      "outputs": [
        {
          "output_type": "execute_result",
          "data": {
            "text/html": [
              "<div>\n",
              "<style scoped>\n",
              "    .dataframe tbody tr th:only-of-type {\n",
              "        vertical-align: middle;\n",
              "    }\n",
              "\n",
              "    .dataframe tbody tr th {\n",
              "        vertical-align: top;\n",
              "    }\n",
              "\n",
              "    .dataframe thead th {\n",
              "        text-align: right;\n",
              "    }\n",
              "</style>\n",
              "<table border=\"1\" class=\"dataframe\">\n",
              "  <thead>\n",
              "    <tr style=\"text-align: right;\">\n",
              "      <th></th>\n",
              "      <th>premise</th>\n",
              "      <th>label</th>\n",
              "      <th>hypothesis</th>\n",
              "      <th>verb</th>\n",
              "      <th>negation</th>\n",
              "      <th>genre</th>\n",
              "      <th>idx</th>\n",
              "      <th>no_negation</th>\n",
              "    </tr>\n",
              "  </thead>\n",
              "  <tbody>\n",
              "    <tr>\n",
              "      <th>119</th>\n",
              "      <td>Только я вот что скажу — всяких там окрестных оборванцев я кормить не собираюсь.</td>\n",
              "      <td>entailment</td>\n",
              "      <td>Всяких там окрестных оборванцев я кормить не собираюсь.</td>\n",
              "      <td>сказать</td>\n",
              "      <td>no_negation</td>\n",
              "      <td>fiction</td>\n",
              "      <td>119</td>\n",
              "      <td>NaN</td>\n",
              "    </tr>\n",
              "    <tr>\n",
              "      <th>125</th>\n",
              "      <td>\"Я попросил их продолжать работу и не снижать темпов, крайне противно было\", — посетовал глава президентской администрации. \"Ну, терпел. Я не подавал виду, потому что я понимал, что если я начну подавать вид, это приведет к настороженности и попытке замести следы\", — добавил он.</td>\n",
              "      <td>entailment</td>\n",
              "      <td>Если я начну подавать вид, это приведет к настороженности и попытке замести следы.</td>\n",
              "      <td>понимать</td>\n",
              "      <td>no_negation</td>\n",
              "      <td>interfax</td>\n",
              "      <td>125</td>\n",
              "      <td>NaN</td>\n",
              "    </tr>\n",
              "    <tr>\n",
              "      <th>128</th>\n",
              "      <td>Молите Бога, мой друг, чтобы он помог мне вынести мое изгнание, которое здесь день ото дня кажется мне все более невыносимым. Эти два года кажутся мне веками. Я чувствую, что не смогу долго прожить так, как живу теперь.</td>\n",
              "      <td>entailment</td>\n",
              "      <td>Я не смогу долго прожить так, как живу теперь.</td>\n",
              "      <td>чувствовать</td>\n",
              "      <td>no_negation</td>\n",
              "      <td>fiction</td>\n",
              "      <td>128</td>\n",
              "      <td>NaN</td>\n",
              "    </tr>\n",
              "    <tr>\n",
              "      <th>129</th>\n",
              "      <td>Мужчину подозревают в убийстве двоих человек, с которыми он ремонтировал здание городского пенсионного фонда, что на улице Красноармейской.</td>\n",
              "      <td>entailment</td>\n",
              "      <td>Мужчина убил двоих человек, с которыми он ремонтировал здание городского пенсионного фонда, что на улице Красноармейской.</td>\n",
              "      <td>подозревать</td>\n",
              "      <td>no_negation</td>\n",
              "      <td>kp</td>\n",
              "      <td>129</td>\n",
              "      <td>NaN</td>\n",
              "    </tr>\n",
              "    <tr>\n",
              "      <th>135</th>\n",
              "      <td>\"Недопустимо, когда у нас деньги есть, а с договорами творится такой бардак. В следующем году этому место быть не должно\", - сказал он. \"Я сейчас не говорю о том, кто конкретно в чем виноват.</td>\n",
              "      <td>entailment</td>\n",
              "      <td>Кто-то конкретно в чем-то виноват.</td>\n",
              "      <td>говорить</td>\n",
              "      <td>negation</td>\n",
              "      <td>interfax</td>\n",
              "      <td>135</td>\n",
              "      <td>NaN</td>\n",
              "    </tr>\n",
              "    <tr>\n",
              "      <th>136</th>\n",
              "      <td>Я смеюсь. - Вступил! - вызывающе говорит он.</td>\n",
              "      <td>entailment</td>\n",
              "      <td>Он вступил.</td>\n",
              "      <td>говорить</td>\n",
              "      <td>no_negation</td>\n",
              "      <td>fiction</td>\n",
              "      <td>136</td>\n",
              "      <td>NaN</td>\n",
              "    </tr>\n",
              "    <tr>\n",
              "      <th>137</th>\n",
              "      <td>Ярославские следователи просят жителей области помочь найти мужчину, подозреваемого в причинении смерти по неосторожности.</td>\n",
              "      <td>entailment</td>\n",
              "      <td>Ярославские следователи не могут найти мужчину, подозреваемого в причинении смерти по неосторожности.</td>\n",
              "      <td>просить</td>\n",
              "      <td>no_negation</td>\n",
              "      <td>kp</td>\n",
              "      <td>137</td>\n",
              "      <td>NaN</td>\n",
              "    </tr>\n",
              "    <tr>\n",
              "      <th>140</th>\n",
              "      <td>Готовность станций в настоящее время достаточно высокая, - сказал он.</td>\n",
              "      <td>entailment</td>\n",
              "      <td>Готовность станций достаточно высокая.</td>\n",
              "      <td>сказать</td>\n",
              "      <td>no_negation</td>\n",
              "      <td>interfax</td>\n",
              "      <td>140</td>\n",
              "      <td>NaN</td>\n",
              "    </tr>\n",
              "    <tr>\n",
              "      <th>145</th>\n",
              "      <td>Когда он вернулся с прогулки, обратил внимание на то, что часть парковки возле гостиницы огорожена красной лентой, однако ни предупреждающих знаков, ни информационных табличек в зоне видимости не было. Припарковав автомобиль в метре от ограждения, мужчина отправился в свой номер. Около восьми часов утра турист услышал звук сработавшей сигнализации.</td>\n",
              "      <td>entailment</td>\n",
              "      <td>Сигнализация сработала.</td>\n",
              "      <td>услышать</td>\n",
              "      <td>no_negation</td>\n",
              "      <td>kp</td>\n",
              "      <td>145</td>\n",
              "      <td>NaN</td>\n",
              "    </tr>\n",
              "    <tr>\n",
              "      <th>146</th>\n",
              "      <td>Тягуче проскрипела дверь. Мы оглянулись, я увидел просунувшуюся голову кузнеца. Он сказал: — Готово!</td>\n",
              "      <td>entailment</td>\n",
              "      <td>— Готово!</td>\n",
              "      <td>сказать</td>\n",
              "      <td>no_negation</td>\n",
              "      <td>fiction</td>\n",
              "      <td>146</td>\n",
              "      <td>NaN</td>\n",
              "    </tr>\n",
              "  </tbody>\n",
              "</table>\n",
              "</div>"
            ],
            "text/plain": [
              "                                                                                                                                                                                                                                                                                                                                                            premise  ... no_negation\n",
              "119                                                                                                                                                                                                                                                                                Только я вот что скажу — всяких там окрестных оборванцев я кормить не собираюсь.  ...         NaN\n",
              "125                                                                         \"Я попросил их продолжать работу и не снижать темпов, крайне противно было\", — посетовал глава президентской администрации. \"Ну, терпел. Я не подавал виду, потому что я понимал, что если я начну подавать вид, это приведет к настороженности и попытке замести следы\", — добавил он.  ...         NaN\n",
              "128                                                                                                                                     Молите Бога, мой друг, чтобы он помог мне вынести мое изгнание, которое здесь день ото дня кажется мне все более невыносимым. Эти два года кажутся мне веками. Я чувствую, что не смогу долго прожить так, как живу теперь.  ...         NaN\n",
              "129                                                                                                                                                                                                                     Мужчину подозревают в убийстве двоих человек, с которыми он ремонтировал здание городского пенсионного фонда, что на улице Красноармейской.  ...         NaN\n",
              "135                                                                                                                                                                 \"Недопустимо, когда у нас деньги есть, а с договорами творится такой бардак. В следующем году этому место быть не должно\", - сказал он. \"Я сейчас не говорю о том, кто конкретно в чем виноват.  ...         NaN\n",
              "136                                                                                                                                                                                                                                                                                                                    Я смеюсь. - Вступил! - вызывающе говорит он.  ...         NaN\n",
              "137                                                                                                                                                                                                                                      Ярославские следователи просят жителей области помочь найти мужчину, подозреваемого в причинении смерти по неосторожности.  ...         NaN\n",
              "140                                                                                                                                                                                                                                                                                           Готовность станций в настоящее время достаточно высокая, - сказал он.  ...         NaN\n",
              "145  Когда он вернулся с прогулки, обратил внимание на то, что часть парковки возле гостиницы огорожена красной лентой, однако ни предупреждающих знаков, ни информационных табличек в зоне видимости не было. Припарковав автомобиль в метре от ограждения, мужчина отправился в свой номер. Около восьми часов утра турист услышал звук сработавшей сигнализации.  ...         NaN\n",
              "146                                                                                                                                                                                                                                                            Тягуче проскрипела дверь. Мы оглянулись, я увидел просунувшуюся голову кузнеца. Он сказал: — Готово!  ...         NaN\n",
              "\n",
              "[10 rows x 8 columns]"
            ]
          },
          "metadata": {
            "tags": []
          },
          "execution_count": 14
        }
      ]
    },
    {
      "cell_type": "code",
      "metadata": {
        "colab": {
          "base_uri": "https://localhost:8080/"
        },
        "id": "1n18aw5swc8c",
        "outputId": "74cb1f49-dd43-42b9-9b14-29edd77c143a"
      },
      "source": [
        "#случаи неправильной разметки: должно быть neutral\n",
        "df.iloc[[35, 63, 70, 102, 112]]"
      ],
      "execution_count": null,
      "outputs": [
        {
          "output_type": "execute_result",
          "data": {
            "text/html": [
              "<div>\n",
              "<style scoped>\n",
              "    .dataframe tbody tr th:only-of-type {\n",
              "        vertical-align: middle;\n",
              "    }\n",
              "\n",
              "    .dataframe tbody tr th {\n",
              "        vertical-align: top;\n",
              "    }\n",
              "\n",
              "    .dataframe thead th {\n",
              "        text-align: right;\n",
              "    }\n",
              "</style>\n",
              "<table border=\"1\" class=\"dataframe\">\n",
              "  <thead>\n",
              "    <tr style=\"text-align: right;\">\n",
              "      <th></th>\n",
              "      <th>premise</th>\n",
              "      <th>label</th>\n",
              "      <th>hypothesis</th>\n",
              "      <th>verb</th>\n",
              "      <th>negation</th>\n",
              "      <th>genre</th>\n",
              "      <th>idx</th>\n",
              "      <th>no_negation</th>\n",
              "    </tr>\n",
              "  </thead>\n",
              "  <tbody>\n",
              "    <tr>\n",
              "      <th>35</th>\n",
              "      <td>У мужиков спрашивают, те тоже — не знаем, не ведаем. Чертовщина какая-то!.. Решили у склада сторожа поставить.</td>\n",
              "      <td>entailment</td>\n",
              "      <td>У склада поставили сторожа.</td>\n",
              "      <td>решить</td>\n",
              "      <td>no_negation</td>\n",
              "      <td>fiction</td>\n",
              "      <td>35</td>\n",
              "      <td>NaN</td>\n",
              "    </tr>\n",
              "    <tr>\n",
              "      <th>63</th>\n",
              "      <td>Мы по-прежнему исходим из того, что был факт нарушения закона. Раз правонарушение было, соответственно виновные должны понести наказание. Речь Мадонны, ее призыв поддержать гомосексуальное сообщество, дают понять, что гомосексуализм это хорошо.</td>\n",
              "      <td>entailment</td>\n",
              "      <td>Был факт нарушения закона.</td>\n",
              "      <td>исходить</td>\n",
              "      <td>no_negation</td>\n",
              "      <td>interfax</td>\n",
              "      <td>63</td>\n",
              "      <td>NaN</td>\n",
              "    </tr>\n",
              "    <tr>\n",
              "      <th>70</th>\n",
              "      <td>Он не мог понять, как он сам не догадался сделать это в свое время. Как теперь оказался на окраине любых мыслей, как он стал наблюдателем, ничтожнейшим из наблюдателей — бесцельным. Он всегда чувствовал себя каким-то отдельным существом, не человеком, а только учеником людей.</td>\n",
              "      <td>contradiction</td>\n",
              "      <td>Он сделал это в свое время.</td>\n",
              "      <td>догадаться</td>\n",
              "      <td>negation</td>\n",
              "      <td>fiction</td>\n",
              "      <td>70</td>\n",
              "      <td>NaN</td>\n",
              "    </tr>\n",
              "    <tr>\n",
              "      <th>102</th>\n",
              "      <td>Извини. — Бог с ней, с кофточкой. Ты говорил, что хочешь меня видеть.</td>\n",
              "      <td>entailment</td>\n",
              "      <td>Ты хочешь меня видеть.</td>\n",
              "      <td>говорить</td>\n",
              "      <td>no_negation</td>\n",
              "      <td>fiction</td>\n",
              "      <td>102</td>\n",
              "      <td>NaN</td>\n",
              "    </tr>\n",
              "    <tr>\n",
              "      <th>112</th>\n",
              "      <td>Пообщался с жителями. И выяснил, что большинство из них даже не знают, кто их участковый, – сказал глава региона. - А потому предлагаю подумать над вопросом размещения на подъездах домов информационных щитов с телефонами различных экстренных служб, а также контактными данными близлежащих отделов полиции и участковых.</td>\n",
              "      <td>entailment</td>\n",
              "      <td>На подъездах домов разместят информационные щиты с телефонами различных экстренных служб, а также контактными данными близлежащих отделов полиции и участковых.</td>\n",
              "      <td>предложить подумать</td>\n",
              "      <td>no_negation</td>\n",
              "      <td>kp</td>\n",
              "      <td>112</td>\n",
              "      <td>NaN</td>\n",
              "    </tr>\n",
              "  </tbody>\n",
              "</table>\n",
              "</div>"
            ],
            "text/plain": [
              "                                                                                                                                                                                                                                                                                                                            premise  ... no_negation\n",
              "35                                                                                                                                                                                                                   У мужиков спрашивают, те тоже — не знаем, не ведаем. Чертовщина какая-то!.. Решили у склада сторожа поставить.  ...         NaN\n",
              "63                                                                             Мы по-прежнему исходим из того, что был факт нарушения закона. Раз правонарушение было, соответственно виновные должны понести наказание. Речь Мадонны, ее призыв поддержать гомосексуальное сообщество, дают понять, что гомосексуализм это хорошо.  ...         NaN\n",
              "70                                             Он не мог понять, как он сам не догадался сделать это в свое время. Как теперь оказался на окраине любых мыслей, как он стал наблюдателем, ничтожнейшим из наблюдателей — бесцельным. Он всегда чувствовал себя каким-то отдельным существом, не человеком, а только учеником людей.  ...         NaN\n",
              "102                                                                                                                                                                                                                                                           Извини. — Бог с ней, с кофточкой. Ты говорил, что хочешь меня видеть.  ...         NaN\n",
              "112  Пообщался с жителями. И выяснил, что большинство из них даже не знают, кто их участковый, – сказал глава региона. - А потому предлагаю подумать над вопросом размещения на подъездах домов информационных щитов с телефонами различных экстренных служб, а также контактными данными близлежащих отделов полиции и участковых.  ...         NaN\n",
              "\n",
              "[5 rows x 8 columns]"
            ]
          },
          "metadata": {
            "tags": []
          },
          "execution_count": 15
        }
      ]
    },
    {
      "cell_type": "code",
      "metadata": {
        "colab": {
          "base_uri": "https://localhost:8080/"
        },
        "id": "nHvD29HhwskS",
        "outputId": "67862c98-ba56-44dd-beeb-7d321cea1c5b"
      },
      "source": [
        "#случаи странной разметки (наверное, тоже стоит в neutral)\n",
        "#146 вообще очень странное\n",
        "df.iloc[[36, 39, 65, 108, 146]]"
      ],
      "execution_count": null,
      "outputs": [
        {
          "output_type": "execute_result",
          "data": {
            "text/html": [
              "<div>\n",
              "<style scoped>\n",
              "    .dataframe tbody tr th:only-of-type {\n",
              "        vertical-align: middle;\n",
              "    }\n",
              "\n",
              "    .dataframe tbody tr th {\n",
              "        vertical-align: top;\n",
              "    }\n",
              "\n",
              "    .dataframe thead th {\n",
              "        text-align: right;\n",
              "    }\n",
              "</style>\n",
              "<table border=\"1\" class=\"dataframe\">\n",
              "  <thead>\n",
              "    <tr style=\"text-align: right;\">\n",
              "      <th></th>\n",
              "      <th>premise</th>\n",
              "      <th>label</th>\n",
              "      <th>hypothesis</th>\n",
              "      <th>verb</th>\n",
              "      <th>negation</th>\n",
              "      <th>genre</th>\n",
              "      <th>idx</th>\n",
              "      <th>no_negation</th>\n",
              "    </tr>\n",
              "  </thead>\n",
              "  <tbody>\n",
              "    <tr>\n",
              "      <th>36</th>\n",
              "      <td>Он не мог понять, как он сам не догадался сделать это в свое время. Как теперь оказался на окраине любых мыслей, как он стал наблюдателем, ничтожнейшим из наблюдателей — бесцельным. Он всегда чувствовал себя каким-то отдельным существом, не человеком, а только учеником людей.</td>\n",
              "      <td>entailment</td>\n",
              "      <td>Он какое-то отдельное существо, не человек, а только ученик людей.</td>\n",
              "      <td>чувствовать</td>\n",
              "      <td>NaN</td>\n",
              "      <td>fiction</td>\n",
              "      <td>36</td>\n",
              "      <td>no_negation</td>\n",
              "    </tr>\n",
              "    <tr>\n",
              "      <th>39</th>\n",
              "      <td>Весело если — смейся, Если печально — плачь. Но сразу то и другое — Мой не осилит дух. Думаю о покое, Где правит одно из двух.</td>\n",
              "      <td>entailment</td>\n",
              "      <td>Есть покой, где правит одно из двух.</td>\n",
              "      <td>думать</td>\n",
              "      <td>no_negation</td>\n",
              "      <td>fiction</td>\n",
              "      <td>39</td>\n",
              "      <td>NaN</td>\n",
              "    </tr>\n",
              "    <tr>\n",
              "      <th>65</th>\n",
              "      <td>Изменила ли она что-то в нашей душе? Вряд ли. Мы твердим “Нравится, не нравится”, а по сути равнодушны, и те же художники это чувствуют.</td>\n",
              "      <td>entailment</td>\n",
              "      <td>Мы по сути равнодушны.</td>\n",
              "      <td>чувствовать</td>\n",
              "      <td>no_negation</td>\n",
              "      <td>fiction</td>\n",
              "      <td>65</td>\n",
              "      <td>NaN</td>\n",
              "    </tr>\n",
              "    <tr>\n",
              "      <th>108</th>\n",
              "      <td>После того, как в этих местах построили маленький винный завод, населенный пункт “повысили” в статусе – деревня стала городом. Не исключено, что по такому случаю на одной из улиц были высажены тополя. С того момента в городке ее считали центральной.</td>\n",
              "      <td>entailment</td>\n",
              "      <td>Это центральная улица.</td>\n",
              "      <td>считать</td>\n",
              "      <td>no_negation</td>\n",
              "      <td>fiction</td>\n",
              "      <td>108</td>\n",
              "      <td>NaN</td>\n",
              "    </tr>\n",
              "    <tr>\n",
              "      <th>146</th>\n",
              "      <td>Тягуче проскрипела дверь. Мы оглянулись, я увидел просунувшуюся голову кузнеца. Он сказал: — Готово!</td>\n",
              "      <td>entailment</td>\n",
              "      <td>— Готово!</td>\n",
              "      <td>сказать</td>\n",
              "      <td>no_negation</td>\n",
              "      <td>fiction</td>\n",
              "      <td>146</td>\n",
              "      <td>NaN</td>\n",
              "    </tr>\n",
              "  </tbody>\n",
              "</table>\n",
              "</div>"
            ],
            "text/plain": [
              "                                                                                                                                                                                                                                                                                  premise  ...  no_negation\n",
              "36   Он не мог понять, как он сам не догадался сделать это в свое время. Как теперь оказался на окраине любых мыслей, как он стал наблюдателем, ничтожнейшим из наблюдателей — бесцельным. Он всегда чувствовал себя каким-то отдельным существом, не человеком, а только учеником людей.  ...  no_negation\n",
              "39                                                                                                                                                         Весело если — смейся, Если печально — плачь. Но сразу то и другое — Мой не осилит дух. Думаю о покое, Где правит одно из двух.  ...          NaN\n",
              "65                                                                                                                                               Изменила ли она что-то в нашей душе? Вряд ли. Мы твердим “Нравится, не нравится”, а по сути равнодушны, и те же художники это чувствуют.  ...          NaN\n",
              "108                             После того, как в этих местах построили маленький винный завод, населенный пункт “повысили” в статусе – деревня стала городом. Не исключено, что по такому случаю на одной из улиц были высажены тополя. С того момента в городке ее считали центральной.  ...          NaN\n",
              "146                                                                                                                                                                                  Тягуче проскрипела дверь. Мы оглянулись, я увидел просунувшуюся голову кузнеца. Он сказал: — Готово!  ...          NaN\n",
              "\n",
              "[5 rows x 8 columns]"
            ]
          },
          "metadata": {
            "tags": []
          },
          "execution_count": 16
        }
      ]
    },
    {
      "cell_type": "markdown",
      "metadata": {
        "id": "zC_KAI7zNSue"
      },
      "source": [
        "# Contradiction"
      ]
    },
    {
      "cell_type": "markdown",
      "metadata": {
        "id": "7qmb_ja0RgAB"
      },
      "source": [
        "Выражения, которые могут служить индикаторами лэйбла contradiction: будто, ?, вдруг, вопрос, подозрева(е|ю)т, требовал, показал(а|и)сь, кажется/казаться, хотим, не, возможно, смеешь, хотя, разве, предполагал(а)?, думае(шь|те), считали, подумали, обман(ываться)*, нужно, а, заблуждаться, но "
      ]
    },
    {
      "cell_type": "code",
      "metadata": {
        "id": "eD-K4mNHRZlC",
        "colab": {
          "base_uri": "https://localhost:8080/"
        },
        "outputId": "e4931012-a9ec-4bfc-983b-e2d97d1355af"
      },
      "source": [
        "df_contr = df[(df['label']== 'contradiction')]\n",
        "df_contr.reset_index\n",
        "df_contr.head()"
      ],
      "execution_count": null,
      "outputs": [
        {
          "output_type": "execute_result",
          "data": {
            "text/html": [
              "<div>\n",
              "<style scoped>\n",
              "    .dataframe tbody tr th:only-of-type {\n",
              "        vertical-align: middle;\n",
              "    }\n",
              "\n",
              "    .dataframe tbody tr th {\n",
              "        vertical-align: top;\n",
              "    }\n",
              "\n",
              "    .dataframe thead th {\n",
              "        text-align: right;\n",
              "    }\n",
              "</style>\n",
              "<table border=\"1\" class=\"dataframe\">\n",
              "  <thead>\n",
              "    <tr style=\"text-align: right;\">\n",
              "      <th></th>\n",
              "      <th>premise</th>\n",
              "      <th>label</th>\n",
              "      <th>hypothesis</th>\n",
              "      <th>verb</th>\n",
              "      <th>negation</th>\n",
              "      <th>genre</th>\n",
              "      <th>idx</th>\n",
              "      <th>no_negation</th>\n",
              "    </tr>\n",
              "  </thead>\n",
              "  <tbody>\n",
              "    <tr>\n",
              "      <th>1</th>\n",
              "      <td>Перебрасываясь словечками, они скользят глазами по моему городу. Как они смеют смотреть, будто что-то понимают?</td>\n",
              "      <td>contradiction</td>\n",
              "      <td>Они что-то понимают</td>\n",
              "      <td>смотреть</td>\n",
              "      <td>no_negation</td>\n",
              "      <td>fiction</td>\n",
              "      <td>1</td>\n",
              "      <td>NaN</td>\n",
              "    </tr>\n",
              "    <tr>\n",
              "      <th>3</th>\n",
              "      <td>Зима, наконец, показала свой характер.</td>\n",
              "      <td>contradiction</td>\n",
              "      <td>У зимы есть свой характер.</td>\n",
              "      <td>показать</td>\n",
              "      <td>no_negation</td>\n",
              "      <td>kp</td>\n",
              "      <td>3</td>\n",
              "      <td>NaN</td>\n",
              "    </tr>\n",
              "    <tr>\n",
              "      <th>4</th>\n",
              "      <td>ГуманностьБогаподобнымсценариемнепредполагается. Но Его благость остается в неприкосновенности. Непросто жить в таком мире, но кто сказал, что это должно быть просто?</td>\n",
              "      <td>contradiction</td>\n",
              "      <td>Это должно быть просто.</td>\n",
              "      <td>сказать</td>\n",
              "      <td>no_negation</td>\n",
              "      <td>fiction</td>\n",
              "      <td>4</td>\n",
              "      <td>NaN</td>\n",
              "    </tr>\n",
              "    <tr>\n",
              "      <th>9</th>\n",
              "      <td>Обеспокоилась судьбой серебряных ложек, которые лежали у рабочих, как говорится, на виду. Вдруг украдут! Стала убирать. В ответ мама со словами: “Да как ты смеешь так думать, дрянь! Это же РАБОЧИЕ, понимаешь, РАБОЧИЕ!!</td>\n",
              "      <td>contradiction</td>\n",
              "      <td>Рабочие украдут ложки.</td>\n",
              "      <td>думать</td>\n",
              "      <td>no_negation</td>\n",
              "      <td>fiction</td>\n",
              "      <td>9</td>\n",
              "      <td>NaN</td>\n",
              "    </tr>\n",
              "    <tr>\n",
              "      <th>14</th>\n",
              "      <td>Вопрос качества работы орловских библиотек на днях обсудили в Правительстве Орловской области.</td>\n",
              "      <td>contradiction</td>\n",
              "      <td>Орловские библиотеки работают качественно.</td>\n",
              "      <td>обсудить</td>\n",
              "      <td>no_negation</td>\n",
              "      <td>kp</td>\n",
              "      <td>14</td>\n",
              "      <td>NaN</td>\n",
              "    </tr>\n",
              "  </tbody>\n",
              "</table>\n",
              "</div>"
            ],
            "text/plain": [
              "                                                                                                                                                                                                                       premise  ... no_negation\n",
              "1                                                                                                              Перебрасываясь словечками, они скользят глазами по моему городу. Как они смеют смотреть, будто что-то понимают?  ...         NaN\n",
              "3                                                                                                                                                                                       Зима, наконец, показала свой характер.  ...         NaN\n",
              "4                                                       ГуманностьБогаподобнымсценариемнепредполагается. Но Его благость остается в неприкосновенности. Непросто жить в таком мире, но кто сказал, что это должно быть просто?  ...         NaN\n",
              "9   Обеспокоилась судьбой серебряных ложек, которые лежали у рабочих, как говорится, на виду. Вдруг украдут! Стала убирать. В ответ мама со словами: “Да как ты смеешь так думать, дрянь! Это же РАБОЧИЕ, понимаешь, РАБОЧИЕ!!  ...         NaN\n",
              "14                                                                                                                              Вопрос качества работы орловских библиотек на днях обсудили в Правительстве Орловской области.  ...         NaN\n",
              "\n",
              "[5 rows x 8 columns]"
            ]
          },
          "metadata": {
            "tags": []
          },
          "execution_count": 17
        }
      ]
    },
    {
      "cell_type": "markdown",
      "metadata": {
        "id": "Eh99oQOHMyeX"
      },
      "source": [
        "Странные сегменты 162, 164\n",
        "\n",
        "Не понятно, как рассматривать метафоры.\n",
        "Сегменты 181, 186, 223, 337, 425 амбивалентны. Они одновременно и подходят, и не подходят к тексту."
      ]
    },
    {
      "cell_type": "code",
      "metadata": {
        "id": "k9oQwYjDSTuC",
        "colab": {
          "base_uri": "https://localhost:8080/"
        },
        "outputId": "2cc96fa7-ff16-4bf0-977a-bf15ab4aaffa"
      },
      "source": [
        "#272, 280, 290, 303, 442 - возможно все же не contradiction\n",
        "df.iloc[[27, 34, 66, 67, 68, 105, 138, 139, 187, 236, 243, 273, 302, 395]]"
      ],
      "execution_count": null,
      "outputs": [
        {
          "output_type": "execute_result",
          "data": {
            "text/html": [
              "<div>\n",
              "<style scoped>\n",
              "    .dataframe tbody tr th:only-of-type {\n",
              "        vertical-align: middle;\n",
              "    }\n",
              "\n",
              "    .dataframe tbody tr th {\n",
              "        vertical-align: top;\n",
              "    }\n",
              "\n",
              "    .dataframe thead th {\n",
              "        text-align: right;\n",
              "    }\n",
              "</style>\n",
              "<table border=\"1\" class=\"dataframe\">\n",
              "  <thead>\n",
              "    <tr style=\"text-align: right;\">\n",
              "      <th></th>\n",
              "      <th>premise</th>\n",
              "      <th>label</th>\n",
              "      <th>hypothesis</th>\n",
              "      <th>verb</th>\n",
              "      <th>negation</th>\n",
              "      <th>genre</th>\n",
              "      <th>idx</th>\n",
              "      <th>no_negation</th>\n",
              "    </tr>\n",
              "  </thead>\n",
              "  <tbody>\n",
              "    <tr>\n",
              "      <th>27</th>\n",
              "      <td>Не гневается на тех, кто, не останавливаясь, проходит мимо. Но сам он остро, пронзительно сострадает несчастному. И — заставляет задуматься, осознать, как хрупка и уязвима наша душа, как неповторимо единственна человеческая жизнь.</td>\n",
              "      <td>contradiction</td>\n",
              "      <td>Хрупка и уязвима наша душа, неповторимо единственна человеческая жизнь.</td>\n",
              "      <td>осознать</td>\n",
              "      <td>no_negation</td>\n",
              "      <td>fiction</td>\n",
              "      <td>27</td>\n",
              "      <td>NaN</td>\n",
              "    </tr>\n",
              "    <tr>\n",
              "      <th>34</th>\n",
              "      <td>Как я матерюсь, так она врет. Ловлена с поличным неоднократно, принципов своих не предавала, продолжала врать и обижаться, что ей не верят. Свято помня отцовский завет “Наказывают не за преступление, а за то, что попался”, никогда ни в чем не признается.</td>\n",
              "      <td>contradiction</td>\n",
              "      <td>Ей не верят.</td>\n",
              "      <td>обижаться</td>\n",
              "      <td>no_negation</td>\n",
              "      <td>fiction</td>\n",
              "      <td>34</td>\n",
              "      <td>NaN</td>\n",
              "    </tr>\n",
              "    <tr>\n",
              "      <th>66</th>\n",
              "      <td>Тогда как собственная смерть не значит ничего. И вы благодарны вашему убийце за то, что он не брезгует подойти вплотную. Все так изложено - я бы сказал, даже чересчур ясно.</td>\n",
              "      <td>contradiction</td>\n",
              "      <td>Это изложено даже чересчур ясно.</td>\n",
              "      <td>сказать</td>\n",
              "      <td>no_negation</td>\n",
              "      <td>fiction</td>\n",
              "      <td>66</td>\n",
              "      <td>NaN</td>\n",
              "    </tr>\n",
              "    <tr>\n",
              "      <th>67</th>\n",
              "      <td>Все вернулось на круги своя. Но во мне многое изменилось. Теперь я спокойно, даже отстраненно оглядывалась на себя прежнюю и не понимала, зачем так долго обманывала себя.</td>\n",
              "      <td>contradiction</td>\n",
              "      <td>Я долго обманывала себя.</td>\n",
              "      <td>понимать</td>\n",
              "      <td>negation</td>\n",
              "      <td>fiction</td>\n",
              "      <td>67</td>\n",
              "      <td>NaN</td>\n",
              "    </tr>\n",
              "    <tr>\n",
              "      <th>68</th>\n",
              "      <td>Но этого хватило, чтобы скульптура получилась внушительного размера. Длина палубы крейсера - шесть метров. Не забыли и раскрасить для большего сходства с оригиналом.</td>\n",
              "      <td>contradiction</td>\n",
              "      <td>Скульптура была раскрашена.</td>\n",
              "      <td>забыть</td>\n",
              "      <td>negation</td>\n",
              "      <td>kp</td>\n",
              "      <td>68</td>\n",
              "      <td>NaN</td>\n",
              "    </tr>\n",
              "    <tr>\n",
              "      <th>105</th>\n",
              "      <td>Настоящий друг. Выручил меня с оркестром. Не забуду.</td>\n",
              "      <td>contradiction</td>\n",
              "      <td>Друг меня выручил.</td>\n",
              "      <td>забыть</td>\n",
              "      <td>negation</td>\n",
              "      <td>fiction</td>\n",
              "      <td>105</td>\n",
              "      <td>NaN</td>\n",
              "    </tr>\n",
              "    <tr>\n",
              "      <th>138</th>\n",
              "      <td>Воспитывать, дорогие мои, надо на подвиге, на героизме. А этого бы хоть подстригли. Слышите, товарищ, я вам говорю, как там ваша фамилия,— неприлично мужчине ходить с такими волосами.</td>\n",
              "      <td>contradiction</td>\n",
              "      <td>Неприлично мужчине ходить с такими волосами.</td>\n",
              "      <td>говорить</td>\n",
              "      <td>no_negation</td>\n",
              "      <td>fiction</td>\n",
              "      <td>138</td>\n",
              "      <td>NaN</td>\n",
              "    </tr>\n",
              "    <tr>\n",
              "      <th>139</th>\n",
              "      <td>Дополнительные меры безопасности будут приняты на время новогодних и рождественских праздников.</td>\n",
              "      <td>contradiction</td>\n",
              "      <td>Во время новогодних и рождественских праздников будет безопаснее.</td>\n",
              "      <td>принять</td>\n",
              "      <td>no_negation</td>\n",
              "      <td>kp</td>\n",
              "      <td>139</td>\n",
              "      <td>NaN</td>\n",
              "    </tr>\n",
              "    <tr>\n",
              "      <th>187</th>\n",
              "      <td>Мужчина пытался сбежать с места и даже кинулся на сотрудников полиции с желанием помахать кулаками. Агрессивного нарушителя скрутили, посадили в машину и отвезли в ближайший участок. Проверка на трезвость показала, что водитель был в состоянии алкогольного опьянения.</td>\n",
              "      <td>contradiction</td>\n",
              "      <td>Водитель был в состоянии алкогольного опьянения.</td>\n",
              "      <td>показать</td>\n",
              "      <td>no_negation</td>\n",
              "      <td>kp</td>\n",
              "      <td>187</td>\n",
              "      <td>NaN</td>\n",
              "    </tr>\n",
              "    <tr>\n",
              "      <th>236</th>\n",
              "      <td>Наконец раздался голос. Мужской и смутно знакомый. Голос, запинаясь, медленно, как бы сомневаясь, что его услышат и поймут, произносил: – Добрый день.</td>\n",
              "      <td>contradiction</td>\n",
              "      <td>Его услышат.</td>\n",
              "      <td>сомневаться</td>\n",
              "      <td>no_negation</td>\n",
              "      <td>fiction</td>\n",
              "      <td>236</td>\n",
              "      <td>NaN</td>\n",
              "    </tr>\n",
              "    <tr>\n",
              "      <th>243</th>\n",
              "      <td>Вот только студентам факультета – большинству – места не нашлось. Особенно тем, кто хотел как раз пообщаться. - Я не приму у Вас куртку! - Почему? Я же учусь здесь. - Сказали, чтобы с часу дня гардероб не выдавал студентам номерков, крючки для гостей бережем!</td>\n",
              "      <td>contradiction</td>\n",
              "      <td>С часу дня гардероб не выдавал студентам номерков, крючки берегли для гостей.</td>\n",
              "      <td>сказать</td>\n",
              "      <td>no_negation</td>\n",
              "      <td>interfax</td>\n",
              "      <td>243</td>\n",
              "      <td>NaN</td>\n",
              "    </tr>\n",
              "    <tr>\n",
              "      <th>273</th>\n",
              "      <td>За какую партию «проголосовала» женщина, не уточняется. Результаты выборов на участке были признаны недействительными. Обвиняемая свою вину признала полностью.</td>\n",
              "      <td>contradiction</td>\n",
              "      <td>Женщина «проголосовала» за какую-то партию.</td>\n",
              "      <td>уточнить</td>\n",
              "      <td>negation</td>\n",
              "      <td>kp</td>\n",
              "      <td>273</td>\n",
              "      <td>NaN</td>\n",
              "    </tr>\n",
              "    <tr>\n",
              "      <th>302</th>\n",
              "      <td>“Ну как ты могла забыть? Ты помнишь вообще, что я жив? Сигареты свои (не говоря уж о прочем) не забываешь купить”?</td>\n",
              "      <td>contradiction</td>\n",
              "      <td>Я жив.</td>\n",
              "      <td>помнить</td>\n",
              "      <td>no_negation</td>\n",
              "      <td>fiction</td>\n",
              "      <td>302</td>\n",
              "      <td>NaN</td>\n",
              "    </tr>\n",
              "    <tr>\n",
              "      <th>395</th>\n",
              "      <td>Мы оглянулись, я увидел просунувшуюся голову кузнеца. Он сказал: — Готово! Просили в миг, как закончу мечи править, сказать, вижу, не спите.</td>\n",
              "      <td>contradiction</td>\n",
              "      <td>Кузнец закончил править мечи.</td>\n",
              "      <td>сказать</td>\n",
              "      <td>no_negation</td>\n",
              "      <td>fiction</td>\n",
              "      <td>395</td>\n",
              "      <td>NaN</td>\n",
              "    </tr>\n",
              "  </tbody>\n",
              "</table>\n",
              "</div>"
            ],
            "text/plain": [
              "                                                                                                                                                                                                                                                                         premise  ... no_negation\n",
              "27                                        Не гневается на тех, кто, не останавливаясь, проходит мимо. Но сам он остро, пронзительно сострадает несчастному. И — заставляет задуматься, осознать, как хрупка и уязвима наша душа, как неповторимо единственна человеческая жизнь.  ...         NaN\n",
              "34                Как я матерюсь, так она врет. Ловлена с поличным неоднократно, принципов своих не предавала, продолжала врать и обижаться, что ей не верят. Свято помня отцовский завет “Наказывают не за преступление, а за то, что попался”, никогда ни в чем не признается.  ...         NaN\n",
              "66                                                                                                  Тогда как собственная смерть не значит ничего. И вы благодарны вашему убийце за то, что он не брезгует подойти вплотную. Все так изложено - я бы сказал, даже чересчур ясно.  ...         NaN\n",
              "67                                                                                                    Все вернулось на круги своя. Но во мне многое изменилось. Теперь я спокойно, даже отстраненно оглядывалась на себя прежнюю и не понимала, зачем так долго обманывала себя.  ...         NaN\n",
              "68                                                                                                         Но этого хватило, чтобы скульптура получилась внушительного размера. Длина палубы крейсера - шесть метров. Не забыли и раскрасить для большего сходства с оригиналом.  ...         NaN\n",
              "105                                                                                                                                                                                                                         Настоящий друг. Выручил меня с оркестром. Не забуду.  ...         NaN\n",
              "138                                                                                      Воспитывать, дорогие мои, надо на подвиге, на героизме. А этого бы хоть подстригли. Слышите, товарищ, я вам говорю, как там ваша фамилия,— неприлично мужчине ходить с такими волосами.  ...         NaN\n",
              "139                                                                                                                                                                              Дополнительные меры безопасности будут приняты на время новогодних и рождественских праздников.  ...         NaN\n",
              "187  Мужчина пытался сбежать с места и даже кинулся на сотрудников полиции с желанием помахать кулаками. Агрессивного нарушителя скрутили, посадили в машину и отвезли в ближайший участок. Проверка на трезвость показала, что водитель был в состоянии алкогольного опьянения.  ...         NaN\n",
              "236                                                                                                                       Наконец раздался голос. Мужской и смутно знакомый. Голос, запинаясь, медленно, как бы сомневаясь, что его услышат и поймут, произносил: – Добрый день.  ...         NaN\n",
              "243          Вот только студентам факультета – большинству – места не нашлось. Особенно тем, кто хотел как раз пообщаться. - Я не приму у Вас куртку! - Почему? Я же учусь здесь. - Сказали, чтобы с часу дня гардероб не выдавал студентам номерков, крючки для гостей бережем!  ...         NaN\n",
              "273                                                                                                              За какую партию «проголосовала» женщина, не уточняется. Результаты выборов на участке были признаны недействительными. Обвиняемая свою вину признала полностью.  ...         NaN\n",
              "302                                                                                                                                                           “Ну как ты могла забыть? Ты помнишь вообще, что я жив? Сигареты свои (не говоря уж о прочем) не забываешь купить”?  ...         NaN\n",
              "395                                                                                                                                 Мы оглянулись, я увидел просунувшуюся голову кузнеца. Он сказал: — Готово! Просили в миг, как закончу мечи править, сказать, вижу, не спите.  ...         NaN\n",
              "\n",
              "[14 rows x 8 columns]"
            ]
          },
          "metadata": {
            "tags": []
          },
          "execution_count": 18
        }
      ]
    },
    {
      "cell_type": "markdown",
      "metadata": {
        "id": "B_Cnum9xNanL"
      },
      "source": [
        "# Neutral"
      ]
    },
    {
      "cell_type": "markdown",
      "metadata": {
        "id": "sZjOiywaQwng"
      },
      "source": [
        "В английском варианте neutral значительно меньше и к ним обычно относят сегменты, на которые нельзя дать однозначный ответ. То есть они вроде связаны с текстом, но не понятно как именно. Примеры можно увидеть ниже. Как мне кажется, в RSG сюда должны относиться как раз метафоры. Также сюда обычно относятся вопросы и как раз модальность со значением неуверенности, типа \"надеюсь\", \"предполагается\", которая в русской версии очень часто встречается в contradiction."
      ]
    },
    {
      "cell_type": "code",
      "metadata": {
        "colab": {
          "base_uri": "https://localhost:8080/"
        },
        "id": "Jpn8sgd-QGy-",
        "outputId": "32dd8af0-eb75-49f5-cb4b-4c7c4379d2ae"
      },
      "source": [
        "df_neutral_en = df_en[(df_en['label']== 'neutral')]\n",
        "df_neutral_en.reset_index\n",
        "df_neutral_en.head()"
      ],
      "execution_count": null,
      "outputs": [
        {
          "output_type": "execute_result",
          "data": {
            "text/html": [
              "<div>\n",
              "<style scoped>\n",
              "    .dataframe tbody tr th:only-of-type {\n",
              "        vertical-align: middle;\n",
              "    }\n",
              "\n",
              "    .dataframe tbody tr th {\n",
              "        vertical-align: top;\n",
              "    }\n",
              "\n",
              "    .dataframe thead th {\n",
              "        text-align: right;\n",
              "    }\n",
              "</style>\n",
              "<table border=\"1\" class=\"dataframe\">\n",
              "  <thead>\n",
              "    <tr style=\"text-align: right;\">\n",
              "      <th></th>\n",
              "      <th>premise</th>\n",
              "      <th>hypothesis</th>\n",
              "      <th>label</th>\n",
              "      <th>idx</th>\n",
              "    </tr>\n",
              "  </thead>\n",
              "  <tbody>\n",
              "    <tr>\n",
              "      <th>33</th>\n",
              "      <td>``I hope you are settling down and the cat is well.'' This was a lie. She did not hope the cat was well.</td>\n",
              "      <td>the cat was well</td>\n",
              "      <td>neutral</td>\n",
              "      <td>33</td>\n",
              "    </tr>\n",
              "    <tr>\n",
              "      <th>67</th>\n",
              "      <td>It is all very well, in these changing times, to adapt one's work to take in duties not traditionally within one's realm. But bantering is of another dimension altogether. For one thing how would one know for sure that at any given moment a response of the bantering sort is truly what is expected?</td>\n",
              "      <td>at any given moment a response of the bantering sort is truly what is expected</td>\n",
              "      <td>neutral</td>\n",
              "      <td>67</td>\n",
              "    </tr>\n",
              "    <tr>\n",
              "      <th>76</th>\n",
              "      <td>``Clever''. Klug means ``clever''. Would you say that Abie was clever?</td>\n",
              "      <td>Abie was clever</td>\n",
              "      <td>neutral</td>\n",
              "      <td>76</td>\n",
              "    </tr>\n",
              "    <tr>\n",
              "      <th>84</th>\n",
              "      <td>Nicky approached her with the assumption that men are naturally right and it is the role of women to follow their lead. Constance, whose confidence was growing daily, was not prepared to give in to Nicky's wishes merely because of his sex. If she felt he was right then she agreed with him.</td>\n",
              "      <td>Nicky was right</td>\n",
              "      <td>neutral</td>\n",
              "      <td>84</td>\n",
              "    </tr>\n",
              "    <tr>\n",
              "      <th>86</th>\n",
              "      <td>I can't afford to get bogged down in the weeds. But at least you know she did leave. Maybe a coincidence maybe the two girls talked on the phone decided they 'd both had enough.</td>\n",
              "      <td>the two girls had both had enough</td>\n",
              "      <td>neutral</td>\n",
              "      <td>86</td>\n",
              "    </tr>\n",
              "  </tbody>\n",
              "</table>\n",
              "</div>"
            ],
            "text/plain": [
              "                                                                                                                                                                                                                                                                                                       premise  ... idx\n",
              "33                                                                                                                                                                                                    ``I hope you are settling down and the cat is well.'' This was a lie. She did not hope the cat was well.  ...  33\n",
              "67  It is all very well, in these changing times, to adapt one's work to take in duties not traditionally within one's realm. But bantering is of another dimension altogether. For one thing how would one know for sure that at any given moment a response of the bantering sort is truly what is expected?  ...  67\n",
              "76                                                                                                                                                                                                                                      ``Clever''. Klug means ``clever''. Would you say that Abie was clever?  ...  76\n",
              "84          Nicky approached her with the assumption that men are naturally right and it is the role of women to follow their lead. Constance, whose confidence was growing daily, was not prepared to give in to Nicky's wishes merely because of his sex. If she felt he was right then she agreed with him.  ...  84\n",
              "86                                                                                                                           I can't afford to get bogged down in the weeds. But at least you know she did leave. Maybe a coincidence maybe the two girls talked on the phone decided they 'd both had enough.  ...  86\n",
              "\n",
              "[5 rows x 4 columns]"
            ]
          },
          "metadata": {
            "tags": []
          },
          "execution_count": 19
        }
      ]
    },
    {
      "cell_type": "code",
      "metadata": {
        "colab": {
          "base_uri": "https://localhost:8080/"
        },
        "id": "QqxdX4iDMtEy",
        "outputId": "ec24ce28-eba4-4b07-ea0d-b08445a1b960"
      },
      "source": [
        "df_neutral = df[(df['label']== 'neutral')]\n",
        "df_neutral.reset_index\n",
        "df_neutral.iloc[40:50]"
      ],
      "execution_count": null,
      "outputs": [
        {
          "output_type": "execute_result",
          "data": {
            "text/html": [
              "<div>\n",
              "<style scoped>\n",
              "    .dataframe tbody tr th:only-of-type {\n",
              "        vertical-align: middle;\n",
              "    }\n",
              "\n",
              "    .dataframe tbody tr th {\n",
              "        vertical-align: top;\n",
              "    }\n",
              "\n",
              "    .dataframe thead th {\n",
              "        text-align: right;\n",
              "    }\n",
              "</style>\n",
              "<table border=\"1\" class=\"dataframe\">\n",
              "  <thead>\n",
              "    <tr style=\"text-align: right;\">\n",
              "      <th></th>\n",
              "      <th>premise</th>\n",
              "      <th>label</th>\n",
              "      <th>hypothesis</th>\n",
              "      <th>verb</th>\n",
              "      <th>negation</th>\n",
              "      <th>genre</th>\n",
              "      <th>idx</th>\n",
              "      <th>no_negation</th>\n",
              "    </tr>\n",
              "  </thead>\n",
              "  <tbody>\n",
              "    <tr>\n",
              "      <th>92</th>\n",
              "      <td>Экспертный совет этим был удовлетворен, а руководство федерации считает, что радоваться рано.</td>\n",
              "      <td>neutral</td>\n",
              "      <td>Радоваться рано.</td>\n",
              "      <td>считать</td>\n",
              "      <td>no_negation</td>\n",
              "      <td>interfax</td>\n",
              "      <td>92</td>\n",
              "      <td>NaN</td>\n",
              "    </tr>\n",
              "    <tr>\n",
              "      <th>93</th>\n",
              "      <td>– Ты рад, что тебя сюда привезли? – спросила она. – Да... потому, что я с вами познакомился, – сказал я и вдруг понял, что не солгал.</td>\n",
              "      <td>neutral</td>\n",
              "      <td>Тебя сюда привезли.</td>\n",
              "      <td>радоваться</td>\n",
              "      <td>no_negation</td>\n",
              "      <td>fiction</td>\n",
              "      <td>93</td>\n",
              "      <td>NaN</td>\n",
              "    </tr>\n",
              "    <tr>\n",
              "      <th>94</th>\n",
              "      <td>И в этом состоит главный результат саммита. Никакого геополитического поворота не произошло. Убежден, уже и не произойдет.</td>\n",
              "      <td>neutral</td>\n",
              "      <td>Никакого геополитического поворота уже и не произойдет.</td>\n",
              "      <td>убедить</td>\n",
              "      <td>no_negation</td>\n",
              "      <td>interfax</td>\n",
              "      <td>94</td>\n",
              "      <td>NaN</td>\n",
              "    </tr>\n",
              "    <tr>\n",
              "      <th>95</th>\n",
              "      <td>Он толкнул жену, чтобы не было больше соблазна денег. Вот такое допущение сделал старик. Он был уверен, что так все и было, только доказать не мог.</td>\n",
              "      <td>neutral</td>\n",
              "      <td>Так все и было.</td>\n",
              "      <td>уверять,доказать</td>\n",
              "      <td>no_negation</td>\n",
              "      <td>fiction</td>\n",
              "      <td>95</td>\n",
              "      <td>NaN</td>\n",
              "    </tr>\n",
              "    <tr>\n",
              "      <th>99</th>\n",
              "      <td>Как я матерюсь, так она врет. Ловлена с поличным неоднократно, принципов своих не предавала, продолжала врать и обижаться, что ей не верят. Свято помня отцовский завет “Наказывают не за преступление, а за то, что попался”, никогда ни в чем не признается.</td>\n",
              "      <td>neutral</td>\n",
              "      <td>Наказывают не за преступление, а за то, что попался.</td>\n",
              "      <td>помнить</td>\n",
              "      <td>no_negation</td>\n",
              "      <td>fiction</td>\n",
              "      <td>99</td>\n",
              "      <td>NaN</td>\n",
              "    </tr>\n",
              "    <tr>\n",
              "      <th>100</th>\n",
              "      <td>Реакция последовала оглушительная. Тренер рухнул на одно колено, так что чуть не перевернул ринг, и согнулся, держась за правый бок. – Ух ты, – сказал тренер, тяжело дыша, – ух ты, ух ты.</td>\n",
              "      <td>neutral</td>\n",
              "      <td>Тренер был восхищен.</td>\n",
              "      <td>сказать</td>\n",
              "      <td>no_negation</td>\n",
              "      <td>fiction</td>\n",
              "      <td>100</td>\n",
              "      <td>NaN</td>\n",
              "    </tr>\n",
              "    <tr>\n",
              "      <th>101</th>\n",
              "      <td>В ходе досмотра у злоумышленника изъяли орудие преступления. Его причастность к разбою подтвердили следы пальцев рук, изъятые криминалистами с дверной ручки при осмотре места происшествия. Задержанный свою вину полностью признал.</td>\n",
              "      <td>neutral</td>\n",
              "      <td>Злоумышленник причастен к разбою.</td>\n",
              "      <td>подтвердить</td>\n",
              "      <td>no_negation</td>\n",
              "      <td>kp</td>\n",
              "      <td>101</td>\n",
              "      <td>NaN</td>\n",
              "    </tr>\n",
              "    <tr>\n",
              "      <th>103</th>\n",
              "      <td>Сказал: выслушайте меня. Сказал: я люблю тебя. Сказал: мне не жить вдали от тебя... Она рассмеялась.</td>\n",
              "      <td>neutral</td>\n",
              "      <td>Мне не жить вдали от тебя.</td>\n",
              "      <td>сказать</td>\n",
              "      <td>no_negation</td>\n",
              "      <td>fiction</td>\n",
              "      <td>103</td>\n",
              "      <td>NaN</td>\n",
              "    </tr>\n",
              "    <tr>\n",
              "      <th>104</th>\n",
              "      <td>Они ж были довольны и уже хвалили нас, кинувшихся в порыве общем докладывать про тех иностранцев всякие разности: прорвался мой голос выше других, и я успел выпалить, что жвачки, которые они мне давали, даже не раскрывал, а сразу выбрасывал, и живо было чувство, что очистился душой. После нас допросили о тех, кто отнимает монетки. Просили указать внешность этих людей.</td>\n",
              "      <td>neutral</td>\n",
              "      <td>Жвачки, которые они мне давали, даже не раскрывал, а сразу выбрасывал.</td>\n",
              "      <td>выпалить</td>\n",
              "      <td>no_negation</td>\n",
              "      <td>fiction</td>\n",
              "      <td>104</td>\n",
              "      <td>NaN</td>\n",
              "    </tr>\n",
              "    <tr>\n",
              "      <th>111</th>\n",
              "      <td>За происходящим наблюдал очень толстый мужчина. Я заметил в его глазах ревность. Мне показалось, что это был местный спортивный босс.</td>\n",
              "      <td>neutral</td>\n",
              "      <td>Это был местный спортивный босс.</td>\n",
              "      <td>показаться</td>\n",
              "      <td>no_negation</td>\n",
              "      <td>fiction</td>\n",
              "      <td>111</td>\n",
              "      <td>NaN</td>\n",
              "    </tr>\n",
              "  </tbody>\n",
              "</table>\n",
              "</div>"
            ],
            "text/plain": [
              "                                                                                                                                                                                                                                                                                                                                                                                premise  ... no_negation\n",
              "92                                                                                                                                                                                                                                                                                        Экспертный совет этим был удовлетворен, а руководство федерации считает, что радоваться рано.  ...         NaN\n",
              "93                                                                                                                                                                                                                                                – Ты рад, что тебя сюда привезли? – спросила она. – Да... потому, что я с вами познакомился, – сказал я и вдруг понял, что не солгал.  ...         NaN\n",
              "94                                                                                                                                                                                                                                                           И в этом состоит главный результат саммита. Никакого геополитического поворота не произошло. Убежден, уже и не произойдет.  ...         NaN\n",
              "95                                                                                                                                                                                                                                  Он толкнул жену, чтобы не было больше соблазна денег. Вот такое допущение сделал старик. Он был уверен, что так все и было, только доказать не мог.  ...         NaN\n",
              "99                                                                                                                       Как я матерюсь, так она врет. Ловлена с поличным неоднократно, принципов своих не предавала, продолжала врать и обижаться, что ей не верят. Свято помня отцовский завет “Наказывают не за преступление, а за то, что попался”, никогда ни в чем не признается.  ...         NaN\n",
              "100                                                                                                                                                                                         Реакция последовала оглушительная. Тренер рухнул на одно колено, так что чуть не перевернул ринг, и согнулся, держась за правый бок. – Ух ты, – сказал тренер, тяжело дыша, – ух ты, ух ты.  ...         NaN\n",
              "101                                                                                                                                               В ходе досмотра у злоумышленника изъяли орудие преступления. Его причастность к разбою подтвердили следы пальцев рук, изъятые криминалистами с дверной ручки при осмотре места происшествия. Задержанный свою вину полностью признал.  ...         NaN\n",
              "103                                                                                                                                                                                                                                                                                Сказал: выслушайте меня. Сказал: я люблю тебя. Сказал: мне не жить вдали от тебя... Она рассмеялась.  ...         NaN\n",
              "104  Они ж были довольны и уже хвалили нас, кинувшихся в порыве общем докладывать про тех иностранцев всякие разности: прорвался мой голос выше других, и я успел выпалить, что жвачки, которые они мне давали, даже не раскрывал, а сразу выбрасывал, и живо было чувство, что очистился душой. После нас допросили о тех, кто отнимает монетки. Просили указать внешность этих людей.  ...         NaN\n",
              "111                                                                                                                                                                                                                                               За происходящим наблюдал очень толстый мужчина. Я заметил в его глазах ревность. Мне показалось, что это был местный спортивный босс.  ...         NaN\n",
              "\n",
              "[10 rows x 8 columns]"
            ]
          },
          "metadata": {
            "tags": []
          },
          "execution_count": 20
        }
      ]
    },
    {
      "cell_type": "code",
      "metadata": {
        "id": "0w742CRwRVe7",
        "colab": {
          "base_uri": "https://localhost:8080/"
        },
        "outputId": "7aa81491-cf92-4d1e-fea0-0baecf5239ae"
      },
      "source": [
        "#сегменты, которые скорее entailment\n",
        "df.iloc[[2, 21, 24, 31, 33, 45, 53, 54, 61, 72]]"
      ],
      "execution_count": null,
      "outputs": [
        {
          "output_type": "execute_result",
          "data": {
            "text/html": [
              "<div>\n",
              "<style scoped>\n",
              "    .dataframe tbody tr th:only-of-type {\n",
              "        vertical-align: middle;\n",
              "    }\n",
              "\n",
              "    .dataframe tbody tr th {\n",
              "        vertical-align: top;\n",
              "    }\n",
              "\n",
              "    .dataframe thead th {\n",
              "        text-align: right;\n",
              "    }\n",
              "</style>\n",
              "<table border=\"1\" class=\"dataframe\">\n",
              "  <thead>\n",
              "    <tr style=\"text-align: right;\">\n",
              "      <th></th>\n",
              "      <th>premise</th>\n",
              "      <th>label</th>\n",
              "      <th>hypothesis</th>\n",
              "      <th>verb</th>\n",
              "      <th>negation</th>\n",
              "      <th>genre</th>\n",
              "      <th>idx</th>\n",
              "      <th>no_negation</th>\n",
              "    </tr>\n",
              "  </thead>\n",
              "  <tbody>\n",
              "    <tr>\n",
              "      <th>2</th>\n",
              "      <td>— Разве что, — сказала она, — мы хотим где-нибудь выпить кофе. — Мне кажется, — сказал он, — что мы хотим. На следующей Он успел встать на эскалатор, когда понял, что это “Таганская”, а не “Тульская”.</td>\n",
              "      <td>neutral</td>\n",
              "      <td>Это “ Таганская ”, а не “ Тульская ”.</td>\n",
              "      <td>понять</td>\n",
              "      <td>no_negation</td>\n",
              "      <td>fiction</td>\n",
              "      <td>2</td>\n",
              "      <td>NaN</td>\n",
              "    </tr>\n",
              "    <tr>\n",
              "      <th>21</th>\n",
              "      <td>Сумма ущерба составила одну тысячу рублей. Уточняется, что на место происшествия выехала следственная группа, которая установила личность злоумышленника. Им оказался местный житель, ранее судимый за подобное правонарушение.</td>\n",
              "      <td>neutral</td>\n",
              "      <td>На место происшествия выехала следственная группа.</td>\n",
              "      <td>уточняться</td>\n",
              "      <td>no_negation</td>\n",
              "      <td>kp</td>\n",
              "      <td>21</td>\n",
              "      <td>NaN</td>\n",
              "    </tr>\n",
              "    <tr>\n",
              "      <th>24</th>\n",
              "      <td>Тогда злоумышленник впал в ярость. Схватив нож и приставив лезвие к шее жертвы, он все же заставил мать принести деньги из комнаты бабушки. На основании доказательств, представленных районной прокуратурой, суд признал мужчину виновным в разбое с применением предмета, использованного в качестве оружия, и приговорил к четырем годам колонии общего режима.</td>\n",
              "      <td>neutral</td>\n",
              "      <td>Мужчина был виновен в разбое с применением предмета, использованного в качестве оружия.</td>\n",
              "      <td>признать</td>\n",
              "      <td>no_negation</td>\n",
              "      <td>kp</td>\n",
              "      <td>24</td>\n",
              "      <td>NaN</td>\n",
              "    </tr>\n",
              "    <tr>\n",
              "      <th>31</th>\n",
              "      <td>Чтобы узнать, о чем жизнь, надо ее прожить. Но прожить жизнь, это значит – умереть. И я тогда начинал думать о том, что когда все люди одинаково верили в Бога, все были разными, когда же все по-разному и в индивидуальном порядке в Боге разуверились, все стали одинаковыми.</td>\n",
              "      <td>neutral</td>\n",
              "      <td>Когда все по-разному и в индивидуальном порядке в Боге разуверились, все стали одинаковыми.</td>\n",
              "      <td>думать</td>\n",
              "      <td>no_negation</td>\n",
              "      <td>fiction</td>\n",
              "      <td>31</td>\n",
              "      <td>NaN</td>\n",
              "    </tr>\n",
              "    <tr>\n",
              "      <th>33</th>\n",
              "      <td>Глава государства также считает, что такое строительство позволит загрузить отечественную металлургию.</td>\n",
              "      <td>neutral</td>\n",
              "      <td>такое строительство позволит загрузить отечественную металлургию.</td>\n",
              "      <td>считать</td>\n",
              "      <td>no_negation</td>\n",
              "      <td>interfax</td>\n",
              "      <td>33</td>\n",
              "      <td>NaN</td>\n",
              "    </tr>\n",
              "    <tr>\n",
              "      <th>45</th>\n",
              "      <td>Прямо как мы! (Заметим, в скобках, что структура анекдота похожа на нашу серию “русский, немец и поляк”.) Надо сказать, что корейцы пьют не только чай.</td>\n",
              "      <td>neutral</td>\n",
              "      <td>Корейцы пьют не только чай.</td>\n",
              "      <td>сказать</td>\n",
              "      <td>no_negation</td>\n",
              "      <td>fiction</td>\n",
              "      <td>45</td>\n",
              "      <td>NaN</td>\n",
              "    </tr>\n",
              "    <tr>\n",
              "      <th>53</th>\n",
              "      <td>Это как в живописи: вся ответственность только на художнике. Вспомни, когда приступаешь к работе, то долго ищешь натуру — все не то, не то, — а потом вдруг — раз, нашел! С первого взгляда понимаешь, с первого взгляда чувствуешь.</td>\n",
              "      <td>neutral</td>\n",
              "      <td>Когда приступаешь к работе, то долго ищешь натуру.</td>\n",
              "      <td>вспомнить</td>\n",
              "      <td>no_negation</td>\n",
              "      <td>fiction</td>\n",
              "      <td>53</td>\n",
              "      <td>NaN</td>\n",
              "    </tr>\n",
              "    <tr>\n",
              "      <th>54</th>\n",
              "      <td>- Муниципальные службы проводили профилактическую обрезку деревьев, но у продовольственного магазина совершенно здоровые на вид деревья решили спилить.</td>\n",
              "      <td>neutral</td>\n",
              "      <td>Муниципальные службы спилили деревья у продовольственного магазина.</td>\n",
              "      <td>решить</td>\n",
              "      <td>no_negation</td>\n",
              "      <td>kp</td>\n",
              "      <td>54</td>\n",
              "      <td>NaN</td>\n",
              "    </tr>\n",
              "    <tr>\n",
              "      <th>61</th>\n",
              "      <td>— Но так же не бывает! — терпеливо разъяснял он мне. — Понимаешь, обман получается.</td>\n",
              "      <td>neutral</td>\n",
              "      <td>Обман получается.</td>\n",
              "      <td>понимать</td>\n",
              "      <td>no_negation</td>\n",
              "      <td>fiction</td>\n",
              "      <td>61</td>\n",
              "      <td>NaN</td>\n",
              "    </tr>\n",
              "    <tr>\n",
              "      <th>72</th>\n",
              "      <td>Я приходил к ним и говорил: вот, есть такая программа, я готов ее вести. У меня неограниченное количество российских денег. Готовы вы принять участие в этой программе?</td>\n",
              "      <td>neutral</td>\n",
              "      <td>Я готов вести программу</td>\n",
              "      <td>говорить</td>\n",
              "      <td>no_negation</td>\n",
              "      <td>fiction</td>\n",
              "      <td>72</td>\n",
              "      <td>NaN</td>\n",
              "    </tr>\n",
              "  </tbody>\n",
              "</table>\n",
              "</div>"
            ],
            "text/plain": [
              "                                                                                                                                                                                                                                                                                                                                                               premise  ... no_negation\n",
              "2                                                                                                                                                             — Разве что, — сказала она, — мы хотим где-нибудь выпить кофе. — Мне кажется, — сказал он, — что мы хотим. На следующей Он успел встать на эскалатор, когда понял, что это “Таганская”, а не “Тульская”.  ...         NaN\n",
              "21                                                                                                                                     Сумма ущерба составила одну тысячу рублей. Уточняется, что на место происшествия выехала следственная группа, которая установила личность злоумышленника. Им оказался местный житель, ранее судимый за подобное правонарушение.  ...         NaN\n",
              "24  Тогда злоумышленник впал в ярость. Схватив нож и приставив лезвие к шее жертвы, он все же заставил мать принести деньги из комнаты бабушки. На основании доказательств, представленных районной прокуратурой, суд признал мужчину виновным в разбое с применением предмета, использованного в качестве оружия, и приговорил к четырем годам колонии общего режима.  ...         NaN\n",
              "31                                                                                    Чтобы узнать, о чем жизнь, надо ее прожить. Но прожить жизнь, это значит – умереть. И я тогда начинал думать о том, что когда все люди одинаково верили в Бога, все были разными, когда же все по-разному и в индивидуальном порядке в Боге разуверились, все стали одинаковыми.  ...         NaN\n",
              "33                                                                                                                                                                                                                                                              Глава государства также считает, что такое строительство позволит загрузить отечественную металлургию.  ...         NaN\n",
              "45                                                                                                                                                                                                             Прямо как мы! (Заметим, в скобках, что структура анекдота похожа на нашу серию “русский, немец и поляк”.) Надо сказать, что корейцы пьют не только чай.  ...         NaN\n",
              "53                                                                                                                                Это как в живописи: вся ответственность только на художнике. Вспомни, когда приступаешь к работе, то долго ищешь натуру — все не то, не то, — а потом вдруг — раз, нашел! С первого взгляда понимаешь, с первого взгляда чувствуешь.  ...         NaN\n",
              "54                                                                                                                                                                                                             - Муниципальные службы проводили профилактическую обрезку деревьев, но у продовольственного магазина совершенно здоровые на вид деревья решили спилить.  ...         NaN\n",
              "61                                                                                                                                                                                                                                                                                 — Но так же не бывает! — терпеливо разъяснял он мне. — Понимаешь, обман получается.  ...         NaN\n",
              "72                                                                                                                                                                                             Я приходил к ним и говорил: вот, есть такая программа, я готов ее вести. У меня неограниченное количество российских денег. Готовы вы принять участие в этой программе?  ...         NaN\n",
              "\n",
              "[10 rows x 8 columns]"
            ]
          },
          "metadata": {
            "tags": []
          },
          "execution_count": 21
        }
      ]
    },
    {
      "cell_type": "code",
      "metadata": {
        "id": "qo4ZY-vWSM5F",
        "colab": {
          "base_uri": "https://localhost:8080/"
        },
        "outputId": "3f15e840-76c0-43de-9c46-2d463fde2fde"
      },
      "source": [
        "#сегменты, которые скорее contradiction\n",
        "df.iloc[[26, 38, 49, 71, 73]]"
      ],
      "execution_count": null,
      "outputs": [
        {
          "output_type": "execute_result",
          "data": {
            "text/html": [
              "<div>\n",
              "<style scoped>\n",
              "    .dataframe tbody tr th:only-of-type {\n",
              "        vertical-align: middle;\n",
              "    }\n",
              "\n",
              "    .dataframe tbody tr th {\n",
              "        vertical-align: top;\n",
              "    }\n",
              "\n",
              "    .dataframe thead th {\n",
              "        text-align: right;\n",
              "    }\n",
              "</style>\n",
              "<table border=\"1\" class=\"dataframe\">\n",
              "  <thead>\n",
              "    <tr style=\"text-align: right;\">\n",
              "      <th></th>\n",
              "      <th>premise</th>\n",
              "      <th>label</th>\n",
              "      <th>hypothesis</th>\n",
              "      <th>verb</th>\n",
              "      <th>negation</th>\n",
              "      <th>genre</th>\n",
              "      <th>idx</th>\n",
              "      <th>no_negation</th>\n",
              "    </tr>\n",
              "  </thead>\n",
              "  <tbody>\n",
              "    <tr>\n",
              "      <th>26</th>\n",
              "      <td>- Насколько вы удовлетворены результатами сезона? Все ли намеченное удалось сделать? - Экспертный совет уже подвел итоги и нас поблагодарил, но говорить об удовлетворении не приходится.</td>\n",
              "      <td>neutral</td>\n",
              "      <td>Они говорят об удовлетворении.</td>\n",
              "      <td>приходиться</td>\n",
              "      <td>no_negation</td>\n",
              "      <td>interfax</td>\n",
              "      <td>26</td>\n",
              "      <td>NaN</td>\n",
              "    </tr>\n",
              "    <tr>\n",
              "      <th>38</th>\n",
              "      <td>Даже если таковой найдется среди нас, здесь, то я все равно не поверю, что он этого не понимает. Это, как говорится, прописные истины, и потому все мы это прекрасно понимаем. Если говорить о себе лично, то я почему-то почти уверен, что все мы по этому поводу думаем одинаково, — иначе я просто засомневался бы, есть ли в этом мире хоть что-нибудь такое, что мы в нем понимаем.</td>\n",
              "      <td>neutral</td>\n",
              "      <td>Все мы по этому поводу думаем одинаково.</td>\n",
              "      <td>уверять</td>\n",
              "      <td>no_negation</td>\n",
              "      <td>fiction</td>\n",
              "      <td>38</td>\n",
              "      <td>NaN</td>\n",
              "    </tr>\n",
              "    <tr>\n",
              "      <th>49</th>\n",
              "      <td>— Между тем одного адского шума, по забавному совпадению именуемого роком, достаточно, чтобы поставить точку. И не только в том, что касается музыки. Как вы думаете, почему африканцы так отстали в развитии от европейцев и азиатов?</td>\n",
              "      <td>neutral</td>\n",
              "      <td>Африканцы отстали в развитии от европейцев и азиатов.</td>\n",
              "      <td>думать</td>\n",
              "      <td>no_negation</td>\n",
              "      <td>fiction</td>\n",
              "      <td>49</td>\n",
              "      <td>NaN</td>\n",
              "    </tr>\n",
              "    <tr>\n",
              "      <th>71</th>\n",
              "      <td>Как бы там ни было в таких случаях на самом деле покупатель имеет право обратиться с претензией к торговой сети или к производителю хлеба. Они обязаны поменять булку на качественную либо вернуть деньги. Если покупатель считает, что такая «начинка» нанесла вред его психике или здоровью, он также может потребовать материальную компенсацию.</td>\n",
              "      <td>neutral</td>\n",
              "      <td>Такая «начинка» нанесла вред психике или здоровью покупателя.</td>\n",
              "      <td>считать</td>\n",
              "      <td>no_negation</td>\n",
              "      <td>kp</td>\n",
              "      <td>71</td>\n",
              "      <td>NaN</td>\n",
              "    </tr>\n",
              "    <tr>\n",
              "      <th>73</th>\n",
              "      <td>— Если бы у меня был мел, я бы разрисовал им парадное, — сказал я, — первый раз вижу не разрисованное мелом парадное.</td>\n",
              "      <td>neutral</td>\n",
              "      <td>Первый раз парадное не разрисовано мелом.</td>\n",
              "      <td>видеть</td>\n",
              "      <td>no_negation</td>\n",
              "      <td>fiction</td>\n",
              "      <td>73</td>\n",
              "      <td>NaN</td>\n",
              "    </tr>\n",
              "  </tbody>\n",
              "</table>\n",
              "</div>"
            ],
            "text/plain": [
              "                                                                                                                                                                                                                                                                                                                                                                                     premise  ... no_negation\n",
              "26                                                                                                                                                                                                 - Насколько вы удовлетворены результатами сезона? Все ли намеченное удалось сделать? - Экспертный совет уже подвел итоги и нас поблагодарил, но говорить об удовлетворении не приходится.  ...         NaN\n",
              "38  Даже если таковой найдется среди нас, здесь, то я все равно не поверю, что он этого не понимает. Это, как говорится, прописные истины, и потому все мы это прекрасно понимаем. Если говорить о себе лично, то я почему-то почти уверен, что все мы по этому поводу думаем одинаково, — иначе я просто засомневался бы, есть ли в этом мире хоть что-нибудь такое, что мы в нем понимаем.  ...         NaN\n",
              "49                                                                                                                                                    — Между тем одного адского шума, по забавному совпадению именуемого роком, достаточно, чтобы поставить точку. И не только в том, что касается музыки. Как вы думаете, почему африканцы так отстали в развитии от европейцев и азиатов?  ...         NaN\n",
              "71                                       Как бы там ни было в таких случаях на самом деле покупатель имеет право обратиться с претензией к торговой сети или к производителю хлеба. Они обязаны поменять булку на качественную либо вернуть деньги. Если покупатель считает, что такая «начинка» нанесла вред его психике или здоровью, он также может потребовать материальную компенсацию.  ...         NaN\n",
              "73                                                                                                                                                                                                                                                                     — Если бы у меня был мел, я бы разрисовал им парадное, — сказал я, — первый раз вижу не разрисованное мелом парадное.  ...         NaN\n",
              "\n",
              "[5 rows x 8 columns]"
            ]
          },
          "metadata": {
            "tags": []
          },
          "execution_count": 22
        }
      ]
    },
    {
      "cell_type": "code",
      "metadata": {
        "id": "NrLOgZFmRlXc",
        "colab": {
          "base_uri": "https://localhost:8080/"
        },
        "outputId": "dde21b73-f8fa-4cbc-b686-5bd292c85995"
      },
      "source": [
        "#спорные сегменты\n",
        "df.iloc[[8, 10, 30, 44, 56]]"
      ],
      "execution_count": null,
      "outputs": [
        {
          "output_type": "execute_result",
          "data": {
            "text/html": [
              "<div>\n",
              "<style scoped>\n",
              "    .dataframe tbody tr th:only-of-type {\n",
              "        vertical-align: middle;\n",
              "    }\n",
              "\n",
              "    .dataframe tbody tr th {\n",
              "        vertical-align: top;\n",
              "    }\n",
              "\n",
              "    .dataframe thead th {\n",
              "        text-align: right;\n",
              "    }\n",
              "</style>\n",
              "<table border=\"1\" class=\"dataframe\">\n",
              "  <thead>\n",
              "    <tr style=\"text-align: right;\">\n",
              "      <th></th>\n",
              "      <th>premise</th>\n",
              "      <th>label</th>\n",
              "      <th>hypothesis</th>\n",
              "      <th>verb</th>\n",
              "      <th>negation</th>\n",
              "      <th>genre</th>\n",
              "      <th>idx</th>\n",
              "      <th>no_negation</th>\n",
              "    </tr>\n",
              "  </thead>\n",
              "  <tbody>\n",
              "    <tr>\n",
              "      <th>8</th>\n",
              "      <td>По обратному эскалатору он уже бежал, навстречу с только что приехавшего поезда шла плотная толпа, он суетливо лавировал, наступал на чьи-то возмущенные ноги, но поезд успел уйти. Было начало седьмого, если бы даже он оказался на “Тульской” прямо сию секунду, он бы все равно гарантированно опоздал. “Можно на все плюнуть, — подумал он, лихорадочно подсчитывая минуты.</td>\n",
              "      <td>neutral</td>\n",
              "      <td>Можно на все плюнуть.</td>\n",
              "      <td>подумать</td>\n",
              "      <td>no_negation</td>\n",
              "      <td>fiction</td>\n",
              "      <td>8</td>\n",
              "      <td>NaN</td>\n",
              "    </tr>\n",
              "    <tr>\n",
              "      <th>10</th>\n",
              "      <td>— Пойдём пообедаем. Я с утра ничего не ел. Отель, как видишь, весьма посредственный, но мне сказали, что в здешнем ресторане отлично готовят.</td>\n",
              "      <td>neutral</td>\n",
              "      <td>В здешнем ресторане отлично готовят.</td>\n",
              "      <td>сказать</td>\n",
              "      <td>no_negation</td>\n",
              "      <td>fiction</td>\n",
              "      <td>10</td>\n",
              "      <td>NaN</td>\n",
              "    </tr>\n",
              "    <tr>\n",
              "      <th>30</th>\n",
              "      <td>На заседании совета Общественной палаты обсудили целесообразность организации в городе платных парковок.</td>\n",
              "      <td>neutral</td>\n",
              "      <td>В городе целесообразно организовать платные парковки.</td>\n",
              "      <td>обсудить</td>\n",
              "      <td>no_negation</td>\n",
              "      <td>kp</td>\n",
              "      <td>30</td>\n",
              "      <td>NaN</td>\n",
              "    </tr>\n",
              "    <tr>\n",
              "      <th>44</th>\n",
              "      <td>Само собой, я на ней гораздо моложе и симпатичней. Понимаешь, хотелось предстать в лучшем виде, ну я и выбрал самую удачную фотографию из своего... арсенала. Надеюсь, ты не очень разочарована при виде реального меня.</td>\n",
              "      <td>neutral</td>\n",
              "      <td>Ты не очень разочарована при виде реального меня.</td>\n",
              "      <td>надеяться</td>\n",
              "      <td>no_negation</td>\n",
              "      <td>fiction</td>\n",
              "      <td>44</td>\n",
              "      <td>NaN</td>\n",
              "    </tr>\n",
              "    <tr>\n",
              "      <th>56</th>\n",
              "      <td>— Подожди, — говорю, — положим, я скажу? Он же поймет, что ты наврала!</td>\n",
              "      <td>neutral</td>\n",
              "      <td>Ты наврала.</td>\n",
              "      <td>понять</td>\n",
              "      <td>no_negation</td>\n",
              "      <td>fiction</td>\n",
              "      <td>56</td>\n",
              "      <td>NaN</td>\n",
              "    </tr>\n",
              "  </tbody>\n",
              "</table>\n",
              "</div>"
            ],
            "text/plain": [
              "                                                                                                                                                                                                                                                                                                                                                                             premise  ... no_negation\n",
              "8   По обратному эскалатору он уже бежал, навстречу с только что приехавшего поезда шла плотная толпа, он суетливо лавировал, наступал на чьи-то возмущенные ноги, но поезд успел уйти. Было начало седьмого, если бы даже он оказался на “Тульской” прямо сию секунду, он бы все равно гарантированно опоздал. “Можно на все плюнуть, — подумал он, лихорадочно подсчитывая минуты.  ...         NaN\n",
              "10                                                                                                                                                                                                                                     — Пойдём пообедаем. Я с утра ничего не ел. Отель, как видишь, весьма посредственный, но мне сказали, что в здешнем ресторане отлично готовят.  ...         NaN\n",
              "30                                                                                                                                                                                                                                                                          На заседании совета Общественной палаты обсудили целесообразность организации в городе платных парковок.  ...         NaN\n",
              "44                                                                                                                                                          Само собой, я на ней гораздо моложе и симпатичней. Понимаешь, хотелось предстать в лучшем виде, ну я и выбрал самую удачную фотографию из своего... арсенала. Надеюсь, ты не очень разочарована при виде реального меня.  ...         NaN\n",
              "56                                                                                                                                                                                                                                                                                                            — Подожди, — говорю, — положим, я скажу? Он же поймет, что ты наврала!  ...         NaN\n",
              "\n",
              "[5 rows x 8 columns]"
            ]
          },
          "metadata": {
            "tags": []
          },
          "execution_count": 23
        }
      ]
    },
    {
      "cell_type": "markdown",
      "metadata": {
        "id": "EJqo23QaTOUd"
      },
      "source": [
        "# Hypothesis only"
      ]
    },
    {
      "cell_type": "code",
      "metadata": {
        "id": "l3nac6d2UnOx",
        "colab": {
          "base_uri": "https://localhost:8080/"
        },
        "outputId": "50bc3688-b0cf-42b2-ea86-e7b0bc4c69da"
      },
      "source": [
        "!pip install eli5\r\n",
        "import numpy as np\r\n",
        "import eli5\r\n",
        "from sklearn.feature_extraction.text import CountVectorizer, TfidfVectorizer\r\n",
        "from sklearn.linear_model import LogisticRegression\r\n",
        "from sklearn.naive_bayes import MultinomialNB\r\n",
        "from sklearn.model_selection import train_test_split\r\n",
        "from sklearn.metrics import classification_report, accuracy_score, f1_score\r\n",
        "from sklearn.metrics.pairwise import cosine_distances, cosine_similarity\r\n",
        "from sklearn.model_selection import GridSearchCV\r\n",
        "from sklearn.model_selection import cross_val_score"
      ],
      "execution_count": null,
      "outputs": [
        {
          "output_type": "stream",
          "text": [
            "Collecting eli5\n",
            "\u001b[?25l  Downloading https://files.pythonhosted.org/packages/97/2f/c85c7d8f8548e460829971785347e14e45fa5c6617da374711dec8cb38cc/eli5-0.10.1-py2.py3-none-any.whl (105kB)\n",
            "\r\u001b[K     |███                             | 10kB 15.9MB/s eta 0:00:01\r\u001b[K     |██████▏                         | 20kB 14.2MB/s eta 0:00:01\r\u001b[K     |█████████▎                      | 30kB 9.1MB/s eta 0:00:01\r\u001b[K     |████████████▍                   | 40kB 7.7MB/s eta 0:00:01\r\u001b[K     |███████████████▌                | 51kB 4.5MB/s eta 0:00:01\r\u001b[K     |██████████████████▋             | 61kB 4.9MB/s eta 0:00:01\r\u001b[K     |█████████████████████▊          | 71kB 5.1MB/s eta 0:00:01\r\u001b[K     |████████████████████████▊       | 81kB 5.4MB/s eta 0:00:01\r\u001b[K     |███████████████████████████▉    | 92kB 5.7MB/s eta 0:00:01\r\u001b[K     |███████████████████████████████ | 102kB 5.8MB/s eta 0:00:01\r\u001b[K     |████████████████████████████████| 112kB 5.8MB/s \n",
            "\u001b[?25hRequirement already satisfied: graphviz in /usr/local/lib/python3.6/dist-packages (from eli5) (0.10.1)\n",
            "Requirement already satisfied: attrs>16.0.0 in /usr/local/lib/python3.6/dist-packages (from eli5) (20.3.0)\n",
            "Requirement already satisfied: scikit-learn>=0.18 in /usr/local/lib/python3.6/dist-packages (from eli5) (0.22.2.post1)\n",
            "Requirement already satisfied: scipy in /usr/local/lib/python3.6/dist-packages (from eli5) (1.4.1)\n",
            "Requirement already satisfied: jinja2 in /usr/local/lib/python3.6/dist-packages (from eli5) (2.11.2)\n",
            "Requirement already satisfied: tabulate>=0.7.7 in /usr/local/lib/python3.6/dist-packages (from eli5) (0.8.7)\n",
            "Requirement already satisfied: numpy>=1.9.0 in /usr/local/lib/python3.6/dist-packages (from eli5) (1.19.4)\n",
            "Requirement already satisfied: six in /usr/local/lib/python3.6/dist-packages (from eli5) (1.15.0)\n",
            "Requirement already satisfied: joblib>=0.11 in /usr/local/lib/python3.6/dist-packages (from scikit-learn>=0.18->eli5) (1.0.0)\n",
            "Requirement already satisfied: MarkupSafe>=0.23 in /usr/local/lib/python3.6/dist-packages (from jinja2->eli5) (1.1.1)\n",
            "Installing collected packages: eli5\n",
            "Successfully installed eli5-0.10.1\n"
          ],
          "name": "stdout"
        },
        {
          "output_type": "stream",
          "text": [
            "/usr/local/lib/python3.6/dist-packages/sklearn/utils/deprecation.py:144: FutureWarning: The sklearn.metrics.scorer module is  deprecated in version 0.22 and will be removed in version 0.24. The corresponding classes / functions should instead be imported from sklearn.metrics. Anything that cannot be imported from sklearn.metrics is now part of the private API.\n",
            "  warnings.warn(message, FutureWarning)\n",
            "/usr/local/lib/python3.6/dist-packages/sklearn/utils/deprecation.py:144: FutureWarning: The sklearn.feature_selection.base module is  deprecated in version 0.22 and will be removed in version 0.24. The corresponding classes / functions should instead be imported from sklearn.feature_selection. Anything that cannot be imported from sklearn.feature_selection is now part of the private API.\n",
            "  warnings.warn(message, FutureWarning)\n"
          ],
          "name": "stderr"
        }
      ]
    },
    {
      "cell_type": "code",
      "metadata": {
        "id": "V7L168BcTUm3"
      },
      "source": [
        "data = pd.DataFrame({'hypothesis': df.hypothesis, 'label': df.label})\r\n",
        "data[\"label\"].replace({\"neutral\": 0, \"contradiction\": 0, 'entailment': 1}, inplace=True)"
      ],
      "execution_count": null,
      "outputs": []
    },
    {
      "cell_type": "code",
      "metadata": {
        "id": "a_sYi5-pXmgF"
      },
      "source": [
        "train, test = train_test_split(data, test_size = 0.2, random_state=21)"
      ],
      "execution_count": null,
      "outputs": []
    },
    {
      "cell_type": "code",
      "metadata": {
        "id": "camDdOnpVLhP"
      },
      "source": [
        "vectorizer = TfidfVectorizer(min_df=5, max_df=0.8, lowercase=True, analyzer ='word', norm= 'l2', ngram_range = (1, 10))\r\n",
        "X_train = vectorizer.fit_transform(train.hypothesis)\r\n",
        "X_test = vectorizer.transform(test.hypothesis)"
      ],
      "execution_count": null,
      "outputs": []
    },
    {
      "cell_type": "code",
      "metadata": {
        "id": "1Wb4loylVS1l"
      },
      "source": [
        "y_train = train.label.values\r\n",
        "y_test = test.label.values"
      ],
      "execution_count": null,
      "outputs": []
    },
    {
      "cell_type": "code",
      "metadata": {
        "id": "zZxsSFGIPKgS"
      },
      "source": [
        "X_train_da = X_train.toarray()\r\n",
        "X_test_da = X_test.toarray()"
      ],
      "execution_count": null,
      "outputs": []
    },
    {
      "cell_type": "code",
      "metadata": {
        "colab": {
          "base_uri": "https://localhost:8080/"
        },
        "id": "fa1ajtnLaw8H",
        "outputId": "e1100837-fc1a-46d1-faec-2d8281d0573f"
      },
      "source": [
        "from sklearn.discriminant_analysis import LinearDiscriminantAnalysis\r\n",
        "lda = LinearDiscriminantAnalysis()\r\n",
        "\r\n",
        "lda.fit(X_train_da, y_train)\r\n",
        "y_pred = lda.predict(X_test_da)\r\n",
        "\r\n",
        "# Compute and print metrics\r\n",
        "print(\"Accuracy: {}\".format(lda.score(X_test_da, y_test)))\r\n",
        "print(classification_report(y_test, y_pred))\r\n",
        "print(\"F1: {}\".format(f1_score(y_test, y_pred)))"
      ],
      "execution_count": null,
      "outputs": [
        {
          "output_type": "stream",
          "text": [
            "Accuracy: 0.6818181818181818\n",
            "              precision    recall  f1-score   support\n",
            "\n",
            "           0       0.69      0.93      0.79        57\n",
            "           1       0.64      0.23      0.33        31\n",
            "\n",
            "    accuracy                           0.68        88\n",
            "   macro avg       0.66      0.58      0.56        88\n",
            "weighted avg       0.67      0.68      0.63        88\n",
            "\n",
            "F1: 0.3333333333333333\n"
          ],
          "name": "stdout"
        }
      ]
    },
    {
      "cell_type": "code",
      "metadata": {
        "id": "hgSZAIwJY4UE"
      },
      "source": [
        "handler = JSONL_handler('data/RCB/val.jsonl')\r\n",
        "df1 = handler.to_pandas()\r\n",
        "data_val = pd.DataFrame({'hypothesis': df1.hypothesis, 'label': df1.label})\r\n",
        "data_val[\"label\"].replace({\"neutral\": 0, \"contradiction\": 0, 'entailment': 1}, inplace=True)"
      ],
      "execution_count": null,
      "outputs": []
    },
    {
      "cell_type": "code",
      "metadata": {
        "id": "SsujZ1VobT0B"
      },
      "source": [
        "X_val = vectorizer.transform(data_val.hypothesis).toarray()\r\n",
        "y_val = data_val.label"
      ],
      "execution_count": 24,
      "outputs": []
    },
    {
      "cell_type": "code",
      "metadata": {
        "colab": {
          "base_uri": "https://localhost:8080/"
        },
        "id": "PcN8l5tnblgD",
        "outputId": "a5a18331-b079-4366-eaff-5928174df414"
      },
      "source": [
        "lda.fit(X, y)\r\n",
        "y_pred = lda.predict(X_val)\r\n",
        "\r\n",
        "# Compute and print metrics\r\n",
        "print(\"Accuracy: {}\".format(lda.score(X_val, y_val)))\r\n",
        "print(classification_report(y_val, y_pred))\r\n",
        "print(\"F1: {}\".format(f1_score(y_val, y_pred)))"
      ],
      "execution_count": 25,
      "outputs": [
        {
          "output_type": "stream",
          "text": [
            "Accuracy: 0.6681818181818182\n",
            "              precision    recall  f1-score   support\n",
            "\n",
            "           0       0.68      0.95      0.79       146\n",
            "           1       0.53      0.12      0.20        74\n",
            "\n",
            "    accuracy                           0.67       220\n",
            "   macro avg       0.60      0.53      0.49       220\n",
            "weighted avg       0.63      0.67      0.59       220\n",
            "\n",
            "F1: 0.19780219780219785\n"
          ],
          "name": "stdout"
        }
      ]
    },
    {
      "cell_type": "code",
      "metadata": {
        "colab": {
          "base_uri": "https://localhost:8080/"
        },
        "id": "bGkXXCenQPW4",
        "outputId": "7f9b378c-ce9b-4d07-fd71-e34b02cfa421"
      },
      "source": [
        "#cross validation\r\n",
        "\r\n",
        "X = vectorizer.transform(data.hypothesis).toarray()\r\n",
        "y = data.label\r\n",
        "cross_val_score(lda, X, y, scoring=\"f1_micro\")"
      ],
      "execution_count": 20,
      "outputs": [
        {
          "output_type": "execute_result",
          "data": {
            "text/plain": [
              "array([0.61363636, 0.61363636, 0.63636364, 0.62068966, 0.6091954 ])"
            ]
          },
          "metadata": {
            "tags": []
          },
          "execution_count": 20
        }
      ]
    },
    {
      "cell_type": "code",
      "metadata": {
        "colab": {
          "base_uri": "https://localhost:8080/"
        },
        "id": "8w54xDLYQtxy",
        "outputId": "3b83efa1-a4ea-4027-c6e7-064b2bff7e3e"
      },
      "source": [
        "cross_val_score(lda, X, y, scoring=\"f1_macro\")"
      ],
      "execution_count": null,
      "outputs": [
        {
          "output_type": "execute_result",
          "data": {
            "text/plain": [
              "array([0.48484848, 0.4306697 , 0.46837242, 0.39396285, 0.39765667])"
            ]
          },
          "metadata": {
            "tags": []
          },
          "execution_count": 16
        }
      ]
    },
    {
      "cell_type": "code",
      "metadata": {
        "id": "32GuzDiERMND",
        "colab": {
          "base_uri": "https://localhost:8080/"
        },
        "outputId": "260eadb2-37f8-4a5e-b774-d6065cd89d3c"
      },
      "source": [
        "cross_val_score(lda, X, y, scoring=\"accuracy\")"
      ],
      "execution_count": null,
      "outputs": [
        {
          "output_type": "execute_result",
          "data": {
            "text/plain": [
              "array([0.61363636, 0.57954545, 0.61363636, 0.5862069 , 0.55172414])"
            ]
          },
          "metadata": {
            "tags": []
          },
          "execution_count": 17
        }
      ]
    },
    {
      "cell_type": "code",
      "metadata": {
        "colab": {
          "base_uri": "https://localhost:8080/"
        },
        "id": "YTj46G03w0l6",
        "outputId": "9fc46725-21ae-4a8e-d519-46f1c8c20afa"
      },
      "source": [
        "from sklearn.discriminant_analysis import QuadraticDiscriminantAnalysis\r\n",
        "qda = QuadraticDiscriminantAnalysis(reg_param = 0.01)\r\n",
        "\r\n",
        "qda.fit(X_train_da, y_train)\r\n",
        "y_pred = qda.predict(X_test_da)\r\n",
        "\r\n",
        "# Compute and print metrics\r\n",
        "print(\"Accuracy: {}\".format(qda.score(X_test_da, y_test)))\r\n",
        "print(classification_report(y_test, y_pred))\r\n",
        "print(\"F1: {}\".format(f1_score(y_test, y_pred)))"
      ],
      "execution_count": 22,
      "outputs": [
        {
          "output_type": "stream",
          "text": [
            "Accuracy: 0.6590909090909091\n",
            "              precision    recall  f1-score   support\n",
            "\n",
            "           0       0.73      0.75      0.74        57\n",
            "           1       0.52      0.48      0.50        31\n",
            "\n",
            "    accuracy                           0.66        88\n",
            "   macro avg       0.62      0.62      0.62        88\n",
            "weighted avg       0.65      0.66      0.66        88\n",
            "\n",
            "F1: 0.5000000000000001\n"
          ],
          "name": "stdout"
        },
        {
          "output_type": "stream",
          "text": [
            "/usr/local/lib/python3.6/dist-packages/sklearn/discriminant_analysis.py:691: UserWarning: Variables are collinear\n",
            "  warnings.warn(\"Variables are collinear\")\n"
          ],
          "name": "stderr"
        }
      ]
    },
    {
      "cell_type": "code",
      "metadata": {
        "colab": {
          "base_uri": "https://localhost:8080/"
        },
        "id": "cS9m-WilcZzI",
        "outputId": "2bdaa832-fcc2-472d-d158-64b3cd5800b6"
      },
      "source": [
        "qda.fit(X, y)\r\n",
        "y_pred = qda.predict(X_val)\r\n",
        "\r\n",
        "# Compute and print metrics\r\n",
        "print(\"Accuracy: {}\".format(qda.score(X_val, y_val)))\r\n",
        "print(classification_report(y_val, y_pred))\r\n",
        "print(\"F1: {}\".format(f1_score(y_val, y_pred)))"
      ],
      "execution_count": 27,
      "outputs": [
        {
          "output_type": "stream",
          "text": [
            "Accuracy: 0.5727272727272728\n",
            "              precision    recall  f1-score   support\n",
            "\n",
            "           0       0.68      0.68      0.68       146\n",
            "           1       0.36      0.35      0.36        74\n",
            "\n",
            "    accuracy                           0.57       220\n",
            "   macro avg       0.52      0.52      0.52       220\n",
            "weighted avg       0.57      0.57      0.57       220\n",
            "\n",
            "F1: 0.3561643835616438\n"
          ],
          "name": "stdout"
        },
        {
          "output_type": "stream",
          "text": [
            "/usr/local/lib/python3.6/dist-packages/sklearn/discriminant_analysis.py:691: UserWarning: Variables are collinear\n",
            "  warnings.warn(\"Variables are collinear\")\n"
          ],
          "name": "stderr"
        }
      ]
    },
    {
      "cell_type": "code",
      "metadata": {
        "colab": {
          "base_uri": "https://localhost:8080/"
        },
        "id": "hv_CMLNaQ3eV",
        "outputId": "927d7b32-607c-4d58-b7dd-b0a13c830035"
      },
      "source": [
        "cross_val_score(qda, X, y, scoring=\"f1_micro\")"
      ],
      "execution_count": null,
      "outputs": [
        {
          "output_type": "stream",
          "text": [
            "/usr/local/lib/python3.6/dist-packages/sklearn/discriminant_analysis.py:691: UserWarning: Variables are collinear\n",
            "  warnings.warn(\"Variables are collinear\")\n",
            "/usr/local/lib/python3.6/dist-packages/sklearn/discriminant_analysis.py:691: UserWarning: Variables are collinear\n",
            "  warnings.warn(\"Variables are collinear\")\n",
            "/usr/local/lib/python3.6/dist-packages/sklearn/discriminant_analysis.py:691: UserWarning: Variables are collinear\n",
            "  warnings.warn(\"Variables are collinear\")\n"
          ],
          "name": "stderr"
        },
        {
          "output_type": "execute_result",
          "data": {
            "text/plain": [
              "array([0.46590909, 0.54545455, 0.53409091, 0.31034483, 0.49425287])"
            ]
          },
          "metadata": {
            "tags": []
          },
          "execution_count": 19
        }
      ]
    },
    {
      "cell_type": "code",
      "metadata": {
        "colab": {
          "base_uri": "https://localhost:8080/"
        },
        "id": "e8T0RoQtQ5my",
        "outputId": "127ded9c-e8ba-4bcd-8442-26b75ab6b5ec"
      },
      "source": [
        "cross_val_score(qda, X, y, scoring=\"f1_macro\")"
      ],
      "execution_count": null,
      "outputs": [
        {
          "output_type": "stream",
          "text": [
            "/usr/local/lib/python3.6/dist-packages/sklearn/discriminant_analysis.py:691: UserWarning: Variables are collinear\n",
            "  warnings.warn(\"Variables are collinear\")\n",
            "/usr/local/lib/python3.6/dist-packages/sklearn/discriminant_analysis.py:691: UserWarning: Variables are collinear\n",
            "  warnings.warn(\"Variables are collinear\")\n",
            "/usr/local/lib/python3.6/dist-packages/sklearn/discriminant_analysis.py:691: UserWarning: Variables are collinear\n",
            "  warnings.warn(\"Variables are collinear\")\n"
          ],
          "name": "stderr"
        },
        {
          "output_type": "execute_result",
          "data": {
            "text/plain": [
              "array([0.42674983, 0.4656952 , 0.48567356, 0.30288462, 0.42070218])"
            ]
          },
          "metadata": {
            "tags": []
          },
          "execution_count": 20
        }
      ]
    },
    {
      "cell_type": "code",
      "metadata": {
        "colab": {
          "base_uri": "https://localhost:8080/"
        },
        "id": "LETFv_pcRIKD",
        "outputId": "512f2b0c-61e7-4442-c48a-ab46257b1e50"
      },
      "source": [
        "cross_val_score(qda, X, y, scoring=\"accuracy\")"
      ],
      "execution_count": null,
      "outputs": [
        {
          "output_type": "stream",
          "text": [
            "/usr/local/lib/python3.6/dist-packages/sklearn/discriminant_analysis.py:691: UserWarning: Variables are collinear\n",
            "  warnings.warn(\"Variables are collinear\")\n",
            "/usr/local/lib/python3.6/dist-packages/sklearn/discriminant_analysis.py:691: UserWarning: Variables are collinear\n",
            "  warnings.warn(\"Variables are collinear\")\n",
            "/usr/local/lib/python3.6/dist-packages/sklearn/discriminant_analysis.py:691: UserWarning: Variables are collinear\n",
            "  warnings.warn(\"Variables are collinear\")\n"
          ],
          "name": "stderr"
        },
        {
          "output_type": "execute_result",
          "data": {
            "text/plain": [
              "array([0.46590909, 0.54545455, 0.53409091, 0.31034483, 0.49425287])"
            ]
          },
          "metadata": {
            "tags": []
          },
          "execution_count": 21
        }
      ]
    },
    {
      "cell_type": "code",
      "metadata": {
        "colab": {
          "base_uri": "https://localhost:8080/"
        },
        "id": "CW2njYCCrvqp",
        "outputId": "4db71811-e9b8-4823-bfd0-a99a43e123a2"
      },
      "source": [
        "from sklearn.linear_model import LogisticRegression, SGDClassifier\r\n",
        "clf = SGDClassifier(loss=\"log\", n_jobs=-1, alpha=0.0001, class_weight='balanced', random_state=0)\r\n",
        "clf.fit(X_train, y_train)\r\n",
        "y_pred = clf.predict(X_test)\r\n",
        "\r\n",
        "# Compute and print metrics\r\n",
        "print(\"Accuracy: {}\".format(clf.score(X_test, y_test)))\r\n",
        "print(classification_report(y_test, y_pred))\r\n",
        "print(\"F1: {}\".format(f1_score(y_test, y_pred)))"
      ],
      "execution_count": 29,
      "outputs": [
        {
          "output_type": "stream",
          "text": [
            "Accuracy: 0.5\n",
            "              precision    recall  f1-score   support\n",
            "\n",
            "           0       0.70      0.40      0.51        57\n",
            "           1       0.38      0.68      0.49        31\n",
            "\n",
            "    accuracy                           0.50        88\n",
            "   macro avg       0.54      0.54      0.50        88\n",
            "weighted avg       0.59      0.50      0.50        88\n",
            "\n",
            "F1: 0.4883720930232559\n"
          ],
          "name": "stdout"
        }
      ]
    },
    {
      "cell_type": "code",
      "metadata": {
        "colab": {
          "base_uri": "https://localhost:8080/"
        },
        "id": "G0M0O5jxclMY",
        "outputId": "60ee012a-f697-4645-933d-ee87997b974b"
      },
      "source": [
        "clf.fit(X, y)\r\n",
        "y_pred = clf.predict(X_val)\r\n",
        "\r\n",
        "# Compute and print metrics\r\n",
        "print(\"Accuracy: {}\".format(clf.score(X_val, y_val)))\r\n",
        "print(classification_report(y_val, y_pred))\r\n",
        "print(\"F1: {}\".format(f1_score(y_val, y_pred)))"
      ],
      "execution_count": 30,
      "outputs": [
        {
          "output_type": "stream",
          "text": [
            "Accuracy: 0.6727272727272727\n",
            "              precision    recall  f1-score   support\n",
            "\n",
            "           0       0.70      0.89      0.78       146\n",
            "           1       0.53      0.24      0.33        74\n",
            "\n",
            "    accuracy                           0.67       220\n",
            "   macro avg       0.61      0.57      0.56       220\n",
            "weighted avg       0.64      0.67      0.63       220\n",
            "\n",
            "F1: 0.33333333333333337\n"
          ],
          "name": "stdout"
        }
      ]
    },
    {
      "cell_type": "code",
      "metadata": {
        "colab": {
          "base_uri": "https://localhost:8080/",
          "height": 854
        },
        "id": "kuYM19d1sbRb",
        "outputId": "6707ca22-f8be-4edd-dbc6-023a497c0181"
      },
      "source": [
        "eli5.show_weights(clf, top=45, feature_names=vectorizer.get_feature_names(), target_names = {0:'non-entailment', 1:'entailment'} )"
      ],
      "execution_count": null,
      "outputs": [
        {
          "output_type": "execute_result",
          "data": {
            "text/html": [
              "\n",
              "    <style>\n",
              "    table.eli5-weights tr:hover {\n",
              "        filter: brightness(85%);\n",
              "    }\n",
              "</style>\n",
              "\n",
              "\n",
              "\n",
              "    \n",
              "\n",
              "    \n",
              "\n",
              "    \n",
              "\n",
              "    \n",
              "\n",
              "    \n",
              "\n",
              "    \n",
              "\n",
              "\n",
              "    \n",
              "\n",
              "    \n",
              "\n",
              "    \n",
              "\n",
              "    \n",
              "        \n",
              "\n",
              "    \n",
              "\n",
              "        \n",
              "            \n",
              "                \n",
              "                \n",
              "    \n",
              "        <p style=\"margin-bottom: 0.5em; margin-top: 0em\">\n",
              "            <b>\n",
              "    \n",
              "        y=entailment\n",
              "    \n",
              "</b>\n",
              "\n",
              "top features\n",
              "        </p>\n",
              "    \n",
              "    <table class=\"eli5-weights\"\n",
              "           style=\"border-collapse: collapse; border: none; margin-top: 0em; table-layout: auto; margin-bottom: 2em;\">\n",
              "        <thead>\n",
              "        <tr style=\"border: none;\">\n",
              "            \n",
              "                <th style=\"padding: 0 1em 0 0.5em; text-align: right; border: none;\" title=\"Feature weights. Note that weights do not account for feature value scales, so if feature values have different scales, features with highest weights might not be the most important.\">\n",
              "                    Weight<sup>?</sup>\n",
              "                </th>\n",
              "            \n",
              "            <th style=\"padding: 0 0.5em 0 0.5em; text-align: left; border: none;\">Feature</th>\n",
              "            \n",
              "        </tr>\n",
              "        </thead>\n",
              "        <tbody>\n",
              "        \n",
              "            <tr style=\"background-color: hsl(120, 100.00%, 86.39%); border: none;\">\n",
              "    <td style=\"padding: 0 1em 0 0.5em; text-align: right; border: none;\">\n",
              "        +2.070\n",
              "    </td>\n",
              "    <td style=\"padding: 0 0.5em 0 0.5em; text-align: left; border: none;\">\n",
              "        как\n",
              "    </td>\n",
              "    \n",
              "</tr>\n",
              "        \n",
              "            <tr style=\"background-color: hsl(120, 100.00%, 89.78%); border: none;\">\n",
              "    <td style=\"padding: 0 1em 0 0.5em; text-align: right; border: none;\">\n",
              "        +1.374\n",
              "    </td>\n",
              "    <td style=\"padding: 0 0.5em 0 0.5em; text-align: left; border: none;\">\n",
              "        так\n",
              "    </td>\n",
              "    \n",
              "</tr>\n",
              "        \n",
              "            <tr style=\"background-color: hsl(120, 100.00%, 90.13%); border: none;\">\n",
              "    <td style=\"padding: 0 1em 0 0.5em; text-align: right; border: none;\">\n",
              "        +1.307\n",
              "    </td>\n",
              "    <td style=\"padding: 0 0.5em 0 0.5em; text-align: left; border: none;\">\n",
              "        были\n",
              "    </td>\n",
              "    \n",
              "</tr>\n",
              "        \n",
              "            <tr style=\"background-color: hsl(120, 100.00%, 91.82%); border: none;\">\n",
              "    <td style=\"padding: 0 1em 0 0.5em; text-align: right; border: none;\">\n",
              "        +1.000\n",
              "    </td>\n",
              "    <td style=\"padding: 0 0.5em 0 0.5em; text-align: left; border: none;\">\n",
              "        нужно\n",
              "    </td>\n",
              "    \n",
              "</tr>\n",
              "        \n",
              "            <tr style=\"background-color: hsl(120, 100.00%, 91.87%); border: none;\">\n",
              "    <td style=\"padding: 0 1em 0 0.5em; text-align: right; border: none;\">\n",
              "        +0.992\n",
              "    </td>\n",
              "    <td style=\"padding: 0 0.5em 0 0.5em; text-align: left; border: none;\">\n",
              "        из\n",
              "    </td>\n",
              "    \n",
              "</tr>\n",
              "        \n",
              "            <tr style=\"background-color: hsl(120, 100.00%, 92.61%); border: none;\">\n",
              "    <td style=\"padding: 0 1em 0 0.5em; text-align: right; border: none;\">\n",
              "        +0.865\n",
              "    </td>\n",
              "    <td style=\"padding: 0 0.5em 0 0.5em; text-align: left; border: none;\">\n",
              "        что\n",
              "    </td>\n",
              "    \n",
              "</tr>\n",
              "        \n",
              "            <tr style=\"background-color: hsl(120, 100.00%, 94.64%); border: none;\">\n",
              "    <td style=\"padding: 0 1em 0 0.5em; text-align: right; border: none;\">\n",
              "        +0.547\n",
              "    </td>\n",
              "    <td style=\"padding: 0 0.5em 0 0.5em; text-align: left; border: none;\">\n",
              "        было\n",
              "    </td>\n",
              "    \n",
              "</tr>\n",
              "        \n",
              "            <tr style=\"background-color: hsl(120, 100.00%, 94.67%); border: none;\">\n",
              "    <td style=\"padding: 0 1em 0 0.5em; text-align: right; border: none;\">\n",
              "        +0.542\n",
              "    </td>\n",
              "    <td style=\"padding: 0 0.5em 0 0.5em; text-align: left; border: none;\">\n",
              "        его\n",
              "    </td>\n",
              "    \n",
              "</tr>\n",
              "        \n",
              "            <tr style=\"background-color: hsl(120, 100.00%, 94.80%); border: none;\">\n",
              "    <td style=\"padding: 0 1em 0 0.5em; text-align: right; border: none;\">\n",
              "        +0.523\n",
              "    </td>\n",
              "    <td style=\"padding: 0 0.5em 0 0.5em; text-align: left; border: none;\">\n",
              "        по\n",
              "    </td>\n",
              "    \n",
              "</tr>\n",
              "        \n",
              "            <tr style=\"background-color: hsl(120, 100.00%, 95.34%); border: none;\">\n",
              "    <td style=\"padding: 0 1em 0 0.5em; text-align: right; border: none;\">\n",
              "        +0.447\n",
              "    </td>\n",
              "    <td style=\"padding: 0 0.5em 0 0.5em; text-align: left; border: none;\">\n",
              "        только\n",
              "    </td>\n",
              "    \n",
              "</tr>\n",
              "        \n",
              "            <tr style=\"background-color: hsl(120, 100.00%, 95.45%); border: none;\">\n",
              "    <td style=\"padding: 0 1em 0 0.5em; text-align: right; border: none;\">\n",
              "        +0.433\n",
              "    </td>\n",
              "    <td style=\"padding: 0 0.5em 0 0.5em; text-align: left; border: none;\">\n",
              "        мужчина\n",
              "    </td>\n",
              "    \n",
              "</tr>\n",
              "        \n",
              "            <tr style=\"background-color: hsl(120, 100.00%, 95.52%); border: none;\">\n",
              "    <td style=\"padding: 0 1em 0 0.5em; text-align: right; border: none;\">\n",
              "        +0.423\n",
              "    </td>\n",
              "    <td style=\"padding: 0 0.5em 0 0.5em; text-align: left; border: none;\">\n",
              "        можно\n",
              "    </td>\n",
              "    \n",
              "</tr>\n",
              "        \n",
              "            <tr style=\"background-color: hsl(120, 100.00%, 95.66%); border: none;\">\n",
              "    <td style=\"padding: 0 1em 0 0.5em; text-align: right; border: none;\">\n",
              "        +0.405\n",
              "    </td>\n",
              "    <td style=\"padding: 0 0.5em 0 0.5em; text-align: left; border: none;\">\n",
              "        ты\n",
              "    </td>\n",
              "    \n",
              "</tr>\n",
              "        \n",
              "            <tr style=\"background-color: hsl(120, 100.00%, 95.69%); border: none;\">\n",
              "    <td style=\"padding: 0 1em 0 0.5em; text-align: right; border: none;\">\n",
              "        +0.400\n",
              "    </td>\n",
              "    <td style=\"padding: 0 0.5em 0 0.5em; text-align: left; border: none;\">\n",
              "        виноват\n",
              "    </td>\n",
              "    \n",
              "</tr>\n",
              "        \n",
              "            <tr style=\"background-color: hsl(120, 100.00%, 95.93%); border: none;\">\n",
              "    <td style=\"padding: 0 1em 0 0.5em; text-align: right; border: none;\">\n",
              "        +0.369\n",
              "    </td>\n",
              "    <td style=\"padding: 0 0.5em 0 0.5em; text-align: left; border: none;\">\n",
              "        на\n",
              "    </td>\n",
              "    \n",
              "</tr>\n",
              "        \n",
              "            <tr style=\"background-color: hsl(120, 100.00%, 95.99%); border: none;\">\n",
              "    <td style=\"padding: 0 1em 0 0.5em; text-align: right; border: none;\">\n",
              "        +0.361\n",
              "    </td>\n",
              "    <td style=\"padding: 0 0.5em 0 0.5em; text-align: left; border: none;\">\n",
              "        для\n",
              "    </td>\n",
              "    \n",
              "</tr>\n",
              "        \n",
              "            <tr style=\"background-color: hsl(120, 100.00%, 96.09%); border: none;\">\n",
              "    <td style=\"padding: 0 1em 0 0.5em; text-align: right; border: none;\">\n",
              "        +0.348\n",
              "    </td>\n",
              "    <td style=\"padding: 0 0.5em 0 0.5em; text-align: left; border: none;\">\n",
              "        тебя\n",
              "    </td>\n",
              "    \n",
              "</tr>\n",
              "        \n",
              "            <tr style=\"background-color: hsl(120, 100.00%, 98.72%); border: none;\">\n",
              "    <td style=\"padding: 0 1em 0 0.5em; text-align: right; border: none;\">\n",
              "        +0.071\n",
              "    </td>\n",
              "    <td style=\"padding: 0 0.5em 0 0.5em; text-align: left; border: none;\">\n",
              "        вы\n",
              "    </td>\n",
              "    \n",
              "</tr>\n",
              "        \n",
              "            <tr style=\"background-color: hsl(120, 100.00%, 98.93%); border: none;\">\n",
              "    <td style=\"padding: 0 1em 0 0.5em; text-align: right; border: none;\">\n",
              "        +0.055\n",
              "    </td>\n",
              "    <td style=\"padding: 0 0.5em 0 0.5em; text-align: left; border: none;\">\n",
              "        за\n",
              "    </td>\n",
              "    \n",
              "</tr>\n",
              "        \n",
              "            <tr style=\"background-color: hsl(120, 100.00%, 99.62%); border: none;\">\n",
              "    <td style=\"padding: 0 1em 0 0.5em; text-align: right; border: none;\">\n",
              "        +0.013\n",
              "    </td>\n",
              "    <td style=\"padding: 0 0.5em 0 0.5em; text-align: left; border: none;\">\n",
              "        &lt;BIAS&gt;\n",
              "    </td>\n",
              "    \n",
              "</tr>\n",
              "        \n",
              "        \n",
              "\n",
              "        \n",
              "        \n",
              "            <tr style=\"background-color: hsl(0, 100.00%, 98.48%); border: none;\">\n",
              "    <td style=\"padding: 0 1em 0 0.5em; text-align: right; border: none;\">\n",
              "        -0.090\n",
              "    </td>\n",
              "    <td style=\"padding: 0 0.5em 0 0.5em; text-align: left; border: none;\">\n",
              "        он\n",
              "    </td>\n",
              "    \n",
              "</tr>\n",
              "        \n",
              "            <tr style=\"background-color: hsl(0, 100.00%, 98.43%); border: none;\">\n",
              "    <td style=\"padding: 0 1em 0 0.5em; text-align: right; border: none;\">\n",
              "        -0.095\n",
              "    </td>\n",
              "    <td style=\"padding: 0 0.5em 0 0.5em; text-align: left; border: none;\">\n",
              "        их\n",
              "    </td>\n",
              "    \n",
              "</tr>\n",
              "        \n",
              "            <tr style=\"background-color: hsl(0, 100.00%, 97.99%); border: none;\">\n",
              "    <td style=\"padding: 0 1em 0 0.5em; text-align: right; border: none;\">\n",
              "        -0.134\n",
              "    </td>\n",
              "    <td style=\"padding: 0 0.5em 0 0.5em; text-align: left; border: none;\">\n",
              "        был\n",
              "    </td>\n",
              "    \n",
              "</tr>\n",
              "        \n",
              "            <tr style=\"background-color: hsl(0, 100.00%, 97.42%); border: none;\">\n",
              "    <td style=\"padding: 0 1em 0 0.5em; text-align: right; border: none;\">\n",
              "        -0.192\n",
              "    </td>\n",
              "    <td style=\"padding: 0 0.5em 0 0.5em; text-align: left; border: none;\">\n",
              "        ее\n",
              "    </td>\n",
              "    \n",
              "</tr>\n",
              "        \n",
              "            <tr style=\"background-color: hsl(0, 100.00%, 97.42%); border: none;\">\n",
              "    <td style=\"padding: 0 1em 0 0.5em; text-align: right; border: none;\">\n",
              "        -0.193\n",
              "    </td>\n",
              "    <td style=\"padding: 0 0.5em 0 0.5em; text-align: left; border: none;\">\n",
              "        не\n",
              "    </td>\n",
              "    \n",
              "</tr>\n",
              "        \n",
              "            <tr style=\"background-color: hsl(0, 100.00%, 96.63%); border: none;\">\n",
              "    <td style=\"padding: 0 1em 0 0.5em; text-align: right; border: none;\">\n",
              "        -0.281\n",
              "    </td>\n",
              "    <td style=\"padding: 0 0.5em 0 0.5em; text-align: left; border: none;\">\n",
              "        когда\n",
              "    </td>\n",
              "    \n",
              "</tr>\n",
              "        \n",
              "            <tr style=\"background-color: hsl(0, 100.00%, 96.37%); border: none;\">\n",
              "    <td style=\"padding: 0 1em 0 0.5em; text-align: right; border: none;\">\n",
              "        -0.313\n",
              "    </td>\n",
              "    <td style=\"padding: 0 0.5em 0 0.5em; text-align: left; border: none;\">\n",
              "        будет\n",
              "    </td>\n",
              "    \n",
              "</tr>\n",
              "        \n",
              "            <tr style=\"background-color: hsl(0, 100.00%, 96.01%); border: none;\">\n",
              "    <td style=\"padding: 0 1em 0 0.5em; text-align: right; border: none;\">\n",
              "        -0.358\n",
              "    </td>\n",
              "    <td style=\"padding: 0 0.5em 0 0.5em; text-align: left; border: none;\">\n",
              "        она\n",
              "    </td>\n",
              "    \n",
              "</tr>\n",
              "        \n",
              "            <tr style=\"background-color: hsl(0, 100.00%, 95.96%); border: none;\">\n",
              "    <td style=\"padding: 0 1em 0 0.5em; text-align: right; border: none;\">\n",
              "        -0.365\n",
              "    </td>\n",
              "    <td style=\"padding: 0 0.5em 0 0.5em; text-align: left; border: none;\">\n",
              "        мы\n",
              "    </td>\n",
              "    \n",
              "</tr>\n",
              "        \n",
              "            <tr style=\"background-color: hsl(0, 100.00%, 95.62%); border: none;\">\n",
              "    <td style=\"padding: 0 1em 0 0.5em; text-align: right; border: none;\">\n",
              "        -0.410\n",
              "    </td>\n",
              "    <td style=\"padding: 0 0.5em 0 0.5em; text-align: left; border: none;\">\n",
              "        это\n",
              "    </td>\n",
              "    \n",
              "</tr>\n",
              "        \n",
              "            <tr style=\"background-color: hsl(0, 100.00%, 94.79%); border: none;\">\n",
              "    <td style=\"padding: 0 1em 0 0.5em; text-align: right; border: none;\">\n",
              "        -0.525\n",
              "    </td>\n",
              "    <td style=\"padding: 0 0.5em 0 0.5em; text-align: left; border: none;\">\n",
              "        наши\n",
              "    </td>\n",
              "    \n",
              "</tr>\n",
              "        \n",
              "            <tr style=\"background-color: hsl(0, 100.00%, 94.20%); border: none;\">\n",
              "    <td style=\"padding: 0 1em 0 0.5em; text-align: right; border: none;\">\n",
              "        -0.611\n",
              "    </td>\n",
              "    <td style=\"padding: 0 0.5em 0 0.5em; text-align: left; border: none;\">\n",
              "        время\n",
              "    </td>\n",
              "    \n",
              "</tr>\n",
              "        \n",
              "            <tr style=\"background-color: hsl(0, 100.00%, 93.72%); border: none;\">\n",
              "    <td style=\"padding: 0 1em 0 0.5em; text-align: right; border: none;\">\n",
              "        -0.685\n",
              "    </td>\n",
              "    <td style=\"padding: 0 0.5em 0 0.5em; text-align: left; border: none;\">\n",
              "        меня\n",
              "    </td>\n",
              "    \n",
              "</tr>\n",
              "        \n",
              "            <tr style=\"background-color: hsl(0, 100.00%, 93.69%); border: none;\">\n",
              "    <td style=\"padding: 0 1em 0 0.5em; text-align: right; border: none;\">\n",
              "        -0.690\n",
              "    </td>\n",
              "    <td style=\"padding: 0 0.5em 0 0.5em; text-align: left; border: none;\">\n",
              "        есть\n",
              "    </td>\n",
              "    \n",
              "</tr>\n",
              "        \n",
              "            <tr style=\"background-color: hsl(0, 100.00%, 93.37%); border: none;\">\n",
              "    <td style=\"padding: 0 1em 0 0.5em; text-align: right; border: none;\">\n",
              "        -0.741\n",
              "    </td>\n",
              "    <td style=\"padding: 0 0.5em 0 0.5em; text-align: left; border: none;\">\n",
              "        все\n",
              "    </td>\n",
              "    \n",
              "</tr>\n",
              "        \n",
              "            <tr style=\"background-color: hsl(0, 100.00%, 93.14%); border: none;\">\n",
              "    <td style=\"padding: 0 1em 0 0.5em; text-align: right; border: none;\">\n",
              "        -0.778\n",
              "    </td>\n",
              "    <td style=\"padding: 0 0.5em 0 0.5em; text-align: left; border: none;\">\n",
              "        нас\n",
              "    </td>\n",
              "    \n",
              "</tr>\n",
              "        \n",
              "            <tr style=\"background-color: hsl(0, 100.00%, 93.11%); border: none;\">\n",
              "    <td style=\"padding: 0 1em 0 0.5em; text-align: right; border: none;\">\n",
              "        -0.783\n",
              "    </td>\n",
              "    <td style=\"padding: 0 0.5em 0 0.5em; text-align: left; border: none;\">\n",
              "        то\n",
              "    </td>\n",
              "    \n",
              "</tr>\n",
              "        \n",
              "            <tr style=\"background-color: hsl(0, 100.00%, 92.92%); border: none;\">\n",
              "    <td style=\"padding: 0 1em 0 0.5em; text-align: right; border: none;\">\n",
              "        -0.814\n",
              "    </td>\n",
              "    <td style=\"padding: 0 0.5em 0 0.5em; text-align: left; border: none;\">\n",
              "        была\n",
              "    </td>\n",
              "    \n",
              "</tr>\n",
              "        \n",
              "            <tr style=\"background-color: hsl(0, 100.00%, 88.51%); border: none;\">\n",
              "    <td style=\"padding: 0 1em 0 0.5em; text-align: right; border: none;\">\n",
              "        -1.625\n",
              "    </td>\n",
              "    <td style=\"padding: 0 0.5em 0 0.5em; text-align: left; border: none;\">\n",
              "        себя\n",
              "    </td>\n",
              "    \n",
              "</tr>\n",
              "        \n",
              "            <tr style=\"background-color: hsl(0, 100.00%, 87.19%); border: none;\">\n",
              "    <td style=\"padding: 0 1em 0 0.5em; text-align: right; border: none;\">\n",
              "        -1.898\n",
              "    </td>\n",
              "    <td style=\"padding: 0 0.5em 0 0.5em; text-align: left; border: none;\">\n",
              "        они\n",
              "    </td>\n",
              "    \n",
              "</tr>\n",
              "        \n",
              "            <tr style=\"background-color: hsl(0, 100.00%, 86.19%); border: none;\">\n",
              "    <td style=\"padding: 0 1em 0 0.5em; text-align: right; border: none;\">\n",
              "        -2.113\n",
              "    </td>\n",
              "    <td style=\"padding: 0 0.5em 0 0.5em; text-align: left; border: none;\">\n",
              "        надо\n",
              "    </td>\n",
              "    \n",
              "</tr>\n",
              "        \n",
              "            <tr style=\"background-color: hsl(0, 100.00%, 85.29%); border: none;\">\n",
              "    <td style=\"padding: 0 1em 0 0.5em; text-align: right; border: none;\">\n",
              "        -2.312\n",
              "    </td>\n",
              "    <td style=\"padding: 0 0.5em 0 0.5em; text-align: left; border: none;\">\n",
              "        мне\n",
              "    </td>\n",
              "    \n",
              "</tr>\n",
              "        \n",
              "            <tr style=\"background-color: hsl(0, 100.00%, 82.48%); border: none;\">\n",
              "    <td style=\"padding: 0 1em 0 0.5em; text-align: right; border: none;\">\n",
              "        -2.969\n",
              "    </td>\n",
              "    <td style=\"padding: 0 0.5em 0 0.5em; text-align: left; border: none;\">\n",
              "        уже\n",
              "    </td>\n",
              "    \n",
              "</tr>\n",
              "        \n",
              "            <tr style=\"background-color: hsl(0, 100.00%, 80.00%); border: none;\">\n",
              "    <td style=\"padding: 0 1em 0 0.5em; text-align: right; border: none;\">\n",
              "        -3.586\n",
              "    </td>\n",
              "    <td style=\"padding: 0 0.5em 0 0.5em; text-align: left; border: none;\">\n",
              "        от\n",
              "    </td>\n",
              "    \n",
              "</tr>\n",
              "        \n",
              "\n",
              "        </tbody>\n",
              "    </table>\n",
              "\n",
              "            \n",
              "        \n",
              "\n",
              "        \n",
              "\n",
              "\n",
              "\n",
              "    \n",
              "\n",
              "    \n",
              "\n",
              "    \n",
              "\n",
              "    \n",
              "\n",
              "\n",
              "    \n",
              "\n",
              "    \n",
              "\n",
              "    \n",
              "\n",
              "    \n",
              "\n",
              "    \n",
              "\n",
              "    \n",
              "\n",
              "\n",
              "    \n",
              "\n",
              "    \n",
              "\n",
              "    \n",
              "\n",
              "    \n",
              "\n",
              "    \n",
              "\n",
              "    \n",
              "\n",
              "\n",
              "\n"
            ],
            "text/plain": [
              "<IPython.core.display.HTML object>"
            ]
          },
          "metadata": {
            "tags": []
          },
          "execution_count": 26
        }
      ]
    },
    {
      "cell_type": "markdown",
      "metadata": {
        "id": "QzJMzqL9RavS"
      },
      "source": [
        "# Frequency experiments"
      ]
    },
    {
      "cell_type": "code",
      "metadata": {
        "id": "EWCz5Zt_Rjzl"
      },
      "source": [
        "!pip install pymorphy2 "
      ],
      "execution_count": null,
      "outputs": []
    },
    {
      "cell_type": "code",
      "metadata": {
        "id": "2orz5FHnQ2mH"
      },
      "source": [
        "import pymorphy2\n",
        "import re\n",
        "from pymorphy2 import MorphAnalyzer\n",
        "from functools import lru_cache\n",
        "import nltk\n",
        "m = MorphAnalyzer()\n",
        "from collections import Counter\n",
        "\n",
        "rg = re.compile(\"[А-Яа-яA-z]+\")\n",
        "\n",
        "def words_only(text, rg=rg):\n",
        "    try:\n",
        "        return rg.findall(text.lower())\n",
        "    except:\n",
        "        return []\n",
        "\n",
        "@lru_cache(maxsize=128)\n",
        "def lemmatize_word(token, pymorphy=m):\n",
        "    return pymorphy.parse(token)[0].normal_form\n",
        "\n",
        "def lemmatize_text(text):\n",
        "    return [lemmatize_word(w) for w in text]\n",
        "\n",
        "def clean_text(text):\n",
        "    tokens = words_only(text)\n",
        "    lemmas = lemmatize_text(tokens)  \n",
        "    return lemmas\n",
        "\n",
        "def freq_dist(frame):\n",
        "  words = frame.values.tolist()\n",
        "  flatList = [item for elem in words for item in elem]\n",
        "  freq = Counter()\n",
        "  for x in flatList:\n",
        "    freq.update(x)\n",
        "  return freq"
      ],
      "execution_count": null,
      "outputs": []
    },
    {
      "cell_type": "code",
      "metadata": {
        "id": "ijTRUg_OQ-7H"
      },
      "source": [
        "new_words = []\n",
        "for i in range(len(df.premise)):\n",
        "    new_words.append(clean_text(df.premise[i]))"
      ],
      "execution_count": null,
      "outputs": []
    },
    {
      "cell_type": "code",
      "metadata": {
        "id": "0He-OjhBRDrI"
      },
      "source": [
        "df_freq = pd.DataFrame({'new': new_words, 'label': df.label})\n",
        "df_freq_ent = df_freq[(df_freq['label']== 'entailment')].drop('label', axis = 1)\n",
        "df_freq_cont = df_freq[(df_freq['label']== 'contradiction')].drop('label', axis = 1)\n",
        "df_freq_non = df_freq[(df_freq['label']!= 'contradiction')].drop('label', axis = 1)   "
      ],
      "execution_count": null,
      "outputs": []
    },
    {
      "cell_type": "code",
      "metadata": {
        "id": "i6EkVS9Kb2vL"
      },
      "source": [
        "ent_count = freq_dist(df_freq_ent)\n",
        "non_ent_count = freq_dist(df_freq_non)\n",
        "\n",
        "a = set(freq_dist(df_freq_ent).keys())\n",
        "b = set(freq_dist(df_freq_non).keys())"
      ],
      "execution_count": null,
      "outputs": []
    },
    {
      "cell_type": "code",
      "metadata": {
        "id": "ZJMHmOJobqmb"
      },
      "source": [
        "#для лэйбла entailment нет таких слов, которых не было бы в других лэйблах\n",
        "left = []\n",
        "right = []\n",
        "non_ent = {}\n",
        "for x in (b-a):\n",
        "  non_ent[x] = non_ent_count[x]\n",
        "for w in sorted(non_ent, key=non_ent.get, reverse=True):\n",
        "  left.append(w)\n",
        "  right.append(non_ent[w])\n",
        "\n",
        "n_e = pd.DataFrame({'word': left, 'right': right})"
      ],
      "execution_count": null,
      "outputs": []
    },
    {
      "cell_type": "code",
      "metadata": {
        "id": "v1r4e2OTVguy"
      },
      "source": [
        "n_e.head(20)"
      ],
      "execution_count": null,
      "outputs": []
    },
    {
      "cell_type": "code",
      "metadata": {
        "id": "L4rcOQRri2CR"
      },
      "source": [
        "word = []\n",
        "count_plus = []\n",
        "count_minus = []\n",
        "for x in (a&b):\n",
        "  if ent_count[x] < non_ent_count[x] and (non_ent_count[x]-ent_count[x]) > 10:\n",
        "    word.append(x)\n",
        "    count_plus.append(ent_count[x])\n",
        "    count_minus.append(non_ent_count[x])\n",
        "\n",
        "n_e_union = pd.DataFrame({'word': word, 'ent': count_plus, 'non_ent': count_minus})"
      ],
      "execution_count": null,
      "outputs": []
    },
    {
      "cell_type": "code",
      "metadata": {
        "id": "GIKr11gHWQcC"
      },
      "source": [
        "n_e_union['std'] = n_e_union.non_ent - n_e_union.ent\n",
        "n = n_e_union.sort_values(by=['std'], ascending=False)\n",
        "n.head(10)"
      ],
      "execution_count": null,
      "outputs": []
    }
  ]
}