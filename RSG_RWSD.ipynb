{
  "nbformat": 4,
  "nbformat_minor": 0,
  "metadata": {
    "colab": {
      "name": "RSG_RWSD",
      "provenance": [],
      "collapsed_sections": [],
      "authorship_tag": "ABX9TyMfWlm3CB6b+mRNGvIJhOS+",
      "include_colab_link": true
    },
    "kernelspec": {
      "name": "python3",
      "display_name": "Python 3"
    }
  },
  "cells": [
    {
      "cell_type": "markdown",
      "metadata": {
        "id": "view-in-github",
        "colab_type": "text"
      },
      "source": [
        "<a href=\"https://colab.research.google.com/github/tatiana-iazykova/2020_HACK_RUSSIANSUPERGLUE/blob/main/RSG_RWSD.ipynb\" target=\"_parent\"><img src=\"https://colab.research.google.com/assets/colab-badge.svg\" alt=\"Open In Colab\"/></a>"
      ]
    },
    {
      "cell_type": "markdown",
      "metadata": {
        "id": "d4JcE9Kd_sSa"
      },
      "source": [
        "# Load Data"
      ]
    },
    {
      "cell_type": "code",
      "metadata": {
        "id": "RsL57-5kTLgJ"
      },
      "source": [
        "%%capture\r\n",
        "%%bash\r\n",
        "# change url if you want to work with a different RSG dataset\r\n",
        "wget -q --show-progress \"https://russiansuperglue.com/tasks/download/RWSD\" -O temp.zip\r\n",
        "unzip temp.zip -d data\r\n",
        "\r\n",
        "# remove unnecessary directories and files\r\n",
        "rm temp.zip\r\n",
        "rm -r data/__MACOSX\r\n",
        "rm -r sample_data/"
      ],
      "execution_count": 1,
      "outputs": []
    },
    {
      "cell_type": "code",
      "metadata": {
        "id": "o3UKQ7VuIyI0"
      },
      "source": [
        "# English counterpart of RWSD: The Winograd Schema Challenge\r\n",
        "%%capture\r\n",
        "%%bash\r\n",
        "# change url if you want to work with a different RSG dataset\r\n",
        "wget -q --show-progress \"https://dl.fbaipublicfiles.com/glue/superglue/data/v2/WSC.zip\" -O temp.zip\r\n",
        "unzip temp.zip -d data\r\n",
        "\r\n",
        "# remove unnecessary directories and files\r\n",
        "rm temp.zip"
      ],
      "execution_count": 2,
      "outputs": []
    },
    {
      "cell_type": "code",
      "metadata": {
        "id": "XAlP91w3_nBf"
      },
      "source": [
        "%%capture\r\n",
        "%%bash\r\n",
        "# add tree package for fancy directory display\r\n",
        "apt-get install tree"
      ],
      "execution_count": 3,
      "outputs": []
    },
    {
      "cell_type": "code",
      "metadata": {
        "colab": {
          "base_uri": "https://localhost:8080/"
        },
        "id": "avzmbfyO_q5G",
        "outputId": "b1ff44d5-cd96-4615-fae9-0a0c03862e10"
      },
      "source": [
        "# display the content of the folder\r\n",
        "!tree"
      ],
      "execution_count": 4,
      "outputs": [
        {
          "output_type": "stream",
          "text": [
            ".\n",
            "└── data\n",
            "    ├── RWSD\n",
            "    │   ├── test.jsonl\n",
            "    │   ├── train.jsonl\n",
            "    │   └── val.jsonl\n",
            "    └── WSC\n",
            "        ├── test.jsonl\n",
            "        ├── train.jsonl\n",
            "        └── val.jsonl\n",
            "\n",
            "3 directories, 6 files\n"
          ],
          "name": "stdout"
        }
      ]
    },
    {
      "cell_type": "code",
      "metadata": {
        "id": "GorSKv_7_xGB"
      },
      "source": [
        "import pandas as pd\r\n",
        "import json\r\n",
        "pd.set_option('display.max_colwidth', None)\r\n",
        "pd.set_option('display.max_rows', 80)\r\n",
        "\r\n",
        "class JSONL_handler():\r\n",
        "    \"\"\" opens a jsonl file and turns it into a necessary data structure \"\"\"\r\n",
        "    \r\n",
        "    def __init__(self, path):\r\n",
        "        self.path = path # path to jsonl file\r\n",
        "\r\n",
        "    def to_pandas(self):\r\n",
        "        \"\"\" get jsonl file content as a pandas DataFrame\"\"\"\r\n",
        "\r\n",
        "        data = self.read_jsonlines()\r\n",
        "\r\n",
        "        return pd.json_normalize(data).drop(columns=['idx'])\r\n",
        "\r\n",
        "    \r\n",
        "    def read_jsonlines(self):\r\n",
        "        \"\"\" yields json lines one by one \"\"\"\r\n",
        "        data = []\r\n",
        "        with open(self.path) as f:\r\n",
        "            for line in f:\r\n",
        "                data.append(json.loads(line))\r\n",
        "\r\n",
        "        return data"
      ],
      "execution_count": 13,
      "outputs": []
    },
    {
      "cell_type": "markdown",
      "metadata": {
        "id": "o2-doB00_24h"
      },
      "source": [
        "# Explore Train Data"
      ]
    },
    {
      "cell_type": "code",
      "metadata": {
        "id": "YzxJ2uJK_7Rn"
      },
      "source": [
        "handler = JSONL_handler('data/RWSD/train.jsonl')\r\n",
        "df = handler.to_pandas()\r\n",
        "handler_en = JSONL_handler('data/WCS/train.jsonl')\r\n",
        "df_en = handler.to_pandas()"
      ],
      "execution_count": 14,
      "outputs": []
    },
    {
      "cell_type": "code",
      "metadata": {
        "colab": {
          "base_uri": "https://localhost:8080/",
          "height": 279
        },
        "id": "h-cquA8dS39A",
        "outputId": "bcefcba8-62e2-44a2-dd82-80419fa494a4"
      },
      "source": [
        "df.head()"
      ],
      "execution_count": 15,
      "outputs": [
        {
          "output_type": "execute_result",
          "data": {
            "text/html": [
              "<div>\n",
              "<style scoped>\n",
              "    .dataframe tbody tr th:only-of-type {\n",
              "        vertical-align: middle;\n",
              "    }\n",
              "\n",
              "    .dataframe tbody tr th {\n",
              "        vertical-align: top;\n",
              "    }\n",
              "\n",
              "    .dataframe thead th {\n",
              "        text-align: right;\n",
              "    }\n",
              "</style>\n",
              "<table border=\"1\" class=\"dataframe\">\n",
              "  <thead>\n",
              "    <tr style=\"text-align: right;\">\n",
              "      <th></th>\n",
              "      <th>label</th>\n",
              "      <th>text</th>\n",
              "      <th>target.span1_text</th>\n",
              "      <th>target.span2_text</th>\n",
              "      <th>target.span1_index</th>\n",
              "      <th>target.span2_index</th>\n",
              "    </tr>\n",
              "  </thead>\n",
              "  <tbody>\n",
              "    <tr>\n",
              "      <th>0</th>\n",
              "      <td>True</td>\n",
              "      <td>Члены городского совета отказали организаторам митинга в разрешении, потому что они опасались насилия.</td>\n",
              "      <td>Члены городского совета</td>\n",
              "      <td>они опасались</td>\n",
              "      <td>0</td>\n",
              "      <td>10</td>\n",
              "    </tr>\n",
              "    <tr>\n",
              "      <th>1</th>\n",
              "      <td>False</td>\n",
              "      <td>Члены городского совета отказали организаторам митинга в разрешении, потому что они опасались насилия.</td>\n",
              "      <td>организаторам митинга</td>\n",
              "      <td>они опасались</td>\n",
              "      <td>4</td>\n",
              "      <td>10</td>\n",
              "    </tr>\n",
              "    <tr>\n",
              "      <th>2</th>\n",
              "      <td>False</td>\n",
              "      <td>Члены городского совета отказали организаторам митинга в разрешении, потому что они одобряли насилие.</td>\n",
              "      <td>Члены городского совета</td>\n",
              "      <td>они одобряли</td>\n",
              "      <td>0</td>\n",
              "      <td>10</td>\n",
              "    </tr>\n",
              "    <tr>\n",
              "      <th>3</th>\n",
              "      <td>True</td>\n",
              "      <td>Члены городского совета отказали организаторам митинга в разрешении, потому что они одобряли насилие.</td>\n",
              "      <td>организаторам митинга</td>\n",
              "      <td>они одобряли</td>\n",
              "      <td>4</td>\n",
              "      <td>10</td>\n",
              "    </tr>\n",
              "    <tr>\n",
              "      <th>4</th>\n",
              "      <td>True</td>\n",
              "      <td>Кубок не помещается в коричневый чемодан, потому что он слишком большой.</td>\n",
              "      <td>Кубок</td>\n",
              "      <td>он слишком большой</td>\n",
              "      <td>0</td>\n",
              "      <td>8</td>\n",
              "    </tr>\n",
              "  </tbody>\n",
              "</table>\n",
              "</div>"
            ],
            "text/plain": [
              "   label  ... target.span2_index\n",
              "0   True  ...                 10\n",
              "1  False  ...                 10\n",
              "2  False  ...                 10\n",
              "3   True  ...                 10\n",
              "4   True  ...                  8\n",
              "\n",
              "[5 rows x 6 columns]"
            ]
          },
          "metadata": {
            "tags": []
          },
          "execution_count": 15
        }
      ]
    },
    {
      "cell_type": "code",
      "metadata": {
        "id": "TlNc8eA1xDuz"
      },
      "source": [
        "import matplotlib.pyplot as plt"
      ],
      "execution_count": 16,
      "outputs": []
    },
    {
      "cell_type": "code",
      "metadata": {
        "id": "-eX9_XMHCvwK",
        "colab": {
          "base_uri": "https://localhost:8080/",
          "height": 613
        },
        "outputId": "4e1c379f-998a-4a99-96c6-bb4f04a5d48d"
      },
      "source": [
        "plt.title('Relative label distribution in RWSD\\n and corresponding SG dataset',\r\n",
        "          fontsize=14)\r\n",
        "plt.hist(x = [df['label'], df_en['label']],\r\n",
        "         color=[\"#9ddadc\", \"#e99aee\"],\r\n",
        "         label=['RSG','SG'], rwidth = 50) \r\n",
        "plt.legend(loc='best')\r\n",
        "plt.show()\r\n",
        "print()\r\n",
        "\r\n",
        "plt.subplot(1,2,1)\r\n",
        "colours = {'#9ddca6', '#f0afb6', '#eeb87c'}\r\n",
        "\r\n",
        "plt.title('Label distribution\\n in SG\\n', fontsize=14)\r\n",
        "plt.pie(df_en['label'].value_counts(), autopct=\"%.1f%%\",\r\n",
        "        explode=[0.05]*2, labels=df_en['label'].value_counts().keys(),\r\n",
        "        pctdistance=0.5, textprops = dict(fontsize = 12), colors=colours)\r\n",
        "\r\n",
        "plt.subplot(1,2,2)\r\n",
        "\r\n",
        "plt.title('Label distribution\\n in RSG\\n', fontsize=14)\r\n",
        "plt.pie(df['label'].value_counts(), autopct=\"%.1f%%\",\r\n",
        "        explode=[0.05]*2, labels=df['label'].value_counts().keys(),\r\n",
        "        pctdistance=0.5, textprops = dict(fontsize = 12), colors=colours)\r\n",
        "\r\n",
        "plt.tight_layout()\r\n",
        "plt.show()"
      ],
      "execution_count": 17,
      "outputs": [
        {
          "output_type": "stream",
          "text": [
            "<string>:6: RuntimeWarning: Converting input from bool to <class 'numpy.uint8'> for compatibility.\n",
            "<string>:6: RuntimeWarning: Converting input from bool to <class 'numpy.uint8'> for compatibility.\n"
          ],
          "name": "stderr"
        },
        {
          "output_type": "display_data",
          "data": {
            "image/png": "[encoded data removed]",
            "text/plain": [
              "<Figure size 432x288 with 1 Axes>"
            ]
          },
          "metadata": {
            "tags": [],
            "needs_background": "light"
          }
        },
        {
          "output_type": "stream",
          "text": [
            "\n"
          ],
          "name": "stdout"
        },
        {
          "output_type": "display_data",
          "data": {
            "image/png": "[encoded data removed]",
            "text/plain": [
              "<Figure size 432x288 with 2 Axes>"
            ]
          },
          "metadata": {
            "tags": []
          }
        }
      ]
    },
    {
      "cell_type": "markdown",
      "metadata": {
        "id": "tsmcz4QuKCkz"
      },
      "source": [
        "# Check if val data have similar label distributions"
      ]
    },
    {
      "cell_type": "code",
      "metadata": {
        "id": "-oTZ2fJjKBMI"
      },
      "source": [
        "val_handler = JSONL_handler('data/RWSD/val.jsonl')\r\n",
        "val_df = val_handler.to_pandas()\r\n",
        "val_handler_en = JSONL_handler('data/WSC/val.jsonl')\r\n",
        "val_df_en = val_handler_en.to_pandas()"
      ],
      "execution_count": 18,
      "outputs": []
    },
    {
      "cell_type": "code",
      "metadata": {
        "colab": {
          "base_uri": "https://localhost:8080/",
          "height": 666
        },
        "id": "YOwTXwW6KSCT",
        "outputId": "1203bf9a-5f73-4eaf-fbbf-c048574164b8"
      },
      "source": [
        "plt.title('Relative label distribution in LiDiRus\\n and corresponding SG dataset', fontsize=14)\r\n",
        "plt.hist(x = [val_df['label'], val_df_en['label']],\r\n",
        "         color=[\"#9ddadc\", \"#e99aee\"], label=['RSG','SG'], rwidth = 50) \r\n",
        "plt.legend(loc='best')\r\n",
        "plt.show()\r\n",
        "print()\r\n",
        "\r\n",
        "plt.subplot(1,2,1)\r\n",
        "colours = {'#9ddca6', '#f0afb6', '#eeb87c'}\r\n",
        "\r\n",
        "plt.title('Label distribution\\n in SG\\n', fontsize=14)\r\n",
        "plt.pie(val_df_en['label'].value_counts(),\r\n",
        "        autopct=\"%.1f%%\", explode=[0.05]*2,\r\n",
        "        labels=val_df_en['label'].value_counts().keys(),\r\n",
        "        pctdistance=0.5, textprops = dict(fontsize = 12), colors=colours)\r\n",
        "\r\n",
        "plt.subplot(1,2,2)\r\n",
        "\r\n",
        "plt.title('Label distribution\\n in RSG\\n', fontsize=14)\r\n",
        "plt.pie(val_df['label'].value_counts(),\r\n",
        "        autopct=\"%.1f%%\", explode=[0.05]*2,\r\n",
        "        labels=val_df['label'].value_counts().keys(),\r\n",
        "        pctdistance=0.5, textprops = dict(fontsize = 12), colors=colours)\r\n",
        "\r\n",
        "plt.tight_layout()\r\n",
        "plt.show()"
      ],
      "execution_count": 19,
      "outputs": [
        {
          "output_type": "stream",
          "text": [
            "/usr/local/lib/python3.6/dist-packages/numpy/core/_asarray.py:83: VisibleDeprecationWarning: Creating an ndarray from ragged nested sequences (which is a list-or-tuple of lists-or-tuples-or ndarrays with different lengths or shapes) is deprecated. If you meant to do this, you must specify 'dtype=object' when creating the ndarray\n",
            "  return array(a, dtype, copy=False, order=order)\n",
            "<string>:6: RuntimeWarning: Converting input from bool to <class 'numpy.uint8'> for compatibility.\n",
            "<string>:6: RuntimeWarning: Converting input from bool to <class 'numpy.uint8'> for compatibility.\n"
          ],
          "name": "stderr"
        },
        {
          "output_type": "display_data",
          "data": {
            "image/png": "[encoded data removed]",
            "text/plain": [
              "<Figure size 432x288 with 1 Axes>"
            ]
          },
          "metadata": {
            "tags": [],
            "needs_background": "light"
          }
        },
        {
          "output_type": "stream",
          "text": [
            "\n"
          ],
          "name": "stdout"
        },
        {
          "output_type": "display_data",
          "data": {
            "image/png": "[encoded data removed]",
            "text/plain": [
              "<Figure size 432x288 with 2 Axes>"
            ]
          },
          "metadata": {
            "tags": []
          }
        }
      ]
    },
    {
      "cell_type": "code",
      "metadata": {
        "colab": {
          "base_uri": "https://localhost:8080/",
          "height": 377
        },
        "id": "FZ7IG8RWMB5i",
        "outputId": "89a4e2e7-ca84-4eb2-8f14-9df00114768d"
      },
      "source": [
        "df.iloc[10:20]"
      ],
      "execution_count": 21,
      "outputs": [
        {
          "output_type": "execute_result",
          "data": {
            "text/html": [
              "<div>\n",
              "<style scoped>\n",
              "    .dataframe tbody tr th:only-of-type {\n",
              "        vertical-align: middle;\n",
              "    }\n",
              "\n",
              "    .dataframe tbody tr th {\n",
              "        vertical-align: top;\n",
              "    }\n",
              "\n",
              "    .dataframe thead th {\n",
              "        text-align: right;\n",
              "    }\n",
              "</style>\n",
              "<table border=\"1\" class=\"dataframe\">\n",
              "  <thead>\n",
              "    <tr style=\"text-align: right;\">\n",
              "      <th></th>\n",
              "      <th>label</th>\n",
              "      <th>text</th>\n",
              "      <th>target.span1_text</th>\n",
              "      <th>target.span2_text</th>\n",
              "      <th>target.span1_index</th>\n",
              "      <th>target.span2_index</th>\n",
              "    </tr>\n",
              "  </thead>\n",
              "  <tbody>\n",
              "    <tr>\n",
              "      <th>10</th>\n",
              "      <td>False</td>\n",
              "      <td>Женя поблагодарила Сашу за помощь, которую она оказала.</td>\n",
              "      <td>Женя</td>\n",
              "      <td>она оказала</td>\n",
              "      <td>0</td>\n",
              "      <td>6</td>\n",
              "    </tr>\n",
              "    <tr>\n",
              "      <th>11</th>\n",
              "      <td>True</td>\n",
              "      <td>Женя поблагодарила Сашу за помощь, которую она оказала.</td>\n",
              "      <td>Сашу</td>\n",
              "      <td>она оказала</td>\n",
              "      <td>2</td>\n",
              "      <td>6</td>\n",
              "    </tr>\n",
              "    <tr>\n",
              "      <th>12</th>\n",
              "      <td>True</td>\n",
              "      <td>Павел звонил Георгию по телефону, но он не дозвонился.</td>\n",
              "      <td>Павел</td>\n",
              "      <td>он не дозвонился</td>\n",
              "      <td>0</td>\n",
              "      <td>6</td>\n",
              "    </tr>\n",
              "    <tr>\n",
              "      <th>13</th>\n",
              "      <td>False</td>\n",
              "      <td>Павел звонил Георгию по телефону, но он не дозвонился.</td>\n",
              "      <td>Георгию</td>\n",
              "      <td>он не дозвонился</td>\n",
              "      <td>2</td>\n",
              "      <td>6</td>\n",
              "    </tr>\n",
              "    <tr>\n",
              "      <th>14</th>\n",
              "      <td>False</td>\n",
              "      <td>Павел звонил Георгию по телефону, но он не ответил.</td>\n",
              "      <td>Павел</td>\n",
              "      <td>он не ответил</td>\n",
              "      <td>0</td>\n",
              "      <td>6</td>\n",
              "    </tr>\n",
              "    <tr>\n",
              "      <th>15</th>\n",
              "      <td>True</td>\n",
              "      <td>Павел звонил Георгию по телефону, но он не ответил.</td>\n",
              "      <td>Георгию</td>\n",
              "      <td>он не ответил</td>\n",
              "      <td>2</td>\n",
              "      <td>6</td>\n",
              "    </tr>\n",
              "    <tr>\n",
              "      <th>16</th>\n",
              "      <td>True</td>\n",
              "      <td>Адвокат задал свидетелю вопрос, но не захотел его повторить.</td>\n",
              "      <td>Адвокат</td>\n",
              "      <td>не захотел</td>\n",
              "      <td>0</td>\n",
              "      <td>5</td>\n",
              "    </tr>\n",
              "    <tr>\n",
              "      <th>17</th>\n",
              "      <td>False</td>\n",
              "      <td>Адвокат задал свидетелю вопрос, но не захотел его повторить.</td>\n",
              "      <td>свидетелю</td>\n",
              "      <td>не захотел</td>\n",
              "      <td>2</td>\n",
              "      <td>5</td>\n",
              "    </tr>\n",
              "    <tr>\n",
              "      <th>18</th>\n",
              "      <td>False</td>\n",
              "      <td>Адвокат задал свидетелю вопрос, но тот не смог ему на него ответить.</td>\n",
              "      <td>Адвокат</td>\n",
              "      <td>не смог</td>\n",
              "      <td>0</td>\n",
              "      <td>6</td>\n",
              "    </tr>\n",
              "    <tr>\n",
              "      <th>19</th>\n",
              "      <td>True</td>\n",
              "      <td>Адвокат задал свидетелю вопрос, но тот не смог ему на него ответить.</td>\n",
              "      <td>свидетелю</td>\n",
              "      <td>не смог</td>\n",
              "      <td>2</td>\n",
              "      <td>6</td>\n",
              "    </tr>\n",
              "  </tbody>\n",
              "</table>\n",
              "</div>"
            ],
            "text/plain": [
              "    label  ... target.span2_index\n",
              "10  False  ...                  6\n",
              "11   True  ...                  6\n",
              "12   True  ...                  6\n",
              "13  False  ...                  6\n",
              "14  False  ...                  6\n",
              "15   True  ...                  6\n",
              "16   True  ...                  5\n",
              "17  False  ...                  5\n",
              "18  False  ...                  6\n",
              "19   True  ...                  6\n",
              "\n",
              "[10 rows x 6 columns]"
            ]
          },
          "metadata": {
            "tags": []
          },
          "execution_count": 21
        }
      ]
    }
  ]
}