{
  "nbformat": 4,
  "nbformat_minor": 0,
  "metadata": {
    "colab": {
      "name": "RSG_RWSD",
      "provenance": [],
      "collapsed_sections": [],
      "authorship_tag": "ABX9TyOWs9ik3g0rBuiKuYR46JEV",
      "include_colab_link": true
    },
    "kernelspec": {
      "name": "python3",
      "display_name": "Python 3"
    }
  },
  "cells": [
    {
      "cell_type": "markdown",
      "metadata": {
        "id": "view-in-github",
        "colab_type": "text"
      },
      "source": [
        "<a href=\"https://colab.research.google.com/github/tatiana-iazykova/2020_HACK_RUSSIANSUPERGLUE/blob/main/RSG_RWSD.ipynb\" target=\"_parent\"><img src=\"https://colab.research.google.com/assets/colab-badge.svg\" alt=\"Open In Colab\"/></a>"
      ]
    },
    {
      "cell_type": "markdown",
      "metadata": {
        "id": "d4JcE9Kd_sSa"
      },
      "source": [
        "# Load Data"
      ]
    },
    {
      "cell_type": "code",
      "metadata": {
        "id": "RsL57-5kTLgJ"
      },
      "source": [
        "%%capture\r\n",
        "%%bash\r\n",
        "# change url if you want to work with a different RSG dataset\r\n",
        "wget -q --show-progress \"https://russiansuperglue.com/tasks/download/RWSD\" -O temp.zip\r\n",
        "unzip temp.zip -d data\r\n",
        "\r\n",
        "# remove unnecessary directories and files\r\n",
        "rm temp.zip\r\n",
        "rm -r data/__MACOSX\r\n",
        "rm -r sample_data/\r\n",
        "\r\n",
        "# English counterpart of RWSD: The Winograd Schema Challenge\r\n",
        "%%capture\r\n",
        "%%bash\r\n",
        "# change url if you want to work with a different RSG dataset\r\n",
        "wget -q --show-progress \"https://dl.fbaipublicfiles.com/glue/superglue/data/v2/WSC.zip\" -O temp.zip\r\n",
        "unzip temp.zip -d data\r\n",
        "\r\n",
        "# remove unnecessary directories and files\r\n",
        "rm temp.zip"
      ],
      "execution_count": 1,
      "outputs": []
    },
    {
      "cell_type": "code",
      "metadata": {
        "id": "o3UKQ7VuIyI0"
      },
      "source": [
        "# Load necessary code files and models from https://github.com/RussianNLP/RussianSuperGLUE \r\n",
        "# to recreate TfIdf baseline\r\n",
        "\r\n",
        "%%capture\r\n",
        "%%bash\r\n",
        "# load tfidf pickle created by RSG team\r\n",
        "wget -q --show-progress \"https://russiansuperglue.com/tasks/tf_idf\" -O temp.zip\r\n",
        "unzip temp.zip -d data\r\n",
        "rm temp.zip\r\n",
        "\r\n",
        "# Make sure you donwload with the raw file link\r\n",
        "# Keep the link relevant to your dataset\r\n",
        "wget -q --show-progress \"https://github.com/RussianNLP/RussianSuperGLUE/raw/master/tfidf_baseline/RWSD.py\" -O RWSD.py"
      ],
      "execution_count": 66,
      "outputs": []
    },
    {
      "cell_type": "code",
      "metadata": {
        "id": "XAlP91w3_nBf"
      },
      "source": [
        "%%capture\r\n",
        "%%bash\r\n",
        "# add tree package for fancy directory display\r\n",
        "apt-get install tree"
      ],
      "execution_count": 3,
      "outputs": []
    },
    {
      "cell_type": "code",
      "metadata": {
        "colab": {
          "base_uri": "https://localhost:8080/"
        },
        "id": "avzmbfyO_q5G",
        "outputId": "f7573e4e-c7e0-4ba8-8e73-62fa8f014e66"
      },
      "source": [
        "# display the content of the folder\r\n",
        "!tree"
      ],
      "execution_count": 69,
      "outputs": [
        {
          "output_type": "stream",
          "text": [
            ".\n",
            "├── data\n",
            "│   ├── RWSD\n",
            "│   │   ├── test.jsonl\n",
            "│   │   ├── train.jsonl\n",
            "│   │   └── val.jsonl\n",
            "│   ├── tfidf.pkl\n",
            "│   └── WSC\n",
            "│       ├── test.jsonl\n",
            "│       ├── train.jsonl\n",
            "│       └── val.jsonl\n",
            "└── RWSD.py\n",
            "\n",
            "3 directories, 8 files\n"
          ],
          "name": "stdout"
        }
      ]
    },
    {
      "cell_type": "code",
      "metadata": {
        "id": "GorSKv_7_xGB"
      },
      "source": [
        "import pandas as pd\r\n",
        "import json\r\n",
        "pd.set_option('display.max_colwidth', None)\r\n",
        "pd.set_option('display.max_rows', 80)\r\n",
        "\r\n",
        "class JSONL_handler():\r\n",
        "    \"\"\" opens a jsonl file and turns it into a necessary data structure \"\"\"\r\n",
        "    \r\n",
        "    def __init__(self, path):\r\n",
        "        self.path = path # path to jsonl file\r\n",
        "\r\n",
        "    def to_pandas(self):\r\n",
        "        \"\"\" get jsonl file content as a pandas DataFrame\"\"\"\r\n",
        "\r\n",
        "        data = self.read_jsonlines()\r\n",
        "\r\n",
        "        return pd.json_normalize(data).drop(columns=['idx'])\r\n",
        "\r\n",
        "    \r\n",
        "    def read_jsonlines(self):\r\n",
        "        \"\"\" yields json lines one by one \"\"\"\r\n",
        "        data = []\r\n",
        "        with open(self.path) as f:\r\n",
        "            for line in f:\r\n",
        "                data.append(json.loads(line))\r\n",
        "\r\n",
        "        return data"
      ],
      "execution_count": 5,
      "outputs": []
    },
    {
      "cell_type": "markdown",
      "metadata": {
        "id": "o2-doB00_24h"
      },
      "source": [
        "# Explore Train and Val Data"
      ]
    },
    {
      "cell_type": "code",
      "metadata": {
        "id": "YzxJ2uJK_7Rn"
      },
      "source": [
        "# train dataset\r\n",
        "handler = JSONL_handler('data/RWSD/train.jsonl')\r\n",
        "df = handler.to_pandas()\r\n",
        "handler_en = JSONL_handler('data/WCS/train.jsonl')\r\n",
        "df_en = handler.to_pandas()\r\n",
        "\r\n",
        "# val dataset\r\n",
        "val_handler = JSONL_handler('data/RWSD/val.jsonl')\r\n",
        "val_df = val_handler.to_pandas()\r\n",
        "val_handler_en = JSONL_handler('data/WSC/val.jsonl')\r\n",
        "val_df_en = val_handler_en.to_pandas()"
      ],
      "execution_count": 9,
      "outputs": []
    },
    {
      "cell_type": "code",
      "metadata": {
        "colab": {
          "base_uri": "https://localhost:8080/",
          "height": 279
        },
        "id": "h-cquA8dS39A",
        "outputId": "de50f8c0-24e8-4b63-b220-9c390c8946cf"
      },
      "source": [
        "df.head()"
      ],
      "execution_count": 10,
      "outputs": [
        {
          "output_type": "execute_result",
          "data": {
            "text/html": [
              "<div>\n",
              "<style scoped>\n",
              "    .dataframe tbody tr th:only-of-type {\n",
              "        vertical-align: middle;\n",
              "    }\n",
              "\n",
              "    .dataframe tbody tr th {\n",
              "        vertical-align: top;\n",
              "    }\n",
              "\n",
              "    .dataframe thead th {\n",
              "        text-align: right;\n",
              "    }\n",
              "</style>\n",
              "<table border=\"1\" class=\"dataframe\">\n",
              "  <thead>\n",
              "    <tr style=\"text-align: right;\">\n",
              "      <th></th>\n",
              "      <th>label</th>\n",
              "      <th>text</th>\n",
              "      <th>target.span1_text</th>\n",
              "      <th>target.span2_text</th>\n",
              "      <th>target.span1_index</th>\n",
              "      <th>target.span2_index</th>\n",
              "    </tr>\n",
              "  </thead>\n",
              "  <tbody>\n",
              "    <tr>\n",
              "      <th>0</th>\n",
              "      <td>True</td>\n",
              "      <td>Члены городского совета отказали организаторам митинга в разрешении, потому что они опасались насилия.</td>\n",
              "      <td>Члены городского совета</td>\n",
              "      <td>они опасались</td>\n",
              "      <td>0</td>\n",
              "      <td>10</td>\n",
              "    </tr>\n",
              "    <tr>\n",
              "      <th>1</th>\n",
              "      <td>False</td>\n",
              "      <td>Члены городского совета отказали организаторам митинга в разрешении, потому что они опасались насилия.</td>\n",
              "      <td>организаторам митинга</td>\n",
              "      <td>они опасались</td>\n",
              "      <td>4</td>\n",
              "      <td>10</td>\n",
              "    </tr>\n",
              "    <tr>\n",
              "      <th>2</th>\n",
              "      <td>False</td>\n",
              "      <td>Члены городского совета отказали организаторам митинга в разрешении, потому что они одобряли насилие.</td>\n",
              "      <td>Члены городского совета</td>\n",
              "      <td>они одобряли</td>\n",
              "      <td>0</td>\n",
              "      <td>10</td>\n",
              "    </tr>\n",
              "    <tr>\n",
              "      <th>3</th>\n",
              "      <td>True</td>\n",
              "      <td>Члены городского совета отказали организаторам митинга в разрешении, потому что они одобряли насилие.</td>\n",
              "      <td>организаторам митинга</td>\n",
              "      <td>они одобряли</td>\n",
              "      <td>4</td>\n",
              "      <td>10</td>\n",
              "    </tr>\n",
              "    <tr>\n",
              "      <th>4</th>\n",
              "      <td>True</td>\n",
              "      <td>Кубок не помещается в коричневый чемодан, потому что он слишком большой.</td>\n",
              "      <td>Кубок</td>\n",
              "      <td>он слишком большой</td>\n",
              "      <td>0</td>\n",
              "      <td>8</td>\n",
              "    </tr>\n",
              "  </tbody>\n",
              "</table>\n",
              "</div>"
            ],
            "text/plain": [
              "   label  ... target.span2_index\n",
              "0   True  ...                 10\n",
              "1  False  ...                 10\n",
              "2  False  ...                 10\n",
              "3   True  ...                 10\n",
              "4   True  ...                  8\n",
              "\n",
              "[5 rows x 6 columns]"
            ]
          },
          "metadata": {
            "tags": []
          },
          "execution_count": 10
        }
      ]
    },
    {
      "cell_type": "code",
      "metadata": {
        "id": "TlNc8eA1xDuz"
      },
      "source": [
        "import matplotlib.pyplot as plt"
      ],
      "execution_count": 11,
      "outputs": []
    },
    {
      "cell_type": "code",
      "metadata": {
        "id": "-eX9_XMHCvwK",
        "colab": {
          "base_uri": "https://localhost:8080/",
          "height": 499
        },
        "outputId": "8d70ff3c-0ca7-48b6-cfca-e1b5d67f99b7"
      },
      "source": [
        "colours = {'#9ddca6', '#f0afb6', '#eeb87c'}\r\n",
        "\r\n",
        "fig, axs = plt.subplots(2, 2, figsize=(7,7))\r\n",
        "fig.suptitle('Label distribution for RWSD train and val in RSG and SG',\r\n",
        "             fontsize=14)\r\n",
        "\r\n",
        "axs[0, 0].pie(df_en['label'].value_counts(), autopct=\"%.1f%%\",\r\n",
        "              explode=[0.05]*2, labels=df_en['label'].value_counts().keys(),\r\n",
        "              pctdistance=0.5, textprops = dict(fontsize = 12), colors=colours)\r\n",
        "axs[0, 0].set_title('Train in SG\\n', fontsize=12)\r\n",
        "\r\n",
        "axs[0, 1].pie(df['label'].value_counts(), autopct=\"%.1f%%\",\r\n",
        "              explode=[0.05]*2, labels=df['label'].value_counts().keys(),\r\n",
        "              pctdistance=0.5, textprops = dict(fontsize = 12), colors=colours)\r\n",
        "axs[0, 1].set_title('Train in RSG\\n', fontsize=12)\r\n",
        "\r\n",
        "axs[1, 0].pie(val_df_en['label'].value_counts(),\r\n",
        "              autopct=\"%.1f%%\", explode=[0.05]*2,\r\n",
        "              labels=val_df_en['label'].value_counts().keys(),\r\n",
        "              pctdistance=0.5, textprops = dict(fontsize = 12), colors=colours)\r\n",
        "axs[1, 0].set_title('Val in SG\\n', fontsize=12)\r\n",
        "\r\n",
        "axs[1, 1].pie(val_df['label'].value_counts(),\r\n",
        "              autopct=\"%.1f%%\", explode=[0.05]*2,\r\n",
        "              labels=val_df['label'].value_counts().keys(),\r\n",
        "              pctdistance=0.5, textprops = dict(fontsize = 12), colors=colours)\r\n",
        "axs[1, 1].set_title('Val in RSG\\n', fontsize=12)\r\n",
        "\r\n",
        "plt.tight_layout(rect=[0, 0.03, 1, 0.95])\r\n",
        "plt.show()"
      ],
      "execution_count": 35,
      "outputs": [
        {
          "output_type": "display_data",
          "data": {
            "image/png": "[encoded data removed]",
            "text/plain": [
              "<Figure size 504x504 with 4 Axes>"
            ]
          },
          "metadata": {
            "tags": []
          }
        }
      ]
    },
    {
      "cell_type": "code",
      "metadata": {
        "colab": {
          "base_uri": "https://localhost:8080/",
          "height": 377
        },
        "id": "FZ7IG8RWMB5i",
        "outputId": "89a4e2e7-ca84-4eb2-8f14-9df00114768d"
      },
      "source": [
        "df.iloc[10:20]"
      ],
      "execution_count": null,
      "outputs": [
        {
          "output_type": "execute_result",
          "data": {
            "text/html": [
              "<div>\n",
              "<style scoped>\n",
              "    .dataframe tbody tr th:only-of-type {\n",
              "        vertical-align: middle;\n",
              "    }\n",
              "\n",
              "    .dataframe tbody tr th {\n",
              "        vertical-align: top;\n",
              "    }\n",
              "\n",
              "    .dataframe thead th {\n",
              "        text-align: right;\n",
              "    }\n",
              "</style>\n",
              "<table border=\"1\" class=\"dataframe\">\n",
              "  <thead>\n",
              "    <tr style=\"text-align: right;\">\n",
              "      <th></th>\n",
              "      <th>label</th>\n",
              "      <th>text</th>\n",
              "      <th>target.span1_text</th>\n",
              "      <th>target.span2_text</th>\n",
              "      <th>target.span1_index</th>\n",
              "      <th>target.span2_index</th>\n",
              "    </tr>\n",
              "  </thead>\n",
              "  <tbody>\n",
              "    <tr>\n",
              "      <th>10</th>\n",
              "      <td>False</td>\n",
              "      <td>Женя поблагодарила Сашу за помощь, которую она оказала.</td>\n",
              "      <td>Женя</td>\n",
              "      <td>она оказала</td>\n",
              "      <td>0</td>\n",
              "      <td>6</td>\n",
              "    </tr>\n",
              "    <tr>\n",
              "      <th>11</th>\n",
              "      <td>True</td>\n",
              "      <td>Женя поблагодарила Сашу за помощь, которую она оказала.</td>\n",
              "      <td>Сашу</td>\n",
              "      <td>она оказала</td>\n",
              "      <td>2</td>\n",
              "      <td>6</td>\n",
              "    </tr>\n",
              "    <tr>\n",
              "      <th>12</th>\n",
              "      <td>True</td>\n",
              "      <td>Павел звонил Георгию по телефону, но он не дозвонился.</td>\n",
              "      <td>Павел</td>\n",
              "      <td>он не дозвонился</td>\n",
              "      <td>0</td>\n",
              "      <td>6</td>\n",
              "    </tr>\n",
              "    <tr>\n",
              "      <th>13</th>\n",
              "      <td>False</td>\n",
              "      <td>Павел звонил Георгию по телефону, но он не дозвонился.</td>\n",
              "      <td>Георгию</td>\n",
              "      <td>он не дозвонился</td>\n",
              "      <td>2</td>\n",
              "      <td>6</td>\n",
              "    </tr>\n",
              "    <tr>\n",
              "      <th>14</th>\n",
              "      <td>False</td>\n",
              "      <td>Павел звонил Георгию по телефону, но он не ответил.</td>\n",
              "      <td>Павел</td>\n",
              "      <td>он не ответил</td>\n",
              "      <td>0</td>\n",
              "      <td>6</td>\n",
              "    </tr>\n",
              "    <tr>\n",
              "      <th>15</th>\n",
              "      <td>True</td>\n",
              "      <td>Павел звонил Георгию по телефону, но он не ответил.</td>\n",
              "      <td>Георгию</td>\n",
              "      <td>он не ответил</td>\n",
              "      <td>2</td>\n",
              "      <td>6</td>\n",
              "    </tr>\n",
              "    <tr>\n",
              "      <th>16</th>\n",
              "      <td>True</td>\n",
              "      <td>Адвокат задал свидетелю вопрос, но не захотел его повторить.</td>\n",
              "      <td>Адвокат</td>\n",
              "      <td>не захотел</td>\n",
              "      <td>0</td>\n",
              "      <td>5</td>\n",
              "    </tr>\n",
              "    <tr>\n",
              "      <th>17</th>\n",
              "      <td>False</td>\n",
              "      <td>Адвокат задал свидетелю вопрос, но не захотел его повторить.</td>\n",
              "      <td>свидетелю</td>\n",
              "      <td>не захотел</td>\n",
              "      <td>2</td>\n",
              "      <td>5</td>\n",
              "    </tr>\n",
              "    <tr>\n",
              "      <th>18</th>\n",
              "      <td>False</td>\n",
              "      <td>Адвокат задал свидетелю вопрос, но тот не смог ему на него ответить.</td>\n",
              "      <td>Адвокат</td>\n",
              "      <td>не смог</td>\n",
              "      <td>0</td>\n",
              "      <td>6</td>\n",
              "    </tr>\n",
              "    <tr>\n",
              "      <th>19</th>\n",
              "      <td>True</td>\n",
              "      <td>Адвокат задал свидетелю вопрос, но тот не смог ему на него ответить.</td>\n",
              "      <td>свидетелю</td>\n",
              "      <td>не смог</td>\n",
              "      <td>2</td>\n",
              "      <td>6</td>\n",
              "    </tr>\n",
              "  </tbody>\n",
              "</table>\n",
              "</div>"
            ],
            "text/plain": [
              "    label  ... target.span2_index\n",
              "10  False  ...                  6\n",
              "11   True  ...                  6\n",
              "12   True  ...                  6\n",
              "13  False  ...                  6\n",
              "14  False  ...                  6\n",
              "15   True  ...                  6\n",
              "16   True  ...                  5\n",
              "17  False  ...                  5\n",
              "18  False  ...                  6\n",
              "19   True  ...                  6\n",
              "\n",
              "[10 rows x 6 columns]"
            ]
          },
          "metadata": {
            "tags": []
          },
          "execution_count": 21
        }
      ]
    },
    {
      "cell_type": "markdown",
      "metadata": {
        "id": "o7EQxZ3kLdTA"
      },
      "source": [
        "# Reproduce TfIdf baseline"
      ]
    },
    {
      "cell_type": "code",
      "metadata": {
        "id": "y6wwxq0hVJ73"
      },
      "source": [
        "from RWSD import eval_RWSD"
      ],
      "execution_count": 70,
      "outputs": []
    }
  ]
}